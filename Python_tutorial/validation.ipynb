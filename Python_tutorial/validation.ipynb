{
 "cells": [
  {
   "cell_type": "code",
   "execution_count": null,
   "metadata": {},
   "outputs": [],
   "source": [
    "from tensorflow import keras\n",
    "import tensorflow as tf\n",
    "model = keras.models.load_model('model.h5')\n",
    "# if used same model file, the mappings will remain same\n",
    "mappings = ['Trial_113', 'Trial_116', 'Trial_117', 'trial_111', 'trial_115']\n",
    "ddf = pd.read_csv('test.csv')\n",
    "# taking first 1000 entries from file\n",
    "x = np.array(ddf['vibrations'][:1000])\n",
    "x = tf.expand_dims(x, 0)\n",
    "out = np.array(model.predict(x))\n",
    "out = np.where(out==np.max(out))\n",
    "print(mappings[out[0][0]])\n",
    "\n",
    "tk.Label(root, text='File Path').grid(row=0, column=0)\n",
    "v = tk.StringVar()\n",
    "entry = tk.Entry(root, textvariable=v).grid(row=0, column=1)\n",
    "tk.Button(root, text='Browse Data Set',command=import_csv_data).grid(row=1, column=0)\n",
    "tk.Button(root, text='Close',command=root.destroy).grid(row=1, column=1)"
   ]
  },
  {
   "cell_type": "code",
   "execution_count": 6,
   "metadata": {},
   "outputs": [],
   "source": [
    "import tkinter as tk\n",
    "from tkinter.filedialog import askopenfile\n",
    "from tkinter import filedialog\n",
    "base = tk.Tk()\n",
    "\n",
    "base.geometry('150x150')\n",
    "base.filename = filedialog.askopenfilename(initialdir=\"/\", title=\"Select a File\")"
   ]
  },
  {
   "cell_type": "code",
   "execution_count": 3,
   "metadata": {},
   "outputs": [],
   "source": [
    "import tkinter as tk\n",
    "from tkinter.filedialog import askopenfile\n",
    "base = tk.Tk()\n",
    "\n",
    "base.geometry('150x150')\n",
    "base.filename = filedialog.askopenfilename(initialdir=\"/\", title=\"Select a File\", filetypes=((\"csv files\",\"*.csv\")))\n",
    "def import_csv_data():\n",
    "    global v\n",
    "    input = askopenfile(initialdir=\"/\")\n",
    "    csv_file = filedialog.askopenfile(initialdir=\"/\")\n",
    "     ##print(csv_file_path)\n",
    "    v.set(csv_file_path)\n",
    "    df = pd.read_csv(csv_file_path)\n",
    "    return df\n",
    "y = tk.Button(base, text =\"Select a .txt/.csv file\", command = lambda:import_csv_data())\n",
    "\n",
    "def calculation(y):\n",
    "    from tensorflow import keras\n",
    "    import tensorflow as tf\n",
    "    model = keras.models.load_model('model.h5')\n",
    "    mappings = ['Trial_113', 'Trial_116', 'Trial_117', 'trial_111', 'trial_115']\n",
    "    ddf = y\n",
    "    x = np.array(ddf['vibrations'][:1000])\n",
    "    x = tf.expand_dims(x, 0)\n",
    "    out = np.array(model.predict(x))\n",
    "    out = np.where(out==np.max(out))\n",
    "    ##print(mappings[out[0][0]])  \n",
    "    label['text'] = mappings[out[0][0]]\n",
    "base = tk.Frame(root, bg='black')\n",
    "base.place(relheight=1, relwidth=1)\n",
    "result_label = tk.Label(frame, text=\"Tool condition\", fg='white', bg='black')\n",
    "result_label.place(relx='0.1', rely='0.60')\n",
    "\n",
    "label = tk.Label(frame, bg='black', fg='red')\n",
    "label.place(relx='0.4', rely='0.60')\n",
    "result_button = tk.Button(frame, text=\"Find the tool condition\", command=lambda: calculation(y))\n",
    "result_button.place(relx='0.5', rely='0.8', anchor='n')\n",
    "\n",
    "base.mainloop()"
   ]
  },
  {
   "cell_type": "code",
   "execution_count": null,
   "metadata": {},
   "outputs": [],
   "source": []
  }
 ],
 "metadata": {
  "kernelspec": {
   "display_name": "Python 3",
   "language": "python",
   "name": "python3"
  },
  "language_info": {
   "codemirror_mode": {
    "name": "ipython",
    "version": 3
   },
   "file_extension": ".py",
   "mimetype": "text/x-python",
   "name": "python",
   "nbconvert_exporter": "python",
   "pygments_lexer": "ipython3",
   "version": "3.8.5"
  }
 },
 "nbformat": 4,
 "nbformat_minor": 4
}
