{
 "cells": [
  {
   "cell_type": "markdown",
   "metadata": {},
   "source": [
    "# ASSIGNMENT_7"
   ]
  },
  {
   "cell_type": "code",
   "execution_count": 1,
   "metadata": {},
   "outputs": [],
   "source": [
    "#1.\tWrite a program that reads a file and calculate the number of letters and digits?\n"
   ]
  },
  {
   "cell_type": "code",
   "execution_count": 10,
   "metadata": {},
   "outputs": [
    {
     "name": "stdout",
     "output_type": "stream",
     "text": [
      "No. of Letters: 3202\n",
      "No. of digits: 216\n"
     ]
    }
   ],
   "source": [
    "alphabets_count = 0\n",
    "digits_count = 0\n",
    "with open(r'C:\\Users\\abulf\\Downloads\\gtool.txt') as f:\n",
    "    a = f.readlines()\n",
    "    for i in str(a):\n",
    "        if i.isalpha():\n",
    "            alphabets_count += 1\n",
    "        elif i.isdigit():\n",
    "            digits_count +=1\n",
    "print(f\"No. of Letters: {alphabets_count}\", )\n",
    "print(f\"No. of digits: {digits_count}\", )            "
   ]
  },
  {
   "cell_type": "code",
   "execution_count": 11,
   "metadata": {},
   "outputs": [],
   "source": [
    "#2.\tWrite a program for a login system that takes username and password from the user. Save the username, password and profile details in a yaml file on sign up and then read the same file for sign in? \n",
    "#(Note: Add proper validations and try to design a scalable model in yaml file)."
   ]
  },
  {
   "cell_type": "code",
   "execution_count": 7,
   "metadata": {},
   "outputs": [
    {
     "name": "stdout",
     "output_type": "stream",
     "text": [
      "For sighnup enter A else B\n",
      "A\n",
      "Enter username: Fahad@\n",
      "Enter password: awa\n",
      "Enter name: Fahad\n",
      "Enter phone number: 79854\n",
      "Account created succesfully\n"
     ]
    }
   ],
   "source": [
    "from yaml import Loader\n",
    "import yaml\n",
    "def sign_up():\n",
    "    username = input(\"Enter username: \")\n",
    "    with open(\"Userdata.yaml\", mode=\"r+\") as file:\n",
    "        data = yaml.load(file, Loader)\n",
    "        if data and username == data.get(\"Username\"):\n",
    "            return print(\"Account with this username already exists\")\n",
    "        else:\n",
    "            password = input(\"Enter password: \")\n",
    "            name = input(\"Enter name: \")\n",
    "            phone_no = input(\"Enter phone number: \")\n",
    "            dic = {}\n",
    "            dic[\"Username\"] = username\n",
    "            dic[\"Password\"] = password\n",
    "            dic[\"Name\"] = name\n",
    "            dic[\"Phone_no.\"] = phone_no \n",
    "            result = yaml.dump(dic, file, default_flow_style=False)\n",
    "            #print(result)\n",
    "                #file.seek(0)\n",
    "            return print(\"Account created succesfully\")\n",
    "        \n",
    "def sign_in():\n",
    "    username = input(\"Enter username: \")\n",
    "    password = input(\"Enter password: \")\n",
    "    with open(\"Userdata.yaml\", mode=\"r\") as file:\n",
    "        data = yaml.load(file, Loader)\n",
    "        print(data)\n",
    "        if data and username == data.get(\"Username\"):\n",
    "            if password == data.get(\"Password\"):\n",
    "                return print(\"Logged in successfully\")\n",
    "            else:\n",
    "                return print(\"Incorrect password\")\n",
    "        elif data is None:\n",
    "            return print(\"Please signup\")\n",
    "        else:\n",
    "            return print(\"Incorrect username\")\n",
    "\n",
    "\n",
    "print(\"For sighnup enter A else B\")\n",
    "choice = input()\n",
    "if choice == 'A':\n",
    "    sign_up()\n",
    "elif choice == 'B':\n",
    "    sign_in()\n",
    "else:\n",
    "    print(\"please enter correct choice\")\n",
    "\n"
   ]
  },
  {
   "cell_type": "code",
   "execution_count": null,
   "metadata": {},
   "outputs": [],
   "source": [
    "#3.\tWrite a program to dump a dictionary to a json file and then load the json file to another dictionary?"
   ]
  },
  {
   "cell_type": "code",
   "execution_count": null,
   "metadata": {},
   "outputs": [],
   "source": [
    "import json as js\n",
    "\n",
    "details = {'Email':'Fahad@gmail.com', 'Phone_no.':93730}\n",
    "Dic = {}\n",
    "with open('json_file.json', 'w') as f:\n",
    "    js.dump(details, f)\n",
    "\n",
    "with open('json_file.json', 'r') as f:\n",
    "    Dic = js.load(f)\n",
    "    print(Dic)"
   ]
  },
  {
   "cell_type": "code",
   "execution_count": null,
   "metadata": {},
   "outputs": [],
   "source": [
    "#4.\tWrite a program to create a class which performs Basic Calculator Operations."
   ]
  },
  {
   "cell_type": "code",
   "execution_count": 2,
   "metadata": {},
   "outputs": [
    {
     "name": "stdout",
     "output_type": "stream",
     "text": [
      "1 - Addition\n",
      "2 - Mutiplication\n",
      "3 - Division\n",
      "4 - Substraction\n",
      "5 - Remainder\n",
      "6 - Exponential\n",
      "0 - None\n",
      "Enter the number from above options:6\n",
      "Enter number 1: 55\n",
      "Enter number 2: .4\n",
      "4.967582355122337\n",
      "Enter the number from above options:0\n"
     ]
    }
   ],
   "source": [
    "class Calculator:\n",
    "    def __init__(self):\n",
    "        self.num1 = 0\n",
    "        self.num2 = 0\n",
    "\n",
    "    def add(self, num1, num2):\n",
    "        self.num1 = num1\n",
    "        self.num2 = num2\n",
    "        return self.num1 + self.num2\n",
    "\n",
    "    def multiply(self, num1, num2):\n",
    "        self.num1 = num1\n",
    "        self.num2 = num2\n",
    "        return self.num1 * self.num2\n",
    "    \n",
    "    def divide(self, num1, num2):\n",
    "        self.num1 = num1\n",
    "        self.num2 = num2\n",
    "        try:\n",
    "            return self.num1 / self.num2\n",
    "        except Exception as e:\n",
    "            return e\n",
    "\n",
    "    def subtract(self, num1, num2):\n",
    "        self.num1 = num1\n",
    "        self.num2 = num2\n",
    "        return self.num1 - self.num2\n",
    "\n",
    "    def remainder(self, num1, num2):\n",
    "        self.num1 = num1\n",
    "        self.num2 = num2\n",
    "        try:\n",
    "            return self.num1 % self.num2\n",
    "        except Exception as e:\n",
    "            return e\n",
    "        \n",
    "    def exponential(self, num1, num2):\n",
    "        self.num1 = num1\n",
    "        self.num2 = num2\n",
    "        return self.num1 ** self.num2\n",
    "print(\"1 - Addition\")\n",
    "print(\"2 - Mutiplication\")\n",
    "print(\"3 - Division\")\n",
    "print(\"4 - Substraction\")\n",
    "print(\"5 - Remainder\")\n",
    "print(\"6 - Exponential\")\n",
    "print(\"0 - None\")\n",
    "flag = 1\n",
    "obj = Calculator()\n",
    "class Invalid_Choice_Exception(Exception):\n",
    "    def __init__(self, choice):\n",
    "        self.choice = choice\n",
    "\n",
    "    def __str__(self):\n",
    "        return f\"{self.choice} is not a valid choice\"\n",
    "import sys\n",
    "while flag != 0:\n",
    "    try:\n",
    "        choice = int(input(\"Enter the number from above options:\"))\n",
    "    except Exception as e:\n",
    "        print(e)\n",
    "        sys.exit()\n",
    "    if choice == 1:\n",
    "        num1 = float(input(\"Enter number 1: \"))\n",
    "        num2 = float(input(\"Enter number 2: \"))\n",
    "        print(obj.add(num1, num2))\n",
    "    elif choice == 2:\n",
    "        num1 = float(input(\"Enter number 1: \"))\n",
    "        num2 = float(input(\"Enter number 2: \"))\n",
    "        print(obj.multiply(num1, num2))\n",
    "    elif choice == 3:\n",
    "        num1 = float(input(\"Enter number 1: \"))\n",
    "        num2 = float(input(\"Enter number 2: \"))\n",
    "        print(obj.divide(num1, num2))\n",
    "    elif choice == 4:\n",
    "        num1 = float(input(\"Enter number 1: \"))\n",
    "        num2 = float(input(\"Enter number 2: \"))\n",
    "        print(obj.subtract(num1, num2))\n",
    "    elif choice == 5:\n",
    "        num1 = int(input(\"Enter number 1: \"))\n",
    "        num2 = int(input(\"Enter number 2: \"))\n",
    "        print(obj.remainder(num1, num2))\n",
    "    elif choice == 6:\n",
    "        num1 = float(input(\"Enter number 1: \"))\n",
    "        num2 = float(input(\"Enter number 2: \"))\n",
    "        print(obj.exponential(num1, num2))\n",
    "    elif choice == 0:\n",
    "        flag = 0\n",
    "    else:\n",
    "        result = None\n",
    "        print(result)\n",
    "        raise Invalid_Choice_Exception(choice)"
   ]
  },
  {
   "cell_type": "code",
   "execution_count": 31,
   "metadata": {},
   "outputs": [],
   "source": [
    "#5.\tWrite a program that will merge multiple files into a single file line by line\n",
    "#(Hint: Consider all the corner cases and files can be large in size)?"
   ]
  },
  {
   "cell_type": "code",
   "execution_count": 32,
   "metadata": {},
   "outputs": [],
   "source": [
    "data1 = \"\"\n",
    "data2 = \"\" \n",
    "with open('Important notes made by me fa.txt') as file1:\n",
    "    data1 = file1.read()\n",
    "  \n",
    "with open('TimeStamps.txt') as file2:\n",
    "    data2 = file2.read()\n",
    "    \n",
    "data1 += \"\\n\"\n",
    "data1 += \"\\n\"\n",
    "data1 += data2\n",
    "  \n",
    "with open ('file3.txt', 'w') as fp:\n",
    "    fp.write(data1)"
   ]
  },
  {
   "cell_type": "code",
   "execution_count": 33,
   "metadata": {},
   "outputs": [],
   "source": [
    "#6.\tWrite a program to read a file and capitalize the First Letter of every word in the file?"
   ]
  },
  {
   "cell_type": "code",
   "execution_count": 34,
   "metadata": {},
   "outputs": [
    {
     "name": "stdout",
     "output_type": "stream",
     "text": [
      "Fstring Is Very Helpful In Printing Txt1 = \"my Name Is {fname}, I'm {age}\".format(fname = \"john\", Age = 36) This Is Same As F-string (abbreviation Of F Is Foremat) Use Of 'in' Keyword To Find Any Radical Of Variable We Just Do Like This Num(this Is Variable) Num **.5 So Here We Get Square Root. Map Function: Lamda Function Returns Another Function __cause__ Is The Cause Of The Exception - Due To The Given Exception, The Current Exception Was Raised. This Is A Direct Link - X Threw This Exception, Therefore Y Has To Throw This Exception. __context__ On The Other Hand Means That The Current Exception Was Raised While Trying To Handle Another Exception, And Defines The Exception That Was Being Handled At The Time This One Was Raised. This Is So That You Don't Lose The Fact That The Other Exceptions Happened (and Hence Were At This Code To Throw The Exception) - The Context. X Threw This Exception, While Handling It, Y Was Also Thrown. __traceback__ Shows You The Stack - The Various Levels Of Functions That Have Been Followed To Get To The Current Line Of Code. This Allows You To Pinpoint What Caused The Exception. It Is Likely To Be Used (potentially In Tandem With __context__) To Find What Caused A Given Bug. ## Difference Between Package And Directory An Interesting Consequence Of The Package Specification Mechanism Is That Files That Are Part Of The Same Package Can Exist In Different Directories. The Package Name Is The Same For Each Class, But The Path To Each File Might Start From A Different Directory In The Class Path Imp Note: {{we Can Do Typecasting Using Map. In The Following Example, We Construct 4x3 Matrix From The User Input: For _ In Range(4): Arr.append(list(map(int, Input().rstrip().split()))) Print(arr) With An Input From The User: 1 2 3 4 5 6 7 8 9 10 11 12 We Get A 4x3 Integer Array: [[1, 2, 3], [4, 5, 6], [7, 8, 9], [10, 11, 12]]}} Chapter 0 - Introduction: 15:13:00 Chapter 1 - Modules, Comments & Pip: 14:17:05 Chapter 1 - Practice Set: 33:10:02 Chapter 2 - Variables & Datatypes: 44:35:25 Chapter 2 - Practice Set: 01:25:10 Chapter 3 - Strings: 01:39:10 Chapter 3 - Practice Set: 02:16:56 Chapter 4 - Lists & Tuples: 02:35:04 Chapter 4 - Practice Set: 03:07:10 Chapter 5 - Dictionary & Sets: 03:20:12 Chapter 5 - Practice Set: 03:57:25 Chapter 6 - Condtional Expressions: 04:19:21 Chapter 6 - Practice Set: 04:48:53 Chapter 7 - Loops In Python: 05:14:34 Chapter 7 - Practice Set: 05:45:11 Chapter 8 - Functions & Recursion: 07:07:35 Chapter 8 - Practice Set: 06:36:28 Project 1 - Snake, Water, Gun Game: 06:52:30 Chapter 9 - File I/o: 07:06:55 Chapter 9 - Practice Set: 07:28:11 Chapter 10 - Object Oriented Programming: 08:08:38 Chapter 10 - Practice Set: 09:17:22 Chapter 11 - Inheritance: 09:48:30 Chapter 11 - Practice Set: 10:55:24 Project 2 - The Perfect Guess 11:37:01 Chapter 12 - Advanced Python 1: 11:51:21 Chapter 12 - Practice Set: 12:46:21 Chapter 13 - Advanced Python 2: 13:05:02 Chapter 13 - Practice Set: 14:00:58 Project 3 - Library Management System: 14:27:38\n"
     ]
    }
   ],
   "source": [
    "\n",
    "result = \"\"    \n",
    "with open('file3.txt', 'r+') as f:\n",
    "    data = f.read()\n",
    "    list_of_words = data.split()\n",
    "    for elem in list_of_words:\n",
    "        if len(result) > 0:\n",
    "            result = result + \" \" + elem.strip().capitalize()\n",
    "        else:\n",
    "            result = elem.capitalize()\n",
    "    data = result\n",
    "    print(data)\n",
    "    f.seek(0)\n",
    "    f.write(data)"
   ]
  },
  {
   "cell_type": "code",
   "execution_count": 35,
   "metadata": {},
   "outputs": [],
   "source": [
    "#7.\tWrite a program that reads a text file and counts the number of times a certain letter appears in the text file."
   ]
  },
  {
   "cell_type": "code",
   "execution_count": 36,
   "metadata": {},
   "outputs": [
    {
     "name": "stdout",
     "output_type": "stream",
     "text": [
      "Enter the letter to be counted: A\n",
      "171\n"
     ]
    }
   ],
   "source": [
    "letter = input(\"Enter the letter to be counted: \")\n",
    "letter = letter.lower()\n",
    "count = 0\n",
    "with open('file3.txt', 'r') as f:\n",
    "    data = f.read()\n",
    "    data = data.lower()\n",
    "    for a in data:\n",
    "        if a==letter:\n",
    "            count+=1\n",
    "print(count)"
   ]
  },
  {
   "cell_type": "code",
   "execution_count": null,
   "metadata": {},
   "outputs": [],
   "source": []
  },
  {
   "cell_type": "code",
   "execution_count": null,
   "metadata": {},
   "outputs": [],
   "source": []
  },
  {
   "cell_type": "code",
   "execution_count": null,
   "metadata": {},
   "outputs": [],
   "source": []
  }
 ],
 "metadata": {
  "kernelspec": {
   "display_name": "Python 3",
   "language": "python",
   "name": "python3"
  },
  "language_info": {
   "codemirror_mode": {
    "name": "ipython",
    "version": 3
   },
   "file_extension": ".py",
   "mimetype": "text/x-python",
   "name": "python",
   "nbconvert_exporter": "python",
   "pygments_lexer": "ipython3",
   "version": "3.8.5"
  }
 },
 "nbformat": 4,
 "nbformat_minor": 4
}
