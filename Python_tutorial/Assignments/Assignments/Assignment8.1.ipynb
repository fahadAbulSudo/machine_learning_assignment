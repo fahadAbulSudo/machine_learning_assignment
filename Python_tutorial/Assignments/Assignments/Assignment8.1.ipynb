{
 "cells": [
  {
   "cell_type": "markdown",
   "metadata": {},
   "source": [
    "# ASSIGNMENT_8"
   ]
  },
  {
   "cell_type": "code",
   "execution_count": 1,
   "metadata": {},
   "outputs": [],
   "source": [
    "#1.\tProgram to make use of lambda with filter to get the numbers divisible by 11 from the list\n",
    "#Input -  [1,3,4,5,6,7,8,9,22,25,33,34]\n",
    "#Output - [22,33\n"
   ]
  },
  {
   "cell_type": "code",
   "execution_count": 7,
   "metadata": {},
   "outputs": [
    {
     "name": "stdout",
     "output_type": "stream",
     "text": [
      "Enter the number of elements to be added in list: 3\n",
      "1\n",
      "22\n",
      "44\n",
      "[22, 44]\n"
     ]
    }
   ],
   "source": [
    "list1 = []\n",
    "num = int(input(\"Enter the number of elements to be added in list: \"))\n",
    "for i in range(0,num):\n",
    "    val = int(input())\n",
    "    list1.append(val)\n",
    "list2 = list(filter(lambda x : x % 11 == 0, list1))\n",
    "print(list2)"
   ]
  },
  {
   "cell_type": "code",
   "execution_count": 8,
   "metadata": {},
   "outputs": [],
   "source": [
    "#2.\tProgram to make use of lambda with map to get the square of each element of the list\n",
    "#Input -  [1,3,4,5,6]\n",
    "#Output - [1,9,16,25,36]\n"
   ]
  },
  {
   "cell_type": "code",
   "execution_count": 15,
   "metadata": {},
   "outputs": [
    {
     "name": "stdout",
     "output_type": "stream",
     "text": [
      "Enter the number of elements to be added in list: 2\n",
      "2\n",
      "5\n",
      "[4, 25]\n"
     ]
    }
   ],
   "source": [
    "list1 = []\n",
    "num = int(input(\"Enter the number of elements to be added in list: \"))\n",
    "for i in range(0,num):\n",
    "    val = int(input())\n",
    "    list1.append(val)\n",
    "list2 = list(map(lambda x : x **2, list1)) #we do not print direct map func bcoz it return address and type\n",
    "print(list2)"
   ]
  },
  {
   "cell_type": "code",
   "execution_count": 16,
   "metadata": {},
   "outputs": [],
   "source": [
    "#3.\tProgram to make use of lambda with map to replace characters of string i.e. replace ‘u’ with ‘o’\n",
    "#Input - Somesh and Poshkar\n",
    "#Output - Sumesh and Pushkar"
   ]
  },
  {
   "cell_type": "code",
   "execution_count": 21,
   "metadata": {},
   "outputs": [
    {
     "name": "stdout",
     "output_type": "stream",
     "text": [
      "Enter a sring: toy\n",
      "Character which has to be replaced: t\n",
      "Character which has to be replaced with: y\n",
      "yot\n"
     ]
    }
   ],
   "source": [
    "str1 = input(\"Enter a sring: \")\n",
    "a1 = input(\"Character which has to be replaced: \")\n",
    "a2 = input(\"Character which has to be replaced with: \")\n",
    "str2 = ''.join(map(lambda x: x if(x != a1 and x != a2) else a1 if x == a2 else a2, str1))\n",
    "print(str2)"
   ]
  },
  {
   "cell_type": "code",
   "execution_count": 22,
   "metadata": {},
   "outputs": [],
   "source": [
    "#4.\tProgram to make use of lambda with reduce to get the sum of all elements of the list\n",
    "#Input -  [1,3,4,5,6]\n",
    "#Output - 19"
   ]
  },
  {
   "cell_type": "code",
   "execution_count": 24,
   "metadata": {},
   "outputs": [
    {
     "name": "stdout",
     "output_type": "stream",
     "text": [
      "Enter the number of elements to be added in list: 3\n",
      "1\n",
      "2\n",
      "3\n",
      "6\n"
     ]
    }
   ],
   "source": [
    "from functools import reduce\n",
    "list1 = []\n",
    "num = int(input(\"Enter the number of elements to be added in list: \"))\n",
    "for i in range(0,num):\n",
    "    val = int(input())\n",
    "    list1.append(val)\n",
    "Sum = reduce( (lambda x, y: x + y), list1)\n",
    "print(Sum)"
   ]
  },
  {
   "cell_type": "code",
   "execution_count": 25,
   "metadata": {},
   "outputs": [],
   "source": [
    "#5.\tWrite a program which can map() and filter() to make a list whose elements are square \n",
    "#of even numbers in [1,2,3,4,5,6,7,8,9,10]."
   ]
  },
  {
   "cell_type": "code",
   "execution_count": 28,
   "metadata": {},
   "outputs": [
    {
     "name": "stdout",
     "output_type": "stream",
     "text": [
      "Enter the number of elements to be added in list: 2\n",
      "1\n",
      "2\n",
      "[4]\n"
     ]
    }
   ],
   "source": [
    "from math import sqrt\n",
    "list1 = []\n",
    "num = int(input(\"Enter the number of elements to be added in list: \"))\n",
    "for i in range(0,num):\n",
    "    val = int(input())\n",
    "    list1.append(val)\n",
    "list2 = list(filter(lambda x : x % 2 == 0, list1))\n",
    "list2 = list(map(lambda x : x **2, list2))\n",
    "print(list2)"
   ]
  },
  {
   "cell_type": "code",
   "execution_count": 32,
   "metadata": {},
   "outputs": [
    {
     "name": "stdout",
     "output_type": "stream",
     "text": [
      "Enter the number of elements to be added in list: 17\n",
      "1\n",
      "2\n",
      "3\n",
      "4\n",
      "5\n",
      "6\n",
      "7\n",
      "8\n",
      "9\n",
      "10\n",
      "11\n",
      "12\n",
      "13\n",
      "14\n",
      "15\n",
      "16\n",
      "17\n",
      "[4, 16]\n"
     ]
    }
   ],
   "source": [
    "from math import sqrt\n",
    "list1 = []\n",
    "num = int(input(\"Enter the number of elements to be added in list: \"))\n",
    "for i in range(0,num):\n",
    "    val = int(input())\n",
    "    list1.append(val)\n",
    "list2 = list(filter(lambda number : int(sqrt(number) + 0.5) ** 2 == number, list1))\n",
    "list2 = list(filter(lambda x : x % 2 == 0, list2))\n",
    "print(list2)"
   ]
  },
  {
   "cell_type": "code",
   "execution_count": 33,
   "metadata": {},
   "outputs": [],
   "source": [
    "#6.\tProgram to zip and unzip the values -\n",
    "#Input:\n",
    "#variable = ['x', 'y', 'z']\n",
    "#value = [3, 4, 5, 0, 9]\n",
    "\n",
    "#Output: - \n",
    "#[('x', 3), ('y', 4), ('z', 5)]\n",
    "#variable = ('x', 'y', 'z')\n",
    "#value = (3, 4, 5)\n"
   ]
  },
  {
   "cell_type": "code",
   "execution_count": 36,
   "metadata": {},
   "outputs": [
    {
     "name": "stdout",
     "output_type": "stream",
     "text": [
      "[('x', 3), ('y', 4), ('z', 5)]\n",
      "('x', 'y', 'z')\n",
      "(3, 4, 5)\n"
     ]
    }
   ],
   "source": [
    "variable = ['x', 'y', 'z']\n",
    "value = [3, 4, 5, 0, 9]\n",
    "\n",
    "zipped = zip(variable, value)\n",
    "zipped_list = list(zipped)\n",
    "print (zipped_list)\n",
    "\n",
    "variable, value = zip(*zipped_list)\n",
    "print(variable)\n",
    "print(value)"
   ]
  },
  {
   "cell_type": "code",
   "execution_count": 37,
   "metadata": {},
   "outputs": [],
   "source": [
    "#7.\tCreate 2 directories and add few sample files in those directories and \n",
    "#write a setup.py file to package everything as a whl file"
   ]
  },
  {
   "cell_type": "code",
   "execution_count": null,
   "metadata": {},
   "outputs": [],
   "source": []
  }
 ],
 "metadata": {
  "kernelspec": {
   "display_name": "Python 3",
   "language": "python",
   "name": "python3"
  },
  "language_info": {
   "codemirror_mode": {
    "name": "ipython",
    "version": 3
   },
   "file_extension": ".py",
   "mimetype": "text/x-python",
   "name": "python",
   "nbconvert_exporter": "python",
   "pygments_lexer": "ipython3",
   "version": "3.8.5"
  }
 },
 "nbformat": 4,
 "nbformat_minor": 4
}
