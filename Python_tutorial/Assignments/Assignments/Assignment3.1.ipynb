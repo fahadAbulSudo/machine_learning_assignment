{
 "cells": [
  {
   "cell_type": "markdown",
   "metadata": {},
   "source": [
    "# ASSIGNMENT_3"
   ]
  },
  {
   "cell_type": "code",
   "execution_count": 11,
   "metadata": {},
   "outputs": [],
   "source": [
    "#1.\tWrite a program to illustrate the use of standard libraries \n",
    "#(list, tuple, range, set, dict, str, int, math, random, enum, os, sys)"
   ]
  },
  {
   "cell_type": "code",
   "execution_count": 20,
   "metadata": {},
   "outputs": [
    {
     "name": "stdout",
     "output_type": "stream",
     "text": [
      "67\n",
      "3\n",
      "1\n",
      "[1, 2, 3, 4, 5, 6, 7]\n",
      "{8, 1, 4}\n",
      "{1, 4, 820, 8, 10}\n",
      "{1}\n",
      "dict_items([('Name', 'Sam'), ('Subject', 'Mathematics'), ('Marks', 78)])\n",
      "dict_keys(['Name', 'Subject', 'Marks'])\n",
      "{'Name': 'Sam', 'Subject': 'Mathematics', 'Marks': 78, 'Rank': 4}\n",
      "1\n",
      "Rjgjgrjgkjkfjg\n",
      "RJGJGRJGKJKFJG\n",
      "0b1000110111\n",
      "1764\n",
      "74088\n",
      "211\n",
      "The string representation of enum member is : flower.lily\n",
      "The repr representation of enum member is : <flower.lily: 1>\n",
      "3.8.5 (default, Sep  3 2020, 21:29:08) [MSC v.1916 64 bit (AMD64)]\n",
      "Exit\n"
     ]
    }
   ],
   "source": [
    "import math\n",
    "import random\n",
    "import enum\n",
    "import os\n",
    "import sys\n",
    "#List libraries\n",
    "A = [1,3,23,323]\n",
    "A.append(67)\n",
    "print(A.pop())\n",
    "#Tuple library\n",
    "B= (342,43,5,3,43,43)\n",
    "print(B.count(43))\n",
    "print(B.index(43))\n",
    "#Range libraries\n",
    "Range = range(1,8)\n",
    "print(list(Range))\n",
    "#Set libraries\n",
    "S = set()\n",
    "S.add(1)\n",
    "S.add(4)\n",
    "S.add(8)\n",
    "print(S)\n",
    "M = set()\n",
    "M.add(1)\n",
    "M.add(10)\n",
    "M.add(820) \n",
    "print(S.union(M))\n",
    "print(S.intersection(M))\n",
    "#Dict libraries\n",
    "Dic = {\"Name\":\"Sam\", \"Subject\":\"Mathematics\",\"Marks\":78}\n",
    "print(Dic.items())\n",
    "print(Dic.keys())\n",
    "Dic.update({\"Rank\":4})\n",
    "print(Dic)\n",
    "#Str libraries\n",
    "str = \"rjgjgrjgkjkfjg\"\n",
    "print(str.count(\"f\"))\n",
    "print(str.capitalize())\n",
    "print(str.swapcase())\n",
    "#int libraries\n",
    "INT = 567\n",
    "print(bin(INT))\n",
    "#Math libraries\n",
    "Mat = 42\n",
    "print(pow(Mat,2))\n",
    "print(pow(Mat,3))\n",
    "#Random libraries\n",
    "randNo = random.randint(1, 452)\n",
    "print(randNo)\n",
    "#Enum libraries\n",
    "class flower(enum.Enum):\n",
    "    lily= 1\n",
    "    rose= 2\n",
    "    tulip= 3\n",
    " \n",
    "print (\"The string representation of enum member is : \",end=\"\")\n",
    "print (flower.lily)\n",
    "print (\"The repr representation of enum member is : \",end=\"\")\n",
    "print (repr(flower.lily))\n",
    "#OS libraries\n",
    "import os\n",
    "root = r'C:\\Users\\abulf\\OneDrive\\Desktop'\n",
    "for root,dirs,files in os.walk('Test', topdown=True):\n",
    "    print ('--------------------------------')\n",
    "    for name in files:\n",
    "           print(os.path.join(root, name))\n",
    "    for name in dirs:\n",
    "           print(os.path.join(root, name))\n",
    "    print ('--------------------------------')\n",
    "#Sys libraries\n",
    "\n",
    "\n",
    "print(sys.version)  \n",
    "  \n",
    "for line in sys.stdin: \n",
    "    if 'q' == line.rstrip(): \n",
    "        break\n",
    "    print(f'Input : {line}') \n",
    "  \n",
    "print(\"Exit\") "
   ]
  },
  {
   "cell_type": "code",
   "execution_count": 1,
   "metadata": {},
   "outputs": [],
   "source": [
    "#5.\tWrite a function to compute 5/0 and use try/except to catch the exceptions?"
   ]
  },
  {
   "cell_type": "code",
   "execution_count": 4,
   "metadata": {},
   "outputs": [
    {
     "name": "stdout",
     "output_type": "stream",
     "text": [
      "Please do not divide by zero\n"
     ]
    }
   ],
   "source": [
    "def devision():\n",
    "    try:\n",
    "        print(5/0)\n",
    "    except ZeroDivisionError:\n",
    "        print(\"Please do not divide by zero\")\n",
    "\n",
    "devision()"
   ]
  },
  {
   "cell_type": "code",
   "execution_count": 5,
   "metadata": {},
   "outputs": [],
   "source": [
    "#6.\tWrite a program to raise a custom exception which takes a string message as attribute?"
   ]
  },
  {
   "cell_type": "code",
   "execution_count": 1,
   "metadata": {},
   "outputs": [
    {
     "name": "stdout",
     "output_type": "stream",
     "text": [
      "enter a prime number : 64\n"
     ]
    },
    {
     "ename": "CustomException",
     "evalue": "64 is not prime number. please enter prime number",
     "output_type": "error",
     "traceback": [
      "\u001b[1;31m---------------------------------------------------------------------------\u001b[0m",
      "\u001b[1;31mCustomException\u001b[0m                           Traceback (most recent call last)",
      "\u001b[1;32m<ipython-input-1-4bf2d4b1fcba>\u001b[0m in \u001b[0;36m<module>\u001b[1;34m\u001b[0m\n\u001b[0;32m     19\u001b[0m             \u001b[1;32mbreak\u001b[0m\u001b[1;33m\u001b[0m\u001b[1;33m\u001b[0m\u001b[0m\n\u001b[0;32m     20\u001b[0m \u001b[1;32mif\u001b[0m \u001b[0mnum\u001b[0m \u001b[1;33m==\u001b[0m \u001b[1;36m1\u001b[0m \u001b[1;32mor\u001b[0m \u001b[0mflag\u001b[0m \u001b[1;32mis\u001b[0m \u001b[1;32mTrue\u001b[0m\u001b[1;33m:\u001b[0m\u001b[1;33m\u001b[0m\u001b[1;33m\u001b[0m\u001b[0m\n\u001b[1;32m---> 21\u001b[1;33m     \u001b[1;32mraise\u001b[0m \u001b[0mCustomException\u001b[0m\u001b[1;33m(\u001b[0m\u001b[0mnum\u001b[0m\u001b[1;33m,\u001b[0m \u001b[1;34m\"please enter prime number\"\u001b[0m\u001b[1;33m)\u001b[0m\u001b[1;33m\u001b[0m\u001b[1;33m\u001b[0m\u001b[0m\n\u001b[0m",
      "\u001b[1;31mCustomException\u001b[0m: 64 is not prime number. please enter prime number"
     ]
    }
   ],
   "source": [
    "class CustomException(Exception):\n",
    "\n",
    "    def __init__(self, num, message):\n",
    "        self.num = num\n",
    "        self.message = message\n",
    "        super(CustomException, self).__init__(self.message)\n",
    "\n",
    "    def __str__(self):\n",
    "        return f\"{self.num} is not prime number. {self.message}\"\n",
    "\n",
    "\n",
    "num = int(input(\"enter a prime number : \"))\n",
    "flag = False\n",
    "\n",
    "if num > 1:\n",
    "    for k in range(2, num):\n",
    "        if (num % k) == 0:\n",
    "            flag = True\n",
    "            break\n",
    "if num == 1 or flag is True: \n",
    "    raise CustomException(num, \"please enter prime number\")"
   ]
  },
  {
   "cell_type": "code",
   "execution_count": null,
   "metadata": {},
   "outputs": [],
   "source": []
  }
 ],
 "metadata": {
  "kernelspec": {
   "display_name": "Python 3",
   "language": "python",
   "name": "python3"
  },
  "language_info": {
   "codemirror_mode": {
    "name": "ipython",
    "version": 3
   },
   "file_extension": ".py",
   "mimetype": "text/x-python",
   "name": "python",
   "nbconvert_exporter": "python",
   "pygments_lexer": "ipython3",
   "version": "3.8.5"
  }
 },
 "nbformat": 4,
 "nbformat_minor": 4
}
