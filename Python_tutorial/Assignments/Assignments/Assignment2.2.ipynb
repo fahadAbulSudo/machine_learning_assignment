{
 "cells": [
  {
   "cell_type": "markdown",
   "metadata": {},
   "source": [
    "# ASSIGNMENT_2"
   ]
  },
  {
   "cell_type": "code",
   "execution_count": 1,
   "metadata": {},
   "outputs": [],
   "source": [
    "#6.\tWrite a program to find the maximum of 2 numbers using normal function \n",
    "#and then using ternary operator and then illustrate the same using lamdba function ?"
   ]
  },
  {
   "cell_type": "code",
   "execution_count": 4,
   "metadata": {},
   "outputs": [
    {
     "name": "stdout",
     "output_type": "stream",
     "text": [
      "5\n",
      "4\n",
      "5\n"
     ]
    }
   ],
   "source": [
    "#ternary\n",
    "a = int(input()) \n",
    "b = int(input())\n",
    "  \n",
    "\n",
    "maximum = a if a > b else b\n",
    "  \n",
    "print(maximum)"
   ]
  },
  {
   "cell_type": "code",
   "execution_count": 5,
   "metadata": {},
   "outputs": [
    {
     "name": "stdout",
     "output_type": "stream",
     "text": [
      "5\n",
      "4\n",
      "5\n"
     ]
    }
   ],
   "source": [
    "#normal function\n",
    "def maximum(a,b):\n",
    "    if a>b:\n",
    "        return a\n",
    "    else:\n",
    "        return b\n",
    "a = int(input()) \n",
    "b = int(input())\n",
    "print(maximum(a,b))"
   ]
  },
  {
   "cell_type": "code",
   "execution_count": 7,
   "metadata": {},
   "outputs": [
    {
     "name": "stdout",
     "output_type": "stream",
     "text": [
      "10\n",
      "15\n",
      "15\n"
     ]
    }
   ],
   "source": [
    "#lamda function\n",
    "a = int(input()) \n",
    "b = int(input())\n",
    "maximum = lambda a,b :  a if a > b else b #for lamda we normaly use ternary function\n",
    "print(maximum(a,b))"
   ]
  },
  {
   "cell_type": "code",
   "execution_count": null,
   "metadata": {},
   "outputs": [],
   "source": [
    "#7.\tWrite a program using loops and closure to find the multipliers of 4 (4,8,12,16,....,40)?"
   ]
  },
  {
   "cell_type": "code",
   "execution_count": 10,
   "metadata": {},
   "outputs": [
    {
     "name": "stdout",
     "output_type": "stream",
     "text": [
      "4,8,12,16,20,24,28,32,36,40 "
     ]
    }
   ],
   "source": [
    "def make_multiplier_of(n):   #in closure function, function returns the function name which has been nested in it \n",
    "    def multiplier(x):\n",
    "        return x * n\n",
    "    return multiplier\n",
    "\n",
    "\n",
    "times4 = make_multiplier_of(4)# Multiplier of 4\n",
    "for ao in range(1,11):\n",
    "    if (ao < 10):\n",
    "        print(times4(ao), end = \",\")\n",
    "    else:\n",
    "        print(times4(ao), end = \" \")"
   ]
  },
  {
   "cell_type": "code",
   "execution_count": 11,
   "metadata": {},
   "outputs": [],
   "source": [
    "#8.\tWrite a program to illustrate the use of default, keyword, optional and variable length args (*args and **kwargs)?"
   ]
  },
  {
   "cell_type": "code",
   "execution_count": 14,
   "metadata": {},
   "outputs": [
    {
     "name": "stdout",
     "output_type": "stream",
     "text": [
      "6\n"
     ]
    }
   ],
   "source": [
    "# keyword type \n",
    "def f(a, b, c):\n",
    "    print(a+ b+ c)\n",
    "f(c=3, b=2, a=1)"
   ]
  },
  {
   "cell_type": "code",
   "execution_count": 16,
   "metadata": {},
   "outputs": [
    {
     "name": "stdout",
     "output_type": "stream",
     "text": [
      "14\n",
      "12\n"
     ]
    }
   ],
   "source": [
    "# default type and optional type is default type\n",
    "def f(a, b = 5, c = 8):\n",
    "    print(a+ b+ c)\n",
    "f(1)\n",
    "f(1,3)"
   ]
  },
  {
   "cell_type": "code",
   "execution_count": 17,
   "metadata": {},
   "outputs": [
    {
     "name": "stdout",
     "output_type": "stream",
     "text": [
      "fnc()\n",
      "() {}\n",
      "(1, 2, 3) {}\n",
      "(1, 2, 3, 'flask') {}\n",
      "() {'a': 1, 'b': 2, 'c': 3}\n",
      "() {'a': 1, 'b': 2, 'c': 3, 'd': 'ansible'}\n",
      "(1, 2, 3) {'a': 1, 'b': 2, 'c': 3}\n"
     ]
    }
   ],
   "source": [
    "#variable length type\n",
    "def fnc(*args, **kwargs):\n",
    "    print('{} {}'.format(args, kwargs))\n",
    "\n",
    "print('fnc()')\n",
    "fnc()\n",
    "fnc(1,2,3)\n",
    "fnc(1,2,3,'flask')\n",
    "fnc(a=1, b=2, c=3)\n",
    "fnc(a=1, b=2, c=3, d='ansible')\n",
    "fnc(1, 2, 3, a=1, b=2, c=3)"
   ]
  },
  {
   "cell_type": "code",
   "execution_count": 18,
   "metadata": {},
   "outputs": [],
   "source": [
    "#9.\tWrite a function that will take one list as input and return three different types of list \n",
    "#as illustrated in the output. In object2, you can append a list containing triplet of a number \n",
    "#but object 3 should be evaluated based on the elements present in the object2 \n",
    "#(Note:You have to take care of both the space and time complexities as well)\n",
    "#Input:\n",
    "#object1 = [[1,1,1],[2,2,2],[3,3,3]]\n",
    "\n",
    "#Output:\n",
    "#object1 = [[1,1,1],[2,2,2],[3,3,3]]\n",
    "#object2 = [[1,1,1],[2,2,2],[3,3,3],[4,4,4]]\n",
    "#object3 = [[1,1,1],[2,4,2],[3,9,3],[4,16,4]]\n"
   ]
  },
  {
   "cell_type": "code",
   "execution_count": 21,
   "metadata": {},
   "outputs": [
    {
     "name": "stdout",
     "output_type": "stream",
     "text": [
      "Enter the number of rows:5\n",
      "1,1,1,,\n",
      "2,2,2,,\n",
      "3,3,3,,\n",
      "4,4,4,,\n",
      "5,5,5,,\n",
      "4\n",
      "[[1 1 1]\n",
      " [2 2 2]\n",
      " [3 3 3]\n",
      " [4 4 4]\n",
      " [5 5 5]]\n",
      "[[1 1 1]\n",
      " [2 2 2]\n",
      " [3 3 3]\n",
      " [4 4 4]\n",
      " [5 5 5]\n",
      " [6 6 6]]\n",
      "[[ 1  1  1]\n",
      " [ 2  4  2]\n",
      " [ 3  9  3]\n",
      " [ 4 16  4]\n",
      " [ 5 25  5]\n",
      " [ 6 36  6]]\n"
     ]
    }
   ],
   "source": [
    "import numpy as np\n",
    "import copy\n",
    "R = int(input(\"Enter the number of rows:\"))\n",
    "matrix = []\n",
    "for k in range(0,R):          \n",
    "    sab = k+1\n",
    "    a =[]\n",
    "    for m in range(3):     \n",
    "         a.append(sab)\n",
    "    matrix.append(a)\n",
    "for k in range(R):\n",
    "    for m in range(3):\n",
    "        print(matrix[k][m], end = \",\")\n",
    "    print(\",\")\n",
    "matrix_1 = copy.deepcopy(matrix)\n",
    "print(k)\n",
    "k+=2 \n",
    "matrix = np.array(matrix)\n",
    "r = np.array([k,k,k])\n",
    "R+=1\n",
    "matrix_1 = np.append(matrix_1,[r],axis= 0)\n",
    "matrix_2 = copy.deepcopy(matrix_1)\n",
    "for k in range(0,R):          \n",
    "    sab = k+1\n",
    "    #a =[]\n",
    "    for m in range(3):     \n",
    "        if m == 1: \n",
    "            matrix_2[k][m] = sab **2\n",
    "    #else\n",
    "    #matrix_2.append(a)\n",
    "print(matrix)\n",
    "print(matrix_1)\n",
    "print(matrix_2)"
   ]
  },
  {
   "cell_type": "code",
   "execution_count": 23,
   "metadata": {},
   "outputs": [],
   "source": [
    "#10.\tWrite a program to find the sum of the digits of the number recursively upto n iterations?\n",
    "       #Input \n",
    "#\tEnter the number -139\n",
    "#Enter iterations - 2\n",
    " \n",
    "#Output:\n",
    "#           13\n",
    "#\t4\n"
   ]
  },
  {
   "cell_type": "code",
   "execution_count": 13,
   "metadata": {},
   "outputs": [
    {
     "name": "stdout",
     "output_type": "stream",
     "text": [
      "Enter the number: 12345789\n",
      "Enter iterations: 3\n",
      "Sum of iteration number 1 is 39\n",
      "Sum of iteration number 2 is 12\n",
      "Sum of iteration number 3 is 3\n"
     ]
    }
   ],
   "source": [
    "def reverse(ab,bc):\n",
    "    bc-=1\n",
    "    sum = 0\n",
    "    while (ab!=0):\n",
    "        sum = sum + (ab%10)\n",
    "        ab = int(ab/10)\n",
    "    ab = sum\n",
    "    m.append(sum)\n",
    "    if bc > 0:\n",
    "        reverse(ab,bc)\n",
    "    else:\n",
    "        return\n",
    "\n",
    "m = []\n",
    "ab = int(input(\"Enter the number: \"))\n",
    "bc = int(input(\"Enter iterations: \"))\n",
    "cd = bc\n",
    "reverse(ab,bc)\n",
    "for aoc in range(0,cd):\n",
    "    print(f\"Sum of iteration number {aoc+1} is {m[aoc]}\") "
   ]
  },
  {
   "cell_type": "code",
   "execution_count": null,
   "metadata": {},
   "outputs": [],
   "source": []
  }
 ],
 "metadata": {
  "kernelspec": {
   "display_name": "Python 3",
   "language": "python",
   "name": "python3"
  },
  "language_info": {
   "codemirror_mode": {
    "name": "ipython",
    "version": 3
   },
   "file_extension": ".py",
   "mimetype": "text/x-python",
   "name": "python",
   "nbconvert_exporter": "python",
   "pygments_lexer": "ipython3",
   "version": "3.8.5"
  }
 },
 "nbformat": 4,
 "nbformat_minor": 4
}
