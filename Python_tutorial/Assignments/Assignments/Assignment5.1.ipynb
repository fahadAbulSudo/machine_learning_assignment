{
 "cells": [
  {
   "cell_type": "markdown",
   "metadata": {},
   "source": [
    "# ASSIGNMENT_5"
   ]
  },
  {
   "cell_type": "code",
   "execution_count": 1,
   "metadata": {},
   "outputs": [],
   "source": [
    "#1.\tDefine a class which has at least two methods:\n",
    "#get_string: to get a string from console input\n",
    "#print_string: to print the string in upper case.\n"
   ]
  },
  {
   "cell_type": "code",
   "execution_count": 2,
   "metadata": {},
   "outputs": [
    {
     "name": "stdout",
     "output_type": "stream",
     "text": [
      "Enter a string value : Good Morning\n",
      "Good Morning\n",
      "gOOD mORNING\n"
     ]
    }
   ],
   "source": [
    "class StringWorks:\n",
    "    def get_string(self):\n",
    "        self.Input = str(input(\"Enter a string value : \"))\n",
    "\n",
    "    def print_string(self):\n",
    "        print(self.Input)\n",
    "        \n",
    "    def swap_case(self):\n",
    "        print (self.Input.swapcase())\n",
    "\n",
    "obj = StringWorks()\n",
    "obj.get_string()\n",
    "obj.print_string()\n",
    "obj.swap_case()\n",
    "\n"
   ]
  },
  {
   "cell_type": "code",
   "execution_count": 3,
   "metadata": {},
   "outputs": [],
   "source": [
    "#2.\tDefine a class named American and its subclass NewYorker. \n",
    "#Hints: Use class Subclass(ParentClass) to define a subclass.\n"
   ]
  },
  {
   "cell_type": "code",
   "execution_count": 7,
   "metadata": {},
   "outputs": [
    {
     "name": "stdout",
     "output_type": "stream",
     "text": [
      "Initializing class\n",
      "I am an Indian\n",
      "Initializing subclass\n",
      "Initializing class\n",
      "I am Indian living in Mumbai\n"
     ]
    }
   ],
   "source": [
    "class Indian:\n",
    "    \n",
    "    def __init__(self, Nationality):\n",
    "        self.Nationality = Nationality\n",
    "        print(\"Initializing class\")\n",
    "\n",
    "    def details(self):\n",
    "        return f\"I am an {self.Nationality}\"\n",
    "\n",
    "\n",
    "class Maharashtrian(Indian):\n",
    "    def __init__(self, Nationality, city):\n",
    "        self.city = city\n",
    "        print(\"Initializing subclass\")    \n",
    "        \n",
    "        Indian.__init__(self, Nationality)  #Important: This line is used to use the Nationality field(Variable) of Parent Class(Indian)\n",
    "    def details(self):\n",
    "        return f\"I am {self.Nationality} living in {self.city}\"\n",
    "\n",
    "A = Indian(\"Indian\")\n",
    "print(A.details())\n",
    "B = Maharashtrian(\"Indian\", \"Mumbai\")\n",
    "print(B.details())\n",
    "\n"
   ]
  },
  {
   "cell_type": "code",
   "execution_count": null,
   "metadata": {},
   "outputs": [],
   "source": [
    "#3.\tWrite a program to illustrate Append, Delete and Display Elements of a List using classes."
   ]
  },
  {
   "cell_type": "code",
   "execution_count": 15,
   "metadata": {},
   "outputs": [
    {
     "name": "stdout",
     "output_type": "stream",
     "text": [
      "Please enter the choices for which functions do you want to run\n",
      "Enter 1, 2 or 3 for append, delete and display operations on list respectively: 1\n",
      "If you want to stop loop please enter 0\n",
      "Enter the number: 45\n",
      "Enter the number: 4\n",
      "Enter the number: 1\n",
      "Enter the number: 7\n",
      "Enter the number: 0\n",
      "to break loop enter '0' or not to stop enter '1': 1\n",
      "Please enter the choices for which functions do you want to run\n",
      "Enter 1, 2 or 3 for append, delete and display operations on list respectively: 1\n",
      "If you want to stop loop please enter 0\n",
      "Enter the number: 5\n",
      "Enter the number: 0\n",
      "to break loop enter '0' or not to stop enter '1': 1\n",
      "Please enter the choices for which functions do you want to run\n",
      "Enter 1, 2 or 3 for append, delete and display operations on list respectively: 3\n",
      "[45, 4, 1, 7, 5]\n",
      "to break loop enter '0' or not to stop enter '1': 0\n"
     ]
    }
   ],
   "source": [
    "class ListOperations:\n",
    "    def __init__(self):\n",
    "        self.ListA = []\n",
    "\n",
    "    def ListA_append(self, val):\n",
    "        self.ListA.append(val)\n",
    "\n",
    "    def ListA_delete(self, val):\n",
    "        self.val = val\n",
    "        if len(self.ListA) == 0 or (self.val not in self.ListA):\n",
    "            print(\"The value is not in the list\")\n",
    "        else:\n",
    "            self.ListA.remove(val)\n",
    "\n",
    "    def ListA_display(self):\n",
    "        if len(self.ListA) == 0:\n",
    "            print(\"List is empty\")\n",
    "        else:\n",
    "            print(self.ListA)\n",
    "\n",
    "\n",
    "class Invalid_Choice_Exception(Exception):\n",
    "    def __init__(self, choice):\n",
    "        self.choice = choice\n",
    "\n",
    "    def __str__(self):\n",
    "        return f\"{self.choice} is not a valid choice\"\n",
    "import sys\n",
    "\n",
    "\n",
    "flag = \"1\"\n",
    "lis = ListOperations()\n",
    "while flag != \"0\":\n",
    "    try:\n",
    "        print(\"Please enter the choices for which functions do you want to run\")\n",
    "        choice = int(input(\"Enter 1, 2 or 3 for append, delete and display operations on list respectively: \"))\n",
    "    except Exception as e:\n",
    "        print(e)\n",
    "        sys.exit()\n",
    "    if choice == 1:\n",
    "        print(\"If you want to stop loop please enter 0\")\n",
    "        while True:\n",
    "            try:\n",
    "                val = int(input(\"Enter the number: \"))\n",
    "                if val == 0:\n",
    "                    break\n",
    "        \n",
    "            except ValueError:\n",
    "                print(\"No valid integer! Please try again ...\")\n",
    "            else:\n",
    "                lis.ListA_append(val)\n",
    "    elif choice == 2:\n",
    "        try:\n",
    "            val = int(input(\"Please enter an integer for deleting: \"))\n",
    "            val = int(val)\n",
    "            lis.ListA_delete(val)\n",
    "        except ValueError:\n",
    "            print(\"No valid integer! Please try again ...\")        \n",
    "    elif choice==3:\n",
    "        lis.ListA_display()\n",
    "\n",
    "    else:\n",
    "        result = None\n",
    "        print(result)\n",
    "        raise Invalid_Choice_Exception(choice)\n",
    "    flag = input(\"to break loop enter '0' or not to stop enter '1': \")"
   ]
  },
  {
   "cell_type": "code",
   "execution_count": null,
   "metadata": {},
   "outputs": [],
   "source": []
  }
 ],
 "metadata": {
  "kernelspec": {
   "display_name": "Python 3",
   "language": "python",
   "name": "python3"
  },
  "language_info": {
   "codemirror_mode": {
    "name": "ipython",
    "version": 3
   },
   "file_extension": ".py",
   "mimetype": "text/x-python",
   "name": "python",
   "nbconvert_exporter": "python",
   "pygments_lexer": "ipython3",
   "version": "3.8.5"
  }
 },
 "nbformat": 4,
 "nbformat_minor": 4
}
