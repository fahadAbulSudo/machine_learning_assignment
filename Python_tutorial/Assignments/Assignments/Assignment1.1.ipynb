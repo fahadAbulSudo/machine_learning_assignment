{
 "cells": [
  {
   "cell_type": "markdown",
   "metadata": {},
   "source": [
    "# ASSIGNMENT_1"
   ]
  },
  {
   "cell_type": "code",
   "execution_count": 58,
   "metadata": {},
   "outputs": [],
   "source": [
    "#1.\tWrite any python program that makes use of variables, constants, operators, atleast 5 keywords and print\n",
    "#statements of different forms ?\n",
    "# for constant theer is no keyword in python but to set a constant value we should use a \"getter_function\" to read the data bt not \"setter_function\" to write the data"
   ]
  },
  {
   "cell_type": "code",
   "execution_count": 35,
   "metadata": {},
   "outputs": [
    {
     "name": "stdout",
     "output_type": "stream",
     "text": [
      "45\n",
      "3\n",
      "0\n",
      "164\n",
      "[11, 13, 17, 19, 23, 29, 31, 37, 41, 43, 47, 53, 59, 61, 67, 71, 73, 79, 83, 89, 97, 101, 103, 107, 109, 113, 127, 131, 137, 139, 149, 151, 157, 163, 167, 173, 179, 181, 191, 193, 197, 199, 211, 223, 227, 229, 233, 239, 241, 251, 257, 263, 269, 271, 277, 281, 283, 293, 307, 311, 313, 317, 331, 337, 347, 349, 353, 359, 367, 373, 379, 383, 389, 397, 401, 409, 419, 421, 431, 433, 439, 443, 449, 457, 461, 463, 467, 479, 487, 491, 499, 503, 509, 521, 523, 541, 547, 557, 563, 569, 571, 577, 587, 593, 599, 601, 607, 613, 617, 619, 631, 641, 643, 647, 653, 659, 661, 673, 677, 683, 691, 701, 709, 719, 727, 733, 739, 743, 751, 757, 761, 769, 773, 787, 797, 809, 811, 821, 823, 827, 829, 839, 853, 857, 859, 863, 877, 881, 883, 887, 907, 911, 919, 929, 937, 941, 947, 953, 967, 971, 977, 983, 991, 997]\n"
     ]
    }
   ],
   "source": [
    "from math import sqrt\n",
    "a = []\n",
    "b = []\n",
    "count = 0\n",
    "for i in range(10,1001):\n",
    "    a.append(i)\n",
    "length= len(a)\n",
    "for i in range(length):\n",
    "    flag = True\n",
    "    m = a[i]\n",
    "    for j in range(2, m):\n",
    "        if (a[i] %j== 0):\n",
    "            if a[i] == 45:\n",
    "                print(a[i])\n",
    "                print(j)\n",
    "                print(a[i] %j)\n",
    "            flag = False\n",
    "            break\n",
    "    if flag:\n",
    "        count+=1\n",
    "        b.append(a[i])\n",
    "print(count)\n",
    "print(b)\n",
    "        \n",
    "    "
   ]
  },
  {
   "cell_type": "code",
   "execution_count": 50,
   "metadata": {},
   "outputs": [],
   "source": [
    "#2.\tWrite a program that takes a list of integers and gives the number of occurrences of each element in the list ?"
   ]
  },
  {
   "cell_type": "code",
   "execution_count": 45,
   "metadata": {},
   "outputs": [
    {
     "name": "stdout",
     "output_type": "stream",
     "text": [
      "Enter number of elements : 1\n",
      "5\n",
      "[5]\n",
      "Enter nymber which has to be counted7\n",
      "7 has occurred 0 times\n"
     ]
    }
   ],
   "source": [
    "#1st Method\n",
    "\n",
    "def counter(e, x):\n",
    "    count = 0\n",
    "    for ele in e:\n",
    "        if (ele == x):\n",
    "            count = count + 1\n",
    "    return count\n",
    " \n",
    "e = []\n",
    "  \n",
    "n = int(input(\"Enter number of elements : \"))\n",
    "  \n",
    "\n",
    "for o in range(0, n):\n",
    "    ele = int(input())\n",
    "    a.append(ele) \n",
    "y = all([isinstance(item, int)for item in a])\n",
    "if y is True:  \n",
    "    print(a)\n",
    "    x = int(input(\"Enter nymber which has to be counted\"))\n",
    "    print(f\"{x} has occurred {counter(a, x)} times\")\n",
    "else :\n",
    "    print(\"Please enter integers in the list\")"
   ]
  },
  {
   "cell_type": "code",
   "execution_count": 44,
   "metadata": {},
   "outputs": [
    {
     "name": "stdout",
     "output_type": "stream",
     "text": [
      "Enter number of elements : 5\n",
      "4154\n",
      "45\n",
      "45\n",
      "454\n",
      "4\n",
      "[4154, 45, 45, 454, 4]\n",
      "Enter nymber which has to be counted5\n",
      "5 has occurred 0 times\n"
     ]
    }
   ],
   "source": [
    "##2nd method\n",
    "\n",
    "def counter(a, x):\n",
    "    return a.count(x)\n",
    " \n",
    "a = []\n",
    "  \n",
    "n = int(input(\"Enter number of elements : \"))\n",
    "  \n",
    "\n",
    "for i in range(0, n):\n",
    "    ele = int(input())\n",
    "    a.append(ele) \n",
    "y = all([isinstance(item, int)for item in a])\n",
    "if y is True:  \n",
    "    print(a)\n",
    "    x = int(input(\"Enter nymber which has to be counted\"))\n",
    "    print(f\"{x} has occurred {counter(a, x)} times\")\n",
    "else :\n",
    "    print(\"Please enter integers in the list\")"
   ]
  },
  {
   "cell_type": "code",
   "execution_count": 51,
   "metadata": {},
   "outputs": [],
   "source": [
    "#3.\tWrite a one liner program to reverse the string?"
   ]
  },
  {
   "cell_type": "code",
   "execution_count": 49,
   "metadata": {},
   "outputs": [
    {
     "name": "stdout",
     "output_type": "stream",
     "text": [
      "I am A Fan.\n",
      ".naF A ma I\n"
     ]
    }
   ],
   "source": [
    "str = input()\n",
    "print(str[::-1])"
   ]
  },
  {
   "cell_type": "code",
   "execution_count": 52,
   "metadata": {},
   "outputs": [],
   "source": [
    "#4.\tWrite a program to create a list of tuples from given list having number and its square in each tuple?"
   ]
  },
  {
   "cell_type": "code",
   "execution_count": 57,
   "metadata": {},
   "outputs": [
    {
     "name": "stdout",
     "output_type": "stream",
     "text": [
      "Enter number of elements : 3\n",
      "12\n",
      "124\n",
      "3\n",
      "[(12, 144), (124, 15376), (3, 9)]\n"
     ]
    }
   ],
   "source": [
    "k = int(input(\"Enter number of elements : \"))\n",
    "c = []\n",
    "\n",
    "for l in range(0, k):\n",
    "    el = int(input())\n",
    "    c.append(el)\n",
    "d = [(val, pow(val,2)) for val in c]\n",
    "print(d)"
   ]
  },
  {
   "cell_type": "code",
   "execution_count": 3,
   "metadata": {},
   "outputs": [
    {
     "name": "stdout",
     "output_type": "stream",
     "text": [
      "Enter number of elements : 4\n",
      "2\n",
      "5\n",
      "44\n",
      "878\n",
      "The list of Tuples is  [(2, 4), (5, 25), (44, 1936), (878, 770884)]\n"
     ]
    }
   ],
   "source": [
    "k = int(input(\"Enter number of elements : \"))\n",
    "c = []\n",
    "\n",
    "for l in range(0, k):\n",
    "    el = int(input())\n",
    "    c.append(el)\n",
    "\n",
    "# Creating list of tuples \n",
    "d = [] \n",
    "for val in c:\n",
    "    z = (val, (val*val))\n",
    "    d.append(z)\n",
    "\n",
    "print(\"The list of Tuples is \" , str(d))"
   ]
  }
 ],
 "metadata": {
  "kernelspec": {
   "display_name": "Python 3",
   "language": "python",
   "name": "python3"
  },
  "language_info": {
   "codemirror_mode": {
    "name": "ipython",
    "version": 3
   },
   "file_extension": ".py",
   "mimetype": "text/x-python",
   "name": "python",
   "nbconvert_exporter": "python",
   "pygments_lexer": "ipython3",
   "version": "3.8.5"
  }
 },
 "nbformat": 4,
 "nbformat_minor": 4
}
