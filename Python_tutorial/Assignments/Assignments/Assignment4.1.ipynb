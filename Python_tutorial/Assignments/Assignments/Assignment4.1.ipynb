{
 "cells": [
  {
   "cell_type": "markdown",
   "metadata": {},
   "source": [
    "# ASSIGNMENT_4"
   ]
  },
  {
   "cell_type": "code",
   "execution_count": 1,
   "metadata": {},
   "outputs": [],
   "source": [
    "#1.\tWrite one liner list comprehension that takes a list \n",
    "#and makes a new list that contains the square of all the even elements of this list?"
   ]
  },
  {
   "cell_type": "code",
   "execution_count": 3,
   "metadata": {},
   "outputs": [
    {
     "name": "stdout",
     "output_type": "stream",
     "text": [
      "Enter number of elements : 3\n",
      "4\n",
      "65\n",
      "2\n",
      "[(4, 16), (65, 4225), (2, 4)]\n"
     ]
    }
   ],
   "source": [
    "k = int(input(\"Enter number of elements : \"))\n",
    "c = []\n",
    "\n",
    "for l in range(0, k):\n",
    "    el = int(input())\n",
    "    c.append(el)\n",
    "d = [(val, pow(val,2)) for val in c]\n",
    "print(d)"
   ]
  },
  {
   "cell_type": "code",
   "execution_count": 4,
   "metadata": {},
   "outputs": [],
   "source": [
    "#2.\tWrite a program to create a list of tuples from given list having number \n",
    "#and its square in each tuple? Also, convert the list of tuples to a dictionary. (Using Comprehension)"
   ]
  },
  {
   "cell_type": "code",
   "execution_count": 2,
   "metadata": {},
   "outputs": [
    {
     "name": "stdout",
     "output_type": "stream",
     "text": [
      "Enter number of elements : 2\n",
      "2\n",
      "5\n",
      "[(2, 4), (5, 25)]\n",
      "{2: [4], 5: [25]}\n"
     ]
    }
   ],
   "source": [
    "k = int(input(\"Enter number of elements : \"))\n",
    "c = []\n",
    "\n",
    "for l in range(0, k):\n",
    "    el = int(input())\n",
    "    c.append(el)\n",
    "d = [(val, pow(val,2)) for val in c]\n",
    "print(d)\n",
    "dictionary = {}\n",
    "{dictionary.setdefault(a, []).append(b) for a, b in d}\n",
    "print (dictionary)\n",
    "\n"
   ]
  },
  {
   "cell_type": "code",
   "execution_count": 8,
   "metadata": {},
   "outputs": [],
   "source": [
    "#3.\tCreate a Set comprehension to get the unique words in the string."
   ]
  },
  {
   "cell_type": "code",
   "execution_count": 11,
   "metadata": {},
   "outputs": [
    {
     "name": "stdout",
     "output_type": "stream",
     "text": [
      "great gReat\n",
      "{'great'}\n"
     ]
    }
   ],
   "source": [
    "s = input()\n",
    "s = s.lower()\n",
    "setting = {x for x in s.split(\" \")}\n",
    "print(setting)"
   ]
  },
  {
   "cell_type": "code",
   "execution_count": 12,
   "metadata": {},
   "outputs": [],
   "source": [
    "#4.\tCreate a List comprehension to get the files with .txt extension."
   ]
  },
  {
   "cell_type": "code",
   "execution_count": 26,
   "metadata": {},
   "outputs": [
    {
     "name": "stdout",
     "output_type": "stream",
     "text": [
      "C:\\Users\\abulf\n",
      "['BullseyeCoverageError.txt']\n"
     ]
    }
   ],
   "source": [
    "import os\n",
    "file_path = input()\n",
    "list1 = [file for file in os.listdir(file_path) if file.endswith(\".txt\")]\n",
    "print(list1)"
   ]
  },
  {
   "cell_type": "code",
   "execution_count": 27,
   "metadata": {},
   "outputs": [],
   "source": [
    "#5.\tCreate a generator expression to find the sum of cube of first 20 elements?"
   ]
  },
  {
   "cell_type": "code",
   "execution_count": 29,
   "metadata": {},
   "outputs": [
    {
     "name": "stdout",
     "output_type": "stream",
     "text": [
      "0 : 1 : 9 : 36 : 100 : 225 : 441 : 784 : 1296 : 2025 : 3025 : 4356 : 6084 : 8281 : 11025 : 14400 : 18496 : 23409 : 29241 : 36100\n"
     ]
    }
   ],
   "source": [
    "def cubic_generator(n):\n",
    "    count = 0\n",
    "    sum = 0\n",
    "    for i in range(20):\n",
    "        yield i ** 3\n",
    "        count +=1\n",
    "\n",
    "sum = 0\n",
    "num = 0\n",
    "for i in cubic_generator(20):\n",
    "    sum = sum + i\n",
    "    num +=1\n",
    "    if num == 20:\n",
    "        print(sum)\n",
    "    else:\n",
    "        print(sum,  end=' : ')  \n",
    "        "
   ]
  },
  {
   "cell_type": "code",
   "execution_count": 30,
   "metadata": {},
   "outputs": [],
   "source": [
    "#6.\tCreate a Dictionary comprehension to get the length of each word in the list?"
   ]
  },
  {
   "cell_type": "code",
   "execution_count": 32,
   "metadata": {},
   "outputs": [
    {
     "name": "stdout",
     "output_type": "stream",
     "text": [
      "Mother's Day\n",
      "{\"Mother's\": 8, 'Day': 3}\n"
     ]
    }
   ],
   "source": [
    "s = input()\n",
    "s = s.split(\" \")\n",
    "Dict = {word : len(word) for word in s}\n",
    "print(Dict)"
   ]
  },
  {
   "cell_type": "code",
   "execution_count": 33,
   "metadata": {},
   "outputs": [],
   "source": [
    "#7.\tWrite a List comprehension to get numbers that are multiples of 2 as well as 3 upto 50."
   ]
  },
  {
   "cell_type": "code",
   "execution_count": 34,
   "metadata": {},
   "outputs": [
    {
     "name": "stdout",
     "output_type": "stream",
     "text": [
      "[0, 2, 3, 4, 6, 8, 9, 10, 12, 14, 15, 16, 18, 20, 21, 22, 24, 26, 27, 28, 30, 32, 33, 34, 36, 38, 39, 40, 42, 44, 45, 46, 48, 50]\n"
     ]
    }
   ],
   "source": [
    "list1 = [x for x in range (51) if x%2 == 0 or x%3 == 0]\n",
    "print(list1)"
   ]
  },
  {
   "cell_type": "code",
   "execution_count": 6,
   "metadata": {},
   "outputs": [
    {
     "data": {
      "text/plain": [
       "10"
      ]
     },
     "execution_count": 6,
     "metadata": {},
     "output_type": "execute_result"
    }
   ],
   "source": [
    "tup1 = (1,3,[4,5])\n",
    "tup1[2][1] = 10\n",
    "tup1[2][1]"
   ]
  },
  {
   "cell_type": "code",
   "execution_count": null,
   "metadata": {},
   "outputs": [],
   "source": []
  }
 ],
 "metadata": {
  "kernelspec": {
   "display_name": "Python 3",
   "language": "python",
   "name": "python3"
  },
  "language_info": {
   "codemirror_mode": {
    "name": "ipython",
    "version": 3
   },
   "file_extension": ".py",
   "mimetype": "text/x-python",
   "name": "python",
   "nbconvert_exporter": "python",
   "pygments_lexer": "ipython3",
   "version": "3.8.5"
  }
 },
 "nbformat": 4,
 "nbformat_minor": 4
}
