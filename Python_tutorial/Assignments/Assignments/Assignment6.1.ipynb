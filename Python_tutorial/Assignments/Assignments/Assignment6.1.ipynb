{
 "cells": [
  {
   "cell_type": "markdown",
   "metadata": {},
   "source": [
    "# ASSIGNMENT_6"
   ]
  },
  {
   "cell_type": "code",
   "execution_count": 1,
   "metadata": {},
   "outputs": [],
   "source": [
    "#1.\tWrite a recursive function to find the factorial of the specified number. \n",
    "#Also, create a decorator that will validate the following before finding the factorial:\n",
    "#a.\tType of the argument\n",
    "#b.\tNo should not be negative \n",
    "#c.\tOther corner case\n"
   ]
  },
  {
   "cell_type": "code",
   "execution_count": 3,
   "metadata": {},
   "outputs": [
    {
     "name": "stdout",
     "output_type": "stream",
     "text": [
      "Enter a number to find the factorial: -5\n",
      "That is not a positive number!\n",
      "None\n"
     ]
    }
   ],
   "source": [
    "import functools\n",
    "def Negative_int(func):\n",
    "    @functools.wraps(func)\n",
    "    def wrapper(arg):\n",
    "\n",
    "        try:\n",
    "            num = int(arg)\n",
    "            if num <= 0:\n",
    "                raise ValueError(\"That is not a positive number!\")\n",
    "        except ValueError as ve:\n",
    "            return print(ve)\n",
    "        else:\n",
    "            return func(num)\n",
    "    return wrapper\n",
    "\n",
    "def type_of_argument(func):\n",
    "    @functools.wraps(func)\n",
    "    def wrapper(arg):\n",
    "        try:\n",
    "            num = int(arg)\n",
    "            return func(num)\n",
    "        except ValueError as ve:\n",
    "            return ve\n",
    "         \n",
    "    return wrapper\n",
    "@Negative_int\n",
    "@type_of_argument\n",
    "\n",
    "def factorial(num):\n",
    "    if num == 0 or num == 1:\n",
    "        return 1\n",
    "    else:\n",
    "\n",
    "        return num * factorial(num - 1)\n",
    "    \n",
    "num = input(\"Enter a number to find the factorial: \")\n",
    "print(factorial(num))"
   ]
  },
  {
   "cell_type": "code",
   "execution_count": 10,
   "metadata": {},
   "outputs": [],
   "source": [
    "#2.\tWrite a class decorators to print the time required to execute a program."
   ]
  },
  {
   "cell_type": "code",
   "execution_count": 23,
   "metadata": {},
   "outputs": [
    {
     "name": "stdout",
     "output_type": "stream",
     "text": [
      "Enter a number to find the factorial: 8\n",
      "Finished <function factorial at 0x00000271428B94C0> in 0.0000 secs\n",
      "Finished <function factorial at 0x00000271428B94C0> in 0.0003 secs\n",
      "Finished <function factorial at 0x00000271428B94C0> in 0.0004 secs\n",
      "Finished <function factorial at 0x00000271428B94C0> in 0.0005 secs\n",
      "Finished <function factorial at 0x00000271428B94C0> in 0.0005 secs\n",
      "Finished <function factorial at 0x00000271428B94C0> in 0.0006 secs\n",
      "Finished <function factorial at 0x00000271428B94C0> in 0.0007 secs\n",
      "Finished <function factorial at 0x00000271428B94C0> in 0.0007 secs\n",
      "40320\n"
     ]
    }
   ],
   "source": [
    "import functools\n",
    "import time\n",
    "\n",
    "def timer(func):\n",
    "    \"\"\"Print the runtime of the decorated function\"\"\"\n",
    "    @functools.wraps(func)\n",
    "    def wrapper_timer(num):\n",
    "        start_time = time.perf_counter()    \n",
    "        value = func(num)\n",
    "        end_time = time.perf_counter()      \n",
    "        run_time = end_time - start_time    \n",
    "        print(f\"Finished {func} in {run_time:.4f} secs\")\n",
    "        return value\n",
    "    return wrapper_timer\n",
    "\n",
    "@timer\n",
    "\n",
    "def factorial(num):\n",
    "    if num == 0 or num == 1:\n",
    "        return 1\n",
    "    else:\n",
    "        return num * factorial(num - 1)\n",
    "num = int(input(\"Enter a number to find the factorial: \"))\n",
    "a = factorial(num)\n",
    "print(a)"
   ]
  },
  {
   "cell_type": "code",
   "execution_count": 16,
   "metadata": {},
   "outputs": [],
   "source": [
    "#3.\tWrite a decorator to multiply the output of the function by variable number. E.g\n",
    "#a.\t@multiply(3) over the function will multiply the output of function by 3\n",
    "#b.\t@multiply(5) over the same function will multiply the output of function by 5\n"
   ]
  },
  {
   "cell_type": "code",
   "execution_count": 24,
   "metadata": {},
   "outputs": [
    {
     "name": "stdout",
     "output_type": "stream",
     "text": [
      "Enter a number to multiply the function output: 2\n",
      "Enter a number to find the factorial: 5\n",
      "3840\n"
     ]
    }
   ],
   "source": [
    "def multiplication(n):\n",
    "    def wrapper(func):\n",
    "\n",
    "        def wrapper(num):\n",
    "            return func(num) * n\n",
    "\n",
    "        return wrapper\n",
    "    return wrapper\n",
    "\n",
    "n = int(input(\"Enter a number to multiply the function output: \"))\n",
    "@multiplication(n)\n",
    "def factorial(num):\n",
    "    if num == 0 or num == 1:\n",
    "        return 1\n",
    "    else:\n",
    "        return num * factorial(num - 1)\n",
    "num = int(input(\"Enter a number to find the factorial: \"))\n",
    "print(factorial(num))"
   ]
  },
  {
   "cell_type": "code",
   "execution_count": 25,
   "metadata": {},
   "outputs": [],
   "source": [
    "#4.\tDecorator a function that prints welcome message with 2 decorators\n",
    "#@star\n",
    "#@hash\n",
    "\n",
    "#Output -\n",
    "#***********************************\n",
    "###################################\n",
    "#Welcome to the world of Decorators\n",
    "###################################\n",
    "#***********************************\n"
   ]
  },
  {
   "cell_type": "code",
   "execution_count": 19,
   "metadata": {},
   "outputs": [
    {
     "name": "stdout",
     "output_type": "stream",
     "text": [
      "**********************************\n",
      "\n",
      "##################################\n",
      "\n",
      "Welcome to the world of Decorators\n",
      "\n",
      "##################################\n",
      "\n",
      "**********************************\n",
      "\n"
     ]
    }
   ],
   "source": [
    "def star(func):\n",
    "    def wrapper(message):\n",
    "        b = len(message)+ 1\n",
    "        aa = b\n",
    "        while (aa>=0):\n",
    "            if aa>1:\n",
    "                print(\"*\",end = '')\n",
    "            else:\n",
    "                print()\n",
    "            aa -= 1\n",
    "        func(message)\n",
    "        aa = b\n",
    "        while (aa>=0):\n",
    "            if aa>1:\n",
    "                print(\"*\",end = '')\n",
    "            else:\n",
    "                print()\n",
    "            aa -= 1\n",
    "    return wrapper\n",
    "\n",
    "def hash(func):\n",
    "    def wrapper(message):\n",
    "        c = len(message) +1\n",
    "        ad = c\n",
    "        while (ad>=0):\n",
    "            if ad>1:\n",
    "                print(\"#\",end = '')\n",
    "            else:\n",
    "                print()\n",
    "            ad -= 1\n",
    "        print(func(message))\n",
    "        print()\n",
    "        ad = c\n",
    "        while (ad>=0):\n",
    "            if ad>1:\n",
    "                print(\"#\",end = '')\n",
    "            else:\n",
    "                print()\n",
    "            ad -= 1\n",
    "    return wrapper\n",
    "\n",
    "\n",
    "@star\n",
    "@hash\n",
    "def welcome_func(message):\n",
    "    return message\n",
    "a = \"Welcome to the world of Decorators\"\n",
    "welcome_func(a)"
   ]
  },
  {
   "cell_type": "code",
   "execution_count": null,
   "metadata": {},
   "outputs": [],
   "source": []
  }
 ],
 "metadata": {
  "kernelspec": {
   "display_name": "Python 3",
   "language": "python",
   "name": "python3"
  },
  "language_info": {
   "codemirror_mode": {
    "name": "ipython",
    "version": 3
   },
   "file_extension": ".py",
   "mimetype": "text/x-python",
   "name": "python",
   "nbconvert_exporter": "python",
   "pygments_lexer": "ipython3",
   "version": "3.8.5"
  }
 },
 "nbformat": 4,
 "nbformat_minor": 4
}
