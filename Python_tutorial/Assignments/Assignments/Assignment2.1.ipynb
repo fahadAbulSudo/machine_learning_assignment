{
 "cells": [
  {
   "cell_type": "markdown",
   "metadata": {},
   "source": [
    "# ASSIGNMENT_2"
   ]
  },
  {
   "cell_type": "code",
   "execution_count": 3,
   "metadata": {},
   "outputs": [],
   "source": [
    "#1.\tWrite a password generator program of 8 characters that contains at least \n",
    "#one uppercase, one lower case, one digit and one special symbol?\n",
    "#(Every new password should be different than the previously generated one)."
   ]
  },
  {
   "cell_type": "code",
   "execution_count": 1,
   "metadata": {},
   "outputs": [
    {
     "data": {
      "text/plain": [
       "<generator object password_generator at 0x000002F271331EB0>"
      ]
     },
     "execution_count": 1,
     "metadata": {},
     "output_type": "execute_result"
    }
   ],
   "source": [
    "\n",
    "import random\n",
    "pevious_password = \"\"\n",
    "def password_generator():\n",
    "    print('password_generator()')\n",
    "    while True:\n",
    "\n",
    "        MAX_LEN = 8\n",
    " \n",
    "        DIGIT = ['0', '1', '2', '3', '4', '5', '6', '7', '8', '9'] \n",
    "        LOCASE = ['a', 'b', 'c', 'd', 'e', 'f', 'g', 'h',\n",
    "                     'i', 'j', 'k', 'm', 'n', 'o', 'p', 'q',\n",
    "                     'r', 's', 't', 'u', 'v', 'w', 'x', 'y',\n",
    "                     'z']\n",
    " \n",
    "        UPCASE = ['A', 'B', 'C', 'D', 'E', 'F', 'G', 'H',\n",
    "                     'I', 'J', 'K', 'M', 'N', 'O', 'P', 'Q',\n",
    "                     'R', 'S', 'T', 'U', 'V', 'W', 'X', 'Y',\n",
    "                     'Z']\n",
    " \n",
    "        SYMBOL = ['@', '#', '$', '%', '=', ':', '?', '.', '/', '|', '~', '>',\n",
    "           '*', '(', ')', '<']\n",
    " \n",
    "        COMBINED = DIGIT + UPCASE + LOCASE + SYMBOL\n",
    " \n",
    "        random_digit = random.choice(DIGIT)\n",
    "        random_upper = random.choice(UPCASE)\n",
    "        random_lower = random.choice(LOCASE)\n",
    "        random_symbol = random.choice(SYMBOL)\n",
    "\n",
    "        temp = random_digit + random_upper + random_lower + random_symbol\n",
    " \n",
    " \n",
    "\n",
    "        for x in range(MAX_LEN - 4):\n",
    "            temp = temp + random.choice(COMBINED)\n",
    " \n",
    "        #code to covert string character wise to list random.shuffle() method only take list ass arguments \n",
    "        list1=[]\n",
    "        list1[:0]=temp    \n",
    "        #shuffle the list\n",
    "        random.shuffle(list1)\n",
    "        print(temp)\n",
    "        print(list1)\n",
    "        # traverse list to string\n",
    "        password = \"\"\n",
    "        for x in list1:\n",
    "            password = password + x\n",
    "    \n",
    "        global pevious_password\n",
    "        if  pevious_password is password:\n",
    "            continue\n",
    "        else:\n",
    "            pevious_password = password\n",
    "            yield password     \n",
    "G = password_generator()\n",
    "G\n",
    "#print(password)"
   ]
  },
  {
   "cell_type": "code",
   "execution_count": 2,
   "metadata": {},
   "outputs": [
    {
     "name": "stdout",
     "output_type": "stream",
     "text": [
      "password_generator()\n",
      "0Fk#7SB)\n",
      "['B', '7', '#', 'S', 'k', ')', 'F', '0']\n"
     ]
    },
    {
     "data": {
      "text/plain": [
       "'B7#Sk)F0'"
      ]
     },
     "execution_count": 2,
     "metadata": {},
     "output_type": "execute_result"
    }
   ],
   "source": [
    "next(G)\n",
    "\n"
   ]
  },
  {
   "cell_type": "code",
   "execution_count": 23,
   "metadata": {},
   "outputs": [
    {
     "name": "stdout",
     "output_type": "stream",
     "text": [
      "1Km$FBg2\n",
      "['m', 'g', 'F', 'K', '$', '2', '1', 'B']\n"
     ]
    },
    {
     "data": {
      "text/plain": [
       "'mgFK$21B'"
      ]
     },
     "execution_count": 23,
     "metadata": {},
     "output_type": "execute_result"
    }
   ],
   "source": [
    "next(G)"
   ]
  },
  {
   "cell_type": "code",
   "execution_count": 24,
   "metadata": {},
   "outputs": [
    {
     "name": "stdout",
     "output_type": "stream",
     "text": [
      "2To#hwZe\n",
      "['#', 'w', 'h', '2', 'o', 'e', 'Z', 'T']\n"
     ]
    },
    {
     "data": {
      "text/plain": [
       "'#wh2oeZT'"
      ]
     },
     "execution_count": 24,
     "metadata": {},
     "output_type": "execute_result"
    }
   ],
   "source": [
    "next(G)"
   ]
  },
  {
   "cell_type": "code",
   "execution_count": 25,
   "metadata": {},
   "outputs": [],
   "source": [
    "#2.\tWrite a function to reverse words of the sentence?"
   ]
  },
  {
   "cell_type": "code",
   "execution_count": 29,
   "metadata": {},
   "outputs": [
    {
     "name": "stdout",
     "output_type": "stream",
     "text": [
      "Such a waste of time\n",
      "time of waste a Such "
     ]
    }
   ],
   "source": [
    "def reverse(Sentence):\n",
    "    #Create an empty character array stack\n",
    "    reverse_ = []\n",
    "    words = Sentence.split(\" \")\n",
    "     \n",
    "    # Push words into the stack\n",
    "    for word in words :\n",
    "        reverse_.append(word);\n",
    "         \n",
    "    while (len(reverse_)) :\n",
    "        \n",
    "        print(reverse_.pop(), end = \" \");\n",
    "     \n",
    " \n",
    "Sentence = input()\n",
    "reverse(Sentence)"
   ]
  },
  {
   "cell_type": "code",
   "execution_count": 1,
   "metadata": {},
   "outputs": [],
   "source": [
    "#3.\tWrite a function that accepts a sequence of whitespace separated words\n",
    "#as input and prints the words after removing all duplicate words and sorting them alphanumerically?\n",
    "#(Both with and without second list)\n"
   ]
  },
  {
   "cell_type": "code",
   "execution_count": 12,
   "metadata": {},
   "outputs": [
    {
     "name": "stdout",
     "output_type": "stream",
     "text": [
      "I am Fahad\n",
      "['i', 'am', 'fahad']\n",
      "['am', 'fahad', 'i']\n",
      "am fahad i \n"
     ]
    }
   ],
   "source": [
    "s = input()\n",
    "s = s.lower()# lower al words to make uniform\n",
    "lis1 = s.split(\" \")# split and srored every word in lis1\n",
    "print(lis1)\n",
    "se = set(lis1) #convert list to set so that duplicates are not allowed\n",
    "se=sorted(se) #sorted the set and converted to list\n",
    "print(se)\n",
    "str1 = \"\"\n",
    "for ele in se: \n",
    "    str1 += (ele+\" \")#here ry to convert list to set\n",
    "#print(str1.join(se))\n",
    "print(str1)"
   ]
  },
  {
   "cell_type": "code",
   "execution_count": 24,
   "metadata": {},
   "outputs": [
    {
     "name": "stdout",
     "output_type": "stream",
     "text": [
      "I am Fahad\n",
      "am fahad i\n"
     ]
    }
   ],
   "source": [
    "s = input()\n",
    "#words = [word for word in s.split(\" \")]\n",
    "s = s.lower()\n",
    "words = s.split(\" \")\n",
    "print (\" \".join(sorted(set(words))))"
   ]
  },
  {
   "cell_type": "code",
   "execution_count": 25,
   "metadata": {},
   "outputs": [],
   "source": [
    "#4.\tGiven an array of ints length n, return an array with the elements \"rotated left\" so {1, 2, 3} yields each iteration until {2, 3, 1} comes. Eg:\n",
    "#rotate_left1([5, 11, 9]) → [11, 9, 5]\n",
    "#rotate_left2([7, 0, 0]) → [0, 7, 0]\t\n"
   ]
  },
  {
   "cell_type": "code",
   "execution_count": 39,
   "metadata": {},
   "outputs": [
    {
     "name": "stdout",
     "output_type": "stream",
     "text": [
      "Enter number of elements : 3\n",
      "45\n",
      "15\n",
      "12\n",
      "rotate_left1 of  [45, 15, 12]  gives [15, 12, 45]\n",
      "rotate_left2 of  [45, 15, 12]  gives [12, 45, 15]\n"
     ]
    }
   ],
   "source": [
    "#C language type\n",
    "import copy\n",
    "def left_rotation(a):\n",
    "        \n",
    "        for l in range(2):    \n",
    "            #j, last    \n",
    "            \n",
    "            first = a[0]    \n",
    "        \n",
    "            for j in range(1,n):    \n",
    "            #Shift element of array by one    \n",
    "                a[j-1] = a[j] \n",
    "            a[n-1]= first\n",
    "            yield a\n",
    "            \n",
    "a = []\n",
    "b = []\n",
    "n = int(input(\"Enter number of elements : \"))\n",
    "  \n",
    "\n",
    "for o in range(0, n):\n",
    "    elem = int(input())\n",
    "    a.append(elem)\n",
    "b = copy.copy(a) \n",
    "a = left_rotation(a)\n",
    "for l in range(2):\n",
    "    print(f\"rotate_left{l+1} of  {b}  gives {next(a)}\")"
   ]
  },
  {
   "cell_type": "code",
   "execution_count": 48,
   "metadata": {},
   "outputs": [
    {
     "name": "stdout",
     "output_type": "stream",
     "text": [
      "Enter number of elements : 4\n",
      "12\n",
      "645\n",
      "6456\n",
      "521\n",
      "After two rotations[6456, 521, 12, 645]\n"
     ]
    }
   ],
   "source": [
    "#python method of slicing\n",
    "def left_rotation(a,n):  #n,d\n",
    "    temp = []\n",
    "    k = 0\n",
    "    while (k < 2):\n",
    "        temp.append(a[k])\n",
    "        k = k + 1\n",
    "    k = 0\n",
    "    d = 2\n",
    "    while (d < n):\n",
    "        a[k] = a[d]\n",
    "        k = k + 1\n",
    "        d = d + 1\n",
    "    a[:] = a[: k] + temp\n",
    "    return a\n",
    "a = []\n",
    "\n",
    "n = int(input(\"Enter number of elements : \"))\n",
    "  \n",
    "\n",
    "for o in range(0, n):\n",
    "    elem = int(input())\n",
    "    a.append(elem)\n",
    "a = left_rotation(a,n)\n",
    "print(f\"After two rotations{a}\")"
   ]
  },
  {
   "cell_type": "code",
   "execution_count": 49,
   "metadata": {},
   "outputs": [],
   "source": [
    "#5.\tWrite a function that takes the path of a directory and prints out the paths files within that directory \n",
    "#as well as any files present in the nested directories. (This function is similar to os.walk.\n",
    "#Please don't use os.walk in your answer. We are interested in your ability to work with nested structures)"
   ]
  },
  {
   "cell_type": "code",
   "execution_count": 10,
   "metadata": {},
   "outputs": [
    {
     "name": "stdout",
     "output_type": "stream",
     "text": [
      "Directory list ['.opera', 'a', 'a1', 'Company_docs', 'New folder', 'Company_docs_1', 'Company_docs_2', 'Corporate', 'documents', 'hostel', 'END_SEM project', 'Gui_app', 'build', 'gui', 'dist', '__pycache__', 'IOT', 'Unit 3-20220424', 'Unit 4-20220424', 'Unit 5-20220424', 'unit_1', 'unit_2', 'Major prjct', 'mk11', 'prjct_pics', 'Project_internship', 'Major_project', 'Mini_project', 'Codes', 'Verzeo-internship', 'Certificate', 'Major Project', 'Minor', 'python_cose_with', '0. Introduction', '1. Chapter 1', '.vscode', '10. Chapter 10', '11. Chapter 11', '12. Chapter 12', '__pycache__', '13. Chapter 13', '.vscode', '2. Chapter 2', '.vscode', '3. Chapter 3', '.vscode', '4. Chapter 4', '5. Chapter 5', '6. Chapter 6', '7. Chapter 7', '8. Chapter 8', '9. Chapter 9', 'tables', 'Project 1', 'Project 2', 'Project 3']\n",
      "Files list ['0760e6cd-4674-4916-b12c-12cb07eae36e.pdf', '106105167.pdf', '108105063 (1).zip', '108105063.zip', '111810010_nps.pptx', '111810135-GBatch-MD1.pdf', '111810147.rar', '111810147_END_SEM_PROJECT (1).pptx', '111810147_END_SEM_PROJECT.pdf', '111810147_END_SEM_PROJECT.pptx', '111810147_FAHAD_ABUL.pdf', '111810147_FAHAD_SOHAIL.pdf', '111810147_FAHAD_SOHAIL_compressed.pdf', '111810147_Minor_Client-side-programming.rar', '1_insertion_sort.c', '7_selection_sort.c', '2022-02-02 (1).png', '2022-02-02 (10).png', '2022-02-02 (11).png', '2022-02-02 (12).png', '2022-02-02 (13).png', '2022-02-02 (14).png', '2022-02-02 (15).png', '2022-02-02 (16).png', '2022-02-02 (17).png', '2022-02-02 (18).png', '2022-02-02 (19).png', '2022-02-02 (2).png', '2022-02-02 (20).png', '2022-02-02 (21).png', '2022-02-02 (22).png', '2022-02-02 (23).png', '2022-02-02 (24).png', '2022-02-02 (25).png', '2022-02-02 (26).png', '2022-02-02 (27).png', '2022-02-02 (28).png', '2022-02-02 (29).png', '2022-02-02 (3).png', '2022-02-02 (30).png', '2022-02-02 (31).png', '2022-02-02 (32).png', '2022-02-02 (33).png', '2022-02-02 (34).png', '2022-02-02 (35).png', '2022-02-02 (36).png', '2022-02-02 (37).png', '2022-02-02 (38).png', '2022-02-02 (39).png', '2022-02-02 (4).png', '2022-02-02 (40).png', '2022-02-02 (41).png', '2022-02-02 (5).png', '2022-02-02 (6).png', '2022-02-02 (7).png', '2022-02-02 (8).png', '2022-02-02 (9).png', '2022-02-02.png', '2022-02-04 (10).png', '2022-02-04 (11).png', '2022-02-04 (12).png', '2022-02-04 (13).png', '2022-02-04 (14).png', '2022-02-04 (15).png', '2022-02-04 (16).png', '2022-02-04 (17).png', '2022-02-04 (18).png', '2022-02-04 (19).png', '2022-02-04 (20).png', '2022-02-04 (21).png', '2022-02-04 (22).png', '2022-02-04 (23).png', '2022-02-04 (25).png', '2022-02-04 (26).png', '2022-02-04 (27).png', '2022-02-04 (28).png', '2022-02-04 (29).png', '2022-02-04 (30).png', '2022-02-04 (31).png', '2022-02-04 (32).png', '2022-02-04 (33).png', '2022-02-04 (34).png', '2022-02-04 (35).png', '2022-02-04 (36).png', '2022-02-04 (37).png', '2022-02-04 (38).png', '2022-02-04 (39).png', '2022-02-04 (8).png', '2022-02-04 (9).png', 'AICTE_Assessment.pdf', 'ALGORITHMS BY KHALEEL SIR.pdf', 'Algorithms Volume-1 Practice questions.pdf', 'Algorithms-Handout.pdf', 'All_scholarship_schemes_pdf.rar', 'Anaconda3-2020.11-Windows-x86_64.exe', 'ann axcel.xlsx', 'ANN flowchart.docx', 'APznzaZxV4silcTkXWY9vnfzi5bFFEKA68wYnqaI4PA2IJsdXOUe5g4ppjVIAfppDOwxsHna0h6OCh6fIeM_tfpykLaMTuZvoCs7cQUMZ8UfgEtQhQQBxNbDT0N2kiMP1468vZ95Y4hazvNjCvY7U5Pep3F66qRBUFGYrM9klzbLyju3XK21VyfI7q2qd5eT2kU2S4xdmZq3feAH3U2mgw.pdf', 'Array Lecture 3 Selection and Insertion.rar', 'CAD_Fusion_360_Project_Plummer block.pdf', 'Capgemini.c', 'Chapter-1.pdf', 'codeblocks-20.03mingw-setup - Shortcut.lnk', 'codeblocks-20.03mingw-setup.exe', 'CodersZen_ JavaScript Series Calendar.ics', 'COEP PFMS Pending List.xlsx', 'COEP PFMS Pending List.zip', 'coepfees2020.pdf', 'COEP_FEES2021_22.pdf', 'cognizant.pdf', 'cognizant_compressed.pdf', 'Comb.Derangement, Graph Theory.pdf', '1.jpg', '10th result.jpeg', '10th.jpg', '12th result.jpg', '12th.jpeg', '20220601_191130-1.jpg', '20220601_191200-1.jpg', '20220601_191200-1.pdf', 'Aadhar.jpg', 'Aadhar.png', 'AAdhar_1.jpg', 'AAdhar_2.jpg', 'College_id.jpeg', 'EAadhaar_0000001178639720211211132126_01062022151525.pdf', 'Employee Joining Form.docx', 'Hardware Acknowledgement 2.0 Fahad Abul  GCS-96LP.docx', 'NDA l Fahad Sohail Abul-1-3.pdf', 'NDA l Fahad Sohail Abul.pdf', 'AAdhar.docx', 'Form F- Gratuity Nomination-1.pdf', 'Form11Revised.pdf', 'PAN.docx', 'PF Declaration Form.pdf', 'pf nomination Form2_1.pdf', 'SBI.docx', 'PAN.jpg', 'Revised Acceptance of Company Policies March 20.pdf', 'SBI.jpg', 'SEM_1.jpg', 'SEM_2.jpg', 'SEM_3.jpg', 'SEM_4.jpg', 'SEM_5.jpg', 'SEM_6.jpg', 'SEM_7.jpg', 'SEM_8.jpg', 'Assignment 1.docx', 'Assignment 2.docx', 'Training Plan - Python.xlsx', '~$signment 2.docx', 'Form F- Gratuity Nomination-1.jpg', 'Form F- Gratuity Nomination-2.jpg', 'Form F- Gratuity Nomination.doc', 'Form11Revised.jpg', 'Form11Revised.pdf', 'PF Declaration Form-2.pdf', 'PF Declaration Form.docx', 'PF Declaration Form.jpg', 'PF Declaration Form.pdf', 'pf nomination Form2.doc', 'pf nomination Form2_1.jpg', 'pf nomination Form2_2.jpg', 'Computer Networks_GATE_2020 (1) (1).pdf', 'EPF withdrawal  Criteria  (1).pdf', 'EPF withdrawal  Criteria .pdf', 'Gratuity (1).pdf', 'HRA Calculations.pdf', 'Income Tax Guide.pdf', 'Leave Travel Allowance.pdf', 'Maternity Leaves.pdf', 'NPS.pdf', 'Section 80.pdf', 'Cours 9_29.10.21_les relations de famille.docx', 'crater-wear-flank-wear.jpg', 'D-Maths Volume-1 Practice questions..pdf', 'desktop.ini', 'DewesoftX_2021.5_211103_x64_web.exe', 'dnSpy.Console.exe', 'dnSpy.exe', '1.jpg', '10th result.jpeg', '111810147_FAHAD_ABUL.pdf', '111810147_FAHAD_SOHAIL_ABUL.pdf', '111810147_FAHAD_SOHAIL_ABUL_CV.pdf', '12th result.jpeg', '38633617-d11f-4507-9f41-9cc7c7f363be.pdf', '6th sem.pdf', '7th_semester.PDF', 'Aadhaar.pdf', 'Aadhaar_1.pdf', 'Abul_Fahad_Sohail_Sohail__27393753_Capgemini_Candidate_Report.pdf', 'Adhar.pdf', 'College_id.jpeg', 'fahad.png', 'Gate_1.pdf', 'Gate_2.pdf', 'Gate_22_result.pdf', 'Undertaking _COVID_COEP.pdf', 'Undertaking _COVID_COEP_compressed.pdf', 'Undertaking-Form-Hostel Admission-AY-2021-22-converted.pdf', 'Undertaking-Form-Hostel Admission-AY-2021-22-converted_compressed.pdf', 'IMAGE.png', 'me.jpeg', 'myself.jpeg', 'Offer Letter -Abul fahad Sohail(1).pdf', 'PAN.png', 'Report_Generated_61416_1646728822.pdf', 'sigh.jpg', 'sign.jpeg', 'signature.jpeg', 'signature_1.pdf', 'signature_1.png', 'doubly and circular linked list as well as queue linked list code..txt', 'download.aspx', 'dxwebsetup.exe', 'eclipse-inst-jre-win64.exe', 'EIOT Full Time Analyst Program.pdf', 'Employee Joining Form.docx', 'ANN.pdf', 'Autoencoder_ANN1.pdf', 'Autoencoder_ANN2.pdf', 'File_merge.pdf', 'engineering-thermodynamics-3rd-ed-r-k-rajput-by-ronaldplus.pdf', 'enrollment-invoice.pdf', 'EXPERIMENT NO 1 RAC LAB-111810147.pdf', 'facility_560099.pdf', 'fdm_x64_setup.exe', 'Fusion 360 Client Downloader {ta_m-id_918-FOD-433&token__mch-autodesk.com-1628000300324-88654}.exe', 'Global  ICG FT JD Application Developer .pdf', 'Gratuity.pdf', 'Group 26_B.Tech Project Report (1).docx', 'GRU Batch size 32 epoch 50.docx', 'gtool.txt', 'Analysis-00.toc', 'base_library.zip', 'EXE-00.toc', 'gui.exe.manifest', 'PKG-00.pkg', 'PKG-00.toc', 'PYZ-00.pyz', 'PYZ-00.toc', 'Tree-00.toc', 'Tree-01.toc', 'Tree-02.toc', 'warn-gui.txt', 'xref-gui.html', 'gui.exe', 'gui.py', 'gui.spec', 'sun_icon.ico', 'gui.cpython-39.pyc', 'idoc.pub_r-p-jain-modern-digital-electronics-tata-mcgraw-hill.pdf', 'invite.ics', 'http.pptx', 'it2353-wt.pdf', 'unit 4.pdf', 'java script.pptx', 'javascript_tutorial.pdf', 'Sams Teach Yourself HTML, CSS, and JavaScript All in One.pdf', 'What is Server side Scripting.docx', 'osi and tcpip.pptx', 'osi model_unit 1.pdf', 'telnet+ftp_remote login.pdf', 'Unit 1_Internet.pptx', 'Unit 1_Internet-converted-merged.pdf', 'unit2_NETWORKS.pdf', 'jdk-15.0.2_windows-x64_bin.exe', 'jee advanced.jpeg', 'jee mains.jpeg', 'linear_algebra_day3.pdf', 'LOA-Abu_Fahad_Sohain.docx', 'LOA-Fahad_Sohail_Abul.pdf', 'LockDownBrowserOEMSetup.exe', 'ding2019.pdf', 'ICML03-057.pdf', 'literature review.pptx', 'mnih2015.pdf', 'Pulses_Classification_Based_on_Sparse_Auto-Encoder.pdf', 'rl_classification.pdf', 'Wood Type.pptx', 'MD5.zip', 'mingw-w64-install.exe', 'MD5 (1).zip', 'model_GRU.h5', 'model_RNN.h5', 'Modern Control Engineering 5th Edition.pdf', 'MoviesNation.Net-Peaky.Blinders.S01E01.720p.BluRay.ESubs.mkv', 'MoviesNation.Net-Peaky.Blinders.S01E02.720p.BluRay.ESubs.mkv', 'MoviesNation.Net-Peaky.Blinders.S01E03.720p.BluRay.ESubs.mkv', 'MoviesNation.Net-Peaky.Blinders.S01E04.720p.BluRay.ESubs.mkv', 'MoviesNation.Net-Peaky.Blinders.S01E05.720p.BluRay.ESubs.mkv', 'MoviesNation.Net-Peaky.Blinders.S01E06.720p.BluRay.ESubs.mkv', 'Music - Shortcut.lnk', 'Mutual Funds.pptx', 'mysql-installer-community-8.0.26.0.msi', 'nandy2017.pdf', 'New Tax Regime.png', 'NPS_Product_Presentation (3).pdf', 'Offer Letter -Abul fahad Sohail.docx', 'Offer Letter -Abul fahad Sohail.pdf', 'Old Tax Regime.jpg', 'Password 123.txt', 'patange2021.pdf', 'pdfcoffee.com_cad-cam-theory-practice-by-ibrahim-zaid-pdf-free.pdf', 'GRU.png', 'LSTM.png', 'RNN-FeedForward.png', 'RNN.png', 'programming-with-java-a-primer3e-by-balagurusamy_compress.pdf', 'Project Discusion-20210614_153337-Meeting Recording.mp4', 'ASM PROJECT REPORT 3.0.pdf', 'Boat_problem_gear box.pdf', 'ESE Project Report-1.pdf', 'Group-2 Mid Term Project Report-1.pdf', 'Trial_117_clean.pdf', 'ann1_dataset - feature_selectionJupyter Notebook.pdf', 'ann1_dataset(1) - Jupyter Notebook.pdf', 'ann1_dataset_kfold - Jupyter Notebook.pdf', 'ann1_dataset_stratified - Jupyter Notebook.pdf', 'cnn_dataset k fold - Jupyter Notebook.pdf', 'Perfect_toolwear- Jupyter Notebook.pdf', 'ReNN - Jupyter Notebook.pdf', 'ToolWearPerfect - Jupyter Notebook.pdf', 'Mini Project group 35.pdf', 'Screwjack Design Project.pdf', '1191747680.jpg', '2737207403.jpg', 'Major Project.pdf', 'Major_project - Jupyter Notebook.pdf', 'Major_project.ipynb', 'Logistic_Regression_Model - Jupyter Notebook.pdf', 'Mini-project.docx', 'SVM_Model - Jupyter Notebook.pdf', 'SVM_Model and Logistic_Regression_Model.ipynb', 'ProxifierSetup.exe', 'psiphon3.exe', 'psiphon3.exe.orig', 'Chapter 0.pdf', 'settings.json', '01_hello.py', '02_pr_01_twinkle.py', '03_pr_03_module_usage.py', '04_pr_04_list_directory.py', 'Chapter 1 - Practice set.pdf', 'Chapter 1 Python.pdf', 'play.mp3', '01_oops.py', '02_railway_oops.py', '03_game_example.py', '04_employee.py', '05_instance_class_attributes.py', '06_self.py', '07_static_method.py', '08_constructor.py', '09_pr_01.py', '10_pr_02.py', '11_pr_03.py', '12_pr_04.py', '13_pr_05.py', '14_pr_06.py', 'Chapter 10 - Oops.pdf', 'Chapter 10 - Practice Set.pdf', 'tempCodeRunnerFile.py', '01_inheritance.py', '02_single_inheritance.py', '03_multiple_inheritance.py', '04_multilevel_inheritance.py', '05_super.py', '06_class_methods.py', '07_property_decorator.py', '08_operator_overloading.py', '09_other_dunder_methods.py', '10_pr_01.py', '11_pr_02.py', '12_pr_03.py', '13_pr_04.py', '14_pr_05.py', '15_pr_06.py', '16_pr_07.py', 'Chapter 11 - Practice Set.pdf', 'Chapter 11.pdf', 'tempCodeRunnerFile.py', '01_try.py', '02_handling_different_exceptions.py', '03_raising_exceptions.py', '04_try_with_else.py', '05_try_except_finally.py', '08_global.py', '09_enumerate.py', '1.txt', '10_list_comprehension.py', '11_pr_01.py', '12_pr_02.py', '13_pr_03.py', '14_pr_04.py', '15_pr_05.py', 'Chapter 12 - Advanced Python 1.pdf', 'Chapter 12 - Practice Set.pdf', 'm06_file1.py', 'm07_file2.py', 'tables.txt', 'm06_file1.cpython-38.pyc', 'settings.json', '01_virtualenv.py', '02_lambda.py', '03_join.py', '04_format.py', '05_map.py', '06_filter.py', '07_reduce.py', '08_pr_02.py', '09_pr_03.py', '10_pr_04.py', '11_pr_05.py', '12_pr_06.py', 'Chapter 13 - Advanced Python 2.pdf', 'Chapter 13 - Practice Set.pdf', 'settings.json', '01_variable.py', '02_operators.py', '03_typecasting.py', '04_input_function.py', '05_pr_01_add_2_numbers.py', '06_pr_02_remainder.py', '07_pr05_avg.py', 'Chapter 2 - Practice.pdf', 'Chapter 2.pdf', 'settings.json', '01_strings.py', '02_string_slicing.py', '03_string_functions.py', '04_escape_sequences.py', '05_pr_01.py', '06_pr_02.py', '07_pr_03.py', '08_pr_04.py', '09_pr_05.py', 'Chapter 3 Practice Set.pdf', 'Chapter 3.docx', 'Chapter 3.pdf', 'tempCodeRunnerFile.py', '01_lists.py', '02_list_slicing.py', '03_list_methods.py', '04_tuples.py', '05_tuple_methods.py', '06_pr_01_store_fruits.py', '07_pr_02_marks.py', '08_tuple_change_test.py', '09_sum_a_list.py', 'Chapter 4 - Practice Set.pdf', 'Chapter 4.pdf', '01_dictionary_syntax.py', '02_dictionary_methods.py', '03_sets_in_python.py', '04_empty_set.py', '05_set_methods.py', '06_pr_01.py', '07_pr_02.py', '08_pr_03.py', '09_pr_04.py', '10_pr_06.py', 'Chapter 5 - Practice Set.docx', 'Chapter 5 - Practice Set.pdf', 'Chapter 5.docx', 'Chapter 5.pdf', '01_conditionals.py', '02_if_else_quick_quiz.py', '03_logical_and_relational_operators.py', '04_in_and_is.py', '05_is_else_optional.py', '06_pr_01.py', '07_pr_02.py', '08_pr_03.py', '09_pr_05.py', '10_pr_06.py', 'Chapter 6 - Practice Set.pdf', 'Chapter 6.pdf', '01_while_loop.py', '02_quick_quiz.py', '03_print_list.py', '04_print_list_for.py', '05_range_function.py', '06_for_with_else.py', '07_break_statement.py', '08_continue_statement.py', '09_pass_statement.py', '10_pr_01.py', '11_pr_02.py', '12_pr_04.py', '13_pr_06.py', '14_pr_08.py', '15_pr_07.py', 'Chapter 7 - Practice Set.pdf', 'Chapter 7.pdf', '01_functions.py', '02_quick_quiz.py', '03_default_arguments.py', '04_factorial.py', '05_pr_01.py', '06_pr_02.py', '07_pr_03.py', '08_pr_04.py', '09_pr_05.py', '10_pr_07.py', 'Chapter 8 Practice Set.pdf', 'Chapter 8.pdf', '09_01_files.py', '09_02_readline.py', '09_03_write.py', '09_04_with.py', '09_05_pr_01.py', '09_06_game_pr_02.py', '09_07_pr_03.py', '09_08_pr_04.py', '09_09_pr_05.py', '09_10_pr_06.py', '09_11_pr_07.py', '09_12_pr_08.py', '09_13_pr_09.py', '09_14_pr_10.py', '09_15_pr_11.py', 'another.txt', 'Chapter 9 - Practice Set.pdf', 'Chapter 9.pdf', 'copy.txt', 'hiscore.txt', 'log.txt', 'poems.txt', 'renamed_by_python.txt', 'sample.txt', 'Multiplication_table_of_10.txt', 'Multiplication_table_of_11.txt', 'Multiplication_table_of_12.txt', 'Multiplication_table_of_13.txt', 'Multiplication_table_of_14.txt', 'Multiplication_table_of_15.txt', 'Multiplication_table_of_16.txt', 'Multiplication_table_of_17.txt', 'Multiplication_table_of_18.txt', 'Multiplication_table_of_19.txt', 'Multiplication_table_of_2.txt', 'Multiplication_table_of_20.txt', 'Multiplication_table_of_3.txt', 'Multiplication_table_of_4.txt', 'Multiplication_table_of_5.txt', 'Multiplication_table_of_6.txt', 'Multiplication_table_of_7.txt', 'Multiplication_table_of_8.txt', 'Multiplication_table_of_9.txt', 'tempCodeRunnerFile.py', 'this.txt', 'Important notes made by me fa.txt', 'main.py', 'Project 1.pdf', 'hiscore.txt', 'main.py', 'Project 2.pdf', 'tempCodeRunnerFile.py', 'index.html', 'main.py', 'Project 3.pdf', 'Python Course with Notes.zip', 'TimeStamps.txt', 'rema thareja.pdf', 'Report.pdf', 'RLbook2020.pdf', 'SAB-Proctor-win10-2021.exe', 'scorpion.jpg', 'Screwjack_gearbox.pdf', 'SecureExamBrowserInstaller_1.4.2.msi', 'seismosignal.exe', 'SelectionSort Insertion sort.ppt', 'Solution.pdf', 'SQL Query Examples 18 August.docx', 'SupportAssistLauncher.exe', 'Teams_windows_x64_s_8D8376C4F2B2C02-7-0_.exe', 'Terminal 1_LLC_FRENCH_FAHAD_ABUL_111810147.pdf', 'Theory of the RNN.docx', 'Trial_117.csv', 'UAN.pdf', 'Understanding your offer letter.pdf', 'Unit 3-20220424.zip', 'Unit 4-20220424.zip', 'Unit 5-20220424.zip', 'uTorrent.exe', 'vlc-3.0.14-win32.exe', 'VSCodeUserSetup-x64-1.46.1.exe', 'webexapp.msi', 'WEB_v10.msi', 'WhatsApp Image 2022-03-31 at 4.23.01 PM.jpeg', 'WhatsAppSetup.exe', 'winrar-x64-590.exe', '~$1810147 Assignment 1.docx']\n"
     ]
    }
   ],
   "source": [
    "import os\n",
    "\n",
    "files = []\n",
    "directories = []\n",
    "\n",
    "def listdirs(rootdir):\n",
    "    for folder in os.listdir(rootdir):\n",
    "        d = os.path.join(rootdir, folder)\n",
    "        if os.path.isdir(os.path.join(rootdir, folder)):\n",
    "            directories.append(folder)\n",
    "            listdirs(d)\n",
    "        else:\n",
    "            files.append(folder)\n",
    " \n",
    "rootdir = r'C:\\Users\\abulf\\Downloads'\n",
    "listdirs(rootdir)\n",
    "print(f\"Directory list {directories}\")\n",
    "print(f\"Files list {files}\")"
   ]
  },
  {
   "cell_type": "code",
   "execution_count": null,
   "metadata": {},
   "outputs": [],
   "source": []
  }
 ],
 "metadata": {
  "kernelspec": {
   "display_name": "Python 3",
   "language": "python",
   "name": "python3"
  },
  "language_info": {
   "codemirror_mode": {
    "name": "ipython",
    "version": 3
   },
   "file_extension": ".py",
   "mimetype": "text/x-python",
   "name": "python",
   "nbconvert_exporter": "python",
   "pygments_lexer": "ipython3",
   "version": "3.8.5"
  }
 },
 "nbformat": 4,
 "nbformat_minor": 4
}
