{
 "cells": [
  {
   "cell_type": "code",
   "execution_count": 1,
   "metadata": {},
   "outputs": [],
   "source": [
    "from pymongo import MongoClient\n",
    "import sys\n",
    "import io\n"
   ]
  },
  {
   "cell_type": "code",
   "execution_count": 2,
   "metadata": {},
   "outputs": [],
   "source": [
    "from pymongo import MongoClient\n",
    "client = MongoClient()"
   ]
  },
  {
   "cell_type": "code",
   "execution_count": 3,
   "metadata": {},
   "outputs": [],
   "source": [
    "client = MongoClient(\"mongodb://localhost:27017/\")"
   ]
  },
  {
   "cell_type": "code",
   "execution_count": 4,
   "metadata": {},
   "outputs": [
    {
     "data": {
      "text/plain": [
       "Database(MongoClient(host=['localhost:27017'], document_class=dict, tz_aware=False, connect=True), 'contact_list_db')"
      ]
     },
     "execution_count": 4,
     "metadata": {},
     "output_type": "execute_result"
    }
   ],
   "source": [
    "database = client['contact_list_db']\n",
    "database"
   ]
  },
  {
   "cell_type": "code",
   "execution_count": 5,
   "metadata": {},
   "outputs": [],
   "source": [
    "# Function to recursively extract nested fields' names and types\n",
    "def extract_fields(data, prefix=\"\", fields_info={}):\n",
    "    for key, value in data.items():\n",
    "        field_name = f\"{prefix}.{key}\" if prefix else key\n",
    "\n",
    "        if isinstance(value, dict):\n",
    "            # Recursively extract nested fields\n",
    "            extract_fields(value, field_name, fields_info)\n",
    "        elif isinstance(value, list):\n",
    "            # Check if the list contains dictionaries\n",
    "            if all(isinstance(item, dict) for item in value):\n",
    "                for item in value:\n",
    "                    # Recursively extract fields for each item in the list\n",
    "                    extract_fields(item, field_name, fields_info)\n",
    "            else:\n",
    "                # Otherwise, treat it as an array\n",
    "                fields_info[field_name] = \"array\"\n",
    "        else:\n",
    "            field_type = type(value).__name__\n",
    "            if field_name not in fields_info:\n",
    "                fields_info[field_name] = field_type\n",
    "\n",
    "# Initialize an empty dictionary to store the collection information\n",
    "collections_info = {}\n",
    "\n",
    "# Get the list of collection names in the database\n",
    "collection_names = database.list_collection_names()\n",
    "\n",
    "# Iterate through each collection and fetch field names and types\n",
    "for collection_name in collection_names:\n",
    "    collection = database[collection_name]\n",
    "    collection_info = {}\n",
    "\n",
    "    # Fetch all documents from the collection\n",
    "    documents = collection.find()\n",
    "\n",
    "    # Extract fields from each document\n",
    "    for document in documents:\n",
    "        extract_fields(document, \"\", collection_info)\n",
    "\n",
    "    # Store the collection information in the dictionary\n",
    "    collections_info[collection_name] = collection_info\n",
    "\n",
    "\n"
   ]
  },
  {
   "cell_type": "code",
   "execution_count": null,
   "metadata": {},
   "outputs": [],
   "source": []
  },
  {
   "cell_type": "code",
   "execution_count": 7,
   "metadata": {},
   "outputs": [],
   "source": [
    "collections_info = {}\n",
    "\n",
    "# Get the list of collection names in the database\n",
    "collection_names = database.list_collection_names()\n",
    "\n",
    "# Function to recursively extract nested field names and types\n",
    "def extract_fields(data, prefix=\"\", fields_info={}):\n",
    "    for key, value in data.items():\n",
    "        field_name = f\"{prefix}.{key}\" if prefix else key\n",
    "\n",
    "        if isinstance(value, dict):\n",
    "            # Recursively extract nested fields\n",
    "            extract_fields(value, field_name, fields_info)\n",
    "        elif isinstance(value, list):\n",
    "            # Check if the list contains dictionaries\n",
    "            if all(isinstance(item, dict) for item in value):\n",
    "                for i, item in enumerate(value):\n",
    "                    # Recursively extract fields for each item in the list\n",
    "                    extract_fields(item, f\"{field_name}.{i}\", fields_info)\n",
    "            else:\n",
    "                # Otherwise, treat it as an array\n",
    "                fields_info[field_name] = \"array\"\n",
    "        else:\n",
    "            field_type = type(value).__name__\n",
    "            fields_info[field_name] = field_type\n",
    "\n",
    "# Iterate through each collection and fetch field names and types\n",
    "for collection_name in collection_names:\n",
    "    collection = database[collection_name]\n",
    "    collection_info = {}\n",
    "\n",
    "    # Fetch a document from the collection to determine field names and types\n",
    "    sample_document = collection.find_one()\n",
    "\n",
    "    # Extract fields from the sample document\n",
    "    extract_fields(sample_document, \"\", collection_info)\n",
    "\n",
    "    # Store the collection information in the dictionary\n",
    "    collections_info[collection_name] = collection_info"
   ]
  },
  {
   "cell_type": "code",
   "execution_count": 6,
   "metadata": {},
   "outputs": [
    {
     "data": {
      "text/plain": [
       "{'Hospital': {'_id': 'ObjectId',\n",
       "  'hospital_id': 'str',\n",
       "  'name': 'str',\n",
       "  'address.street': 'str',\n",
       "  'address.city': 'str',\n",
       "  'address.state': 'str',\n",
       "  'address.zip_code': 'str',\n",
       "  'address.country': 'str',\n",
       "  'contact.email': 'str',\n",
       "  'contact.phone': 'str',\n",
       "  'services': 'array',\n",
       "  'rating': 'float',\n",
       "  'capacity.total_beds': 'int',\n",
       "  'capacity.available_beds': 'int',\n",
       "  'capacity.icu_beds': 'int',\n",
       "  'departments.department_id': 'str',\n",
       "  'departments.name': 'str',\n",
       "  'departments.head_doctor': 'str',\n",
       "  'departments.description': 'str'},\n",
       " 'Patient': {'_id': 'ObjectId',\n",
       "  'patient_id': 'str',\n",
       "  'first_name': 'str',\n",
       "  'last_name': 'str',\n",
       "  'gender': 'str',\n",
       "  'date_of_birth': 'datetime',\n",
       "  'contact.email': 'str',\n",
       "  'contact.phone': 'str',\n",
       "  'contact.address.street': 'str',\n",
       "  'contact.address.city': 'str',\n",
       "  'contact.address.state': 'str',\n",
       "  'contact.address.zip_code': 'str',\n",
       "  'contact.address.country': 'str',\n",
       "  'medical_history.blood_type': 'str',\n",
       "  'medical_history.allergies': 'array',\n",
       "  'medical_history.conditions': 'array',\n",
       "  'appointments.appointment_id': 'str',\n",
       "  'appointments.doctor_name': 'str',\n",
       "  'appointments.date': 'datetime',\n",
       "  'appointments.reason': 'str',\n",
       "  'prescriptions.prescription_id': 'str',\n",
       "  'prescriptions.medication': 'str',\n",
       "  'prescriptions.dosage': 'str',\n",
       "  'prescriptions.instructions': 'str',\n",
       "  'insurance.provider_name': 'str',\n",
       "  'insurance.policy_number': 'int',\n",
       "  'hospital_id': 'ObjectId'}}"
      ]
     },
     "execution_count": 6,
     "metadata": {},
     "output_type": "execute_result"
    }
   ],
   "source": [
    "collections_info"
   ]
  },
  {
   "cell_type": "code",
   "execution_count": 9,
   "metadata": {},
   "outputs": [
    {
     "name": "stdout",
     "output_type": "stream",
     "text": [
      "Patient ID: PAT00196\n",
      "Name: Christopher Patrick\n",
      "Gender: Male\n",
      "Date of Birth: 1991-02-03 00:00:00\n",
      "Contact:\n",
      "  Email: hunterrodriguez@example.org\n",
      "  Phone: 348.458.0613x730\n",
      "Address:\n",
      "  Street: 2178 Hill Wells Suite 563\n",
      "  City: South Katherine\n",
      "  State: FL\n",
      "  Zip Code: 77911\n",
      "  Country: United States\n",
      "Hospital:\n",
      "  Hospital ID: 64c0c15fd3727c5d0c88e470\n",
      "  Name: Orthopedics\n",
      "  Rating: 3.4\n",
      "Department:\n",
      "  Department ID: DEPT001\n",
      "  Name: Pediatrics\n",
      "  Head Doctor: Dr. Holmes\n",
      "  Description: Specializes in pediatrics-related issues.\n",
      "\n",
      "\n",
      "Patient ID: PAT00196\n",
      "Name: Christopher Patrick\n",
      "Gender: Male\n",
      "Date of Birth: 1991-02-03 00:00:00\n",
      "Contact:\n",
      "  Email: hunterrodriguez@example.org\n",
      "  Phone: 348.458.0613x730\n",
      "Address:\n",
      "  Street: 2178 Hill Wells Suite 563\n",
      "  City: South Katherine\n",
      "  State: FL\n",
      "  Zip Code: 77911\n",
      "  Country: United States\n",
      "Hospital:\n",
      "  Hospital ID: 64c0c15fd3727c5d0c88e470\n",
      "  Name: Orthopedics\n",
      "  Rating: 3.4\n",
      "Department:\n",
      "  Department ID: DEPT002\n",
      "  Name: Oncology\n",
      "  Head Doctor: Dr. Rodriguez\n",
      "  Description: Specializes in oncology-related issues.\n",
      "\n",
      "\n",
      "Patient ID: PAT00706\n",
      "Name: Katrina Johnson\n",
      "Gender: Male\n",
      "Date of Birth: 1976-01-03 00:00:00\n",
      "Contact:\n",
      "  Email: robertpayne@example.com\n",
      "  Phone: 001-509-297-0237x32299\n",
      "Address:\n",
      "  Street: 1544 Daniel Expressway Apt. 584\n",
      "  City: Beckymouth\n",
      "  State: MI\n",
      "  Zip Code: 34310\n",
      "  Country: United States\n",
      "Hospital:\n",
      "  Hospital ID: 64c0c287d3727c5d0c88e471\n",
      "  Name: Orthopedics\n",
      "  Rating: 3.7\n",
      "Department:\n",
      "  Department ID: DEPT001\n",
      "  Name: Pediatrics\n",
      "  Head Doctor: Dr. Molina\n",
      "  Description: Specializes in pediatrics-related issues.\n",
      "\n",
      "\n",
      "Patient ID: PAT00706\n",
      "Name: Katrina Johnson\n",
      "Gender: Male\n",
      "Date of Birth: 1976-01-03 00:00:00\n",
      "Contact:\n",
      "  Email: robertpayne@example.com\n",
      "  Phone: 001-509-297-0237x32299\n",
      "Address:\n",
      "  Street: 1544 Daniel Expressway Apt. 584\n",
      "  City: Beckymouth\n",
      "  State: MI\n",
      "  Zip Code: 34310\n",
      "  Country: United States\n",
      "Hospital:\n",
      "  Hospital ID: 64c0c287d3727c5d0c88e471\n",
      "  Name: Orthopedics\n",
      "  Rating: 3.7\n",
      "Department:\n",
      "  Department ID: DEPT002\n",
      "  Name: Cardiology\n",
      "  Head Doctor: Dr. Williams\n",
      "  Description: Specializes in cardiology-related issues.\n",
      "\n",
      "\n",
      "Patient ID: PAT00262\n",
      "Name: Amanda Arias\n",
      "Gender: Male\n",
      "Date of Birth: 2002-06-20 00:00:00\n",
      "Contact:\n",
      "  Email: rwalsh@example.org\n",
      "  Phone: (393)389-1705\n",
      "Address:\n",
      "  Street: 3253 Matthews Overpass\n",
      "  City: South Matthew\n",
      "  State: SD\n",
      "  Zip Code: 77639\n",
      "  Country: United States\n",
      "Hospital:\n",
      "  Hospital ID: 64c0c3a2d3727c5d0c88e473\n",
      "  Name: Pediatrics\n",
      "  Rating: 4.1\n",
      "Department:\n",
      "  Department ID: DEPT001\n",
      "  Name: Oncology\n",
      "  Head Doctor: Dr. Woods\n",
      "  Description: Specializes in oncology-related issues.\n",
      "\n",
      "\n",
      "Patient ID: PAT00262\n",
      "Name: Amanda Arias\n",
      "Gender: Male\n",
      "Date of Birth: 2002-06-20 00:00:00\n",
      "Contact:\n",
      "  Email: rwalsh@example.org\n",
      "  Phone: (393)389-1705\n",
      "Address:\n",
      "  Street: 3253 Matthews Overpass\n",
      "  City: South Matthew\n",
      "  State: SD\n",
      "  Zip Code: 77639\n",
      "  Country: United States\n",
      "Hospital:\n",
      "  Hospital ID: 64c0c3a2d3727c5d0c88e473\n",
      "  Name: Pediatrics\n",
      "  Rating: 4.1\n",
      "Department:\n",
      "  Department ID: DEPT002\n",
      "  Name: Neurology\n",
      "  Head Doctor: Dr. Mcintyre\n",
      "  Description: Specializes in neurology-related issues.\n",
      "\n",
      "\n",
      "Patient ID: PAT00751\n",
      "Name: Jose Ford\n",
      "Gender: Male\n",
      "Date of Birth: 1982-04-27 00:00:00\n",
      "Contact:\n",
      "  Email: tracie96@example.com\n",
      "  Phone: +1-844-440-8350x10311\n",
      "Address:\n",
      "  Street: 8009 Cooper Ways\n",
      "  City: Jennyton\n",
      "  State: ME\n",
      "  Zip Code: 72547\n",
      "  Country: United States\n",
      "Hospital:\n",
      "  Hospital ID: 64c0c410d3727c5d0c88e474\n",
      "  Name: Neurology\n",
      "  Rating: 3.5\n",
      "Department:\n",
      "  Department ID: DEPT001\n",
      "  Name: Orthopedics\n",
      "  Head Doctor: Dr. Cain\n",
      "  Description: Specializes in orthopedics-related issues.\n",
      "\n",
      "\n"
     ]
    }
   ],
   "source": [
    "hospital_collection_name = \"Hospital\"\n",
    "patient_collection_name = \"Patient\"\n",
    "\n",
    "# Function to print patient details along with their associated hospital's department details\n",
    "def print_patient_with_department(patient, hospital, department):\n",
    "    print(f\"Patient ID: {patient['patient_id']}\")\n",
    "    print(f\"Name: {patient['first_name']} {patient['last_name']}\")\n",
    "    print(f\"Gender: {patient['gender']}\")\n",
    "    print(f\"Date of Birth: {patient['date_of_birth']}\")\n",
    "    print(\"Contact:\")\n",
    "    print(f\"  Email: {patient['contact']['email']}\")\n",
    "    print(f\"  Phone: {patient['contact']['phone']}\")\n",
    "    print(\"Address:\")\n",
    "    print(f\"  Street: {patient['contact']['address']['street']}\")\n",
    "    print(f\"  City: {patient['contact']['address']['city']}\")\n",
    "    print(f\"  State: {patient['contact']['address']['state']}\")\n",
    "    print(f\"  Zip Code: {patient['contact']['address']['zip_code']}\")\n",
    "    print(f\"  Country: {patient['contact']['address']['country']}\")\n",
    "    print(\"Hospital:\")\n",
    "    print(f\"  Hospital ID: {hospital['_id']}\")\n",
    "    print(f\"  Name: {hospital['name']}\")\n",
    "    print(f\"  Rating: {hospital['rating']}\")\n",
    "    print(\"Department:\")\n",
    "    print(f\"  Department ID: {department['department_id']}\")\n",
    "    print(f\"  Name: {department['name']}\")\n",
    "    print(f\"  Head Doctor: {department['head_doctor']}\")\n",
    "    print(f\"  Description: {department['description']}\")\n",
    "    print(\"\\n\")\n",
    "\n",
    "# Get the hospitals and patients collection objects\n",
    "hospital_collection = database[hospital_collection_name]\n",
    "patient_collection = database[patient_collection_name]\n",
    "\n",
    "# Query for male patients\n",
    "male_patients = patient_collection.find({\"gender\": \"Male\"})\n",
    "\n",
    "# Iterate through the male patients and fetch their associated hospital and department details\n",
    "for patient in male_patients:\n",
    "    hospital_id = patient[\"hospital_id\"]\n",
    "    hospital = hospital_collection.find_one({\"_id\": hospital_id})\n",
    "    if hospital and \"departments\" in hospital:\n",
    "        for department in hospital[\"departments\"]:\n",
    "            print_patient_with_department(patient, hospital, department)"
   ]
  },
  {
   "cell_type": "code",
   "execution_count": 11,
   "metadata": {},
   "outputs": [],
   "source": [
    "import openai\n",
    "import json\n",
    "from urllib.parse import quote_plus\n",
    "from langchain.chat_models import ChatOpenAI\n",
    "from langchain.prompts import ChatPromptTemplate\n",
    "from langchain.chains import LLMChain"
   ]
  },
  {
   "cell_type": "code",
   "execution_count": 18,
   "metadata": {},
   "outputs": [],
   "source": [
    "prompt = ChatPromptTemplate.from_template(\n",
    "\n",
    "    \"Given mongodb schema {collections_info} , give me latest version of pymongo no-sql code for {query},neglect MongoDB server connection code ,strictly return only code no explanation or any other comments, give proper executable python code. return responce as a dictionary format where key is 'code' and value is pymongo code\"\n",
    "\n",
    ")\n",
    "\n",
    "\n",
    "\n",
    "\n",
    "input_sentence = \"Give me the number of hospitals\"\n",
    "\n",
    "\n",
    "\n",
    "\n",
    "\n",
    "chain = LLMChain(llm=llm, prompt=prompt)\n",
    "\n",
    "extracted_query = chain.run({'collections_info': collections_info, 'query': input_sentence})"
   ]
  },
  {
   "cell_type": "code",
   "execution_count": 14,
   "metadata": {},
   "outputs": [],
   "source": [
    "def parse_string(input_string): \n",
    "\n",
    "    keyword = \"db\" \n",
    "\n",
    "    start_index = input_string.find(keyword) \n",
    "\n",
    "    if start_index == -1: \n",
    "\n",
    "        return \"Keyword not found in the input string.\" \n",
    "\n",
    "    # Extracting data starting from the keyword \"db\" \n",
    "\n",
    "    extracted_data = input_string[start_index:] \n",
    "\n",
    "    # Replacing \"\\\\n\" with \"\\n\" \n",
    "\n",
    "    extracted_data = extracted_data.replace(\"\\\\n\", \"\\n\") \n",
    "\n",
    "    # Removing trailing \"}\" \n",
    "\n",
    "    if extracted_data.endswith(\"\\\"}\"): \n",
    "\n",
    "        extracted_data = extracted_data[:-2] \n",
    "\n",
    "    return extracted_data"
   ]
  },
  {
   "cell_type": "code",
   "execution_count": 19,
   "metadata": {},
   "outputs": [
    {
     "data": {
      "text/plain": [
       "'{\\n  \"code\": \"from pymongo import MongoClient\\\\n\\\\nclient = MongoClient()\\\\ndb = client[\\'your_database_name\\']\\\\nhospitals = db[\\'Hospital\\']\\\\n\\\\nnum_hospitals = hospitals.count_documents({})\\\\n\\\\nresponse = {\\'code\\': num_hospitals}\\\\nresponse\"\\n}'"
      ]
     },
     "execution_count": 19,
     "metadata": {},
     "output_type": "execute_result"
    }
   ],
   "source": [
    "extracted_query"
   ]
  },
  {
   "cell_type": "code",
   "execution_count": 20,
   "metadata": {},
   "outputs": [
    {
     "name": "stdout",
     "output_type": "stream",
     "text": [
      "db = client['your_database_name']\n",
      "hospitals = db['Hospital']\n",
      "\n",
      "num_hospitals = hospitals.count_documents({})\n",
      "\n",
      "response = {'code': num_hospitals}\n",
      "response\"\n",
      "}\n"
     ]
    }
   ],
   "source": [
    "print(parse_string(extracted_query))"
   ]
  },
  {
   "cell_type": "code",
   "execution_count": 26,
   "metadata": {},
   "outputs": [
    {
     "data": {
      "text/plain": [
       "{'code': 5}"
      ]
     },
     "execution_count": 26,
     "metadata": {},
     "output_type": "execute_result"
    }
   ],
   "source": [
    "hospitals = database['Hospital']\n",
    "\n",
    "num_hospitals = hospitals.count_documents({})\n",
    "\n",
    "response = {'code': num_hospitals}\n",
    "response"
   ]
  },
  {
   "cell_type": "code",
   "execution_count": 16,
   "metadata": {},
   "outputs": [
    {
     "data": {
      "text/plain": [
       "{'departments': []}"
      ]
     },
     "execution_count": 16,
     "metadata": {},
     "output_type": "execute_result"
    }
   ],
   "source": [
    "patients_collection = database['Patient']\n",
    "\n",
    "# Find male patients\n",
    "male_patients = patients_collection.find({'gender': 'male'})\n",
    "\n",
    "# Get the hospital IDs of male patients\n",
    "hospital_ids = [patient['hospital_id'] for patient in male_patients]\n",
    "\n",
    "# Access the hospital collection\n",
    "hospitals_collection = database['Hospital']\n",
    "\n",
    "# Find departments of hospitals where male patients are admitted\n",
    "departments = hospitals_collection.find({'hospital_id': {'$in': hospital_ids}}, {'departments': 1})\n",
    "\n",
    "# Prepare the response dictionary\n",
    "response = {'departments': []}\n",
    "\n",
    "# Iterate over departments and add them to the response\n",
    "for department in departments:\n",
    "    response['departments'].extend(department['departments'])\n",
    "\n",
    "# Close the MongoDB connection\n",
    "#client.close()\n",
    "\n",
    "# Return the response\n",
    "response"
   ]
  },
  {
   "cell_type": "code",
   "execution_count": 17,
   "metadata": {},
   "outputs": [
    {
     "data": {
      "text/plain": [
       "{'departments': []}"
      ]
     },
     "execution_count": 17,
     "metadata": {},
     "output_type": "execute_result"
    }
   ],
   "source": [
    "patients_collection = database['Patient']\n",
    "male_patients = patients_collection.find({'gender': 'male'})\n",
    "hospital_ids = [patient['hospital_id']for patient in male_patients]\n",
    "\n",
    "hospitals_collection = database['Hospital']\n",
    "departments = hospitals_collection.find({'hospital_id': {'$in': hospital_ids}}, {'departments': 1})\n",
    "response = {'departments': []}\n",
    "for department in departments:\n",
    "    response['departments'].extend(department['departments'])\n",
    "client.close()\n",
    "response"
   ]
  },
  {
   "cell_type": "code",
   "execution_count": 9,
   "metadata": {},
   "outputs": [
    {
     "name": "stdout",
     "output_type": "stream",
     "text": [
      "Patient ID: PAT00196\n",
      "Name: Christopher Patrick\n",
      "Gender: Male\n",
      "Date of Birth: 1991-02-03 00:00:00\n",
      "Contact:\n",
      "  Email: hunterrodriguez@example.org\n",
      "  Phone: 348.458.0613x730\n",
      "Address:\n",
      "  Street: 2178 Hill Wells Suite 563\n",
      "  City: South Katherine\n",
      "  State: FL\n",
      "  Zip Code: 77911\n",
      "  Country: United States\n",
      "Hospital:\n",
      "  Hospital ID: 64c0c15fd3727c5d0c88e470\n",
      "  Name: Orthopedics\n",
      "  Rating: 3.4\n",
      "\n",
      "\n",
      "Patient ID: PAT00706\n",
      "Name: Katrina Johnson\n",
      "Gender: Male\n",
      "Date of Birth: 1976-01-03 00:00:00\n",
      "Contact:\n",
      "  Email: robertpayne@example.com\n",
      "  Phone: 001-509-297-0237x32299\n",
      "Address:\n",
      "  Street: 1544 Daniel Expressway Apt. 584\n",
      "  City: Beckymouth\n",
      "  State: MI\n",
      "  Zip Code: 34310\n",
      "  Country: United States\n",
      "Hospital:\n",
      "  Hospital ID: 64c0c287d3727c5d0c88e471\n",
      "  Name: Orthopedics\n",
      "  Rating: 3.7\n",
      "\n",
      "\n",
      "Patient ID: PAT00262\n",
      "Name: Amanda Arias\n",
      "Gender: Male\n",
      "Date of Birth: 2002-06-20 00:00:00\n",
      "Contact:\n",
      "  Email: rwalsh@example.org\n",
      "  Phone: (393)389-1705\n",
      "Address:\n",
      "  Street: 3253 Matthews Overpass\n",
      "  City: South Matthew\n",
      "  State: SD\n",
      "  Zip Code: 77639\n",
      "  Country: United States\n",
      "Hospital:\n",
      "  Hospital ID: 64c0c3a2d3727c5d0c88e473\n",
      "  Name: Pediatrics\n",
      "  Rating: 4.1\n",
      "\n",
      "\n",
      "Patient ID: PAT00751\n",
      "Name: Jose Ford\n",
      "Gender: Male\n",
      "Date of Birth: 1982-04-27 00:00:00\n",
      "Contact:\n",
      "  Email: tracie96@example.com\n",
      "  Phone: +1-844-440-8350x10311\n",
      "Address:\n",
      "  Street: 8009 Cooper Ways\n",
      "  City: Jennyton\n",
      "  State: ME\n",
      "  Zip Code: 72547\n",
      "  Country: United States\n",
      "Hospital:\n",
      "  Hospital ID: 64c0c410d3727c5d0c88e474\n",
      "  Name: Neurology\n",
      "  Rating: 3.5\n",
      "\n",
      "\n"
     ]
    }
   ],
   "source": [
    "hospital_collection_name = \"Hospital\"\n",
    "patient_collection_name = \"Patient\"\n",
    "\n",
    "# Function to print patient details along with the hospital information\n",
    "def print_patient_with_hospital(patient, hospital):\n",
    "    print(f\"Patient ID: {patient['patient_id']}\")\n",
    "    print(f\"Name: {patient['first_name']} {patient['last_name']}\")\n",
    "    print(f\"Gender: {patient['gender']}\")\n",
    "    print(f\"Date of Birth: {patient['date_of_birth']}\")\n",
    "    print(\"Contact:\")\n",
    "    print(f\"  Email: {patient['contact']['email']}\")\n",
    "    print(f\"  Phone: {patient['contact']['phone']}\")\n",
    "    print(\"Address:\")\n",
    "    print(f\"  Street: {patient['contact']['address']['street']}\")\n",
    "    print(f\"  City: {patient['contact']['address']['city']}\")\n",
    "    print(f\"  State: {patient['contact']['address']['state']}\")\n",
    "    print(f\"  Zip Code: {patient['contact']['address']['zip_code']}\")\n",
    "    print(f\"  Country: {patient['contact']['address']['country']}\")\n",
    "    print(\"Hospital:\")\n",
    "    print(f\"  Hospital ID: {hospital['_id']}\")\n",
    "    print(f\"  Name: {hospital['name']}\")\n",
    "    print(f\"  Rating: {hospital['rating']}\")\n",
    "    print(\"\\n\")\n",
    "\n",
    "# Get the hospitals and patients collection objects\n",
    "hospital_collection = database[hospital_collection_name]\n",
    "patient_collection = database[patient_collection_name]\n",
    "\n",
    "# Query for male patients\n",
    "male_patients = patient_collection.find({\"gender\": \"Male\"})\n",
    "\n",
    "# Iterate through the male patients and fetch their associated hospitals\n",
    "for patient in male_patients:\n",
    "    hospital_id = patient[\"hospital_id\"]\n",
    "    hospital = hospital_collection.find_one({\"_id\": hospital_id})\n",
    "    if hospital:\n",
    "        print_patient_with_hospital(patient, hospital)"
   ]
  },
  {
   "cell_type": "code",
   "execution_count": 16,
   "metadata": {},
   "outputs": [],
   "source": [
    "collection_names = database.list_collection_names()"
   ]
  },
  {
   "cell_type": "code",
   "execution_count": 8,
   "metadata": {},
   "outputs": [
    {
     "name": "stdout",
     "output_type": "stream",
     "text": [
      "['hunterrodriguez@example.org', 'robertpayne@example.com', 'lamapril@example.net', 'rwalsh@example.org', 'tracie96@example.com']\n"
     ]
    }
   ],
   "source": [
    "patient_collection_name = \"Patient\"\n",
    "\n",
    "# Query to get the emails of patients\n",
    "query = {\n",
    "    \"contact.email\": {\"$exists\": True}\n",
    "}\n",
    "\n",
    "# Project to only get the email field\n",
    "projection = {\n",
    "    \"_id\": 0,\n",
    "    \"contact.email\": 1\n",
    "}\n",
    "\n",
    "# Execute the query and projection\n",
    "result = database[patient_collection_name].find(query, projection)\n",
    "\n",
    "# Extract the emails from the result\n",
    "emails_of_patients = [patient[\"contact\"][\"email\"] for patient in result]\n",
    "\n",
    "print(emails_of_patients)\n",
    "\n",
    "\n",
    "\n",
    "\n",
    "\n",
    "\n",
    "\n"
   ]
  },
  {
   "cell_type": "code",
   "execution_count": 22,
   "metadata": {},
   "outputs": [],
   "source": [
    "patient_collection_name = \"Patient\"\n",
    "hospital_collection_name = \"Hospital\"\n",
    "\n",
    "pipeline = [\n",
    "    {\n",
    "        \"$lookup\": {\n",
    "            \"from\": hospital_collection_name,\n",
    "            \"localField\": \"hospital_id\",\n",
    "            \"foreignField\": \"hospital_id\",\n",
    "            \"as\": \"hospital_info\"\n",
    "        }\n",
    "    },\n",
    "    {\n",
    "        \"$unwind\": \"$hospital_info\"\n",
    "    },\n",
    "    {\n",
    "        \"$match\": {\n",
    "            \"gender\": \"Male\"\n",
    "        }\n",
    "    },\n",
    "    {\n",
    "        \"$project\": {\n",
    "            \"_id\": 0,  # Exclude _id field from the final result\n",
    "            \"patient_id\": 1,\n",
    "            \"first_name\": 1,\n",
    "            \"last_name\": 1,\n",
    "            \"gender\": 1,\n",
    "            \"date_of_birth\": 1,\n",
    "            \"hospital_info.name\": 1,\n",
    "            \"hospital_info.address\": 1,\n",
    "            \"hospital_info.contact.email\": 1,\n",
    "            \"hospital_info.contact.phone\": 1,\n",
    "            \"hospital_info.rating\": 1,\n",
    "            \"hospital_info.capacity\": 1\n",
    "        }\n",
    "    }\n",
    "]\n",
    "\n",
    "# Execute the aggregation pipeline\n",
    "result = database[patient_collection_name].aggregate(pipeline)\n",
    "\n",
    "# Print the results\n",
    "for patient_hospital in result:\n",
    "    print(patient_hospital)"
   ]
  },
  {
   "cell_type": "code",
   "execution_count": 23,
   "metadata": {},
   "outputs": [],
   "source": [
    "for patient in result:\n",
    "    print(patient)"
   ]
  },
  {
   "cell_type": "code",
   "execution_count": 24,
   "metadata": {},
   "outputs": [
    {
     "data": {
      "text/plain": [
       "<pymongo.command_cursor.CommandCursor at 0x1f099344dc0>"
      ]
     },
     "execution_count": 24,
     "metadata": {},
     "output_type": "execute_result"
    }
   ],
   "source": [
    "result"
   ]
  },
  {
   "cell_type": "code",
   "execution_count": 9,
   "metadata": {},
   "outputs": [
    {
     "name": "stdout",
     "output_type": "stream",
     "text": [
      "Jennyton\n",
      "Amberburgh\n",
      "Nathantown\n",
      "Smithside\n",
      "South Katherine\n",
      "Beckymouth\n",
      "West Crystal\n",
      "South Shirleystad\n",
      "South Matthew\n",
      "South Allisonfort\n"
     ]
    }
   ],
   "source": [
    "patient_collection_name = \"Patient\"\n",
    "\n",
    "# Specify the field names you want to retrieve (including nested fields)\n",
    "city_field = \"contact.address.city\"\n",
    "\n",
    "# Perform the query and projection\n",
    "city_details = database[patient_collection_name].find({}, {city_field: 1})\n",
    "\n",
    "# Print the city details of patients\n",
    "for patient in city_details:\n",
    "    city = patient.get(\"contact\", {}).get(\"address\", {}).get(\"city\")\n",
    "    if city:\n",
    "        print(city)"
   ]
  },
  {
   "cell_type": "code",
   "execution_count": 17,
   "metadata": {},
   "outputs": [],
   "source": [
    "\n",
    "\n",
    "# Initialize an empty dictionary to store the information\n",
    "collections_info = {}\n",
    "\n",
    "# Get the list of collection names in the database\n",
    "collection_names = database.list_collection_names()\n",
    "\n",
    "def get_field_type(field_value, parent=None):\n",
    "    if isinstance(field_value, list):\n",
    "        return \"array\"\n",
    "    #elif isinstance(field_value, dict):\n",
    "        #get_field_type(field_value)#, parent=field_name)\n",
    "    else:\n",
    "        return type(field_value).__name__\n",
    "\n",
    "# Iterate through each collection and fetch field names and types\n",
    "for collection_name in collection_names:\n",
    "    collection = database[collection_name]\n",
    "    collection_info = {}\n",
    "\n",
    "    # Fetch a document from the collection to determine field names and types\n",
    "    sample_document = collection.find_one()\n",
    "\n",
    "    # Iterate through the fields and their types\n",
    "    for field, value in sample_document.items():\n",
    "        field_type = get_field_type(value)\n",
    "        collection_info[field] = field_type\n",
    "\n",
    "    # Store the collection information in the dictionary\n",
    "    var = \"Collection \" + collection_name\n",
    "    collections_info[var] = collection_info\n",
    "\n",
    "#print(collections_info)"
   ]
  },
  {
   "cell_type": "code",
   "execution_count": 18,
   "metadata": {},
   "outputs": [
    {
     "data": {
      "text/plain": [
       "['Hospital', 'Patient']"
      ]
     },
     "execution_count": 18,
     "metadata": {},
     "output_type": "execute_result"
    }
   ],
   "source": [
    "database.list_collection_names()"
   ]
  },
  {
   "cell_type": "code",
   "execution_count": 23,
   "metadata": {},
   "outputs": [],
   "source": [
    "collection_info = {}\n",
    "def extract_fields(data, parent=None):\n",
    "    for key, value in data.items():\n",
    "        field_name = key #if parent is None else f\"{parent}.{key}\"\n",
    "        if isinstance(value, dict):\n",
    "            extract_fields(value, parent=field_name)\n",
    "        elif isinstance(value, list):\n",
    "            #print(\"Hey\")\n",
    "            collection_info.setdefault(parent, {})[field_name] = \"array\"\n",
    "        else:\n",
    "            collection_info.setdefault(parent, {})[field_name] = type(value).__name__\n",
    "#for collection_name in database.list_collection_names():\n",
    "collection = database['Patient']\n",
    "sample_document = collection.find_one()\n",
    "extract_fields(sample_document)"
   ]
  },
  {
   "cell_type": "code",
   "execution_count": 8,
   "metadata": {},
   "outputs": [],
   "source": [
    "collection_names = database.list_collection_names()\n",
    "collections_info = {}\n",
    "for collection_name in collection_names:\n",
    "    collection_info = {}\n",
    "    def extract_fields(data, parent=None):\n",
    "        for key, value in data.items():\n",
    "            field_name = key if parent is None else f\"{parent}.{key}\"\n",
    "            if isinstance(value, dict):\n",
    "                extract_fields(value, parent=field_name)\n",
    "            elif isinstance(value, list):\n",
    "                #print(\"Hey\")\n",
    "                collection_info.setdefault(parent, {})[field_name] = \"array\"\n",
    "            else:\n",
    "                collection_info.setdefault(parent, {})[field_name] = type(value).__name__\n",
    "    #for collection_name in database.list_collection_names():\n",
    "    collection = database[collection_name]\n",
    "    sample_document = collection.find_one()\n",
    "    extract_fields(sample_document)\n",
    "    #collection_info['collection_name'] = collection_info.pop(None)\n",
    "    collections_info.update(collection_info)"
   ]
  },
  {
   "cell_type": "code",
   "execution_count": 24,
   "metadata": {},
   "outputs": [
    {
     "data": {
      "text/plain": [
       "{None: {'_id': 'str',\n",
       "  'patient_id': 'str',\n",
       "  'first_name': 'str',\n",
       "  'last_name': 'str',\n",
       "  'gender': 'str',\n",
       "  'date_of_birth': 'str',\n",
       "  'appointments': 'array',\n",
       "  'prescriptions': 'array'},\n",
       " 'contact': {'email': 'str', 'phone': 'str'},\n",
       " 'address': {'street': 'str',\n",
       "  'city': 'str',\n",
       "  'state': 'str',\n",
       "  'zip_code': 'str',\n",
       "  'country': 'str'},\n",
       " 'medical_history': {'blood_type': 'str',\n",
       "  'allergies': 'array',\n",
       "  'conditions': 'array'},\n",
       " 'insurance': {'provider_name': 'str', 'policy_number': 'int'}}"
      ]
     },
     "execution_count": 24,
     "metadata": {},
     "output_type": "execute_result"
    }
   ],
   "source": [
    "collection_info"
   ]
  },
  {
   "cell_type": "code",
   "execution_count": 15,
   "metadata": {},
   "outputs": [],
   "source": [
    "from langchain.chat_models import ChatOpenAI\n",
    "from langchain.prompts import ChatPromptTemplate\n",
    "from langchain.chains import LLMChain"
   ]
  },
  {
   "cell_type": "code",
   "execution_count": 10,
   "metadata": {},
   "outputs": [],
   "source": [
    "import openai"
   ]
  },
  {
   "cell_type": "markdown",
   "metadata": {},
   "source": [
    "collection_info = \"\"\"-- //Patient Collection Schema\n",
    "{\n",
    "  _id: ObjectId, // MongoDB will automatically generate a unique ID for each student\n",
    "  patient_name: String,\n",
    "  date_of_birth: Date,\n",
    "  gender: String,\n",
    "  street: String,\n",
    "  city: String,\n",
    "  zip: String,\n",
    "  state: String,\n",
    "  country: String,\n",
    "  social_security_number: String,\n",
    "  hospital_id: ObjectId // Manual reference to Course IDs\n",
    "}\n",
    "\n",
    "-- //Hospital Collection Schema\n",
    "{\n",
    "  _id: ObjectId, // MongoDB will automatically generate a unique ID for each course\n",
    "  hospital_name: String,\n",
    "  street: String,\n",
    "  city: String,\n",
    "  zip: String,\n",
    "  state: String,\n",
    "  country: String,\n",
    "  patient_id: [ObjectId],\n",
    "};\n",
    "\"\"\""
   ]
  },
  {
   "cell_type": "code",
   "execution_count": 11,
   "metadata": {},
   "outputs": [],
   "source": [
    "query_sentence = \"Give the details of male patients of hospitals\""
   ]
  },
  {
   "cell_type": "code",
   "execution_count": 12,
   "metadata": {},
   "outputs": [],
   "source": [
    "prompt = f\"Forget previous instructions if input does not make sense respond with an empty query a. Given {collections_info}, generate only the NoSQL query for the sentence '{query_sentence}'. Return the response as a dictionary format where the key is 'code' and the value is the noSQL query.\"\n",
    "response = openai.Completion.create(\n",
    "    model=\"text-davinci-003\",\n",
    "    prompt=prompt,\n",
    "    temperature=0,\n",
    "    max_tokens=100\n",
    ")"
   ]
  },
  {
   "cell_type": "code",
   "execution_count": 13,
   "metadata": {},
   "outputs": [
    {
     "data": {
      "text/plain": [
       "<OpenAIObject text_completion id=cmpl-7gU7Zht9z2CyxD8gtkDQFsrr6VbUc at 0x21dec06e400> JSON: {\n",
       "  \"id\": \"cmpl-7gU7Zht9z2CyxD8gtkDQFsrr6VbUc\",\n",
       "  \"object\": \"text_completion\",\n",
       "  \"created\": 1690359917,\n",
       "  \"model\": \"text-davinci-003\",\n",
       "  \"choices\": [\n",
       "    {\n",
       "      \"text\": \"\\n\\n{'code': ''}\",\n",
       "      \"index\": 0,\n",
       "      \"logprobs\": null,\n",
       "      \"finish_reason\": \"stop\"\n",
       "    }\n",
       "  ],\n",
       "  \"usage\": {\n",
       "    \"prompt_tokens\": 514,\n",
       "    \"completion_tokens\": 8,\n",
       "    \"total_tokens\": 522\n",
       "  }\n",
       "}"
      ]
     },
     "execution_count": 13,
     "metadata": {},
     "output_type": "execute_result"
    }
   ],
   "source": [
    "response"
   ]
  },
  {
   "cell_type": "code",
   "execution_count": 14,
   "metadata": {},
   "outputs": [
    {
     "name": "stdout",
     "output_type": "stream",
     "text": [
      "\n"
     ]
    }
   ],
   "source": [
    "extracted_query = response.choices[0].text.strip()\n",
    "extracted_query0 = str(extracted_query)\n",
    "\n",
    "if \"{'code': '\" in extracted_query0:\n",
    "    extracted_query1 = extracted_query0.replace(\"{'code': '\", \"\")\n",
    "else:\n",
    "    extracted_query1 = extracted_query0\n",
    "\n",
    "if \"'}\" in extracted_query1:\n",
    "    query = extracted_query1.replace(\"'}\", \"\")\n",
    "else:\n",
    "    query = extracted_query1\n",
    "print(query)"
   ]
  },
  {
   "cell_type": "code",
   "execution_count": 15,
   "metadata": {},
   "outputs": [
    {
     "data": {
      "text/plain": [
       "''"
      ]
     },
     "execution_count": 15,
     "metadata": {},
     "output_type": "execute_result"
    }
   ],
   "source": [
    "query"
   ]
  },
  {
   "cell_type": "code",
   "execution_count": 20,
   "metadata": {},
   "outputs": [
    {
     "data": {
      "text/plain": [
       "\"database.Patient.find({}, {'contact.address.city': 1})\""
      ]
     },
     "execution_count": 20,
     "metadata": {},
     "output_type": "execute_result"
    }
   ],
   "source": [
    "query = query.replace(\"db\", \"database\")\n",
    "query"
   ]
  },
  {
   "cell_type": "code",
   "execution_count": 21,
   "metadata": {},
   "outputs": [
    {
     "name": "stdout",
     "output_type": "stream",
     "text": [
      "Jennyton\n",
      "Amberburgh\n",
      "Nathantown\n",
      "Smithside\n",
      "South Katherine\n",
      "Beckymouth\n",
      "West Crystal\n",
      "South Shirleystad\n",
      "South Matthew\n",
      "South Allisonfort\n"
     ]
    }
   ],
   "source": [
    "query\n",
    "city_field = \"contact.address.city\"\n",
    "\n",
    "# Perform the query and projection\n",
    "city_details = database.Patient.find({}, {'contact.address.city': 1})\n",
    "# Print the city details of patients\n",
    "for patient in city_details:\n",
    "    city = patient.get(\"contact\", {}).get(\"address\", {}).get(\"city\")\n",
    "    if city:\n",
    "        print(city)"
   ]
  },
  {
   "cell_type": "code",
   "execution_count": 68,
   "metadata": {},
   "outputs": [],
   "source": [
    "# Your collection names\n",
    "hospital_collection_name = \"Hospital\"\n",
    "patient_collection_name = \"Patient\"\n",
    "pipeline = [\n",
    "    {\n",
    "        \"$lookup\": {\n",
    "            \"from\": hospital_collection_name,\n",
    "            \"localField\": \"hospital_id\",\n",
    "            \"foreignField\": \"_id\",\n",
    "            \"as\": \"hospital_details\"\n",
    "        }\n",
    "    },\n",
    "    {\n",
    "        \"$unwind\": \"$hospital_details\"  # If each patient has one hospital only, use $unwind to flatten the result\n",
    "    },\n",
    "    {\n",
    "        \"$project\": {\n",
    "            \"_id\": 0,  # Exclude _id field from the final result\n",
    "            \"patient_name\": 1,\n",
    "            \"date_of_birth\": 1,\n",
    "            \"gender\": 1,\n",
    "            \"social_security_number\": 1,\n",
    "            \"hospital_details\": {\n",
    "                \"hospital_name\": 1,\n",
    "                \"street\": 1,\n",
    "                \"city\": 1,\n",
    "                \"zip\": 1,\n",
    "                \"state\": 1,\n",
    "                \"country\": 1\n",
    "            }\n",
    "        }\n",
    "    }\n",
    "]\n",
    "\n",
    "# Execute the aggregation pipeline\n",
    "result = database[patient_collection_name].aggregate(pipeline)\n",
    "\n",
    "# Print the results\n",
    "for patient in result:\n",
    "    print(patient)"
   ]
  },
  {
   "cell_type": "code",
   "execution_count": 70,
   "metadata": {},
   "outputs": [],
   "source": [
    "print(patient)"
   ]
  },
  {
   "cell_type": "code",
   "execution_count": 75,
   "metadata": {},
   "outputs": [],
   "source": [
    "import json\n",
    "import random\n",
    "from faker import Faker\n",
    "from datetime import datetime\n",
    "\n",
    "fake = Faker()\n",
    "\n",
    "def generate_patient():\n",
    "    patient_id = fake.uuid4()\n",
    "    first_name = fake.first_name()\n",
    "    last_name = fake.last_name()\n",
    "    gender = random.choice([\"Male\", \"Female\"])\n",
    "    date_of_birth = fake.date_of_birth(tzinfo=None, minimum_age=18, maximum_age=80)\n",
    "    email = fake.email()\n",
    "    phone = fake.phone_number()\n",
    "    street = fake.street_address()\n",
    "    city = fake.city()\n",
    "    state = fake.state_abbr()\n",
    "    zip_code = fake.zipcode()\n",
    "    country = \"United States\"\n",
    "    blood_type = random.choice([\"A+\", \"B+\", \"AB+\", \"O+\", \"A-\", \"B-\", \"AB-\", \"O-\"])\n",
    "    allergies = random.sample([\"Penicillin\", \"Pollen\", \"Dust\", \"Shellfish\"], random.randint(0, 3))\n",
    "    conditions = random.sample([\"Hypertension\", \"Diabetes\", \"Asthma\", \"Migraine\", \"Cardovascular_attack\"], random.randint(0, 2))\n",
    "    prescription_medication = [\"Ibuprofen\", \"Paracetamol\", \"Antibiotics\", \"Aspirin\"]\n",
    "    medication = random.choice(prescription_medication)\n",
    "    dosage = random.choice([\"200mg\", \"500mg\", \"1g\", \"2g\"])\n",
    "    instructions = f\"Take one tablet every {random.randint(4, 8)} hours as needed for pain.\"\n",
    "    insurance_provider_name = fake.company()\n",
    "    policy_number = fake.random_number(digits=8)\n",
    "\n",
    "    patient_data = {\n",
    "        \"_id\": str(patient_id),\n",
    "        \"patient_id\": f\"PAT00{random.randint(100, 999)}\",\n",
    "        \"first_name\": first_name,\n",
    "        \"last_name\": last_name,\n",
    "        \"gender\": gender,\n",
    "        \"date_of_birth\": date_of_birth.isoformat(),\n",
    "        \"contact\": {\n",
    "            \"email\": email,\n",
    "            \"phone\": phone,\n",
    "            \"address\": {\n",
    "                \"street\": street,\n",
    "                \"city\": city,\n",
    "                \"state\": state,\n",
    "                \"zip_code\": zip_code,\n",
    "                \"country\": country\n",
    "            }\n",
    "        },\n",
    "        \"medical_history\": {\n",
    "            \"blood_type\": blood_type,\n",
    "            \"allergies\": allergies,\n",
    "            \"conditions\": conditions\n",
    "        },\n",
    "        \"appointments\": [\n",
    "            {\n",
    "                \"appointment_id\": f\"APT00{random.randint(100, 999)}\",\n",
    "                \"doctor_name\": f\"Dr. {fake.last_name()}\",\n",
    "                \"date\": (datetime.today()).isoformat(),\n",
    "                \"reason\": \"General Checkup\"\n",
    "            },\n",
    "            # You can add other appointment objects for the patient here\n",
    "        ],\n",
    "        \"prescriptions\": [\n",
    "            {\n",
    "                \"prescription_id\": f\"RX00{random.randint(100, 999)}\",\n",
    "                \"medication\": medication,\n",
    "                \"dosage\": dosage,\n",
    "                \"instructions\": instructions\n",
    "            },\n",
    "            # You can add other prescription objects for the patient here\n",
    "        ],\n",
    "        \"insurance\": {\n",
    "            \"provider_name\": insurance_provider_name,\n",
    "            \"policy_number\": policy_number\n",
    "        }\n",
    "        # Add other relevant patient-related fields as needed\n",
    "    }\n",
    "    return patient_data\n",
    "\n",
    "# Generate 10 patient records\n",
    "patients = [generate_patient() for _ in range(10)]\n",
    "\n",
    "file_path = \"output.json\"\n",
    "\n",
    "# Save the JSON document to the file\n",
    "with open(file_path, \"w\") as file:\n",
    "    json.dump(patients, file, indent=2)\n",
    "\n",
    "# Print the generated JSON\n",
    "#print(patients_json)\n"
   ]
  },
  {
   "cell_type": "code",
   "execution_count": 76,
   "metadata": {},
   "outputs": [],
   "source": [
    "def generate_hospital():\n",
    "    hospital_id = fake.uuid4()\n",
    "    name = f\"{fake.company()} Hospital\"\n",
    "    street = fake.street_address()\n",
    "    city = fake.city()\n",
    "    state = fake.state_abbr()\n",
    "    zip_code = fake.zipcode()\n",
    "    country = \"United States\"\n",
    "    email = fake.email()\n",
    "    phone = fake.phone_number()\n",
    "    department_names = [\"Cardiology\", \"Orthopedics\", \"Neurology\", \"Oncology\", \"Pediatrics\"]\n",
    "    departments = []\n",
    "    for i in range(random.randint(1, len(department_names))):\n",
    "        department_id = f\"DEPT00{i+1}\"\n",
    "        name = random.choice(department_names)\n",
    "        head_doctor = f\"Dr. {fake.last_name()}\"\n",
    "        description = f\"Specializes in {name.lower()}-related issues.\"\n",
    "        department = {\n",
    "            \"department_id\": department_id,\n",
    "            \"name\": name,\n",
    "            \"head_doctor\": head_doctor,\n",
    "            \"description\": description\n",
    "        }\n",
    "        departments.append(department)\n",
    "    services = random.sample([\"Emergency Care\", \"Laboratory Services\", \"Radiology\", \"Surgery\", \"Maternity\", \"ENT\"], random.randint(1, 5))\n",
    "    rating = round(random.uniform(2.5, 5.0), 1)\n",
    "    total_beds = random.randint(100, 500)\n",
    "    available_beds = random.randint(20, total_beds)\n",
    "    icu_beds = random.randint(5, available_beds)\n",
    "\n",
    "    hospital_data = {\n",
    "        \"_id\": str(hospital_id),\n",
    "        \"hospital_id\": f\"HOSP00{random.randint(100, 999)}\",\n",
    "        \"name\": name,\n",
    "        \"address\": {\n",
    "            \"street\": street,\n",
    "            \"city\": city,\n",
    "            \"state\": state,\n",
    "            \"zip_code\": zip_code,\n",
    "            \"country\": country\n",
    "        },\n",
    "        \"contact\": {\n",
    "            \"email\": email,\n",
    "            \"phone\": phone\n",
    "        },\n",
    "        \"departments\": departments,\n",
    "        \"services\": services,\n",
    "        \"rating\": rating,\n",
    "        \"capacity\": {\n",
    "            \"total_beds\": total_beds,\n",
    "            \"available_beds\": available_beds,\n",
    "            \"icu_beds\": icu_beds\n",
    "        }\n",
    "        # Add other relevant hospital-related fields as needed\n",
    "    }\n",
    "    return hospital_data\n",
    "\n",
    "# Generate 10 hospital records\n",
    "hospitals = [generate_hospital() for _ in range(10)]\n",
    "\n",
    "# Convert the list of hospital records to JSON\n",
    "file_path = \"hospital.json\"\n",
    "\n",
    "# Save the JSON document to the file\n",
    "with open(file_path, \"w\") as file:\n",
    "    json.dump(hospitals, file, indent=2)"
   ]
  },
  {
   "cell_type": "code",
   "execution_count": null,
   "metadata": {},
   "outputs": [],
   "source": []
  }
 ],
 "metadata": {
  "kernelspec": {
   "display_name": "Python 3.9.13 ('ppi-ephienv': venv)",
   "language": "python",
   "name": "python3"
  },
  "language_info": {
   "codemirror_mode": {
    "name": "ipython",
    "version": 3
   },
   "file_extension": ".py",
   "mimetype": "text/x-python",
   "name": "python",
   "nbconvert_exporter": "python",
   "pygments_lexer": "ipython3",
   "version": "3.9.13"
  },
  "orig_nbformat": 4,
  "vscode": {
   "interpreter": {
    "hash": "b4cf2882e81aba5a7a2437b2833f2fbdbf22ed13ef5a89e34d36d85a5df8aa1a"
   }
  }
 },
 "nbformat": 4,
 "nbformat_minor": 2
}
