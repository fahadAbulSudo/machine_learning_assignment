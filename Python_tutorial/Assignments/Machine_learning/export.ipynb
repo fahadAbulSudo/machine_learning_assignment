{
 "cells": [
  {
   "cell_type": "code",
   "execution_count": 1,
   "metadata": {},
   "outputs": [],
   "source": [
    "import pandas as pd\n",
    "import numpy as np\n",
    "import warnings\n",
    "warnings.filterwarnings(\"ignore\")\n",
    "import re"
   ]
  },
  {
   "cell_type": "code",
   "execution_count": 2,
   "metadata": {},
   "outputs": [],
   "source": [
    "from sklearn.feature_extraction.text import CountVectorizer\n",
    "cv = CountVectorizer(max_features=10000,stop_words='english')"
   ]
  },
  {
   "cell_type": "code",
   "execution_count": 3,
   "metadata": {},
   "outputs": [],
   "source": [
    "import pickle"
   ]
  },
  {
   "cell_type": "code",
   "execution_count": 3,
   "metadata": {},
   "outputs": [],
   "source": [
    "employee = pd.read_csv(\"../input/employee.csv\")"
   ]
  },
  {
   "cell_type": "code",
   "execution_count": 9,
   "metadata": {},
   "outputs": [
    {
     "data": {
      "text/plain": [
       "(829, 20)"
      ]
     },
     "execution_count": 9,
     "metadata": {},
     "output_type": "execute_result"
    }
   ],
   "source": [
    "employee.shape"
   ]
  },
  {
   "cell_type": "code",
   "execution_count": 10,
   "metadata": {},
   "outputs": [
    {
     "data": {
      "text/html": [
       "<div>\n",
       "<style scoped>\n",
       "    .dataframe tbody tr th:only-of-type {\n",
       "        vertical-align: middle;\n",
       "    }\n",
       "\n",
       "    .dataframe tbody tr th {\n",
       "        vertical-align: top;\n",
       "    }\n",
       "\n",
       "    .dataframe thead th {\n",
       "        text-align: right;\n",
       "    }\n",
       "</style>\n",
       "<table border=\"1\" class=\"dataframe\">\n",
       "  <thead>\n",
       "    <tr style=\"text-align: right;\">\n",
       "      <th></th>\n",
       "      <th>_id</th>\n",
       "      <th>commutation</th>\n",
       "      <th>date_of_birth</th>\n",
       "      <th>date_of_joining</th>\n",
       "      <th>desk</th>\n",
       "      <th>email</th>\n",
       "      <th>employee_id</th>\n",
       "      <th>first_name</th>\n",
       "      <th>id_card_no</th>\n",
       "      <th>image_url</th>\n",
       "      <th>last_name</th>\n",
       "      <th>status</th>\n",
       "      <th>department_id</th>\n",
       "      <th>designation_id</th>\n",
       "      <th>du_head_id</th>\n",
       "      <th>manager_id</th>\n",
       "      <th>coe</th>\n",
       "      <th>category</th>\n",
       "      <th>date_of_confirmation</th>\n",
       "      <th>location</th>\n",
       "    </tr>\n",
       "  </thead>\n",
       "  <tbody>\n",
       "    <tr>\n",
       "      <th>0</th>\n",
       "      <td>395</td>\n",
       "      <td>PERSONAL</td>\n",
       "      <td>2021-02-07T18:30Z</td>\n",
       "      <td>2021-01-24T18:30Z</td>\n",
       "      <td>NaN</td>\n",
       "      <td>sweety.narendra@afourtech.com</td>\n",
       "      <td>AFTP003</td>\n",
       "      <td>Sweety Alwin</td>\n",
       "      <td>NaN</td>\n",
       "      <td>NaN</td>\n",
       "      <td>Narendra</td>\n",
       "      <td>ACTIVE</td>\n",
       "      <td>3</td>\n",
       "      <td>76.0</td>\n",
       "      <td>NaN</td>\n",
       "      <td>NaN</td>\n",
       "      <td>NONE</td>\n",
       "      <td>CONTRACT</td>\n",
       "      <td>2021-01-24T18:30Z</td>\n",
       "      <td>OFFSHORE</td>\n",
       "    </tr>\n",
       "    <tr>\n",
       "      <th>1</th>\n",
       "      <td>10</td>\n",
       "      <td>PERSONAL</td>\n",
       "      <td>1991-03-31T00:00:00.09Z</td>\n",
       "      <td>2015-01-15T00:00:00.09Z</td>\n",
       "      <td>NaN</td>\n",
       "      <td>kiran.argade@afourtech.com</td>\n",
       "      <td>AFT00308</td>\n",
       "      <td>Kiran</td>\n",
       "      <td>NaN</td>\n",
       "      <td>NaN</td>\n",
       "      <td>Argade</td>\n",
       "      <td>ACTIVE</td>\n",
       "      <td>2</td>\n",
       "      <td>115.0</td>\n",
       "      <td>NaN</td>\n",
       "      <td>NaN</td>\n",
       "      <td>NONE</td>\n",
       "      <td>NaN</td>\n",
       "      <td>NaN</td>\n",
       "      <td>NaN</td>\n",
       "    </tr>\n",
       "    <tr>\n",
       "      <th>2</th>\n",
       "      <td>11</td>\n",
       "      <td>PERSONAL</td>\n",
       "      <td>1991-10-09T00:00:00.09Z</td>\n",
       "      <td>2016-01-02T00:00:00.09Z</td>\n",
       "      <td>NaN</td>\n",
       "      <td>dipesh.mali@afourtech.com</td>\n",
       "      <td>AFT00342</td>\n",
       "      <td>Dipesh</td>\n",
       "      <td>NaN</td>\n",
       "      <td>NaN</td>\n",
       "      <td>Mali</td>\n",
       "      <td>ACTIVE</td>\n",
       "      <td>1</td>\n",
       "      <td>95.0</td>\n",
       "      <td>NaN</td>\n",
       "      <td>NaN</td>\n",
       "      <td>NONE</td>\n",
       "      <td>NaN</td>\n",
       "      <td>NaN</td>\n",
       "      <td>NaN</td>\n",
       "    </tr>\n",
       "    <tr>\n",
       "      <th>3</th>\n",
       "      <td>93</td>\n",
       "      <td>PERSONAL</td>\n",
       "      <td>1994-10-29T00:00+05:30</td>\n",
       "      <td>2017-03-26T00:00+05:30</td>\n",
       "      <td>NaN</td>\n",
       "      <td>shubham.jain@afourtech.com</td>\n",
       "      <td>AFT00416</td>\n",
       "      <td>Shubham</td>\n",
       "      <td>NaN</td>\n",
       "      <td>NaN</td>\n",
       "      <td>Jain</td>\n",
       "      <td>INACTIVE</td>\n",
       "      <td>3</td>\n",
       "      <td>11.0</td>\n",
       "      <td>NaN</td>\n",
       "      <td>NaN</td>\n",
       "      <td>DESIGN_DEVELOPMENT</td>\n",
       "      <td>EMPLOYEE</td>\n",
       "      <td>2021-07-29T00:00+05:30</td>\n",
       "      <td>OFFSHORE</td>\n",
       "    </tr>\n",
       "    <tr>\n",
       "      <th>4</th>\n",
       "      <td>417</td>\n",
       "      <td>PERSONAL</td>\n",
       "      <td>1994-07-27T18:30Z</td>\n",
       "      <td>2021-03-08T18:30Z</td>\n",
       "      <td>NaN</td>\n",
       "      <td>supriya.barkund@afourtech.com</td>\n",
       "      <td>AFT00782</td>\n",
       "      <td>Supriya</td>\n",
       "      <td>NaN</td>\n",
       "      <td>NaN</td>\n",
       "      <td>Barkund</td>\n",
       "      <td>ACTIVE</td>\n",
       "      <td>3</td>\n",
       "      <td>11.0</td>\n",
       "      <td>NaN</td>\n",
       "      <td>NaN</td>\n",
       "      <td>DESIGN_DEVELOPMENT</td>\n",
       "      <td>EMPLOYEE</td>\n",
       "      <td>2021-03-08T18:30Z</td>\n",
       "      <td>OFFSHORE</td>\n",
       "    </tr>\n",
       "  </tbody>\n",
       "</table>\n",
       "</div>"
      ],
      "text/plain": [
       "   _id commutation            date_of_birth          date_of_joining  desk  \\\n",
       "0  395    PERSONAL        2021-02-07T18:30Z        2021-01-24T18:30Z   NaN   \n",
       "1   10    PERSONAL  1991-03-31T00:00:00.09Z  2015-01-15T00:00:00.09Z   NaN   \n",
       "2   11    PERSONAL  1991-10-09T00:00:00.09Z  2016-01-02T00:00:00.09Z   NaN   \n",
       "3   93    PERSONAL   1994-10-29T00:00+05:30   2017-03-26T00:00+05:30   NaN   \n",
       "4  417    PERSONAL        1994-07-27T18:30Z        2021-03-08T18:30Z   NaN   \n",
       "\n",
       "                           email employee_id    first_name id_card_no  \\\n",
       "0  sweety.narendra@afourtech.com     AFTP003  Sweety Alwin        NaN   \n",
       "1     kiran.argade@afourtech.com    AFT00308         Kiran        NaN   \n",
       "2      dipesh.mali@afourtech.com    AFT00342        Dipesh        NaN   \n",
       "3     shubham.jain@afourtech.com    AFT00416       Shubham        NaN   \n",
       "4  supriya.barkund@afourtech.com    AFT00782       Supriya        NaN   \n",
       "\n",
       "   image_url last_name    status  department_id  designation_id  du_head_id  \\\n",
       "0        NaN  Narendra    ACTIVE              3            76.0         NaN   \n",
       "1        NaN    Argade    ACTIVE              2           115.0         NaN   \n",
       "2        NaN      Mali    ACTIVE              1            95.0         NaN   \n",
       "3        NaN      Jain  INACTIVE              3            11.0         NaN   \n",
       "4        NaN   Barkund    ACTIVE              3            11.0         NaN   \n",
       "\n",
       "   manager_id                 coe  category    date_of_confirmation  location  \n",
       "0         NaN                NONE  CONTRACT       2021-01-24T18:30Z  OFFSHORE  \n",
       "1         NaN                NONE       NaN                     NaN       NaN  \n",
       "2         NaN                NONE       NaN                     NaN       NaN  \n",
       "3         NaN  DESIGN_DEVELOPMENT  EMPLOYEE  2021-07-29T00:00+05:30  OFFSHORE  \n",
       "4         NaN  DESIGN_DEVELOPMENT  EMPLOYEE       2021-03-08T18:30Z  OFFSHORE  "
      ]
     },
     "execution_count": 10,
     "metadata": {},
     "output_type": "execute_result"
    }
   ],
   "source": [
    "employee.head()"
   ]
  },
  {
   "cell_type": "code",
   "execution_count": 11,
   "metadata": {},
   "outputs": [],
   "source": [
    "project = pd.read_csv(\"../input/project_202210171657.csv\")"
   ]
  },
  {
   "cell_type": "code",
   "execution_count": 12,
   "metadata": {},
   "outputs": [],
   "source": [
    "department = pd.read_csv(\"../input/department_202210171655.csv\") \n",
    "designation = pd.read_csv(\"../input/designation_202210171655.csv\") "
   ]
  },
  {
   "cell_type": "code",
   "execution_count": 13,
   "metadata": {},
   "outputs": [],
   "source": [
    "employee = pd.merge(employee, department, on='department_id', how='outer')"
   ]
  },
  {
   "cell_type": "code",
   "execution_count": 14,
   "metadata": {},
   "outputs": [
    {
     "name": "stdout",
     "output_type": "stream",
     "text": [
      "_id_x                   float64\n",
      "commutation              object\n",
      "date_of_birth            object\n",
      "date_of_joining          object\n",
      "desk                    float64\n",
      "email                    object\n",
      "employee_id              object\n",
      "first_name               object\n",
      "id_card_no               object\n",
      "image_url               float64\n",
      "last_name                object\n",
      "status                   object\n",
      "department_id             int64\n",
      "designation_id          float64\n",
      "du_head_id              float64\n",
      "manager_id              float64\n",
      "coe                      object\n",
      "category                 object\n",
      "date_of_confirmation     object\n",
      "location                 object\n",
      "_id_y                     int64\n",
      "department_name          object\n",
      "dtype: object\n"
     ]
    }
   ],
   "source": [
    "result = employee.dtypes\n",
    "print(result)"
   ]
  },
  {
   "cell_type": "code",
   "execution_count": 15,
   "metadata": {},
   "outputs": [],
   "source": [
    "#employee1['designation_id'] = employee1['designation_id'].astype(int)"
   ]
  },
  {
   "cell_type": "code",
   "execution_count": 16,
   "metadata": {},
   "outputs": [],
   "source": [
    "employee = pd.merge(employee, designation, on='designation_id', how='left')"
   ]
  },
  {
   "cell_type": "code",
   "execution_count": 17,
   "metadata": {},
   "outputs": [
    {
     "data": {
      "text/plain": [
       "_id_x                     1\n",
       "commutation               2\n",
       "date_of_birth             2\n",
       "date_of_joining           1\n",
       "desk                    832\n",
       "email                     1\n",
       "employee_id               1\n",
       "first_name                1\n",
       "id_card_no              829\n",
       "image_url               832\n",
       "last_name                 1\n",
       "status                    1\n",
       "department_id             0\n",
       "designation_id            2\n",
       "du_head_id              832\n",
       "manager_id              832\n",
       "coe                       1\n",
       "category                223\n",
       "date_of_confirmation    223\n",
       "location                223\n",
       "_id_y                     0\n",
       "department_name           0\n",
       "_id                       2\n",
       "designation_name          2\n",
       "dtype: int64"
      ]
     },
     "execution_count": 17,
     "metadata": {},
     "output_type": "execute_result"
    }
   ],
   "source": [
    "employee.isnull().sum()"
   ]
  },
  {
   "cell_type": "code",
   "execution_count": 18,
   "metadata": {},
   "outputs": [
    {
     "data": {
      "text/plain": [
       "(832, 24)"
      ]
     },
     "execution_count": 18,
     "metadata": {},
     "output_type": "execute_result"
    }
   ],
   "source": [
    "employee.shape"
   ]
  },
  {
   "cell_type": "code",
   "execution_count": 19,
   "metadata": {},
   "outputs": [
    {
     "data": {
      "text/plain": [
       "Index(['_id_x', 'commutation', 'date_of_birth', 'date_of_joining', 'desk',\n",
       "       'email', 'employee_id', 'first_name', 'id_card_no', 'image_url',\n",
       "       'last_name', 'status', 'department_id', 'designation_id', 'du_head_id',\n",
       "       'manager_id', 'coe', 'category', 'date_of_confirmation', 'location',\n",
       "       '_id_y', 'department_name', '_id', 'designation_name'],\n",
       "      dtype='object')"
      ]
     },
     "execution_count": 19,
     "metadata": {},
     "output_type": "execute_result"
    }
   ],
   "source": [
    "employee.columns"
   ]
  },
  {
   "cell_type": "code",
   "execution_count": 20,
   "metadata": {},
   "outputs": [
    {
     "data": {
      "text/plain": [
       "(830,)"
      ]
     },
     "execution_count": 20,
     "metadata": {},
     "output_type": "execute_result"
    }
   ],
   "source": [
    "employee['employee_id'].unique().shape"
   ]
  },
  {
   "cell_type": "code",
   "execution_count": 21,
   "metadata": {},
   "outputs": [],
   "source": [
    "employee.drop(columns=['_id_x', 'commutation', 'date_of_birth', 'date_of_joining', 'desk',\n",
    "       'email', 'id_card_no', 'image_url',\n",
    "        'status', 'department_id', 'designation_id', 'du_head_id',\n",
    "       'manager_id', 'coe', 'date_of_confirmation', 'location',\n",
    "       '_id_y', '_id'], axis=1, inplace=True)"
   ]
  },
  {
   "cell_type": "code",
   "execution_count": 22,
   "metadata": {},
   "outputs": [],
   "source": [
    "#employee.drop(employee.columns[[0,1,2,3,4,5,8,9,11,12,13,14,15,16,18,19,20,22]], axis=1, inplace=True)"
   ]
  },
  {
   "cell_type": "code",
   "execution_count": 23,
   "metadata": {},
   "outputs": [],
   "source": [
    "employee.category = np.where(employee.employee_id.str.startswith(\"AFT0\"), employee.category.ffill(), employee.category)"
   ]
  },
  {
   "cell_type": "code",
   "execution_count": 24,
   "metadata": {},
   "outputs": [],
   "source": [
    "employee.category = np.where(employee.employee_id.str.startswith(\"AFTP\"), employee.category.ffill(), employee.category)"
   ]
  },
  {
   "cell_type": "code",
   "execution_count": 25,
   "metadata": {},
   "outputs": [],
   "source": [
    "employee.category = np.where(employee.employee_id.str.startswith(\"AFTI\"), employee.category.ffill(), employee.category)"
   ]
  },
  {
   "cell_type": "code",
   "execution_count": 26,
   "metadata": {},
   "outputs": [],
   "source": [
    "employee[\"category\"].fillna(\"EMPLOYEE\", inplace = True)"
   ]
  },
  {
   "cell_type": "code",
   "execution_count": 27,
   "metadata": {},
   "outputs": [
    {
     "data": {
      "text/plain": [
       "EMPLOYEE     554\n",
       "INTERN       153\n",
       "CONTRACT     116\n",
       "PROBATION      9\n",
       "Name: category, dtype: int64"
      ]
     },
     "execution_count": 27,
     "metadata": {},
     "output_type": "execute_result"
    }
   ],
   "source": [
    "employee[\"category\"].value_counts()"
   ]
  },
  {
   "cell_type": "code",
   "execution_count": 28,
   "metadata": {},
   "outputs": [
    {
     "data": {
      "text/plain": [
       "employee_id         1\n",
       "first_name          1\n",
       "last_name           1\n",
       "category            0\n",
       "department_name     0\n",
       "designation_name    2\n",
       "dtype: int64"
      ]
     },
     "execution_count": 28,
     "metadata": {},
     "output_type": "execute_result"
    }
   ],
   "source": [
    "employee.isnull().sum()"
   ]
  },
  {
   "cell_type": "code",
   "execution_count": 29,
   "metadata": {},
   "outputs": [
    {
     "data": {
      "text/plain": [
       "(832, 6)"
      ]
     },
     "execution_count": 29,
     "metadata": {},
     "output_type": "execute_result"
    }
   ],
   "source": [
    "employee.shape"
   ]
  },
  {
   "cell_type": "code",
   "execution_count": 30,
   "metadata": {},
   "outputs": [],
   "source": [
    "employee = employee.dropna(axis=0, subset=['designation_name'])"
   ]
  },
  {
   "cell_type": "code",
   "execution_count": 31,
   "metadata": {},
   "outputs": [],
   "source": [
    "employee = employee.dropna(axis=0, subset=['department_name'])"
   ]
  },
  {
   "cell_type": "code",
   "execution_count": 33,
   "metadata": {},
   "outputs": [],
   "source": [
    "project_resource = pd.read_csv(\"../input/employee_project_resource_202210171656.csv\")"
   ]
  },
  {
   "cell_type": "code",
   "execution_count": 34,
   "metadata": {},
   "outputs": [
    {
     "data": {
      "text/plain": [
       "Index(['_id', 'employee_id', 'project_id', 'project_resource_id', 'is_active',\n",
       "       'allocation_percentage', 'reporting_manager', 'start_date', 'end_date',\n",
       "       'duhead_id', 'coehead_id'],\n",
       "      dtype='object')"
      ]
     },
     "execution_count": 34,
     "metadata": {},
     "output_type": "execute_result"
    }
   ],
   "source": [
    "project_resource.columns"
   ]
  },
  {
   "cell_type": "code",
   "execution_count": 35,
   "metadata": {},
   "outputs": [
    {
     "data": {
      "text/plain": [
       "Index(['project_id', 'actual_end_date', 'actual_start_date', 'coe',\n",
       "       'cost_center', 'description', 'engagement_type', 'expected_end_date',\n",
       "       'expected_start_date', 'name', 'services_type', 'status',\n",
       "       'sub_services_type', 'work_location', 'project_type', 'service_type'],\n",
       "      dtype='object')"
      ]
     },
     "execution_count": 35,
     "metadata": {},
     "output_type": "execute_result"
    }
   ],
   "source": [
    "project.columns"
   ]
  },
  {
   "cell_type": "code",
   "execution_count": 36,
   "metadata": {},
   "outputs": [],
   "source": [
    "project_resource.drop(columns=['_id', 'project_resource_id', 'is_active',\n",
    "       'reporting_manager', 'start_date', 'end_date',\n",
    "       ], axis=1, inplace=True)\n",
    "\n",
    "project.drop(columns=['actual_end_date', 'actual_start_date',\n",
    "       'cost_center', 'description', 'engagement_type', 'expected_end_date',\n",
    "       'expected_start_date', 'services_type', 'status',\n",
    "       'sub_services_type', 'service_type'], axis=1, inplace=True)"
   ]
  },
  {
   "cell_type": "code",
   "execution_count": 37,
   "metadata": {},
   "outputs": [],
   "source": [
    "#project_resource.drop(project_resource.columns[[0,3,4,6,7,8]], axis=1, inplace=True)\n",
    "#project.drop(project.columns[[1,2,4,5,6,7,8,10,11,12,15]], axis=1, inplace=True)"
   ]
  },
  {
   "cell_type": "code",
   "execution_count": 38,
   "metadata": {},
   "outputs": [
    {
     "data": {
      "text/html": [
       "<div>\n",
       "<style scoped>\n",
       "    .dataframe tbody tr th:only-of-type {\n",
       "        vertical-align: middle;\n",
       "    }\n",
       "\n",
       "    .dataframe tbody tr th {\n",
       "        vertical-align: top;\n",
       "    }\n",
       "\n",
       "    .dataframe thead th {\n",
       "        text-align: right;\n",
       "    }\n",
       "</style>\n",
       "<table border=\"1\" class=\"dataframe\">\n",
       "  <thead>\n",
       "    <tr style=\"text-align: right;\">\n",
       "      <th></th>\n",
       "      <th>project_id</th>\n",
       "      <th>coe</th>\n",
       "      <th>name</th>\n",
       "      <th>work_location</th>\n",
       "      <th>project_type</th>\n",
       "    </tr>\n",
       "  </thead>\n",
       "  <tbody>\n",
       "    <tr>\n",
       "      <th>0</th>\n",
       "      <td>92</td>\n",
       "      <td>RELIABILITY_ENGINEERING</td>\n",
       "      <td>Airtel Testing</td>\n",
       "      <td>OFFSHORE</td>\n",
       "      <td>CUSTOMER</td>\n",
       "    </tr>\n",
       "    <tr>\n",
       "      <th>1</th>\n",
       "      <td>42</td>\n",
       "      <td>DESIGN_DEVELOPMENT</td>\n",
       "      <td>iLink BI</td>\n",
       "      <td>OFFSHORE</td>\n",
       "      <td>CUSTOMER</td>\n",
       "    </tr>\n",
       "    <tr>\n",
       "      <th>2</th>\n",
       "      <td>1</td>\n",
       "      <td>RELIABILITY_ENGINEERING</td>\n",
       "      <td>A4 Services</td>\n",
       "      <td>OFFSHORE</td>\n",
       "      <td>ASSET</td>\n",
       "    </tr>\n",
       "    <tr>\n",
       "      <th>3</th>\n",
       "      <td>64</td>\n",
       "      <td>DESIGN_DEVELOPMENT</td>\n",
       "      <td>Engage Marketing Inc.</td>\n",
       "      <td>OFFSHORE</td>\n",
       "      <td>CUSTOMER</td>\n",
       "    </tr>\n",
       "    <tr>\n",
       "      <th>4</th>\n",
       "      <td>69</td>\n",
       "      <td>RELIABILITY_ENGINEERING</td>\n",
       "      <td>Kristal AI - QA</td>\n",
       "      <td>OFFSHORE</td>\n",
       "      <td>CUSTOMER</td>\n",
       "    </tr>\n",
       "  </tbody>\n",
       "</table>\n",
       "</div>"
      ],
      "text/plain": [
       "   project_id                      coe                   name work_location  \\\n",
       "0          92  RELIABILITY_ENGINEERING         Airtel Testing      OFFSHORE   \n",
       "1          42       DESIGN_DEVELOPMENT               iLink BI      OFFSHORE   \n",
       "2           1  RELIABILITY_ENGINEERING            A4 Services      OFFSHORE   \n",
       "3          64       DESIGN_DEVELOPMENT  Engage Marketing Inc.      OFFSHORE   \n",
       "4          69  RELIABILITY_ENGINEERING        Kristal AI - QA      OFFSHORE   \n",
       "\n",
       "  project_type  \n",
       "0     CUSTOMER  \n",
       "1     CUSTOMER  \n",
       "2        ASSET  \n",
       "3     CUSTOMER  \n",
       "4     CUSTOMER  "
      ]
     },
     "execution_count": 38,
     "metadata": {},
     "output_type": "execute_result"
    }
   ],
   "source": [
    "project.head()"
   ]
  },
  {
   "cell_type": "code",
   "execution_count": 39,
   "metadata": {},
   "outputs": [
    {
     "data": {
      "text/html": [
       "<div>\n",
       "<style scoped>\n",
       "    .dataframe tbody tr th:only-of-type {\n",
       "        vertical-align: middle;\n",
       "    }\n",
       "\n",
       "    .dataframe tbody tr th {\n",
       "        vertical-align: top;\n",
       "    }\n",
       "\n",
       "    .dataframe thead th {\n",
       "        text-align: right;\n",
       "    }\n",
       "</style>\n",
       "<table border=\"1\" class=\"dataframe\">\n",
       "  <thead>\n",
       "    <tr style=\"text-align: right;\">\n",
       "      <th></th>\n",
       "      <th>employee_id</th>\n",
       "      <th>project_id</th>\n",
       "      <th>allocation_percentage</th>\n",
       "      <th>duhead_id</th>\n",
       "      <th>coehead_id</th>\n",
       "    </tr>\n",
       "  </thead>\n",
       "  <tbody>\n",
       "    <tr>\n",
       "      <th>0</th>\n",
       "      <td>AFT00226</td>\n",
       "      <td>14</td>\n",
       "      <td>50</td>\n",
       "      <td>AFT00129</td>\n",
       "      <td>AFT00640</td>\n",
       "    </tr>\n",
       "    <tr>\n",
       "      <th>1</th>\n",
       "      <td>AFTC0198</td>\n",
       "      <td>28</td>\n",
       "      <td>0</td>\n",
       "      <td>NaN</td>\n",
       "      <td>NaN</td>\n",
       "    </tr>\n",
       "    <tr>\n",
       "      <th>2</th>\n",
       "      <td>AFTC0198</td>\n",
       "      <td>28</td>\n",
       "      <td>0</td>\n",
       "      <td>NaN</td>\n",
       "      <td>NaN</td>\n",
       "    </tr>\n",
       "    <tr>\n",
       "      <th>3</th>\n",
       "      <td>AFTC0198</td>\n",
       "      <td>28</td>\n",
       "      <td>0</td>\n",
       "      <td>NaN</td>\n",
       "      <td>NaN</td>\n",
       "    </tr>\n",
       "    <tr>\n",
       "      <th>4</th>\n",
       "      <td>AFTC0198</td>\n",
       "      <td>28</td>\n",
       "      <td>0</td>\n",
       "      <td>NaN</td>\n",
       "      <td>NaN</td>\n",
       "    </tr>\n",
       "  </tbody>\n",
       "</table>\n",
       "</div>"
      ],
      "text/plain": [
       "  employee_id  project_id  allocation_percentage duhead_id coehead_id\n",
       "0    AFT00226          14                     50  AFT00129   AFT00640\n",
       "1    AFTC0198          28                      0       NaN        NaN\n",
       "2    AFTC0198          28                      0       NaN        NaN\n",
       "3    AFTC0198          28                      0       NaN        NaN\n",
       "4    AFTC0198          28                      0       NaN        NaN"
      ]
     },
     "execution_count": 39,
     "metadata": {},
     "output_type": "execute_result"
    }
   ],
   "source": [
    "project_resource.head()"
   ]
  },
  {
   "cell_type": "code",
   "execution_count": 40,
   "metadata": {},
   "outputs": [],
   "source": [
    "project = pd.merge(project_resource, project, on='project_id', how='left')"
   ]
  },
  {
   "cell_type": "code",
   "execution_count": 41,
   "metadata": {},
   "outputs": [
    {
     "data": {
      "text/html": [
       "<div>\n",
       "<style scoped>\n",
       "    .dataframe tbody tr th:only-of-type {\n",
       "        vertical-align: middle;\n",
       "    }\n",
       "\n",
       "    .dataframe tbody tr th {\n",
       "        vertical-align: top;\n",
       "    }\n",
       "\n",
       "    .dataframe thead th {\n",
       "        text-align: right;\n",
       "    }\n",
       "</style>\n",
       "<table border=\"1\" class=\"dataframe\">\n",
       "  <thead>\n",
       "    <tr style=\"text-align: right;\">\n",
       "      <th></th>\n",
       "      <th>employee_id</th>\n",
       "      <th>project_id</th>\n",
       "      <th>allocation_percentage</th>\n",
       "      <th>duhead_id</th>\n",
       "      <th>coehead_id</th>\n",
       "      <th>coe</th>\n",
       "      <th>name</th>\n",
       "      <th>work_location</th>\n",
       "      <th>project_type</th>\n",
       "    </tr>\n",
       "  </thead>\n",
       "  <tbody>\n",
       "    <tr>\n",
       "      <th>0</th>\n",
       "      <td>AFT00226</td>\n",
       "      <td>14</td>\n",
       "      <td>50</td>\n",
       "      <td>AFT00129</td>\n",
       "      <td>AFT00640</td>\n",
       "      <td>RELIABILITY_ENGINEERING</td>\n",
       "      <td>IBH-Dev</td>\n",
       "      <td>ONSITE_OFFSHORE</td>\n",
       "      <td>CUSTOMER</td>\n",
       "    </tr>\n",
       "    <tr>\n",
       "      <th>1</th>\n",
       "      <td>AFTC0198</td>\n",
       "      <td>28</td>\n",
       "      <td>0</td>\n",
       "      <td>NaN</td>\n",
       "      <td>NaN</td>\n",
       "      <td>DESIGN_DEVELOPMENT</td>\n",
       "      <td>Marchex (Sustenance)</td>\n",
       "      <td>ONSITE</td>\n",
       "      <td>CUSTOMER</td>\n",
       "    </tr>\n",
       "    <tr>\n",
       "      <th>2</th>\n",
       "      <td>AFTC0198</td>\n",
       "      <td>28</td>\n",
       "      <td>0</td>\n",
       "      <td>NaN</td>\n",
       "      <td>NaN</td>\n",
       "      <td>DESIGN_DEVELOPMENT</td>\n",
       "      <td>Marchex (Sustenance)</td>\n",
       "      <td>ONSITE</td>\n",
       "      <td>CUSTOMER</td>\n",
       "    </tr>\n",
       "    <tr>\n",
       "      <th>3</th>\n",
       "      <td>AFTC0198</td>\n",
       "      <td>28</td>\n",
       "      <td>0</td>\n",
       "      <td>NaN</td>\n",
       "      <td>NaN</td>\n",
       "      <td>DESIGN_DEVELOPMENT</td>\n",
       "      <td>Marchex (Sustenance)</td>\n",
       "      <td>ONSITE</td>\n",
       "      <td>CUSTOMER</td>\n",
       "    </tr>\n",
       "    <tr>\n",
       "      <th>4</th>\n",
       "      <td>AFTC0198</td>\n",
       "      <td>28</td>\n",
       "      <td>0</td>\n",
       "      <td>NaN</td>\n",
       "      <td>NaN</td>\n",
       "      <td>DESIGN_DEVELOPMENT</td>\n",
       "      <td>Marchex (Sustenance)</td>\n",
       "      <td>ONSITE</td>\n",
       "      <td>CUSTOMER</td>\n",
       "    </tr>\n",
       "  </tbody>\n",
       "</table>\n",
       "</div>"
      ],
      "text/plain": [
       "  employee_id  project_id  allocation_percentage duhead_id coehead_id  \\\n",
       "0    AFT00226          14                     50  AFT00129   AFT00640   \n",
       "1    AFTC0198          28                      0       NaN        NaN   \n",
       "2    AFTC0198          28                      0       NaN        NaN   \n",
       "3    AFTC0198          28                      0       NaN        NaN   \n",
       "4    AFTC0198          28                      0       NaN        NaN   \n",
       "\n",
       "                       coe                  name    work_location project_type  \n",
       "0  RELIABILITY_ENGINEERING               IBH-Dev  ONSITE_OFFSHORE     CUSTOMER  \n",
       "1       DESIGN_DEVELOPMENT  Marchex (Sustenance)           ONSITE     CUSTOMER  \n",
       "2       DESIGN_DEVELOPMENT  Marchex (Sustenance)           ONSITE     CUSTOMER  \n",
       "3       DESIGN_DEVELOPMENT  Marchex (Sustenance)           ONSITE     CUSTOMER  \n",
       "4       DESIGN_DEVELOPMENT  Marchex (Sustenance)           ONSITE     CUSTOMER  "
      ]
     },
     "execution_count": 41,
     "metadata": {},
     "output_type": "execute_result"
    }
   ],
   "source": [
    "project.head()"
   ]
  },
  {
   "cell_type": "code",
   "execution_count": 42,
   "metadata": {},
   "outputs": [],
   "source": [
    "employee_project = pd.merge(employee,project, on='employee_id', how='left')"
   ]
  },
  {
   "cell_type": "code",
   "execution_count": 43,
   "metadata": {},
   "outputs": [
    {
     "data": {
      "text/html": [
       "<div>\n",
       "<style scoped>\n",
       "    .dataframe tbody tr th:only-of-type {\n",
       "        vertical-align: middle;\n",
       "    }\n",
       "\n",
       "    .dataframe tbody tr th {\n",
       "        vertical-align: top;\n",
       "    }\n",
       "\n",
       "    .dataframe thead th {\n",
       "        text-align: right;\n",
       "    }\n",
       "</style>\n",
       "<table border=\"1\" class=\"dataframe\">\n",
       "  <thead>\n",
       "    <tr style=\"text-align: right;\">\n",
       "      <th></th>\n",
       "      <th>employee_id</th>\n",
       "      <th>first_name</th>\n",
       "      <th>last_name</th>\n",
       "      <th>category</th>\n",
       "      <th>department_name</th>\n",
       "      <th>designation_name</th>\n",
       "      <th>project_id</th>\n",
       "      <th>allocation_percentage</th>\n",
       "      <th>duhead_id</th>\n",
       "      <th>coehead_id</th>\n",
       "      <th>coe</th>\n",
       "      <th>name</th>\n",
       "      <th>work_location</th>\n",
       "      <th>project_type</th>\n",
       "    </tr>\n",
       "  </thead>\n",
       "  <tbody>\n",
       "    <tr>\n",
       "      <th>0</th>\n",
       "      <td>AFTP003</td>\n",
       "      <td>Sweety Alwin</td>\n",
       "      <td>Narendra</td>\n",
       "      <td>CONTRACT</td>\n",
       "      <td>Engineering</td>\n",
       "      <td>Consultant</td>\n",
       "      <td>NaN</td>\n",
       "      <td>NaN</td>\n",
       "      <td>NaN</td>\n",
       "      <td>NaN</td>\n",
       "      <td>NaN</td>\n",
       "      <td>NaN</td>\n",
       "      <td>NaN</td>\n",
       "      <td>NaN</td>\n",
       "    </tr>\n",
       "    <tr>\n",
       "      <th>1</th>\n",
       "      <td>AFT00416</td>\n",
       "      <td>Shubham</td>\n",
       "      <td>Jain</td>\n",
       "      <td>EMPLOYEE</td>\n",
       "      <td>Engineering</td>\n",
       "      <td>Senior Software Development Engineer</td>\n",
       "      <td>7.0</td>\n",
       "      <td>100.0</td>\n",
       "      <td>AFT00599</td>\n",
       "      <td>AFT00599</td>\n",
       "      <td>RELIABILITY_ENGINEERING</td>\n",
       "      <td>Bench</td>\n",
       "      <td>OFFSHORE</td>\n",
       "      <td>ASSET</td>\n",
       "    </tr>\n",
       "    <tr>\n",
       "      <th>2</th>\n",
       "      <td>AFT00416</td>\n",
       "      <td>Shubham</td>\n",
       "      <td>Jain</td>\n",
       "      <td>EMPLOYEE</td>\n",
       "      <td>Engineering</td>\n",
       "      <td>Senior Software Development Engineer</td>\n",
       "      <td>89.0</td>\n",
       "      <td>100.0</td>\n",
       "      <td>AFT00599</td>\n",
       "      <td>AFT00599</td>\n",
       "      <td>DESIGN_DEVELOPMENT</td>\n",
       "      <td>VMS</td>\n",
       "      <td>OFFSHORE</td>\n",
       "      <td>ASSET</td>\n",
       "    </tr>\n",
       "    <tr>\n",
       "      <th>3</th>\n",
       "      <td>AFT00416</td>\n",
       "      <td>Shubham</td>\n",
       "      <td>Jain</td>\n",
       "      <td>EMPLOYEE</td>\n",
       "      <td>Engineering</td>\n",
       "      <td>Senior Software Development Engineer</td>\n",
       "      <td>1.0</td>\n",
       "      <td>100.0</td>\n",
       "      <td>AFT00599</td>\n",
       "      <td>AFT00599</td>\n",
       "      <td>RELIABILITY_ENGINEERING</td>\n",
       "      <td>A4 Services</td>\n",
       "      <td>OFFSHORE</td>\n",
       "      <td>ASSET</td>\n",
       "    </tr>\n",
       "    <tr>\n",
       "      <th>4</th>\n",
       "      <td>AFT00416</td>\n",
       "      <td>Shubham</td>\n",
       "      <td>Jain</td>\n",
       "      <td>EMPLOYEE</td>\n",
       "      <td>Engineering</td>\n",
       "      <td>Senior Software Development Engineer</td>\n",
       "      <td>109.0</td>\n",
       "      <td>100.0</td>\n",
       "      <td>AFT00640</td>\n",
       "      <td>AFT00599</td>\n",
       "      <td>DESIGN_DEVELOPMENT</td>\n",
       "      <td>ABS Development</td>\n",
       "      <td>OFFSHORE</td>\n",
       "      <td>CUSTOMER</td>\n",
       "    </tr>\n",
       "  </tbody>\n",
       "</table>\n",
       "</div>"
      ],
      "text/plain": [
       "  employee_id    first_name last_name  category department_name  \\\n",
       "0     AFTP003  Sweety Alwin  Narendra  CONTRACT     Engineering   \n",
       "1    AFT00416       Shubham      Jain  EMPLOYEE     Engineering   \n",
       "2    AFT00416       Shubham      Jain  EMPLOYEE     Engineering   \n",
       "3    AFT00416       Shubham      Jain  EMPLOYEE     Engineering   \n",
       "4    AFT00416       Shubham      Jain  EMPLOYEE     Engineering   \n",
       "\n",
       "                       designation_name  project_id  allocation_percentage  \\\n",
       "0                            Consultant         NaN                    NaN   \n",
       "1  Senior Software Development Engineer         7.0                  100.0   \n",
       "2  Senior Software Development Engineer        89.0                  100.0   \n",
       "3  Senior Software Development Engineer         1.0                  100.0   \n",
       "4  Senior Software Development Engineer       109.0                  100.0   \n",
       "\n",
       "  duhead_id coehead_id                      coe             name  \\\n",
       "0       NaN        NaN                      NaN              NaN   \n",
       "1  AFT00599   AFT00599  RELIABILITY_ENGINEERING            Bench   \n",
       "2  AFT00599   AFT00599       DESIGN_DEVELOPMENT              VMS   \n",
       "3  AFT00599   AFT00599  RELIABILITY_ENGINEERING      A4 Services   \n",
       "4  AFT00640   AFT00599       DESIGN_DEVELOPMENT  ABS Development   \n",
       "\n",
       "  work_location project_type  \n",
       "0           NaN          NaN  \n",
       "1      OFFSHORE        ASSET  \n",
       "2      OFFSHORE        ASSET  \n",
       "3      OFFSHORE        ASSET  \n",
       "4      OFFSHORE     CUSTOMER  "
      ]
     },
     "execution_count": 43,
     "metadata": {},
     "output_type": "execute_result"
    }
   ],
   "source": [
    "employee_project.head()"
   ]
  },
  {
   "cell_type": "code",
   "execution_count": 44,
   "metadata": {},
   "outputs": [],
   "source": [
    "employee_project.drop(columns=['project_id'], axis=1, inplace=True)"
   ]
  },
  {
   "cell_type": "code",
   "execution_count": 45,
   "metadata": {},
   "outputs": [
    {
     "data": {
      "text/plain": [
       "employee_id                0\n",
       "first_name                 0\n",
       "last_name                  0\n",
       "category                   0\n",
       "department_name            0\n",
       "designation_name           0\n",
       "allocation_percentage     43\n",
       "duhead_id                248\n",
       "coehead_id               277\n",
       "coe                       43\n",
       "name                      43\n",
       "work_location             43\n",
       "project_type              43\n",
       "dtype: int64"
      ]
     },
     "execution_count": 45,
     "metadata": {},
     "output_type": "execute_result"
    }
   ],
   "source": [
    "employee_project.isnull().sum()"
   ]
  },
  {
   "cell_type": "code",
   "execution_count": 46,
   "metadata": {},
   "outputs": [
    {
     "data": {
      "text/plain": [
       "(2874, 13)"
      ]
     },
     "execution_count": 46,
     "metadata": {},
     "output_type": "execute_result"
    }
   ],
   "source": [
    "employee_project.shape\n"
   ]
  },
  {
   "cell_type": "code",
   "execution_count": 47,
   "metadata": {},
   "outputs": [],
   "source": [
    "employee_project = employee_project.drop_duplicates(\n",
    "  subset = ['employee_id', 'name'],\n",
    "  keep = 'last').reset_index(drop = True)"
   ]
  },
  {
   "cell_type": "code",
   "execution_count": null,
   "metadata": {},
   "outputs": [],
   "source": []
  },
  {
   "cell_type": "code",
   "execution_count": 48,
   "metadata": {},
   "outputs": [
    {
     "name": "stdout",
     "output_type": "stream",
     "text": [
      "(828, 2)\n"
     ]
    },
    {
     "data": {
      "text/plain": [
       "employee_id    0\n",
       "duhead_id      0\n",
       "dtype: int64"
      ]
     },
     "execution_count": 48,
     "metadata": {},
     "output_type": "execute_result"
    }
   ],
   "source": [
    "df_headids = employee_project[['employee_id', 'duhead_id']].copy()\n",
    "df_headids['duhead_id'].fillna(df_headids['duhead_id'].mode()[0], inplace=True)\n",
    "df_headids.drop_duplicates(inplace=True)\n",
    "df_headids = df_headids.groupby('employee_id')['duhead_id'].apply(list).reset_index(name='duhead_id')\n",
    "print(df_headids.shape)\n",
    "df_headids.isnull().sum()"
   ]
  },
  {
   "cell_type": "code",
   "execution_count": 49,
   "metadata": {},
   "outputs": [],
   "source": [
    "employee = pd.merge(employee, df_headids, on='employee_id', how='left')"
   ]
  },
  {
   "cell_type": "code",
   "execution_count": 50,
   "metadata": {},
   "outputs": [
    {
     "name": "stdout",
     "output_type": "stream",
     "text": [
      "(828, 2)\n"
     ]
    },
    {
     "data": {
      "text/plain": [
       "employee_id    0\n",
       "coehead_id     0\n",
       "dtype: int64"
      ]
     },
     "execution_count": 50,
     "metadata": {},
     "output_type": "execute_result"
    }
   ],
   "source": [
    "df_headids = employee_project[['employee_id', 'coehead_id']].copy()\n",
    "df_headids['coehead_id'].fillna(df_headids['coehead_id'].mode()[0], inplace=True)\n",
    "df_headids.drop_duplicates(inplace=True)\n",
    "df_headids = df_headids.groupby('employee_id')['coehead_id'].apply(list).reset_index(name='coehead_id')\n",
    "print(df_headids.shape)\n",
    "df_headids.isnull().sum()"
   ]
  },
  {
   "cell_type": "code",
   "execution_count": 51,
   "metadata": {},
   "outputs": [],
   "source": [
    "employee = pd.merge(employee, df_headids, on='employee_id', how='left')"
   ]
  },
  {
   "cell_type": "code",
   "execution_count": 52,
   "metadata": {},
   "outputs": [
    {
     "data": {
      "text/plain": [
       "Index(['employee_id', 'first_name', 'last_name', 'category', 'department_name',\n",
       "       'designation_name', 'duhead_id', 'coehead_id'],\n",
       "      dtype='object')"
      ]
     },
     "execution_count": 52,
     "metadata": {},
     "output_type": "execute_result"
    }
   ],
   "source": [
    "employee.columns"
   ]
  },
  {
   "cell_type": "code",
   "execution_count": 53,
   "metadata": {},
   "outputs": [],
   "source": [
    "del df_headids"
   ]
  },
  {
   "cell_type": "code",
   "execution_count": 54,
   "metadata": {},
   "outputs": [
    {
     "data": {
      "text/plain": [
       "employee_id    0\n",
       "coe            0\n",
       "dtype: int64"
      ]
     },
     "execution_count": 54,
     "metadata": {},
     "output_type": "execute_result"
    }
   ],
   "source": [
    "df_coe = employee_project[['employee_id', 'coe']].copy()\n",
    "df_coe['coe'].fillna(df_coe['coe'].mode()[0], inplace=True)\n",
    "df_coe.drop_duplicates(inplace=True)\n",
    "df_coe = df_coe.groupby('employee_id')['coe'].apply(list).reset_index(name='coe')\n",
    "df_coe.shape\n",
    "df_coe.isnull().sum()"
   ]
  },
  {
   "cell_type": "code",
   "execution_count": 55,
   "metadata": {},
   "outputs": [
    {
     "data": {
      "text/plain": [
       "(828, 2)"
      ]
     },
     "execution_count": 55,
     "metadata": {},
     "output_type": "execute_result"
    }
   ],
   "source": [
    "df_coe.shape"
   ]
  },
  {
   "cell_type": "code",
   "execution_count": 56,
   "metadata": {},
   "outputs": [],
   "source": [
    "employee = pd.merge(employee, df_coe, on='employee_id', how='left')"
   ]
  },
  {
   "cell_type": "code",
   "execution_count": 57,
   "metadata": {},
   "outputs": [
    {
     "name": "stdout",
     "output_type": "stream",
     "text": [
      "(828, 2)\n"
     ]
    },
    {
     "data": {
      "text/plain": [
       "employee_id    0\n",
       "name           0\n",
       "dtype: int64"
      ]
     },
     "execution_count": 57,
     "metadata": {},
     "output_type": "execute_result"
    }
   ],
   "source": [
    "df_name = employee_project[['employee_id', 'name']].copy()\n",
    "df_name[\"name\"].fillna(\"Bench\", inplace=True)\n",
    "df_name.drop_duplicates(inplace=True)\n",
    "df_name = df_name.groupby('employee_id')['name'].apply(list).reset_index(name='name')\n",
    "print(df_name.shape)\n",
    "df_name.isnull().sum()"
   ]
  },
  {
   "cell_type": "code",
   "execution_count": 58,
   "metadata": {},
   "outputs": [],
   "source": [
    "employee = pd.merge(employee, df_name, on='employee_id', how='left')"
   ]
  },
  {
   "cell_type": "code",
   "execution_count": 59,
   "metadata": {},
   "outputs": [
    {
     "name": "stdout",
     "output_type": "stream",
     "text": [
      "(828, 2)\n"
     ]
    },
    {
     "data": {
      "text/plain": [
       "employee_id      0\n",
       "work_location    0\n",
       "dtype: int64"
      ]
     },
     "execution_count": 59,
     "metadata": {},
     "output_type": "execute_result"
    }
   ],
   "source": [
    "df_WL = employee_project[['employee_id', 'work_location']].copy()\n",
    "df_WL['work_location'].fillna(df_WL['work_location'].mode()[0], inplace=True)\n",
    "df_WL.drop_duplicates(inplace=True)\n",
    "df_WL = df_WL.groupby('employee_id')['work_location'].apply(list).reset_index(name='work_location')\n",
    "print(df_WL.shape)\n",
    "df_WL.isnull().sum()"
   ]
  },
  {
   "cell_type": "code",
   "execution_count": 60,
   "metadata": {},
   "outputs": [],
   "source": [
    "employee = pd.merge(employee, df_WL, on='employee_id', how='left')"
   ]
  },
  {
   "cell_type": "code",
   "execution_count": 61,
   "metadata": {},
   "outputs": [
    {
     "data": {
      "text/plain": [
       "(828, 2)"
      ]
     },
     "execution_count": 61,
     "metadata": {},
     "output_type": "execute_result"
    }
   ],
   "source": [
    "df_pt = employee_project[['employee_id', 'project_type']].copy()\n",
    "df_pt['project_type'].fillna(df_pt['project_type'].mode()[0], inplace=True)\n",
    "df_pt.drop_duplicates(inplace=True)\n",
    "df_pt = df_pt.groupby('employee_id')['project_type'].apply(list).reset_index(name='project_type')\n",
    "df_pt.shape"
   ]
  },
  {
   "cell_type": "code",
   "execution_count": 62,
   "metadata": {},
   "outputs": [],
   "source": [
    "employee = pd.merge(employee, df_pt, on='employee_id', how='left')"
   ]
  },
  {
   "cell_type": "code",
   "execution_count": 63,
   "metadata": {},
   "outputs": [
    {
     "data": {
      "text/plain": [
       "(790, 2)"
      ]
     },
     "execution_count": 63,
     "metadata": {},
     "output_type": "execute_result"
    }
   ],
   "source": [
    "df_all = project_resource[['employee_id', 'allocation_percentage']].copy()\n",
    "df_all['allocation_percentage'] = df_all['allocation_percentage'].fillna(0)\n",
    "df_all['allocation_percentage'] = df_all['allocation_percentage'].astype(int)\n",
    "df_all1 = df_all.groupby('employee_id', as_index =False)['allocation_percentage'].sum()\n",
    "df_all1.shape"
   ]
  },
  {
   "cell_type": "code",
   "execution_count": 64,
   "metadata": {},
   "outputs": [],
   "source": [
    "employee = pd.merge(employee, df_all1, on='employee_id', how='left')"
   ]
  },
  {
   "cell_type": "code",
   "execution_count": 65,
   "metadata": {},
   "outputs": [],
   "source": [
    "employee['allocation_percentage'] = employee['allocation_percentage'].fillna(0)"
   ]
  },
  {
   "cell_type": "code",
   "execution_count": 66,
   "metadata": {},
   "outputs": [],
   "source": [
    "employee['allocation_percentage'] = employee['allocation_percentage'].astype(int)"
   ]
  },
  {
   "cell_type": "code",
   "execution_count": 67,
   "metadata": {},
   "outputs": [
    {
     "data": {
      "text/html": [
       "<div>\n",
       "<style scoped>\n",
       "    .dataframe tbody tr th:only-of-type {\n",
       "        vertical-align: middle;\n",
       "    }\n",
       "\n",
       "    .dataframe tbody tr th {\n",
       "        vertical-align: top;\n",
       "    }\n",
       "\n",
       "    .dataframe thead th {\n",
       "        text-align: right;\n",
       "    }\n",
       "</style>\n",
       "<table border=\"1\" class=\"dataframe\">\n",
       "  <thead>\n",
       "    <tr style=\"text-align: right;\">\n",
       "      <th></th>\n",
       "      <th>employee_id</th>\n",
       "      <th>first_name</th>\n",
       "      <th>last_name</th>\n",
       "      <th>category</th>\n",
       "      <th>department_name</th>\n",
       "      <th>designation_name</th>\n",
       "      <th>duhead_id</th>\n",
       "      <th>coehead_id</th>\n",
       "      <th>coe</th>\n",
       "      <th>name</th>\n",
       "      <th>work_location</th>\n",
       "      <th>project_type</th>\n",
       "      <th>allocation_percentage</th>\n",
       "    </tr>\n",
       "  </thead>\n",
       "  <tbody>\n",
       "    <tr>\n",
       "      <th>0</th>\n",
       "      <td>AFTP003</td>\n",
       "      <td>Sweety Alwin</td>\n",
       "      <td>Narendra</td>\n",
       "      <td>CONTRACT</td>\n",
       "      <td>Engineering</td>\n",
       "      <td>Consultant</td>\n",
       "      <td>[AFT00304]</td>\n",
       "      <td>[AFT00640]</td>\n",
       "      <td>[DESIGN_DEVELOPMENT]</td>\n",
       "      <td>[Bench]</td>\n",
       "      <td>[OFFSHORE]</td>\n",
       "      <td>[CUSTOMER]</td>\n",
       "      <td>0</td>\n",
       "    </tr>\n",
       "    <tr>\n",
       "      <th>1</th>\n",
       "      <td>AFT00416</td>\n",
       "      <td>Shubham</td>\n",
       "      <td>Jain</td>\n",
       "      <td>EMPLOYEE</td>\n",
       "      <td>Engineering</td>\n",
       "      <td>Senior Software Development Engineer</td>\n",
       "      <td>[AFT00599, AFT00640, AFT00304]</td>\n",
       "      <td>[AFT00599]</td>\n",
       "      <td>[RELIABILITY_ENGINEERING, DESIGN_DEVELOPMENT]</td>\n",
       "      <td>[Bench, VMS, A4 Services, ABS Development, MIS...</td>\n",
       "      <td>[OFFSHORE]</td>\n",
       "      <td>[ASSET, CUSTOMER]</td>\n",
       "      <td>800</td>\n",
       "    </tr>\n",
       "    <tr>\n",
       "      <th>2</th>\n",
       "      <td>AFT00782</td>\n",
       "      <td>Supriya</td>\n",
       "      <td>Barkund</td>\n",
       "      <td>EMPLOYEE</td>\n",
       "      <td>Engineering</td>\n",
       "      <td>Senior Software Development Engineer</td>\n",
       "      <td>[AFT00628, AFT00640]</td>\n",
       "      <td>[AFT00599, AFT00640]</td>\n",
       "      <td>[DESIGN_DEVELOPMENT]</td>\n",
       "      <td>[Harmonic, MindStreet, Convoy- New, Convoy – S2]</td>\n",
       "      <td>[OFFSHORE]</td>\n",
       "      <td>[CUSTOMER]</td>\n",
       "      <td>400</td>\n",
       "    </tr>\n",
       "    <tr>\n",
       "      <th>3</th>\n",
       "      <td>AFT00455</td>\n",
       "      <td>Vipul</td>\n",
       "      <td>Jadhav</td>\n",
       "      <td>EMPLOYEE</td>\n",
       "      <td>Engineering</td>\n",
       "      <td>Senior Software Development Engineer</td>\n",
       "      <td>[AFT00599, AFT00628]</td>\n",
       "      <td>[AFT00599, AFT00628]</td>\n",
       "      <td>[DESIGN_DEVELOPMENT]</td>\n",
       "      <td>[Marchex (Media Team), Marchex – Archenia]</td>\n",
       "      <td>[OFFSHORE]</td>\n",
       "      <td>[CUSTOMER]</td>\n",
       "      <td>300</td>\n",
       "    </tr>\n",
       "    <tr>\n",
       "      <th>4</th>\n",
       "      <td>AFT00599</td>\n",
       "      <td>Abhijit</td>\n",
       "      <td>Nadgonda</td>\n",
       "      <td>EMPLOYEE</td>\n",
       "      <td>Engineering</td>\n",
       "      <td>Director - Emerging Technologies</td>\n",
       "      <td>[AFT00001]</td>\n",
       "      <td>[AFT00640, AFT00001]</td>\n",
       "      <td>[DESIGN_DEVELOPMENT, RELIABILITY_ENGINEERING]</td>\n",
       "      <td>[Training Assessment Project, PWA, Airtel UX, ...</td>\n",
       "      <td>[OFFSHORE]</td>\n",
       "      <td>[ASSET, CUSTOMER]</td>\n",
       "      <td>100</td>\n",
       "    </tr>\n",
       "  </tbody>\n",
       "</table>\n",
       "</div>"
      ],
      "text/plain": [
       "  employee_id    first_name last_name  category department_name  \\\n",
       "0     AFTP003  Sweety Alwin  Narendra  CONTRACT     Engineering   \n",
       "1    AFT00416       Shubham      Jain  EMPLOYEE     Engineering   \n",
       "2    AFT00782       Supriya   Barkund  EMPLOYEE     Engineering   \n",
       "3    AFT00455         Vipul    Jadhav  EMPLOYEE     Engineering   \n",
       "4    AFT00599       Abhijit  Nadgonda  EMPLOYEE     Engineering   \n",
       "\n",
       "                       designation_name                       duhead_id  \\\n",
       "0                            Consultant                      [AFT00304]   \n",
       "1  Senior Software Development Engineer  [AFT00599, AFT00640, AFT00304]   \n",
       "2  Senior Software Development Engineer            [AFT00628, AFT00640]   \n",
       "3  Senior Software Development Engineer            [AFT00599, AFT00628]   \n",
       "4      Director - Emerging Technologies                      [AFT00001]   \n",
       "\n",
       "             coehead_id                                            coe  \\\n",
       "0            [AFT00640]                           [DESIGN_DEVELOPMENT]   \n",
       "1            [AFT00599]  [RELIABILITY_ENGINEERING, DESIGN_DEVELOPMENT]   \n",
       "2  [AFT00599, AFT00640]                           [DESIGN_DEVELOPMENT]   \n",
       "3  [AFT00599, AFT00628]                           [DESIGN_DEVELOPMENT]   \n",
       "4  [AFT00640, AFT00001]  [DESIGN_DEVELOPMENT, RELIABILITY_ENGINEERING]   \n",
       "\n",
       "                                                name work_location  \\\n",
       "0                                            [Bench]    [OFFSHORE]   \n",
       "1  [Bench, VMS, A4 Services, ABS Development, MIS...    [OFFSHORE]   \n",
       "2   [Harmonic, MindStreet, Convoy- New, Convoy – S2]    [OFFSHORE]   \n",
       "3         [Marchex (Media Team), Marchex – Archenia]    [OFFSHORE]   \n",
       "4  [Training Assessment Project, PWA, Airtel UX, ...    [OFFSHORE]   \n",
       "\n",
       "        project_type  allocation_percentage  \n",
       "0         [CUSTOMER]                      0  \n",
       "1  [ASSET, CUSTOMER]                    800  \n",
       "2         [CUSTOMER]                    400  \n",
       "3         [CUSTOMER]                    300  \n",
       "4  [ASSET, CUSTOMER]                    100  "
      ]
     },
     "execution_count": 67,
     "metadata": {},
     "output_type": "execute_result"
    }
   ],
   "source": [
    "employee.head()"
   ]
  },
  {
   "cell_type": "code",
   "execution_count": 68,
   "metadata": {},
   "outputs": [],
   "source": [
    "employee_skills = pd.read_csv(\"../input/employee_skill_202210171656.csv\")\n",
    "skills =  pd.read_csv(\"../input/skills_202210171657.csv\")"
   ]
  },
  {
   "cell_type": "code",
   "execution_count": 69,
   "metadata": {},
   "outputs": [],
   "source": [
    "merged_employee_skills_and_skills = employee_skills.merge(skills, how='inner', left_on='skill_id', right_on='_id')"
   ]
  },
  {
   "cell_type": "code",
   "execution_count": 70,
   "metadata": {},
   "outputs": [],
   "source": [
    "final_merged_employee_skills = merged_employee_skills_and_skills.drop(columns=['_id_x','_id_y','status'],axis=1)"
   ]
  },
  {
   "cell_type": "code",
   "execution_count": 71,
   "metadata": {},
   "outputs": [],
   "source": [
    "final_merged_employee_skills = final_merged_employee_skills.replace(np.nan,\" \")"
   ]
  },
  {
   "cell_type": "code",
   "execution_count": 72,
   "metadata": {},
   "outputs": [],
   "source": [
    "final_merged_employee_skills['employee_skills'] = final_merged_employee_skills['sub_technology']+\" \"+final_merged_employee_skills['technology']+\" \"+final_merged_employee_skills['tool']+\" \"+final_merged_employee_skills['work_type']"
   ]
  },
  {
   "cell_type": "code",
   "execution_count": 73,
   "metadata": {},
   "outputs": [],
   "source": [
    "three_column_final_skills = final_merged_employee_skills.drop(columns = ['sub_technology', 'technology', 'tool',\n",
    "       'work_type'],axis = 1)"
   ]
  },
  {
   "cell_type": "code",
   "execution_count": 74,
   "metadata": {},
   "outputs": [],
   "source": [
    "grp_emp = three_column_final_skills.groupby('employee_id')\n",
    "unique_employee_ids = three_column_final_skills.employee_id.unique()\n",
    "sorted_unique_employee_ids = sorted(unique_employee_ids)\n",
    "dictt = {'employee_id':[],'employee_skills':[]}\n",
    "employee_skill_dataframe = pd.DataFrame(dictt)\n",
    "for i in sorted_unique_employee_ids:\n",
    "    skill_list = []\n",
    "    for j in grp_emp.get_group(i)['employee_skills']:\n",
    "        skill_list.append(j)\n",
    "    employee_skill_dataframe.loc[len(employee_skill_dataframe.index)] = [i,\",\".join(skill_list)]  "
   ]
  },
  {
   "cell_type": "code",
   "execution_count": 75,
   "metadata": {},
   "outputs": [
    {
     "data": {
      "text/html": [
       "<div>\n",
       "<style scoped>\n",
       "    .dataframe tbody tr th:only-of-type {\n",
       "        vertical-align: middle;\n",
       "    }\n",
       "\n",
       "    .dataframe tbody tr th {\n",
       "        vertical-align: top;\n",
       "    }\n",
       "\n",
       "    .dataframe thead th {\n",
       "        text-align: right;\n",
       "    }\n",
       "</style>\n",
       "<table border=\"1\" class=\"dataframe\">\n",
       "  <thead>\n",
       "    <tr style=\"text-align: right;\">\n",
       "      <th></th>\n",
       "      <th>employee_id</th>\n",
       "      <th>employee_skills</th>\n",
       "    </tr>\n",
       "  </thead>\n",
       "  <tbody>\n",
       "    <tr>\n",
       "      <th>0</th>\n",
       "      <td>AFT00047</td>\n",
       "      <td>Manual Testing Functional Testing   Testing,Pe...</td>\n",
       "    </tr>\n",
       "    <tr>\n",
       "      <th>1</th>\n",
       "      <td>AFT00084</td>\n",
       "      <td>Build&amp;Deploy DevOps Jenkins Coding &amp; Developme...</td>\n",
       "    </tr>\n",
       "    <tr>\n",
       "      <th>2</th>\n",
       "      <td>AFT00099</td>\n",
       "      <td>Automation Testing Specialized Testing Python/...</td>\n",
       "    </tr>\n",
       "    <tr>\n",
       "      <th>3</th>\n",
       "      <td>AFT00252</td>\n",
       "      <td>Full Stack Web Technologies Intermediate Codin...</td>\n",
       "    </tr>\n",
       "    <tr>\n",
       "      <th>4</th>\n",
       "      <td>AFT00257</td>\n",
       "      <td>Manual Testing Functional Testing   Testing,Di...</td>\n",
       "    </tr>\n",
       "  </tbody>\n",
       "</table>\n",
       "</div>"
      ],
      "text/plain": [
       "  employee_id                                    employee_skills\n",
       "0    AFT00047  Manual Testing Functional Testing   Testing,Pe...\n",
       "1    AFT00084  Build&Deploy DevOps Jenkins Coding & Developme...\n",
       "2    AFT00099  Automation Testing Specialized Testing Python/...\n",
       "3    AFT00252  Full Stack Web Technologies Intermediate Codin...\n",
       "4    AFT00257  Manual Testing Functional Testing   Testing,Di..."
      ]
     },
     "execution_count": 75,
     "metadata": {},
     "output_type": "execute_result"
    }
   ],
   "source": [
    "employee_skill_dataframe.head()"
   ]
  },
  {
   "cell_type": "code",
   "execution_count": 76,
   "metadata": {},
   "outputs": [
    {
     "data": {
      "text/plain": [
       "(57, 14)"
      ]
     },
     "execution_count": 76,
     "metadata": {},
     "output_type": "execute_result"
    }
   ],
   "source": [
    "employee =  pd.merge(employee_skill_dataframe, employee, how='left', on='employee_id')\n",
    "employee.shape"
   ]
  },
  {
   "cell_type": "code",
   "execution_count": 77,
   "metadata": {},
   "outputs": [
    {
     "data": {
      "text/html": [
       "<div>\n",
       "<style scoped>\n",
       "    .dataframe tbody tr th:only-of-type {\n",
       "        vertical-align: middle;\n",
       "    }\n",
       "\n",
       "    .dataframe tbody tr th {\n",
       "        vertical-align: top;\n",
       "    }\n",
       "\n",
       "    .dataframe thead th {\n",
       "        text-align: right;\n",
       "    }\n",
       "</style>\n",
       "<table border=\"1\" class=\"dataframe\">\n",
       "  <thead>\n",
       "    <tr style=\"text-align: right;\">\n",
       "      <th></th>\n",
       "      <th>employee_id</th>\n",
       "      <th>employee_skills</th>\n",
       "      <th>first_name</th>\n",
       "      <th>last_name</th>\n",
       "      <th>category</th>\n",
       "      <th>department_name</th>\n",
       "      <th>designation_name</th>\n",
       "      <th>duhead_id</th>\n",
       "      <th>coehead_id</th>\n",
       "      <th>coe</th>\n",
       "      <th>name</th>\n",
       "      <th>work_location</th>\n",
       "      <th>project_type</th>\n",
       "      <th>allocation_percentage</th>\n",
       "    </tr>\n",
       "  </thead>\n",
       "  <tbody>\n",
       "    <tr>\n",
       "      <th>0</th>\n",
       "      <td>AFT00047</td>\n",
       "      <td>Manual Testing Functional Testing   Testing,Pe...</td>\n",
       "      <td>Priyanka</td>\n",
       "      <td>Gurav</td>\n",
       "      <td>EMPLOYEE</td>\n",
       "      <td>Engineering</td>\n",
       "      <td>Principal Software Development Engineer-Test</td>\n",
       "      <td>[AFT00304, AFT00640]</td>\n",
       "      <td>[AFT00640]</td>\n",
       "      <td>[RELIABILITY_ENGINEERING]</td>\n",
       "      <td>[Stellus, Unitrends, Trial Scope]</td>\n",
       "      <td>[OFFSHORE]</td>\n",
       "      <td>[CUSTOMER]</td>\n",
       "      <td>400.0</td>\n",
       "    </tr>\n",
       "    <tr>\n",
       "      <th>1</th>\n",
       "      <td>AFT00084</td>\n",
       "      <td>Build&amp;Deploy DevOps Jenkins Coding &amp; Developme...</td>\n",
       "      <td>Samir</td>\n",
       "      <td>Joglekar</td>\n",
       "      <td>EMPLOYEE</td>\n",
       "      <td>Engineering</td>\n",
       "      <td>Associate Software Solution Architect</td>\n",
       "      <td>[AFT00599, AFT00628]</td>\n",
       "      <td>[AFT00599, AFT00628]</td>\n",
       "      <td>[DESIGN_DEVELOPMENT]</td>\n",
       "      <td>[Marchex (Sustenance), Marchex – OCPS]</td>\n",
       "      <td>[ONSITE, OFFSHORE]</td>\n",
       "      <td>[CUSTOMER]</td>\n",
       "      <td>300.0</td>\n",
       "    </tr>\n",
       "    <tr>\n",
       "      <th>2</th>\n",
       "      <td>AFT00099</td>\n",
       "      <td>Automation Testing Specialized Testing Python/...</td>\n",
       "      <td>Prathamesh</td>\n",
       "      <td>Sarang</td>\n",
       "      <td>EMPLOYEE</td>\n",
       "      <td>Engineering</td>\n",
       "      <td>Software Test Solution Architect</td>\n",
       "      <td>[AFT00304, AFT00640, AFT00129]</td>\n",
       "      <td>[AFT00640]</td>\n",
       "      <td>[DESIGN_DEVELOPMENT, RELIABILITY_ENGINEERING]</td>\n",
       "      <td>[Automation training, QAccelerator, Bench, Man...</td>\n",
       "      <td>[OFFSHORE]</td>\n",
       "      <td>[ASSET, CUSTOMER]</td>\n",
       "      <td>1000.0</td>\n",
       "    </tr>\n",
       "    <tr>\n",
       "      <th>3</th>\n",
       "      <td>AFT00252</td>\n",
       "      <td>Full Stack Web Technologies Intermediate Codin...</td>\n",
       "      <td>Sunil</td>\n",
       "      <td>Jain</td>\n",
       "      <td>INTERN</td>\n",
       "      <td>Engineering</td>\n",
       "      <td>Principal Software Development Engineer</td>\n",
       "      <td>[AFT00628, AFT00640]</td>\n",
       "      <td>[AFT00599, AFT00640]</td>\n",
       "      <td>[DESIGN_DEVELOPMENT]</td>\n",
       "      <td>[Convoy, Convoy- New, Convoy – EDI]</td>\n",
       "      <td>[OFFSHORE]</td>\n",
       "      <td>[CUSTOMER]</td>\n",
       "      <td>300.0</td>\n",
       "    </tr>\n",
       "    <tr>\n",
       "      <th>4</th>\n",
       "      <td>AFT00257</td>\n",
       "      <td>Manual Testing Functional Testing   Testing,Di...</td>\n",
       "      <td>NaN</td>\n",
       "      <td>NaN</td>\n",
       "      <td>NaN</td>\n",
       "      <td>NaN</td>\n",
       "      <td>NaN</td>\n",
       "      <td>NaN</td>\n",
       "      <td>NaN</td>\n",
       "      <td>NaN</td>\n",
       "      <td>NaN</td>\n",
       "      <td>NaN</td>\n",
       "      <td>NaN</td>\n",
       "      <td>NaN</td>\n",
       "    </tr>\n",
       "  </tbody>\n",
       "</table>\n",
       "</div>"
      ],
      "text/plain": [
       "  employee_id                                    employee_skills  first_name  \\\n",
       "0    AFT00047  Manual Testing Functional Testing   Testing,Pe...    Priyanka   \n",
       "1    AFT00084  Build&Deploy DevOps Jenkins Coding & Developme...       Samir   \n",
       "2    AFT00099  Automation Testing Specialized Testing Python/...  Prathamesh   \n",
       "3    AFT00252  Full Stack Web Technologies Intermediate Codin...       Sunil   \n",
       "4    AFT00257  Manual Testing Functional Testing   Testing,Di...         NaN   \n",
       "\n",
       "  last_name  category department_name  \\\n",
       "0     Gurav  EMPLOYEE     Engineering   \n",
       "1  Joglekar  EMPLOYEE     Engineering   \n",
       "2    Sarang  EMPLOYEE     Engineering   \n",
       "3      Jain    INTERN     Engineering   \n",
       "4       NaN       NaN             NaN   \n",
       "\n",
       "                               designation_name  \\\n",
       "0  Principal Software Development Engineer-Test   \n",
       "1         Associate Software Solution Architect   \n",
       "2              Software Test Solution Architect   \n",
       "3       Principal Software Development Engineer   \n",
       "4                                           NaN   \n",
       "\n",
       "                        duhead_id            coehead_id  \\\n",
       "0            [AFT00304, AFT00640]            [AFT00640]   \n",
       "1            [AFT00599, AFT00628]  [AFT00599, AFT00628]   \n",
       "2  [AFT00304, AFT00640, AFT00129]            [AFT00640]   \n",
       "3            [AFT00628, AFT00640]  [AFT00599, AFT00640]   \n",
       "4                             NaN                   NaN   \n",
       "\n",
       "                                             coe  \\\n",
       "0                      [RELIABILITY_ENGINEERING]   \n",
       "1                           [DESIGN_DEVELOPMENT]   \n",
       "2  [DESIGN_DEVELOPMENT, RELIABILITY_ENGINEERING]   \n",
       "3                           [DESIGN_DEVELOPMENT]   \n",
       "4                                            NaN   \n",
       "\n",
       "                                                name       work_location  \\\n",
       "0                  [Stellus, Unitrends, Trial Scope]          [OFFSHORE]   \n",
       "1             [Marchex (Sustenance), Marchex – OCPS]  [ONSITE, OFFSHORE]   \n",
       "2  [Automation training, QAccelerator, Bench, Man...          [OFFSHORE]   \n",
       "3                [Convoy, Convoy- New, Convoy – EDI]          [OFFSHORE]   \n",
       "4                                                NaN                 NaN   \n",
       "\n",
       "        project_type  allocation_percentage  \n",
       "0         [CUSTOMER]                  400.0  \n",
       "1         [CUSTOMER]                  300.0  \n",
       "2  [ASSET, CUSTOMER]                 1000.0  \n",
       "3         [CUSTOMER]                  300.0  \n",
       "4                NaN                    NaN  "
      ]
     },
     "execution_count": 77,
     "metadata": {},
     "output_type": "execute_result"
    }
   ],
   "source": [
    "employee.head()"
   ]
  },
  {
   "cell_type": "code",
   "execution_count": 78,
   "metadata": {},
   "outputs": [],
   "source": [
    "vector = cv.fit_transform(employee['employee_skills']).toarray()\n",
    "from sklearn.metrics.pairwise import cosine_similarity\n",
    "similarity = cosine_similarity(vector)"
   ]
  },
  {
   "cell_type": "code",
   "execution_count": 79,
   "metadata": {},
   "outputs": [],
   "source": [
    "employee['designation_name'] = employee['designation_name'].fillna('no_info')\n",
    "employee['coe'] = employee['coe'].fillna('no_info')\n",
    "employee['category'] = employee['category'].fillna('no_info')\n",
    "employee['duhead_id'] = employee['duhead_id'].fillna('no_info')\n",
    "employee['coehead_id'] = employee['coehead_id'].fillna('no_info')\n",
    "employee['name'] = employee['name'].fillna('no_info')\n",
    "employee['work_location'] = employee['work_location'].fillna('no_info')\n",
    "employee['project_type'] = employee['project_type'].fillna('no_info')"
   ]
  },
  {
   "cell_type": "code",
   "execution_count": 80,
   "metadata": {},
   "outputs": [],
   "source": [
    "employee['allocation_percentage'] = employee['allocation_percentage'].fillna(0)"
   ]
  },
  {
   "cell_type": "code",
   "execution_count": 81,
   "metadata": {},
   "outputs": [
    {
     "name": "stdout",
     "output_type": "stream",
     "text": [
      "employee_id               object\n",
      "employee_skills           object\n",
      "first_name                object\n",
      "last_name                 object\n",
      "category                  object\n",
      "department_name           object\n",
      "designation_name          object\n",
      "duhead_id                 object\n",
      "coehead_id                object\n",
      "coe                       object\n",
      "name                      object\n",
      "work_location             object\n",
      "project_type              object\n",
      "allocation_percentage    float64\n",
      "dtype: object\n"
     ]
    }
   ],
   "source": [
    "result = employee.dtypes\n",
    "print(result)"
   ]
  },
  {
   "cell_type": "code",
   "execution_count": 82,
   "metadata": {},
   "outputs": [],
   "source": [
    "pickle.dump(employee, open('../output/employee_skill.pkl', 'wb'))\n",
    "pickle.dump(similarity, open('../output/similarity.pkl', 'wb'))"
   ]
  },
  {
   "cell_type": "code",
   "execution_count": null,
   "metadata": {},
   "outputs": [],
   "source": [
    " "
   ]
  }
 ],
 "metadata": {
  "kernelspec": {
   "display_name": "Python 3.10.5 ('expo_venv': venv)",
   "language": "python",
   "name": "python3"
  },
  "language_info": {
   "codemirror_mode": {
    "name": "ipython",
    "version": 3
   },
   "file_extension": ".py",
   "mimetype": "text/x-python",
   "name": "python",
   "nbconvert_exporter": "python",
   "pygments_lexer": "ipython3",
   "version": "3.10.5"
  },
  "orig_nbformat": 4,
  "vscode": {
   "interpreter": {
    "hash": "a4fb6689fe63183b6f620ea2598ccbdb177294886e2b465f66c7cce29127e34a"
   }
  }
 },
 "nbformat": 4,
 "nbformat_minor": 2
}
