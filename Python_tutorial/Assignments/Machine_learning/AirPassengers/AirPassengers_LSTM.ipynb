{
 "cells": [
  {
   "cell_type": "code",
   "execution_count": 96,
   "metadata": {},
   "outputs": [],
   "source": [
    "import numpy as np\n",
    "import pandas as pd\n",
    "import matplotlib.pyplot as plt\n",
    "%matplotlib inline\n",
    "from sklearn.preprocessing import MinMaxScaler, StandardScaler\n",
    "from keras.preprocessing.sequence import TimeseriesGenerator\n",
    "from pandas.tseries.offsets import DateOffset\n",
    "from keras.models import Sequential\n",
    "from keras.layers import Dense\n",
    "from keras.layers import LSTM \n",
    "from keras.layers import Dropout\n",
    "from sklearn.model_selection import GridSearchCV\n",
    "import warnings\n",
    "warnings.filterwarnings(\"ignore\")"
   ]
  },
  {
   "cell_type": "code",
   "execution_count": 97,
   "metadata": {},
   "outputs": [
    {
     "data": {
      "text/html": [
       "<div>\n",
       "<style scoped>\n",
       "    .dataframe tbody tr th:only-of-type {\n",
       "        vertical-align: middle;\n",
       "    }\n",
       "\n",
       "    .dataframe tbody tr th {\n",
       "        vertical-align: top;\n",
       "    }\n",
       "\n",
       "    .dataframe thead th {\n",
       "        text-align: right;\n",
       "    }\n",
       "</style>\n",
       "<table border=\"1\" class=\"dataframe\">\n",
       "  <thead>\n",
       "    <tr style=\"text-align: right;\">\n",
       "      <th></th>\n",
       "      <th>Month</th>\n",
       "      <th>#Passengers</th>\n",
       "    </tr>\n",
       "  </thead>\n",
       "  <tbody>\n",
       "    <tr>\n",
       "      <th>0</th>\n",
       "      <td>1949-01</td>\n",
       "      <td>112</td>\n",
       "    </tr>\n",
       "    <tr>\n",
       "      <th>1</th>\n",
       "      <td>1949-02</td>\n",
       "      <td>118</td>\n",
       "    </tr>\n",
       "    <tr>\n",
       "      <th>2</th>\n",
       "      <td>1949-03</td>\n",
       "      <td>132</td>\n",
       "    </tr>\n",
       "    <tr>\n",
       "      <th>3</th>\n",
       "      <td>1949-04</td>\n",
       "      <td>129</td>\n",
       "    </tr>\n",
       "    <tr>\n",
       "      <th>4</th>\n",
       "      <td>1949-05</td>\n",
       "      <td>121</td>\n",
       "    </tr>\n",
       "  </tbody>\n",
       "</table>\n",
       "</div>"
      ],
      "text/plain": [
       "     Month  #Passengers\n",
       "0  1949-01          112\n",
       "1  1949-02          118\n",
       "2  1949-03          132\n",
       "3  1949-04          129\n",
       "4  1949-05          121"
      ]
     },
     "execution_count": 97,
     "metadata": {},
     "output_type": "execute_result"
    }
   ],
   "source": [
    "data = pd.read_csv(\"AirPassengers.csv\")\n",
    "data.head()"
   ]
  },
  {
   "cell_type": "code",
   "execution_count": 98,
   "metadata": {},
   "outputs": [
    {
     "data": {
      "text/html": [
       "<div>\n",
       "<style scoped>\n",
       "    .dataframe tbody tr th:only-of-type {\n",
       "        vertical-align: middle;\n",
       "    }\n",
       "\n",
       "    .dataframe tbody tr th {\n",
       "        vertical-align: top;\n",
       "    }\n",
       "\n",
       "    .dataframe thead th {\n",
       "        text-align: right;\n",
       "    }\n",
       "</style>\n",
       "<table border=\"1\" class=\"dataframe\">\n",
       "  <thead>\n",
       "    <tr style=\"text-align: right;\">\n",
       "      <th></th>\n",
       "      <th>Month</th>\n",
       "      <th>#Passengers</th>\n",
       "    </tr>\n",
       "  </thead>\n",
       "  <tbody>\n",
       "    <tr>\n",
       "      <th>0</th>\n",
       "      <td>1949-01-01</td>\n",
       "      <td>112</td>\n",
       "    </tr>\n",
       "    <tr>\n",
       "      <th>1</th>\n",
       "      <td>1949-02-01</td>\n",
       "      <td>118</td>\n",
       "    </tr>\n",
       "    <tr>\n",
       "      <th>2</th>\n",
       "      <td>1949-03-01</td>\n",
       "      <td>132</td>\n",
       "    </tr>\n",
       "    <tr>\n",
       "      <th>3</th>\n",
       "      <td>1949-04-01</td>\n",
       "      <td>129</td>\n",
       "    </tr>\n",
       "    <tr>\n",
       "      <th>4</th>\n",
       "      <td>1949-05-01</td>\n",
       "      <td>121</td>\n",
       "    </tr>\n",
       "  </tbody>\n",
       "</table>\n",
       "</div>"
      ],
      "text/plain": [
       "       Month  #Passengers\n",
       "0 1949-01-01          112\n",
       "1 1949-02-01          118\n",
       "2 1949-03-01          132\n",
       "3 1949-04-01          129\n",
       "4 1949-05-01          121"
      ]
     },
     "execution_count": 98,
     "metadata": {},
     "output_type": "execute_result"
    }
   ],
   "source": [
    "data[\"Month\"] = pd.to_datetime(data[\"Month\"])\n",
    "data.head()"
   ]
  },
  {
   "cell_type": "code",
   "execution_count": 99,
   "metadata": {},
   "outputs": [
    {
     "data": {
      "text/html": [
       "<div>\n",
       "<style scoped>\n",
       "    .dataframe tbody tr th:only-of-type {\n",
       "        vertical-align: middle;\n",
       "    }\n",
       "\n",
       "    .dataframe tbody tr th {\n",
       "        vertical-align: top;\n",
       "    }\n",
       "\n",
       "    .dataframe thead th {\n",
       "        text-align: right;\n",
       "    }\n",
       "</style>\n",
       "<table border=\"1\" class=\"dataframe\">\n",
       "  <thead>\n",
       "    <tr style=\"text-align: right;\">\n",
       "      <th></th>\n",
       "      <th>Month</th>\n",
       "      <th>#Passengers</th>\n",
       "      <th>Year</th>\n",
       "      <th>Monthly</th>\n",
       "    </tr>\n",
       "  </thead>\n",
       "  <tbody>\n",
       "    <tr>\n",
       "      <th>0</th>\n",
       "      <td>1949-01-01</td>\n",
       "      <td>112</td>\n",
       "      <td>1949</td>\n",
       "      <td>1</td>\n",
       "    </tr>\n",
       "    <tr>\n",
       "      <th>1</th>\n",
       "      <td>1949-02-01</td>\n",
       "      <td>118</td>\n",
       "      <td>1949</td>\n",
       "      <td>2</td>\n",
       "    </tr>\n",
       "    <tr>\n",
       "      <th>2</th>\n",
       "      <td>1949-03-01</td>\n",
       "      <td>132</td>\n",
       "      <td>1949</td>\n",
       "      <td>3</td>\n",
       "    </tr>\n",
       "    <tr>\n",
       "      <th>3</th>\n",
       "      <td>1949-04-01</td>\n",
       "      <td>129</td>\n",
       "      <td>1949</td>\n",
       "      <td>4</td>\n",
       "    </tr>\n",
       "    <tr>\n",
       "      <th>4</th>\n",
       "      <td>1949-05-01</td>\n",
       "      <td>121</td>\n",
       "      <td>1949</td>\n",
       "      <td>5</td>\n",
       "    </tr>\n",
       "  </tbody>\n",
       "</table>\n",
       "</div>"
      ],
      "text/plain": [
       "       Month  #Passengers  Year  Monthly\n",
       "0 1949-01-01          112  1949        1\n",
       "1 1949-02-01          118  1949        2\n",
       "2 1949-03-01          132  1949        3\n",
       "3 1949-04-01          129  1949        4\n",
       "4 1949-05-01          121  1949        5"
      ]
     },
     "execution_count": 99,
     "metadata": {},
     "output_type": "execute_result"
    }
   ],
   "source": [
    "data['Year'] = data['Month'].dt.year\n",
    "data['Monthly'] = data['Month'].dt.month\n",
    "data.head()"
   ]
  },
  {
   "cell_type": "code",
   "execution_count": 100,
   "metadata": {},
   "outputs": [
    {
     "name": "stdout",
     "output_type": "stream",
     "text": [
      "            #Passengers  Year  Monthly\n",
      "Month                                 \n",
      "1949-01-01          112  1949        1\n",
      "1949-02-01          118  1949        2\n",
      "1949-03-01          132  1949        3\n",
      "1949-04-01          129  1949        4\n",
      "1949-05-01          121  1949        5\n",
      "...                 ...   ...      ...\n",
      "1960-08-01          606  1960        8\n",
      "1960-09-01          508  1960        9\n",
      "1960-10-01          461  1960       10\n",
      "1960-11-01          390  1960       11\n",
      "1960-12-01          432  1960       12\n",
      "\n",
      "[144 rows x 3 columns]\n"
     ]
    }
   ],
   "source": [
    "data.set_index('Month', inplace=True)\n",
    "print(data)"
   ]
  },
  {
   "cell_type": "code",
   "execution_count": 101,
   "metadata": {},
   "outputs": [
    {
     "data": {
      "text/plain": [
       "(144, 3)"
      ]
     },
     "execution_count": 101,
     "metadata": {},
     "output_type": "execute_result"
    }
   ],
   "source": [
    "data.shape"
   ]
  },
  {
   "cell_type": "code",
   "execution_count": 102,
   "metadata": {},
   "outputs": [
    {
     "data": {
      "image/png": "[encoded data removed]",
      "text/plain": [
       "<Figure size 720x360 with 2 Axes>"
      ]
     },
     "metadata": {
      "needs_background": "light"
     },
     "output_type": "display_data"
    }
   ],
   "source": [
    "import seaborn as sns\n",
    "plt.figure(figsize = (10,5))\n",
    "sns.heatmap(data.corr(),annot = True , cmap = 'coolwarm' );"
   ]
  },
  {
   "cell_type": "code",
   "execution_count": 103,
   "metadata": {},
   "outputs": [
    {
     "data": {
      "image/png": "[encoded data removed]",
      "text/plain": [
       "<Figure size 720x360 with 1 Axes>"
      ]
     },
     "metadata": {
      "needs_background": "light"
     },
     "output_type": "display_data"
    }
   ],
   "source": [
    "corr_mat = data.corr()\n",
    "plt.figure(figsize = (10,5))\n",
    "corr_mat['#Passengers'].sort_values(ascending = False).plot(kind = 'bar');"
   ]
  },
  {
   "cell_type": "code",
   "execution_count": 104,
   "metadata": {},
   "outputs": [
    {
     "data": {
      "text/plain": [
       "#Passengers    1.000000\n",
       "Year           0.921824\n",
       "Monthly        0.063649\n",
       "Name: #Passengers, dtype: float64"
      ]
     },
     "execution_count": 104,
     "metadata": {},
     "output_type": "execute_result"
    }
   ],
   "source": [
    "data.corr()['#Passengers'].sort_values(ascending=False).abs()"
   ]
  },
  {
   "cell_type": "code",
   "execution_count": 105,
   "metadata": {},
   "outputs": [
    {
     "name": "stdout",
     "output_type": "stream",
     "text": [
      "['Year', 'Monthly']\n",
      "['#Passengers']\n"
     ]
    }
   ],
   "source": [
    "from sklearn import preprocessing\n",
    "columns = data.columns\n",
    "for i in columns:\n",
    "    if data.dtypes[i] is object:\n",
    "        print(\"Cannot process object data\")\n",
    "    \n",
    "\n",
    "## if skew is 0.5 and -0.5 i.e its normal distribution and use scaler else normalise\n",
    "scale_list = []\n",
    "normalise_list = []\n",
    "data_skew = data.skew()\n",
    "\n",
    "for i in columns:\n",
    "    if data_skew[i] >= -0.5 and data_skew[i] <= 0.5:\n",
    "        scale_list.append(i)\n",
    "    else:\n",
    "        normalise_list.append(i)\n",
    "print(scale_list)\n",
    "print(normalise_list)"
   ]
  },
  {
   "cell_type": "code",
   "execution_count": 106,
   "metadata": {},
   "outputs": [
    {
     "data": {
      "text/html": [
       "<div>\n",
       "<style scoped>\n",
       "    .dataframe tbody tr th:only-of-type {\n",
       "        vertical-align: middle;\n",
       "    }\n",
       "\n",
       "    .dataframe tbody tr th {\n",
       "        vertical-align: top;\n",
       "    }\n",
       "\n",
       "    .dataframe thead th {\n",
       "        text-align: right;\n",
       "    }\n",
       "</style>\n",
       "<table border=\"1\" class=\"dataframe\">\n",
       "  <thead>\n",
       "    <tr style=\"text-align: right;\">\n",
       "      <th></th>\n",
       "      <th>#Passengers</th>\n",
       "      <th>Year</th>\n",
       "      <th>Monthly</th>\n",
       "    </tr>\n",
       "    <tr>\n",
       "      <th>Month</th>\n",
       "      <th></th>\n",
       "      <th></th>\n",
       "      <th></th>\n",
       "    </tr>\n",
       "  </thead>\n",
       "  <tbody>\n",
       "    <tr>\n",
       "      <th>1949-01-01</th>\n",
       "      <td>112</td>\n",
       "      <td>1949</td>\n",
       "      <td>1</td>\n",
       "    </tr>\n",
       "    <tr>\n",
       "      <th>1949-02-01</th>\n",
       "      <td>118</td>\n",
       "      <td>1949</td>\n",
       "      <td>2</td>\n",
       "    </tr>\n",
       "    <tr>\n",
       "      <th>1949-03-01</th>\n",
       "      <td>132</td>\n",
       "      <td>1949</td>\n",
       "      <td>3</td>\n",
       "    </tr>\n",
       "    <tr>\n",
       "      <th>1949-04-01</th>\n",
       "      <td>129</td>\n",
       "      <td>1949</td>\n",
       "      <td>4</td>\n",
       "    </tr>\n",
       "    <tr>\n",
       "      <th>1949-05-01</th>\n",
       "      <td>121</td>\n",
       "      <td>1949</td>\n",
       "      <td>5</td>\n",
       "    </tr>\n",
       "    <tr>\n",
       "      <th>...</th>\n",
       "      <td>...</td>\n",
       "      <td>...</td>\n",
       "      <td>...</td>\n",
       "    </tr>\n",
       "    <tr>\n",
       "      <th>1960-08-01</th>\n",
       "      <td>606</td>\n",
       "      <td>1960</td>\n",
       "      <td>8</td>\n",
       "    </tr>\n",
       "    <tr>\n",
       "      <th>1960-09-01</th>\n",
       "      <td>508</td>\n",
       "      <td>1960</td>\n",
       "      <td>9</td>\n",
       "    </tr>\n",
       "    <tr>\n",
       "      <th>1960-10-01</th>\n",
       "      <td>461</td>\n",
       "      <td>1960</td>\n",
       "      <td>10</td>\n",
       "    </tr>\n",
       "    <tr>\n",
       "      <th>1960-11-01</th>\n",
       "      <td>390</td>\n",
       "      <td>1960</td>\n",
       "      <td>11</td>\n",
       "    </tr>\n",
       "    <tr>\n",
       "      <th>1960-12-01</th>\n",
       "      <td>432</td>\n",
       "      <td>1960</td>\n",
       "      <td>12</td>\n",
       "    </tr>\n",
       "  </tbody>\n",
       "</table>\n",
       "<p>144 rows × 3 columns</p>\n",
       "</div>"
      ],
      "text/plain": [
       "            #Passengers  Year  Monthly\n",
       "Month                                 \n",
       "1949-01-01          112  1949        1\n",
       "1949-02-01          118  1949        2\n",
       "1949-03-01          132  1949        3\n",
       "1949-04-01          129  1949        4\n",
       "1949-05-01          121  1949        5\n",
       "...                 ...   ...      ...\n",
       "1960-08-01          606  1960        8\n",
       "1960-09-01          508  1960        9\n",
       "1960-10-01          461  1960       10\n",
       "1960-11-01          390  1960       11\n",
       "1960-12-01          432  1960       12\n",
       "\n",
       "[144 rows x 3 columns]"
      ]
     },
     "execution_count": 106,
     "metadata": {},
     "output_type": "execute_result"
    }
   ],
   "source": [
    "df = data.copy(deep=True)\n",
    "df"
   ]
  },
  {
   "cell_type": "code",
   "execution_count": 107,
   "metadata": {},
   "outputs": [
    {
     "name": "stdout",
     "output_type": "stream",
     "text": [
      "            #Passengers  Year  Monthly\n",
      "Month                                 \n",
      "1949-01-01          112  1949        1\n",
      "1949-02-01          118  1949        2\n",
      "1949-03-01          132  1949        3\n",
      "1949-04-01          129  1949        4\n",
      "1949-05-01          121  1949        5\n",
      "...                 ...   ...      ...\n",
      "1960-08-01          606  1960        8\n",
      "1960-09-01          508  1960        9\n",
      "1960-10-01          461  1960       10\n",
      "1960-11-01          390  1960       11\n",
      "1960-12-01          432  1960       12\n",
      "\n",
      "[144 rows x 3 columns]\n"
     ]
    }
   ],
   "source": [
    "col_names = ['Year','Monthly']\n",
    "features = df[col_names]\n",
    "scaler = preprocessing.StandardScaler().fit(features.values)\n",
    "features = scaler.transform(features.values)\n",
    "df[col_names] = features\n",
    "print(data)"
   ]
  },
  {
   "cell_type": "code",
   "execution_count": 108,
   "metadata": {},
   "outputs": [
    {
     "name": "stdout",
     "output_type": "stream",
     "text": [
      "            #Passengers  Year  Monthly\n",
      "Month                                 \n",
      "1949-01-01          112  1949        1\n",
      "1949-02-01          118  1949        2\n",
      "1949-03-01          132  1949        3\n",
      "1949-04-01          129  1949        4\n",
      "1949-05-01          121  1949        5\n",
      "...                 ...   ...      ...\n",
      "1960-08-01          606  1960        8\n",
      "1960-09-01          508  1960        9\n",
      "1960-10-01          461  1960       10\n",
      "1960-11-01          390  1960       11\n",
      "1960-12-01          432  1960       12\n",
      "\n",
      "[144 rows x 3 columns]\n"
     ]
    }
   ],
   "source": [
    "col_names = ['#Passengers']\n",
    "features = df[col_names]\n",
    "scaler_1 = preprocessing.MinMaxScaler().fit(features.values)\n",
    "features = scaler_1.transform(features.values)\n",
    "df[col_names] = features\n",
    "print(data)"
   ]
  },
  {
   "cell_type": "code",
   "execution_count": 109,
   "metadata": {},
   "outputs": [
    {
     "name": "stdout",
     "output_type": "stream",
     "text": [
      "            #Passengers      Year   Monthly\n",
      "Month                                      \n",
      "1949-01-01     0.015444 -1.593255 -1.593255\n",
      "1949-02-01     0.027027 -1.593255 -1.303572\n",
      "1949-03-01     0.054054 -1.593255 -1.013890\n",
      "1949-04-01     0.048263 -1.593255 -0.724207\n",
      "1949-05-01     0.032819 -1.593255 -0.434524\n",
      "...                 ...       ...       ...\n",
      "1960-08-01     0.969112  1.593255  0.434524\n",
      "1960-09-01     0.779923  1.593255  0.724207\n",
      "1960-10-01     0.689189  1.593255  1.013890\n",
      "1960-11-01     0.552124  1.593255  1.303572\n",
      "1960-12-01     0.633205  1.593255  1.593255\n",
      "\n",
      "[144 rows x 3 columns]\n"
     ]
    }
   ],
   "source": [
    "print(df)"
   ]
  },
  {
   "cell_type": "code",
   "execution_count": 110,
   "metadata": {},
   "outputs": [],
   "source": [
    "test_split=round(len(df)*0.20)\n"
   ]
  },
  {
   "cell_type": "code",
   "execution_count": 111,
   "metadata": {},
   "outputs": [
    {
     "name": "stdout",
     "output_type": "stream",
     "text": [
      "(108, 3)\n",
      "(36, 3)\n"
     ]
    }
   ],
   "source": [
    "df_for_training=df[:-36]\n",
    "df_for_testing=df[-36:]\n",
    "print(df_for_training.shape)\n",
    "print(df_for_testing.shape)"
   ]
  },
  {
   "cell_type": "code",
   "execution_count": 112,
   "metadata": {},
   "outputs": [
    {
     "data": {
      "text/plain": [
       "'col_list = list(train_data)\\n# use this handy way to swap the elements\\ncol_list[0], col_list[1] = col_list[1], col_list[0]\\n# assign back, the order will now be swapped\\ntrain_data.columns = col_list\\ntrain_data'"
      ]
     },
     "execution_count": 112,
     "metadata": {},
     "output_type": "execute_result"
    }
   ],
   "source": [
    "'''col_list = list(train_data)\n",
    "# use this handy way to swap the elements\n",
    "col_list[0], col_list[1] = col_list[1], col_list[0]\n",
    "# assign back, the order will now be swapped\n",
    "train_data.columns = col_list\n",
    "train_data'''"
   ]
  },
  {
   "cell_type": "code",
   "execution_count": 113,
   "metadata": {},
   "outputs": [
    {
     "data": {
      "text/plain": [
       "'col_list = list(train_data)\\n# use this handy way to swap the elements\\ncol_list[1], col_list[2] = col_list[2], col_list[1]\\n# assign back, the order will now be swapped\\ntrain_data.columns = col_list\\ntrain_data'"
      ]
     },
     "execution_count": 113,
     "metadata": {},
     "output_type": "execute_result"
    }
   ],
   "source": [
    "'''col_list = list(train_data)\n",
    "# use this handy way to swap the elements\n",
    "col_list[1], col_list[2] = col_list[2], col_list[1]\n",
    "# assign back, the order will now be swapped\n",
    "train_data.columns = col_list\n",
    "train_data'''"
   ]
  },
  {
   "cell_type": "code",
   "execution_count": 114,
   "metadata": {},
   "outputs": [
    {
     "name": "stdout",
     "output_type": "stream",
     "text": [
      "[[ 0.01544402 -1.59325501 -1.59325501]\n",
      " [ 0.02702703 -1.59325501 -1.30357228]\n",
      " [ 0.05405405 -1.59325501 -1.01388955]\n",
      " [ 0.04826255 -1.59325501 -0.72420682]\n",
      " [ 0.03281853 -1.59325501 -0.43452409]\n",
      " [ 0.05984556 -1.59325501 -0.14484136]\n",
      " [ 0.08494208 -1.59325501  0.14484136]\n",
      " [ 0.08494208 -1.59325501  0.43452409]\n",
      " [ 0.06177606 -1.59325501  0.72420682]\n",
      " [ 0.02895753 -1.59325501  1.01388955]\n",
      " [ 0.         -1.59325501  1.30357228]\n",
      " [ 0.02702703 -1.59325501  1.59325501]\n",
      " [ 0.02123552 -1.30357228 -1.59325501]\n",
      " [ 0.04247104 -1.30357228 -1.30357228]\n",
      " [ 0.07142857 -1.30357228 -1.01388955]\n",
      " [ 0.05984556 -1.30357228 -0.72420682]\n",
      " [ 0.04054054 -1.30357228 -0.43452409]\n",
      " [ 0.08687259 -1.30357228 -0.14484136]\n",
      " [ 0.12741313 -1.30357228  0.14484136]\n",
      " [ 0.12741313 -1.30357228  0.43452409]\n",
      " [ 0.1042471  -1.30357228  0.72420682]\n",
      " [ 0.05598456 -1.30357228  1.01388955]\n",
      " [ 0.01930502 -1.30357228  1.30357228]\n",
      " [ 0.06949807 -1.30357228  1.59325501]\n",
      " [ 0.07915058 -1.01388955 -1.59325501]\n",
      " [ 0.08880309 -1.01388955 -1.30357228]\n",
      " [ 0.14285714 -1.01388955 -1.01388955]\n",
      " [ 0.11389961 -1.01388955 -0.72420682]\n",
      " [ 0.13127413 -1.01388955 -0.43452409]\n",
      " [ 0.14285714 -1.01388955 -0.14484136]\n",
      " [ 0.18339768 -1.01388955  0.14484136]\n",
      " [ 0.18339768 -1.01388955  0.43452409]\n",
      " [ 0.15444015 -1.01388955  0.72420682]\n",
      " [ 0.11196911 -1.01388955  1.01388955]\n",
      " [ 0.08108108 -1.01388955  1.30357228]\n",
      " [ 0.11969112 -1.01388955  1.59325501]\n",
      " [ 0.12934363 -0.72420682 -1.59325501]\n",
      " [ 0.14671815 -0.72420682 -1.30357228]\n",
      " [ 0.17181467 -0.72420682 -1.01388955]\n",
      " [ 0.14864865 -0.72420682 -0.72420682]\n",
      " [ 0.15250965 -0.72420682 -0.43452409]\n",
      " [ 0.22007722 -0.72420682 -0.14484136]\n",
      " [ 0.24324324 -0.72420682  0.14484136]\n",
      " [ 0.26640927 -0.72420682  0.43452409]\n",
      " [ 0.2027027  -0.72420682  0.72420682]\n",
      " [ 0.16795367 -0.72420682  1.01388955]\n",
      " [ 0.13127413 -0.72420682  1.30357228]\n",
      " [ 0.17374517 -0.72420682  1.59325501]\n",
      " [ 0.17760618 -0.43452409 -1.59325501]\n",
      " [ 0.17760618 -0.43452409 -1.30357228]\n",
      " [ 0.25482625 -0.43452409 -1.01388955]\n",
      " [ 0.25289575 -0.43452409 -0.72420682]\n",
      " [ 0.24131274 -0.43452409 -0.43452409]\n",
      " [ 0.26833977 -0.43452409 -0.14484136]\n",
      " [ 0.30888031 -0.43452409  0.14484136]\n",
      " [ 0.32432432 -0.43452409  0.43452409]\n",
      " [ 0.25675676 -0.43452409  0.72420682]\n",
      " [ 0.20656371 -0.43452409  1.01388955]\n",
      " [ 0.14671815 -0.43452409  1.30357228]\n",
      " [ 0.18725869 -0.43452409  1.59325501]\n",
      " [ 0.19305019 -0.14484136 -1.59325501]\n",
      " [ 0.16216216 -0.14484136 -1.30357228]\n",
      " [ 0.25289575 -0.14484136 -1.01388955]\n",
      " [ 0.23745174 -0.14484136 -0.72420682]\n",
      " [ 0.25096525 -0.14484136 -0.43452409]\n",
      " [ 0.30888031 -0.14484136 -0.14484136]\n",
      " [ 0.38223938 -0.14484136  0.14484136]\n",
      " [ 0.36486486 -0.14484136  0.43452409]\n",
      " [ 0.2992278  -0.14484136  0.72420682]\n",
      " [ 0.24131274 -0.14484136  1.01388955]\n",
      " [ 0.19111969 -0.14484136  1.30357228]\n",
      " [ 0.24131274 -0.14484136  1.59325501]\n",
      " [ 0.26640927  0.14484136 -1.59325501]\n",
      " [ 0.24903475  0.14484136 -1.30357228]\n",
      " [ 0.31467181  0.14484136 -1.01388955]\n",
      " [ 0.31853282  0.14484136 -0.72420682]\n",
      " [ 0.32046332  0.14484136 -0.43452409]\n",
      " [ 0.40733591  0.14484136 -0.14484136]\n",
      " [ 0.5019305   0.14484136  0.14484136]\n",
      " [ 0.46911197  0.14484136  0.43452409]\n",
      " [ 0.4015444   0.14484136  0.72420682]\n",
      " [ 0.32818533  0.14484136  1.01388955]\n",
      " [ 0.25675676  0.14484136  1.30357228]\n",
      " [ 0.33590734  0.14484136  1.59325501]\n",
      " [ 0.34749035  0.43452409 -1.59325501]\n",
      " [ 0.33397683  0.43452409 -1.30357228]\n",
      " [ 0.41119691  0.43452409 -1.01388955]\n",
      " [ 0.4034749   0.43452409 -0.72420682]\n",
      " [ 0.41312741  0.43452409 -0.43452409]\n",
      " [ 0.52123552  0.43452409 -0.14484136]\n",
      " [ 0.5965251   0.43452409  0.14484136]\n",
      " [ 0.58108108  0.43452409  0.43452409]\n",
      " [ 0.48455598  0.43452409  0.72420682]\n",
      " [ 0.38996139  0.43452409  1.01388955]\n",
      " [ 0.32239382  0.43452409  1.30357228]\n",
      " [ 0.38996139  0.43452409  1.59325501]\n",
      " [ 0.40733591  0.72420682 -1.59325501]\n",
      " [ 0.38030888  0.72420682 -1.30357228]\n",
      " [ 0.48648649  0.72420682 -1.01388955]\n",
      " [ 0.47104247  0.72420682 -0.72420682]\n",
      " [ 0.48455598  0.72420682 -0.43452409]\n",
      " [ 0.61389961  0.72420682 -0.14484136]\n",
      " [ 0.6969112   0.72420682  0.14484136]\n",
      " [ 0.7007722   0.72420682  0.43452409]\n",
      " [ 0.57915058  0.72420682  0.72420682]\n",
      " [ 0.46911197  0.72420682  1.01388955]\n",
      " [ 0.38803089  0.72420682  1.30357228]\n",
      " [ 0.44787645  0.72420682  1.59325501]]\n",
      "[[ 0.45559846  1.01388955 -1.59325501]\n",
      " [ 0.41312741  1.01388955 -1.30357228]\n",
      " [ 0.4980695   1.01388955 -1.01388955]\n",
      " [ 0.47104247  1.01388955 -0.72420682]\n",
      " [ 0.5         1.01388955 -0.43452409]\n",
      " [ 0.63899614  1.01388955 -0.14484136]\n",
      " [ 0.74710425  1.01388955  0.14484136]\n",
      " [ 0.77413127  1.01388955  0.43452409]\n",
      " [ 0.57915058  1.01388955  0.72420682]\n",
      " [ 0.49227799  1.01388955  1.01388955]\n",
      " [ 0.3976834   1.01388955  1.30357228]\n",
      " [ 0.44980695  1.01388955  1.59325501]\n",
      " [ 0.49420849  1.30357228 -1.59325501]\n",
      " [ 0.45945946  1.30357228 -1.30357228]\n",
      " [ 0.58301158  1.30357228 -1.01388955]\n",
      " [ 0.56370656  1.30357228 -0.72420682]\n",
      " [ 0.61003861  1.30357228 -0.43452409]\n",
      " [ 0.71042471  1.30357228 -0.14484136]\n",
      " [ 0.85714286  1.30357228  0.14484136]\n",
      " [ 0.87837838  1.30357228  0.43452409]\n",
      " [ 0.69305019  1.30357228  0.72420682]\n",
      " [ 0.58494208  1.30357228  1.01388955]\n",
      " [ 0.4980695   1.30357228  1.30357228]\n",
      " [ 0.58108108  1.30357228  1.59325501]\n",
      " [ 0.6042471   1.59325501 -1.59325501]\n",
      " [ 0.55405405  1.59325501 -1.30357228]\n",
      " [ 0.60810811  1.59325501 -1.01388955]\n",
      " [ 0.68918919  1.59325501 -0.72420682]\n",
      " [ 0.71042471  1.59325501 -0.43452409]\n",
      " [ 0.83204633  1.59325501 -0.14484136]\n",
      " [ 1.          1.59325501  0.14484136]\n",
      " [ 0.96911197  1.59325501  0.43452409]\n",
      " [ 0.77992278  1.59325501  0.72420682]\n",
      " [ 0.68918919  1.59325501  1.01388955]\n",
      " [ 0.55212355  1.59325501  1.30357228]\n",
      " [ 0.63320463  1.59325501  1.59325501]]\n"
     ]
    }
   ],
   "source": [
    "train_data_1 = df_for_training.to_numpy()\n",
    "test_data_1 = df_for_testing.to_numpy()\n",
    "\n",
    "print(train_data_1)\n",
    "print(test_data_1)\n"
   ]
  },
  {
   "cell_type": "code",
   "execution_count": 115,
   "metadata": {},
   "outputs": [],
   "source": [
    "def createXY(dataset,n_past):\n",
    "    dataX = []\n",
    "    dataY = []\n",
    "    for i in range(n_past, len(dataset)):\n",
    "            dataX.append(dataset[i - n_past:i, 0:dataset.shape[1]])\n",
    "            dataY.append(dataset[i,0])\n",
    "    return np.array(dataX),np.array(dataY)\n",
    "\n",
    "trainX,trainY=createXY(train_data_1,12)\n",
    "testX,testY=createXY(test_data_1,12)"
   ]
  },
  {
   "cell_type": "code",
   "execution_count": 116,
   "metadata": {},
   "outputs": [
    {
     "data": {
      "text/plain": [
       "\"trainX = []\\ntrainY = []\\n\\nn_future = 1   # Number of month we want to look into the future based on the past days.\\nn_past = 12  # Number of past months we want to use to predict the future.\\n\\n#Reformat input data into a shawpe: (n_samples x timesteps x n_features)\\n#In my example, my train_data has a shape (132, 3)\\n#132 refers to the number of data points and 3 refers to the columns (multi-variables).\\nfor i in range(n_past, len(train_data) - n_future + 1):\\n    trainX.append(train_data_1[i - n_past:i, 0:train_data.shape[1]])\\n    trainY.append(train_data_1[i + n_future - 1:i + n_future, 0])\\n\\ntrainX, trainY = np.array(trainX), np.array(trainY)\\n\\nprint('trainX shape == {}.'.format(trainX.shape))\\nprint('trainY shape == {}.'.format(trainY.shape))\""
      ]
     },
     "execution_count": 116,
     "metadata": {},
     "output_type": "execute_result"
    }
   ],
   "source": [
    "'''trainX = []\n",
    "trainY = []\n",
    "\n",
    "n_future = 1   # Number of month we want to look into the future based on the past days.\n",
    "n_past = 12  # Number of past months we want to use to predict the future.\n",
    "\n",
    "#Reformat input data into a shawpe: (n_samples x timesteps x n_features)\n",
    "#In my example, my train_data has a shape (132, 3)\n",
    "#132 refers to the number of data points and 3 refers to the columns (multi-variables).\n",
    "for i in range(n_past, len(train_data) - n_future + 1):\n",
    "    trainX.append(train_data_1[i - n_past:i, 0:train_data.shape[1]])\n",
    "    trainY.append(train_data_1[i + n_future - 1:i + n_future, 0])\n",
    "\n",
    "trainX, trainY = np.array(trainX), np.array(trainY)\n",
    "\n",
    "print('trainX shape == {}.'.format(trainX.shape))\n",
    "print('trainY shape == {}.'.format(trainY.shape))'''"
   ]
  },
  {
   "cell_type": "code",
   "execution_count": 117,
   "metadata": {},
   "outputs": [
    {
     "data": {
      "text/plain": [
       "\"testX = []\\ntestY = []\\n\\nn_future = 1   # Number of month we want to look into the future based on the past days.\\nn_past = 1  # Number of past months we want to use to predict the future.\\n\\n#Reformat input data into a shawpe: (n_samples x timesteps x n_features)\\n#In my example, my train_data has a shape (132, 3)\\n#132 refers to the number of data points and 3 refers to the columns (multi-variables).\\nfor i in range(n_past, len(dfCopy) - n_future + 1):\\n    testX.append(dfCopy[i - n_past:i, 0:dfCopy.shape[1]])\\n    testY.append(dfCopy[i + n_future - 1:i + n_future, 0])\\n\\ntestX, testY = np.array(testX), np.array(testY)\\n\\nprint('testX shape == {}.'.format(testX.shape))\\nprint('testY shape == {}.'.format(testY.shape))\""
      ]
     },
     "execution_count": 117,
     "metadata": {},
     "output_type": "execute_result"
    }
   ],
   "source": [
    "'''testX = []\n",
    "testY = []\n",
    "\n",
    "n_future = 1   # Number of month we want to look into the future based on the past days.\n",
    "n_past = 1  # Number of past months we want to use to predict the future.\n",
    "\n",
    "#Reformat input data into a shawpe: (n_samples x timesteps x n_features)\n",
    "#In my example, my train_data has a shape (132, 3)\n",
    "#132 refers to the number of data points and 3 refers to the columns (multi-variables).\n",
    "for i in range(n_past, len(dfCopy) - n_future + 1):\n",
    "    testX.append(dfCopy[i - n_past:i, 0:dfCopy.shape[1]])\n",
    "    testY.append(dfCopy[i + n_future - 1:i + n_future, 0])\n",
    "\n",
    "testX, testY = np.array(testX), np.array(testY)\n",
    "\n",
    "print('testX shape == {}.'.format(testX.shape))\n",
    "print('testY shape == {}.'.format(testY.shape))'''"
   ]
  },
  {
   "cell_type": "code",
   "execution_count": 118,
   "metadata": {},
   "outputs": [
    {
     "name": "stdout",
     "output_type": "stream",
     "text": [
      "trainX Shape--  (96, 12, 3)\n",
      "trainY Shape--  (96,)\n",
      "testX Shape--  (24, 12, 3)\n",
      "testY Shape--  (24,)\n"
     ]
    }
   ],
   "source": [
    "print(\"trainX Shape-- \",trainX.shape)\n",
    "print(\"trainY Shape-- \",trainY.shape)\n",
    "\n",
    "\n",
    "\n",
    "print(\"testX Shape-- \",testX.shape)\n",
    "print(\"testY Shape-- \",testY.shape)\n",
    "\n"
   ]
  },
  {
   "cell_type": "code",
   "execution_count": 119,
   "metadata": {},
   "outputs": [
    {
     "name": "stdout",
     "output_type": "stream",
     "text": [
      "trainX[0]-- \n",
      " [[ 0.01544402 -1.59325501 -1.59325501]\n",
      " [ 0.02702703 -1.59325501 -1.30357228]\n",
      " [ 0.05405405 -1.59325501 -1.01388955]\n",
      " [ 0.04826255 -1.59325501 -0.72420682]\n",
      " [ 0.03281853 -1.59325501 -0.43452409]\n",
      " [ 0.05984556 -1.59325501 -0.14484136]\n",
      " [ 0.08494208 -1.59325501  0.14484136]\n",
      " [ 0.08494208 -1.59325501  0.43452409]\n",
      " [ 0.06177606 -1.59325501  0.72420682]\n",
      " [ 0.02895753 -1.59325501  1.01388955]\n",
      " [ 0.         -1.59325501  1.30357228]\n",
      " [ 0.02702703 -1.59325501  1.59325501]]\n",
      "trainY[0]--  0.02123552123552122\n"
     ]
    }
   ],
   "source": [
    "print(\"trainX[0]-- \\n\",trainX[0])\n",
    "print(\"trainY[0]-- \",trainY[0])"
   ]
  },
  {
   "cell_type": "code",
   "execution_count": 120,
   "metadata": {},
   "outputs": [],
   "source": [
    "from keras.wrappers.scikit_learn import KerasRegressor\n",
    "\n",
    "def build_model(optimizer):\n",
    "    grid_model = Sequential()\n",
    "    grid_model.add(LSTM(50,return_sequences=True,input_shape=(12,3)))\n",
    "    grid_model.add(LSTM(50))\n",
    "    grid_model.add(Dropout(0.2))\n",
    "    grid_model.add(Dense(1))\n",
    "\n",
    "    grid_model.compile(loss = 'mse',optimizer = optimizer)\n",
    "    return grid_model\n",
    "grid_model = KerasRegressor(build_fn=build_model,verbose=1,validation_data=(testX,testY))\n",
    "parameters = {'batch_size' : [16,20],\n",
    "              'epochs' : [8,10],\n",
    "              'optimizer' : ['adam','Adadelta'] }\n",
    "\n",
    "grid_search  = GridSearchCV(estimator = grid_model,\n",
    "                            param_grid = parameters,\n",
    "                            cv = 2)"
   ]
  },
  {
   "cell_type": "code",
   "execution_count": 121,
   "metadata": {},
   "outputs": [
    {
     "name": "stdout",
     "output_type": "stream",
     "text": [
      "Epoch 1/8\n",
      "3/3 [==============================] - 3s 335ms/step - loss: 0.0923 - val_loss: 0.0930\n",
      "Epoch 2/8\n",
      "3/3 [==============================] - 0s 24ms/step - loss: 0.0361 - val_loss: 0.0164\n",
      "Epoch 3/8\n",
      "3/3 [==============================] - 0s 21ms/step - loss: 0.0092 - val_loss: 0.0995\n",
      "Epoch 4/8\n",
      "3/3 [==============================] - 0s 19ms/step - loss: 0.0164 - val_loss: 0.0779\n",
      "Epoch 5/8\n",
      "3/3 [==============================] - 0s 19ms/step - loss: 0.0165 - val_loss: 0.0160\n",
      "Epoch 6/8\n",
      "3/3 [==============================] - 0s 18ms/step - loss: 0.0076 - val_loss: 0.0199\n",
      "Epoch 7/8\n",
      "3/3 [==============================] - 0s 20ms/step - loss: 0.0105 - val_loss: 0.0339\n",
      "Epoch 8/8\n",
      "3/3 [==============================] - 0s 21ms/step - loss: 0.0080 - val_loss: 0.0300\n",
      "3/3 [==============================] - 0s 4ms/step - loss: 0.0021\n",
      "Epoch 1/8\n",
      "3/3 [==============================] - 3s 375ms/step - loss: 0.0380 - val_loss: 0.5659\n",
      "Epoch 2/8\n",
      "3/3 [==============================] - 0s 18ms/step - loss: 0.0137 - val_loss: 0.6429\n",
      "Epoch 3/8\n",
      "3/3 [==============================] - 0s 19ms/step - loss: 0.0205 - val_loss: 0.5926\n",
      "Epoch 4/8\n",
      "3/3 [==============================] - 0s 18ms/step - loss: 0.0103 - val_loss: 0.4997\n",
      "Epoch 5/8\n",
      "3/3 [==============================] - 0s 19ms/step - loss: 0.0091 - val_loss: 0.4268\n",
      "Epoch 6/8\n",
      "3/3 [==============================] - 0s 19ms/step - loss: 0.0093 - val_loss: 0.3830\n",
      "Epoch 7/8\n",
      "3/3 [==============================] - 0s 20ms/step - loss: 0.0082 - val_loss: 0.3601\n",
      "Epoch 8/8\n",
      "3/3 [==============================] - 0s 21ms/step - loss: 0.0055 - val_loss: 0.3418\n",
      "3/3 [==============================] - 0s 3ms/step - loss: 0.0779\n",
      "Epoch 1/8\n",
      "3/3 [==============================] - 3s 348ms/step - loss: 0.1613 - val_loss: 0.4704\n",
      "Epoch 2/8\n",
      "3/3 [==============================] - 0s 20ms/step - loss: 0.1605 - val_loss: 0.4700\n",
      "Epoch 3/8\n",
      "3/3 [==============================] - 0s 22ms/step - loss: 0.1586 - val_loss: 0.4696\n",
      "Epoch 4/8\n",
      "3/3 [==============================] - 0s 21ms/step - loss: 0.1562 - val_loss: 0.4692\n",
      "Epoch 5/8\n",
      "3/3 [==============================] - 0s 18ms/step - loss: 0.1616 - val_loss: 0.4687\n",
      "Epoch 6/8\n",
      "3/3 [==============================] - 0s 17ms/step - loss: 0.1542 - val_loss: 0.4683\n",
      "Epoch 7/8\n",
      "3/3 [==============================] - 0s 19ms/step - loss: 0.1637 - val_loss: 0.4678\n",
      "Epoch 8/8\n",
      "3/3 [==============================] - 0s 17ms/step - loss: 0.1556 - val_loss: 0.4674\n",
      "3/3 [==============================] - 0s 3ms/step - loss: 0.0246\n",
      "Epoch 1/8\n",
      "3/3 [==============================] - 3s 337ms/step - loss: 0.0192 - val_loss: 0.6281\n",
      "Epoch 2/8\n",
      "3/3 [==============================] - 0s 20ms/step - loss: 0.0193 - val_loss: 0.6283\n",
      "Epoch 3/8\n",
      "3/3 [==============================] - 0s 25ms/step - loss: 0.0193 - val_loss: 0.6285\n",
      "Epoch 4/8\n",
      "3/3 [==============================] - 0s 10ms/step - loss: 0.0175 - val_loss: 0.6287\n",
      "Epoch 5/8\n",
      "3/3 [==============================] - 0s 16ms/step - loss: 0.0182 - val_loss: 0.6288\n",
      "Epoch 6/8\n",
      "3/3 [==============================] - 0s 9ms/step - loss: 0.0178 - val_loss: 0.6290\n",
      "Epoch 7/8\n",
      "3/3 [==============================] - 0s 10ms/step - loss: 0.0172 - val_loss: 0.6292\n",
      "Epoch 8/8\n",
      "3/3 [==============================] - 0s 19ms/step - loss: 0.0184 - val_loss: 0.6294\n",
      "3/3 [==============================] - 0s 3ms/step - loss: 0.1957\n",
      "Epoch 1/10\n",
      "3/3 [==============================] - 3s 308ms/step - loss: 0.1425 - val_loss: 0.1911\n",
      "Epoch 2/10\n",
      "3/3 [==============================] - 0s 17ms/step - loss: 0.0671 - val_loss: 0.0342\n",
      "Epoch 3/10\n",
      "3/3 [==============================] - 0s 19ms/step - loss: 0.0257 - val_loss: 0.0592\n",
      "Epoch 4/10\n",
      "3/3 [==============================] - 0s 15ms/step - loss: 0.0141 - val_loss: 0.1541\n",
      "Epoch 5/10\n",
      "3/3 [==============================] - 0s 18ms/step - loss: 0.0234 - val_loss: 0.0948\n",
      "Epoch 6/10\n",
      "3/3 [==============================] - 0s 17ms/step - loss: 0.0124 - val_loss: 0.0256\n",
      "Epoch 7/10\n",
      "3/3 [==============================] - 0s 17ms/step - loss: 0.0058 - val_loss: 0.0132\n",
      "Epoch 8/10\n",
      "3/3 [==============================] - 0s 15ms/step - loss: 0.0082 - val_loss: 0.0252\n",
      "Epoch 9/10\n",
      "3/3 [==============================] - 0s 16ms/step - loss: 0.0088 - val_loss: 0.0339\n",
      "Epoch 10/10\n",
      "3/3 [==============================] - 0s 14ms/step - loss: 0.0099 - val_loss: 0.0291\n",
      "3/3 [==============================] - 0s 6ms/step - loss: 0.0019\n",
      "Epoch 1/10\n",
      "3/3 [==============================] - 3s 318ms/step - loss: 0.0299 - val_loss: 0.6545\n",
      "Epoch 2/10\n",
      "3/3 [==============================] - 0s 14ms/step - loss: 0.0199 - val_loss: 0.6718\n",
      "Epoch 3/10\n",
      "3/3 [==============================] - 0s 18ms/step - loss: 0.0155 - val_loss: 0.5853\n",
      "Epoch 4/10\n",
      "3/3 [==============================] - 0s 17ms/step - loss: 0.0091 - val_loss: 0.4941\n",
      "Epoch 5/10\n",
      "3/3 [==============================] - 0s 19ms/step - loss: 0.0091 - val_loss: 0.4393\n",
      "Epoch 6/10\n",
      "3/3 [==============================] - 0s 13ms/step - loss: 0.0088 - val_loss: 0.4058\n",
      "Epoch 7/10\n",
      "3/3 [==============================] - 0s 18ms/step - loss: 0.0055 - val_loss: 0.3875\n",
      "Epoch 8/10\n",
      "3/3 [==============================] - 0s 15ms/step - loss: 0.0031 - val_loss: 0.3642\n",
      "Epoch 9/10\n",
      "3/3 [==============================] - 0s 17ms/step - loss: 0.0058 - val_loss: 0.3271\n",
      "Epoch 10/10\n",
      "3/3 [==============================] - 0s 14ms/step - loss: 0.0046 - val_loss: 0.2783\n",
      "3/3 [==============================] - 0s 0s/step - loss: 0.0486\n",
      "Epoch 1/10\n",
      "3/3 [==============================] - 2s 306ms/step - loss: 0.1750 - val_loss: 0.4597\n",
      "Epoch 2/10\n",
      "3/3 [==============================] - 0s 16ms/step - loss: 0.1695 - val_loss: 0.4593\n",
      "Epoch 3/10\n",
      "3/3 [==============================] - 0s 21ms/step - loss: 0.1703 - val_loss: 0.4589\n",
      "Epoch 4/10\n",
      "3/3 [==============================] - 0s 17ms/step - loss: 0.1739 - val_loss: 0.4585\n",
      "Epoch 5/10\n",
      "3/3 [==============================] - 0s 18ms/step - loss: 0.1666 - val_loss: 0.4581\n",
      "Epoch 6/10\n",
      "3/3 [==============================] - 0s 10ms/step - loss: 0.1727 - val_loss: 0.4577\n",
      "Epoch 7/10\n",
      "3/3 [==============================] - 0s 16ms/step - loss: 0.1724 - val_loss: 0.4573\n",
      "Epoch 8/10\n",
      "3/3 [==============================] - 0s 16ms/step - loss: 0.1714 - val_loss: 0.4569\n",
      "Epoch 9/10\n",
      "3/3 [==============================] - 0s 17ms/step - loss: 0.1736 - val_loss: 0.4565\n",
      "Epoch 10/10\n",
      "3/3 [==============================] - 0s 10ms/step - loss: 0.1753 - val_loss: 0.4561\n",
      "3/3 [==============================] - 0s 10ms/step - loss: 0.0295\n",
      "Epoch 1/10\n",
      "3/3 [==============================] - 2s 307ms/step - loss: 0.0133 - val_loss: 0.6086\n",
      "Epoch 2/10\n",
      "3/3 [==============================] - 0s 19ms/step - loss: 0.0155 - val_loss: 0.6087\n",
      "Epoch 3/10\n",
      "3/3 [==============================] - 0s 10ms/step - loss: 0.0117 - val_loss: 0.6088\n",
      "Epoch 4/10\n",
      "3/3 [==============================] - 0s 14ms/step - loss: 0.0141 - val_loss: 0.6089\n",
      "Epoch 5/10\n",
      "3/3 [==============================] - 0s 18ms/step - loss: 0.0123 - val_loss: 0.6089\n",
      "Epoch 6/10\n",
      "3/3 [==============================] - 0s 16ms/step - loss: 0.0147 - val_loss: 0.6090\n",
      "Epoch 7/10\n",
      "3/3 [==============================] - 0s 12ms/step - loss: 0.0129 - val_loss: 0.6090\n",
      "Epoch 8/10\n",
      "3/3 [==============================] - 0s 9ms/step - loss: 0.0136 - val_loss: 0.6091\n",
      "Epoch 9/10\n",
      "3/3 [==============================] - 0s 11ms/step - loss: 0.0110 - val_loss: 0.6091\n",
      "Epoch 10/10\n",
      "3/3 [==============================] - 0s 10ms/step - loss: 0.0126 - val_loss: 0.6092\n",
      "3/3 [==============================] - 0s 11ms/step - loss: 0.1674\n",
      "Epoch 1/8\n",
      "3/3 [==============================] - 3s 345ms/step - loss: 0.1476 - val_loss: 0.1296\n",
      "Epoch 2/8\n",
      "3/3 [==============================] - 0s 21ms/step - loss: 0.0615 - val_loss: 0.0214\n",
      "Epoch 3/8\n",
      "3/3 [==============================] - 0s 21ms/step - loss: 0.0217 - val_loss: 0.0799\n",
      "Epoch 4/8\n",
      "3/3 [==============================] - 0s 19ms/step - loss: 0.0162 - val_loss: 0.1000\n",
      "Epoch 5/8\n",
      "3/3 [==============================] - 0s 18ms/step - loss: 0.0185 - val_loss: 0.0405\n",
      "Epoch 6/8\n",
      "3/3 [==============================] - 0s 18ms/step - loss: 0.0101 - val_loss: 0.0138\n",
      "Epoch 7/8\n",
      "3/3 [==============================] - 0s 18ms/step - loss: 0.0059 - val_loss: 0.0178\n",
      "Epoch 8/8\n",
      "3/3 [==============================] - 0s 11ms/step - loss: 0.0073 - val_loss: 0.0243\n",
      "3/3 [==============================] - 0s 4ms/step - loss: 0.0019\n",
      "Epoch 1/8\n",
      "3/3 [==============================] - 3s 318ms/step - loss: 0.0738 - val_loss: 0.4435\n",
      "Epoch 2/8\n",
      "3/3 [==============================] - 0s 26ms/step - loss: 0.0150 - val_loss: 0.5619\n",
      "Epoch 3/8\n",
      "3/3 [==============================] - 0s 24ms/step - loss: 0.0175 - val_loss: 0.5770\n",
      "Epoch 4/8\n",
      "3/3 [==============================] - 0s 24ms/step - loss: 0.0179 - val_loss: 0.5182\n",
      "Epoch 5/8\n",
      "3/3 [==============================] - 0s 25ms/step - loss: 0.0107 - val_loss: 0.4450\n",
      "Epoch 6/8\n",
      "3/3 [==============================] - 0s 19ms/step - loss: 0.0071 - val_loss: 0.3849\n",
      "Epoch 7/8\n",
      "3/3 [==============================] - 0s 18ms/step - loss: 0.0083 - val_loss: 0.3441\n",
      "Epoch 8/8\n",
      "3/3 [==============================] - 0s 19ms/step - loss: 0.0082 - val_loss: 0.3200\n",
      "3/3 [==============================] - 0s 5ms/step - loss: 0.0854\n",
      "Epoch 1/8\n",
      "3/3 [==============================] - 3s 317ms/step - loss: 0.1786 - val_loss: 0.5467\n",
      "Epoch 2/8\n",
      "3/3 [==============================] - 0s 17ms/step - loss: 0.1788 - val_loss: 0.5463\n",
      "Epoch 3/8\n",
      "3/3 [==============================] - 0s 22ms/step - loss: 0.1752 - val_loss: 0.5460\n",
      "Epoch 4/8\n",
      "3/3 [==============================] - 0s 13ms/step - loss: 0.1804 - val_loss: 0.5457\n",
      "Epoch 5/8\n",
      "3/3 [==============================] - 0s 19ms/step - loss: 0.1777 - val_loss: 0.5453\n",
      "Epoch 6/8\n",
      "3/3 [==============================] - 0s 19ms/step - loss: 0.1807 - val_loss: 0.5450\n",
      "Epoch 7/8\n",
      "3/3 [==============================] - 0s 24ms/step - loss: 0.1843 - val_loss: 0.5447\n",
      "Epoch 8/8\n",
      "3/3 [==============================] - 0s 23ms/step - loss: 0.1803 - val_loss: 0.5444\n",
      "3/3 [==============================] - 0s 5ms/step - loss: 0.0211\n",
      "Epoch 1/8\n",
      "3/3 [==============================] - 3s 314ms/step - loss: 0.0576 - val_loss: 0.3476\n",
      "Epoch 2/8\n",
      "3/3 [==============================] - 0s 23ms/step - loss: 0.0546 - val_loss: 0.3479\n",
      "Epoch 3/8\n",
      "3/3 [==============================] - 0s 19ms/step - loss: 0.0542 - val_loss: 0.3482\n",
      "Epoch 4/8\n",
      "3/3 [==============================] - 0s 18ms/step - loss: 0.0583 - val_loss: 0.3485\n",
      "Epoch 5/8\n",
      "3/3 [==============================] - 0s 18ms/step - loss: 0.0510 - val_loss: 0.3487\n",
      "Epoch 6/8\n",
      "3/3 [==============================] - 0s 18ms/step - loss: 0.0553 - val_loss: 0.3490\n",
      "Epoch 7/8\n",
      "3/3 [==============================] - 0s 18ms/step - loss: 0.0529 - val_loss: 0.3492\n",
      "Epoch 8/8\n",
      "3/3 [==============================] - 0s 18ms/step - loss: 0.0571 - val_loss: 0.3495\n",
      "3/3 [==============================] - 0s 9ms/step - loss: 0.1459\n",
      "Epoch 1/10\n",
      "3/3 [==============================] - 4s 332ms/step - loss: 0.1418 - val_loss: 0.1118\n",
      "Epoch 2/10\n",
      "3/3 [==============================] - 0s 25ms/step - loss: 0.0554 - val_loss: 0.0151\n",
      "Epoch 3/10\n",
      "3/3 [==============================] - 0s 21ms/step - loss: 0.0154 - val_loss: 0.0960\n",
      "Epoch 4/10\n",
      "3/3 [==============================] - 0s 20ms/step - loss: 0.0140 - val_loss: 0.1318\n",
      "Epoch 5/10\n",
      "3/3 [==============================] - 0s 19ms/step - loss: 0.0238 - val_loss: 0.0496\n",
      "Epoch 6/10\n",
      "3/3 [==============================] - 0s 19ms/step - loss: 0.0078 - val_loss: 0.0128\n",
      "Epoch 7/10\n",
      "3/3 [==============================] - 0s 19ms/step - loss: 0.0061 - val_loss: 0.0182\n",
      "Epoch 8/10\n",
      "3/3 [==============================] - 0s 19ms/step - loss: 0.0074 - val_loss: 0.0277\n",
      "Epoch 9/10\n",
      "3/3 [==============================] - 0s 20ms/step - loss: 0.0086 - val_loss: 0.0273\n",
      "Epoch 10/10\n",
      "3/3 [==============================] - 0s 19ms/step - loss: 0.0110 - val_loss: 0.0178\n",
      "3/3 [==============================] - 0s 3ms/step - loss: 0.0020\n",
      "Epoch 1/10\n",
      "3/3 [==============================] - 4s 305ms/step - loss: 0.0228 - val_loss: 0.4880\n",
      "Epoch 2/10\n",
      "3/3 [==============================] - 0s 18ms/step - loss: 0.0143 - val_loss: 0.4608\n",
      "Epoch 3/10\n",
      "3/3 [==============================] - 0s 17ms/step - loss: 0.0108 - val_loss: 0.3857\n",
      "Epoch 4/10\n",
      "3/3 [==============================] - 0s 15ms/step - loss: 0.0063 - val_loss: 0.3198\n",
      "Epoch 5/10\n",
      "3/3 [==============================] - 0s 19ms/step - loss: 0.0077 - val_loss: 0.2728\n",
      "Epoch 6/10\n",
      "3/3 [==============================] - 0s 14ms/step - loss: 0.0066 - val_loss: 0.2363\n",
      "Epoch 7/10\n",
      "3/3 [==============================] - 0s 19ms/step - loss: 0.0043 - val_loss: 0.2027\n",
      "Epoch 8/10\n",
      "3/3 [==============================] - 0s 19ms/step - loss: 0.0039 - val_loss: 0.1664\n",
      "Epoch 9/10\n",
      "3/3 [==============================] - 0s 13ms/step - loss: 0.0033 - val_loss: 0.1327\n",
      "Epoch 10/10\n",
      "3/3 [==============================] - 0s 15ms/step - loss: 0.0020 - val_loss: 0.1051\n",
      "3/3 [==============================] - 0s 2ms/step - loss: 0.0194\n",
      "Epoch 1/10\n",
      "3/3 [==============================] - 3s 324ms/step - loss: 0.2207 - val_loss: 0.7345\n",
      "Epoch 2/10\n",
      "3/3 [==============================] - 0s 25ms/step - loss: 0.2192 - val_loss: 0.7341\n",
      "Epoch 3/10\n",
      "3/3 [==============================] - 0s 21ms/step - loss: 0.2172 - val_loss: 0.7337\n",
      "Epoch 4/10\n",
      "3/3 [==============================] - 0s 17ms/step - loss: 0.2142 - val_loss: 0.7332\n",
      "Epoch 5/10\n",
      "3/3 [==============================] - 0s 12ms/step - loss: 0.2181 - val_loss: 0.7328\n",
      "Epoch 6/10\n",
      "3/3 [==============================] - 0s 22ms/step - loss: 0.2194 - val_loss: 0.7323\n",
      "Epoch 7/10\n",
      "3/3 [==============================] - 0s 16ms/step - loss: 0.2159 - val_loss: 0.7319\n",
      "Epoch 8/10\n",
      "3/3 [==============================] - 0s 19ms/step - loss: 0.2191 - val_loss: 0.7314\n",
      "Epoch 9/10\n",
      "3/3 [==============================] - 0s 18ms/step - loss: 0.2156 - val_loss: 0.7310\n",
      "Epoch 10/10\n",
      "3/3 [==============================] - 0s 19ms/step - loss: 0.2133 - val_loss: 0.7305\n",
      "3/3 [==============================] - 0s 5ms/step - loss: 0.0151\n",
      "Epoch 1/10\n",
      "3/3 [==============================] - 3s 316ms/step - loss: 0.0257 - val_loss: 0.6110\n",
      "Epoch 2/10\n",
      "3/3 [==============================] - 0s 25ms/step - loss: 0.0265 - val_loss: 0.6111\n",
      "Epoch 3/10\n",
      "3/3 [==============================] - 0s 24ms/step - loss: 0.0277 - val_loss: 0.6113\n",
      "Epoch 4/10\n",
      "3/3 [==============================] - 0s 16ms/step - loss: 0.0261 - val_loss: 0.6114\n",
      "Epoch 5/10\n",
      "3/3 [==============================] - 0s 12ms/step - loss: 0.0256 - val_loss: 0.6116\n",
      "Epoch 6/10\n",
      "3/3 [==============================] - 0s 17ms/step - loss: 0.0254 - val_loss: 0.6117\n",
      "Epoch 7/10\n",
      "3/3 [==============================] - 0s 15ms/step - loss: 0.0294 - val_loss: 0.6119\n",
      "Epoch 8/10\n",
      "3/3 [==============================] - 0s 17ms/step - loss: 0.0253 - val_loss: 0.6120\n",
      "Epoch 9/10\n",
      "3/3 [==============================] - 0s 20ms/step - loss: 0.0245 - val_loss: 0.6122\n",
      "Epoch 10/10\n",
      "3/3 [==============================] - 0s 20ms/step - loss: 0.0245 - val_loss: 0.6124\n",
      "3/3 [==============================] - 0s 10ms/step - loss: 0.2039\n",
      "Epoch 1/10\n",
      "5/5 [==============================] - 3s 238ms/step - loss: 0.0677 - val_loss: 0.1834\n",
      "Epoch 2/10\n",
      "5/5 [==============================] - 0s 14ms/step - loss: 0.0172 - val_loss: 0.0245\n",
      "Epoch 3/10\n",
      "5/5 [==============================] - 0s 13ms/step - loss: 0.0091 - val_loss: 0.0821\n",
      "Epoch 4/10\n",
      "5/5 [==============================] - 0s 13ms/step - loss: 0.0081 - val_loss: 0.0141\n",
      "Epoch 5/10\n",
      "5/5 [==============================] - 0s 14ms/step - loss: 0.0034 - val_loss: 0.0201\n",
      "Epoch 6/10\n",
      "5/5 [==============================] - 0s 11ms/step - loss: 0.0046 - val_loss: 0.0219\n",
      "Epoch 7/10\n",
      "5/5 [==============================] - 0s 16ms/step - loss: 0.0048 - val_loss: 0.0106\n",
      "Epoch 8/10\n",
      "5/5 [==============================] - 0s 12ms/step - loss: 0.0034 - val_loss: 0.0102\n",
      "Epoch 9/10\n",
      "5/5 [==============================] - 0s 13ms/step - loss: 0.0037 - val_loss: 0.0111\n",
      "Epoch 10/10\n",
      "5/5 [==============================] - 0s 11ms/step - loss: 0.0030 - val_loss: 0.0104\n"
     ]
    }
   ],
   "source": [
    "grid_search = grid_search.fit(trainX,trainY)"
   ]
  },
  {
   "cell_type": "code",
   "execution_count": 122,
   "metadata": {},
   "outputs": [
    {
     "data": {
      "text/plain": [
       "{'batch_size': 20, 'epochs': 10, 'optimizer': 'adam'}"
      ]
     },
     "execution_count": 122,
     "metadata": {},
     "output_type": "execute_result"
    }
   ],
   "source": [
    "grid_search.best_params_"
   ]
  },
  {
   "cell_type": "code",
   "execution_count": 123,
   "metadata": {},
   "outputs": [],
   "source": [
    "my_model=grid_search.best_estimator_.model"
   ]
  },
  {
   "cell_type": "code",
   "execution_count": 124,
   "metadata": {},
   "outputs": [
    {
     "name": "stdout",
     "output_type": "stream",
     "text": [
      "1/1 [==============================] - 1s 556ms/step\n",
      "prediction\n",
      " [[0.46670726]\n",
      " [0.5072947 ]\n",
      " [0.5602424 ]\n",
      " [0.6093893 ]\n",
      " [0.6470158 ]\n",
      " [0.6686419 ]\n",
      " [0.6732005 ]\n",
      " [0.6661123 ]\n",
      " [0.6512079 ]\n",
      " [0.6313842 ]\n",
      " [0.60402393]\n",
      " [0.5716441 ]\n",
      " [0.53778344]\n",
      " [0.58333987]\n",
      " [0.6389496 ]\n",
      " [0.68696886]\n",
      " [0.72398233]\n",
      " [0.744589  ]\n",
      " [0.74974066]\n",
      " [0.74301857]\n",
      " [0.7278479 ]\n",
      " [0.7067321 ]\n",
      " [0.6785153 ]\n",
      " [0.6436174 ]]\n",
      "\n",
      "Prediction Shape- (24, 1)\n"
     ]
    }
   ],
   "source": [
    "prediction=my_model.predict(testX)\n",
    "print(\"prediction\\n\", prediction)\n",
    "print(\"\\nPrediction Shape-\",prediction.shape)"
   ]
  },
  {
   "cell_type": "code",
   "execution_count": 126,
   "metadata": {},
   "outputs": [],
   "source": [
    "pred = scaler_1.inverse_transform(prediction)[:,0]"
   ]
  },
  {
   "cell_type": "code",
   "execution_count": 127,
   "metadata": {},
   "outputs": [
    {
     "data": {
      "text/plain": [
       "array([345.75436, 366.7787 , 394.2056 , 419.66367, 439.1542 , 450.35654,\n",
       "       452.71786, 449.04617, 441.3257 , 431.05704, 416.8844 , 400.11166,\n",
       "       382.57184, 406.17007, 434.9759 , 459.84988, 479.02286, 489.6971 ,\n",
       "       492.36566, 488.88364, 481.0252 , 470.08725, 455.47095, 437.39383],\n",
       "      dtype=float32)"
      ]
     },
     "execution_count": 127,
     "metadata": {},
     "output_type": "execute_result"
    }
   ],
   "source": [
    "pred"
   ]
  },
  {
   "cell_type": "code",
   "execution_count": 129,
   "metadata": {},
   "outputs": [
    {
     "data": {
      "text/plain": [
       "array([0.49420849, 0.45945946, 0.58301158, 0.56370656, 0.61003861,\n",
       "       0.71042471, 0.85714286, 0.87837838, 0.69305019, 0.58494208,\n",
       "       0.4980695 , 0.58108108, 0.6042471 , 0.55405405, 0.60810811,\n",
       "       0.68918919, 0.71042471, 0.83204633, 1.        , 0.96911197,\n",
       "       0.77992278, 0.68918919, 0.55212355, 0.63320463])"
      ]
     },
     "execution_count": 129,
     "metadata": {},
     "output_type": "execute_result"
    }
   ],
   "source": [
    "testY"
   ]
  },
  {
   "cell_type": "code",
   "execution_count": 131,
   "metadata": {},
   "outputs": [
    {
     "data": {
      "text/plain": [
       "array([[0.49420849],\n",
       "       [0.45945946],\n",
       "       [0.58301158],\n",
       "       [0.56370656],\n",
       "       [0.61003861],\n",
       "       [0.71042471],\n",
       "       [0.85714286],\n",
       "       [0.87837838],\n",
       "       [0.69305019],\n",
       "       [0.58494208],\n",
       "       [0.4980695 ],\n",
       "       [0.58108108],\n",
       "       [0.6042471 ],\n",
       "       [0.55405405],\n",
       "       [0.60810811],\n",
       "       [0.68918919],\n",
       "       [0.71042471],\n",
       "       [0.83204633],\n",
       "       [1.        ],\n",
       "       [0.96911197],\n",
       "       [0.77992278],\n",
       "       [0.68918919],\n",
       "       [0.55212355],\n",
       "       [0.63320463]])"
      ]
     },
     "execution_count": 131,
     "metadata": {},
     "output_type": "execute_result"
    }
   ],
   "source": [
    "testY = np.reshape(testY, (-1, 1))\n",
    "testY"
   ]
  },
  {
   "cell_type": "code",
   "execution_count": 132,
   "metadata": {},
   "outputs": [
    {
     "data": {
      "text/plain": [
       "array([[360.],\n",
       "       [342.],\n",
       "       [406.],\n",
       "       [396.],\n",
       "       [420.],\n",
       "       [472.],\n",
       "       [548.],\n",
       "       [559.],\n",
       "       [463.],\n",
       "       [407.],\n",
       "       [362.],\n",
       "       [405.],\n",
       "       [417.],\n",
       "       [391.],\n",
       "       [419.],\n",
       "       [461.],\n",
       "       [472.],\n",
       "       [535.],\n",
       "       [622.],\n",
       "       [606.],\n",
       "       [508.],\n",
       "       [461.],\n",
       "       [390.],\n",
       "       [432.]])"
      ]
     },
     "execution_count": 132,
     "metadata": {},
     "output_type": "execute_result"
    }
   ],
   "source": [
    "orig = scaler_1.inverse_transform(testY)\n",
    "orig"
   ]
  },
  {
   "cell_type": "code",
   "execution_count": 133,
   "metadata": {},
   "outputs": [
    {
     "data": {
      "image/png": "[encoded data removed]",
      "text/plain": [
       "<Figure size 432x288 with 1 Axes>"
      ]
     },
     "metadata": {
      "needs_background": "light"
     },
     "output_type": "display_data"
    }
   ],
   "source": [
    "plt.plot(orig, color = 'red', label = 'Real Passengers')\n",
    "plt.plot(pred, color = 'blue', label = 'Predicted Passengers')\n",
    "plt.title('Passengers Prediction')\n",
    "plt.xlabel('Time')\n",
    "plt.ylabel('Passengers')\n",
    "plt.legend()\n",
    "plt.show()"
   ]
  },
  {
   "cell_type": "code",
   "execution_count": 134,
   "metadata": {},
   "outputs": [
    {
     "name": "stdout",
     "output_type": "stream",
     "text": [
      "14.478854079207812\n"
     ]
    }
   ],
   "source": [
    "mape = np.mean(np.abs((orig - pred) / orig)) * 100\n",
    "print(mape)"
   ]
  },
  {
   "cell_type": "code",
   "execution_count": null,
   "metadata": {},
   "outputs": [],
   "source": []
  },
  {
   "cell_type": "code",
   "execution_count": null,
   "metadata": {},
   "outputs": [],
   "source": []
  },
  {
   "cell_type": "code",
   "execution_count": 145,
   "metadata": {},
   "outputs": [
    {
     "data": {
      "text/plain": [
       "\"model = Sequential()\\nmodel.add(LSTM(64, activation='tanh', input_shape=(trainX.shape[1], trainX.shape[2]), return_sequences=True))\\nmodel.add(LSTM(32, activation='relu', return_sequences=False))\\nmodel.add(Dropout(0.2))\\nmodel.add(Dense(trainY.shape[1]))\""
      ]
     },
     "execution_count": 145,
     "metadata": {},
     "output_type": "execute_result"
    }
   ],
   "source": [
    "'''model = Sequential()\n",
    "model.add(LSTM(64, activation='tanh', input_shape=(trainX.shape[1], trainX.shape[2]), return_sequences=True))\n",
    "model.add(LSTM(32, activation='relu', return_sequences=False))\n",
    "model.add(Dropout(0.2))\n",
    "model.add(Dense(trainY.shape[1]))'''"
   ]
  },
  {
   "cell_type": "code",
   "execution_count": 146,
   "metadata": {},
   "outputs": [
    {
     "data": {
      "text/plain": [
       "\"model.compile(optimizer='adam', loss='mse')\\nmodel.summary()\""
      ]
     },
     "execution_count": 146,
     "metadata": {},
     "output_type": "execute_result"
    }
   ],
   "source": [
    "'''model.compile(optimizer='adam', loss='mse')\n",
    "model.summary()'''"
   ]
  },
  {
   "cell_type": "code",
   "execution_count": 147,
   "metadata": {},
   "outputs": [
    {
     "data": {
      "text/plain": [
       "\"history = model.fit(trainX, trainY, epochs=49, batch_size=16, validation_split=0.1, verbose=1)\\n\\nplt.plot(history.history['loss'], label='Training loss')\\nplt.plot(history.history['val_loss'], label='Validation loss')\\nplt.legend()\""
      ]
     },
     "execution_count": 147,
     "metadata": {},
     "output_type": "execute_result"
    }
   ],
   "source": [
    "'''history = model.fit(trainX, trainY, epochs=49, batch_size=16, validation_split=0.1, verbose=1)\n",
    "\n",
    "plt.plot(history.history['loss'], label='Training loss')\n",
    "plt.plot(history.history['val_loss'], label='Validation loss')\n",
    "plt.legend()'''"
   ]
  },
  {
   "cell_type": "code",
   "execution_count": 148,
   "metadata": {},
   "outputs": [
    {
     "data": {
      "text/plain": [
       "\"#EArly stop\\nn_future = 12\\nforecast_period_dates = pd.date_range(list(train_dates)[-1], periods = n_future,freq='1m').tolist()\""
      ]
     },
     "execution_count": 148,
     "metadata": {},
     "output_type": "execute_result"
    }
   ],
   "source": [
    "'''#EArly stop\n",
    "n_future = 12\n",
    "forecast_period_dates = pd.date_range(list(train_dates)[-1], periods = n_future,freq='1m').tolist()'''"
   ]
  },
  {
   "cell_type": "code",
   "execution_count": null,
   "metadata": {},
   "outputs": [],
   "source": []
  },
  {
   "cell_type": "code",
   "execution_count": 149,
   "metadata": {},
   "outputs": [
    {
     "data": {
      "text/plain": [
       "'print(forecast_period_dates)'"
      ]
     },
     "execution_count": 149,
     "metadata": {},
     "output_type": "execute_result"
    }
   ],
   "source": [
    "'''print(forecast_period_dates)'''"
   ]
  },
  {
   "cell_type": "code",
   "execution_count": 150,
   "metadata": {},
   "outputs": [
    {
     "data": {
      "text/plain": [
       "'forecast = model.predict(testX)  '"
      ]
     },
     "execution_count": 150,
     "metadata": {},
     "output_type": "execute_result"
    }
   ],
   "source": [
    "\n",
    "#forecast = model.predict(trainX[-n_future:])\n",
    "'''forecast = model.predict(testX)  '''"
   ]
  },
  {
   "cell_type": "code",
   "execution_count": 151,
   "metadata": {},
   "outputs": [
    {
     "data": {
      "text/plain": [
       "'print(forecast)'"
      ]
     },
     "execution_count": 151,
     "metadata": {},
     "output_type": "execute_result"
    }
   ],
   "source": [
    "'''print(forecast)'''"
   ]
  },
  {
   "cell_type": "code",
   "execution_count": 130,
   "metadata": {},
   "outputs": [
    {
     "data": {
      "text/plain": [
       "'prediction_copies = np.repeat(forecast, 2, axis=-1)\\nprint(prediction_copies)'"
      ]
     },
     "execution_count": 130,
     "metadata": {},
     "output_type": "execute_result"
    }
   ],
   "source": [
    "'''prediction_copies = np.repeat(forecast, 2, axis=-1)\n",
    "print(prediction_copies)'''\n"
   ]
  },
  {
   "cell_type": "code",
   "execution_count": 152,
   "metadata": {},
   "outputs": [
    {
     "data": {
      "text/plain": [
       "'y_pred_future = scaler_1.inverse_transform(forecast)[:,0]\\ny_pred_future'"
      ]
     },
     "execution_count": 152,
     "metadata": {},
     "output_type": "execute_result"
    }
   ],
   "source": [
    "'''y_pred_future = scaler_1.inverse_transform(forecast)[:,0]\n",
    "y_pred_future'''"
   ]
  },
  {
   "cell_type": "code",
   "execution_count": 153,
   "metadata": {},
   "outputs": [
    {
     "data": {
      "text/plain": [
       "'forecast_dates = []\\nfor time_i in forecast_period_dates:\\n    forecast_dates.append(time_i.date())'"
      ]
     },
     "execution_count": 153,
     "metadata": {},
     "output_type": "execute_result"
    }
   ],
   "source": [
    "'''forecast_dates = []\n",
    "for time_i in forecast_period_dates:\n",
    "    forecast_dates.append(time_i.date())'''"
   ]
  },
  {
   "cell_type": "code",
   "execution_count": 154,
   "metadata": {},
   "outputs": [
    {
     "data": {
      "text/plain": [
       "'forecast_dates'"
      ]
     },
     "execution_count": 154,
     "metadata": {},
     "output_type": "execute_result"
    }
   ],
   "source": [
    "'''forecast_dates'''"
   ]
  },
  {
   "cell_type": "code",
   "execution_count": 155,
   "metadata": {},
   "outputs": [
    {
     "data": {
      "text/plain": [
       "\"df_forecast = pd.DataFrame({'Month':np.array(forecast_dates), '#Passengers':y_pred_future})\\ndf_forecast['Month']=pd.to_datetime(df_forecast['Month'])\""
      ]
     },
     "execution_count": 155,
     "metadata": {},
     "output_type": "execute_result"
    }
   ],
   "source": [
    "'''df_forecast = pd.DataFrame({'Month':np.array(forecast_dates), '#Passengers':y_pred_future})\n",
    "df_forecast['Month']=pd.to_datetime(df_forecast['Month'])'''"
   ]
  },
  {
   "cell_type": "code",
   "execution_count": 156,
   "metadata": {},
   "outputs": [
    {
     "data": {
      "text/plain": [
       "'df_forecast'"
      ]
     },
     "execution_count": 156,
     "metadata": {},
     "output_type": "execute_result"
    }
   ],
   "source": [
    "'''df_forecast'''"
   ]
  },
  {
   "cell_type": "code",
   "execution_count": 157,
   "metadata": {},
   "outputs": [
    {
     "data": {
      "text/plain": [
       "'test_data'"
      ]
     },
     "execution_count": 157,
     "metadata": {},
     "output_type": "execute_result"
    }
   ],
   "source": [
    "'''test_data'''"
   ]
  },
  {
   "cell_type": "code",
   "execution_count": 158,
   "metadata": {},
   "outputs": [
    {
     "data": {
      "text/plain": [
       "\"y = test_data['#Passengers']\\nY = df_forecast['#Passengers']\\ny_true, Y_pred = np.array(y), np.array(Y)\\nmape = np.mean(np.abs((y_true - Y_pred) / y_true)) * 100\\nprint(mape)\""
      ]
     },
     "execution_count": 158,
     "metadata": {},
     "output_type": "execute_result"
    }
   ],
   "source": [
    "'''y = test_data['#Passengers']\n",
    "Y = df_forecast['#Passengers']\n",
    "y_true, Y_pred = np.array(y), np.array(Y)\n",
    "mape = np.mean(np.abs((y_true - Y_pred) / y_true)) * 100\n",
    "print(mape)'''"
   ]
  },
  {
   "cell_type": "code",
   "execution_count": 159,
   "metadata": {},
   "outputs": [
    {
     "data": {
      "text/plain": [
       "'test_data = test_data.rename(index = lambda x: x - 132)\\ntest_data'"
      ]
     },
     "execution_count": 159,
     "metadata": {},
     "output_type": "execute_result"
    }
   ],
   "source": [
    "\n",
    "'''test_data = test_data.rename(index = lambda x: x - 132)\n",
    "test_data'''"
   ]
  },
  {
   "cell_type": "code",
   "execution_count": 160,
   "metadata": {},
   "outputs": [
    {
     "data": {
      "text/plain": [
       "\"orig = plt.plot(test_data['#Passengers'], color='blue', label='Original')\\npredicted = plt.plot(df_forecast['#Passengers'], color='red', label='Predicted')\\nplt.show()\""
      ]
     },
     "execution_count": 160,
     "metadata": {},
     "output_type": "execute_result"
    }
   ],
   "source": [
    "'''orig = plt.plot(test_data['#Passengers'], color='blue', label='Original')\n",
    "predicted = plt.plot(df_forecast['#Passengers'], color='red', label='Predicted')\n",
    "plt.show()'''"
   ]
  },
  {
   "cell_type": "code",
   "execution_count": 161,
   "metadata": {},
   "outputs": [
    {
     "data": {
      "text/plain": [
       "'import math\\nfrom keras.layers import  Flatten\\nfrom sklearn.metrics import mean_squared_error\\n#from keras.callbacks import EarlyStopping\\nfrom keras.layers import ConvLSTM2D'"
      ]
     },
     "execution_count": 161,
     "metadata": {},
     "output_type": "execute_result"
    }
   ],
   "source": [
    "'''import math\n",
    "from keras.layers import  Flatten\n",
    "from sklearn.metrics import mean_squared_error\n",
    "#from keras.callbacks import EarlyStopping\n",
    "from keras.layers import ConvLSTM2D'''"
   ]
  },
  {
   "cell_type": "code",
   "execution_count": 162,
   "metadata": {},
   "outputs": [
    {
     "data": {
      "text/plain": [
       "'data = pd.read_csv(\"AirPassengers.csv\")\\ndata.head()'"
      ]
     },
     "execution_count": 162,
     "metadata": {},
     "output_type": "execute_result"
    }
   ],
   "source": [
    "'''data = pd.read_csv(\"AirPassengers.csv\")\n",
    "data.head()'''"
   ]
  },
  {
   "cell_type": "code",
   "execution_count": 163,
   "metadata": {},
   "outputs": [
    {
     "data": {
      "text/plain": [
       "\"dataframe = pd.read_csv('AirPassengers.csv', usecols=[1])\\nplt.plot(dataframe)\""
      ]
     },
     "execution_count": 163,
     "metadata": {},
     "output_type": "execute_result"
    }
   ],
   "source": [
    "'''dataframe = pd.read_csv('AirPassengers.csv', usecols=[1])\n",
    "plt.plot(dataframe)'''"
   ]
  },
  {
   "cell_type": "code",
   "execution_count": 164,
   "metadata": {},
   "outputs": [
    {
     "data": {
      "text/plain": [
       "'dataframe'"
      ]
     },
     "execution_count": 164,
     "metadata": {},
     "output_type": "execute_result"
    }
   ],
   "source": [
    "'''dataframe'''"
   ]
  },
  {
   "cell_type": "code",
   "execution_count": 165,
   "metadata": {},
   "outputs": [
    {
     "data": {
      "text/plain": [
       "'train_data = dataframe[:len(data)-12]\\nprint(train_data)\\ntest_data = dataframe[len(data)-12:]\\nprint(test_data.shape)\\ntest_data'"
      ]
     },
     "execution_count": 165,
     "metadata": {},
     "output_type": "execute_result"
    }
   ],
   "source": [
    "'''train_data = dataframe[:len(data)-12]\n",
    "print(train_data)\n",
    "test_data = dataframe[len(data)-12:]\n",
    "print(test_data.shape)\n",
    "test_data'''"
   ]
  },
  {
   "cell_type": "code",
   "execution_count": 145,
   "metadata": {},
   "outputs": [
    {
     "name": "stdout",
     "output_type": "stream",
     "text": [
      "     #Passengers\n",
      "0       0.017582\n",
      "1       0.030769\n",
      "2       0.061538\n",
      "3       0.054945\n",
      "4       0.037363\n",
      "..           ...\n",
      "127     1.000000\n",
      "128     0.789011\n",
      "129     0.665934\n",
      "130     0.567033\n",
      "131     0.661538\n",
      "\n",
      "[132 rows x 1 columns]\n"
     ]
    }
   ],
   "source": [
    "col_names = ['#Passengers']\n",
    "features = train_data[col_names]\n",
    "scaler = preprocessing.MinMaxScaler().fit(features.values)\n",
    "features = scaler.transform(features.values)\n",
    "train_data[col_names] = features\n",
    "print(train_data)"
   ]
  },
  {
   "cell_type": "code",
   "execution_count": 146,
   "metadata": {},
   "outputs": [],
   "source": [
    "dataset = train_data.values"
   ]
  },
  {
   "cell_type": "code",
   "execution_count": 147,
   "metadata": {},
   "outputs": [],
   "source": [
    "def to_sequences(dataset, seq_size=1):\n",
    "    x = []\n",
    "    y = []\n",
    "\n",
    "    for i in range(len(dataset)-seq_size-1):\n",
    "        #print(i)\n",
    "        window = dataset[i:(i+seq_size), 0]\n",
    "        x.append(window)\n",
    "        y.append(dataset[i+seq_size, 0])\n",
    "        \n",
    "    return np.array(x),np.array(y)"
   ]
  },
  {
   "cell_type": "code",
   "execution_count": 148,
   "metadata": {},
   "outputs": [],
   "source": [
    "seq_size = 10"
   ]
  },
  {
   "cell_type": "code",
   "execution_count": 149,
   "metadata": {},
   "outputs": [],
   "source": [
    "trainX, trainY = to_sequences(dataset, seq_size)"
   ]
  },
  {
   "cell_type": "code",
   "execution_count": 150,
   "metadata": {},
   "outputs": [
    {
     "name": "stdout",
     "output_type": "stream",
     "text": [
      "Shape of training set: (121, 10)\n"
     ]
    }
   ],
   "source": [
    "print(\"Shape of training set: {}\".format(trainX.shape))"
   ]
  },
  {
   "cell_type": "code",
   "execution_count": 151,
   "metadata": {},
   "outputs": [
    {
     "data": {
      "text/plain": [
       "array([[0.01758242, 0.03076923, 0.06153846, ..., 0.0967033 , 0.07032967,\n",
       "        0.03296703],\n",
       "       [0.03076923, 0.06153846, 0.05494505, ..., 0.07032967, 0.03296703,\n",
       "        0.        ],\n",
       "       [0.06153846, 0.05494505, 0.03736264, ..., 0.03296703, 0.        ,\n",
       "        0.03076923],\n",
       "       ...,\n",
       "       [0.45274725, 0.51208791, 0.56263736, ..., 0.80879121, 0.97582418,\n",
       "        1.        ],\n",
       "       [0.51208791, 0.56263736, 0.52307692, ..., 0.97582418, 1.        ,\n",
       "        0.78901099],\n",
       "       [0.56263736, 0.52307692, 0.66373626, ..., 1.        , 0.78901099,\n",
       "        0.66593407]])"
      ]
     },
     "execution_count": 151,
     "metadata": {},
     "output_type": "execute_result"
    }
   ],
   "source": [
    "trainX"
   ]
  },
  {
   "cell_type": "code",
   "execution_count": 152,
   "metadata": {},
   "outputs": [],
   "source": [
    "trainX = trainX.reshape((trainX.shape[0], 1, 1, 1, seq_size))"
   ]
  },
  {
   "cell_type": "code",
   "execution_count": 153,
   "metadata": {},
   "outputs": [
    {
     "data": {
      "text/plain": [
       "(121, 1, 1, 1, 10)"
      ]
     },
     "execution_count": 153,
     "metadata": {},
     "output_type": "execute_result"
    }
   ],
   "source": [
    "trainX.shape"
   ]
  },
  {
   "cell_type": "code",
   "execution_count": 154,
   "metadata": {},
   "outputs": [
    {
     "name": "stdout",
     "output_type": "stream",
     "text": [
      "Shape of training set: (121,)\n"
     ]
    }
   ],
   "source": [
    "#trainX shape == (120, 12, 3).\n",
    "print(\"Shape of training set: {}\".format(trainY.shape))"
   ]
  },
  {
   "cell_type": "code",
   "execution_count": 155,
   "metadata": {},
   "outputs": [
    {
     "name": "stdout",
     "output_type": "stream",
     "text": [
      "Model: \"sequential_4\"\n",
      "_________________________________________________________________\n",
      " Layer (type)                Output Shape              Param #   \n",
      "=================================================================\n",
      " conv_lstm2d_1 (ConvLSTM2D)  (None, 1, 1, 64)          19200     \n",
      "                                                                 \n",
      " flatten_1 (Flatten)         (None, 64)                0         \n",
      "                                                                 \n",
      " dense_5 (Dense)             (None, 32)                2080      \n",
      "                                                                 \n",
      " dense_6 (Dense)             (None, 1)                 33        \n",
      "                                                                 \n",
      "=================================================================\n",
      "Total params: 21,313\n",
      "Trainable params: 21,313\n",
      "Non-trainable params: 0\n",
      "_________________________________________________________________\n"
     ]
    }
   ],
   "source": [
    "model = Sequential()\n",
    "model.add(ConvLSTM2D(filters=64, kernel_size=(1,1), activation='relu', input_shape=(1, 1, 1, seq_size)))\n",
    "model.add(Flatten())\n",
    "model.add(Dense(32))\n",
    "model.add(Dense(1))\n",
    "model.compile(optimizer='adam', loss='mean_squared_error')\n",
    "model.summary()"
   ]
  },
  {
   "cell_type": "code",
   "execution_count": 156,
   "metadata": {},
   "outputs": [
    {
     "name": "stdout",
     "output_type": "stream",
     "text": [
      "Epoch 1/100\n",
      "7/7 [==============================] - 2s 41ms/step - loss: 0.1324 - val_loss: 0.3094\n",
      "Epoch 2/100\n",
      "7/7 [==============================] - 0s 5ms/step - loss: 0.0628 - val_loss: 0.1327\n",
      "Epoch 3/100\n",
      "7/7 [==============================] - 0s 7ms/step - loss: 0.0204 - val_loss: 0.0397\n",
      "Epoch 4/100\n",
      "7/7 [==============================] - 0s 6ms/step - loss: 0.0166 - val_loss: 0.0271\n",
      "Epoch 5/100\n",
      "7/7 [==============================] - 0s 7ms/step - loss: 0.0185 - val_loss: 0.0273\n",
      "Epoch 6/100\n",
      "7/7 [==============================] - 0s 7ms/step - loss: 0.0140 - val_loss: 0.0349\n",
      "Epoch 7/100\n",
      "7/7 [==============================] - 0s 7ms/step - loss: 0.0127 - val_loss: 0.0377\n",
      "Epoch 8/100\n",
      "7/7 [==============================] - 0s 6ms/step - loss: 0.0116 - val_loss: 0.0297\n",
      "Epoch 9/100\n",
      "7/7 [==============================] - 0s 6ms/step - loss: 0.0102 - val_loss: 0.0250\n",
      "Epoch 10/100\n",
      "7/7 [==============================] - 0s 6ms/step - loss: 0.0093 - val_loss: 0.0239\n",
      "Epoch 11/100\n",
      "7/7 [==============================] - 0s 6ms/step - loss: 0.0085 - val_loss: 0.0236\n",
      "Epoch 12/100\n",
      "7/7 [==============================] - 0s 6ms/step - loss: 0.0078 - val_loss: 0.0219\n",
      "Epoch 13/100\n",
      "7/7 [==============================] - 0s 6ms/step - loss: 0.0073 - val_loss: 0.0212\n",
      "Epoch 14/100\n",
      "7/7 [==============================] - 0s 6ms/step - loss: 0.0068 - val_loss: 0.0204\n",
      "Epoch 15/100\n",
      "7/7 [==============================] - 0s 7ms/step - loss: 0.0065 - val_loss: 0.0196\n",
      "Epoch 16/100\n",
      "7/7 [==============================] - 0s 7ms/step - loss: 0.0063 - val_loss: 0.0189\n",
      "Epoch 17/100\n",
      "7/7 [==============================] - 0s 6ms/step - loss: 0.0060 - val_loss: 0.0188\n",
      "Epoch 18/100\n",
      "7/7 [==============================] - 0s 7ms/step - loss: 0.0059 - val_loss: 0.0184\n",
      "Epoch 19/100\n",
      "7/7 [==============================] - 0s 6ms/step - loss: 0.0056 - val_loss: 0.0166\n",
      "Epoch 20/100\n",
      "7/7 [==============================] - 0s 7ms/step - loss: 0.0054 - val_loss: 0.0160\n",
      "Epoch 21/100\n",
      "7/7 [==============================] - 0s 5ms/step - loss: 0.0055 - val_loss: 0.0175\n",
      "Epoch 22/100\n",
      "7/7 [==============================] - 0s 6ms/step - loss: 0.0051 - val_loss: 0.0145\n",
      "Epoch 23/100\n",
      "7/7 [==============================] - 0s 5ms/step - loss: 0.0051 - val_loss: 0.0141\n",
      "Epoch 24/100\n",
      "7/7 [==============================] - 0s 7ms/step - loss: 0.0048 - val_loss: 0.0147\n",
      "Epoch 25/100\n",
      "7/7 [==============================] - 0s 5ms/step - loss: 0.0047 - val_loss: 0.0128\n",
      "Epoch 26/100\n",
      "7/7 [==============================] - 0s 6ms/step - loss: 0.0044 - val_loss: 0.0128\n",
      "Epoch 27/100\n",
      "7/7 [==============================] - 0s 6ms/step - loss: 0.0044 - val_loss: 0.0126\n",
      "Epoch 28/100\n",
      "7/7 [==============================] - 0s 5ms/step - loss: 0.0042 - val_loss: 0.0114\n",
      "Epoch 29/100\n",
      "7/7 [==============================] - 0s 7ms/step - loss: 0.0041 - val_loss: 0.0112\n",
      "Epoch 30/100\n",
      "7/7 [==============================] - 0s 5ms/step - loss: 0.0044 - val_loss: 0.0130\n",
      "Epoch 31/100\n",
      "7/7 [==============================] - 0s 6ms/step - loss: 0.0040 - val_loss: 0.0104\n",
      "Epoch 32/100\n",
      "7/7 [==============================] - 0s 6ms/step - loss: 0.0040 - val_loss: 0.0107\n",
      "Epoch 33/100\n",
      "7/7 [==============================] - 0s 6ms/step - loss: 0.0036 - val_loss: 0.0096\n",
      "Epoch 34/100\n",
      "7/7 [==============================] - 0s 5ms/step - loss: 0.0035 - val_loss: 0.0094\n",
      "Epoch 35/100\n",
      "7/7 [==============================] - 0s 6ms/step - loss: 0.0035 - val_loss: 0.0091\n",
      "Epoch 36/100\n",
      "7/7 [==============================] - 0s 5ms/step - loss: 0.0034 - val_loss: 0.0090\n",
      "Epoch 37/100\n",
      "7/7 [==============================] - 0s 6ms/step - loss: 0.0033 - val_loss: 0.0085\n",
      "Epoch 38/100\n",
      "7/7 [==============================] - 0s 6ms/step - loss: 0.0034 - val_loss: 0.0085\n",
      "Epoch 39/100\n",
      "7/7 [==============================] - 0s 6ms/step - loss: 0.0031 - val_loss: 0.0080\n",
      "Epoch 40/100\n",
      "7/7 [==============================] - 0s 6ms/step - loss: 0.0031 - val_loss: 0.0080\n",
      "Epoch 41/100\n",
      "7/7 [==============================] - 0s 6ms/step - loss: 0.0031 - val_loss: 0.0076\n",
      "Epoch 42/100\n",
      "7/7 [==============================] - 0s 8ms/step - loss: 0.0029 - val_loss: 0.0075\n",
      "Epoch 43/100\n",
      "7/7 [==============================] - 0s 5ms/step - loss: 0.0029 - val_loss: 0.0073\n",
      "Epoch 44/100\n",
      "7/7 [==============================] - 0s 6ms/step - loss: 0.0028 - val_loss: 0.0072\n",
      "Epoch 45/100\n",
      "7/7 [==============================] - 0s 5ms/step - loss: 0.0027 - val_loss: 0.0071\n",
      "Epoch 46/100\n",
      "7/7 [==============================] - 0s 6ms/step - loss: 0.0027 - val_loss: 0.0070\n",
      "Epoch 47/100\n",
      "7/7 [==============================] - 0s 6ms/step - loss: 0.0028 - val_loss: 0.0069\n",
      "Epoch 48/100\n",
      "7/7 [==============================] - 0s 5ms/step - loss: 0.0026 - val_loss: 0.0068\n",
      "Epoch 49/100\n",
      "7/7 [==============================] - 0s 6ms/step - loss: 0.0026 - val_loss: 0.0068\n",
      "Epoch 50/100\n",
      "7/7 [==============================] - 0s 7ms/step - loss: 0.0027 - val_loss: 0.0067\n",
      "Epoch 51/100\n",
      "7/7 [==============================] - 0s 6ms/step - loss: 0.0029 - val_loss: 0.0069\n",
      "Epoch 52/100\n",
      "7/7 [==============================] - 0s 7ms/step - loss: 0.0031 - val_loss: 0.0064\n",
      "Epoch 53/100\n",
      "7/7 [==============================] - 0s 5ms/step - loss: 0.0024 - val_loss: 0.0072\n",
      "Epoch 54/100\n",
      "7/7 [==============================] - 0s 6ms/step - loss: 0.0026 - val_loss: 0.0063\n",
      "Epoch 55/100\n",
      "7/7 [==============================] - 0s 5ms/step - loss: 0.0024 - val_loss: 0.0063\n",
      "Epoch 56/100\n",
      "7/7 [==============================] - 0s 6ms/step - loss: 0.0024 - val_loss: 0.0062\n",
      "Epoch 57/100\n",
      "7/7 [==============================] - 0s 6ms/step - loss: 0.0023 - val_loss: 0.0058\n",
      "Epoch 58/100\n",
      "7/7 [==============================] - 0s 6ms/step - loss: 0.0023 - val_loss: 0.0057\n",
      "Epoch 59/100\n",
      "7/7 [==============================] - 0s 8ms/step - loss: 0.0023 - val_loss: 0.0058\n",
      "Epoch 60/100\n",
      "7/7 [==============================] - 0s 5ms/step - loss: 0.0023 - val_loss: 0.0058\n",
      "Epoch 61/100\n",
      "7/7 [==============================] - 0s 6ms/step - loss: 0.0022 - val_loss: 0.0057\n",
      "Epoch 62/100\n",
      "7/7 [==============================] - 0s 6ms/step - loss: 0.0023 - val_loss: 0.0054\n",
      "Epoch 63/100\n",
      "7/7 [==============================] - 0s 7ms/step - loss: 0.0022 - val_loss: 0.0053\n",
      "Epoch 64/100\n",
      "7/7 [==============================] - 0s 7ms/step - loss: 0.0022 - val_loss: 0.0054\n",
      "Epoch 65/100\n",
      "7/7 [==============================] - 0s 5ms/step - loss: 0.0021 - val_loss: 0.0054\n",
      "Epoch 66/100\n",
      "7/7 [==============================] - 0s 6ms/step - loss: 0.0021 - val_loss: 0.0053\n",
      "Epoch 67/100\n",
      "7/7 [==============================] - 0s 6ms/step - loss: 0.0020 - val_loss: 0.0052\n",
      "Epoch 68/100\n",
      "7/7 [==============================] - 0s 5ms/step - loss: 0.0020 - val_loss: 0.0052\n",
      "Epoch 69/100\n",
      "7/7 [==============================] - 0s 6ms/step - loss: 0.0020 - val_loss: 0.0052\n",
      "Epoch 70/100\n",
      "7/7 [==============================] - 0s 6ms/step - loss: 0.0019 - val_loss: 0.0052\n",
      "Epoch 71/100\n",
      "7/7 [==============================] - 0s 7ms/step - loss: 0.0020 - val_loss: 0.0052\n",
      "Epoch 72/100\n",
      "7/7 [==============================] - 0s 5ms/step - loss: 0.0019 - val_loss: 0.0053\n",
      "Epoch 73/100\n",
      "7/7 [==============================] - 0s 6ms/step - loss: 0.0019 - val_loss: 0.0051\n",
      "Epoch 74/100\n",
      "7/7 [==============================] - 0s 6ms/step - loss: 0.0019 - val_loss: 0.0052\n",
      "Epoch 75/100\n",
      "7/7 [==============================] - 0s 5ms/step - loss: 0.0019 - val_loss: 0.0049\n",
      "Epoch 76/100\n",
      "7/7 [==============================] - 0s 5ms/step - loss: 0.0019 - val_loss: 0.0050\n",
      "Epoch 77/100\n",
      "7/7 [==============================] - 0s 6ms/step - loss: 0.0018 - val_loss: 0.0051\n",
      "Epoch 78/100\n",
      "7/7 [==============================] - 0s 5ms/step - loss: 0.0018 - val_loss: 0.0051\n",
      "Epoch 79/100\n",
      "7/7 [==============================] - 0s 6ms/step - loss: 0.0018 - val_loss: 0.0049\n",
      "Epoch 80/100\n",
      "7/7 [==============================] - 0s 5ms/step - loss: 0.0019 - val_loss: 0.0049\n",
      "Epoch 81/100\n",
      "7/7 [==============================] - 0s 6ms/step - loss: 0.0020 - val_loss: 0.0049\n",
      "Epoch 82/100\n",
      "7/7 [==============================] - 0s 6ms/step - loss: 0.0018 - val_loss: 0.0052\n",
      "Epoch 83/100\n",
      "7/7 [==============================] - 0s 6ms/step - loss: 0.0018 - val_loss: 0.0048\n",
      "Epoch 84/100\n",
      "7/7 [==============================] - 0s 6ms/step - loss: 0.0018 - val_loss: 0.0050\n",
      "Epoch 85/100\n",
      "7/7 [==============================] - 0s 5ms/step - loss: 0.0020 - val_loss: 0.0047\n",
      "Epoch 86/100\n",
      "7/7 [==============================] - 0s 6ms/step - loss: 0.0020 - val_loss: 0.0049\n",
      "Epoch 87/100\n",
      "7/7 [==============================] - 0s 5ms/step - loss: 0.0017 - val_loss: 0.0046\n",
      "Epoch 88/100\n",
      "7/7 [==============================] - 0s 7ms/step - loss: 0.0019 - val_loss: 0.0056\n",
      "Epoch 89/100\n",
      "7/7 [==============================] - 0s 6ms/step - loss: 0.0018 - val_loss: 0.0049\n",
      "Epoch 90/100\n",
      "7/7 [==============================] - 0s 6ms/step - loss: 0.0017 - val_loss: 0.0052\n",
      "Epoch 91/100\n",
      "7/7 [==============================] - 0s 5ms/step - loss: 0.0018 - val_loss: 0.0048\n",
      "Epoch 92/100\n",
      "7/7 [==============================] - 0s 6ms/step - loss: 0.0019 - val_loss: 0.0044\n",
      "Epoch 93/100\n",
      "7/7 [==============================] - 0s 6ms/step - loss: 0.0021 - val_loss: 0.0056\n",
      "Epoch 94/100\n",
      "7/7 [==============================] - 0s 6ms/step - loss: 0.0022 - val_loss: 0.0045\n",
      "Epoch 95/100\n",
      "7/7 [==============================] - 0s 5ms/step - loss: 0.0019 - val_loss: 0.0059\n",
      "Epoch 96/100\n",
      "7/7 [==============================] - 0s 6ms/step - loss: 0.0019 - val_loss: 0.0044\n",
      "Epoch 97/100\n",
      "7/7 [==============================] - 0s 6ms/step - loss: 0.0018 - val_loss: 0.0054\n",
      "Epoch 98/100\n",
      "7/7 [==============================] - 0s 6ms/step - loss: 0.0018 - val_loss: 0.0046\n",
      "Epoch 99/100\n",
      "7/7 [==============================] - 0s 6ms/step - loss: 0.0018 - val_loss: 0.0050\n",
      "Epoch 100/100\n",
      "7/7 [==============================] - 0s 5ms/step - loss: 0.0016 - val_loss: 0.0044\n"
     ]
    },
    {
     "data": {
      "text/plain": [
       "<matplotlib.legend.Legend at 0x28e399e3a60>"
      ]
     },
     "execution_count": 156,
     "metadata": {},
     "output_type": "execute_result"
    },
    {
     "data": {
      "image/png": "[encoded data removed]",
      "text/plain": [
       "<Figure size 432x288 with 1 Axes>"
      ]
     },
     "metadata": {
      "needs_background": "light"
     },
     "output_type": "display_data"
    }
   ],
   "source": [
    "#history = model.fit(trainX, trainY, epochs=49, batch_size=16, validation_split=0.1, verbose=1)\n",
    "history = model.fit(trainX, trainY, epochs=100, batch_size=16, validation_split=0.1, verbose=1)\n",
    "\n",
    "plt.plot(history.history['loss'], label='Training loss')\n",
    "plt.plot(history.history['val_loss'], label='Validation loss')\n",
    "plt.legend()"
   ]
  },
  {
   "cell_type": "code",
   "execution_count": 157,
   "metadata": {},
   "outputs": [],
   "source": [
    "n_future = 12\n"
   ]
  },
  {
   "cell_type": "code",
   "execution_count": 158,
   "metadata": {},
   "outputs": [
    {
     "name": "stdout",
     "output_type": "stream",
     "text": [
      "1/1 [==============================] - 0s 175ms/step\n"
     ]
    }
   ],
   "source": [
    "forecast = model.predict(trainX[-n_future:]) "
   ]
  },
  {
   "cell_type": "code",
   "execution_count": 159,
   "metadata": {},
   "outputs": [
    {
     "name": "stdout",
     "output_type": "stream",
     "text": [
      "[[0.46041194]\n",
      " [0.57191086]\n",
      " [0.5608379 ]\n",
      " [0.52401185]\n",
      " [0.66904396]\n",
      " [0.7274877 ]\n",
      " [0.9073192 ]\n",
      " [0.8699142 ]\n",
      " [0.96255153]\n",
      " [0.8687952 ]\n",
      " [0.63721514]\n",
      " [0.5403504 ]]\n"
     ]
    }
   ],
   "source": [
    "print(forecast)"
   ]
  },
  {
   "cell_type": "code",
   "execution_count": 160,
   "metadata": {},
   "outputs": [
    {
     "data": {
      "text/plain": [
       "array([313.48743, 364.21942, 359.18124, 342.42538, 408.415  , 435.0069 ,\n",
       "       516.8302 , 499.81094, 541.961  , 499.30185, 393.9329 , 349.8594 ],\n",
       "      dtype=float32)"
      ]
     },
     "execution_count": 160,
     "metadata": {},
     "output_type": "execute_result"
    }
   ],
   "source": [
    "y_pred_future = scaler.inverse_transform(forecast)[:,0]\n",
    "y_pred_future"
   ]
  },
  {
   "cell_type": "code",
   "execution_count": 161,
   "metadata": {},
   "outputs": [],
   "source": [
    "df_forecast = pd.DataFrame({'#Passengers':y_pred_future})"
   ]
  },
  {
   "cell_type": "code",
   "execution_count": 162,
   "metadata": {},
   "outputs": [
    {
     "data": {
      "text/html": [
       "<div>\n",
       "<style scoped>\n",
       "    .dataframe tbody tr th:only-of-type {\n",
       "        vertical-align: middle;\n",
       "    }\n",
       "\n",
       "    .dataframe tbody tr th {\n",
       "        vertical-align: top;\n",
       "    }\n",
       "\n",
       "    .dataframe thead th {\n",
       "        text-align: right;\n",
       "    }\n",
       "</style>\n",
       "<table border=\"1\" class=\"dataframe\">\n",
       "  <thead>\n",
       "    <tr style=\"text-align: right;\">\n",
       "      <th></th>\n",
       "      <th>#Passengers</th>\n",
       "    </tr>\n",
       "  </thead>\n",
       "  <tbody>\n",
       "    <tr>\n",
       "      <th>0</th>\n",
       "      <td>313.487427</td>\n",
       "    </tr>\n",
       "    <tr>\n",
       "      <th>1</th>\n",
       "      <td>364.219421</td>\n",
       "    </tr>\n",
       "    <tr>\n",
       "      <th>2</th>\n",
       "      <td>359.181244</td>\n",
       "    </tr>\n",
       "    <tr>\n",
       "      <th>3</th>\n",
       "      <td>342.425385</td>\n",
       "    </tr>\n",
       "    <tr>\n",
       "      <th>4</th>\n",
       "      <td>408.415009</td>\n",
       "    </tr>\n",
       "    <tr>\n",
       "      <th>5</th>\n",
       "      <td>435.006897</td>\n",
       "    </tr>\n",
       "    <tr>\n",
       "      <th>6</th>\n",
       "      <td>516.830200</td>\n",
       "    </tr>\n",
       "    <tr>\n",
       "      <th>7</th>\n",
       "      <td>499.810944</td>\n",
       "    </tr>\n",
       "    <tr>\n",
       "      <th>8</th>\n",
       "      <td>541.960999</td>\n",
       "    </tr>\n",
       "    <tr>\n",
       "      <th>9</th>\n",
       "      <td>499.301849</td>\n",
       "    </tr>\n",
       "    <tr>\n",
       "      <th>10</th>\n",
       "      <td>393.932892</td>\n",
       "    </tr>\n",
       "    <tr>\n",
       "      <th>11</th>\n",
       "      <td>349.859406</td>\n",
       "    </tr>\n",
       "  </tbody>\n",
       "</table>\n",
       "</div>"
      ],
      "text/plain": [
       "    #Passengers\n",
       "0    313.487427\n",
       "1    364.219421\n",
       "2    359.181244\n",
       "3    342.425385\n",
       "4    408.415009\n",
       "5    435.006897\n",
       "6    516.830200\n",
       "7    499.810944\n",
       "8    541.960999\n",
       "9    499.301849\n",
       "10   393.932892\n",
       "11   349.859406"
      ]
     },
     "execution_count": 162,
     "metadata": {},
     "output_type": "execute_result"
    }
   ],
   "source": [
    "df_forecast"
   ]
  },
  {
   "cell_type": "code",
   "execution_count": 163,
   "metadata": {},
   "outputs": [
    {
     "name": "stdout",
     "output_type": "stream",
     "text": [
      "14.439936124091544\n"
     ]
    }
   ],
   "source": [
    "y = test_data['#Passengers']\n",
    "Y = df_forecast['#Passengers']\n",
    "y_true, Y_pred = np.array(y), np.array(Y)\n",
    "mape = np.mean(np.abs((y_true - Y_pred) / y_true)) * 100\n",
    "print(mape)"
   ]
  },
  {
   "cell_type": "code",
   "execution_count": 164,
   "metadata": {},
   "outputs": [
    {
     "data": {
      "text/html": [
       "<div>\n",
       "<style scoped>\n",
       "    .dataframe tbody tr th:only-of-type {\n",
       "        vertical-align: middle;\n",
       "    }\n",
       "\n",
       "    .dataframe tbody tr th {\n",
       "        vertical-align: top;\n",
       "    }\n",
       "\n",
       "    .dataframe thead th {\n",
       "        text-align: right;\n",
       "    }\n",
       "</style>\n",
       "<table border=\"1\" class=\"dataframe\">\n",
       "  <thead>\n",
       "    <tr style=\"text-align: right;\">\n",
       "      <th></th>\n",
       "      <th>#Passengers</th>\n",
       "    </tr>\n",
       "  </thead>\n",
       "  <tbody>\n",
       "    <tr>\n",
       "      <th>0</th>\n",
       "      <td>417</td>\n",
       "    </tr>\n",
       "    <tr>\n",
       "      <th>1</th>\n",
       "      <td>391</td>\n",
       "    </tr>\n",
       "    <tr>\n",
       "      <th>2</th>\n",
       "      <td>419</td>\n",
       "    </tr>\n",
       "    <tr>\n",
       "      <th>3</th>\n",
       "      <td>461</td>\n",
       "    </tr>\n",
       "    <tr>\n",
       "      <th>4</th>\n",
       "      <td>472</td>\n",
       "    </tr>\n",
       "    <tr>\n",
       "      <th>5</th>\n",
       "      <td>535</td>\n",
       "    </tr>\n",
       "    <tr>\n",
       "      <th>6</th>\n",
       "      <td>622</td>\n",
       "    </tr>\n",
       "    <tr>\n",
       "      <th>7</th>\n",
       "      <td>606</td>\n",
       "    </tr>\n",
       "    <tr>\n",
       "      <th>8</th>\n",
       "      <td>508</td>\n",
       "    </tr>\n",
       "    <tr>\n",
       "      <th>9</th>\n",
       "      <td>461</td>\n",
       "    </tr>\n",
       "    <tr>\n",
       "      <th>10</th>\n",
       "      <td>390</td>\n",
       "    </tr>\n",
       "    <tr>\n",
       "      <th>11</th>\n",
       "      <td>432</td>\n",
       "    </tr>\n",
       "  </tbody>\n",
       "</table>\n",
       "</div>"
      ],
      "text/plain": [
       "    #Passengers\n",
       "0           417\n",
       "1           391\n",
       "2           419\n",
       "3           461\n",
       "4           472\n",
       "5           535\n",
       "6           622\n",
       "7           606\n",
       "8           508\n",
       "9           461\n",
       "10          390\n",
       "11          432"
      ]
     },
     "execution_count": 164,
     "metadata": {},
     "output_type": "execute_result"
    }
   ],
   "source": [
    "test_data = test_data.rename(index = lambda x: x - 132)\n",
    "test_data"
   ]
  },
  {
   "cell_type": "code",
   "execution_count": 165,
   "metadata": {},
   "outputs": [
    {
     "data": {
      "image/png": "[encoded data removed]",
      "text/plain": [
       "<Figure size 432x288 with 1 Axes>"
      ]
     },
     "metadata": {
      "needs_background": "light"
     },
     "output_type": "display_data"
    }
   ],
   "source": [
    "orig = plt.plot(test_data['#Passengers'], color='blue', label='Original')\n",
    "predicted = plt.plot(df_forecast['#Passengers'], color='red', label='Predicted')\n",
    "plt.show()"
   ]
  },
  {
   "cell_type": "code",
   "execution_count": null,
   "metadata": {},
   "outputs": [],
   "source": []
  }
 ],
 "metadata": {
  "kernelspec": {
   "display_name": "Python 3.10.5 ('myvenv': venv)",
   "language": "python",
   "name": "python3"
  },
  "language_info": {
   "codemirror_mode": {
    "name": "ipython",
    "version": 3
   },
   "file_extension": ".py",
   "mimetype": "text/x-python",
   "name": "python",
   "nbconvert_exporter": "python",
   "pygments_lexer": "ipython3",
   "version": "3.10.5"
  },
  "orig_nbformat": 4,
  "vscode": {
   "interpreter": {
    "hash": "f10a24a426163f4969834cd78cacbc8a505b0e39e0a52f8aaabad16331e335f4"
   }
  }
 },
 "nbformat": 4,
 "nbformat_minor": 2
}
