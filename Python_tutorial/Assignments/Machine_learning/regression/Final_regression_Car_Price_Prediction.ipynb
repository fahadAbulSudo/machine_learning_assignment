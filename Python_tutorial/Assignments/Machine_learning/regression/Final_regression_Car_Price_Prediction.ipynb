{
 "cells": [
  {
   "cell_type": "markdown",
   "metadata": {
    "id": "oRkAAspxeKK8"
   },
   "source": [
    "### Import Libraries"
   ]
  },
  {
   "cell_type": "code",
   "execution_count": 31,
   "metadata": {
    "colab": {
     "base_uri": "https://localhost:8080/"
    },
    "executionInfo": {
     "elapsed": 7299,
     "status": "ok",
     "timestamp": 1655273476187,
     "user": {
      "displayName": "Piyush Agarwal",
      "userId": "06685019812507607970"
     },
     "user_tz": -330
    },
    "id": "zLBo6uqSeCm6",
    "outputId": "220e31d8-efc4-4480-efd0-f495c02c765b"
   },
   "outputs": [],
   "source": [
    "import pandas as pd\n",
    "import numpy as np\n",
    "import matplotlib.pyplot as plt\n",
    "import tqdm\n",
    "import math\n",
    "import collections\n",
    "import pickle\n",
    "\n",
    "from sklearn.linear_model import LinearRegression\n",
    "from sklearn.model_selection import train_test_split\n",
    "from sklearn.metrics import r2_score, mean_squared_error, mean_absolute_error\n",
    "\n",
    "\n",
    "from sklearn.metrics import mean_squared_error, mean_absolute_error\n",
    "\n",
    "\n",
    "import category_encoders as ce\n",
    "\n",
    "from sklearn.ensemble import IsolationForest\n",
    "from sklearn.neighbors import LocalOutlierFactor\n",
    "\n",
    "\n",
    "import xgboost\n",
    "from sklearn import preprocessing\n",
    "from sklearn.model_selection import cross_val_score\n",
    "from sklearn.model_selection import RepeatedKFold\n",
    "from xgboost import XGBRegressor\n",
    "from sklearn.ensemble import RandomForestRegressor\n",
    "from sklearn.tree import DecisionTreeRegressor\n",
    "from sklearn.ensemble import ExtraTreesRegressor, AdaBoostRegressor\n",
    "from sklearn.preprocessing import MinMaxScaler, LabelEncoder\n",
    "from sklearn.model_selection import GridSearchCV, StratifiedKFold, KFold\n",
    "\n",
    "from sklearn.compose import TransformedTargetRegressor"
   ]
  },
  {
   "cell_type": "markdown",
   "metadata": {
    "id": "0V_n-fnY8Gym"
   },
   "source": [
    "### Import drive, dataset, helper functions"
   ]
  },
  {
   "cell_type": "code",
   "execution_count": 18,
   "metadata": {},
   "outputs": [],
   "source": [
    "import configparser\n",
    "import os\n",
    "from pathlib import Path\n",
    "\n",
    "path_to_AI_ML_folder = Path(os.getcwd()).parents[1]\n",
    "#Read config.ini file\n",
    "config_obj = configparser.ConfigParser()\n",
    "config_obj.read(str(path_to_AI_ML_folder)+\"\\configfile.ini\")\n",
    "regression_paths = config_obj[\"regression_paths\"]"
   ]
  },
  {
   "cell_type": "code",
   "execution_count": 19,
   "metadata": {},
   "outputs": [
    {
     "name": "stdout",
     "output_type": "stream",
     "text": [
      "c:\\Users\\rayst\\OneDrive - AFour Technologies Pvt. Ltd\\From G Suite Drive\\Data Analytics\\AI ML\\Regression\\Car price prediction\\car_prices.csv.zip\n"
     ]
    }
   ],
   "source": [
    "print(regression_paths[\"car_price_dataset_path\"])"
   ]
  },
  {
   "cell_type": "code",
   "execution_count": 20,
   "metadata": {},
   "outputs": [],
   "source": [
    "import zipfile\n",
    "import os\n",
    "directory_to_extract_to=os.getcwd()\n",
    "path_to_zip_file = regression_paths[\"car_price_dataset_path\"]\n",
    "with zipfile.ZipFile(path_to_zip_file, 'r') as zip_ref:\n",
    "    zip_ref.extractall(directory_to_extract_to)"
   ]
  },
  {
   "cell_type": "code",
   "execution_count": 4,
   "metadata": {
    "colab": {
     "base_uri": "https://localhost:8080/"
    },
    "executionInfo": {
     "elapsed": 2795,
     "status": "ok",
     "timestamp": 1655273504021,
     "user": {
      "displayName": "Piyush Agarwal",
      "userId": "06685019812507607970"
     },
     "user_tz": -330
    },
    "id": "n_stNiRW4c3P",
    "outputId": "5acc18b9-14dc-4b75-da30-b917362f8f0c"
   },
   "outputs": [
    {
     "name": "stdout",
     "output_type": "stream",
     "text": [
      "cp: cannot open '/content/drive/MyDrive/Data Analytics/AI ML/Helper_Functions/README.md.gdoc' for reading: Operation not supported\n"
     ]
    }
   ],
   "source": [
    "cp -r /content/drive/MyDrive/\"Data Analytics\"/\"AI ML\"/Helper_Functions /content"
   ]
  },
  {
   "cell_type": "code",
   "execution_count": 28,
   "metadata": {
    "executionInfo": {
     "elapsed": 1497,
     "status": "ok",
     "timestamp": 1655273505499,
     "user": {
      "displayName": "Piyush Agarwal",
      "userId": "06685019812507607970"
     },
     "user_tz": -330
    },
    "id": "Txsfz9O551ZF"
   },
   "outputs": [
    {
     "ename": "ImportError",
     "evalue": "attempted relative import with no known parent package",
     "output_type": "error",
     "traceback": [
      "\u001b[1;31m---------------------------------------------------------------------------\u001b[0m",
      "\u001b[1;31mImportError\u001b[0m                               Traceback (most recent call last)",
      "Input \u001b[1;32mIn [28]\u001b[0m, in \u001b[0;36m<cell line: 1>\u001b[1;34m()\u001b[0m\n\u001b[1;32m----> 1\u001b[0m \u001b[38;5;28;01mfrom\u001b[39;00m \u001b[38;5;21;01m.\u001b[39;00m\u001b[38;5;21;01m.\u001b[39;00m\u001b[38;5;21;01m.\u001b[39;00m\u001b[38;5;21;01mHelper_Functions\u001b[39;00m \u001b[38;5;28;01mimport\u001b[39;00m common_utils\n",
      "\u001b[1;31mImportError\u001b[0m: attempted relative import with no known parent package"
     ]
    }
   ],
   "source": [
    "from Helper_Functions import common_utils"
   ]
  },
  {
   "cell_type": "markdown",
   "metadata": {
    "id": "Dkt5cV0CeNtF"
   },
   "source": [
    "### Read dataset"
   ]
  },
  {
   "cell_type": "code",
   "execution_count": 6,
   "metadata": {
    "colab": {
     "base_uri": "https://localhost:8080/",
     "height": 0
    },
    "executionInfo": {
     "elapsed": 1499,
     "status": "ok",
     "timestamp": 1655273506982,
     "user": {
      "displayName": "Piyush Agarwal",
      "userId": "06685019812507607970"
     },
     "user_tz": -330
    },
    "id": "kdYdzyJneTcG",
    "outputId": "8996b155-b654-442d-bbeb-bb2a3958afc7"
   },
   "outputs": [
    {
     "data": {
      "text/html": [
       "\n",
       "  <div id=\"df-9391a8e1-3405-4392-8ca2-ffdf276c37a8\">\n",
       "    <div class=\"colab-df-container\">\n",
       "      <div>\n",
       "<style scoped>\n",
       "    .dataframe tbody tr th:only-of-type {\n",
       "        vertical-align: middle;\n",
       "    }\n",
       "\n",
       "    .dataframe tbody tr th {\n",
       "        vertical-align: top;\n",
       "    }\n",
       "\n",
       "    .dataframe thead th {\n",
       "        text-align: right;\n",
       "    }\n",
       "</style>\n",
       "<table border=\"1\" class=\"dataframe\">\n",
       "  <thead>\n",
       "    <tr style=\"text-align: right;\">\n",
       "      <th></th>\n",
       "      <th>year</th>\n",
       "      <th>make</th>\n",
       "      <th>model</th>\n",
       "      <th>trim</th>\n",
       "      <th>body</th>\n",
       "      <th>transmission</th>\n",
       "      <th>vin</th>\n",
       "      <th>state</th>\n",
       "      <th>condition</th>\n",
       "      <th>odometer</th>\n",
       "      <th>color</th>\n",
       "      <th>interior</th>\n",
       "      <th>seller</th>\n",
       "      <th>mmr</th>\n",
       "      <th>sellingprice</th>\n",
       "      <th>saledate</th>\n",
       "    </tr>\n",
       "  </thead>\n",
       "  <tbody>\n",
       "    <tr>\n",
       "      <th>0</th>\n",
       "      <td>2015</td>\n",
       "      <td>Kia</td>\n",
       "      <td>Sorento</td>\n",
       "      <td>LX</td>\n",
       "      <td>SUV</td>\n",
       "      <td>automatic</td>\n",
       "      <td>5xyktca69fg566472</td>\n",
       "      <td>ca</td>\n",
       "      <td>5.0</td>\n",
       "      <td>16639.0</td>\n",
       "      <td>white</td>\n",
       "      <td>black</td>\n",
       "      <td>kia motors america, inc</td>\n",
       "      <td>20500</td>\n",
       "      <td>21500</td>\n",
       "      <td>Tue Dec 16 2014 12:30:00 GMT-0800 (PST)</td>\n",
       "    </tr>\n",
       "    <tr>\n",
       "      <th>1</th>\n",
       "      <td>2015</td>\n",
       "      <td>Kia</td>\n",
       "      <td>Sorento</td>\n",
       "      <td>LX</td>\n",
       "      <td>SUV</td>\n",
       "      <td>automatic</td>\n",
       "      <td>5xyktca69fg561319</td>\n",
       "      <td>ca</td>\n",
       "      <td>5.0</td>\n",
       "      <td>9393.0</td>\n",
       "      <td>white</td>\n",
       "      <td>beige</td>\n",
       "      <td>kia motors america, inc</td>\n",
       "      <td>20800</td>\n",
       "      <td>21500</td>\n",
       "      <td>Tue Dec 16 2014 12:30:00 GMT-0800 (PST)</td>\n",
       "    </tr>\n",
       "    <tr>\n",
       "      <th>2</th>\n",
       "      <td>2014</td>\n",
       "      <td>BMW</td>\n",
       "      <td>3 Series</td>\n",
       "      <td>328i SULEV</td>\n",
       "      <td>Sedan</td>\n",
       "      <td>automatic</td>\n",
       "      <td>wba3c1c51ek116351</td>\n",
       "      <td>ca</td>\n",
       "      <td>4.5</td>\n",
       "      <td>1331.0</td>\n",
       "      <td>gray</td>\n",
       "      <td>black</td>\n",
       "      <td>financial services remarketing (lease)</td>\n",
       "      <td>31900</td>\n",
       "      <td>30000</td>\n",
       "      <td>Thu Jan 15 2015 04:30:00 GMT-0800 (PST)</td>\n",
       "    </tr>\n",
       "    <tr>\n",
       "      <th>3</th>\n",
       "      <td>2015</td>\n",
       "      <td>Volvo</td>\n",
       "      <td>S60</td>\n",
       "      <td>T5</td>\n",
       "      <td>Sedan</td>\n",
       "      <td>automatic</td>\n",
       "      <td>yv1612tb4f1310987</td>\n",
       "      <td>ca</td>\n",
       "      <td>4.1</td>\n",
       "      <td>14282.0</td>\n",
       "      <td>white</td>\n",
       "      <td>black</td>\n",
       "      <td>volvo na rep/world omni</td>\n",
       "      <td>27500</td>\n",
       "      <td>27750</td>\n",
       "      <td>Thu Jan 29 2015 04:30:00 GMT-0800 (PST)</td>\n",
       "    </tr>\n",
       "    <tr>\n",
       "      <th>4</th>\n",
       "      <td>2014</td>\n",
       "      <td>BMW</td>\n",
       "      <td>6 Series Gran Coupe</td>\n",
       "      <td>650i</td>\n",
       "      <td>Sedan</td>\n",
       "      <td>automatic</td>\n",
       "      <td>wba6b2c57ed129731</td>\n",
       "      <td>ca</td>\n",
       "      <td>4.3</td>\n",
       "      <td>2641.0</td>\n",
       "      <td>gray</td>\n",
       "      <td>black</td>\n",
       "      <td>financial services remarketing (lease)</td>\n",
       "      <td>66000</td>\n",
       "      <td>67000</td>\n",
       "      <td>Thu Dec 18 2014 12:30:00 GMT-0800 (PST)</td>\n",
       "    </tr>\n",
       "  </tbody>\n",
       "</table>\n",
       "</div>\n",
       "      <button class=\"colab-df-convert\" onclick=\"convertToInteractive('df-9391a8e1-3405-4392-8ca2-ffdf276c37a8')\"\n",
       "              title=\"Convert this dataframe to an interactive table.\"\n",
       "              style=\"display:none;\">\n",
       "        \n",
       "  <svg xmlns=\"http://www.w3.org/2000/svg\" height=\"24px\"viewBox=\"0 0 24 24\"\n",
       "       width=\"24px\">\n",
       "    <path d=\"M0 0h24v24H0V0z\" fill=\"none\"/>\n",
       "    <path d=\"M18.56 5.44l.94 2.06.94-2.06 2.06-.94-2.06-.94-.94-2.06-.94 2.06-2.06.94zm-11 1L8.5 8.5l.94-2.06 2.06-.94-2.06-.94L8.5 2.5l-.94 2.06-2.06.94zm10 10l.94 2.06.94-2.06 2.06-.94-2.06-.94-.94-2.06-.94 2.06-2.06.94z\"/><path d=\"M17.41 7.96l-1.37-1.37c-.4-.4-.92-.59-1.43-.59-.52 0-1.04.2-1.43.59L10.3 9.45l-7.72 7.72c-.78.78-.78 2.05 0 2.83L4 21.41c.39.39.9.59 1.41.59.51 0 1.02-.2 1.41-.59l7.78-7.78 2.81-2.81c.8-.78.8-2.07 0-2.86zM5.41 20L4 18.59l7.72-7.72 1.47 1.35L5.41 20z\"/>\n",
       "  </svg>\n",
       "      </button>\n",
       "      \n",
       "  <style>\n",
       "    .colab-df-container {\n",
       "      display:flex;\n",
       "      flex-wrap:wrap;\n",
       "      gap: 12px;\n",
       "    }\n",
       "\n",
       "    .colab-df-convert {\n",
       "      background-color: #E8F0FE;\n",
       "      border: none;\n",
       "      border-radius: 50%;\n",
       "      cursor: pointer;\n",
       "      display: none;\n",
       "      fill: #1967D2;\n",
       "      height: 32px;\n",
       "      padding: 0 0 0 0;\n",
       "      width: 32px;\n",
       "    }\n",
       "\n",
       "    .colab-df-convert:hover {\n",
       "      background-color: #E2EBFA;\n",
       "      box-shadow: 0px 1px 2px rgba(60, 64, 67, 0.3), 0px 1px 3px 1px rgba(60, 64, 67, 0.15);\n",
       "      fill: #174EA6;\n",
       "    }\n",
       "\n",
       "    [theme=dark] .colab-df-convert {\n",
       "      background-color: #3B4455;\n",
       "      fill: #D2E3FC;\n",
       "    }\n",
       "\n",
       "    [theme=dark] .colab-df-convert:hover {\n",
       "      background-color: #434B5C;\n",
       "      box-shadow: 0px 1px 3px 1px rgba(0, 0, 0, 0.15);\n",
       "      filter: drop-shadow(0px 1px 2px rgba(0, 0, 0, 0.3));\n",
       "      fill: #FFFFFF;\n",
       "    }\n",
       "  </style>\n",
       "\n",
       "      <script>\n",
       "        const buttonEl =\n",
       "          document.querySelector('#df-9391a8e1-3405-4392-8ca2-ffdf276c37a8 button.colab-df-convert');\n",
       "        buttonEl.style.display =\n",
       "          google.colab.kernel.accessAllowed ? 'block' : 'none';\n",
       "\n",
       "        async function convertToInteractive(key) {\n",
       "          const element = document.querySelector('#df-9391a8e1-3405-4392-8ca2-ffdf276c37a8');\n",
       "          const dataTable =\n",
       "            await google.colab.kernel.invokeFunction('convertToInteractive',\n",
       "                                                     [key], {});\n",
       "          if (!dataTable) return;\n",
       "\n",
       "          const docLinkHtml = 'Like what you see? Visit the ' +\n",
       "            '<a target=\"_blank\" href=https://colab.research.google.com/notebooks/data_table.ipynb>data table notebook</a>'\n",
       "            + ' to learn more about interactive tables.';\n",
       "          element.innerHTML = '';\n",
       "          dataTable['output_type'] = 'display_data';\n",
       "          await google.colab.output.renderOutput(dataTable, element);\n",
       "          const docLink = document.createElement('div');\n",
       "          docLink.innerHTML = docLinkHtml;\n",
       "          element.appendChild(docLink);\n",
       "        }\n",
       "      </script>\n",
       "    </div>\n",
       "  </div>\n",
       "  "
      ],
      "text/plain": [
       "   year   make                model        trim   body transmission  \\\n",
       "0  2015    Kia              Sorento          LX    SUV    automatic   \n",
       "1  2015    Kia              Sorento          LX    SUV    automatic   \n",
       "2  2014    BMW             3 Series  328i SULEV  Sedan    automatic   \n",
       "3  2015  Volvo                  S60          T5  Sedan    automatic   \n",
       "4  2014    BMW  6 Series Gran Coupe        650i  Sedan    automatic   \n",
       "\n",
       "                 vin state  condition  odometer  color interior  \\\n",
       "0  5xyktca69fg566472    ca        5.0   16639.0  white    black   \n",
       "1  5xyktca69fg561319    ca        5.0    9393.0  white    beige   \n",
       "2  wba3c1c51ek116351    ca        4.5    1331.0   gray    black   \n",
       "3  yv1612tb4f1310987    ca        4.1   14282.0  white    black   \n",
       "4  wba6b2c57ed129731    ca        4.3    2641.0   gray    black   \n",
       "\n",
       "                                   seller    mmr  sellingprice  \\\n",
       "0                 kia motors america, inc  20500         21500   \n",
       "1                 kia motors america, inc  20800         21500   \n",
       "2  financial services remarketing (lease)  31900         30000   \n",
       "3                 volvo na rep/world omni  27500         27750   \n",
       "4  financial services remarketing (lease)  66000         67000   \n",
       "\n",
       "                                  saledate  \n",
       "0  Tue Dec 16 2014 12:30:00 GMT-0800 (PST)  \n",
       "1  Tue Dec 16 2014 12:30:00 GMT-0800 (PST)  \n",
       "2  Thu Jan 15 2015 04:30:00 GMT-0800 (PST)  \n",
       "3  Thu Jan 29 2015 04:30:00 GMT-0800 (PST)  \n",
       "4  Thu Dec 18 2014 12:30:00 GMT-0800 (PST)  "
      ]
     },
     "execution_count": 6,
     "metadata": {},
     "output_type": "execute_result"
    }
   ],
   "source": [
    "df = pd.read_csv(\"car_prices.csv\", on_bad_lines='skip')\n",
    "df.head()"
   ]
  },
  {
   "cell_type": "code",
   "execution_count": 7,
   "metadata": {
    "colab": {
     "base_uri": "https://localhost:8080/"
    },
    "executionInfo": {
     "elapsed": 55,
     "status": "ok",
     "timestamp": 1655273506986,
     "user": {
      "displayName": "Piyush Agarwal",
      "userId": "06685019812507607970"
     },
     "user_tz": -330
    },
    "id": "jeYcRAZt8wV6",
    "outputId": "87fac227-d666-4b5f-cf21-34a3f92773ac"
   },
   "outputs": [
    {
     "name": "stdout",
     "output_type": "stream",
     "text": [
      "====================================================================================================\n",
      "Head:\n",
      "   year   make                model        trim   body transmission  \\\n",
      "0  2015    Kia              Sorento          LX    SUV    automatic   \n",
      "1  2015    Kia              Sorento          LX    SUV    automatic   \n",
      "2  2014    BMW             3 Series  328i SULEV  Sedan    automatic   \n",
      "3  2015  Volvo                  S60          T5  Sedan    automatic   \n",
      "4  2014    BMW  6 Series Gran Coupe        650i  Sedan    automatic   \n",
      "\n",
      "                 vin state  condition  odometer  color interior  \\\n",
      "0  5xyktca69fg566472    ca        5.0   16639.0  white    black   \n",
      "1  5xyktca69fg561319    ca        5.0    9393.0  white    beige   \n",
      "2  wba3c1c51ek116351    ca        4.5    1331.0   gray    black   \n",
      "3  yv1612tb4f1310987    ca        4.1   14282.0  white    black   \n",
      "4  wba6b2c57ed129731    ca        4.3    2641.0   gray    black   \n",
      "\n",
      "                                   seller    mmr  sellingprice  \\\n",
      "0                 kia motors america, inc  20500         21500   \n",
      "1                 kia motors america, inc  20800         21500   \n",
      "2  financial services remarketing (lease)  31900         30000   \n",
      "3                 volvo na rep/world omni  27500         27750   \n",
      "4  financial services remarketing (lease)  66000         67000   \n",
      "\n",
      "                                  saledate  \n",
      "0  Tue Dec 16 2014 12:30:00 GMT-0800 (PST)  \n",
      "1  Tue Dec 16 2014 12:30:00 GMT-0800 (PST)  \n",
      "2  Thu Jan 15 2015 04:30:00 GMT-0800 (PST)  \n",
      "3  Thu Jan 29 2015 04:30:00 GMT-0800 (PST)  \n",
      "4  Thu Dec 18 2014 12:30:00 GMT-0800 (PST)  \n",
      "====================================================================================================\n",
      "Shape: (558811, 16)\n",
      "====================================================================================================\n"
     ]
    }
   ],
   "source": [
    "common_utils.get_dataset_info(df)"
   ]
  },
  {
   "cell_type": "code",
   "execution_count": 8,
   "metadata": {
    "executionInfo": {
     "elapsed": 53,
     "status": "ok",
     "timestamp": 1655273506991,
     "user": {
      "displayName": "Piyush Agarwal",
      "userId": "06685019812507607970"
     },
     "user_tz": -330
    },
    "id": "yPGSO2zDY894"
   },
   "outputs": [],
   "source": [
    "# Delete columns : 'vin'\n",
    "# We are dropping this column, because it just contains ID for the car, and has no importance in predictions\n",
    "df = df.drop(columns = ['vin'])"
   ]
  },
  {
   "cell_type": "markdown",
   "metadata": {
    "id": "HhycGvcQA1c1"
   },
   "source": [
    "### **Data Insights**"
   ]
  },
  {
   "cell_type": "markdown",
   "metadata": {
    "id": "vH4q9oWLFlZT"
   },
   "source": [
    "#### Extracting Categorical and Numerical columns from data"
   ]
  },
  {
   "cell_type": "code",
   "execution_count": 20,
   "metadata": {
    "executionInfo": {
     "elapsed": 18,
     "status": "ok",
     "timestamp": 1655273509199,
     "user": {
      "displayName": "Piyush Agarwal",
      "userId": "06685019812507607970"
     },
     "user_tz": -330
    },
    "id": "OVJNzBwcdi0T"
   },
   "outputs": [],
   "source": [
    "categorical_columns = []\n",
    "numerical_columns = []\n",
    "\n",
    "for x in df.columns:\n",
    "  if df[x].dtypes == 'O':\n",
    "    categorical_columns.append(x)\n",
    "  else:\n",
    "    if df[x].nunique()>20:\n",
    "      numerical_columns.append(x)"
   ]
  },
  {
   "cell_type": "code",
   "execution_count": 21,
   "metadata": {
    "colab": {
     "base_uri": "https://localhost:8080/"
    },
    "executionInfo": {
     "elapsed": 17,
     "status": "ok",
     "timestamp": 1655273509200,
     "user": {
      "displayName": "Piyush Agarwal",
      "userId": "06685019812507607970"
     },
     "user_tz": -330
    },
    "id": "0Ue4_sEp7MIp",
    "outputId": "14d57916-6194-47b1-aecf-db21ba1add71"
   },
   "outputs": [
    {
     "data": {
      "text/plain": [
       "['make',\n",
       " 'model',\n",
       " 'trim',\n",
       " 'body',\n",
       " 'transmission',\n",
       " 'state',\n",
       " 'color',\n",
       " 'interior',\n",
       " 'seller',\n",
       " 'saledate']"
      ]
     },
     "execution_count": 21,
     "metadata": {},
     "output_type": "execute_result"
    }
   ],
   "source": [
    "categorical_columns"
   ]
  },
  {
   "cell_type": "code",
   "execution_count": 22,
   "metadata": {
    "colab": {
     "base_uri": "https://localhost:8080/"
    },
    "executionInfo": {
     "elapsed": 16,
     "status": "ok",
     "timestamp": 1655273509202,
     "user": {
      "displayName": "Piyush Agarwal",
      "userId": "06685019812507607970"
     },
     "user_tz": -330
    },
    "id": "BC_C94dE7Pyg",
    "outputId": "e7e9608c-7ca6-4a8c-ddb8-2b26576577c7"
   },
   "outputs": [
    {
     "data": {
      "text/plain": [
       "['year', 'condition', 'odometer', 'mmr', 'sellingprice']"
      ]
     },
     "execution_count": 22,
     "metadata": {},
     "output_type": "execute_result"
    }
   ],
   "source": [
    "numerical_columns"
   ]
  },
  {
   "cell_type": "markdown",
   "metadata": {
    "id": "4qUbc2Rmaw8I"
   },
   "source": [
    "#### Value counts in categorical columns\n",
    "\n",
    "To get a trend of different categories in categorical columns"
   ]
  },
  {
   "cell_type": "code",
   "execution_count": 9,
   "metadata": {
    "colab": {
     "base_uri": "https://localhost:8080/"
    },
    "executionInfo": {
     "elapsed": 894,
     "status": "ok",
     "timestamp": 1655273507836,
     "user": {
      "displayName": "Piyush Agarwal",
      "userId": "06685019812507607970"
     },
     "user_tz": -330
    },
    "id": "cRRGMCt7zjGq",
    "outputId": "c6a8ec57-e6e6-4fc8-e861-a4730b308e34"
   },
   "outputs": [
    {
     "data": {
      "text/plain": [
       "Ford          93554\n",
       "Chevrolet     60197\n",
       "Nissan        53946\n",
       "Toyota        39871\n",
       "Dodge         30710\n",
       "              ...  \n",
       "airstream         1\n",
       "ford tk           1\n",
       "chev truck        1\n",
       "hyundai tk        1\n",
       "Lotus             1\n",
       "Name: make, Length: 96, dtype: int64"
      ]
     },
     "execution_count": 9,
     "metadata": {},
     "output_type": "execute_result"
    }
   ],
   "source": [
    "df['make'].value_counts()"
   ]
  },
  {
   "cell_type": "code",
   "execution_count": 10,
   "metadata": {
    "colab": {
     "base_uri": "https://localhost:8080/"
    },
    "executionInfo": {
     "elapsed": 37,
     "status": "ok",
     "timestamp": 1655273507838,
     "user": {
      "displayName": "Piyush Agarwal",
      "userId": "06685019812507607970"
     },
     "user_tz": -330
    },
    "id": "zJYK4J_eAdBt",
    "outputId": "e3929984-240d-403b-905f-3a0393ded4de"
   },
   "outputs": [
    {
     "data": {
      "text/plain": [
       "Altima        19349\n",
       "F-150         14479\n",
       "Fusion        12946\n",
       "Camry         12545\n",
       "Escape        11861\n",
       "              ...  \n",
       "rrs               1\n",
       "golf              1\n",
       "g500              1\n",
       "tahoe             1\n",
       "458 Italia        1\n",
       "Name: model, Length: 973, dtype: int64"
      ]
     },
     "execution_count": 10,
     "metadata": {},
     "output_type": "execute_result"
    }
   ],
   "source": [
    "df['model'].value_counts()"
   ]
  },
  {
   "cell_type": "code",
   "execution_count": 11,
   "metadata": {
    "colab": {
     "base_uri": "https://localhost:8080/"
    },
    "executionInfo": {
     "elapsed": 35,
     "status": "ok",
     "timestamp": 1655273507839,
     "user": {
      "displayName": "Piyush Agarwal",
      "userId": "06685019812507607970"
     },
     "user_tz": -330
    },
    "id": "2rIgCK-JAhMO",
    "outputId": "7996d7ae-c3e4-453b-a615-9d10dbe3f29c"
   },
   "outputs": [
    {
     "data": {
      "text/plain": [
       "Base                 55817\n",
       "SE                   43648\n",
       "LX                   20757\n",
       "Limited              18356\n",
       "LT                   16915\n",
       "                     ...  \n",
       "xls                      1\n",
       "4x2 reg silverado        1\n",
       "awd v8 limited           1\n",
       "4x2 v6 limited           1\n",
       "Power Wagon              1\n",
       "Name: trim, Length: 1975, dtype: int64"
      ]
     },
     "execution_count": 11,
     "metadata": {},
     "output_type": "execute_result"
    }
   ],
   "source": [
    "df['trim'].value_counts()"
   ]
  },
  {
   "cell_type": "code",
   "execution_count": 12,
   "metadata": {
    "colab": {
     "base_uri": "https://localhost:8080/"
    },
    "executionInfo": {
     "elapsed": 35,
     "status": "ok",
     "timestamp": 1655273507842,
     "user": {
      "displayName": "Piyush Agarwal",
      "userId": "06685019812507607970"
     },
     "user_tz": -330
    },
    "id": "zxHA9-LiAn6_",
    "outputId": "6b016872-68f1-40db-fdc1-4f05754a177a"
   },
   "outputs": [
    {
     "data": {
      "text/plain": [
       "Sedan          199437\n",
       "SUV            119292\n",
       "sedan           41906\n",
       "suv             24552\n",
       "Hatchback       21380\n",
       "                ...  \n",
       "g37 coupe           1\n",
       "cab plus 4          1\n",
       "CTS-V Wagon         1\n",
       "Ram Van             1\n",
       "cts wagon           1\n",
       "Name: body, Length: 86, dtype: int64"
      ]
     },
     "execution_count": 12,
     "metadata": {},
     "output_type": "execute_result"
    }
   ],
   "source": [
    "df['body'].value_counts()"
   ]
  },
  {
   "cell_type": "code",
   "execution_count": 13,
   "metadata": {
    "colab": {
     "base_uri": "https://localhost:8080/"
    },
    "executionInfo": {
     "elapsed": 33,
     "status": "ok",
     "timestamp": 1655273507843,
     "user": {
      "displayName": "Piyush Agarwal",
      "userId": "06685019812507607970"
     },
     "user_tz": -330
    },
    "id": "SIZXVkSkAqIR",
    "outputId": "6bbfb32a-4e9d-410f-886c-4afb3305908a"
   },
   "outputs": [
    {
     "data": {
      "text/plain": [
       "automatic    475914\n",
       "manual        17544\n",
       "Name: transmission, dtype: int64"
      ]
     },
     "execution_count": 13,
     "metadata": {},
     "output_type": "execute_result"
    }
   ],
   "source": [
    "df['transmission'].value_counts()"
   ]
  },
  {
   "cell_type": "code",
   "execution_count": 14,
   "metadata": {
    "colab": {
     "base_uri": "https://localhost:8080/"
    },
    "executionInfo": {
     "elapsed": 32,
     "status": "ok",
     "timestamp": 1655273507847,
     "user": {
      "displayName": "Piyush Agarwal",
      "userId": "06685019812507607970"
     },
     "user_tz": -330
    },
    "id": "fS4iY8TnAvqr",
    "outputId": "1dd275d0-7ab8-408b-e056-3fbf1b4181bc"
   },
   "outputs": [
    {
     "data": {
      "text/plain": [
       "fl    82945\n",
       "ca    73148\n",
       "pa    53907\n",
       "tx    45913\n",
       "ga    34750\n",
       "nj    27784\n",
       "il    23486\n",
       "nc    21845\n",
       "oh    21575\n",
       "tn    20895\n",
       "mo    16013\n",
       "mi    15511\n",
       "nv    12685\n",
       "va    12027\n",
       "md    11158\n",
       "wi     9851\n",
       "mn     9429\n",
       "az     8741\n",
       "co     7775\n",
       "wa     7416\n",
       "ma     6729\n",
       "ny     5699\n",
       "in     4325\n",
       "sc     4251\n",
       "ne     4013\n",
       "on     3442\n",
       "pr     2725\n",
       "la     2191\n",
       "ms     1851\n",
       "ut     1836\n",
       "qc     1245\n",
       "hi     1237\n",
       "or     1155\n",
       "ab      928\n",
       "nm      171\n",
       "ok       72\n",
       "ns       61\n",
       "al       26\n",
       "Name: state, dtype: int64"
      ]
     },
     "execution_count": 14,
     "metadata": {},
     "output_type": "execute_result"
    }
   ],
   "source": [
    "df['state'].value_counts()"
   ]
  },
  {
   "cell_type": "code",
   "execution_count": 15,
   "metadata": {
    "colab": {
     "base_uri": "https://localhost:8080/"
    },
    "executionInfo": {
     "elapsed": 31,
     "status": "ok",
     "timestamp": 1655273507849,
     "user": {
      "displayName": "Piyush Agarwal",
      "userId": "06685019812507607970"
     },
     "user_tz": -330
    },
    "id": "JBpMcho2AyxE",
    "outputId": "0fec23ae-6cd2-4bd4-9d2a-34e1b33d0cc6"
   },
   "outputs": [
    {
     "data": {
      "text/plain": [
       "black        110970\n",
       "white        106673\n",
       "silver        83389\n",
       "gray          82857\n",
       "blue          51139\n",
       "red           43569\n",
       "—             24685\n",
       "green         11382\n",
       "gold          11342\n",
       "beige          9222\n",
       "burgundy       8972\n",
       "brown          6717\n",
       "orange         2078\n",
       "purple         1561\n",
       "off-white      1449\n",
       "yellow         1285\n",
       "charcoal        479\n",
       "turquoise       236\n",
       "pink             42\n",
       "lime             15\n",
       "Name: color, dtype: int64"
      ]
     },
     "execution_count": 15,
     "metadata": {},
     "output_type": "execute_result"
    }
   ],
   "source": [
    "df['color'].value_counts()"
   ]
  },
  {
   "cell_type": "code",
   "execution_count": 16,
   "metadata": {
    "colab": {
     "base_uri": "https://localhost:8080/"
    },
    "executionInfo": {
     "elapsed": 30,
     "status": "ok",
     "timestamp": 1655273507851,
     "user": {
      "displayName": "Piyush Agarwal",
      "userId": "06685019812507607970"
     },
     "user_tz": -330
    },
    "id": "IBthDT7EErsI",
    "outputId": "acffd4af-3ec1-41b7-8464-976d2af38f08"
   },
   "outputs": [
    {
     "data": {
      "text/plain": [
       "black        244325\n",
       "gray         178578\n",
       "beige         59758\n",
       "tan           44093\n",
       "—             17076\n",
       "brown          8640\n",
       "red            1359\n",
       "blue           1138\n",
       "silver         1099\n",
       "off-white       480\n",
       "purple          339\n",
       "gold            324\n",
       "white           252\n",
       "green           245\n",
       "burgundy        191\n",
       "orange          145\n",
       "yellow           20\n",
       "Name: interior, dtype: int64"
      ]
     },
     "execution_count": 16,
     "metadata": {},
     "output_type": "execute_result"
    }
   ],
   "source": [
    "df['interior'].value_counts()"
   ]
  },
  {
   "cell_type": "code",
   "execution_count": 17,
   "metadata": {
    "colab": {
     "base_uri": "https://localhost:8080/"
    },
    "executionInfo": {
     "elapsed": 439,
     "status": "ok",
     "timestamp": 1655273508263,
     "user": {
      "displayName": "Piyush Agarwal",
      "userId": "06685019812507607970"
     },
     "user_tz": -330
    },
    "id": "MhjmPq6gEz4X",
    "outputId": "0bac6d0a-9150-4c87-eb9a-6ac8c4c14f1b"
   },
   "outputs": [
    {
     "data": {
      "text/plain": [
       "nissan-infiniti lt                  19693\n",
       "ford motor credit company,llc       19162\n",
       "the hertz corporation               18299\n",
       "santander consumer                  15285\n",
       "avis corporation                    12540\n",
       "                                    ...  \n",
       "financeco of kansas                     1\n",
       "r t m motors                            1\n",
       "navigant credit union                   1\n",
       "columbus preowned auto sales llc        1\n",
       "i -5 uhlmann rv                         1\n",
       "Name: seller, Length: 14264, dtype: int64"
      ]
     },
     "execution_count": 17,
     "metadata": {},
     "output_type": "execute_result"
    }
   ],
   "source": [
    "df['seller'].value_counts()"
   ]
  },
  {
   "cell_type": "code",
   "execution_count": 18,
   "metadata": {
    "colab": {
     "base_uri": "https://localhost:8080/"
    },
    "executionInfo": {
     "elapsed": 5,
     "status": "ok",
     "timestamp": 1655273508264,
     "user": {
      "displayName": "Piyush Agarwal",
      "userId": "06685019812507607970"
     },
     "user_tz": -330
    },
    "id": "igNNlXx2E7X4",
    "outputId": "1c2a478b-bf6f-4716-9cd3-4a12f2da454a"
   },
   "outputs": [
    {
     "data": {
      "text/plain": [
       "Tue Feb 10 2015 01:30:00 GMT-0800 (PST)    5334\n",
       "Tue Feb 17 2015 01:30:00 GMT-0800 (PST)    5016\n",
       "Tue Jan 27 2015 01:30:00 GMT-0800 (PST)    4902\n",
       "Tue Jan 20 2015 01:30:00 GMT-0800 (PST)    4731\n",
       "Tue Mar 03 2015 01:30:00 GMT-0800 (PST)    4653\n",
       "                                           ... \n",
       "Wed Apr 15 2015 08:05:00 GMT-0700 (PDT)       1\n",
       "Wed May 13 2015 05:05:00 GMT-0700 (PDT)       1\n",
       "Tue Feb 24 2015 11:20:00 GMT-0800 (PST)       1\n",
       "Fri Jul 03 2015 06:35:00 GMT-0700 (PDT)       1\n",
       "Wed Jul 08 2015 09:45:00 GMT-0700 (PDT)       1\n",
       "Name: saledate, Length: 3745, dtype: int64"
      ]
     },
     "execution_count": 18,
     "metadata": {},
     "output_type": "execute_result"
    }
   ],
   "source": [
    "df['saledate'].value_counts()"
   ]
  },
  {
   "cell_type": "markdown",
   "metadata": {
    "id": "cTCE9o0yFRgV"
   },
   "source": [
    "#### Boxplots for numerical columns\n",
    "\n",
    "To see a trend of outliers in numerical columns"
   ]
  },
  {
   "cell_type": "code",
   "execution_count": 23,
   "metadata": {
    "colab": {
     "base_uri": "https://localhost:8080/",
     "height": 265
    },
    "executionInfo": {
     "elapsed": 2141,
     "status": "ok",
     "timestamp": 1655273511330,
     "user": {
      "displayName": "Piyush Agarwal",
      "userId": "06685019812507607970"
     },
     "user_tz": -330
    },
    "id": "nruLSCrqFtex",
    "outputId": "b702ab29-44b7-42cf-a1cc-1942af49dc1c"
   },
   "outputs": [
    {
     "data": {
      "image/png": "[encoded data removed]",
      "text/plain": [
       "<Figure size 432x288 with 1 Axes>"
      ]
     },
     "metadata": {
      "needs_background": "light"
     },
     "output_type": "display_data"
    }
   ],
   "source": [
    "common_utils.plot_boxplot(df, ['year'])"
   ]
  },
  {
   "cell_type": "code",
   "execution_count": 24,
   "metadata": {
    "colab": {
     "base_uri": "https://localhost:8080/",
     "height": 265
    },
    "executionInfo": {
     "elapsed": 892,
     "status": "ok",
     "timestamp": 1655273512208,
     "user": {
      "displayName": "Piyush Agarwal",
      "userId": "06685019812507607970"
     },
     "user_tz": -330
    },
    "id": "C02YlPIhGeSA",
    "outputId": "f41f083b-09c4-4dda-aa12-b72bff59e96e"
   },
   "outputs": [
    {
     "data": {
      "image/png": "[encoded data removed]",
      "text/plain": [
       "<Figure size 432x288 with 1 Axes>"
      ]
     },
     "metadata": {
      "needs_background": "light"
     },
     "output_type": "display_data"
    }
   ],
   "source": [
    "common_utils.plot_boxplot(df, ['condition'])"
   ]
  },
  {
   "cell_type": "code",
   "execution_count": 25,
   "metadata": {
    "colab": {
     "base_uri": "https://localhost:8080/",
     "height": 276
    },
    "executionInfo": {
     "elapsed": 1030,
     "status": "ok",
     "timestamp": 1655273513222,
     "user": {
      "displayName": "Piyush Agarwal",
      "userId": "06685019812507607970"
     },
     "user_tz": -330
    },
    "id": "fcc2EeW9Ge2A",
    "outputId": "ff7f7851-dfdd-465f-f5b3-00f95bc7b522"
   },
   "outputs": [
    {
     "data": {
      "image/png": "[encoded data removed]",
      "text/plain": [
       "<Figure size 432x288 with 1 Axes>"
      ]
     },
     "metadata": {
      "needs_background": "light"
     },
     "output_type": "display_data"
    }
   ],
   "source": [
    "common_utils.plot_boxplot(df, ['odometer'])"
   ]
  },
  {
   "cell_type": "code",
   "execution_count": 26,
   "metadata": {
    "colab": {
     "base_uri": "https://localhost:8080/",
     "height": 265
    },
    "executionInfo": {
     "elapsed": 1342,
     "status": "ok",
     "timestamp": 1655273514547,
     "user": {
      "displayName": "Piyush Agarwal",
      "userId": "06685019812507607970"
     },
     "user_tz": -330
    },
    "id": "6ekhCizZGfeb",
    "outputId": "71a33e62-7f56-437c-ec96-47494ee22824"
   },
   "outputs": [
    {
     "data": {
      "image/png": "[encoded data removed]",
      "text/plain": [
       "<Figure size 432x288 with 1 Axes>"
      ]
     },
     "metadata": {
      "needs_background": "light"
     },
     "output_type": "display_data"
    }
   ],
   "source": [
    "common_utils.plot_boxplot(df, ['mmr'])"
   ]
  },
  {
   "cell_type": "code",
   "execution_count": 27,
   "metadata": {
    "colab": {
     "base_uri": "https://localhost:8080/",
     "height": 265
    },
    "executionInfo": {
     "elapsed": 1405,
     "status": "ok",
     "timestamp": 1655273515941,
     "user": {
      "displayName": "Piyush Agarwal",
      "userId": "06685019812507607970"
     },
     "user_tz": -330
    },
    "id": "BQA8sZg1GgQj",
    "outputId": "9adee868-a06a-4070-ae01-5336f548777e"
   },
   "outputs": [
    {
     "data": {
      "image/png": "[encoded data removed]",
      "text/plain": [
       "<Figure size 432x288 with 1 Axes>"
      ]
     },
     "metadata": {
      "needs_background": "light"
     },
     "output_type": "display_data"
    }
   ],
   "source": [
    "common_utils.plot_boxplot(df, ['sellingprice'])"
   ]
  },
  {
   "cell_type": "markdown",
   "metadata": {
    "id": "S7CplCnUa9Rf"
   },
   "source": [
    "#### Missing values in data"
   ]
  },
  {
   "cell_type": "code",
   "execution_count": 19,
   "metadata": {
    "colab": {
     "base_uri": "https://localhost:8080/"
    },
    "executionInfo": {
     "elapsed": 936,
     "status": "ok",
     "timestamp": 1655273509197,
     "user": {
      "displayName": "Piyush Agarwal",
      "userId": "06685019812507607970"
     },
     "user_tz": -330
    },
    "id": "NUA0IaRqOozX",
    "outputId": "7929266f-6aa6-4453-9376-156cf9c90845"
   },
   "outputs": [
    {
     "name": "stdout",
     "output_type": "stream",
     "text": [
      "              count  % null\n",
      "year              0     0.0\n",
      "make          10301     1.8\n",
      "model         10399     1.9\n",
      "trim          10651     1.9\n",
      "body          13195     2.4\n",
      "transmission  65353    11.7\n",
      "state             0     0.0\n",
      "condition     11794     2.1\n",
      "odometer         94     0.0\n",
      "color           749     0.1\n",
      "interior        749     0.1\n",
      "seller            0     0.0\n",
      "mmr               0     0.0\n",
      "sellingprice      0     0.0\n",
      "saledate          0     0.0\n"
     ]
    }
   ],
   "source": [
    "common_utils.get_count_and_percentage_missing_values(df)"
   ]
  },
  {
   "cell_type": "markdown",
   "metadata": {
    "id": "1vuctdJ0TKaF"
   },
   "source": [
    "#### Heatmap\n",
    "Gives the correlation between the target and features"
   ]
  },
  {
   "cell_type": "code",
   "execution_count": 31,
   "metadata": {
    "colab": {
     "base_uri": "https://localhost:8080/",
     "height": 0
    },
    "executionInfo": {
     "elapsed": 629,
     "status": "ok",
     "timestamp": 1655273518555,
     "user": {
      "displayName": "Piyush Agarwal",
      "userId": "06685019812507607970"
     },
     "user_tz": -330
    },
    "id": "Uw-Ux8nq9jlV",
    "outputId": "7d09a435-36c4-43f7-f46a-7090eca19a62"
   },
   "outputs": [
    {
     "name": "stdout",
     "output_type": "stream",
     "text": [
      "                  year  condition  odometer       mmr  sellingprice\n",
      "year          1.000000   0.551282 -0.772720  0.596623      0.586488\n",
      "condition     0.551282   1.000000 -0.538874  0.485050      0.538788\n",
      "odometer     -0.772720  -0.538874  1.000000 -0.588107     -0.582405\n",
      "mmr           0.596623   0.485050 -0.588107  1.000000      0.983634\n",
      "sellingprice  0.586488   0.538788 -0.582405  0.983634      1.000000\n"
     ]
    },
    {
     "data": {
      "image/png": "[encoded data removed]",
      "text/plain": [
       "<Figure size 432x288 with 2 Axes>"
      ]
     },
     "metadata": {
      "needs_background": "light"
     },
     "output_type": "display_data"
    }
   ],
   "source": [
    "common_utils.plot_heatmap(df)"
   ]
  },
  {
   "cell_type": "markdown",
   "metadata": {
    "id": "hLJ4o3Z1F-oK"
   },
   "source": [
    "#### Using select k best feature to get which columns to use"
   ]
  },
  {
   "cell_type": "code",
   "execution_count": 35,
   "metadata": {
    "executionInfo": {
     "elapsed": 576,
     "status": "ok",
     "timestamp": 1655273605225,
     "user": {
      "displayName": "Piyush Agarwal",
      "userId": "06685019812507607970"
     },
     "user_tz": -330
    },
    "id": "QgfMAB4Z_j8o"
   },
   "outputs": [],
   "source": [
    "df_temp = df"
   ]
  },
  {
   "cell_type": "code",
   "execution_count": 39,
   "metadata": {
    "executionInfo": {
     "elapsed": 1206,
     "status": "ok",
     "timestamp": 1655273658319,
     "user": {
      "displayName": "Piyush Agarwal",
      "userId": "06685019812507607970"
     },
     "user_tz": -330
    },
    "id": "yEA8Diti_lhh"
   },
   "outputs": [],
   "source": [
    "df_temp = fill_missing_values(df_temp)"
   ]
  },
  {
   "cell_type": "code",
   "execution_count": 40,
   "metadata": {
    "executionInfo": {
     "elapsed": 11,
     "status": "ok",
     "timestamp": 1655273662759,
     "user": {
      "displayName": "Piyush Agarwal",
      "userId": "06685019812507607970"
     },
     "user_tz": -330
    },
    "id": "qHHHnAO1NR79"
   },
   "outputs": [],
   "source": [
    "x_num = df_temp[['year', 'condition', 'odometer', 'mmr']]\n",
    "y = df_temp['sellingprice']"
   ]
  },
  {
   "cell_type": "code",
   "execution_count": 41,
   "metadata": {
    "colab": {
     "base_uri": "https://localhost:8080/"
    },
    "executionInfo": {
     "elapsed": 416,
     "status": "ok",
     "timestamp": 1655273665396,
     "user": {
      "displayName": "Piyush Agarwal",
      "userId": "06685019812507607970"
     },
     "user_tz": -330
    },
    "id": "kBRejk5vNDNz",
    "outputId": "59a62f74-2477-4b20-864c-f0d0d9506a7e"
   },
   "outputs": [
    {
     "data": {
      "text/plain": [
       "SelectKBest(k=3, score_func=<function f_regression at 0x7f955bf443b0>)"
      ]
     },
     "execution_count": 41,
     "metadata": {},
     "output_type": "execute_result"
    }
   ],
   "source": [
    "from sklearn.feature_selection import SelectKBest, chi2, f_regression\n",
    "selector1 = SelectKBest(score_func = f_regression, k = 3)\n",
    "selector1.fit(x_num, y)"
   ]
  },
  {
   "cell_type": "code",
   "execution_count": 42,
   "metadata": {
    "executionInfo": {
     "elapsed": 1003,
     "status": "ok",
     "timestamp": 1655273670030,
     "user": {
      "displayName": "Piyush Agarwal",
      "userId": "06685019812507607970"
     },
     "user_tz": -330
    },
    "id": "gBDlihsYNIoo"
   },
   "outputs": [],
   "source": [
    "cols = selector1.get_support(indices=True)"
   ]
  },
  {
   "cell_type": "code",
   "execution_count": 43,
   "metadata": {
    "colab": {
     "base_uri": "https://localhost:8080/"
    },
    "executionInfo": {
     "elapsed": 6,
     "status": "ok",
     "timestamp": 1655273671899,
     "user": {
      "displayName": "Piyush Agarwal",
      "userId": "06685019812507607970"
     },
     "user_tz": -330
    },
    "id": "9sdFivVvNr1s",
    "outputId": "05f0fba9-10f5-4b2b-fa77-9de1edb4c119"
   },
   "outputs": [
    {
     "data": {
      "text/plain": [
       "array([0, 2, 3])"
      ]
     },
     "execution_count": 43,
     "metadata": {},
     "output_type": "execute_result"
    }
   ],
   "source": [
    "cols"
   ]
  },
  {
   "cell_type": "markdown",
   "metadata": {
    "id": "EmNIZw0ZOPO_"
   },
   "source": [
    "No need to drop any numeric column"
   ]
  },
  {
   "cell_type": "markdown",
   "metadata": {
    "id": "a0QGU02ue3-W"
   },
   "source": [
    "### **Data preprocessing**\n",
    "Creating functions that can directly be called when making the ML model"
   ]
  },
  {
   "cell_type": "markdown",
   "metadata": {
    "id": "m73SKLBNS1BN"
   },
   "source": [
    "#### Duplicates"
   ]
  },
  {
   "cell_type": "code",
   "execution_count": 28,
   "metadata": {
    "executionInfo": {
     "elapsed": 15,
     "status": "ok",
     "timestamp": 1655273516389,
     "user": {
      "displayName": "Piyush Agarwal",
      "userId": "06685019812507607970"
     },
     "user_tz": -330
    },
    "id": "GZvT4OxZDlJF"
   },
   "outputs": [],
   "source": [
    "def remove_duplicates(df):\n",
    "  return df.drop_duplicates()"
   ]
  },
  {
   "cell_type": "markdown",
   "metadata": {
    "id": "G1nyvYGAS4FX"
   },
   "source": [
    "#### Handle missing and null values"
   ]
  },
  {
   "cell_type": "code",
   "execution_count": 29,
   "metadata": {
    "executionInfo": {
     "elapsed": 14,
     "status": "ok",
     "timestamp": 1655273516391,
     "user": {
      "displayName": "Piyush Agarwal",
      "userId": "06685019812507607970"
     },
     "user_tz": -330
    },
    "id": "Q4zqCR8YXgQh"
   },
   "outputs": [],
   "source": [
    "def fill_missing_values(df):\n",
    "\n",
    "  for x in categorical_columns:\n",
    "   df[x].fillna(df[x].mode()[0],inplace=True)\n",
    "  df['condition'].fillna(df['condition'].mean(),inplace=True)\n",
    "  df = df[df['odometer'].notna()]\n",
    "\n",
    "  return df"
   ]
  },
  {
   "cell_type": "markdown",
   "metadata": {
    "id": "cYYVwZlsPsnz"
   },
   "source": [
    "#### Removing outliers"
   ]
  },
  {
   "cell_type": "code",
   "execution_count": 44,
   "metadata": {
    "executionInfo": {
     "elapsed": 695,
     "status": "ok",
     "timestamp": 1655273683889,
     "user": {
      "displayName": "Piyush Agarwal",
      "userId": "06685019812507607970"
     },
     "user_tz": -330
    },
    "id": "MeowF-nRkV6H"
   },
   "outputs": [],
   "source": [
    "def remove_outlier(df, col_name):\n",
    "  q1 = df[col_name].quantile(0.25)\n",
    "  q3 = df[col_name].quantile(0.75)\n",
    "  iqr = q3-q1 #Interquartile range\n",
    "  fence_low  = q1-1.5*iqr\n",
    "  fence_high = q3+1.5*iqr\n",
    "  df_out = df.loc[(df[col_name] > fence_low) & (df[col_name] < fence_high)]\n",
    "  return df_out"
   ]
  },
  {
   "cell_type": "markdown",
   "metadata": {
    "id": "XGbGEhBqSrFG"
   },
   "source": [
    "#### Binary Encoding"
   ]
  },
  {
   "cell_type": "code",
   "execution_count": 45,
   "metadata": {
    "executionInfo": {
     "elapsed": 6,
     "status": "ok",
     "timestamp": 1655273685472,
     "user": {
      "displayName": "Piyush Agarwal",
      "userId": "06685019812507607970"
     },
     "user_tz": -330
    },
    "id": "Mzy71E-AF8Ok"
   },
   "outputs": [],
   "source": [
    "def apply_encoding(df, columns, be=True):\n",
    "  encoder= ce.BinaryEncoder(cols=columns,return_df=True)\n",
    "  df=encoder.fit_transform(df) \n",
    "  return df"
   ]
  },
  {
   "cell_type": "markdown",
   "metadata": {
    "id": "gO02hkq3dsp-"
   },
   "source": [
    "### Download df as csv"
   ]
  },
  {
   "cell_type": "code",
   "execution_count": 46,
   "metadata": {
    "executionInfo": {
     "elapsed": 919,
     "status": "ok",
     "timestamp": 1655273692845,
     "user": {
      "displayName": "Piyush Agarwal",
      "userId": "06685019812507607970"
     },
     "user_tz": -330
    },
    "id": "1xCwIB_6eG0j"
   },
   "outputs": [],
   "source": [
    "df1 = fill_missing_values(df)"
   ]
  },
  {
   "cell_type": "code",
   "execution_count": 47,
   "metadata": {
    "executionInfo": {
     "elapsed": 3861,
     "status": "ok",
     "timestamp": 1655273696698,
     "user": {
      "displayName": "Piyush Agarwal",
      "userId": "06685019812507607970"
     },
     "user_tz": -330
    },
    "id": "Rm-VAvwDdydG"
   },
   "outputs": [],
   "source": [
    "df1.to_csv('car_prices_pred.csv', index=False)"
   ]
  },
  {
   "cell_type": "markdown",
   "metadata": {
    "id": "35-4MYu2YKBH"
   },
   "source": [
    "### **Random Forest**"
   ]
  },
  {
   "cell_type": "code",
   "execution_count": 48,
   "metadata": {
    "colab": {
     "base_uri": "https://localhost:8080/",
     "height": 513
    },
    "executionInfo": {
     "elapsed": 11038,
     "status": "ok",
     "timestamp": 1655273720769,
     "user": {
      "displayName": "Piyush Agarwal",
      "userId": "06685019812507607970"
     },
     "user_tz": -330
    },
    "id": "yINSyeBXYO0j",
    "outputId": "a4c7da0e-5fa1-41f9-dc6a-9770f8934307"
   },
   "outputs": [
    {
     "name": "stdout",
     "output_type": "stream",
     "text": [
      "              count  % null\n",
      "year              0     0.0\n",
      "make              0     0.0\n",
      "model             0     0.0\n",
      "trim              0     0.0\n",
      "body              0     0.0\n",
      "transmission      0     0.0\n",
      "state             0     0.0\n",
      "condition         0     0.0\n",
      "odometer          0     0.0\n",
      "color             0     0.0\n",
      "interior          0     0.0\n",
      "seller            0     0.0\n",
      "mmr               0     0.0\n",
      "sellingprice      0     0.0\n",
      "saledate          0     0.0\n"
     ]
    },
    {
     "data": {
      "text/html": [
       "\n",
       "  <div id=\"df-81799a5e-bb1a-4714-8fc8-fb2b15af668b\">\n",
       "    <div class=\"colab-df-container\">\n",
       "      <div>\n",
       "<style scoped>\n",
       "    .dataframe tbody tr th:only-of-type {\n",
       "        vertical-align: middle;\n",
       "    }\n",
       "\n",
       "    .dataframe tbody tr th {\n",
       "        vertical-align: top;\n",
       "    }\n",
       "\n",
       "    .dataframe thead th {\n",
       "        text-align: right;\n",
       "    }\n",
       "</style>\n",
       "<table border=\"1\" class=\"dataframe\">\n",
       "  <thead>\n",
       "    <tr style=\"text-align: right;\">\n",
       "      <th></th>\n",
       "      <th>year</th>\n",
       "      <th>make_0</th>\n",
       "      <th>make_1</th>\n",
       "      <th>make_2</th>\n",
       "      <th>make_3</th>\n",
       "      <th>make_4</th>\n",
       "      <th>make_5</th>\n",
       "      <th>make_6</th>\n",
       "      <th>model_0</th>\n",
       "      <th>model_1</th>\n",
       "      <th>...</th>\n",
       "      <th>saledate_2</th>\n",
       "      <th>saledate_3</th>\n",
       "      <th>saledate_4</th>\n",
       "      <th>saledate_5</th>\n",
       "      <th>saledate_6</th>\n",
       "      <th>saledate_7</th>\n",
       "      <th>saledate_8</th>\n",
       "      <th>saledate_9</th>\n",
       "      <th>saledate_10</th>\n",
       "      <th>saledate_11</th>\n",
       "    </tr>\n",
       "  </thead>\n",
       "  <tbody>\n",
       "    <tr>\n",
       "      <th>0</th>\n",
       "      <td>2015</td>\n",
       "      <td>0</td>\n",
       "      <td>0</td>\n",
       "      <td>0</td>\n",
       "      <td>0</td>\n",
       "      <td>0</td>\n",
       "      <td>0</td>\n",
       "      <td>1</td>\n",
       "      <td>0</td>\n",
       "      <td>0</td>\n",
       "      <td>...</td>\n",
       "      <td>0</td>\n",
       "      <td>0</td>\n",
       "      <td>0</td>\n",
       "      <td>0</td>\n",
       "      <td>0</td>\n",
       "      <td>0</td>\n",
       "      <td>0</td>\n",
       "      <td>0</td>\n",
       "      <td>0</td>\n",
       "      <td>1</td>\n",
       "    </tr>\n",
       "    <tr>\n",
       "      <th>1</th>\n",
       "      <td>2015</td>\n",
       "      <td>0</td>\n",
       "      <td>0</td>\n",
       "      <td>0</td>\n",
       "      <td>0</td>\n",
       "      <td>0</td>\n",
       "      <td>0</td>\n",
       "      <td>1</td>\n",
       "      <td>0</td>\n",
       "      <td>0</td>\n",
       "      <td>...</td>\n",
       "      <td>0</td>\n",
       "      <td>0</td>\n",
       "      <td>0</td>\n",
       "      <td>0</td>\n",
       "      <td>0</td>\n",
       "      <td>0</td>\n",
       "      <td>0</td>\n",
       "      <td>0</td>\n",
       "      <td>0</td>\n",
       "      <td>1</td>\n",
       "    </tr>\n",
       "    <tr>\n",
       "      <th>2</th>\n",
       "      <td>2014</td>\n",
       "      <td>0</td>\n",
       "      <td>0</td>\n",
       "      <td>0</td>\n",
       "      <td>0</td>\n",
       "      <td>0</td>\n",
       "      <td>1</td>\n",
       "      <td>0</td>\n",
       "      <td>0</td>\n",
       "      <td>0</td>\n",
       "      <td>...</td>\n",
       "      <td>0</td>\n",
       "      <td>0</td>\n",
       "      <td>0</td>\n",
       "      <td>0</td>\n",
       "      <td>0</td>\n",
       "      <td>0</td>\n",
       "      <td>0</td>\n",
       "      <td>0</td>\n",
       "      <td>1</td>\n",
       "      <td>0</td>\n",
       "    </tr>\n",
       "    <tr>\n",
       "      <th>3</th>\n",
       "      <td>2015</td>\n",
       "      <td>0</td>\n",
       "      <td>0</td>\n",
       "      <td>0</td>\n",
       "      <td>0</td>\n",
       "      <td>0</td>\n",
       "      <td>1</td>\n",
       "      <td>1</td>\n",
       "      <td>0</td>\n",
       "      <td>0</td>\n",
       "      <td>...</td>\n",
       "      <td>0</td>\n",
       "      <td>0</td>\n",
       "      <td>0</td>\n",
       "      <td>0</td>\n",
       "      <td>0</td>\n",
       "      <td>0</td>\n",
       "      <td>0</td>\n",
       "      <td>0</td>\n",
       "      <td>1</td>\n",
       "      <td>1</td>\n",
       "    </tr>\n",
       "    <tr>\n",
       "      <th>4</th>\n",
       "      <td>2014</td>\n",
       "      <td>0</td>\n",
       "      <td>0</td>\n",
       "      <td>0</td>\n",
       "      <td>0</td>\n",
       "      <td>0</td>\n",
       "      <td>1</td>\n",
       "      <td>0</td>\n",
       "      <td>0</td>\n",
       "      <td>0</td>\n",
       "      <td>...</td>\n",
       "      <td>0</td>\n",
       "      <td>0</td>\n",
       "      <td>0</td>\n",
       "      <td>0</td>\n",
       "      <td>0</td>\n",
       "      <td>0</td>\n",
       "      <td>0</td>\n",
       "      <td>1</td>\n",
       "      <td>0</td>\n",
       "      <td>0</td>\n",
       "    </tr>\n",
       "  </tbody>\n",
       "</table>\n",
       "<p>5 rows × 84 columns</p>\n",
       "</div>\n",
       "      <button class=\"colab-df-convert\" onclick=\"convertToInteractive('df-81799a5e-bb1a-4714-8fc8-fb2b15af668b')\"\n",
       "              title=\"Convert this dataframe to an interactive table.\"\n",
       "              style=\"display:none;\">\n",
       "        \n",
       "  <svg xmlns=\"http://www.w3.org/2000/svg\" height=\"24px\"viewBox=\"0 0 24 24\"\n",
       "       width=\"24px\">\n",
       "    <path d=\"M0 0h24v24H0V0z\" fill=\"none\"/>\n",
       "    <path d=\"M18.56 5.44l.94 2.06.94-2.06 2.06-.94-2.06-.94-.94-2.06-.94 2.06-2.06.94zm-11 1L8.5 8.5l.94-2.06 2.06-.94-2.06-.94L8.5 2.5l-.94 2.06-2.06.94zm10 10l.94 2.06.94-2.06 2.06-.94-2.06-.94-.94-2.06-.94 2.06-2.06.94z\"/><path d=\"M17.41 7.96l-1.37-1.37c-.4-.4-.92-.59-1.43-.59-.52 0-1.04.2-1.43.59L10.3 9.45l-7.72 7.72c-.78.78-.78 2.05 0 2.83L4 21.41c.39.39.9.59 1.41.59.51 0 1.02-.2 1.41-.59l7.78-7.78 2.81-2.81c.8-.78.8-2.07 0-2.86zM5.41 20L4 18.59l7.72-7.72 1.47 1.35L5.41 20z\"/>\n",
       "  </svg>\n",
       "      </button>\n",
       "      \n",
       "  <style>\n",
       "    .colab-df-container {\n",
       "      display:flex;\n",
       "      flex-wrap:wrap;\n",
       "      gap: 12px;\n",
       "    }\n",
       "\n",
       "    .colab-df-convert {\n",
       "      background-color: #E8F0FE;\n",
       "      border: none;\n",
       "      border-radius: 50%;\n",
       "      cursor: pointer;\n",
       "      display: none;\n",
       "      fill: #1967D2;\n",
       "      height: 32px;\n",
       "      padding: 0 0 0 0;\n",
       "      width: 32px;\n",
       "    }\n",
       "\n",
       "    .colab-df-convert:hover {\n",
       "      background-color: #E2EBFA;\n",
       "      box-shadow: 0px 1px 2px rgba(60, 64, 67, 0.3), 0px 1px 3px 1px rgba(60, 64, 67, 0.15);\n",
       "      fill: #174EA6;\n",
       "    }\n",
       "\n",
       "    [theme=dark] .colab-df-convert {\n",
       "      background-color: #3B4455;\n",
       "      fill: #D2E3FC;\n",
       "    }\n",
       "\n",
       "    [theme=dark] .colab-df-convert:hover {\n",
       "      background-color: #434B5C;\n",
       "      box-shadow: 0px 1px 3px 1px rgba(0, 0, 0, 0.15);\n",
       "      filter: drop-shadow(0px 1px 2px rgba(0, 0, 0, 0.3));\n",
       "      fill: #FFFFFF;\n",
       "    }\n",
       "  </style>\n",
       "\n",
       "      <script>\n",
       "        const buttonEl =\n",
       "          document.querySelector('#df-81799a5e-bb1a-4714-8fc8-fb2b15af668b button.colab-df-convert');\n",
       "        buttonEl.style.display =\n",
       "          google.colab.kernel.accessAllowed ? 'block' : 'none';\n",
       "\n",
       "        async function convertToInteractive(key) {\n",
       "          const element = document.querySelector('#df-81799a5e-bb1a-4714-8fc8-fb2b15af668b');\n",
       "          const dataTable =\n",
       "            await google.colab.kernel.invokeFunction('convertToInteractive',\n",
       "                                                     [key], {});\n",
       "          if (!dataTable) return;\n",
       "\n",
       "          const docLinkHtml = 'Like what you see? Visit the ' +\n",
       "            '<a target=\"_blank\" href=https://colab.research.google.com/notebooks/data_table.ipynb>data table notebook</a>'\n",
       "            + ' to learn more about interactive tables.';\n",
       "          element.innerHTML = '';\n",
       "          dataTable['output_type'] = 'display_data';\n",
       "          await google.colab.output.renderOutput(dataTable, element);\n",
       "          const docLink = document.createElement('div');\n",
       "          docLink.innerHTML = docLinkHtml;\n",
       "          element.appendChild(docLink);\n",
       "        }\n",
       "      </script>\n",
       "    </div>\n",
       "  </div>\n",
       "  "
      ],
      "text/plain": [
       "   year  make_0  make_1  make_2  make_3  make_4  make_5  make_6  model_0  \\\n",
       "0  2015       0       0       0       0       0       0       1        0   \n",
       "1  2015       0       0       0       0       0       0       1        0   \n",
       "2  2014       0       0       0       0       0       1       0        0   \n",
       "3  2015       0       0       0       0       0       1       1        0   \n",
       "4  2014       0       0       0       0       0       1       0        0   \n",
       "\n",
       "   model_1  ...  saledate_2  saledate_3  saledate_4  saledate_5  saledate_6  \\\n",
       "0        0  ...           0           0           0           0           0   \n",
       "1        0  ...           0           0           0           0           0   \n",
       "2        0  ...           0           0           0           0           0   \n",
       "3        0  ...           0           0           0           0           0   \n",
       "4        0  ...           0           0           0           0           0   \n",
       "\n",
       "   saledate_7  saledate_8  saledate_9  saledate_10  saledate_11  \n",
       "0           0           0           0            0            1  \n",
       "1           0           0           0            0            1  \n",
       "2           0           0           0            1            0  \n",
       "3           0           0           0            1            1  \n",
       "4           0           0           1            0            0  \n",
       "\n",
       "[5 rows x 84 columns]"
      ]
     },
     "execution_count": 48,
     "metadata": {},
     "output_type": "execute_result"
    }
   ],
   "source": [
    "# Using functions to preprocess data\n",
    "df_new = remove_duplicates(df)\n",
    "df_new = fill_missing_values(df_new)\n",
    "common_utils.get_count_and_percentage_missing_values(df_new)\n",
    "df_new = apply_encoding(df_new,categorical_columns)\n",
    "df_new.head()"
   ]
  },
  {
   "cell_type": "code",
   "execution_count": 49,
   "metadata": {
    "executionInfo": {
     "elapsed": 817,
     "status": "ok",
     "timestamp": 1655273721561,
     "user": {
      "displayName": "Piyush Agarwal",
      "userId": "06685019812507607970"
     },
     "user_tz": -330
    },
    "id": "t8fqJLTZYO0k"
   },
   "outputs": [],
   "source": [
    "# Data splitting into train and test 70:30 ratio\n",
    "df_new_train, df_new_test = train_test_split(df_new, test_size = .30, random_state=1)"
   ]
  },
  {
   "cell_type": "code",
   "execution_count": 50,
   "metadata": {
    "colab": {
     "base_uri": "https://localhost:8080/"
    },
    "executionInfo": {
     "elapsed": 102,
     "status": "ok",
     "timestamp": 1655273721563,
     "user": {
      "displayName": "Piyush Agarwal",
      "userId": "06685019812507607970"
     },
     "user_tz": -330
    },
    "id": "JWoo7V7-YO0k",
    "outputId": "1a7029b8-5759-4bec-f6d3-1204e7ce9508"
   },
   "outputs": [
    {
     "name": "stdout",
     "output_type": "stream",
     "text": [
      "(391101, 84) (167616, 84)\n"
     ]
    }
   ],
   "source": [
    "print(df_new_train.shape, df_new_test.shape)"
   ]
  },
  {
   "cell_type": "markdown",
   "metadata": {
    "id": "lO1a8uHjeF1Q"
   },
   "source": [
    "Removing outliers from numerical columns"
   ]
  },
  {
   "cell_type": "code",
   "execution_count": 51,
   "metadata": {
    "executionInfo": {
     "elapsed": 105,
     "status": "ok",
     "timestamp": 1655273721572,
     "user": {
      "displayName": "Piyush Agarwal",
      "userId": "06685019812507607970"
     },
     "user_tz": -330
    },
    "id": "865J29NbYO0l"
   },
   "outputs": [],
   "source": [
    "df_new_train = remove_outlier(df_new_train, 'mmr')\n",
    "df_new_test = remove_outlier(df_new_test, 'mmr')"
   ]
  },
  {
   "cell_type": "code",
   "execution_count": 52,
   "metadata": {
    "executionInfo": {
     "elapsed": 108,
     "status": "ok",
     "timestamp": 1655273721577,
     "user": {
      "displayName": "Piyush Agarwal",
      "userId": "06685019812507607970"
     },
     "user_tz": -330
    },
    "id": "NIr8gwLCYO0l"
   },
   "outputs": [],
   "source": [
    "df_new_train = remove_outlier(df_new_train, 'odometer')\n",
    "df_new_test = remove_outlier(df_new_test, 'odometer')"
   ]
  },
  {
   "cell_type": "code",
   "execution_count": 53,
   "metadata": {
    "executionInfo": {
     "elapsed": 112,
     "status": "ok",
     "timestamp": 1655273721584,
     "user": {
      "displayName": "Piyush Agarwal",
      "userId": "06685019812507607970"
     },
     "user_tz": -330
    },
    "id": "8vfYGImwYO0m"
   },
   "outputs": [],
   "source": [
    "df_new_train = remove_outlier(df_new_train, 'year')\n",
    "df_new_test = remove_outlier(df_new_test, 'year')"
   ]
  },
  {
   "cell_type": "code",
   "execution_count": 54,
   "metadata": {
    "colab": {
     "base_uri": "https://localhost:8080/"
    },
    "executionInfo": {
     "elapsed": 115,
     "status": "ok",
     "timestamp": 1655273721589,
     "user": {
      "displayName": "Piyush Agarwal",
      "userId": "06685019812507607970"
     },
     "user_tz": -330
    },
    "id": "aabWW93tYO0m",
    "outputId": "2d643bb0-cc13-45a8-c8cf-9a957dc1e622"
   },
   "outputs": [
    {
     "name": "stdout",
     "output_type": "stream",
     "text": [
      "(364355, 84) (156372, 84)\n"
     ]
    }
   ],
   "source": [
    "print(df_new_train.shape, df_new_test.shape)"
   ]
  },
  {
   "cell_type": "markdown",
   "metadata": {
    "id": "jtJFHPWmeKRa"
   },
   "source": [
    "x and y split from train and test each"
   ]
  },
  {
   "cell_type": "code",
   "execution_count": 55,
   "metadata": {
    "executionInfo": {
     "elapsed": 115,
     "status": "ok",
     "timestamp": 1655273721592,
     "user": {
      "displayName": "Piyush Agarwal",
      "userId": "06685019812507607970"
     },
     "user_tz": -330
    },
    "id": "z5o1UxlRYO0m"
   },
   "outputs": [],
   "source": [
    "x_train = df_new_train.copy()\n",
    "x_train = x_train.drop(columns = ['sellingprice'])\n",
    "y_train = df_new_train['sellingprice']"
   ]
  },
  {
   "cell_type": "code",
   "execution_count": 56,
   "metadata": {
    "executionInfo": {
     "elapsed": 120,
     "status": "ok",
     "timestamp": 1655273721599,
     "user": {
      "displayName": "Piyush Agarwal",
      "userId": "06685019812507607970"
     },
     "user_tz": -330
    },
    "id": "bTdOVdrRYO0n"
   },
   "outputs": [],
   "source": [
    "x_test = df_new_test.copy()\n",
    "x_test = x_test.drop(columns = ['sellingprice'])\n",
    "y_test = df_new_test['sellingprice']"
   ]
  },
  {
   "cell_type": "markdown",
   "metadata": {
    "id": "_qaMAxxleVoT"
   },
   "source": [
    "Checking which columns to normalize and which to scale"
   ]
  },
  {
   "cell_type": "code",
   "execution_count": 57,
   "metadata": {
    "executionInfo": {
     "elapsed": 126,
     "status": "ok",
     "timestamp": 1655273721607,
     "user": {
      "displayName": "Piyush Agarwal",
      "userId": "06685019812507607970"
     },
     "user_tz": -330
    },
    "id": "HX_2UuvRj8mH"
   },
   "outputs": [],
   "source": [
    "def preprocess_numeric_column_data(data):\n",
    "  columns = data.columns\n",
    "  for i in columns:\n",
    "    if data.dtypes[i] == np.object:\n",
    "      print(\"Cannot process object data\")\n",
    "      return\n",
    "\n",
    "  ## if skew is 0.5 and -0.5 i.e its normal distribution and use scaler else normalise\n",
    "  scale_list = []\n",
    "  normalise_list = []\n",
    "  data_skew = data.skew()\n",
    "\n",
    "  for i in columns:\n",
    "    if data_skew[i] >= -0.5 and data_skew[i] <= 0.5:\n",
    "      scale_list.append(i)\n",
    "    else:\n",
    "      normalise_list.append(i)\n",
    "  return (scale_list, normalise_list)"
   ]
  },
  {
   "cell_type": "code",
   "execution_count": 60,
   "metadata": {
    "colab": {
     "base_uri": "https://localhost:8080/"
    },
    "executionInfo": {
     "elapsed": 982,
     "status": "ok",
     "timestamp": 1655273796912,
     "user": {
      "displayName": "Piyush Agarwal",
      "userId": "06685019812507607970"
     },
     "user_tz": -330
    },
    "id": "tWCHT9G5jVDi",
    "outputId": "4f901b1c-c769-40ec-cd57-d556bddf29b2"
   },
   "outputs": [
    {
     "name": "stderr",
     "output_type": "stream",
     "text": [
      "/usr/local/lib/python3.7/dist-packages/ipykernel_launcher.py:4: DeprecationWarning: `np.object` is a deprecated alias for the builtin `object`. To silence this warning, use `object` by itself. Doing this will not modify any behavior and is safe. \n",
      "Deprecated in NumPy 1.20; for more details and guidance: https://numpy.org/devdocs/release/1.20.0-notes.html#deprecations\n",
      "  after removing the cwd from sys.path.\n"
     ]
    }
   ],
   "source": [
    "scale_list, normalise_list = preprocess_numeric_column_data(x_train[['year', 'condition', 'odometer', 'mmr']])"
   ]
  },
  {
   "cell_type": "code",
   "execution_count": 61,
   "metadata": {
    "colab": {
     "base_uri": "https://localhost:8080/"
    },
    "executionInfo": {
     "elapsed": 956,
     "status": "ok",
     "timestamp": 1655273802108,
     "user": {
      "displayName": "Piyush Agarwal",
      "userId": "06685019812507607970"
     },
     "user_tz": -330
    },
    "id": "NaMM-7qHjB9M",
    "outputId": "c644c5bb-9a82-4739-8a77-f9ee7040ad8b"
   },
   "outputs": [
    {
     "data": {
      "text/plain": [
       "['condition']"
      ]
     },
     "execution_count": 61,
     "metadata": {},
     "output_type": "execute_result"
    }
   ],
   "source": [
    "scale_list"
   ]
  },
  {
   "cell_type": "code",
   "execution_count": 62,
   "metadata": {
    "colab": {
     "base_uri": "https://localhost:8080/"
    },
    "executionInfo": {
     "elapsed": 19,
     "status": "ok",
     "timestamp": 1655273802110,
     "user": {
      "displayName": "Piyush Agarwal",
      "userId": "06685019812507607970"
     },
     "user_tz": -330
    },
    "id": "w2hHbeqRj0BI",
    "outputId": "199585b7-de0c-4c32-8b26-71209f2925fe"
   },
   "outputs": [
    {
     "data": {
      "text/plain": [
       "['year', 'odometer', 'mmr']"
      ]
     },
     "execution_count": 62,
     "metadata": {},
     "output_type": "execute_result"
    }
   ],
   "source": [
    "normalise_list"
   ]
  },
  {
   "cell_type": "code",
   "execution_count": 63,
   "metadata": {
    "executionInfo": {
     "elapsed": 10,
     "status": "ok",
     "timestamp": 1655273810418,
     "user": {
      "displayName": "Piyush Agarwal",
      "userId": "06685019812507607970"
     },
     "user_tz": -330
    },
    "id": "gf1_WFRp9g40"
   },
   "outputs": [],
   "source": [
    "standard_scaler = preprocessing.StandardScaler()\n",
    "standard_scaler.fit(x_train[scale_list])\n",
    "x_train[scale_list] = standard_scaler.transform(x_train[scale_list])\n",
    "x_test[scale_list] = standard_scaler.transform(x_test[scale_list])"
   ]
  },
  {
   "cell_type": "code",
   "execution_count": 64,
   "metadata": {
    "executionInfo": {
     "elapsed": 3,
     "status": "ok",
     "timestamp": 1655273811886,
     "user": {
      "displayName": "Piyush Agarwal",
      "userId": "06685019812507607970"
     },
     "user_tz": -330
    },
    "id": "MqGoc4ai9-O3"
   },
   "outputs": [],
   "source": [
    "normal_scaler = preprocessing.MinMaxScaler()\n",
    "normal_scaler.fit(x_train[normalise_list])\n",
    "x_train[normalise_list] = normal_scaler.transform(x_train[normalise_list])\n",
    "x_test[normalise_list] = normal_scaler.transform(x_test[normalise_list])"
   ]
  },
  {
   "cell_type": "code",
   "execution_count": 65,
   "metadata": {
    "executionInfo": {
     "elapsed": 777,
     "status": "ok",
     "timestamp": 1655273813304,
     "user": {
      "displayName": "Piyush Agarwal",
      "userId": "06685019812507607970"
     },
     "user_tz": -330
    },
    "id": "bIl2lXus-gCE"
   },
   "outputs": [],
   "source": [
    "pickle.dump(standard_scaler, open(\"standard_scaler.pkl\", \"wb\"))"
   ]
  },
  {
   "cell_type": "code",
   "execution_count": 66,
   "metadata": {
    "executionInfo": {
     "elapsed": 7,
     "status": "ok",
     "timestamp": 1655273814157,
     "user": {
      "displayName": "Piyush Agarwal",
      "userId": "06685019812507607970"
     },
     "user_tz": -330
    },
    "id": "5C7vQkki-1ey"
   },
   "outputs": [],
   "source": [
    "pickle.dump(normal_scaler, open(\"normal_scaler.pkl\", \"wb\"))"
   ]
  },
  {
   "cell_type": "code",
   "execution_count": 68,
   "metadata": {
    "colab": {
     "base_uri": "https://localhost:8080/"
    },
    "executionInfo": {
     "elapsed": 637272,
     "status": "ok",
     "timestamp": 1655274616321,
     "user": {
      "displayName": "Piyush Agarwal",
      "userId": "06685019812507607970"
     },
     "user_tz": -330
    },
    "id": "HOuZ2anLYO0o",
    "outputId": "f3b21eeb-8136-48c1-fb88-49441e224719"
   },
   "outputs": [
    {
     "data": {
      "text/plain": [
       "RandomForestRegressor(random_state=0)"
      ]
     },
     "execution_count": 68,
     "metadata": {},
     "output_type": "execute_result"
    }
   ],
   "source": [
    "# define model\n",
    "model_randomforest = RandomForestRegressor(n_estimators=100, random_state=0)\n",
    "model_randomforest.fit(x_train, y_train)"
   ]
  },
  {
   "cell_type": "code",
   "execution_count": 69,
   "metadata": {
    "executionInfo": {
     "elapsed": 36,
     "status": "ok",
     "timestamp": 1655274616324,
     "user": {
      "displayName": "Piyush Agarwal",
      "userId": "06685019812507607970"
     },
     "user_tz": -330
    },
    "id": "IHv9-YhYuo3O"
   },
   "outputs": [],
   "source": [
    "file_name = \"model_randomforest.pkl\""
   ]
  },
  {
   "cell_type": "code",
   "execution_count": 70,
   "metadata": {
    "executionInfo": {
     "elapsed": 13751,
     "status": "ok",
     "timestamp": 1655274630045,
     "user": {
      "displayName": "Piyush Agarwal",
      "userId": "06685019812507607970"
     },
     "user_tz": -330
    },
    "id": "IA9RO8RjuyWO"
   },
   "outputs": [],
   "source": [
    "pickle.dump(model_randomforest, open(file_name, \"wb\"))"
   ]
  },
  {
   "cell_type": "code",
   "execution_count": 71,
   "metadata": {
    "executionInfo": {
     "elapsed": 17517,
     "status": "ok",
     "timestamp": 1655274647518,
     "user": {
      "displayName": "Piyush Agarwal",
      "userId": "06685019812507607970"
     },
     "user_tz": -330
    },
    "id": "8CE92H2cYO0o"
   },
   "outputs": [],
   "source": [
    "y_hat = model_randomforest.predict(x_test)"
   ]
  },
  {
   "cell_type": "code",
   "execution_count": 72,
   "metadata": {
    "executionInfo": {
     "elapsed": 18,
     "status": "ok",
     "timestamp": 1655274647519,
     "user": {
      "displayName": "Piyush Agarwal",
      "userId": "06685019812507607970"
     },
     "user_tz": -330
    },
    "id": "v2ttsh4sYO0o"
   },
   "outputs": [],
   "source": [
    "y_test_arr = y_test.to_numpy()"
   ]
  },
  {
   "cell_type": "code",
   "execution_count": 73,
   "metadata": {
    "colab": {
     "base_uri": "https://localhost:8080/",
     "height": 516
    },
    "executionInfo": {
     "elapsed": 19,
     "status": "ok",
     "timestamp": 1655274647521,
     "user": {
      "displayName": "Piyush Agarwal",
      "userId": "06685019812507607970"
     },
     "user_tz": -330
    },
    "id": "cNyzAlhPYO0o",
    "outputId": "9f1ea8a6-95c1-4573-da68-a6975ae31d0f"
   },
   "outputs": [
    {
     "data": {
      "text/plain": [
       "<matplotlib.legend.Legend at 0x7f95573cffd0>"
      ]
     },
     "execution_count": 73,
     "metadata": {},
     "output_type": "execute_result"
    },
    {
     "data": {
      "image/png": "[encoded data removed]",
      "text/plain": [
       "<Figure size 1080x576 with 1 Axes>"
      ]
     },
     "metadata": {
      "needs_background": "light"
     },
     "output_type": "display_data"
    }
   ],
   "source": [
    "plt.figure(figsize=(15, 8))\n",
    "plt.plot(y_hat[0:50], label='Predicted', color=\"blue\")\n",
    "plt.plot(y_test_arr[0:50], label='Actual', color=\"red\")\n",
    "plt.title(\"Predictions vs Actual\")\n",
    "plt.legend()"
   ]
  },
  {
   "cell_type": "code",
   "execution_count": 74,
   "metadata": {
    "colab": {
     "base_uri": "https://localhost:8080/"
    },
    "executionInfo": {
     "elapsed": 16,
     "status": "ok",
     "timestamp": 1655274647522,
     "user": {
      "displayName": "Piyush Agarwal",
      "userId": "06685019812507607970"
     },
     "user_tz": -330
    },
    "id": "dwGBnlEZYO0p",
    "outputId": "a500b26c-1e83-45a7-ba3c-74775ab06426"
   },
   "outputs": [
    {
     "name": "stdout",
     "output_type": "stream",
     "text": [
      "Median Absolute Percentage Error:  0.05500035714285715\n",
      "Accuracy:  0.9449996428571429\n"
     ]
    }
   ],
   "source": [
    "mdape = np.median(np.abs(y_hat - y_test)/np.abs(y_test)) # Median Absolute Percentage Error\n",
    "acc = 1-mdape\n",
    "print(\"Median Absolute Percentage Error: \",mdape)\n",
    "print(\"Accuracy: \", acc)"
   ]
  },
  {
   "cell_type": "markdown",
   "metadata": {
    "id": "gSBIFsN9qfjZ"
   },
   "source": [
    "### **Decision Tree**"
   ]
  },
  {
   "cell_type": "code",
   "execution_count": 75,
   "metadata": {
    "colab": {
     "base_uri": "https://localhost:8080/"
    },
    "executionInfo": {
     "elapsed": 2640,
     "status": "ok",
     "timestamp": 1655274650148,
     "user": {
      "displayName": "Piyush Agarwal",
      "userId": "06685019812507607970"
     },
     "user_tz": -330
    },
    "id": "e0bjluHHqfjm",
    "outputId": "466367e7-25e3-4bec-dc95-6f714e283b74"
   },
   "outputs": [
    {
     "data": {
      "text/plain": [
       "DecisionTreeRegressor()"
      ]
     },
     "execution_count": 75,
     "metadata": {},
     "output_type": "execute_result"
    }
   ],
   "source": [
    "# define model\n",
    "model_decisiontree = DecisionTreeRegressor()\n",
    "model_decisiontree.fit(x_train, y_train)"
   ]
  },
  {
   "cell_type": "code",
   "execution_count": 76,
   "metadata": {
    "executionInfo": {
     "elapsed": 35,
     "status": "ok",
     "timestamp": 1655274650151,
     "user": {
      "displayName": "Piyush Agarwal",
      "userId": "06685019812507607970"
     },
     "user_tz": -330
    },
    "id": "H_MJaY540KJO"
   },
   "outputs": [],
   "source": [
    "file_name = \"model_decisiontree.pkl\""
   ]
  },
  {
   "cell_type": "code",
   "execution_count": 77,
   "metadata": {
    "executionInfo": {
     "elapsed": 35,
     "status": "ok",
     "timestamp": 1655274650153,
     "user": {
      "displayName": "Piyush Agarwal",
      "userId": "06685019812507607970"
     },
     "user_tz": -330
    },
    "id": "c8ilDcbe0M7h"
   },
   "outputs": [],
   "source": [
    "pickle.dump(model_decisiontree, open(file_name, \"wb\"))"
   ]
  },
  {
   "cell_type": "code",
   "execution_count": 78,
   "metadata": {
    "executionInfo": {
     "elapsed": 34,
     "status": "ok",
     "timestamp": 1655274650154,
     "user": {
      "displayName": "Piyush Agarwal",
      "userId": "06685019812507607970"
     },
     "user_tz": -330
    },
    "id": "Ma7YJ5g6qfjn"
   },
   "outputs": [],
   "source": [
    "y_hat = model_decisiontree.predict(x_test)"
   ]
  },
  {
   "cell_type": "code",
   "execution_count": 79,
   "metadata": {
    "executionInfo": {
     "elapsed": 34,
     "status": "ok",
     "timestamp": 1655274650155,
     "user": {
      "displayName": "Piyush Agarwal",
      "userId": "06685019812507607970"
     },
     "user_tz": -330
    },
    "id": "WnNKBpCAqfjn"
   },
   "outputs": [],
   "source": [
    "y_test_arr = y_test.to_numpy()"
   ]
  },
  {
   "cell_type": "code",
   "execution_count": 80,
   "metadata": {
    "colab": {
     "base_uri": "https://localhost:8080/",
     "height": 516
    },
    "executionInfo": {
     "elapsed": 33,
     "status": "ok",
     "timestamp": 1655274650156,
     "user": {
      "displayName": "Piyush Agarwal",
      "userId": "06685019812507607970"
     },
     "user_tz": -330
    },
    "id": "hINWWM53qfjo",
    "outputId": "db7cda6d-2f84-4b15-c076-444e20488ad4"
   },
   "outputs": [
    {
     "data": {
      "text/plain": [
       "<matplotlib.legend.Legend at 0x7f95546ba350>"
      ]
     },
     "execution_count": 80,
     "metadata": {},
     "output_type": "execute_result"
    },
    {
     "data": {
      "image/png": "[encoded data removed]",
      "text/plain": [
       "<Figure size 1080x576 with 1 Axes>"
      ]
     },
     "metadata": {
      "needs_background": "light"
     },
     "output_type": "display_data"
    }
   ],
   "source": [
    "plt.figure(figsize=(15, 8))\n",
    "plt.plot(y_hat[0:50], label='Predicted', color=\"blue\")\n",
    "plt.plot(y_test_arr[0:50], label='Actual', color=\"red\")\n",
    "plt.title(\"Predictions vs Actual\")\n",
    "plt.legend()"
   ]
  },
  {
   "cell_type": "code",
   "execution_count": 81,
   "metadata": {
    "colab": {
     "base_uri": "https://localhost:8080/"
    },
    "executionInfo": {
     "elapsed": 27,
     "status": "ok",
     "timestamp": 1655274650157,
     "user": {
      "displayName": "Piyush Agarwal",
      "userId": "06685019812507607970"
     },
     "user_tz": -330
    },
    "id": "cNU5eemjqfjq",
    "outputId": "0799080a-8895-4892-8722-a5a81af8b1f7"
   },
   "outputs": [
    {
     "name": "stdout",
     "output_type": "stream",
     "text": [
      "Median Absolute Percentage Error:  0.08399218750000001\n",
      "Accuracy:  0.9160078125\n"
     ]
    }
   ],
   "source": [
    "mdape = np.median(np.abs(y_hat - y_test)/np.abs(y_test))\n",
    "acc = 1-mdape\n",
    "print(\"Median Absolute Percentage Error: \",mdape)\n",
    "print(\"Accuracy: \", acc)"
   ]
  },
  {
   "cell_type": "markdown",
   "metadata": {
    "id": "oSrqOhRNsakK"
   },
   "source": [
    "### **XGBoost**"
   ]
  },
  {
   "cell_type": "code",
   "execution_count": 82,
   "metadata": {
    "colab": {
     "base_uri": "https://localhost:8080/"
    },
    "executionInfo": {
     "elapsed": 2640785,
     "status": "ok",
     "timestamp": 1655277290918,
     "user": {
      "displayName": "Piyush Agarwal",
      "userId": "06685019812507607970"
     },
     "user_tz": -330
    },
    "id": "tQRxCSoEsdHN",
    "outputId": "a2dbb20b-62f9-4caf-9925-b52daae5f053"
   },
   "outputs": [
    {
     "name": "stdout",
     "output_type": "stream",
     "text": [
      "[06:29:58] WARNING: /workspace/src/objective/regression_obj.cu:152: reg:linear is now deprecated in favor of reg:squarederror.\n"
     ]
    },
    {
     "data": {
      "text/plain": [
       "XGBRegressor(learning_rate=0.01, max_depth=10, n_estimators=1000)"
      ]
     },
     "execution_count": 82,
     "metadata": {},
     "output_type": "execute_result"
    }
   ],
   "source": [
    "model_xgb = XGBRegressor(learning_rate = 0.01, n_estimators = 1000, max_depth = 10)\n",
    "model_xgb.fit(x_train, y_train)"
   ]
  },
  {
   "cell_type": "code",
   "execution_count": 83,
   "metadata": {
    "executionInfo": {
     "elapsed": 32621,
     "status": "ok",
     "timestamp": 1655277323505,
     "user": {
      "displayName": "Piyush Agarwal",
      "userId": "06685019812507607970"
     },
     "user_tz": -330
    },
    "id": "1uyOCSr8swf5"
   },
   "outputs": [],
   "source": [
    "y_hat = model_xgb.predict(x_test)"
   ]
  },
  {
   "cell_type": "code",
   "execution_count": 84,
   "metadata": {
    "executionInfo": {
     "elapsed": 120,
     "status": "ok",
     "timestamp": 1655277323517,
     "user": {
      "displayName": "Piyush Agarwal",
      "userId": "06685019812507607970"
     },
     "user_tz": -330
    },
    "id": "OefiYZzq0ccp"
   },
   "outputs": [],
   "source": [
    "file_name = \"model_xgboost.pkl\""
   ]
  },
  {
   "cell_type": "code",
   "execution_count": 85,
   "metadata": {
    "executionInfo": {
     "elapsed": 112,
     "status": "ok",
     "timestamp": 1655277323519,
     "user": {
      "displayName": "Piyush Agarwal",
      "userId": "06685019812507607970"
     },
     "user_tz": -330
    },
    "id": "fAynTtGp0eWU"
   },
   "outputs": [],
   "source": [
    "pickle.dump(model_xgb, open(file_name, \"wb\"))"
   ]
  },
  {
   "cell_type": "code",
   "execution_count": 86,
   "metadata": {
    "executionInfo": {
     "elapsed": 118,
     "status": "ok",
     "timestamp": 1655277323528,
     "user": {
      "displayName": "Piyush Agarwal",
      "userId": "06685019812507607970"
     },
     "user_tz": -330
    },
    "id": "WESrGtF4s6Hc"
   },
   "outputs": [],
   "source": [
    "y_test_arr = y_test.to_numpy()"
   ]
  },
  {
   "cell_type": "code",
   "execution_count": 87,
   "metadata": {
    "colab": {
     "base_uri": "https://localhost:8080/",
     "height": 516
    },
    "executionInfo": {
     "elapsed": 119,
     "status": "ok",
     "timestamp": 1655277323531,
     "user": {
      "displayName": "Piyush Agarwal",
      "userId": "06685019812507607970"
     },
     "user_tz": -330
    },
    "id": "aOat_kn5s8Y7",
    "outputId": "70d5217c-a71e-4631-fb01-ac216bc69a8f"
   },
   "outputs": [
    {
     "data": {
      "text/plain": [
       "<matplotlib.legend.Legend at 0x7f9557bf5950>"
      ]
     },
     "execution_count": 87,
     "metadata": {},
     "output_type": "execute_result"
    },
    {
     "data": {
      "image/png": "[encoded data removed]",
      "text/plain": [
       "<Figure size 1080x576 with 1 Axes>"
      ]
     },
     "metadata": {
      "needs_background": "light"
     },
     "output_type": "display_data"
    }
   ],
   "source": [
    "plt.figure(figsize=(15, 8))\n",
    "plt.plot(y_hat[0:50], label='Predicted', color=\"blue\")\n",
    "plt.plot(y_test_arr[0:50], label='Actual', color=\"red\")\n",
    "plt.title(\"Predictions vs Actual\")\n",
    "plt.legend()"
   ]
  },
  {
   "cell_type": "code",
   "execution_count": 88,
   "metadata": {
    "colab": {
     "base_uri": "https://localhost:8080/"
    },
    "executionInfo": {
     "elapsed": 112,
     "status": "ok",
     "timestamp": 1655277323534,
     "user": {
      "displayName": "Piyush Agarwal",
      "userId": "06685019812507607970"
     },
     "user_tz": -330
    },
    "id": "DzUzXIbjs_MA",
    "outputId": "22f7be13-7bc9-4c69-809f-df5a3364b815"
   },
   "outputs": [
    {
     "name": "stdout",
     "output_type": "stream",
     "text": [
      "Median Absolute Percentage Error:  0.05178013527518271\n",
      "Accuracy:  0.9482198647248173\n"
     ]
    }
   ],
   "source": [
    "mdape = np.median(np.abs(y_hat - y_test)/np.abs(y_test))\n",
    "acc = 1-mdape\n",
    "print(\"Median Absolute Percentage Error: \",mdape)\n",
    "print(\"Accuracy: \", acc)"
   ]
  },
  {
   "cell_type": "markdown",
   "metadata": {
    "id": "bhsA-sKyOZtT"
   },
   "source": [
    "### Sampling\n",
    "\n",
    "Creating a sample of 10,000 rows to run with kfold and gridsearchcv.\n",
    "Running for 50,00,000+ rows is computationally expensive"
   ]
  },
  {
   "cell_type": "code",
   "execution_count": 89,
   "metadata": {
    "executionInfo": {
     "elapsed": 14305,
     "status": "ok",
     "timestamp": 1655277683952,
     "user": {
      "displayName": "Piyush Agarwal",
      "userId": "06685019812507607970"
     },
     "user_tz": -330
    },
    "id": "9q3QpO_5Ou6m"
   },
   "outputs": [],
   "source": [
    "df_sample = df.sample(n = 10000)"
   ]
  },
  {
   "cell_type": "code",
   "execution_count": 90,
   "metadata": {
    "colab": {
     "base_uri": "https://localhost:8080/"
    },
    "executionInfo": {
     "elapsed": 680,
     "status": "ok",
     "timestamp": 1655277725624,
     "user": {
      "displayName": "Piyush Agarwal",
      "userId": "06685019812507607970"
     },
     "user_tz": -330
    },
    "id": "_8mha2XQPNW3",
    "outputId": "17e63438-c828-4120-f3c8-f82b0d84fc39"
   },
   "outputs": [
    {
     "data": {
      "text/plain": [
       "(10000, 15)"
      ]
     },
     "execution_count": 90,
     "metadata": {},
     "output_type": "execute_result"
    }
   ],
   "source": [
    "df_sample.shape"
   ]
  },
  {
   "cell_type": "markdown",
   "metadata": {
    "id": "x9hVOUQcryaO"
   },
   "source": [
    "### **RandomForest with kfold**"
   ]
  },
  {
   "cell_type": "code",
   "execution_count": 91,
   "metadata": {
    "colab": {
     "base_uri": "https://localhost:8080/",
     "height": 513
    },
    "executionInfo": {
     "elapsed": 4355,
     "status": "ok",
     "timestamp": 1655277742746,
     "user": {
      "displayName": "Piyush Agarwal",
      "userId": "06685019812507607970"
     },
     "user_tz": -330
    },
    "id": "JFxQm1A_r-Rt",
    "outputId": "41492730-c88b-4443-e8ff-f60981c454c9"
   },
   "outputs": [
    {
     "name": "stdout",
     "output_type": "stream",
     "text": [
      "              count  % null\n",
      "year              0     0.0\n",
      "make              0     0.0\n",
      "model             0     0.0\n",
      "trim              0     0.0\n",
      "body              0     0.0\n",
      "transmission      0     0.0\n",
      "state             0     0.0\n",
      "condition         0     0.0\n",
      "odometer          0     0.0\n",
      "color             0     0.0\n",
      "interior          0     0.0\n",
      "seller            0     0.0\n",
      "mmr               0     0.0\n",
      "sellingprice      0     0.0\n",
      "saledate          0     0.0\n"
     ]
    },
    {
     "data": {
      "text/html": [
       "\n",
       "  <div id=\"df-7e0b5413-f1e6-4328-9606-d2ca8ed85813\">\n",
       "    <div class=\"colab-df-container\">\n",
       "      <div>\n",
       "<style scoped>\n",
       "    .dataframe tbody tr th:only-of-type {\n",
       "        vertical-align: middle;\n",
       "    }\n",
       "\n",
       "    .dataframe tbody tr th {\n",
       "        vertical-align: top;\n",
       "    }\n",
       "\n",
       "    .dataframe thead th {\n",
       "        text-align: right;\n",
       "    }\n",
       "</style>\n",
       "<table border=\"1\" class=\"dataframe\">\n",
       "  <thead>\n",
       "    <tr style=\"text-align: right;\">\n",
       "      <th></th>\n",
       "      <th>year</th>\n",
       "      <th>make_0</th>\n",
       "      <th>make_1</th>\n",
       "      <th>make_2</th>\n",
       "      <th>make_3</th>\n",
       "      <th>make_4</th>\n",
       "      <th>make_5</th>\n",
       "      <th>make_6</th>\n",
       "      <th>model_0</th>\n",
       "      <th>model_1</th>\n",
       "      <th>...</th>\n",
       "      <th>saledate_1</th>\n",
       "      <th>saledate_2</th>\n",
       "      <th>saledate_3</th>\n",
       "      <th>saledate_4</th>\n",
       "      <th>saledate_5</th>\n",
       "      <th>saledate_6</th>\n",
       "      <th>saledate_7</th>\n",
       "      <th>saledate_8</th>\n",
       "      <th>saledate_9</th>\n",
       "      <th>saledate_10</th>\n",
       "    </tr>\n",
       "  </thead>\n",
       "  <tbody>\n",
       "    <tr>\n",
       "      <th>29723</th>\n",
       "      <td>1997</td>\n",
       "      <td>0</td>\n",
       "      <td>0</td>\n",
       "      <td>0</td>\n",
       "      <td>0</td>\n",
       "      <td>0</td>\n",
       "      <td>0</td>\n",
       "      <td>1</td>\n",
       "      <td>0</td>\n",
       "      <td>0</td>\n",
       "      <td>...</td>\n",
       "      <td>0</td>\n",
       "      <td>0</td>\n",
       "      <td>0</td>\n",
       "      <td>0</td>\n",
       "      <td>0</td>\n",
       "      <td>0</td>\n",
       "      <td>0</td>\n",
       "      <td>0</td>\n",
       "      <td>0</td>\n",
       "      <td>1</td>\n",
       "    </tr>\n",
       "    <tr>\n",
       "      <th>365463</th>\n",
       "      <td>2011</td>\n",
       "      <td>0</td>\n",
       "      <td>0</td>\n",
       "      <td>0</td>\n",
       "      <td>0</td>\n",
       "      <td>0</td>\n",
       "      <td>1</td>\n",
       "      <td>0</td>\n",
       "      <td>0</td>\n",
       "      <td>0</td>\n",
       "      <td>...</td>\n",
       "      <td>0</td>\n",
       "      <td>0</td>\n",
       "      <td>0</td>\n",
       "      <td>0</td>\n",
       "      <td>0</td>\n",
       "      <td>0</td>\n",
       "      <td>0</td>\n",
       "      <td>0</td>\n",
       "      <td>1</td>\n",
       "      <td>0</td>\n",
       "    </tr>\n",
       "    <tr>\n",
       "      <th>438803</th>\n",
       "      <td>2014</td>\n",
       "      <td>0</td>\n",
       "      <td>0</td>\n",
       "      <td>0</td>\n",
       "      <td>0</td>\n",
       "      <td>0</td>\n",
       "      <td>1</td>\n",
       "      <td>1</td>\n",
       "      <td>0</td>\n",
       "      <td>0</td>\n",
       "      <td>...</td>\n",
       "      <td>0</td>\n",
       "      <td>0</td>\n",
       "      <td>0</td>\n",
       "      <td>0</td>\n",
       "      <td>0</td>\n",
       "      <td>0</td>\n",
       "      <td>0</td>\n",
       "      <td>0</td>\n",
       "      <td>1</td>\n",
       "      <td>1</td>\n",
       "    </tr>\n",
       "    <tr>\n",
       "      <th>219613</th>\n",
       "      <td>2013</td>\n",
       "      <td>0</td>\n",
       "      <td>0</td>\n",
       "      <td>0</td>\n",
       "      <td>0</td>\n",
       "      <td>1</td>\n",
       "      <td>0</td>\n",
       "      <td>0</td>\n",
       "      <td>0</td>\n",
       "      <td>0</td>\n",
       "      <td>...</td>\n",
       "      <td>0</td>\n",
       "      <td>0</td>\n",
       "      <td>0</td>\n",
       "      <td>0</td>\n",
       "      <td>0</td>\n",
       "      <td>0</td>\n",
       "      <td>0</td>\n",
       "      <td>1</td>\n",
       "      <td>0</td>\n",
       "      <td>0</td>\n",
       "    </tr>\n",
       "    <tr>\n",
       "      <th>50117</th>\n",
       "      <td>2014</td>\n",
       "      <td>0</td>\n",
       "      <td>0</td>\n",
       "      <td>0</td>\n",
       "      <td>0</td>\n",
       "      <td>0</td>\n",
       "      <td>1</td>\n",
       "      <td>1</td>\n",
       "      <td>0</td>\n",
       "      <td>0</td>\n",
       "      <td>...</td>\n",
       "      <td>0</td>\n",
       "      <td>0</td>\n",
       "      <td>0</td>\n",
       "      <td>0</td>\n",
       "      <td>0</td>\n",
       "      <td>0</td>\n",
       "      <td>0</td>\n",
       "      <td>1</td>\n",
       "      <td>0</td>\n",
       "      <td>1</td>\n",
       "    </tr>\n",
       "  </tbody>\n",
       "</table>\n",
       "<p>5 rows × 78 columns</p>\n",
       "</div>\n",
       "      <button class=\"colab-df-convert\" onclick=\"convertToInteractive('df-7e0b5413-f1e6-4328-9606-d2ca8ed85813')\"\n",
       "              title=\"Convert this dataframe to an interactive table.\"\n",
       "              style=\"display:none;\">\n",
       "        \n",
       "  <svg xmlns=\"http://www.w3.org/2000/svg\" height=\"24px\"viewBox=\"0 0 24 24\"\n",
       "       width=\"24px\">\n",
       "    <path d=\"M0 0h24v24H0V0z\" fill=\"none\"/>\n",
       "    <path d=\"M18.56 5.44l.94 2.06.94-2.06 2.06-.94-2.06-.94-.94-2.06-.94 2.06-2.06.94zm-11 1L8.5 8.5l.94-2.06 2.06-.94-2.06-.94L8.5 2.5l-.94 2.06-2.06.94zm10 10l.94 2.06.94-2.06 2.06-.94-2.06-.94-.94-2.06-.94 2.06-2.06.94z\"/><path d=\"M17.41 7.96l-1.37-1.37c-.4-.4-.92-.59-1.43-.59-.52 0-1.04.2-1.43.59L10.3 9.45l-7.72 7.72c-.78.78-.78 2.05 0 2.83L4 21.41c.39.39.9.59 1.41.59.51 0 1.02-.2 1.41-.59l7.78-7.78 2.81-2.81c.8-.78.8-2.07 0-2.86zM5.41 20L4 18.59l7.72-7.72 1.47 1.35L5.41 20z\"/>\n",
       "  </svg>\n",
       "      </button>\n",
       "      \n",
       "  <style>\n",
       "    .colab-df-container {\n",
       "      display:flex;\n",
       "      flex-wrap:wrap;\n",
       "      gap: 12px;\n",
       "    }\n",
       "\n",
       "    .colab-df-convert {\n",
       "      background-color: #E8F0FE;\n",
       "      border: none;\n",
       "      border-radius: 50%;\n",
       "      cursor: pointer;\n",
       "      display: none;\n",
       "      fill: #1967D2;\n",
       "      height: 32px;\n",
       "      padding: 0 0 0 0;\n",
       "      width: 32px;\n",
       "    }\n",
       "\n",
       "    .colab-df-convert:hover {\n",
       "      background-color: #E2EBFA;\n",
       "      box-shadow: 0px 1px 2px rgba(60, 64, 67, 0.3), 0px 1px 3px 1px rgba(60, 64, 67, 0.15);\n",
       "      fill: #174EA6;\n",
       "    }\n",
       "\n",
       "    [theme=dark] .colab-df-convert {\n",
       "      background-color: #3B4455;\n",
       "      fill: #D2E3FC;\n",
       "    }\n",
       "\n",
       "    [theme=dark] .colab-df-convert:hover {\n",
       "      background-color: #434B5C;\n",
       "      box-shadow: 0px 1px 3px 1px rgba(0, 0, 0, 0.15);\n",
       "      filter: drop-shadow(0px 1px 2px rgba(0, 0, 0, 0.3));\n",
       "      fill: #FFFFFF;\n",
       "    }\n",
       "  </style>\n",
       "\n",
       "      <script>\n",
       "        const buttonEl =\n",
       "          document.querySelector('#df-7e0b5413-f1e6-4328-9606-d2ca8ed85813 button.colab-df-convert');\n",
       "        buttonEl.style.display =\n",
       "          google.colab.kernel.accessAllowed ? 'block' : 'none';\n",
       "\n",
       "        async function convertToInteractive(key) {\n",
       "          const element = document.querySelector('#df-7e0b5413-f1e6-4328-9606-d2ca8ed85813');\n",
       "          const dataTable =\n",
       "            await google.colab.kernel.invokeFunction('convertToInteractive',\n",
       "                                                     [key], {});\n",
       "          if (!dataTable) return;\n",
       "\n",
       "          const docLinkHtml = 'Like what you see? Visit the ' +\n",
       "            '<a target=\"_blank\" href=https://colab.research.google.com/notebooks/data_table.ipynb>data table notebook</a>'\n",
       "            + ' to learn more about interactive tables.';\n",
       "          element.innerHTML = '';\n",
       "          dataTable['output_type'] = 'display_data';\n",
       "          await google.colab.output.renderOutput(dataTable, element);\n",
       "          const docLink = document.createElement('div');\n",
       "          docLink.innerHTML = docLinkHtml;\n",
       "          element.appendChild(docLink);\n",
       "        }\n",
       "      </script>\n",
       "    </div>\n",
       "  </div>\n",
       "  "
      ],
      "text/plain": [
       "        year  make_0  make_1  make_2  make_3  make_4  make_5  make_6  model_0  \\\n",
       "29723   1997       0       0       0       0       0       0       1        0   \n",
       "365463  2011       0       0       0       0       0       1       0        0   \n",
       "438803  2014       0       0       0       0       0       1       1        0   \n",
       "219613  2013       0       0       0       0       1       0       0        0   \n",
       "50117   2014       0       0       0       0       0       1       1        0   \n",
       "\n",
       "        model_1  ...  saledate_1  saledate_2  saledate_3  saledate_4  \\\n",
       "29723         0  ...           0           0           0           0   \n",
       "365463        0  ...           0           0           0           0   \n",
       "438803        0  ...           0           0           0           0   \n",
       "219613        0  ...           0           0           0           0   \n",
       "50117         0  ...           0           0           0           0   \n",
       "\n",
       "        saledate_5  saledate_6  saledate_7  saledate_8  saledate_9  \\\n",
       "29723            0           0           0           0           0   \n",
       "365463           0           0           0           0           1   \n",
       "438803           0           0           0           0           1   \n",
       "219613           0           0           0           1           0   \n",
       "50117            0           0           0           1           0   \n",
       "\n",
       "        saledate_10  \n",
       "29723             1  \n",
       "365463            0  \n",
       "438803            1  \n",
       "219613            0  \n",
       "50117             1  \n",
       "\n",
       "[5 rows x 78 columns]"
      ]
     },
     "execution_count": 91,
     "metadata": {},
     "output_type": "execute_result"
    }
   ],
   "source": [
    "df_new_sampled = remove_duplicates(df_sample)\n",
    "df_new_sampled = fill_missing_values(df_new_sampled)\n",
    "common_utils.get_count_and_percentage_missing_values(df_new_sampled)\n",
    "df_new_sampled = apply_encoding(df_new_sampled,categorical_columns)\n",
    "df_new_sampled.head()"
   ]
  },
  {
   "cell_type": "code",
   "execution_count": 92,
   "metadata": {
    "colab": {
     "base_uri": "https://localhost:8080/"
    },
    "executionInfo": {
     "elapsed": 208004,
     "status": "ok",
     "timestamp": 1655278268446,
     "user": {
      "displayName": "Piyush Agarwal",
      "userId": "06685019812507607970"
     },
     "user_tz": -330
    },
    "id": "HcCDVLTZr3nj",
    "outputId": "adf5c899-7109-46f3-807d-2d68dd410c50"
   },
   "outputs": [
    {
     "name": "stdout",
     "output_type": "stream",
     "text": [
      "\n",
      "1 of kfold 10\n",
      "[07:21:33] WARNING: /workspace/src/objective/regression_obj.cu:152: reg:linear is now deprecated in favor of reg:squarederror.\n",
      "Median Absolute Percentage Error:  0.06134858630952381\n",
      "Accuracy:  0.9386514136904762\n",
      "\n",
      "2 of kfold 10\n",
      "[07:22:26] WARNING: /workspace/src/objective/regression_obj.cu:152: reg:linear is now deprecated in favor of reg:squarederror.\n",
      "Median Absolute Percentage Error:  0.06742210210755814\n",
      "Accuracy:  0.9325778978924418\n",
      "\n",
      "3 of kfold 10\n",
      "[07:23:18] WARNING: /workspace/src/objective/regression_obj.cu:152: reg:linear is now deprecated in favor of reg:squarederror.\n",
      "Median Absolute Percentage Error:  0.06557178844105113\n",
      "Accuracy:  0.9344282115589488\n",
      "\n",
      "4 of kfold 10\n",
      "[07:24:11] WARNING: /workspace/src/objective/regression_obj.cu:152: reg:linear is now deprecated in favor of reg:squarederror.\n",
      "Median Absolute Percentage Error:  0.06281267582935653\n",
      "Accuracy:  0.9371873241706434\n",
      "\n",
      "5 of kfold 10\n",
      "[07:25:03] WARNING: /workspace/src/objective/regression_obj.cu:152: reg:linear is now deprecated in favor of reg:squarederror.\n",
      "Median Absolute Percentage Error:  0.0688023933531746\n",
      "Accuracy:  0.9311976066468254\n",
      "\n",
      "6 of kfold 10\n",
      "[07:25:56] WARNING: /workspace/src/objective/regression_obj.cu:152: reg:linear is now deprecated in favor of reg:squarederror.\n",
      "Median Absolute Percentage Error:  0.06492169692439878\n",
      "Accuracy:  0.9350783030756012\n",
      "\n",
      "7 of kfold 10\n",
      "[07:26:49] WARNING: /workspace/src/objective/regression_obj.cu:152: reg:linear is now deprecated in favor of reg:squarederror.\n",
      "Median Absolute Percentage Error:  0.0664928876768868\n",
      "Accuracy:  0.9335071123231132\n",
      "\n",
      "8 of kfold 10\n",
      "[07:27:41] WARNING: /workspace/src/objective/regression_obj.cu:152: reg:linear is now deprecated in favor of reg:squarederror.\n",
      "Median Absolute Percentage Error:  0.06690525591072105\n",
      "Accuracy:  0.933094744089279\n",
      "\n",
      "9 of kfold 10\n",
      "[07:28:34] WARNING: /workspace/src/objective/regression_obj.cu:152: reg:linear is now deprecated in favor of reg:squarederror.\n",
      "Median Absolute Percentage Error:  0.06832864747825243\n",
      "Accuracy:  0.9316713525217476\n",
      "\n",
      "10 of kfold 10\n",
      "[07:29:26] WARNING: /workspace/src/objective/regression_obj.cu:152: reg:linear is now deprecated in favor of reg:squarederror.\n",
      "Median Absolute Percentage Error:  0.06561514047475961\n",
      "Accuracy:  0.9343848595252404\n"
     ]
    }
   ],
   "source": [
    "kf = KFold(n_splits=10,random_state=1,shuffle=True)\n",
    "i = 1\n",
    "for train_index, test_index in kf.split(df_new_sampled):\n",
    "  print('\\n{} of kfold {}'.format(i,kf.n_splits))\n",
    "\n",
    "  df_new_train, df_new_test = df_new.iloc[train_index], df_new.iloc[test_index]\n",
    "\n",
    "  df_new_train = remove_outlier(df_new_train, 'mmr')\n",
    "  df_new_test = remove_outlier(df_new_test, 'mmr')\n",
    "  df_new_train = remove_outlier(df_new_train, 'odometer')\n",
    "  df_new_test = remove_outlier(df_new_test, 'odometer')\n",
    "  df_new_train = remove_outlier(df_new_train, 'year')\n",
    "  df_new_test = remove_outlier(df_new_test, 'year')\n",
    "\n",
    "  x_train = df_new_train.copy()\n",
    "  x_train = x_train.drop(columns = ['sellingprice'])\n",
    "  y_train = df_new_train['sellingprice']\n",
    "\n",
    "  x_test = df_new_test.copy()\n",
    "  x_test = x_test.drop(columns = ['sellingprice'])\n",
    "  y_test = df_new_test['sellingprice']\n",
    "\n",
    "  model_onehot = XGBRegressor(learning_rate = 0.01, n_estimators = 1000, max_depth = 10)\n",
    "  model_onehot.fit(x_train, y_train)\n",
    "  # print (model.best_params_)\n",
    "  y_hat = model_onehot.predict(x_test)\n",
    "  mdape = np.median(np.abs(y_hat - y_test)/np.abs(y_test))\n",
    "  acc = 1-mdape\n",
    "  print(\"Median Absolute Percentage Error: \",mdape)\n",
    "  print(\"Accuracy: \", acc)\n",
    "  i+=1"
   ]
  },
  {
   "cell_type": "markdown",
   "metadata": {
    "id": "h9fcOuCL-aWy"
   },
   "source": [
    "### **XGBoost with kfold and gridsearchcv**"
   ]
  },
  {
   "cell_type": "code",
   "execution_count": 93,
   "metadata": {
    "colab": {
     "base_uri": "https://localhost:8080/"
    },
    "executionInfo": {
     "elapsed": 2159745,
     "status": "ok",
     "timestamp": 1655280440937,
     "user": {
      "displayName": "Piyush Agarwal",
      "userId": "06685019812507607970"
     },
     "user_tz": -330
    },
    "id": "lEa3ylIkL1xF",
    "outputId": "95435efe-9e34-4be7-e77d-1fc3b82ef2d4"
   },
   "outputs": [
    {
     "name": "stdout",
     "output_type": "stream",
     "text": [
      "\n",
      "1 of kfold 10\n",
      "Fitting 2 folds for each of 16 candidates, totalling 32 fits\n",
      "Median Absolute Percentage Error:  0.06390721055327869\n",
      "Accuracy:  0.9360927894467213\n",
      "Best parameters:  {'colsample_bytree': 0.7, 'learning_rate': 0.01, 'max_depth': 6, 'min_child_weight': 4, 'n_estimators': 500, 'nthread': 4, 'silent': 1, 'subsample': 0.7}\n",
      "\n",
      "2 of kfold 10\n",
      "Fitting 2 folds for each of 16 candidates, totalling 32 fits\n",
      "Median Absolute Percentage Error:  0.06706898082386363\n",
      "Accuracy:  0.9329310191761364\n",
      "Best parameters:  {'colsample_bytree': 0.7, 'learning_rate': 0.01, 'max_depth': 5, 'min_child_weight': 4, 'n_estimators': 500, 'nthread': 4, 'silent': 1, 'subsample': 0.7}\n",
      "\n",
      "3 of kfold 10\n",
      "Fitting 2 folds for each of 16 candidates, totalling 32 fits\n",
      "Median Absolute Percentage Error:  0.0697303214905754\n",
      "Accuracy:  0.9302696785094247\n",
      "Best parameters:  {'colsample_bytree': 0.7, 'learning_rate': 0.01, 'max_depth': 6, 'min_child_weight': 4, 'n_estimators': 500, 'nthread': 4, 'silent': 1, 'subsample': 0.7}\n",
      "\n",
      "4 of kfold 10\n",
      "Fitting 2 folds for each of 16 candidates, totalling 32 fits\n",
      "Median Absolute Percentage Error:  0.06819853054710545\n",
      "Accuracy:  0.9318014694528945\n",
      "Best parameters:  {'colsample_bytree': 0.7, 'learning_rate': 0.01, 'max_depth': 6, 'min_child_weight': 4, 'n_estimators': 500, 'nthread': 4, 'silent': 1, 'subsample': 0.7}\n",
      "\n",
      "5 of kfold 10\n",
      "Fitting 2 folds for each of 16 candidates, totalling 32 fits\n",
      "Median Absolute Percentage Error:  0.074995234375\n",
      "Accuracy:  0.925004765625\n",
      "Best parameters:  {'colsample_bytree': 0.7, 'learning_rate': 0.01, 'max_depth': 5, 'min_child_weight': 4, 'n_estimators': 500, 'nthread': 4, 'silent': 1, 'subsample': 0.7}\n",
      "\n",
      "6 of kfold 10\n",
      "Fitting 2 folds for each of 16 candidates, totalling 32 fits\n",
      "Median Absolute Percentage Error:  0.06950476571337669\n",
      "Accuracy:  0.9304952342866233\n",
      "Best parameters:  {'colsample_bytree': 0.7, 'learning_rate': 0.01, 'max_depth': 5, 'min_child_weight': 4, 'n_estimators': 500, 'nthread': 4, 'silent': 1, 'subsample': 0.7}\n",
      "\n",
      "7 of kfold 10\n",
      "Fitting 2 folds for each of 16 candidates, totalling 32 fits\n",
      "Median Absolute Percentage Error:  0.06265846873491347\n",
      "Accuracy:  0.9373415312650866\n",
      "Best parameters:  {'colsample_bytree': 0.7, 'learning_rate': 0.05, 'max_depth': 5, 'min_child_weight': 4, 'n_estimators': 500, 'nthread': 4, 'silent': 1, 'subsample': 0.7}\n",
      "\n",
      "8 of kfold 10\n",
      "Fitting 2 folds for each of 16 candidates, totalling 32 fits\n",
      "Median Absolute Percentage Error:  0.06734566829141897\n",
      "Accuracy:  0.932654331708581\n",
      "Best parameters:  {'colsample_bytree': 0.7, 'learning_rate': 0.05, 'max_depth': 6, 'min_child_weight': 4, 'n_estimators': 500, 'nthread': 4, 'silent': 1, 'subsample': 0.7}\n",
      "\n",
      "9 of kfold 10\n",
      "Fitting 2 folds for each of 16 candidates, totalling 32 fits\n",
      "Median Absolute Percentage Error:  0.0685600024114213\n",
      "Accuracy:  0.9314399975885788\n",
      "Best parameters:  {'colsample_bytree': 0.7, 'learning_rate': 0.01, 'max_depth': 6, 'min_child_weight': 4, 'n_estimators': 500, 'nthread': 4, 'silent': 1, 'subsample': 0.7}\n",
      "\n",
      "10 of kfold 10\n",
      "Fitting 2 folds for each of 16 candidates, totalling 32 fits\n",
      "Median Absolute Percentage Error:  0.0636602072955194\n",
      "Accuracy:  0.9363397927044806\n",
      "Best parameters:  {'colsample_bytree': 0.7, 'learning_rate': 0.05, 'max_depth': 5, 'min_child_weight': 4, 'n_estimators': 500, 'nthread': 4, 'silent': 1, 'subsample': 0.7}\n"
     ]
    }
   ],
   "source": [
    "kf = KFold(n_splits=10,random_state=1,shuffle=True)\n",
    "i = 1\n",
    "for train_index, test_index in kf.split(df_new_sampled):\n",
    "  print('\\n{} of kfold {}'.format(i,kf.n_splits))\n",
    "\n",
    "  df_new_train, df_new_test = df_new.iloc[train_index], df_new.iloc[test_index]\n",
    "\n",
    "  df_new_train = remove_outlier(df_new_train, 'mmr')\n",
    "  df_new_test = remove_outlier(df_new_test, 'mmr')\n",
    "  df_new_train = remove_outlier(df_new_train, 'odometer')\n",
    "  df_new_test = remove_outlier(df_new_test, 'odometer')\n",
    "  df_new_train = remove_outlier(df_new_train, 'year')\n",
    "  df_new_test = remove_outlier(df_new_test, 'year')\n",
    "\n",
    "  x_train = df_new_train.copy()\n",
    "  x_train = x_train.drop(columns = ['sellingprice'])\n",
    "  y_train = df_new_train['sellingprice']\n",
    "\n",
    "  x_test = df_new_test.copy()\n",
    "  x_test = x_test.drop(columns = ['sellingprice'])\n",
    "  y_test = df_new_test['sellingprice']\n",
    "\n",
    "  xgb1 = XGBRegressor()\n",
    "  parameters = {'nthread':[4], #when use hyperthread, xgboost may become slower\n",
    "                'learning_rate': [0.01, 0.05, 0.1, 0.5], #so called `eta` value\n",
    "                'max_depth': [5, 6, 7, 8],\n",
    "                'min_child_weight': [4],\n",
    "                'silent': [1],\n",
    "                'subsample': [0.7],\n",
    "                'colsample_bytree': [0.7],\n",
    "                'n_estimators': [500]}\n",
    "\n",
    "  xgb_grid = GridSearchCV(xgb1, parameters, cv = 2, n_jobs = 5, verbose=True)\n",
    "\n",
    "  xgb_grid.fit(x_train, y_train)\n",
    "  y_hat = xgb_grid.predict(x_test)\n",
    "  mdape = np.median(np.abs(y_hat - y_test)/np.abs(y_test))\n",
    "  acc = 1-mdape\n",
    "  print(\"Median Absolute Percentage Error: \",mdape)\n",
    "  print(\"Accuracy: \", acc)\n",
    "  i+=1\n",
    "  print(\"Best parameters: \", xgb_grid.best_params_)"
   ]
  },
  {
   "cell_type": "markdown",
   "metadata": {
    "id": "78P36DqoGHqX"
   },
   "source": [
    "### Script to run all regressors"
   ]
  },
  {
   "cell_type": "code",
   "execution_count": null,
   "metadata": {
    "id": "LEv0LzfVGMGh"
   },
   "outputs": [],
   "source": [
    "regressors = ['XGBRegressor', 'RandomForestRegressor', 'DecisionTreeRegressor', 'ExtraTreesRegressor', 'AdaBoostRegressor']\n",
    "\n",
    "for reg in regressors:\n",
    "  if reg == 'XGBRegressor':\n",
    "    regressor = XGBRegressor()\n",
    "  if reg == 'RandomForestRegressor':\n",
    "    regressor = RandomForestRegressor(n_estimators=100, random_state=0)\n",
    "  if reg == 'DecisionTreeRegressor':\n",
    "    regressor = DecisionTreeRegressor()\n",
    "  if reg == 'ExtraTreesRegressor':\n",
    "    regressor = ExtraTreesRegressor()\n",
    "  if reg == 'AdaBoostRegressor':\n",
    "    regressor = AdaBoostRegressor()\n",
    "\n",
    "  regressor = TransformedTargetRegressor(regressor=regressor, transformer=MinMaxScaler())\n",
    "  regressor.fit(x_train, y_train)\n",
    "  y_pred = regressor.predict(x_test)\n",
    "\n",
    "  plt.figure(figsize=(15, 8))\n",
    "  plt.plot(y_pred[0:50], label='Predicted', color=\"blue\")\n",
    "  plt.plot(y_test_arr[0:50], label='Actual', color=\"red\")\n",
    "  plt.title(reg)\n",
    "  plt.legend()\n",
    "\n",
    "  print(\"\\n\")\n",
    "  print(\"Accuracy for \", reg)\n",
    "  acc = 1 - np.median(np.abs(y_pred - y_test)/np.abs(y_test))\n",
    "  print(acc)"
   ]
  }
 ],
 "metadata": {
  "accelerator": "GPU",
  "colab": {
   "collapsed_sections": [
    "oRkAAspxeKK8",
    "0V_n-fnY8Gym",
    "Dkt5cV0CeNtF",
    "vH4q9oWLFlZT",
    "S7CplCnUa9Rf",
    "1vuctdJ0TKaF",
    "hLJ4o3Z1F-oK",
    "a0QGU02ue3-W",
    "m73SKLBNS1BN",
    "G1nyvYGAS4FX",
    "cYYVwZlsPsnz",
    "XGbGEhBqSrFG",
    "gO02hkq3dsp-",
    "35-4MYu2YKBH",
    "gSBIFsN9qfjZ",
    "oSrqOhRNsakK",
    "bhsA-sKyOZtT",
    "x9hVOUQcryaO",
    "h9fcOuCL-aWy",
    "78P36DqoGHqX"
   ],
   "name": "Final_regression_Car_Price_Prediction.ipynb",
   "provenance": []
  },
  "gpuClass": "standard",
  "kernelspec": {
   "display_name": "Python 3.9.12 64-bit",
   "language": "python",
   "name": "python3"
  },
  "language_info": {
   "codemirror_mode": {
    "name": "ipython",
    "version": 3
   },
   "file_extension": ".py",
   "mimetype": "text/x-python",
   "name": "python",
   "nbconvert_exporter": "python",
   "pygments_lexer": "ipython3",
   "version": "3.9.12"
  },
  "vscode": {
   "interpreter": {
    "hash": "491087cb93853b3223ceecd3eaf02cbe146eb9b2fde0f129c3f4378ec7d95feb"
   }
  }
 },
 "nbformat": 4,
 "nbformat_minor": 1
}
