{
 "cells": [
  {
   "cell_type": "code",
   "execution_count": 1,
   "metadata": {},
   "outputs": [
    {
     "name": "stdout",
     "output_type": "stream",
     "text": [
      "Requirement already satisfied: tensorflow-gpu in c:\\users\\abulf\\documents\\python_tutorial\\assignments\\machine_learning\\myvenv\\lib\\site-packages (2.9.1)\n",
      "Requirement already satisfied: termcolor>=1.1.0 in c:\\users\\abulf\\documents\\python_tutorial\\assignments\\machine_learning\\myvenv\\lib\\site-packages (from tensorflow-gpu) (1.1.0)\n",
      "Requirement already satisfied: setuptools in c:\\users\\abulf\\documents\\python_tutorial\\assignments\\machine_learning\\myvenv\\lib\\site-packages (from tensorflow-gpu) (63.2.0)\n",
      "Requirement already satisfied: keras<2.10.0,>=2.9.0rc0 in c:\\users\\abulf\\documents\\python_tutorial\\assignments\\machine_learning\\myvenv\\lib\\site-packages (from tensorflow-gpu) (2.9.0)\n",
      "Requirement already satisfied: grpcio<2.0,>=1.24.3 in c:\\users\\abulf\\documents\\python_tutorial\\assignments\\machine_learning\\myvenv\\lib\\site-packages (from tensorflow-gpu) (1.48.0)\n",
      "Requirement already satisfied: gast<=0.4.0,>=0.2.1 in c:\\users\\abulf\\documents\\python_tutorial\\assignments\\machine_learning\\myvenv\\lib\\site-packages (from tensorflow-gpu) (0.4.0)\n",
      "Requirement already satisfied: absl-py>=1.0.0 in c:\\users\\abulf\\documents\\python_tutorial\\assignments\\machine_learning\\myvenv\\lib\\site-packages (from tensorflow-gpu) (1.2.0)\n",
      "Requirement already satisfied: numpy>=1.20 in c:\\users\\abulf\\documents\\python_tutorial\\assignments\\machine_learning\\myvenv\\lib\\site-packages (from tensorflow-gpu) (1.23.2)\n",
      "Requirement already satisfied: packaging in c:\\users\\abulf\\documents\\python_tutorial\\assignments\\machine_learning\\myvenv\\lib\\site-packages (from tensorflow-gpu) (21.3)\n",
      "Requirement already satisfied: astunparse>=1.6.0 in c:\\users\\abulf\\documents\\python_tutorial\\assignments\\machine_learning\\myvenv\\lib\\site-packages (from tensorflow-gpu) (1.6.3)\n",
      "Requirement already satisfied: tensorflow-io-gcs-filesystem>=0.23.1 in c:\\users\\abulf\\documents\\python_tutorial\\assignments\\machine_learning\\myvenv\\lib\\site-packages (from tensorflow-gpu) (0.26.0)\n",
      "Collecting protobuf<3.20,>=3.9.2\n",
      "  Using cached protobuf-3.19.4-cp310-cp310-win_amd64.whl (895 kB)\n",
      "Requirement already satisfied: google-pasta>=0.1.1 in c:\\users\\abulf\\documents\\python_tutorial\\assignments\\machine_learning\\myvenv\\lib\\site-packages (from tensorflow-gpu) (0.2.0)\n",
      "Requirement already satisfied: libclang>=13.0.0 in c:\\users\\abulf\\documents\\python_tutorial\\assignments\\machine_learning\\myvenv\\lib\\site-packages (from tensorflow-gpu) (14.0.1)\n",
      "Requirement already satisfied: keras-preprocessing>=1.1.1 in c:\\users\\abulf\\documents\\python_tutorial\\assignments\\machine_learning\\myvenv\\lib\\site-packages (from tensorflow-gpu) (1.1.2)\n",
      "Requirement already satisfied: tensorboard<2.10,>=2.9 in c:\\users\\abulf\\documents\\python_tutorial\\assignments\\machine_learning\\myvenv\\lib\\site-packages (from tensorflow-gpu) (2.9.1)\n",
      "Requirement already satisfied: tensorflow-estimator<2.10.0,>=2.9.0rc0 in c:\\users\\abulf\\documents\\python_tutorial\\assignments\\machine_learning\\myvenv\\lib\\site-packages (from tensorflow-gpu) (2.9.0)\n",
      "Requirement already satisfied: six>=1.12.0 in c:\\users\\abulf\\documents\\python_tutorial\\assignments\\machine_learning\\myvenv\\lib\\site-packages (from tensorflow-gpu) (1.16.0)\n",
      "Requirement already satisfied: opt-einsum>=2.3.2 in c:\\users\\abulf\\documents\\python_tutorial\\assignments\\machine_learning\\myvenv\\lib\\site-packages (from tensorflow-gpu) (3.3.0)\n",
      "Requirement already satisfied: typing-extensions>=3.6.6 in c:\\users\\abulf\\documents\\python_tutorial\\assignments\\machine_learning\\myvenv\\lib\\site-packages (from tensorflow-gpu) (4.3.0)\n",
      "Requirement already satisfied: h5py>=2.9.0 in c:\\users\\abulf\\documents\\python_tutorial\\assignments\\machine_learning\\myvenv\\lib\\site-packages (from tensorflow-gpu) (3.7.0)\n",
      "Requirement already satisfied: wrapt>=1.11.0 in c:\\users\\abulf\\documents\\python_tutorial\\assignments\\machine_learning\\myvenv\\lib\\site-packages (from tensorflow-gpu) (1.14.1)\n",
      "Requirement already satisfied: flatbuffers<2,>=1.12 in c:\\users\\abulf\\documents\\python_tutorial\\assignments\\machine_learning\\myvenv\\lib\\site-packages (from tensorflow-gpu) (1.12)\n",
      "Requirement already satisfied: wheel<1.0,>=0.23.0 in c:\\users\\abulf\\documents\\python_tutorial\\assignments\\machine_learning\\myvenv\\lib\\site-packages (from astunparse>=1.6.0->tensorflow-gpu) (0.37.1)\n",
      "Requirement already satisfied: requests<3,>=2.21.0 in c:\\users\\abulf\\documents\\python_tutorial\\assignments\\machine_learning\\myvenv\\lib\\site-packages (from tensorboard<2.10,>=2.9->tensorflow-gpu) (2.28.1)\n",
      "Requirement already satisfied: google-auth<3,>=1.6.3 in c:\\users\\abulf\\documents\\python_tutorial\\assignments\\machine_learning\\myvenv\\lib\\site-packages (from tensorboard<2.10,>=2.9->tensorflow-gpu) (2.9.1)\n",
      "Requirement already satisfied: werkzeug>=1.0.1 in c:\\users\\abulf\\documents\\python_tutorial\\assignments\\machine_learning\\myvenv\\lib\\site-packages (from tensorboard<2.10,>=2.9->tensorflow-gpu) (2.2.1)\n",
      "Requirement already satisfied: markdown>=2.6.8 in c:\\users\\abulf\\documents\\python_tutorial\\assignments\\machine_learning\\myvenv\\lib\\site-packages (from tensorboard<2.10,>=2.9->tensorflow-gpu) (3.4.1)\n",
      "Requirement already satisfied: tensorboard-data-server<0.7.0,>=0.6.0 in c:\\users\\abulf\\documents\\python_tutorial\\assignments\\machine_learning\\myvenv\\lib\\site-packages (from tensorboard<2.10,>=2.9->tensorflow-gpu) (0.6.1)\n",
      "Requirement already satisfied: google-auth-oauthlib<0.5,>=0.4.1 in c:\\users\\abulf\\documents\\python_tutorial\\assignments\\machine_learning\\myvenv\\lib\\site-packages (from tensorboard<2.10,>=2.9->tensorflow-gpu) (0.4.6)\n",
      "Requirement already satisfied: tensorboard-plugin-wit>=1.6.0 in c:\\users\\abulf\\documents\\python_tutorial\\assignments\\machine_learning\\myvenv\\lib\\site-packages (from tensorboard<2.10,>=2.9->tensorflow-gpu) (1.8.1)\n",
      "Requirement already satisfied: pyparsing!=3.0.5,>=2.0.2 in c:\\users\\abulf\\documents\\python_tutorial\\assignments\\machine_learning\\myvenv\\lib\\site-packages (from packaging->tensorflow-gpu) (2.4.7)\n",
      "Requirement already satisfied: cachetools<6.0,>=2.0.0 in c:\\users\\abulf\\documents\\python_tutorial\\assignments\\machine_learning\\myvenv\\lib\\site-packages (from google-auth<3,>=1.6.3->tensorboard<2.10,>=2.9->tensorflow-gpu) (5.2.0)\n",
      "Requirement already satisfied: pyasn1-modules>=0.2.1 in c:\\users\\abulf\\documents\\python_tutorial\\assignments\\machine_learning\\myvenv\\lib\\site-packages (from google-auth<3,>=1.6.3->tensorboard<2.10,>=2.9->tensorflow-gpu) (0.2.8)\n",
      "Requirement already satisfied: rsa<5,>=3.1.4 in c:\\users\\abulf\\documents\\python_tutorial\\assignments\\machine_learning\\myvenv\\lib\\site-packages (from google-auth<3,>=1.6.3->tensorboard<2.10,>=2.9->tensorflow-gpu) (4.9)\n",
      "Requirement already satisfied: requests-oauthlib>=0.7.0 in c:\\users\\abulf\\documents\\python_tutorial\\assignments\\machine_learning\\myvenv\\lib\\site-packages (from google-auth-oauthlib<0.5,>=0.4.1->tensorboard<2.10,>=2.9->tensorflow-gpu) (1.3.1)\n",
      "Requirement already satisfied: certifi>=2017.4.17 in c:\\users\\abulf\\documents\\python_tutorial\\assignments\\machine_learning\\myvenv\\lib\\site-packages (from requests<3,>=2.21.0->tensorboard<2.10,>=2.9->tensorflow-gpu) (2022.6.15)\n",
      "Requirement already satisfied: urllib3<1.27,>=1.21.1 in c:\\users\\abulf\\documents\\python_tutorial\\assignments\\machine_learning\\myvenv\\lib\\site-packages (from requests<3,>=2.21.0->tensorboard<2.10,>=2.9->tensorflow-gpu) (1.26.11)\n",
      "Requirement already satisfied: charset-normalizer<3,>=2 in c:\\users\\abulf\\documents\\python_tutorial\\assignments\\machine_learning\\myvenv\\lib\\site-packages (from requests<3,>=2.21.0->tensorboard<2.10,>=2.9->tensorflow-gpu) (2.1.0)\n",
      "Requirement already satisfied: idna<4,>=2.5 in c:\\users\\abulf\\documents\\python_tutorial\\assignments\\machine_learning\\myvenv\\lib\\site-packages (from requests<3,>=2.21.0->tensorboard<2.10,>=2.9->tensorflow-gpu) (3.3)\n",
      "Requirement already satisfied: MarkupSafe>=2.1.1 in c:\\users\\abulf\\documents\\python_tutorial\\assignments\\machine_learning\\myvenv\\lib\\site-packages (from werkzeug>=1.0.1->tensorboard<2.10,>=2.9->tensorflow-gpu) (2.1.1)\n",
      "Requirement already satisfied: pyasn1<0.5.0,>=0.4.6 in c:\\users\\abulf\\documents\\python_tutorial\\assignments\\machine_learning\\myvenv\\lib\\site-packages (from pyasn1-modules>=0.2.1->google-auth<3,>=1.6.3->tensorboard<2.10,>=2.9->tensorflow-gpu) (0.4.8)\n",
      "Requirement already satisfied: oauthlib>=3.0.0 in c:\\users\\abulf\\documents\\python_tutorial\\assignments\\machine_learning\\myvenv\\lib\\site-packages (from requests-oauthlib>=0.7.0->google-auth-oauthlib<0.5,>=0.4.1->tensorboard<2.10,>=2.9->tensorflow-gpu) (3.2.0)\n",
      "Installing collected packages: protobuf\n",
      "  Attempting uninstall: protobuf\n",
      "    Found existing installation: protobuf 3.20.0\n",
      "    Uninstalling protobuf-3.20.0:\n",
      "      Successfully uninstalled protobuf-3.20.0\n",
      "Successfully installed protobuf-3.19.4\n"
     ]
    },
    {
     "name": "stderr",
     "output_type": "stream",
     "text": [
      "WARNING: Ignoring invalid distribution -otobuf (c:\\users\\abulf\\documents\\python_tutorial\\assignments\\machine_learning\\myvenv\\lib\\site-packages)\n",
      "WARNING: Ignoring invalid distribution -rotobuf (c:\\users\\abulf\\documents\\python_tutorial\\assignments\\machine_learning\\myvenv\\lib\\site-packages)\n",
      "WARNING: Ignoring invalid distribution -otobuf (c:\\users\\abulf\\documents\\python_tutorial\\assignments\\machine_learning\\myvenv\\lib\\site-packages)\n",
      "WARNING: Ignoring invalid distribution - (c:\\users\\abulf\\documents\\python_tutorial\\assignments\\machine_learning\\myvenv\\lib\\site-packages)\n",
      "WARNING: Ignoring invalid distribution -otobuf (c:\\users\\abulf\\documents\\python_tutorial\\assignments\\machine_learning\\myvenv\\lib\\site-packages)\n",
      "WARNING: Ignoring invalid distribution -rotobuf (c:\\users\\abulf\\documents\\python_tutorial\\assignments\\machine_learning\\myvenv\\lib\\site-packages)\n",
      "WARNING: Ignoring invalid distribution -otobuf (c:\\users\\abulf\\documents\\python_tutorial\\assignments\\machine_learning\\myvenv\\lib\\site-packages)\n",
      "WARNING: Ignoring invalid distribution - (c:\\users\\abulf\\documents\\python_tutorial\\assignments\\machine_learning\\myvenv\\lib\\site-packages)\n",
      "WARNING: Ignoring invalid distribution -otobuf (c:\\users\\abulf\\documents\\python_tutorial\\assignments\\machine_learning\\myvenv\\lib\\site-packages)\n",
      "WARNING: Ignoring invalid distribution -rotobuf (c:\\users\\abulf\\documents\\python_tutorial\\assignments\\machine_learning\\myvenv\\lib\\site-packages)\n",
      "WARNING: Ignoring invalid distribution -otobuf (c:\\users\\abulf\\documents\\python_tutorial\\assignments\\machine_learning\\myvenv\\lib\\site-packages)\n",
      "WARNING: Ignoring invalid distribution - (c:\\users\\abulf\\documents\\python_tutorial\\assignments\\machine_learning\\myvenv\\lib\\site-packages)\n",
      "    WARNING: Ignoring invalid distribution -otobuf (c:\\users\\abulf\\documents\\python_tutorial\\assignments\\machine_learning\\myvenv\\lib\\site-packages)\n",
      "    WARNING: Ignoring invalid distribution -rotobuf (c:\\users\\abulf\\documents\\python_tutorial\\assignments\\machine_learning\\myvenv\\lib\\site-packages)\n",
      "    WARNING: Ignoring invalid distribution -otobuf (c:\\users\\abulf\\documents\\python_tutorial\\assignments\\machine_learning\\myvenv\\lib\\site-packages)\n",
      "    WARNING: Ignoring invalid distribution - (c:\\users\\abulf\\documents\\python_tutorial\\assignments\\machine_learning\\myvenv\\lib\\site-packages)\n",
      "WARNING: Ignoring invalid distribution -otobuf (c:\\users\\abulf\\documents\\python_tutorial\\assignments\\machine_learning\\myvenv\\lib\\site-packages)\n",
      "WARNING: Ignoring invalid distribution -rotobuf (c:\\users\\abulf\\documents\\python_tutorial\\assignments\\machine_learning\\myvenv\\lib\\site-packages)\n",
      "WARNING: Ignoring invalid distribution -otobuf (c:\\users\\abulf\\documents\\python_tutorial\\assignments\\machine_learning\\myvenv\\lib\\site-packages)\n",
      "WARNING: Ignoring invalid distribution - (c:\\users\\abulf\\documents\\python_tutorial\\assignments\\machine_learning\\myvenv\\lib\\site-packages)\n",
      "ERROR: pip's dependency resolver does not currently take into account all the packages that are installed. This behaviour is the source of the following dependency conflicts.\n",
      "apache-beam 2.41.0rc2 requires numpy<1.23.0,>=1.14.3, but you have numpy 1.23.2 which is incompatible.\n",
      "WARNING: Ignoring invalid distribution -otobuf (c:\\users\\abulf\\documents\\python_tutorial\\assignments\\machine_learning\\myvenv\\lib\\site-packages)\n",
      "WARNING: Ignoring invalid distribution -rotobuf (c:\\users\\abulf\\documents\\python_tutorial\\assignments\\machine_learning\\myvenv\\lib\\site-packages)\n",
      "WARNING: Ignoring invalid distribution -otobuf (c:\\users\\abulf\\documents\\python_tutorial\\assignments\\machine_learning\\myvenv\\lib\\site-packages)\n",
      "WARNING: Ignoring invalid distribution - (c:\\users\\abulf\\documents\\python_tutorial\\assignments\\machine_learning\\myvenv\\lib\\site-packages)\n",
      "WARNING: Ignoring invalid distribution -otobuf (c:\\users\\abulf\\documents\\python_tutorial\\assignments\\machine_learning\\myvenv\\lib\\site-packages)\n",
      "WARNING: Ignoring invalid distribution -rotobuf (c:\\users\\abulf\\documents\\python_tutorial\\assignments\\machine_learning\\myvenv\\lib\\site-packages)\n",
      "WARNING: Ignoring invalid distribution -otobuf (c:\\users\\abulf\\documents\\python_tutorial\\assignments\\machine_learning\\myvenv\\lib\\site-packages)\n",
      "WARNING: Ignoring invalid distribution - (c:\\users\\abulf\\documents\\python_tutorial\\assignments\\machine_learning\\myvenv\\lib\\site-packages)\n",
      "WARNING: Ignoring invalid distribution -otobuf (c:\\users\\abulf\\documents\\python_tutorial\\assignments\\machine_learning\\myvenv\\lib\\site-packages)\n",
      "WARNING: Ignoring invalid distribution -rotobuf (c:\\users\\abulf\\documents\\python_tutorial\\assignments\\machine_learning\\myvenv\\lib\\site-packages)\n",
      "WARNING: Ignoring invalid distribution -otobuf (c:\\users\\abulf\\documents\\python_tutorial\\assignments\\machine_learning\\myvenv\\lib\\site-packages)\n",
      "WARNING: Ignoring invalid distribution - (c:\\users\\abulf\\documents\\python_tutorial\\assignments\\machine_learning\\myvenv\\lib\\site-packages)\n"
     ]
    }
   ],
   "source": [
    "!pip install tensorflow-gpu"
   ]
  },
  {
   "cell_type": "code",
   "execution_count": 2,
   "metadata": {},
   "outputs": [
    {
     "name": "stdout",
     "output_type": "stream",
     "text": [
      "2.9.1\n"
     ]
    }
   ],
   "source": [
    "import tensorflow as tf\n",
    "print(tf.__version__)"
   ]
  },
  {
   "cell_type": "markdown",
   "metadata": {},
   "source": [
    "Cloning TFOD 2.0 Github"
   ]
  },
  {
   "cell_type": "code",
   "execution_count": 3,
   "metadata": {},
   "outputs": [],
   "source": [
    "#!git clone https://github.com/tensorflow/models.git"
   ]
  },
  {
   "cell_type": "code",
   "execution_count": 4,
   "metadata": {},
   "outputs": [
    {
     "data": {
      "text/plain": [
       "'c:\\\\Users\\\\abulf\\\\Documents\\\\Python_tutorial\\\\Assignments\\\\Machine_learning'"
      ]
     },
     "execution_count": 4,
     "metadata": {},
     "output_type": "execute_result"
    }
   ],
   "source": [
    "pwd"
   ]
  },
  {
   "cell_type": "code",
   "execution_count": 5,
   "metadata": {},
   "outputs": [
    {
     "name": "stdout",
     "output_type": "stream",
     "text": [
      "c:\\Users\\abulf\\Documents\\Python_tutorial\\Assignments\\Machine_learning\\models\n"
     ]
    }
   ],
   "source": [
    "cd models"
   ]
  },
  {
   "cell_type": "code",
   "execution_count": 6,
   "metadata": {},
   "outputs": [
    {
     "name": "stdout",
     "output_type": "stream",
     "text": [
      "c:\\Users\\abulf\\Documents\\Python_tutorial\\Assignments\\Machine_learning\\models\\research\n"
     ]
    }
   ],
   "source": [
    "cd research"
   ]
  },
  {
   "cell_type": "code",
   "execution_count": 7,
   "metadata": {},
   "outputs": [
    {
     "data": {
      "text/plain": [
       "'c:\\\\Users\\\\abulf\\\\Documents\\\\Python_tutorial\\\\Assignments\\\\Machine_learning\\\\models\\\\research'"
      ]
     },
     "execution_count": 7,
     "metadata": {},
     "output_type": "execute_result"
    }
   ],
   "source": [
    "pwd"
   ]
  },
  {
   "cell_type": "code",
   "execution_count": 8,
   "metadata": {},
   "outputs": [],
   "source": [
    "!protoc object_detection/protos/*.proto --python_out=."
   ]
  },
  {
   "cell_type": "code",
   "execution_count": 9,
   "metadata": {},
   "outputs": [
    {
     "data": {
      "text/plain": [
       "'c:\\\\Users\\\\abulf\\\\Documents\\\\Python_tutorial\\\\Assignments\\\\Machine_learning\\\\models\\\\research'"
      ]
     },
     "execution_count": 9,
     "metadata": {},
     "output_type": "execute_result"
    }
   ],
   "source": [
    "pwd"
   ]
  },
  {
   "cell_type": "code",
   "execution_count": 10,
   "metadata": {},
   "outputs": [
    {
     "name": "stdout",
     "output_type": "stream",
     "text": [
      "Requirement already satisfied: cython in c:\\users\\abulf\\documents\\python_tutorial\\assignments\\machine_learning\\myvenv\\lib\\site-packages (0.29.32)\n"
     ]
    },
    {
     "name": "stderr",
     "output_type": "stream",
     "text": [
      "WARNING: Ignoring invalid distribution -otobuf (c:\\users\\abulf\\documents\\python_tutorial\\assignments\\machine_learning\\myvenv\\lib\\site-packages)\n",
      "WARNING: Ignoring invalid distribution -rotobuf (c:\\users\\abulf\\documents\\python_tutorial\\assignments\\machine_learning\\myvenv\\lib\\site-packages)\n",
      "WARNING: Ignoring invalid distribution -otobuf (c:\\users\\abulf\\documents\\python_tutorial\\assignments\\machine_learning\\myvenv\\lib\\site-packages)\n",
      "WARNING: Ignoring invalid distribution - (c:\\users\\abulf\\documents\\python_tutorial\\assignments\\machine_learning\\myvenv\\lib\\site-packages)\n",
      "WARNING: Ignoring invalid distribution -otobuf (c:\\users\\abulf\\documents\\python_tutorial\\assignments\\machine_learning\\myvenv\\lib\\site-packages)\n",
      "WARNING: Ignoring invalid distribution -rotobuf (c:\\users\\abulf\\documents\\python_tutorial\\assignments\\machine_learning\\myvenv\\lib\\site-packages)\n",
      "WARNING: Ignoring invalid distribution -otobuf (c:\\users\\abulf\\documents\\python_tutorial\\assignments\\machine_learning\\myvenv\\lib\\site-packages)\n",
      "WARNING: Ignoring invalid distribution - (c:\\users\\abulf\\documents\\python_tutorial\\assignments\\machine_learning\\myvenv\\lib\\site-packages)\n",
      "WARNING: Ignoring invalid distribution -otobuf (c:\\users\\abulf\\documents\\python_tutorial\\assignments\\machine_learning\\myvenv\\lib\\site-packages)\n",
      "WARNING: Ignoring invalid distribution -rotobuf (c:\\users\\abulf\\documents\\python_tutorial\\assignments\\machine_learning\\myvenv\\lib\\site-packages)\n",
      "WARNING: Ignoring invalid distribution -otobuf (c:\\users\\abulf\\documents\\python_tutorial\\assignments\\machine_learning\\myvenv\\lib\\site-packages)\n",
      "WARNING: Ignoring invalid distribution - (c:\\users\\abulf\\documents\\python_tutorial\\assignments\\machine_learning\\myvenv\\lib\\site-packages)\n",
      "WARNING: Ignoring invalid distribution -otobuf (c:\\users\\abulf\\documents\\python_tutorial\\assignments\\machine_learning\\myvenv\\lib\\site-packages)\n",
      "WARNING: Ignoring invalid distribution -rotobuf (c:\\users\\abulf\\documents\\python_tutorial\\assignments\\machine_learning\\myvenv\\lib\\site-packages)\n",
      "WARNING: Ignoring invalid distribution -otobuf (c:\\users\\abulf\\documents\\python_tutorial\\assignments\\machine_learning\\myvenv\\lib\\site-packages)\n",
      "WARNING: Ignoring invalid distribution - (c:\\users\\abulf\\documents\\python_tutorial\\assignments\\machine_learning\\myvenv\\lib\\site-packages)\n",
      "WARNING: Ignoring invalid distribution -otobuf (c:\\users\\abulf\\documents\\python_tutorial\\assignments\\machine_learning\\myvenv\\lib\\site-packages)\n",
      "WARNING: Ignoring invalid distribution -rotobuf (c:\\users\\abulf\\documents\\python_tutorial\\assignments\\machine_learning\\myvenv\\lib\\site-packages)\n",
      "WARNING: Ignoring invalid distribution -otobuf (c:\\users\\abulf\\documents\\python_tutorial\\assignments\\machine_learning\\myvenv\\lib\\site-packages)\n",
      "WARNING: Ignoring invalid distribution - (c:\\users\\abulf\\documents\\python_tutorial\\assignments\\machine_learning\\myvenv\\lib\\site-packages)\n",
      "WARNING: Ignoring invalid distribution -otobuf (c:\\users\\abulf\\documents\\python_tutorial\\assignments\\machine_learning\\myvenv\\lib\\site-packages)\n",
      "WARNING: Ignoring invalid distribution -rotobuf (c:\\users\\abulf\\documents\\python_tutorial\\assignments\\machine_learning\\myvenv\\lib\\site-packages)\n",
      "WARNING: Ignoring invalid distribution -otobuf (c:\\users\\abulf\\documents\\python_tutorial\\assignments\\machine_learning\\myvenv\\lib\\site-packages)\n",
      "WARNING: Ignoring invalid distribution - (c:\\users\\abulf\\documents\\python_tutorial\\assignments\\machine_learning\\myvenv\\lib\\site-packages)\n"
     ]
    }
   ],
   "source": [
    "!pip install cython"
   ]
  },
  {
   "cell_type": "code",
   "execution_count": 11,
   "metadata": {},
   "outputs": [
    {
     "name": "stdout",
     "output_type": "stream",
     "text": [
      "Collecting git+https://github.com/philferriere/cocoapi.git#subdirectory=PythonAPI\n",
      "  Cloning https://github.com/philferriere/cocoapi.git to c:\\users\\abulf\\appdata\\local\\temp\\pip-req-build-cj9q8cc8\n",
      "  Resolved https://github.com/philferriere/cocoapi.git to commit 2929bd2ef6b451054755dfd7ceb09278f935f7ad\n",
      "  Preparing metadata (setup.py): started\n",
      "  Preparing metadata (setup.py): finished with status 'done'\n"
     ]
    },
    {
     "name": "stderr",
     "output_type": "stream",
     "text": [
      "WARNING: Ignoring invalid distribution -otobuf (c:\\users\\abulf\\documents\\python_tutorial\\assignments\\machine_learning\\myvenv\\lib\\site-packages)\n",
      "WARNING: Ignoring invalid distribution -rotobuf (c:\\users\\abulf\\documents\\python_tutorial\\assignments\\machine_learning\\myvenv\\lib\\site-packages)\n",
      "WARNING: Ignoring invalid distribution -otobuf (c:\\users\\abulf\\documents\\python_tutorial\\assignments\\machine_learning\\myvenv\\lib\\site-packages)\n",
      "WARNING: Ignoring invalid distribution - (c:\\users\\abulf\\documents\\python_tutorial\\assignments\\machine_learning\\myvenv\\lib\\site-packages)\n",
      "WARNING: Ignoring invalid distribution -otobuf (c:\\users\\abulf\\documents\\python_tutorial\\assignments\\machine_learning\\myvenv\\lib\\site-packages)\n",
      "WARNING: Ignoring invalid distribution -rotobuf (c:\\users\\abulf\\documents\\python_tutorial\\assignments\\machine_learning\\myvenv\\lib\\site-packages)\n",
      "WARNING: Ignoring invalid distribution -otobuf (c:\\users\\abulf\\documents\\python_tutorial\\assignments\\machine_learning\\myvenv\\lib\\site-packages)\n",
      "WARNING: Ignoring invalid distribution - (c:\\users\\abulf\\documents\\python_tutorial\\assignments\\machine_learning\\myvenv\\lib\\site-packages)\n",
      "  Running command git clone --filter=blob:none --quiet https://github.com/philferriere/cocoapi.git 'C:\\Users\\abulf\\AppData\\Local\\Temp\\pip-req-build-cj9q8cc8'\n",
      "WARNING: Ignoring invalid distribution -otobuf (c:\\users\\abulf\\documents\\python_tutorial\\assignments\\machine_learning\\myvenv\\lib\\site-packages)\n",
      "WARNING: Ignoring invalid distribution -rotobuf (c:\\users\\abulf\\documents\\python_tutorial\\assignments\\machine_learning\\myvenv\\lib\\site-packages)\n",
      "WARNING: Ignoring invalid distribution -otobuf (c:\\users\\abulf\\documents\\python_tutorial\\assignments\\machine_learning\\myvenv\\lib\\site-packages)\n",
      "WARNING: Ignoring invalid distribution - (c:\\users\\abulf\\documents\\python_tutorial\\assignments\\machine_learning\\myvenv\\lib\\site-packages)\n",
      "WARNING: Ignoring invalid distribution -otobuf (c:\\users\\abulf\\documents\\python_tutorial\\assignments\\machine_learning\\myvenv\\lib\\site-packages)\n",
      "WARNING: Ignoring invalid distribution -rotobuf (c:\\users\\abulf\\documents\\python_tutorial\\assignments\\machine_learning\\myvenv\\lib\\site-packages)\n",
      "WARNING: Ignoring invalid distribution -otobuf (c:\\users\\abulf\\documents\\python_tutorial\\assignments\\machine_learning\\myvenv\\lib\\site-packages)\n",
      "WARNING: Ignoring invalid distribution - (c:\\users\\abulf\\documents\\python_tutorial\\assignments\\machine_learning\\myvenv\\lib\\site-packages)\n",
      "WARNING: Ignoring invalid distribution -otobuf (c:\\users\\abulf\\documents\\python_tutorial\\assignments\\machine_learning\\myvenv\\lib\\site-packages)\n",
      "WARNING: Ignoring invalid distribution -rotobuf (c:\\users\\abulf\\documents\\python_tutorial\\assignments\\machine_learning\\myvenv\\lib\\site-packages)\n",
      "WARNING: Ignoring invalid distribution -otobuf (c:\\users\\abulf\\documents\\python_tutorial\\assignments\\machine_learning\\myvenv\\lib\\site-packages)\n",
      "WARNING: Ignoring invalid distribution - (c:\\users\\abulf\\documents\\python_tutorial\\assignments\\machine_learning\\myvenv\\lib\\site-packages)\n",
      "WARNING: Ignoring invalid distribution -otobuf (c:\\users\\abulf\\documents\\python_tutorial\\assignments\\machine_learning\\myvenv\\lib\\site-packages)\n",
      "WARNING: Ignoring invalid distribution -rotobuf (c:\\users\\abulf\\documents\\python_tutorial\\assignments\\machine_learning\\myvenv\\lib\\site-packages)\n",
      "WARNING: Ignoring invalid distribution -otobuf (c:\\users\\abulf\\documents\\python_tutorial\\assignments\\machine_learning\\myvenv\\lib\\site-packages)\n",
      "WARNING: Ignoring invalid distribution - (c:\\users\\abulf\\documents\\python_tutorial\\assignments\\machine_learning\\myvenv\\lib\\site-packages)\n"
     ]
    }
   ],
   "source": [
    "!pip install git+https://github.com/philferriere/cocoapi.git#subdirectory=PythonAPI"
   ]
  },
  {
   "cell_type": "code",
   "execution_count": 12,
   "metadata": {},
   "outputs": [
    {
     "data": {
      "text/plain": [
       "'c:\\\\Users\\\\abulf\\\\Documents\\\\Python_tutorial\\\\Assignments\\\\Machine_learning\\\\models\\\\research'"
      ]
     },
     "execution_count": 12,
     "metadata": {},
     "output_type": "execute_result"
    }
   ],
   "source": [
    "pwd"
   ]
  },
  {
   "cell_type": "code",
   "execution_count": 13,
   "metadata": {},
   "outputs": [],
   "source": [
    "#!pip uninstall protobuf"
   ]
  },
  {
   "cell_type": "code",
   "execution_count": 15,
   "metadata": {},
   "outputs": [
    {
     "name": "stderr",
     "output_type": "stream",
     "text": [
      "2022-08-24 12:59:02.838399: E tensorflow/stream_executor/cuda/cuda_driver.cc:271] failed call to cuInit: CUDA_ERROR_NO_DEVICE: no CUDA-capable device is detected\n",
      "2022-08-24 12:59:02.853533: I tensorflow/stream_executor/cuda/cuda_diagnostics.cc:169] retrieving CUDA diagnostic information for host: DESKTOP-TO1M7A4\n",
      "2022-08-24 12:59:02.854501: I tensorflow/stream_executor/cuda/cuda_diagnostics.cc:176] hostname: DESKTOP-TO1M7A4\n",
      "Running tests under Python 3.10.5: c:\\Users\\abulf\\Documents\\Python_tutorial\\Assignments\\Machine_learning\\myvenv\\Scripts\\python.exe\n",
      "[ RUN      ] ModelBuilderTF2Test.test_create_center_net_deepmac\n",
      "2022-08-24 12:59:02.885987: I tensorflow/core/platform/cpu_feature_guard.cc:193] This TensorFlow binary is optimized with oneAPI Deep Neural Network Library (oneDNN) to use the following CPU instructions in performance-critical operations:  AVX AVX2\n",
      "To enable them in other operations, rebuild TensorFlow with the appropriate compiler flags.\n",
      "c:\\Users\\abulf\\Documents\\Python_tutorial\\Assignments\\Machine_learning\\myvenv\\lib\\site-packages\\object_detection\\builders\\model_builder.py:1102: DeprecationWarning: The 'warn' function is deprecated, use 'warning' instead\n",
      "  logging.warn(('Building experimental DeepMAC meta-arch.'\n",
      "W0824 12:59:03.211221  2108 model_builder.py:1102] Building experimental DeepMAC meta-arch. Some features may be omitted.\n",
      "INFO:tensorflow:time(__main__.ModelBuilderTF2Test.test_create_center_net_deepmac): 0.57s\n",
      "I0824 12:59:03.432722  2108 test_util.py:2458] time(__main__.ModelBuilderTF2Test.test_create_center_net_deepmac): 0.57s\n",
      "[       OK ] ModelBuilderTF2Test.test_create_center_net_deepmac\n",
      "[ RUN      ] ModelBuilderTF2Test.test_create_center_net_model0 (customize_head_params=True)\n",
      "INFO:tensorflow:time(__main__.ModelBuilderTF2Test.test_create_center_net_model0 (customize_head_params=True)): 1.09s\n",
      "I0824 12:59:04.523780  2108 test_util.py:2458] time(__main__.ModelBuilderTF2Test.test_create_center_net_model0 (customize_head_params=True)): 1.09s\n",
      "[       OK ] ModelBuilderTF2Test.test_create_center_net_model0 (customize_head_params=True)\n",
      "[ RUN      ] ModelBuilderTF2Test.test_create_center_net_model1 (customize_head_params=False)\n",
      "INFO:tensorflow:time(__main__.ModelBuilderTF2Test.test_create_center_net_model1 (customize_head_params=False)): 0.32s\n",
      "I0824 12:59:04.845084  2108 test_util.py:2458] time(__main__.ModelBuilderTF2Test.test_create_center_net_model1 (customize_head_params=False)): 0.32s\n",
      "[       OK ] ModelBuilderTF2Test.test_create_center_net_model1 (customize_head_params=False)\n",
      "[ RUN      ] ModelBuilderTF2Test.test_create_center_net_model_from_keypoints\n",
      "INFO:tensorflow:time(__main__.ModelBuilderTF2Test.test_create_center_net_model_from_keypoints): 0.21s\n",
      "I0824 12:59:05.052281  2108 test_util.py:2458] time(__main__.ModelBuilderTF2Test.test_create_center_net_model_from_keypoints): 0.21s\n",
      "[       OK ] ModelBuilderTF2Test.test_create_center_net_model_from_keypoints\n",
      "[ RUN      ] ModelBuilderTF2Test.test_create_center_net_model_mobilenet\n",
      "INFO:tensorflow:time(__main__.ModelBuilderTF2Test.test_create_center_net_model_mobilenet): 1.6s\n",
      "I0824 12:59:06.651057  2108 test_util.py:2458] time(__main__.ModelBuilderTF2Test.test_create_center_net_model_mobilenet): 1.6s\n",
      "[       OK ] ModelBuilderTF2Test.test_create_center_net_model_mobilenet\n",
      "[ RUN      ] ModelBuilderTF2Test.test_create_experimental_model\n",
      "INFO:tensorflow:time(__main__.ModelBuilderTF2Test.test_create_experimental_model): 0.0s\n",
      "I0824 12:59:06.652059  2108 test_util.py:2458] time(__main__.ModelBuilderTF2Test.test_create_experimental_model): 0.0s\n",
      "[       OK ] ModelBuilderTF2Test.test_create_experimental_model\n",
      "[ RUN      ] ModelBuilderTF2Test.test_create_faster_rcnn_from_config_with_crop_feature0 (True)\n",
      "INFO:tensorflow:time(__main__.ModelBuilderTF2Test.test_create_faster_rcnn_from_config_with_crop_feature0 (True)): 0.02s\n",
      "I0824 12:59:06.672969  2108 test_util.py:2458] time(__main__.ModelBuilderTF2Test.test_create_faster_rcnn_from_config_with_crop_feature0 (True)): 0.02s\n",
      "[       OK ] ModelBuilderTF2Test.test_create_faster_rcnn_from_config_with_crop_feature0 (True)\n",
      "[ RUN      ] ModelBuilderTF2Test.test_create_faster_rcnn_from_config_with_crop_feature1 (False)\n",
      "INFO:tensorflow:time(__main__.ModelBuilderTF2Test.test_create_faster_rcnn_from_config_with_crop_feature1 (False)): 0.01s\n",
      "I0824 12:59:06.685931  2108 test_util.py:2458] time(__main__.ModelBuilderTF2Test.test_create_faster_rcnn_from_config_with_crop_feature1 (False)): 0.01s\n",
      "[       OK ] ModelBuilderTF2Test.test_create_faster_rcnn_from_config_with_crop_feature1 (False)\n",
      "[ RUN      ] ModelBuilderTF2Test.test_create_faster_rcnn_model_from_config_with_example_miner\n",
      "INFO:tensorflow:time(__main__.ModelBuilderTF2Test.test_create_faster_rcnn_model_from_config_with_example_miner): 0.01s\n",
      "I0824 12:59:06.699932  2108 test_util.py:2458] time(__main__.ModelBuilderTF2Test.test_create_faster_rcnn_model_from_config_with_example_miner): 0.01s\n",
      "[       OK ] ModelBuilderTF2Test.test_create_faster_rcnn_model_from_config_with_example_miner\n",
      "[ RUN      ] ModelBuilderTF2Test.test_create_faster_rcnn_models_from_config_faster_rcnn_with_matmul\n",
      "INFO:tensorflow:time(__main__.ModelBuilderTF2Test.test_create_faster_rcnn_models_from_config_faster_rcnn_with_matmul): 0.1s\n",
      "I0824 12:59:06.796637  2108 test_util.py:2458] time(__main__.ModelBuilderTF2Test.test_create_faster_rcnn_models_from_config_faster_rcnn_with_matmul): 0.1s\n",
      "[       OK ] ModelBuilderTF2Test.test_create_faster_rcnn_models_from_config_faster_rcnn_with_matmul\n",
      "[ RUN      ] ModelBuilderTF2Test.test_create_faster_rcnn_models_from_config_faster_rcnn_without_matmul\n",
      "INFO:tensorflow:time(__main__.ModelBuilderTF2Test.test_create_faster_rcnn_models_from_config_faster_rcnn_without_matmul): 0.25s\n",
      "I0824 12:59:07.048996  2108 test_util.py:2458] time(__main__.ModelBuilderTF2Test.test_create_faster_rcnn_models_from_config_faster_rcnn_without_matmul): 0.25s\n",
      "[       OK ] ModelBuilderTF2Test.test_create_faster_rcnn_models_from_config_faster_rcnn_without_matmul\n",
      "[ RUN      ] ModelBuilderTF2Test.test_create_faster_rcnn_models_from_config_mask_rcnn_with_matmul\n",
      "INFO:tensorflow:time(__main__.ModelBuilderTF2Test.test_create_faster_rcnn_models_from_config_mask_rcnn_with_matmul): 0.1s\n",
      "I0824 12:59:07.151688  2108 test_util.py:2458] time(__main__.ModelBuilderTF2Test.test_create_faster_rcnn_models_from_config_mask_rcnn_with_matmul): 0.1s\n",
      "[       OK ] ModelBuilderTF2Test.test_create_faster_rcnn_models_from_config_mask_rcnn_with_matmul\n",
      "[ RUN      ] ModelBuilderTF2Test.test_create_faster_rcnn_models_from_config_mask_rcnn_without_matmul\n",
      "INFO:tensorflow:time(__main__.ModelBuilderTF2Test.test_create_faster_rcnn_models_from_config_mask_rcnn_without_matmul): 0.1s\n",
      "I0824 12:59:07.252418  2108 test_util.py:2458] time(__main__.ModelBuilderTF2Test.test_create_faster_rcnn_models_from_config_mask_rcnn_without_matmul): 0.1s\n",
      "[       OK ] ModelBuilderTF2Test.test_create_faster_rcnn_models_from_config_mask_rcnn_without_matmul\n",
      "[ RUN      ] ModelBuilderTF2Test.test_create_rfcn_model_from_config\n",
      "INFO:tensorflow:time(__main__.ModelBuilderTF2Test.test_create_rfcn_model_from_config): 0.1s\n",
      "I0824 12:59:07.350157  2108 test_util.py:2458] time(__main__.ModelBuilderTF2Test.test_create_rfcn_model_from_config): 0.1s\n",
      "[       OK ] ModelBuilderTF2Test.test_create_rfcn_model_from_config\n",
      "[ RUN      ] ModelBuilderTF2Test.test_create_ssd_fpn_model_from_config\n",
      "INFO:tensorflow:time(__main__.ModelBuilderTF2Test.test_create_ssd_fpn_model_from_config): 0.03s\n",
      "I0824 12:59:07.381077  2108 test_util.py:2458] time(__main__.ModelBuilderTF2Test.test_create_ssd_fpn_model_from_config): 0.03s\n",
      "[       OK ] ModelBuilderTF2Test.test_create_ssd_fpn_model_from_config\n",
      "[ RUN      ] ModelBuilderTF2Test.test_create_ssd_models_from_config\n",
      "I0824 12:59:07.565730  2108 ssd_efficientnet_bifpn_feature_extractor.py:145] EfficientDet EfficientNet backbone version: efficientnet-b0\n",
      "I0824 12:59:07.566727  2108 ssd_efficientnet_bifpn_feature_extractor.py:147] EfficientDet BiFPN num filters: 64\n",
      "I0824 12:59:07.566727  2108 ssd_efficientnet_bifpn_feature_extractor.py:148] EfficientDet BiFPN num iterations: 3\n",
      "I0824 12:59:07.568722  2108 efficientnet_model.py:143] round_filter input=32 output=32\n",
      "I0824 12:59:07.584680  2108 efficientnet_model.py:143] round_filter input=32 output=32\n",
      "I0824 12:59:07.584680  2108 efficientnet_model.py:143] round_filter input=16 output=16\n",
      "I0824 12:59:07.650731  2108 efficientnet_model.py:143] round_filter input=16 output=16\n",
      "I0824 12:59:07.651728  2108 efficientnet_model.py:143] round_filter input=24 output=24\n",
      "I0824 12:59:07.780385  2108 efficientnet_model.py:143] round_filter input=24 output=24\n",
      "I0824 12:59:07.780385  2108 efficientnet_model.py:143] round_filter input=40 output=40\n",
      "I0824 12:59:07.913599  2108 efficientnet_model.py:143] round_filter input=40 output=40\n",
      "I0824 12:59:07.913599  2108 efficientnet_model.py:143] round_filter input=80 output=80\n",
      "I0824 12:59:08.183127  2108 efficientnet_model.py:143] round_filter input=80 output=80\n",
      "I0824 12:59:08.183127  2108 efficientnet_model.py:143] round_filter input=112 output=112\n",
      "I0824 12:59:08.376668  2108 efficientnet_model.py:143] round_filter input=112 output=112\n",
      "I0824 12:59:08.376668  2108 efficientnet_model.py:143] round_filter input=192 output=192\n",
      "I0824 12:59:08.722716  2108 efficientnet_model.py:143] round_filter input=192 output=192\n",
      "I0824 12:59:08.723713  2108 efficientnet_model.py:143] round_filter input=320 output=320\n",
      "I0824 12:59:08.791888  2108 efficientnet_model.py:143] round_filter input=1280 output=1280\n",
      "I0824 12:59:08.831702  2108 efficientnet_model.py:453] Building model efficientnet with params ModelConfig(width_coefficient=1.0, depth_coefficient=1.0, resolution=224, dropout_rate=0.2, blocks=(BlockConfig(input_filters=32, output_filters=16, kernel_size=3, num_repeat=1, expand_ratio=1, strides=(1, 1), se_ratio=0.25, id_skip=True, fused_conv=False, conv_type='depthwise'), BlockConfig(input_filters=16, output_filters=24, kernel_size=3, num_repeat=2, expand_ratio=6, strides=(2, 2), se_ratio=0.25, id_skip=True, fused_conv=False, conv_type='depthwise'), BlockConfig(input_filters=24, output_filters=40, kernel_size=5, num_repeat=2, expand_ratio=6, strides=(2, 2), se_ratio=0.25, id_skip=True, fused_conv=False, conv_type='depthwise'), BlockConfig(input_filters=40, output_filters=80, kernel_size=3, num_repeat=3, expand_ratio=6, strides=(2, 2), se_ratio=0.25, id_skip=True, fused_conv=False, conv_type='depthwise'), BlockConfig(input_filters=80, output_filters=112, kernel_size=5, num_repeat=3, expand_ratio=6, strides=(1, 1), se_ratio=0.25, id_skip=True, fused_conv=False, conv_type='depthwise'), BlockConfig(input_filters=112, output_filters=192, kernel_size=5, num_repeat=4, expand_ratio=6, strides=(2, 2), se_ratio=0.25, id_skip=True, fused_conv=False, conv_type='depthwise'), BlockConfig(input_filters=192, output_filters=320, kernel_size=3, num_repeat=1, expand_ratio=6, strides=(1, 1), se_ratio=0.25, id_skip=True, fused_conv=False, conv_type='depthwise')), stem_base_filters=32, top_base_filters=1280, activation='simple_swish', batch_norm='default', bn_momentum=0.99, bn_epsilon=0.001, weight_decay=5e-06, drop_connect_rate=0.2, depth_divisor=8, min_depth=None, use_se=True, input_channels=3, num_classes=1000, model_name='efficientnet', rescale_input=False, data_format='channels_last', dtype='float32')\n",
      "I0824 12:59:08.885560  2108 ssd_efficientnet_bifpn_feature_extractor.py:145] EfficientDet EfficientNet backbone version: efficientnet-b1\n",
      "I0824 12:59:08.885560  2108 ssd_efficientnet_bifpn_feature_extractor.py:147] EfficientDet BiFPN num filters: 88\n",
      "I0824 12:59:08.885560  2108 ssd_efficientnet_bifpn_feature_extractor.py:148] EfficientDet BiFPN num iterations: 4\n",
      "I0824 12:59:08.886557  2108 efficientnet_model.py:143] round_filter input=32 output=32\n",
      "I0824 12:59:08.902514  2108 efficientnet_model.py:143] round_filter input=32 output=32\n",
      "I0824 12:59:08.902514  2108 efficientnet_model.py:143] round_filter input=16 output=16\n",
      "I0824 12:59:09.032171  2108 efficientnet_model.py:143] round_filter input=16 output=16\n",
      "I0824 12:59:09.032171  2108 efficientnet_model.py:143] round_filter input=24 output=24\n",
      "I0824 12:59:09.260593  2108 efficientnet_model.py:143] round_filter input=24 output=24\n",
      "I0824 12:59:09.260593  2108 efficientnet_model.py:143] round_filter input=40 output=40\n",
      "I0824 12:59:09.468042  2108 efficientnet_model.py:143] round_filter input=40 output=40\n",
      "I0824 12:59:09.468042  2108 efficientnet_model.py:143] round_filter input=80 output=80\n",
      "I0824 12:59:09.718537  2108 efficientnet_model.py:143] round_filter input=80 output=80\n",
      "I0824 12:59:09.718537  2108 efficientnet_model.py:143] round_filter input=112 output=112\n",
      "I0824 12:59:09.971306  2108 efficientnet_model.py:143] round_filter input=112 output=112\n",
      "I0824 12:59:09.971306  2108 efficientnet_model.py:143] round_filter input=192 output=192\n",
      "I0824 12:59:10.312752  2108 efficientnet_model.py:143] round_filter input=192 output=192\n",
      "I0824 12:59:10.312752  2108 efficientnet_model.py:143] round_filter input=320 output=320\n",
      "I0824 12:59:10.460357  2108 efficientnet_model.py:143] round_filter input=1280 output=1280\n",
      "I0824 12:59:10.497258  2108 efficientnet_model.py:453] Building model efficientnet with params ModelConfig(width_coefficient=1.0, depth_coefficient=1.1, resolution=240, dropout_rate=0.2, blocks=(BlockConfig(input_filters=32, output_filters=16, kernel_size=3, num_repeat=1, expand_ratio=1, strides=(1, 1), se_ratio=0.25, id_skip=True, fused_conv=False, conv_type='depthwise'), BlockConfig(input_filters=16, output_filters=24, kernel_size=3, num_repeat=2, expand_ratio=6, strides=(2, 2), se_ratio=0.25, id_skip=True, fused_conv=False, conv_type='depthwise'), BlockConfig(input_filters=24, output_filters=40, kernel_size=5, num_repeat=2, expand_ratio=6, strides=(2, 2), se_ratio=0.25, id_skip=True, fused_conv=False, conv_type='depthwise'), BlockConfig(input_filters=40, output_filters=80, kernel_size=3, num_repeat=3, expand_ratio=6, strides=(2, 2), se_ratio=0.25, id_skip=True, fused_conv=False, conv_type='depthwise'), BlockConfig(input_filters=80, output_filters=112, kernel_size=5, num_repeat=3, expand_ratio=6, strides=(1, 1), se_ratio=0.25, id_skip=True, fused_conv=False, conv_type='depthwise'), BlockConfig(input_filters=112, output_filters=192, kernel_size=5, num_repeat=4, expand_ratio=6, strides=(2, 2), se_ratio=0.25, id_skip=True, fused_conv=False, conv_type='depthwise'), BlockConfig(input_filters=192, output_filters=320, kernel_size=3, num_repeat=1, expand_ratio=6, strides=(1, 1), se_ratio=0.25, id_skip=True, fused_conv=False, conv_type='depthwise')), stem_base_filters=32, top_base_filters=1280, activation='simple_swish', batch_norm='default', bn_momentum=0.99, bn_epsilon=0.001, weight_decay=5e-06, drop_connect_rate=0.2, depth_divisor=8, min_depth=None, use_se=True, input_channels=3, num_classes=1000, model_name='efficientnet', rescale_input=False, data_format='channels_last', dtype='float32')\n",
      "I0824 12:59:10.549119  2108 ssd_efficientnet_bifpn_feature_extractor.py:145] EfficientDet EfficientNet backbone version: efficientnet-b2\n",
      "I0824 12:59:10.549119  2108 ssd_efficientnet_bifpn_feature_extractor.py:147] EfficientDet BiFPN num filters: 112\n",
      "I0824 12:59:10.549119  2108 ssd_efficientnet_bifpn_feature_extractor.py:148] EfficientDet BiFPN num iterations: 5\n",
      "I0824 12:59:10.550117  2108 efficientnet_model.py:143] round_filter input=32 output=32\n",
      "I0824 12:59:10.563082  2108 efficientnet_model.py:143] round_filter input=32 output=32\n",
      "I0824 12:59:10.563082  2108 efficientnet_model.py:143] round_filter input=16 output=16\n",
      "I0824 12:59:10.780469  2108 efficientnet_model.py:143] round_filter input=16 output=16\n",
      "I0824 12:59:10.780469  2108 efficientnet_model.py:143] round_filter input=24 output=24\n",
      "I0824 12:59:10.990938  2108 efficientnet_model.py:143] round_filter input=24 output=24\n",
      "I0824 12:59:10.990938  2108 efficientnet_model.py:143] round_filter input=40 output=48\n",
      "I0824 12:59:11.176462  2108 efficientnet_model.py:143] round_filter input=40 output=48\n",
      "I0824 12:59:11.176462  2108 efficientnet_model.py:143] round_filter input=80 output=88\n",
      "I0824 12:59:11.432824  2108 efficientnet_model.py:143] round_filter input=80 output=88\n",
      "I0824 12:59:11.432824  2108 efficientnet_model.py:143] round_filter input=112 output=120\n",
      "I0824 12:59:11.722199  2108 efficientnet_model.py:143] round_filter input=112 output=120\n",
      "I0824 12:59:11.722199  2108 efficientnet_model.py:143] round_filter input=192 output=208\n",
      "I0824 12:59:12.070886  2108 efficientnet_model.py:143] round_filter input=192 output=208\n",
      "I0824 12:59:12.070886  2108 efficientnet_model.py:143] round_filter input=320 output=352\n",
      "I0824 12:59:12.225632  2108 efficientnet_model.py:143] round_filter input=1280 output=1408\n",
      "I0824 12:59:12.277493  2108 efficientnet_model.py:453] Building model efficientnet with params ModelConfig(width_coefficient=1.1, depth_coefficient=1.2, resolution=260, dropout_rate=0.3, blocks=(BlockConfig(input_filters=32, output_filters=16, kernel_size=3, num_repeat=1, expand_ratio=1, strides=(1, 1), se_ratio=0.25, id_skip=True, fused_conv=False, conv_type='depthwise'), BlockConfig(input_filters=16, output_filters=24, kernel_size=3, num_repeat=2, expand_ratio=6, strides=(2, 2), se_ratio=0.25, id_skip=True, fused_conv=False, conv_type='depthwise'), BlockConfig(input_filters=24, output_filters=40, kernel_size=5, num_repeat=2, expand_ratio=6, strides=(2, 2), se_ratio=0.25, id_skip=True, fused_conv=False, conv_type='depthwise'), BlockConfig(input_filters=40, output_filters=80, kernel_size=3, num_repeat=3, expand_ratio=6, strides=(2, 2), se_ratio=0.25, id_skip=True, fused_conv=False, conv_type='depthwise'), BlockConfig(input_filters=80, output_filters=112, kernel_size=5, num_repeat=3, expand_ratio=6, strides=(1, 1), se_ratio=0.25, id_skip=True, fused_conv=False, conv_type='depthwise'), BlockConfig(input_filters=112, output_filters=192, kernel_size=5, num_repeat=4, expand_ratio=6, strides=(2, 2), se_ratio=0.25, id_skip=True, fused_conv=False, conv_type='depthwise'), BlockConfig(input_filters=192, output_filters=320, kernel_size=3, num_repeat=1, expand_ratio=6, strides=(1, 1), se_ratio=0.25, id_skip=True, fused_conv=False, conv_type='depthwise')), stem_base_filters=32, top_base_filters=1280, activation='simple_swish', batch_norm='default', bn_momentum=0.99, bn_epsilon=0.001, weight_decay=5e-06, drop_connect_rate=0.2, depth_divisor=8, min_depth=None, use_se=True, input_channels=3, num_classes=1000, model_name='efficientnet', rescale_input=False, data_format='channels_last', dtype='float32')\n",
      "I0824 12:59:12.329390  2108 ssd_efficientnet_bifpn_feature_extractor.py:145] EfficientDet EfficientNet backbone version: efficientnet-b3\n",
      "I0824 12:59:12.329390  2108 ssd_efficientnet_bifpn_feature_extractor.py:147] EfficientDet BiFPN num filters: 160\n",
      "I0824 12:59:12.329390  2108 ssd_efficientnet_bifpn_feature_extractor.py:148] EfficientDet BiFPN num iterations: 6\n",
      "I0824 12:59:12.330386  2108 efficientnet_model.py:143] round_filter input=32 output=40\n",
      "I0824 12:59:12.344349  2108 efficientnet_model.py:143] round_filter input=32 output=40\n",
      "I0824 12:59:12.344349  2108 efficientnet_model.py:143] round_filter input=16 output=24\n",
      "I0824 12:59:12.441056  2108 efficientnet_model.py:143] round_filter input=16 output=24\n",
      "I0824 12:59:12.441056  2108 efficientnet_model.py:143] round_filter input=24 output=32\n",
      "I0824 12:59:12.629316  2108 efficientnet_model.py:143] round_filter input=24 output=32\n",
      "I0824 12:59:12.629316  2108 efficientnet_model.py:143] round_filter input=40 output=48\n",
      "I0824 12:59:12.821746  2108 efficientnet_model.py:143] round_filter input=40 output=48\n",
      "I0824 12:59:12.821746  2108 efficientnet_model.py:143] round_filter input=80 output=96\n",
      "I0824 12:59:13.148048  2108 efficientnet_model.py:143] round_filter input=80 output=96\n",
      "I0824 12:59:13.148048  2108 efficientnet_model.py:143] round_filter input=112 output=136\n",
      "I0824 12:59:13.472542  2108 efficientnet_model.py:143] round_filter input=112 output=136\n",
      "I0824 12:59:13.472542  2108 efficientnet_model.py:143] round_filter input=192 output=232\n",
      "I0824 12:59:13.896609  2108 efficientnet_model.py:143] round_filter input=192 output=232\n",
      "I0824 12:59:13.897606  2108 efficientnet_model.py:143] round_filter input=320 output=384\n",
      "I0824 12:59:14.054890  2108 efficientnet_model.py:143] round_filter input=1280 output=1536\n",
      "I0824 12:59:14.096782  2108 efficientnet_model.py:453] Building model efficientnet with params ModelConfig(width_coefficient=1.2, depth_coefficient=1.4, resolution=300, dropout_rate=0.3, blocks=(BlockConfig(input_filters=32, output_filters=16, kernel_size=3, num_repeat=1, expand_ratio=1, strides=(1, 1), se_ratio=0.25, id_skip=True, fused_conv=False, conv_type='depthwise'), BlockConfig(input_filters=16, output_filters=24, kernel_size=3, num_repeat=2, expand_ratio=6, strides=(2, 2), se_ratio=0.25, id_skip=True, fused_conv=False, conv_type='depthwise'), BlockConfig(input_filters=24, output_filters=40, kernel_size=5, num_repeat=2, expand_ratio=6, strides=(2, 2), se_ratio=0.25, id_skip=True, fused_conv=False, conv_type='depthwise'), BlockConfig(input_filters=40, output_filters=80, kernel_size=3, num_repeat=3, expand_ratio=6, strides=(2, 2), se_ratio=0.25, id_skip=True, fused_conv=False, conv_type='depthwise'), BlockConfig(input_filters=80, output_filters=112, kernel_size=5, num_repeat=3, expand_ratio=6, strides=(1, 1), se_ratio=0.25, id_skip=True, fused_conv=False, conv_type='depthwise'), BlockConfig(input_filters=112, output_filters=192, kernel_size=5, num_repeat=4, expand_ratio=6, strides=(2, 2), se_ratio=0.25, id_skip=True, fused_conv=False, conv_type='depthwise'), BlockConfig(input_filters=192, output_filters=320, kernel_size=3, num_repeat=1, expand_ratio=6, strides=(1, 1), se_ratio=0.25, id_skip=True, fused_conv=False, conv_type='depthwise')), stem_base_filters=32, top_base_filters=1280, activation='simple_swish', batch_norm='default', bn_momentum=0.99, bn_epsilon=0.001, weight_decay=5e-06, drop_connect_rate=0.2, depth_divisor=8, min_depth=None, use_se=True, input_channels=3, num_classes=1000, model_name='efficientnet', rescale_input=False, data_format='channels_last', dtype='float32')\n",
      "I0824 12:59:14.151634  2108 ssd_efficientnet_bifpn_feature_extractor.py:145] EfficientDet EfficientNet backbone version: efficientnet-b4\n",
      "I0824 12:59:14.151634  2108 ssd_efficientnet_bifpn_feature_extractor.py:147] EfficientDet BiFPN num filters: 224\n",
      "I0824 12:59:14.151634  2108 ssd_efficientnet_bifpn_feature_extractor.py:148] EfficientDet BiFPN num iterations: 7\n",
      "I0824 12:59:14.152631  2108 efficientnet_model.py:143] round_filter input=32 output=48\n",
      "I0824 12:59:14.166596  2108 efficientnet_model.py:143] round_filter input=32 output=48\n",
      "I0824 12:59:14.166596  2108 efficientnet_model.py:143] round_filter input=16 output=24\n",
      "I0824 12:59:14.265236  2108 efficientnet_model.py:143] round_filter input=16 output=24\n",
      "I0824 12:59:14.265236  2108 efficientnet_model.py:143] round_filter input=24 output=32\n",
      "I0824 12:59:14.511545  2108 efficientnet_model.py:143] round_filter input=24 output=32\n",
      "I0824 12:59:14.511545  2108 efficientnet_model.py:143] round_filter input=40 output=56\n",
      "I0824 12:59:14.767268  2108 efficientnet_model.py:143] round_filter input=40 output=56\n",
      "I0824 12:59:14.768265  2108 efficientnet_model.py:143] round_filter input=80 output=112\n",
      "I0824 12:59:15.315643  2108 efficientnet_model.py:143] round_filter input=80 output=112\n",
      "I0824 12:59:15.315643  2108 efficientnet_model.py:143] round_filter input=112 output=160\n",
      "I0824 12:59:15.727684  2108 efficientnet_model.py:143] round_filter input=112 output=160\n",
      "I0824 12:59:15.727684  2108 efficientnet_model.py:143] round_filter input=192 output=272\n",
      "I0824 12:59:16.327491  2108 efficientnet_model.py:143] round_filter input=192 output=272\n",
      "I0824 12:59:16.327491  2108 efficientnet_model.py:143] round_filter input=320 output=448\n",
      "I0824 12:59:16.501051  2108 efficientnet_model.py:143] round_filter input=1280 output=1792\n",
      "I0824 12:59:16.551676  2108 efficientnet_model.py:453] Building model efficientnet with params ModelConfig(width_coefficient=1.4, depth_coefficient=1.8, resolution=380, dropout_rate=0.4, blocks=(BlockConfig(input_filters=32, output_filters=16, kernel_size=3, num_repeat=1, expand_ratio=1, strides=(1, 1), se_ratio=0.25, id_skip=True, fused_conv=False, conv_type='depthwise'), BlockConfig(input_filters=16, output_filters=24, kernel_size=3, num_repeat=2, expand_ratio=6, strides=(2, 2), se_ratio=0.25, id_skip=True, fused_conv=False, conv_type='depthwise'), BlockConfig(input_filters=24, output_filters=40, kernel_size=5, num_repeat=2, expand_ratio=6, strides=(2, 2), se_ratio=0.25, id_skip=True, fused_conv=False, conv_type='depthwise'), BlockConfig(input_filters=40, output_filters=80, kernel_size=3, num_repeat=3, expand_ratio=6, strides=(2, 2), se_ratio=0.25, id_skip=True, fused_conv=False, conv_type='depthwise'), BlockConfig(input_filters=80, output_filters=112, kernel_size=5, num_repeat=3, expand_ratio=6, strides=(1, 1), se_ratio=0.25, id_skip=True, fused_conv=False, conv_type='depthwise'), BlockConfig(input_filters=112, output_filters=192, kernel_size=5, num_repeat=4, expand_ratio=6, strides=(2, 2), se_ratio=0.25, id_skip=True, fused_conv=False, conv_type='depthwise'), BlockConfig(input_filters=192, output_filters=320, kernel_size=3, num_repeat=1, expand_ratio=6, strides=(1, 1), se_ratio=0.25, id_skip=True, fused_conv=False, conv_type='depthwise')), stem_base_filters=32, top_base_filters=1280, activation='simple_swish', batch_norm='default', bn_momentum=0.99, bn_epsilon=0.001, weight_decay=5e-06, drop_connect_rate=0.2, depth_divisor=8, min_depth=None, use_se=True, input_channels=3, num_classes=1000, model_name='efficientnet', rescale_input=False, data_format='channels_last', dtype='float32')\n",
      "I0824 12:59:16.618467  2108 ssd_efficientnet_bifpn_feature_extractor.py:145] EfficientDet EfficientNet backbone version: efficientnet-b5\n",
      "I0824 12:59:16.618467  2108 ssd_efficientnet_bifpn_feature_extractor.py:147] EfficientDet BiFPN num filters: 288\n",
      "I0824 12:59:16.618467  2108 ssd_efficientnet_bifpn_feature_extractor.py:148] EfficientDet BiFPN num iterations: 7\n",
      "I0824 12:59:16.620462  2108 efficientnet_model.py:143] round_filter input=32 output=48\n",
      "I0824 12:59:16.632430  2108 efficientnet_model.py:143] round_filter input=32 output=48\n",
      "I0824 12:59:16.632430  2108 efficientnet_model.py:143] round_filter input=16 output=24\n",
      "I0824 12:59:16.782064  2108 efficientnet_model.py:143] round_filter input=16 output=24\n",
      "I0824 12:59:16.782064  2108 efficientnet_model.py:143] round_filter input=24 output=40\n",
      "I0824 12:59:17.106013  2108 efficientnet_model.py:143] round_filter input=24 output=40\n",
      "I0824 12:59:17.107011  2108 efficientnet_model.py:143] round_filter input=40 output=64\n",
      "I0824 12:59:17.417797  2108 efficientnet_model.py:143] round_filter input=40 output=64\n",
      "I0824 12:59:17.417797  2108 efficientnet_model.py:143] round_filter input=80 output=128\n",
      "I0824 12:59:17.870039  2108 efficientnet_model.py:143] round_filter input=80 output=128\n",
      "I0824 12:59:17.870039  2108 efficientnet_model.py:143] round_filter input=112 output=176\n",
      "I0824 12:59:18.339031  2108 efficientnet_model.py:143] round_filter input=112 output=176\n",
      "I0824 12:59:18.339031  2108 efficientnet_model.py:143] round_filter input=192 output=304\n",
      "I0824 12:59:19.046081  2108 efficientnet_model.py:143] round_filter input=192 output=304\n",
      "I0824 12:59:19.046081  2108 efficientnet_model.py:143] round_filter input=320 output=512\n",
      "I0824 12:59:19.353694  2108 efficientnet_model.py:143] round_filter input=1280 output=2048\n",
      "I0824 12:59:19.403528  2108 efficientnet_model.py:453] Building model efficientnet with params ModelConfig(width_coefficient=1.6, depth_coefficient=2.2, resolution=456, dropout_rate=0.4, blocks=(BlockConfig(input_filters=32, output_filters=16, kernel_size=3, num_repeat=1, expand_ratio=1, strides=(1, 1), se_ratio=0.25, id_skip=True, fused_conv=False, conv_type='depthwise'), BlockConfig(input_filters=16, output_filters=24, kernel_size=3, num_repeat=2, expand_ratio=6, strides=(2, 2), se_ratio=0.25, id_skip=True, fused_conv=False, conv_type='depthwise'), BlockConfig(input_filters=24, output_filters=40, kernel_size=5, num_repeat=2, expand_ratio=6, strides=(2, 2), se_ratio=0.25, id_skip=True, fused_conv=False, conv_type='depthwise'), BlockConfig(input_filters=40, output_filters=80, kernel_size=3, num_repeat=3, expand_ratio=6, strides=(2, 2), se_ratio=0.25, id_skip=True, fused_conv=False, conv_type='depthwise'), BlockConfig(input_filters=80, output_filters=112, kernel_size=5, num_repeat=3, expand_ratio=6, strides=(1, 1), se_ratio=0.25, id_skip=True, fused_conv=False, conv_type='depthwise'), BlockConfig(input_filters=112, output_filters=192, kernel_size=5, num_repeat=4, expand_ratio=6, strides=(2, 2), se_ratio=0.25, id_skip=True, fused_conv=False, conv_type='depthwise'), BlockConfig(input_filters=192, output_filters=320, kernel_size=3, num_repeat=1, expand_ratio=6, strides=(1, 1), se_ratio=0.25, id_skip=True, fused_conv=False, conv_type='depthwise')), stem_base_filters=32, top_base_filters=1280, activation='simple_swish', batch_norm='default', bn_momentum=0.99, bn_epsilon=0.001, weight_decay=5e-06, drop_connect_rate=0.2, depth_divisor=8, min_depth=None, use_se=True, input_channels=3, num_classes=1000, model_name='efficientnet', rescale_input=False, data_format='channels_last', dtype='float32')\n",
      "I0824 12:59:19.480320  2108 ssd_efficientnet_bifpn_feature_extractor.py:145] EfficientDet EfficientNet backbone version: efficientnet-b6\n",
      "I0824 12:59:19.480320  2108 ssd_efficientnet_bifpn_feature_extractor.py:147] EfficientDet BiFPN num filters: 384\n",
      "I0824 12:59:19.480320  2108 ssd_efficientnet_bifpn_feature_extractor.py:148] EfficientDet BiFPN num iterations: 8\n",
      "I0824 12:59:19.481317  2108 efficientnet_model.py:143] round_filter input=32 output=56\n",
      "I0824 12:59:19.494282  2108 efficientnet_model.py:143] round_filter input=32 output=56\n",
      "I0824 12:59:19.494282  2108 efficientnet_model.py:143] round_filter input=16 output=32\n",
      "I0824 12:59:19.643917  2108 efficientnet_model.py:143] round_filter input=16 output=32\n",
      "I0824 12:59:19.643917  2108 efficientnet_model.py:143] round_filter input=24 output=40\n",
      "I0824 12:59:20.032830  2108 efficientnet_model.py:143] round_filter input=24 output=40\n",
      "I0824 12:59:20.032830  2108 efficientnet_model.py:143] round_filter input=40 output=72\n",
      "I0824 12:59:20.605152  2108 efficientnet_model.py:143] round_filter input=40 output=72\n",
      "I0824 12:59:20.605152  2108 efficientnet_model.py:143] round_filter input=80 output=144\n",
      "I0824 12:59:21.146283  2108 efficientnet_model.py:143] round_filter input=80 output=144\n",
      "I0824 12:59:21.146283  2108 efficientnet_model.py:143] round_filter input=112 output=200\n",
      "I0824 12:59:21.697203  2108 efficientnet_model.py:143] round_filter input=112 output=200\n",
      "I0824 12:59:21.698200  2108 efficientnet_model.py:143] round_filter input=192 output=344\n",
      "I0824 12:59:22.597505  2108 efficientnet_model.py:143] round_filter input=192 output=344\n",
      "I0824 12:59:22.597505  2108 efficientnet_model.py:143] round_filter input=320 output=576\n",
      "I0824 12:59:22.920392  2108 efficientnet_model.py:143] round_filter input=1280 output=2304\n",
      "I0824 12:59:22.975244  2108 efficientnet_model.py:453] Building model efficientnet with params ModelConfig(width_coefficient=1.8, depth_coefficient=2.6, resolution=528, dropout_rate=0.5, blocks=(BlockConfig(input_filters=32, output_filters=16, kernel_size=3, num_repeat=1, expand_ratio=1, strides=(1, 1), se_ratio=0.25, id_skip=True, fused_conv=False, conv_type='depthwise'), BlockConfig(input_filters=16, output_filters=24, kernel_size=3, num_repeat=2, expand_ratio=6, strides=(2, 2), se_ratio=0.25, id_skip=True, fused_conv=False, conv_type='depthwise'), BlockConfig(input_filters=24, output_filters=40, kernel_size=5, num_repeat=2, expand_ratio=6, strides=(2, 2), se_ratio=0.25, id_skip=True, fused_conv=False, conv_type='depthwise'), BlockConfig(input_filters=40, output_filters=80, kernel_size=3, num_repeat=3, expand_ratio=6, strides=(2, 2), se_ratio=0.25, id_skip=True, fused_conv=False, conv_type='depthwise'), BlockConfig(input_filters=80, output_filters=112, kernel_size=5, num_repeat=3, expand_ratio=6, strides=(1, 1), se_ratio=0.25, id_skip=True, fused_conv=False, conv_type='depthwise'), BlockConfig(input_filters=112, output_filters=192, kernel_size=5, num_repeat=4, expand_ratio=6, strides=(2, 2), se_ratio=0.25, id_skip=True, fused_conv=False, conv_type='depthwise'), BlockConfig(input_filters=192, output_filters=320, kernel_size=3, num_repeat=1, expand_ratio=6, strides=(1, 1), se_ratio=0.25, id_skip=True, fused_conv=False, conv_type='depthwise')), stem_base_filters=32, top_base_filters=1280, activation='simple_swish', batch_norm='default', bn_momentum=0.99, bn_epsilon=0.001, weight_decay=5e-06, drop_connect_rate=0.2, depth_divisor=8, min_depth=None, use_se=True, input_channels=3, num_classes=1000, model_name='efficientnet', rescale_input=False, data_format='channels_last', dtype='float32')\n",
      "I0824 12:59:23.063011  2108 ssd_efficientnet_bifpn_feature_extractor.py:145] EfficientDet EfficientNet backbone version: efficientnet-b7\n",
      "I0824 12:59:23.063011  2108 ssd_efficientnet_bifpn_feature_extractor.py:147] EfficientDet BiFPN num filters: 384\n",
      "I0824 12:59:23.063011  2108 ssd_efficientnet_bifpn_feature_extractor.py:148] EfficientDet BiFPN num iterations: 8\n",
      "I0824 12:59:23.064009  2108 efficientnet_model.py:143] round_filter input=32 output=64\n",
      "I0824 12:59:23.076973  2108 efficientnet_model.py:143] round_filter input=32 output=64\n",
      "I0824 12:59:23.076973  2108 efficientnet_model.py:143] round_filter input=16 output=32\n",
      "I0824 12:59:23.275410  2108 efficientnet_model.py:143] round_filter input=16 output=32\n",
      "I0824 12:59:23.275410  2108 efficientnet_model.py:143] round_filter input=24 output=48\n",
      "I0824 12:59:23.714841  2108 efficientnet_model.py:143] round_filter input=24 output=48\n",
      "I0824 12:59:23.714841  2108 efficientnet_model.py:143] round_filter input=40 output=80\n",
      "I0824 12:59:24.160020  2108 efficientnet_model.py:143] round_filter input=40 output=80\n",
      "I0824 12:59:24.161015  2108 efficientnet_model.py:143] round_filter input=80 output=160\n",
      "I0824 12:59:24.831608  2108 efficientnet_model.py:143] round_filter input=80 output=160\n",
      "I0824 12:59:24.831608  2108 efficientnet_model.py:143] round_filter input=112 output=224\n",
      "I0824 12:59:25.547983  2108 efficientnet_model.py:143] round_filter input=112 output=224\n",
      "I0824 12:59:25.547983  2108 efficientnet_model.py:143] round_filter input=192 output=384\n",
      "I0824 12:59:26.855158  2108 efficientnet_model.py:143] round_filter input=192 output=384\n",
      "I0824 12:59:26.855158  2108 efficientnet_model.py:143] round_filter input=320 output=640\n",
      "I0824 12:59:27.345222  2108 efficientnet_model.py:143] round_filter input=1280 output=2560\n",
      "I0824 12:59:27.404057  2108 efficientnet_model.py:453] Building model efficientnet with params ModelConfig(width_coefficient=2.0, depth_coefficient=3.1, resolution=600, dropout_rate=0.5, blocks=(BlockConfig(input_filters=32, output_filters=16, kernel_size=3, num_repeat=1, expand_ratio=1, strides=(1, 1), se_ratio=0.25, id_skip=True, fused_conv=False, conv_type='depthwise'), BlockConfig(input_filters=16, output_filters=24, kernel_size=3, num_repeat=2, expand_ratio=6, strides=(2, 2), se_ratio=0.25, id_skip=True, fused_conv=False, conv_type='depthwise'), BlockConfig(input_filters=24, output_filters=40, kernel_size=5, num_repeat=2, expand_ratio=6, strides=(2, 2), se_ratio=0.25, id_skip=True, fused_conv=False, conv_type='depthwise'), BlockConfig(input_filters=40, output_filters=80, kernel_size=3, num_repeat=3, expand_ratio=6, strides=(2, 2), se_ratio=0.25, id_skip=True, fused_conv=False, conv_type='depthwise'), BlockConfig(input_filters=80, output_filters=112, kernel_size=5, num_repeat=3, expand_ratio=6, strides=(1, 1), se_ratio=0.25, id_skip=True, fused_conv=False, conv_type='depthwise'), BlockConfig(input_filters=112, output_filters=192, kernel_size=5, num_repeat=4, expand_ratio=6, strides=(2, 2), se_ratio=0.25, id_skip=True, fused_conv=False, conv_type='depthwise'), BlockConfig(input_filters=192, output_filters=320, kernel_size=3, num_repeat=1, expand_ratio=6, strides=(1, 1), se_ratio=0.25, id_skip=True, fused_conv=False, conv_type='depthwise')), stem_base_filters=32, top_base_filters=1280, activation='simple_swish', batch_norm='default', bn_momentum=0.99, bn_epsilon=0.001, weight_decay=5e-06, drop_connect_rate=0.2, depth_divisor=8, min_depth=None, use_se=True, input_channels=3, num_classes=1000, model_name='efficientnet', rescale_input=False, data_format='channels_last', dtype='float32')\n",
      "INFO:tensorflow:time(__main__.ModelBuilderTF2Test.test_create_ssd_models_from_config): 20.13s\n",
      "I0824 12:59:27.507797  2108 test_util.py:2458] time(__main__.ModelBuilderTF2Test.test_create_ssd_models_from_config): 20.13s\n",
      "[       OK ] ModelBuilderTF2Test.test_create_ssd_models_from_config\n",
      "[ RUN      ] ModelBuilderTF2Test.test_invalid_faster_rcnn_batchnorm_update\n",
      "INFO:tensorflow:time(__main__.ModelBuilderTF2Test.test_invalid_faster_rcnn_batchnorm_update): 0.0s\n",
      "I0824 12:59:27.511777  2108 test_util.py:2458] time(__main__.ModelBuilderTF2Test.test_invalid_faster_rcnn_batchnorm_update): 0.0s\n",
      "[       OK ] ModelBuilderTF2Test.test_invalid_faster_rcnn_batchnorm_update\n",
      "[ RUN      ] ModelBuilderTF2Test.test_invalid_first_stage_nms_iou_threshold\n",
      "INFO:tensorflow:time(__main__.ModelBuilderTF2Test.test_invalid_first_stage_nms_iou_threshold): 0.0s\n",
      "I0824 12:59:27.513771  2108 test_util.py:2458] time(__main__.ModelBuilderTF2Test.test_invalid_first_stage_nms_iou_threshold): 0.0s\n",
      "[       OK ] ModelBuilderTF2Test.test_invalid_first_stage_nms_iou_threshold\n",
      "[ RUN      ] ModelBuilderTF2Test.test_invalid_model_config_proto\n",
      "INFO:tensorflow:time(__main__.ModelBuilderTF2Test.test_invalid_model_config_proto): 0.0s\n",
      "I0824 12:59:27.513771  2108 test_util.py:2458] time(__main__.ModelBuilderTF2Test.test_invalid_model_config_proto): 0.0s\n",
      "[       OK ] ModelBuilderTF2Test.test_invalid_model_config_proto\n",
      "[ RUN      ] ModelBuilderTF2Test.test_invalid_second_stage_batch_size\n",
      "INFO:tensorflow:time(__main__.ModelBuilderTF2Test.test_invalid_second_stage_batch_size): 0.0s\n",
      "I0824 12:59:27.514768  2108 test_util.py:2458] time(__main__.ModelBuilderTF2Test.test_invalid_second_stage_batch_size): 0.0s\n",
      "[       OK ] ModelBuilderTF2Test.test_invalid_second_stage_batch_size\n",
      "[ RUN      ] ModelBuilderTF2Test.test_session\n",
      "[  SKIPPED ] ModelBuilderTF2Test.test_session\n",
      "[ RUN      ] ModelBuilderTF2Test.test_unknown_faster_rcnn_feature_extractor\n",
      "INFO:tensorflow:time(__main__.ModelBuilderTF2Test.test_unknown_faster_rcnn_feature_extractor): 0.0s\n",
      "I0824 12:59:27.515733  2108 test_util.py:2458] time(__main__.ModelBuilderTF2Test.test_unknown_faster_rcnn_feature_extractor): 0.0s\n",
      "[       OK ] ModelBuilderTF2Test.test_unknown_faster_rcnn_feature_extractor\n",
      "[ RUN      ] ModelBuilderTF2Test.test_unknown_meta_architecture\n",
      "INFO:tensorflow:time(__main__.ModelBuilderTF2Test.test_unknown_meta_architecture): 0.0s\n",
      "I0824 12:59:27.516731  2108 test_util.py:2458] time(__main__.ModelBuilderTF2Test.test_unknown_meta_architecture): 0.0s\n",
      "[       OK ] ModelBuilderTF2Test.test_unknown_meta_architecture\n",
      "[ RUN      ] ModelBuilderTF2Test.test_unknown_ssd_feature_extractor\n",
      "INFO:tensorflow:time(__main__.ModelBuilderTF2Test.test_unknown_ssd_feature_extractor): 0.0s\n",
      "I0824 12:59:27.517727  2108 test_util.py:2458] time(__main__.ModelBuilderTF2Test.test_unknown_ssd_feature_extractor): 0.0s\n",
      "[       OK ] ModelBuilderTF2Test.test_unknown_ssd_feature_extractor\n",
      "----------------------------------------------------------------------\n",
      "Ran 24 tests in 24.659s\n",
      "\n",
      "OK (skipped=1)\n"
     ]
    }
   ],
   "source": [
    "!python object_detection/builders/model_builder_tf2_test.py"
   ]
  },
  {
   "cell_type": "code",
   "execution_count": 16,
   "metadata": {},
   "outputs": [
    {
     "data": {
      "text/plain": [
       "'c:\\\\Users\\\\abulf\\\\Documents\\\\Python_tutorial\\\\Assignments\\\\Machine_learning\\\\models\\\\research'"
      ]
     },
     "execution_count": 16,
     "metadata": {},
     "output_type": "execute_result"
    }
   ],
   "source": [
    "pwd"
   ]
  },
  {
   "cell_type": "code",
   "execution_count": 17,
   "metadata": {},
   "outputs": [
    {
     "name": "stdout",
     "output_type": "stream",
     "text": [
      "c:\\Users\\abulf\\Documents\\Python_tutorial\\Assignments\\Machine_learning\\models\n"
     ]
    }
   ],
   "source": [
    "cd .."
   ]
  },
  {
   "cell_type": "code",
   "execution_count": 18,
   "metadata": {},
   "outputs": [
    {
     "name": "stdout",
     "output_type": "stream",
     "text": [
      "c:\\Users\\abulf\\Documents\\Python_tutorial\\Assignments\\Machine_learning\n"
     ]
    }
   ],
   "source": [
    "cd .."
   ]
  },
  {
   "cell_type": "code",
   "execution_count": 19,
   "metadata": {},
   "outputs": [
    {
     "name": "stdout",
     "output_type": "stream",
     "text": [
      "c:\\Users\\abulf\\Documents\\Python_tutorial\\Assignments\\Machine_learning\\training_demo\n"
     ]
    }
   ],
   "source": [
    "cd training_demo "
   ]
  },
  {
   "cell_type": "code",
   "execution_count": 20,
   "metadata": {},
   "outputs": [
    {
     "name": "stdout",
     "output_type": "stream",
     "text": [
      "c:\\Users\\abulf\\Documents\\Python_tutorial\\Assignments\\Machine_learning\\training_demo\\pre-trained-models\n"
     ]
    }
   ],
   "source": [
    "cd pre-trained-models"
   ]
  },
  {
   "cell_type": "code",
   "execution_count": 21,
   "metadata": {},
   "outputs": [],
   "source": [
    "import wget"
   ]
  },
  {
   "cell_type": "code",
   "execution_count": 22,
   "metadata": {},
   "outputs": [
    {
     "data": {
      "text/plain": [
       "\"import wget\\nwget.download('http://download.tensorflow.org/models/object_detection/tf2/20200711/ssd_resnet101_v1_fpn_640x640_coco17_tpu-8.tar.gz')\""
      ]
     },
     "execution_count": 22,
     "metadata": {},
     "output_type": "execute_result"
    }
   ],
   "source": [
    "'''import wget\n",
    "wget.download('http://download.tensorflow.org/models/object_detection/tf2/20200711/ssd_resnet101_v1_fpn_640x640_coco17_tpu-8.tar.gz')'''"
   ]
  },
  {
   "cell_type": "code",
   "execution_count": 23,
   "metadata": {},
   "outputs": [],
   "source": [
    "#!tar -xvf ssd_resnet101_v1_fpn_640x640_coco17_tpu-8.tar.gz"
   ]
  },
  {
   "cell_type": "code",
   "execution_count": 24,
   "metadata": {},
   "outputs": [
    {
     "data": {
      "text/plain": [
       "'c:\\\\Users\\\\abulf\\\\Documents\\\\Python_tutorial\\\\Assignments\\\\Machine_learning\\\\training_demo\\\\pre-trained-models'"
      ]
     },
     "execution_count": 24,
     "metadata": {},
     "output_type": "execute_result"
    }
   ],
   "source": [
    "pwd"
   ]
  },
  {
   "cell_type": "code",
   "execution_count": 25,
   "metadata": {},
   "outputs": [
    {
     "name": "stdout",
     "output_type": "stream",
     "text": [
      "c:\\Users\\abulf\\Documents\\Python_tutorial\\Assignments\\Machine_learning\\training_demo\n"
     ]
    }
   ],
   "source": [
    "cd .."
   ]
  },
  {
   "cell_type": "code",
   "execution_count": 26,
   "metadata": {},
   "outputs": [],
   "source": [
    "#!pip install --upgrade pip\n",
    "#!pip install -U numpy"
   ]
  },
  {
   "cell_type": "code",
   "execution_count": 27,
   "metadata": {},
   "outputs": [
    {
     "data": {
      "text/plain": [
       "'c:\\\\Users\\\\abulf\\\\Documents\\\\Python_tutorial\\\\Assignments\\\\Machine_learning\\\\training_demo'"
      ]
     },
     "execution_count": 27,
     "metadata": {},
     "output_type": "execute_result"
    }
   ],
   "source": [
    "pwd"
   ]
  },
  {
   "cell_type": "code",
   "execution_count": 28,
   "metadata": {},
   "outputs": [
    {
     "name": "stdout",
     "output_type": "stream",
     "text": [
      "nvcc: NVIDIA (R) Cuda compiler driver\n",
      "Copyright (c) 2005-2020 NVIDIA Corporation\n",
      "Built on Mon_Nov_30_19:15:10_Pacific_Standard_Time_2020\n",
      "Cuda compilation tools, release 11.2, V11.2.67\n",
      "Build cuda_11.2.r11.2/compiler.29373293_0\n"
     ]
    }
   ],
   "source": [
    "!nvcc --version"
   ]
  },
  {
   "cell_type": "code",
   "execution_count": 29,
   "metadata": {},
   "outputs": [
    {
     "name": "stdout",
     "output_type": "stream",
     "text": [
      "^C\n"
     ]
    }
   ],
   "source": [
    "!python model_main_tf2.py --model_dir=C:/Users/abulf/Documents/Python_tutorial/Assignments/Machine_learning/training_demo/models/my_ssd_resnet101_v1_fpn --pipeline_config_path=C:/Users/abulf/Documents/Python_tutorial/Assignments/Machine_learning/training_demo/models/my_ssd_resnet101_v1_fpn/pipeline.config"
   ]
  },
  {
   "cell_type": "code",
   "execution_count": 1,
   "metadata": {},
   "outputs": [
    {
     "ename": "NameError",
     "evalue": "name 'tf' is not defined",
     "output_type": "error",
     "traceback": [
      "\u001b[1;31m---------------------------------------------------------------------------\u001b[0m",
      "\u001b[1;31mNameError\u001b[0m                                 Traceback (most recent call last)",
      "\u001b[1;32mc:\\Users\\abulf\\Documents\\Python_tutorial\\Assignments\\Machine_learning\\object_detection.ipynb Cell 1'\u001b[0m in \u001b[0;36m<cell line: 1>\u001b[1;34m()\u001b[0m\n\u001b[1;32m----> <a href='vscode-notebook-cell:/c%3A/Users/abulf/Documents/Python_tutorial/Assignments/Machine_learning/object_detection.ipynb#ch0000000?line=0'>1</a>\u001b[0m \u001b[39mlen\u001b[39m(tf\u001b[39m.\u001b[39mconfig\u001b[39m.\u001b[39mlist_physical_devices(\u001b[39m'\u001b[39m\u001b[39mGPU\u001b[39m\u001b[39m'\u001b[39m))\u001b[39m>\u001b[39m\u001b[39m0\u001b[39m\n",
      "\u001b[1;31mNameError\u001b[0m: name 'tf' is not defined"
     ]
    }
   ],
   "source": [
    "len(tf.config.list_physical_devices('GPU'))>0\n"
   ]
  },
  {
   "cell_type": "code",
   "execution_count": 33,
   "metadata": {},
   "outputs": [],
   "source": [
    "#!python exporter_main_v2.py --input_type image_tensor --pipeline_config_path models/my_ssd_resnet101_v1_fpn/pipeline.config --trained_checkpoint_dir pre-trained-models/ssd_resnet101_v1_fpn_640x640_coco17_tpu-8 --output_directory exported_models/my_model"
   ]
  },
  {
   "cell_type": "code",
   "execution_count": null,
   "metadata": {},
   "outputs": [],
   "source": []
  }
 ],
 "metadata": {
  "kernelspec": {
   "display_name": "Python 3.10.5 ('myvenv': venv)",
   "language": "python",
   "name": "python3"
  },
  "language_info": {
   "codemirror_mode": {
    "name": "ipython",
    "version": 3
   },
   "file_extension": ".py",
   "mimetype": "text/x-python",
   "name": "python",
   "nbconvert_exporter": "python",
   "pygments_lexer": "ipython3",
   "version": "3.10.5"
  },
  "orig_nbformat": 4,
  "vscode": {
   "interpreter": {
    "hash": "f10a24a426163f4969834cd78cacbc8a505b0e39e0a52f8aaabad16331e335f4"
   }
  }
 },
 "nbformat": 4,
 "nbformat_minor": 2
}
