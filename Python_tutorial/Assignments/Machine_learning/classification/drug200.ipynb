{
 "cells": [
  {
   "cell_type": "code",
   "execution_count": 1,
   "metadata": {},
   "outputs": [],
   "source": [
    "import numpy as np \n",
    "import pandas as pd \n",
    "import seaborn as sns \n",
    "import matplotlib.pyplot as plt \n",
    "from sklearn.model_selection import train_test_split\n",
    "from sklearn.preprocessing import LabelEncoder\n",
    "from sklearn.tree import DecisionTreeClassifier, export_graphviz\n",
    "from sklearn.metrics import classification_report, confusion_matrix, precision_recall_curve, auc, roc_curve"
   ]
  },
  {
   "cell_type": "code",
   "execution_count": 2,
   "metadata": {},
   "outputs": [
    {
     "name": "stdout",
     "output_type": "stream",
     "text": [
      "   Age Sex      BP Cholesterol  Na_to_K   Drug\n",
      "0   23   F    HIGH        HIGH   25.355  DrugY\n",
      "1   47   M     LOW        HIGH   13.093  drugC\n",
      "2   47   M     LOW        HIGH   10.114  drugC\n",
      "3   28   F  NORMAL        HIGH    7.798  drugX\n",
      "4   61   F     LOW        HIGH   18.043  DrugY\n"
     ]
    }
   ],
   "source": [
    "df = pd.read_csv('drug200.csv')\n",
    "print(df.head())"
   ]
  },
  {
   "cell_type": "code",
   "execution_count": 3,
   "metadata": {},
   "outputs": [
    {
     "name": "stdout",
     "output_type": "stream",
     "text": [
      "[]\n"
     ]
    }
   ],
   "source": [
    "nan_cols = [i for i in df.columns if df[i].isnull().any()]\n",
    "print(nan_cols)"
   ]
  },
  {
   "cell_type": "code",
   "execution_count": 4,
   "metadata": {},
   "outputs": [
    {
     "name": "stdout",
     "output_type": "stream",
     "text": [
      "<class 'pandas.core.frame.DataFrame'>\n",
      "RangeIndex: 200 entries, 0 to 199\n",
      "Data columns (total 6 columns):\n",
      " #   Column       Non-Null Count  Dtype  \n",
      "---  ------       --------------  -----  \n",
      " 0   Age          200 non-null    int64  \n",
      " 1   Sex          200 non-null    object \n",
      " 2   BP           200 non-null    object \n",
      " 3   Cholesterol  200 non-null    object \n",
      " 4   Na_to_K      200 non-null    float64\n",
      " 5   Drug         200 non-null    object \n",
      "dtypes: float64(1), int64(1), object(4)\n",
      "memory usage: 9.5+ KB\n"
     ]
    }
   ],
   "source": [
    "df.info()"
   ]
  },
  {
   "cell_type": "code",
   "execution_count": 5,
   "metadata": {},
   "outputs": [
    {
     "data": {
      "text/html": [
       "<div>\n",
       "<style scoped>\n",
       "    .dataframe tbody tr th:only-of-type {\n",
       "        vertical-align: middle;\n",
       "    }\n",
       "\n",
       "    .dataframe tbody tr th {\n",
       "        vertical-align: top;\n",
       "    }\n",
       "\n",
       "    .dataframe thead th {\n",
       "        text-align: right;\n",
       "    }\n",
       "</style>\n",
       "<table border=\"1\" class=\"dataframe\">\n",
       "  <thead>\n",
       "    <tr style=\"text-align: right;\">\n",
       "      <th></th>\n",
       "      <th>Age</th>\n",
       "      <th>Sex</th>\n",
       "      <th>BP</th>\n",
       "      <th>Cholesterol</th>\n",
       "      <th>Na_to_K</th>\n",
       "      <th>Drug</th>\n",
       "    </tr>\n",
       "  </thead>\n",
       "  <tbody>\n",
       "    <tr>\n",
       "      <th>count</th>\n",
       "      <td>200.000000</td>\n",
       "      <td>200</td>\n",
       "      <td>200</td>\n",
       "      <td>200</td>\n",
       "      <td>200.000000</td>\n",
       "      <td>200</td>\n",
       "    </tr>\n",
       "    <tr>\n",
       "      <th>unique</th>\n",
       "      <td>NaN</td>\n",
       "      <td>2</td>\n",
       "      <td>3</td>\n",
       "      <td>2</td>\n",
       "      <td>NaN</td>\n",
       "      <td>5</td>\n",
       "    </tr>\n",
       "    <tr>\n",
       "      <th>top</th>\n",
       "      <td>NaN</td>\n",
       "      <td>M</td>\n",
       "      <td>HIGH</td>\n",
       "      <td>HIGH</td>\n",
       "      <td>NaN</td>\n",
       "      <td>DrugY</td>\n",
       "    </tr>\n",
       "    <tr>\n",
       "      <th>freq</th>\n",
       "      <td>NaN</td>\n",
       "      <td>104</td>\n",
       "      <td>77</td>\n",
       "      <td>103</td>\n",
       "      <td>NaN</td>\n",
       "      <td>91</td>\n",
       "    </tr>\n",
       "    <tr>\n",
       "      <th>mean</th>\n",
       "      <td>44.315000</td>\n",
       "      <td>NaN</td>\n",
       "      <td>NaN</td>\n",
       "      <td>NaN</td>\n",
       "      <td>16.084485</td>\n",
       "      <td>NaN</td>\n",
       "    </tr>\n",
       "    <tr>\n",
       "      <th>std</th>\n",
       "      <td>16.544315</td>\n",
       "      <td>NaN</td>\n",
       "      <td>NaN</td>\n",
       "      <td>NaN</td>\n",
       "      <td>7.223956</td>\n",
       "      <td>NaN</td>\n",
       "    </tr>\n",
       "    <tr>\n",
       "      <th>min</th>\n",
       "      <td>15.000000</td>\n",
       "      <td>NaN</td>\n",
       "      <td>NaN</td>\n",
       "      <td>NaN</td>\n",
       "      <td>6.269000</td>\n",
       "      <td>NaN</td>\n",
       "    </tr>\n",
       "    <tr>\n",
       "      <th>20%</th>\n",
       "      <td>28.000000</td>\n",
       "      <td>NaN</td>\n",
       "      <td>NaN</td>\n",
       "      <td>NaN</td>\n",
       "      <td>10.066600</td>\n",
       "      <td>NaN</td>\n",
       "    </tr>\n",
       "    <tr>\n",
       "      <th>40%</th>\n",
       "      <td>39.000000</td>\n",
       "      <td>NaN</td>\n",
       "      <td>NaN</td>\n",
       "      <td>NaN</td>\n",
       "      <td>12.419800</td>\n",
       "      <td>NaN</td>\n",
       "    </tr>\n",
       "    <tr>\n",
       "      <th>50%</th>\n",
       "      <td>45.000000</td>\n",
       "      <td>NaN</td>\n",
       "      <td>NaN</td>\n",
       "      <td>NaN</td>\n",
       "      <td>13.936500</td>\n",
       "      <td>NaN</td>\n",
       "    </tr>\n",
       "    <tr>\n",
       "      <th>60%</th>\n",
       "      <td>49.000000</td>\n",
       "      <td>NaN</td>\n",
       "      <td>NaN</td>\n",
       "      <td>NaN</td>\n",
       "      <td>15.922200</td>\n",
       "      <td>NaN</td>\n",
       "    </tr>\n",
       "    <tr>\n",
       "      <th>80%</th>\n",
       "      <td>60.200000</td>\n",
       "      <td>NaN</td>\n",
       "      <td>NaN</td>\n",
       "      <td>NaN</td>\n",
       "      <td>21.320000</td>\n",
       "      <td>NaN</td>\n",
       "    </tr>\n",
       "    <tr>\n",
       "      <th>max</th>\n",
       "      <td>74.000000</td>\n",
       "      <td>NaN</td>\n",
       "      <td>NaN</td>\n",
       "      <td>NaN</td>\n",
       "      <td>38.247000</td>\n",
       "      <td>NaN</td>\n",
       "    </tr>\n",
       "  </tbody>\n",
       "</table>\n",
       "</div>"
      ],
      "text/plain": [
       "               Age  Sex    BP Cholesterol     Na_to_K   Drug\n",
       "count   200.000000  200   200         200  200.000000    200\n",
       "unique         NaN    2     3           2         NaN      5\n",
       "top            NaN    M  HIGH        HIGH         NaN  DrugY\n",
       "freq           NaN  104    77         103         NaN     91\n",
       "mean     44.315000  NaN   NaN         NaN   16.084485    NaN\n",
       "std      16.544315  NaN   NaN         NaN    7.223956    NaN\n",
       "min      15.000000  NaN   NaN         NaN    6.269000    NaN\n",
       "20%      28.000000  NaN   NaN         NaN   10.066600    NaN\n",
       "40%      39.000000  NaN   NaN         NaN   12.419800    NaN\n",
       "50%      45.000000  NaN   NaN         NaN   13.936500    NaN\n",
       "60%      49.000000  NaN   NaN         NaN   15.922200    NaN\n",
       "80%      60.200000  NaN   NaN         NaN   21.320000    NaN\n",
       "max      74.000000  NaN   NaN         NaN   38.247000    NaN"
      ]
     },
     "execution_count": 5,
     "metadata": {},
     "output_type": "execute_result"
    }
   ],
   "source": [
    "include =['object', 'float', 'int']\n",
    "perc =[.20, .40, .60, .80]  \n",
    "desc = df.describe(percentiles = perc, include = include)\n",
    "desc"
   ]
  },
  {
   "cell_type": "code",
   "execution_count": 6,
   "metadata": {},
   "outputs": [
    {
     "name": "stdout",
     "output_type": "stream",
     "text": [
      "Index(['Age', 'Sex', 'BP', 'Cholesterol', 'Na_to_K', 'Drug'], dtype='object')\n"
     ]
    }
   ],
   "source": [
    "print(df.columns)"
   ]
  },
  {
   "cell_type": "code",
   "execution_count": 7,
   "metadata": {},
   "outputs": [
    {
     "name": "stdout",
     "output_type": "stream",
     "text": [
      "Dataset shape: (200, 6)\n"
     ]
    }
   ],
   "source": [
    "print(\"Dataset shape:\", df.shape)"
   ]
  },
  {
   "cell_type": "code",
   "execution_count": 8,
   "metadata": {},
   "outputs": [
    {
     "name": "stdout",
     "output_type": "stream",
     "text": [
      "47    8\n",
      "23    7\n",
      "28    7\n",
      "49    7\n",
      "39    6\n",
      "32    6\n",
      "50    5\n",
      "37    5\n",
      "58    5\n",
      "60    5\n",
      "22    5\n",
      "34    4\n",
      "72    4\n",
      "51    4\n",
      "42    4\n",
      "26    4\n",
      "24    4\n",
      "74    4\n",
      "67    4\n",
      "68    4\n",
      "61    4\n",
      "56    4\n",
      "20    4\n",
      "36    4\n",
      "45    4\n",
      "41    4\n",
      "31    4\n",
      "43    4\n",
      "65    4\n",
      "57    4\n",
      "53    3\n",
      "40    3\n",
      "70    3\n",
      "59    3\n",
      "16    3\n",
      "38    3\n",
      "15    3\n",
      "69    3\n",
      "35    3\n",
      "18    3\n",
      "64    3\n",
      "52    2\n",
      "55    2\n",
      "62    2\n",
      "19    2\n",
      "29    2\n",
      "66    2\n",
      "73    2\n",
      "46    2\n",
      "48    2\n",
      "54    1\n",
      "17    1\n",
      "33    1\n",
      "63    1\n",
      "30    1\n",
      "21    1\n",
      "25    1\n",
      "Name: Age, dtype: int64\n",
      "M    104\n",
      "F     96\n",
      "Name: Sex, dtype: int64\n",
      "HIGH      77\n",
      "LOW       64\n",
      "NORMAL    59\n",
      "Name: BP, dtype: int64\n",
      "HIGH      103\n",
      "NORMAL     97\n",
      "Name: Cholesterol, dtype: int64\n",
      "12.006    2\n",
      "18.295    2\n",
      "25.355    1\n",
      "11.939    1\n",
      "16.347    1\n",
      "         ..\n",
      "24.658    1\n",
      "24.276    1\n",
      "13.967    1\n",
      "19.675    1\n",
      "11.349    1\n",
      "Name: Na_to_K, Length: 198, dtype: int64\n",
      "DrugY    91\n",
      "drugX    54\n",
      "drugA    23\n",
      "drugC    16\n",
      "drugB    16\n",
      "Name: Drug, dtype: int64\n"
     ]
    }
   ],
   "source": [
    "for col in df.columns:\n",
    "    print(df[col].value_counts())"
   ]
  },
  {
   "cell_type": "code",
   "execution_count": 9,
   "metadata": {},
   "outputs": [
    {
     "name": "stderr",
     "output_type": "stream",
     "text": [
      "c:\\Users\\abulf\\Documents\\Python_tutorial\\Assignments\\Machine_learning\\myvenv\\lib\\site-packages\\seaborn\\_decorators.py:36: FutureWarning: Pass the following variables as keyword args: x, y. From version 0.12, the only valid positional argument will be `data`, and passing other arguments without an explicit keyword will result in an error or misinterpretation.\n",
      "  warnings.warn(\n"
     ]
    },
    {
     "data": {
      "image/png": "[encoded data removed]",
      "text/plain": [
       "<Figure size 576x504 with 1 Axes>"
      ]
     },
     "metadata": {
      "needs_background": "light"
     },
     "output_type": "display_data"
    }
   ],
   "source": [
    "count = df['Drug'].value_counts()\n",
    "plt.figure(figsize=(8,7))\n",
    "sns.barplot(count.index, count.values, alpha=0.8, palette=\"prism\")\n",
    "plt.ylabel('Count', fontsize=12)\n",
    "plt.xlabel('Class', fontsize=12)\n",
    "plt.title('Number of poisonous/edible mushrooms')\n",
    "#plt.savefig(\"mushrooms1.png\", format='png', dpi=500)\n",
    "plt.show()"
   ]
  },
  {
   "cell_type": "code",
   "execution_count": 10,
   "metadata": {},
   "outputs": [
    {
     "data": {
      "text/plain": [
       "Age            0\n",
       "Sex            0\n",
       "BP             0\n",
       "Cholesterol    0\n",
       "Na_to_K        0\n",
       "Drug           0\n",
       "dtype: int64"
      ]
     },
     "execution_count": 10,
     "metadata": {},
     "output_type": "execute_result"
    }
   ],
   "source": [
    "df.isnull().sum()"
   ]
  },
  {
   "cell_type": "code",
   "execution_count": 11,
   "metadata": {},
   "outputs": [],
   "source": [
    "le = LabelEncoder()\n",
    "le.fit(df.BP)\n",
    "df.BP = le.transform(df.BP)\n",
    "le.fit(df.Cholesterol) \n",
    "df.Cholesterol = le.transform(df.Cholesterol)\n",
    "le.fit(df.Drug) \n",
    "df.Drug = le.transform(df.Drug)\n",
    "le.fit(df.Sex) \n",
    "df.Sex = le.transform(df.Sex)"
   ]
  },
  {
   "cell_type": "code",
   "execution_count": 12,
   "metadata": {},
   "outputs": [
    {
     "name": "stdout",
     "output_type": "stream",
     "text": [
      "     Age  Sex  BP  Cholesterol  Na_to_K  Drug\n",
      "0     23    0   0            0   25.355     0\n",
      "1     47    1   1            0   13.093     3\n",
      "2     47    1   1            0   10.114     3\n",
      "3     28    0   2            0    7.798     4\n",
      "4     61    0   1            0   18.043     0\n",
      "5     22    0   2            0    8.607     4\n",
      "6     49    0   2            0   16.275     0\n",
      "7     41    1   1            0   11.037     3\n",
      "8     60    1   2            0   15.171     0\n",
      "9     43    1   1            1   19.368     0\n",
      "10    47    0   1            0   11.767     3\n",
      "11    34    0   0            1   19.199     0\n",
      "12    43    1   1            0   15.376     0\n",
      "13    74    0   1            0   20.942     0\n",
      "14    50    0   2            0   12.703     4\n",
      "15    16    0   0            1   15.516     0\n",
      "16    69    1   1            1   11.455     4\n",
      "17    43    1   0            0   13.972     1\n",
      "18    23    1   1            0    7.298     3\n",
      "19    32    0   0            1   25.974     0\n",
      "20    57    1   1            1   19.128     0\n",
      "21    63    1   2            0   25.917     0\n",
      "22    47    1   1            1   30.568     0\n",
      "23    48    0   1            0   15.036     0\n",
      "24    33    0   1            0   33.486     0\n",
      "25    28    0   0            1   18.809     0\n",
      "26    31    1   0            0   30.366     0\n",
      "27    49    0   2            1    9.381     4\n",
      "28    39    0   1            1   22.697     0\n",
      "29    45    1   1            0   17.951     0\n",
      "30    18    0   2            1    8.750     4\n",
      "31    74    1   0            0    9.567     2\n",
      "32    49    1   1            1   11.014     4\n",
      "33    65    0   0            1   31.876     0\n",
      "34    53    1   2            0   14.133     4\n",
      "35    46    1   2            1    7.285     4\n",
      "36    32    1   0            1    9.445     1\n",
      "37    39    1   1            1   13.938     4\n",
      "38    39    0   2            1    9.709     4\n",
      "39    15    1   2            0    9.084     4\n",
      "40    73    0   2            0   19.221     0\n",
      "41    58    0   0            1   14.239     2\n",
      "42    50    1   2            1   15.790     0\n",
      "43    23    1   2            0   12.260     4\n",
      "44    50    0   2            1   12.295     4\n",
      "45    66    0   2            1    8.107     4\n",
      "46    37    0   0            0   13.091     1\n",
      "47    68    1   1            0   10.291     3\n",
      "48    23    1   2            0   31.686     0\n",
      "49    28    0   1            0   19.796     0\n",
      "50    58    0   0            0   19.416     0\n",
      "51    67    1   2            1   10.898     4\n",
      "52    62    1   1            1   27.183     0\n",
      "53    24    0   0            1   18.457     0\n",
      "54    68    0   0            1   10.189     2\n",
      "55    26    0   1            0   14.160     3\n",
      "56    65    1   0            1   11.340     2\n",
      "57    40    1   0            0   27.826     0\n",
      "58    60    1   2            1   10.091     4\n",
      "59    34    1   0            0   18.703     0\n",
      "60    38    0   1            1   29.875     0\n",
      "61    24    1   0            1    9.475     1\n",
      "62    67    1   1            1   20.693     0\n",
      "63    45    1   1            1    8.370     4\n",
      "64    60    0   0            0   13.303     2\n",
      "65    68    0   2            1   27.050     0\n",
      "66    29    1   0            0   12.856     1\n",
      "67    17    1   2            1   10.832     4\n",
      "68    54    1   2            0   24.658     0\n",
      "69    18    0   0            1   24.276     0\n",
      "70    70    1   0            0   13.967     2\n",
      "71    28    0   2            0   19.675     0\n",
      "72    24    0   2            0   10.605     4\n",
      "73    41    0   2            1   22.905     0\n",
      "74    31    1   0            1   17.069     0\n",
      "75    26    1   1            1   20.909     0\n",
      "76    36    0   0            0   11.198     1\n",
      "77    26    0   0            1   19.161     0\n",
      "78    19    0   0            0   13.313     1\n",
      "79    32    0   1            1   10.840     4\n",
      "80    60    1   0            0   13.934     2\n",
      "81    64    1   2            0    7.761     4\n",
      "82    32    0   1            0    9.712     3\n",
      "83    38    0   0            1   11.326     1\n",
      "84    47    0   1            0   10.067     3\n",
      "85    59    1   0            0   13.935     2\n",
      "86    51    0   2            0   13.597     4\n",
      "87    69    1   1            0   15.478     0\n",
      "88    37    0   0            1   23.091     0\n",
      "89    50    0   2            1   17.211     0\n",
      "90    62    1   2            0   16.594     0\n",
      "91    41    1   0            1   15.156     0\n",
      "92    29    0   0            0   29.450     0\n",
      "93    42    0   1            1   29.271     0\n",
      "94    56    1   1            0   15.015     0\n",
      "95    36    1   1            1   11.424     4\n",
      "96    58    0   1            0   38.247     0\n",
      "97    56    0   0            0   25.395     0\n",
      "98    20    1   0            1   35.639     0\n",
      "99    15    0   0            1   16.725     0\n",
      "100   31    1   0            1   11.871     1\n",
      "101   45    0   0            0   12.854     1\n",
      "102   28    0   1            0   13.127     3\n",
      "103   56    1   2            0    8.966     4\n",
      "104   22    1   0            1   28.294     0\n",
      "105   37    1   1            1    8.968     4\n",
      "106   22    1   2            0   11.953     4\n",
      "107   42    1   1            0   20.013     0\n",
      "108   72    1   0            1    9.677     2\n",
      "109   23    1   2            0   16.850     0\n",
      "110   50    1   0            0    7.490     1\n",
      "111   47    0   2            1    6.683     4\n",
      "112   35    1   1            1    9.170     4\n",
      "113   65    0   1            1   13.769     4\n",
      "114   20    0   2            1    9.281     4\n",
      "115   51    1   0            0   18.295     0\n",
      "116   67    1   2            1    9.514     4\n",
      "117   40    0   2            0   10.103     4\n",
      "118   32    0   0            1   10.292     1\n",
      "119   61    0   0            0   25.475     0\n",
      "120   28    1   2            0   27.064     0\n",
      "121   15    1   0            1   17.206     0\n",
      "122   34    1   2            0   22.456     0\n",
      "123   36    0   2            0   16.753     0\n",
      "124   53    0   0            1   12.495     2\n",
      "125   19    0   0            1   25.969     0\n",
      "126   66    1   0            0   16.347     0\n",
      "127   35    1   2            1    7.845     4\n",
      "128   47    1   1            1   33.542     0\n",
      "129   32    0   2            0    7.477     4\n",
      "130   70    0   2            0   20.489     0\n",
      "131   52    1   1            1   32.922     0\n",
      "132   49    1   1            1   13.598     4\n",
      "133   24    1   2            0   25.786     0\n",
      "134   42    0   0            0   21.036     0\n",
      "135   74    1   1            1   11.939     4\n",
      "136   55    0   0            0   10.977     2\n",
      "137   35    0   0            0   12.894     1\n",
      "138   51    1   0            1   11.343     2\n",
      "139   69    0   2            0   10.065     4\n",
      "140   49    1   0            1    6.269     1\n",
      "141   64    0   1            1   25.741     0\n",
      "142   60    1   0            1    8.621     2\n",
      "143   74    1   0            1   15.436     0\n",
      "144   39    1   0            0    9.664     1\n",
      "145   61    1   2            0    9.443     4\n",
      "146   37    0   1            1   12.006     4\n",
      "147   26    0   0            1   12.307     1\n",
      "148   61    0   1            1    7.340     4\n",
      "149   22    1   1            0    8.151     3\n",
      "150   49    1   0            1    8.700     1\n",
      "151   68    1   0            0   11.009     2\n",
      "152   55    1   2            1    7.261     4\n",
      "153   72    0   1            1   14.642     4\n",
      "154   37    1   1            1   16.724     0\n",
      "155   49    1   1            0   10.537     3\n",
      "156   31    1   0            1   11.227     1\n",
      "157   53    1   1            0   22.963     0\n",
      "158   59    0   1            0   10.444     3\n",
      "159   34    0   1            1   12.923     4\n",
      "160   30    0   2            0   10.443     4\n",
      "161   57    0   0            1    9.945     2\n",
      "162   43    1   2            1   12.859     4\n",
      "163   21    0   0            1   28.632     0\n",
      "164   16    1   0            1   19.007     0\n",
      "165   38    1   1            0   18.295     0\n",
      "166   58    0   1            0   26.645     0\n",
      "167   57    0   2            0   14.216     4\n",
      "168   51    0   1            1   23.003     0\n",
      "169   20    0   0            0   11.262     1\n",
      "170   28    0   2            0   12.879     4\n",
      "171   45    1   1            1   10.017     4\n",
      "172   39    0   2            1   17.225     0\n",
      "173   41    0   1            1   18.739     0\n",
      "174   42    1   0            1   12.766     1\n",
      "175   73    0   0            0   18.348     0\n",
      "176   48    1   0            1   10.446     1\n",
      "177   25    1   2            0   19.011     0\n",
      "178   39    1   2            0   15.969     0\n",
      "179   67    0   2            0   15.891     0\n",
      "180   22    0   0            1   22.818     0\n",
      "181   59    0   2            0   13.884     4\n",
      "182   20    0   1            1   11.686     4\n",
      "183   36    0   0            1   15.490     0\n",
      "184   18    0   0            0   37.188     0\n",
      "185   57    0   2            1   25.893     0\n",
      "186   70    1   0            0    9.849     2\n",
      "187   47    1   0            0   10.403     1\n",
      "188   65    1   0            1   34.997     0\n",
      "189   64    1   0            1   20.932     0\n",
      "190   58    1   0            0   18.991     0\n",
      "191   23    1   0            0    8.011     1\n",
      "192   72    1   1            0   16.310     0\n",
      "193   72    1   1            0    6.769     3\n",
      "194   46    0   0            0   34.686     0\n",
      "195   56    0   1            0   11.567     3\n",
      "196   16    1   1            0   12.006     3\n",
      "197   52    1   2            0    9.894     4\n",
      "198   23    1   2            1   14.020     4\n",
      "199   40    0   1            1   11.349     4\n"
     ]
    }
   ],
   "source": [
    "print(df.to_string())"
   ]
  },
  {
   "cell_type": "code",
   "execution_count": 13,
   "metadata": {},
   "outputs": [
    {
     "data": {
      "text/plain": [
       "\"df['Drug'] = df['Drug'].astype('category')\\ndf['BP'] = df['BP'].astype('category')\\ndf['Cholesterol'] = df['Cholesterol'].astype('category')\""
      ]
     },
     "execution_count": 13,
     "metadata": {},
     "output_type": "execute_result"
    }
   ],
   "source": [
    "'''df['Drug'] = df['Drug'].astype('category')\n",
    "df['BP'] = df['BP'].astype('category')\n",
    "df['Cholesterol'] = df['Cholesterol'].astype('category')'''\n"
   ]
  },
  {
   "cell_type": "code",
   "execution_count": 14,
   "metadata": {},
   "outputs": [
    {
     "data": {
      "image/png": "[encoded data removed]",
      "text/plain": [
       "<Figure size 432x288 with 1 Axes>"
      ]
     },
     "metadata": {
      "needs_background": "light"
     },
     "output_type": "display_data"
    },
    {
     "data": {
      "text/plain": [
       "<Figure size 720x504 with 0 Axes>"
      ]
     },
     "metadata": {},
     "output_type": "display_data"
    }
   ],
   "source": [
    "\n",
    "plt.boxplot(df[\"Na_to_K\"])\n",
    "fig = plt.figure(figsize =(10, 7))\n",
    "plt.show()"
   ]
  },
  {
   "cell_type": "code",
   "execution_count": 15,
   "metadata": {},
   "outputs": [
    {
     "data": {
      "image/png": "[encoded data removed]",
      "text/plain": [
       "<Figure size 432x288 with 1 Axes>"
      ]
     },
     "metadata": {
      "needs_background": "light"
     },
     "output_type": "display_data"
    },
    {
     "data": {
      "text/plain": [
       "<Figure size 720x504 with 0 Axes>"
      ]
     },
     "metadata": {},
     "output_type": "display_data"
    }
   ],
   "source": [
    "plt.boxplot(df[\"Age\"])\n",
    "fig = plt.figure(figsize =(10, 7))\n",
    "plt.show()"
   ]
  },
  {
   "cell_type": "code",
   "execution_count": 16,
   "metadata": {},
   "outputs": [
    {
     "name": "stdout",
     "output_type": "stream",
     "text": [
      "int32\n",
      "int32\n"
     ]
    }
   ],
   "source": [
    "print(df.BP.dtype)\n",
    "print(df.Drug.dtype)"
   ]
  },
  {
   "cell_type": "code",
   "execution_count": 17,
   "metadata": {},
   "outputs": [
    {
     "data": {
      "image/png": "[encoded data removed]",
      "text/plain": [
       "<Figure size 720x360 with 2 Axes>"
      ]
     },
     "metadata": {
      "needs_background": "light"
     },
     "output_type": "display_data"
    }
   ],
   "source": [
    "plt.figure(figsize = (10,5))\n",
    "sns.heatmap(df.corr(),annot = True , cmap = 'coolwarm' );"
   ]
  },
  {
   "cell_type": "code",
   "execution_count": 18,
   "metadata": {},
   "outputs": [
    {
     "data": {
      "image/png": "[encoded data removed]",
      "text/plain": [
       "<Figure size 720x360 with 1 Axes>"
      ]
     },
     "metadata": {
      "needs_background": "light"
     },
     "output_type": "display_data"
    }
   ],
   "source": [
    "corr_mat = df.corr()\n",
    "plt.figure(figsize = (10,5))\n",
    "corr_mat['Drug'].sort_values(ascending = False).plot(kind = 'bar');"
   ]
  },
  {
   "cell_type": "code",
   "execution_count": 19,
   "metadata": {},
   "outputs": [
    {
     "data": {
      "text/plain": [
       "Drug           1.000000\n",
       "Na_to_K        0.689051\n",
       "BP             0.419397\n",
       "Cholesterol    0.048415\n",
       "Age            0.041856\n",
       "Sex            0.018239\n",
       "Name: Drug, dtype: float64"
      ]
     },
     "execution_count": 19,
     "metadata": {},
     "output_type": "execute_result"
    }
   ],
   "source": [
    "df.corr()['Drug'].abs().sort_values(ascending=False)"
   ]
  },
  {
   "cell_type": "code",
   "execution_count": 20,
   "metadata": {},
   "outputs": [
    {
     "name": "stdout",
     "output_type": "stream",
     "text": [
      "int32\n"
     ]
    }
   ],
   "source": [
    "print(df['Drug'].dtype)"
   ]
  },
  {
   "cell_type": "code",
   "execution_count": 21,
   "metadata": {},
   "outputs": [],
   "source": [
    "df['Sex']\n",
    "df = df.drop([\"Sex\"],axis=1)"
   ]
  },
  {
   "cell_type": "code",
   "execution_count": 22,
   "metadata": {},
   "outputs": [
    {
     "name": "stdout",
     "output_type": "stream",
     "text": [
      "     Age  Na_to_K  Drug  BP_1  BP_2  Cholesterol_1\n",
      "0     23   25.355     0     0     0              0\n",
      "1     47   13.093     3     1     0              0\n",
      "2     47   10.114     3     1     0              0\n",
      "3     28    7.798     4     0     1              0\n",
      "4     61   18.043     0     1     0              0\n",
      "..   ...      ...   ...   ...   ...            ...\n",
      "195   56   11.567     3     1     0              0\n",
      "196   16   12.006     3     1     0              0\n",
      "197   52    9.894     4     0     1              0\n",
      "198   23   14.020     4     0     1              1\n",
      "199   40   11.349     4     1     0              1\n",
      "\n",
      "[200 rows x 6 columns]\n"
     ]
    }
   ],
   "source": [
    "cat_col = ['BP', 'Cholesterol']\n",
    "\n",
    "df = pd.get_dummies(data=df, drop_first=True, columns = cat_col)\n",
    "\n",
    "print(df)"
   ]
  },
  {
   "cell_type": "code",
   "execution_count": 23,
   "metadata": {},
   "outputs": [
    {
     "data": {
      "text/plain": [
       "'from sklearn import preprocessing\\ncolumns = df.columns\\nfor i in columns:\\n    if df.dtypes[i] is object:\\n        print(\"Cannot process object data\")\\n    \\n\\n## if skew is 0.5 and -0.5 i.e its normal distribution and use scaler else normalise\\nscale_list = []\\nnormalise_list = []\\ndata_skew = df.skew()\\n\\nfor i in columns:\\n    if data_skew[i] >= -0.5 and data_skew[i] <= 0.5:\\n        scale_list.append(i)\\n    else:\\n        normalise_list.append(i)\\nprint(scale_list)\\nprint(normalise_list)'"
      ]
     },
     "execution_count": 23,
     "metadata": {},
     "output_type": "execute_result"
    }
   ],
   "source": [
    "'''from sklearn import preprocessing\n",
    "columns = df.columns\n",
    "for i in columns:\n",
    "    if df.dtypes[i] is object:\n",
    "        print(\"Cannot process object data\")\n",
    "    \n",
    "\n",
    "## if skew is 0.5 and -0.5 i.e its normal distribution and use scaler else normalise\n",
    "scale_list = []\n",
    "normalise_list = []\n",
    "data_skew = df.skew()\n",
    "\n",
    "for i in columns:\n",
    "    if data_skew[i] >= -0.5 and data_skew[i] <= 0.5:\n",
    "        scale_list.append(i)\n",
    "    else:\n",
    "        normalise_list.append(i)\n",
    "print(scale_list)\n",
    "print(normalise_list)'''"
   ]
  },
  {
   "cell_type": "code",
   "execution_count": 24,
   "metadata": {},
   "outputs": [
    {
     "data": {
      "text/plain": [
       "\"col_names = ['Age']\\nfeatures = df[col_names]\\nscaler = preprocessing.StandardScaler().fit(features.values)\\nfeatures = scaler.transform(features.values)\\nprint(features)\\ndf[col_names] = features\\nprint(df['Age'])\\nprint(df['Age'].shape)\""
      ]
     },
     "execution_count": 24,
     "metadata": {},
     "output_type": "execute_result"
    }
   ],
   "source": [
    "'''col_names = ['Age']\n",
    "features = df[col_names]\n",
    "scaler = preprocessing.StandardScaler().fit(features.values)\n",
    "features = scaler.transform(features.values)\n",
    "print(features)\n",
    "df[col_names] = features\n",
    "print(df['Age'])\n",
    "print(df['Age'].shape)'''"
   ]
  },
  {
   "cell_type": "code",
   "execution_count": 25,
   "metadata": {},
   "outputs": [
    {
     "data": {
      "text/plain": [
       "\"col_names = ['Na_to_K']\\nfeatures = df[col_names]\\nscaler_1 = preprocessing.MinMaxScaler().fit(features.values)\\nfeatures = scaler_1.transform(features.values)\\ndf[col_names] = features\\nprint(df)\""
      ]
     },
     "execution_count": 25,
     "metadata": {},
     "output_type": "execute_result"
    }
   ],
   "source": [
    "'''col_names = ['Na_to_K']\n",
    "features = df[col_names]\n",
    "scaler_1 = preprocessing.MinMaxScaler().fit(features.values)\n",
    "features = scaler_1.transform(features.values)\n",
    "df[col_names] = features\n",
    "print(df)'''"
   ]
  },
  {
   "cell_type": "code",
   "execution_count": 26,
   "metadata": {},
   "outputs": [],
   "source": [
    "X = df.drop([\"Drug\"], axis=1)\n",
    "y = df[\"Drug\"]\n",
    "X_train, X_test, y_train, y_test = train_test_split(X, y, random_state=42, test_size=0.1)"
   ]
  },
  {
   "cell_type": "code",
   "execution_count": 27,
   "metadata": {},
   "outputs": [
    {
     "name": "stdout",
     "output_type": "stream",
     "text": [
      "Logistic Regression Classifier report: \n",
      "\n",
      "               precision    recall  f1-score   support\n",
      "\n",
      "           0       0.64      1.00      0.78         7\n",
      "           1       0.00      0.00      0.00         3\n",
      "           2       1.00      1.00      1.00         2\n",
      "           3       1.00      1.00      1.00         2\n",
      "           4       1.00      0.83      0.91         6\n",
      "\n",
      "    accuracy                           0.80        20\n",
      "   macro avg       0.73      0.77      0.74        20\n",
      "weighted avg       0.72      0.80      0.74        20\n",
      "\n",
      "Test Accuracy: 80.0%\n"
     ]
    },
    {
     "name": "stderr",
     "output_type": "stream",
     "text": [
      "c:\\Users\\abulf\\Documents\\Python_tutorial\\Assignments\\Machine_learning\\myvenv\\lib\\site-packages\\sklearn\\metrics\\_classification.py:1327: UndefinedMetricWarning: Precision and F-score are ill-defined and being set to 0.0 in labels with no predicted samples. Use `zero_division` parameter to control this behavior.\n",
      "  _warn_prf(average, modifier, msg_start, len(result))\n",
      "c:\\Users\\abulf\\Documents\\Python_tutorial\\Assignments\\Machine_learning\\myvenv\\lib\\site-packages\\sklearn\\metrics\\_classification.py:1327: UndefinedMetricWarning: Precision and F-score are ill-defined and being set to 0.0 in labels with no predicted samples. Use `zero_division` parameter to control this behavior.\n",
      "  _warn_prf(average, modifier, msg_start, len(result))\n",
      "c:\\Users\\abulf\\Documents\\Python_tutorial\\Assignments\\Machine_learning\\myvenv\\lib\\site-packages\\sklearn\\metrics\\_classification.py:1327: UndefinedMetricWarning: Precision and F-score are ill-defined and being set to 0.0 in labels with no predicted samples. Use `zero_division` parameter to control this behavior.\n",
      "  _warn_prf(average, modifier, msg_start, len(result))\n"
     ]
    }
   ],
   "source": [
    "from sklearn.linear_model import LogisticRegression\n",
    "\n",
    "## lr = LogisticRegression(solver=\"lbfgs\")\n",
    "lr = LogisticRegression(solver=\"liblinear\")\n",
    "lr.fit(X_train,y_train)\n",
    "y_pred_lr = lr.predict(X_test)\n",
    "print(\"Logistic Regression Classifier report: \\n\\n\", classification_report(y_test, y_pred_lr))\n",
    "print(\"Test Accuracy: {}%\".format(round(lr.score(X_test, y_test)*100, 2)))"
   ]
  },
  {
   "cell_type": "code",
   "execution_count": 28,
   "metadata": {},
   "outputs": [
    {
     "data": {
      "image/png": "[encoded data removed]",
      "text/plain": [
       "<Figure size 504x504 with 2 Axes>"
      ]
     },
     "metadata": {
      "needs_background": "light"
     },
     "output_type": "display_data"
    }
   ],
   "source": [
    "cm = confusion_matrix(y_test, y_pred_lr)\n",
    "x_axis_labels = [\"DrugY\", \"drugA\", \"drugB\", \"drugC\", \"drugX\"]\n",
    "y_axis_labels = [\"DrugY\", \"drugA\", \"drugB\", \"drugC\", \"drugX\"]\n",
    "f, ax = plt.subplots(figsize =(7,7))\n",
    "sns.heatmap(cm, annot = True, linewidths=0.2, linecolor=\"black\", fmt = \".0f\", ax=ax, cmap=\"Purples\", xticklabels=x_axis_labels, yticklabels=y_axis_labels)\n",
    "plt.xlabel(\"PREDICTED LABEL\")\n",
    "plt.ylabel(\"TRUE LABEL\")\n",
    "plt.title('Confusion Matrix for Logistic Regression Classifier')\n",
    "#plt.savefig(\"dtcm.png\", format='png', dpi=500, bbox_inches='tight')\n",
    "plt.show()"
   ]
  },
  {
   "cell_type": "code",
   "execution_count": 29,
   "metadata": {},
   "outputs": [
    {
     "name": "stdout",
     "output_type": "stream",
     "text": [
      "[(1, 60.0), (2, 65.0), (3, 70.0), (4, 60.0), (5, 60.0), (6, 60.0), (7, 60.0), (8, 55.00000000000001), (9, 55.00000000000001)]\n"
     ]
    }
   ],
   "source": [
    "from sklearn.neighbors import KNeighborsClassifier\n",
    "\n",
    "A = []\n",
    "for i in range(1,10):\n",
    "    knn = KNeighborsClassifier(n_neighbors=i)\n",
    "    knn.fit(X_train,y_train)\n",
    "    y_pred_knn = knn.predict(X_test)\n",
    "\n",
    "    A.append((i, knn.score(X_test, y_test)*100)) \n",
    "\n",
    "print(A)"
   ]
  },
  {
   "cell_type": "code",
   "execution_count": 30,
   "metadata": {},
   "outputs": [
    {
     "name": "stdout",
     "output_type": "stream",
     "text": [
      "SVM Classifier report: \n",
      "\n",
      "               precision    recall  f1-score   support\n",
      "\n",
      "           0       0.78      1.00      0.88         7\n",
      "           1       0.00      0.00      0.00         3\n",
      "           2       0.00      0.00      0.00         2\n",
      "           3       0.00      0.00      0.00         2\n",
      "           4       0.50      0.83      0.62         6\n",
      "\n",
      "    accuracy                           0.60        20\n",
      "   macro avg       0.26      0.37      0.30        20\n",
      "weighted avg       0.42      0.60      0.49        20\n",
      "\n",
      "Test Accuracy: 55.0%\n"
     ]
    },
    {
     "name": "stderr",
     "output_type": "stream",
     "text": [
      "c:\\Users\\abulf\\Documents\\Python_tutorial\\Assignments\\Machine_learning\\myvenv\\lib\\site-packages\\sklearn\\metrics\\_classification.py:1327: UndefinedMetricWarning: Precision and F-score are ill-defined and being set to 0.0 in labels with no predicted samples. Use `zero_division` parameter to control this behavior.\n",
      "  _warn_prf(average, modifier, msg_start, len(result))\n",
      "c:\\Users\\abulf\\Documents\\Python_tutorial\\Assignments\\Machine_learning\\myvenv\\lib\\site-packages\\sklearn\\metrics\\_classification.py:1327: UndefinedMetricWarning: Precision and F-score are ill-defined and being set to 0.0 in labels with no predicted samples. Use `zero_division` parameter to control this behavior.\n",
      "  _warn_prf(average, modifier, msg_start, len(result))\n",
      "c:\\Users\\abulf\\Documents\\Python_tutorial\\Assignments\\Machine_learning\\myvenv\\lib\\site-packages\\sklearn\\metrics\\_classification.py:1327: UndefinedMetricWarning: Precision and F-score are ill-defined and being set to 0.0 in labels with no predicted samples. Use `zero_division` parameter to control this behavior.\n",
      "  _warn_prf(average, modifier, msg_start, len(result))\n"
     ]
    }
   ],
   "source": [
    "from sklearn.svm import SVC\n",
    "\n",
    "svm = SVC(random_state=42, gamma=\"auto\")\n",
    "svm.fit(X_train,y_train)\n",
    "y_pred_svm = svm.predict(X_test)\n",
    "print(\"SVM Classifier report: \\n\\n\", classification_report(y_test, y_pred_svm))\n",
    "print(\"Test Accuracy: {}%\".format(round(knn.score(X_test, y_test)*100, 2)))"
   ]
  },
  {
   "cell_type": "code",
   "execution_count": 31,
   "metadata": {},
   "outputs": [
    {
     "name": "stdout",
     "output_type": "stream",
     "text": [
      "Random Forest Classifier report: \n",
      "\n",
      "               precision    recall  f1-score   support\n",
      "\n",
      "           0       1.00      1.00      1.00         7\n",
      "           1       1.00      1.00      1.00         3\n",
      "           2       1.00      1.00      1.00         2\n",
      "           3       1.00      1.00      1.00         2\n",
      "           4       1.00      1.00      1.00         6\n",
      "\n",
      "    accuracy                           1.00        20\n",
      "   macro avg       1.00      1.00      1.00        20\n",
      "weighted avg       1.00      1.00      1.00        20\n",
      "\n",
      "Test Accuracy: 100.0%\n"
     ]
    }
   ],
   "source": [
    "from sklearn.ensemble import RandomForestClassifier\n",
    "rf = RandomForestClassifier(n_estimators=100, random_state=42)\n",
    "rf.fit(X_train, y_train)\n",
    "y_pred_rf = rf.predict(X_test)\n",
    "\n",
    "print(\"Random Forest Classifier report: \\n\\n\", classification_report(y_test, y_pred_rf))\n",
    "print(\"Test Accuracy: {}%\".format(round(rf.score(X_test, y_test)*100, 2)))"
   ]
  },
  {
   "cell_type": "code",
   "execution_count": 32,
   "metadata": {},
   "outputs": [
    {
     "data": {
      "image/png": "[encoded data removed]",
      "text/plain": [
       "<Figure size 504x504 with 2 Axes>"
      ]
     },
     "metadata": {
      "needs_background": "light"
     },
     "output_type": "display_data"
    }
   ],
   "source": [
    "cm = confusion_matrix(y_test, y_pred_rf)\n",
    "x_axis_labels = [\"DrugY\", \"drugA\", \"drugB\", \"drugC\", \"drugX\"]\n",
    "y_axis_labels = [\"DrugY\", \"drugA\", \"drugB\", \"drugC\", \"drugX\"]\n",
    "f, ax = plt.subplots(figsize =(7,7))\n",
    "sns.heatmap(cm, annot = True, linewidths=0.2, linecolor=\"black\", fmt = \".0f\", ax=ax, cmap=\"Purples\", xticklabels=x_axis_labels, yticklabels=y_axis_labels)\n",
    "plt.xlabel(\"PREDICTED LABEL\")\n",
    "plt.ylabel(\"TRUE LABEL\")\n",
    "plt.title('Confusion Matrix for Random Forest Classifier');\n",
    "#plt.savefig(\"rfcm.png\", format='png', dpi=500, bbox_inches='tight')\n",
    "plt.show()"
   ]
  },
  {
   "cell_type": "code",
   "execution_count": null,
   "metadata": {},
   "outputs": [],
   "source": []
  }
 ],
 "metadata": {
  "kernelspec": {
   "display_name": "Python 3.10.5 ('myvenv': venv)",
   "language": "python",
   "name": "python3"
  },
  "language_info": {
   "codemirror_mode": {
    "name": "ipython",
    "version": 3
   },
   "file_extension": ".py",
   "mimetype": "text/x-python",
   "name": "python",
   "nbconvert_exporter": "python",
   "pygments_lexer": "ipython3",
   "version": "3.10.5"
  },
  "orig_nbformat": 4,
  "vscode": {
   "interpreter": {
    "hash": "f10a24a426163f4969834cd78cacbc8a505b0e39e0a52f8aaabad16331e335f4"
   }
  }
 },
 "nbformat": 4,
 "nbformat_minor": 2
}
