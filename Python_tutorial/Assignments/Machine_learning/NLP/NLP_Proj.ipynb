{
  "cells": [
    {
      "cell_type": "code",
      "execution_count": null,
      "metadata": {
        "colab": {
          "base_uri": "https://localhost:8080/"
        },
        "id": "1vCDgRKhgrny",
        "outputId": "9764347c-8b59-4580-d7b4-cd4a39d92112"
      },
      "outputs": [],
      "source": [
        "!pip install tensorflow"
      ]
    },
    {
      "cell_type": "code",
      "execution_count": null,
      "metadata": {
        "colab": {
          "base_uri": "https://localhost:8080/"
        },
        "id": "nyZj9tvqg3Pq",
        "outputId": "35f7a544-d901-43d2-a0c5-077b31dae98a"
      },
      "outputs": [],
      "source": [
        "pip install tensorflow-text"
      ]
    },
    {
      "cell_type": "code",
      "execution_count": null,
      "metadata": {
        "id": "39g1xKfdg5Uz"
      },
      "outputs": [],
      "source": [
        "!cp /content/drive/MyDrive/bert.h5  /content"
      ]
    },
    {
      "cell_type": "code",
      "execution_count": null,
      "metadata": {
        "id": "5LPbNX8nh29G"
      },
      "outputs": [],
      "source": [
        "!cp /content/drive/MyDrive/glove.6B.50d.txt  /content"
      ]
    },
    {
      "cell_type": "code",
      "execution_count": null,
      "metadata": {
        "colab": {
          "base_uri": "https://localhost:8080/"
        },
        "id": "4nvf5YV00aQa",
        "outputId": "f050d9de-64c3-41d6-a811-4141735f4f2c"
      },
      "outputs": [],
      "source": [
        "!wget http://downloads.cs.stanford.edu/nlp/data/glove.6B.zip"
      ]
    },
    {
      "cell_type": "code",
      "execution_count": null,
      "metadata": {
        "colab": {
          "base_uri": "https://localhost:8080/"
        },
        "id": "bhllGULA1X28",
        "outputId": "bfd9f6e2-dba9-4925-9dd9-f6b94d6bd743"
      },
      "outputs": [],
      "source": [
        "!unzip glove.6B.zip"
      ]
    },
    {
      "cell_type": "code",
      "execution_count": null,
      "metadata": {
        "colab": {
          "base_uri": "https://localhost:8080/"
        },
        "id": "nY8oSLro1a6C",
        "outputId": "15c6b8dc-9f13-47fc-e8ff-780123a898d3"
      },
      "outputs": [],
      "source": [
        "! pip install streamlit "
      ]
    },
    {
      "cell_type": "code",
      "execution_count": null,
      "metadata": {
        "colab": {
          "base_uri": "https://localhost:8080/"
        },
        "id": "NrZ9WndE2Aa7",
        "outputId": "86e36088-d83b-4c34-f9c1-783f39209358"
      },
      "outputs": [],
      "source": [
        "! pip install pyngrok"
      ]
    },
    {
      "cell_type": "code",
      "execution_count": null,
      "metadata": {
        "id": "g5irSQrN2R17"
      },
      "outputs": [],
      "source": [
        "from pyngrok import ngrok"
      ]
    },
    {
      "cell_type": "code",
      "execution_count": null,
      "metadata": {
        "colab": {
          "base_uri": "https://localhost:8080/"
        },
        "id": "Y8HHz9JV2bP7",
        "outputId": "f2c4b63c-00a5-4962-af7c-50434d01a9a1"
      },
      "outputs": [],
      "source": [
        "ngrok.set_auth_token(\"XXX\") #Go to ngrok.com and signup and try to make your own secret key"
      ]
    },
    {
      "cell_type": "code",
      "execution_count": null,
      "metadata": {
        "colab": {
          "base_uri": "https://localhost:8080/"
        },
        "id": "rmA8fsVsibEl",
        "outputId": "5341d093-187d-4579-c210-5cce36c5b34f"
      },
      "outputs": [],
      "source": [
        "import nltk\n",
        "nltk.download('stopwords')\n",
        "nltk.download('punkt')\n",
        "nltk.download('wordnet')\n",
        "nltk.download('omw-1.4')"
      ]
    },
    {
      "cell_type": "code",
      "execution_count": null,
      "metadata": {
        "colab": {
          "base_uri": "https://localhost:8080/"
        },
        "id": "SP5PdMBa5iN_",
        "outputId": "a679a509-0a09-4064-ff11-4442b3e9f4a1"
      },
      "outputs": [],
      "source": [
        "%%writefile app.py\n",
        "from sklearn.feature_extraction.text import CountVectorizer\n",
        "from tensorflow.keras.models import load_model\n",
        "from nltk.tokenize import RegexpTokenizer\n",
        "from nltk.tokenize import word_tokenize\n",
        "from nltk.stem import WordNetLemmatizer\n",
        "from nltk.corpus import stopwords\n",
        "from nltk.corpus import wordnet\n",
        "import tensorflow_text as text\n",
        "import tensorflow_hub as hub\n",
        "from io import StringIO\n",
        "import streamlit as st\n",
        "import pandas as pd\n",
        "import numpy as np\n",
        "import pickle\n",
        "import nltk\n",
        "import re\n",
        "nltk.download('stopwords')\n",
        "nltk.download('wordnet')\n",
        "nltk.download('omw-1.4')\n",
        "nltk.download('punkt')\n",
        "savedModel=load_model('gfgModel.h5')\n",
        "savedModel.trainable = False\n",
        "savedModel.summary()\n",
        "saved_BERT_Model=load_model('bert.h5',custom_objects={'KerasLayer':hub.KerasLayer})\n",
        "saved_BERT_Model.summary()\n",
        "class LemmaTokenizer(object):\n",
        "    def __init__(self):\n",
        "        self.wnl = WordNetLemmatizer()\n",
        "    def __call__(self, reviews):\n",
        "        return [self.wnl.lemmatize(t) for t in word_tokenize(reviews)]\n",
        "\n",
        "pickledCV_model = pickle.load(open('CV_model.pkl', 'rb'))\n",
        "pickled_model = pickle.load(open('MNB_model.pkl', 'rb'))\n",
        "\n",
        "words = dict()\n",
        "tokenizer = nltk.RegexpTokenizer(r\"\\w+\")\n",
        "lemmatizer = WordNetLemmatizer()\n",
        "\n",
        "\n",
        "def add_to_dict(d, filename):\n",
        "  with open(filename, 'r', encoding=\"utf8\") as f:\n",
        "    for line in f.readlines():\n",
        "      line = line.split(' ')\n",
        "\n",
        "      try:\n",
        "        d[line[0]] = np.array(line[1:], dtype=float)\n",
        "      except:\n",
        "        continue\n",
        "add_to_dict(words, 'glove.6B.50d.txt')\n",
        "\n",
        "\n",
        "def message_to_token_list(s):\n",
        "  tokens = tokenizer.tokenize(s)\n",
        "  lemmatized_tokens = [lemmatizer.lemmatize(t) for t in tokens]\n",
        "  useful_tokens = [t for t in lemmatized_tokens if t in words]\n",
        "  return useful_tokens\n",
        "\n",
        "@st.cache(allow_output_mutation=True) \n",
        "def NLP_lstm_pipeline(review, word_dict=words, desired_sequence_length=400):\n",
        "  review = review.lower()\n",
        "  email_urls = re.compile(\"(\\bhttp.+? | \\b[A-Za-z0-9._%+-]+@[A-Za-z0-9.-]+\\.[A-Z|a-z]{2,}\\b)\")\n",
        "  review = re.sub(email_urls, '', review)\n",
        "  review = re.sub(r'[^\\w\\s]', '', review)\n",
        "  # Remove digits\n",
        "  pattern = r'[0-9]'\n",
        "  review = re.sub(pattern, '', review)\n",
        "  processed_list_of_tokens = message_to_token_list(review)\n",
        "\n",
        "  vectors = []    \n",
        "  for token in processed_list_of_tokens:\n",
        "    if token not in word_dict:\n",
        "      continue\n",
        "    \n",
        "    token_vector = word_dict[token]\n",
        "    vectors.append(token_vector)\n",
        "\n",
        "  print(len(vectors))\n",
        "  sequence_length_difference = desired_sequence_length - len(vectors)\n",
        "  \n",
        "  pad = np.zeros(shape=(sequence_length_difference, 50))\n",
        "  \n",
        "  vectors = np.array(vectors).astype(float)\n",
        "  print(vectors.shape)\n",
        "  vectors = np.concatenate([vectors, pad])\n",
        "  print(vectors.shape)\n",
        "  vectors = np.reshape(vectors, (1, 400, 50))\n",
        "  print(vectors.shape)\n",
        "  predictions = (savedModel.predict(vectors) > 0.5).astype(int)\n",
        "  \n",
        "  if predictions == 1:\n",
        "    return \"positive review\"\n",
        "\n",
        "  else:\n",
        "    return \"negative review\"\n",
        "\n",
        "@st.cache(allow_output_mutation=True) \n",
        "def NLP_Naive_pipeline(review):\n",
        "  list = []\n",
        "  email_urls = re.compile(\"(\\bhttp.+? | \\b[A-Za-z0-9._%+-]+@[A-Za-z0-9.-]+\\.[A-Z|a-z]{2,}\\b)\")\n",
        "  review = re.sub(email_urls, '', review)\n",
        "  ats = re.compile('@')\n",
        "  review = re.sub(ats, 'a', review)\n",
        "  review = re.sub(r'[^\\w\\s]', '', review)\n",
        "  pattern = r'[0-9]'\n",
        "  review = re.sub(pattern, '', review)\n",
        "  review = word_tokenize(review)\n",
        "  #review = [word for word in review if not word in stopwords.words()]\n",
        "  review = ' '.join(map(str, review))\n",
        "  print(review)\n",
        "  list.append(review)\n",
        "  print(list)\n",
        "  list = pickledCV_model.transform(list)\n",
        "  print(list)\n",
        "  sentiment = pickled_model.predict(list)\n",
        "  print(sentiment)\n",
        "  if sentiment[0] == 1:\n",
        "      return \"positive review\"\n",
        "  else:\n",
        "      return \"negative review\" \n",
        "\n",
        "@st.cache(allow_output_mutation=True)      \n",
        "def NLP_BERT_pipeline(review):\n",
        "  list = []\n",
        "  review = review.lower()\n",
        "  email_urls = re.compile(\"(\\bhttp.+? | \\b[A-Za-z0-9._%+-]+@[A-Za-z0-9.-]+\\.[A-Z|a-z]{2,}\\b)\")\n",
        "  review = re.sub(email_urls, '', review)\n",
        "  review = re.sub(r'[^\\w\\s]', '', review)\n",
        "  # Remove digits\n",
        "  pattern = r'[0-9]'\n",
        "  review = re.sub(pattern, '', review)\n",
        "  list.append(review)\n",
        "  sentiments = (saved_BERT_Model.predict(list) > 0.5).astype(int)\n",
        "  if sentiments == 1:\n",
        "    return \"positive review\"\n",
        "  else:\n",
        "    return \"negative review\"\n",
        "\n",
        "st.title('Welcome')\n",
        "st.subheader(\"Sentiment Analysis NLP App\")\n",
        "st.subheader(\"Streamlit Projects\")\n",
        "with st.form(key='nlpForm'):\n",
        "    reviews = st.text_area(\"Enter Text Here\")\n",
        "    submit_button = st.form_submit_button(label='Analyze')\n",
        "if submit_button:\n",
        "  Negative = []\n",
        "  Positive = []\n",
        "  Sentiments_lstm = NLP_lstm_pipeline(reviews)\n",
        "  if Sentiments_lstm == \"negative review\":\n",
        "    Negative.append(Sentiments_lstm)\n",
        "  else:\n",
        "    Positive.append(Sentiments_lstm)\n",
        "  Sentiments_Naive = NLP_Naive_pipeline(reviews)\n",
        "  if Sentiments_Naive == \"negative review\":\n",
        "    Negative.append(Sentiments_Naive)\n",
        "  else:\n",
        "    Positive.append(Sentiments_Naive)\n",
        "  Sentiments_Bert = NLP_BERT_pipeline(reviews)\n",
        "  if Sentiments_Bert == \"negative review\":\n",
        "    Negative.append(Sentiments_Bert)\n",
        "  else:\n",
        "    Positive.append(Sentiments_Bert)\n",
        "  st.write('The analysis by LSTM_model of the following review is: ', Sentiments_lstm)\n",
        "  st.write('The analysis by NAIVE_model of the following review is: ', Sentiments_Naive)\n",
        "  st.write('The analysis by BERT_model of the following review is: ', Sentiments_Bert)\n",
        "  if len(Negative)>len(Positive):\n",
        "    st.write('The analysis by model of the following review is: Negative Review')\n",
        "  else:\n",
        "    st.write('The analysis by model of the following review is: Positive Review')"
      ]
    },
    {
      "cell_type": "code",
      "execution_count": null,
      "metadata": {
        "colab": {
          "base_uri": "https://localhost:8080/"
        },
        "id": "QWiIL4RN4ZC6",
        "outputId": "161a949c-da47-4ce6-fa60-e0e578f3bd72"
      },
      "outputs": [],
      "source": [
        "!nohup streamlit run app.py --server.port 80 &\n",
        "url = ngrok.connect(port = '80')\n",
        "print(url)"
      ]
    },
    {
      "cell_type": "code",
      "execution_count": null,
      "metadata": {
        "id": "wVPsGWs_7uZz"
      },
      "outputs": [],
      "source": []
    }
  ],
  "metadata": {
    "colab": {
      "collapsed_sections": [],
      "provenance": []
    },
    "kernelspec": {
      "display_name": "Python 3",
      "name": "python3"
    },
    "language_info": {
      "name": "python"
    }
  },
  "nbformat": 4,
  "nbformat_minor": 0
}
