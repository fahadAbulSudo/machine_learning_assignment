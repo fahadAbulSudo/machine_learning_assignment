{
 "cells": [
  {
   "cell_type": "code",
   "execution_count": 17,
   "metadata": {},
   "outputs": [],
   "source": [
    "import numpy as np"
   ]
  },
  {
   "cell_type": "code",
   "execution_count": 18,
   "metadata": {},
   "outputs": [],
   "source": [
    "import matplotlib.pyplot as plt\n",
    "import pandas as pd"
   ]
  },
  {
   "cell_type": "code",
   "execution_count": 19,
   "metadata": {},
   "outputs": [],
   "source": [
    "import io"
   ]
  },
  {
   "cell_type": "code",
   "execution_count": 20,
   "metadata": {},
   "outputs": [],
   "source": [
    "dataset=pd.read_csv('x_final_csv.csv')"
   ]
  },
  {
   "cell_type": "code",
   "execution_count": 21,
   "metadata": {},
   "outputs": [
    {
     "data": {
      "text/html": [
       "<div>\n",
       "<style scoped>\n",
       "    .dataframe tbody tr th:only-of-type {\n",
       "        vertical-align: middle;\n",
       "    }\n",
       "\n",
       "    .dataframe tbody tr th {\n",
       "        vertical-align: top;\n",
       "    }\n",
       "\n",
       "    .dataframe thead th {\n",
       "        text-align: right;\n",
       "    }\n",
       "</style>\n",
       "<table border=\"1\" class=\"dataframe\">\n",
       "  <thead>\n",
       "    <tr style=\"text-align: right;\">\n",
       "      <th></th>\n",
       "      <th>Standard Error</th>\n",
       "      <th>Median</th>\n",
       "      <th>Mode</th>\n",
       "      <th>Standard Deviation</th>\n",
       "      <th>Sample Variance</th>\n",
       "      <th>Kurtosis</th>\n",
       "      <th>Skewness</th>\n",
       "      <th>Range</th>\n",
       "      <th>Minimum</th>\n",
       "      <th>Maximum</th>\n",
       "      <th>Sum</th>\n",
       "      <th>Count</th>\n",
       "      <th>Condition</th>\n",
       "    </tr>\n",
       "  </thead>\n",
       "  <tbody>\n",
       "    <tr>\n",
       "      <th>0</th>\n",
       "      <td>0.142599</td>\n",
       "      <td>365.0</td>\n",
       "      <td>366</td>\n",
       "      <td>1.425985</td>\n",
       "      <td>2.033434</td>\n",
       "      <td>-0.897223</td>\n",
       "      <td>-0.105681</td>\n",
       "      <td>6</td>\n",
       "      <td>362</td>\n",
       "      <td>368</td>\n",
       "      <td>36513</td>\n",
       "      <td>100</td>\n",
       "      <td>Good</td>\n",
       "    </tr>\n",
       "    <tr>\n",
       "      <th>1</th>\n",
       "      <td>0.126027</td>\n",
       "      <td>368.0</td>\n",
       "      <td>368</td>\n",
       "      <td>1.260271</td>\n",
       "      <td>1.588283</td>\n",
       "      <td>-0.395387</td>\n",
       "      <td>0.265678</td>\n",
       "      <td>5</td>\n",
       "      <td>366</td>\n",
       "      <td>371</td>\n",
       "      <td>36826</td>\n",
       "      <td>100</td>\n",
       "      <td>Good</td>\n",
       "    </tr>\n",
       "    <tr>\n",
       "      <th>2</th>\n",
       "      <td>0.097333</td>\n",
       "      <td>371.0</td>\n",
       "      <td>371</td>\n",
       "      <td>0.973331</td>\n",
       "      <td>0.947374</td>\n",
       "      <td>-0.400559</td>\n",
       "      <td>-0.177908</td>\n",
       "      <td>4</td>\n",
       "      <td>369</td>\n",
       "      <td>373</td>\n",
       "      <td>37089</td>\n",
       "      <td>100</td>\n",
       "      <td>Good</td>\n",
       "    </tr>\n",
       "    <tr>\n",
       "      <th>3</th>\n",
       "      <td>0.099372</td>\n",
       "      <td>373.0</td>\n",
       "      <td>373</td>\n",
       "      <td>0.993718</td>\n",
       "      <td>0.987475</td>\n",
       "      <td>-0.824843</td>\n",
       "      <td>0.072199</td>\n",
       "      <td>4</td>\n",
       "      <td>371</td>\n",
       "      <td>375</td>\n",
       "      <td>37332</td>\n",
       "      <td>100</td>\n",
       "      <td>Good</td>\n",
       "    </tr>\n",
       "    <tr>\n",
       "      <th>4</th>\n",
       "      <td>0.094554</td>\n",
       "      <td>376.0</td>\n",
       "      <td>376</td>\n",
       "      <td>0.945537</td>\n",
       "      <td>0.894040</td>\n",
       "      <td>-0.187940</td>\n",
       "      <td>-0.205709</td>\n",
       "      <td>5</td>\n",
       "      <td>373</td>\n",
       "      <td>378</td>\n",
       "      <td>37557</td>\n",
       "      <td>100</td>\n",
       "      <td>Good</td>\n",
       "    </tr>\n",
       "    <tr>\n",
       "      <th>...</th>\n",
       "      <td>...</td>\n",
       "      <td>...</td>\n",
       "      <td>...</td>\n",
       "      <td>...</td>\n",
       "      <td>...</td>\n",
       "      <td>...</td>\n",
       "      <td>...</td>\n",
       "      <td>...</td>\n",
       "      <td>...</td>\n",
       "      <td>...</td>\n",
       "      <td>...</td>\n",
       "      <td>...</td>\n",
       "      <td>...</td>\n",
       "    </tr>\n",
       "    <tr>\n",
       "      <th>295</th>\n",
       "      <td>1.069559</td>\n",
       "      <td>325.0</td>\n",
       "      <td>330</td>\n",
       "      <td>10.695586</td>\n",
       "      <td>114.395556</td>\n",
       "      <td>0.435310</td>\n",
       "      <td>-0.668873</td>\n",
       "      <td>54</td>\n",
       "      <td>290</td>\n",
       "      <td>344</td>\n",
       "      <td>32322</td>\n",
       "      <td>100</td>\n",
       "      <td>Crater wear</td>\n",
       "    </tr>\n",
       "    <tr>\n",
       "      <th>296</th>\n",
       "      <td>1.131819</td>\n",
       "      <td>324.5</td>\n",
       "      <td>327</td>\n",
       "      <td>11.318190</td>\n",
       "      <td>128.101414</td>\n",
       "      <td>-0.008641</td>\n",
       "      <td>-0.555331</td>\n",
       "      <td>53</td>\n",
       "      <td>291</td>\n",
       "      <td>344</td>\n",
       "      <td>32314</td>\n",
       "      <td>100</td>\n",
       "      <td>Crater wear</td>\n",
       "    </tr>\n",
       "    <tr>\n",
       "      <th>297</th>\n",
       "      <td>1.137146</td>\n",
       "      <td>316.5</td>\n",
       "      <td>316</td>\n",
       "      <td>11.371464</td>\n",
       "      <td>129.310202</td>\n",
       "      <td>-0.046520</td>\n",
       "      <td>-0.069875</td>\n",
       "      <td>56</td>\n",
       "      <td>285</td>\n",
       "      <td>341</td>\n",
       "      <td>31677</td>\n",
       "      <td>100</td>\n",
       "      <td>Crater wear</td>\n",
       "    </tr>\n",
       "    <tr>\n",
       "      <th>298</th>\n",
       "      <td>1.971869</td>\n",
       "      <td>344.5</td>\n",
       "      <td>346</td>\n",
       "      <td>19.718688</td>\n",
       "      <td>388.826667</td>\n",
       "      <td>-0.073315</td>\n",
       "      <td>-1.185157</td>\n",
       "      <td>74</td>\n",
       "      <td>283</td>\n",
       "      <td>357</td>\n",
       "      <td>33304</td>\n",
       "      <td>100</td>\n",
       "      <td>Crater wear</td>\n",
       "    </tr>\n",
       "    <tr>\n",
       "      <th>299</th>\n",
       "      <td>0.961634</td>\n",
       "      <td>347.5</td>\n",
       "      <td>348</td>\n",
       "      <td>3.846535</td>\n",
       "      <td>14.795833</td>\n",
       "      <td>2.440078</td>\n",
       "      <td>1.747884</td>\n",
       "      <td>13</td>\n",
       "      <td>345</td>\n",
       "      <td>358</td>\n",
       "      <td>5577</td>\n",
       "      <td>16</td>\n",
       "      <td>Crater wear</td>\n",
       "    </tr>\n",
       "  </tbody>\n",
       "</table>\n",
       "<p>300 rows × 13 columns</p>\n",
       "</div>"
      ],
      "text/plain": [
       "     Standard Error  Median  Mode  Standard Deviation  Sample Variance  \\\n",
       "0          0.142599   365.0   366            1.425985         2.033434   \n",
       "1          0.126027   368.0   368            1.260271         1.588283   \n",
       "2          0.097333   371.0   371            0.973331         0.947374   \n",
       "3          0.099372   373.0   373            0.993718         0.987475   \n",
       "4          0.094554   376.0   376            0.945537         0.894040   \n",
       "..              ...     ...   ...                 ...              ...   \n",
       "295        1.069559   325.0   330           10.695586       114.395556   \n",
       "296        1.131819   324.5   327           11.318190       128.101414   \n",
       "297        1.137146   316.5   316           11.371464       129.310202   \n",
       "298        1.971869   344.5   346           19.718688       388.826667   \n",
       "299        0.961634   347.5   348            3.846535        14.795833   \n",
       "\n",
       "     Kurtosis  Skewness  Range  Minimum  Maximum    Sum  Count    Condition  \n",
       "0   -0.897223 -0.105681      6      362      368  36513    100         Good  \n",
       "1   -0.395387  0.265678      5      366      371  36826    100         Good  \n",
       "2   -0.400559 -0.177908      4      369      373  37089    100         Good  \n",
       "3   -0.824843  0.072199      4      371      375  37332    100         Good  \n",
       "4   -0.187940 -0.205709      5      373      378  37557    100         Good  \n",
       "..        ...       ...    ...      ...      ...    ...    ...          ...  \n",
       "295  0.435310 -0.668873     54      290      344  32322    100  Crater wear  \n",
       "296 -0.008641 -0.555331     53      291      344  32314    100  Crater wear  \n",
       "297 -0.046520 -0.069875     56      285      341  31677    100  Crater wear  \n",
       "298 -0.073315 -1.185157     74      283      357  33304    100  Crater wear  \n",
       "299  2.440078  1.747884     13      345      358   5577     16  Crater wear  \n",
       "\n",
       "[300 rows x 13 columns]"
      ]
     },
     "execution_count": 21,
     "metadata": {},
     "output_type": "execute_result"
    }
   ],
   "source": [
    "dataset"
   ]
  },
  {
   "cell_type": "code",
   "execution_count": 23,
   "metadata": {},
   "outputs": [],
   "source": [
    "x=dataset.iloc[:,0:12].values\n",
    "y=dataset.iloc[:,12].values"
   ]
  },
  {
   "cell_type": "code",
   "execution_count": 24,
   "metadata": {},
   "outputs": [
    {
     "data": {
      "text/plain": [
       "array(['Good', 'Good', 'Good', 'Good', 'Good', 'Good', 'Good', 'Good',\n",
       "       'Good', 'Good', 'Good', 'Good', 'Good', 'Good', 'Good', 'Good',\n",
       "       'Good', 'Good', 'Good', 'Good', 'Good', 'Good', 'Good', 'Good',\n",
       "       'Good', 'Good', 'Good', 'Good', 'Good', 'Good', 'Good', 'Good',\n",
       "       'Good', 'Good', 'Good', 'Good', 'Good', 'Good', 'Good', 'Good',\n",
       "       'Good', 'Good', 'Good', 'Good', 'Good', 'Good', 'Good', 'Good',\n",
       "       'Good', 'Good', 'Notch wear', 'Notch wear', 'Notch wear',\n",
       "       'Notch wear', 'Notch wear', 'Notch wear', 'Notch wear',\n",
       "       'Notch wear', 'Notch wear', 'Notch wear', 'Notch wear',\n",
       "       'Notch wear', 'Notch wear', 'Notch wear', 'Notch wear',\n",
       "       'Notch wear', 'Notch wear', 'Notch wear', 'Notch wear',\n",
       "       'Notch wear', 'Notch wear', 'Notch wear', 'Notch wear',\n",
       "       'Notch wear', 'Notch wear', 'Notch wear', 'Notch wear',\n",
       "       'Notch wear', 'Notch wear', 'Notch wear', 'Notch wear',\n",
       "       'Notch wear', 'Notch wear', 'Notch wear', 'Notch wear',\n",
       "       'Notch wear', 'Notch wear', 'Notch wear', 'Notch wear',\n",
       "       'Notch wear', 'Notch wear', 'Notch wear', 'Notch wear',\n",
       "       'Notch wear', 'Notch wear', 'Notch wear', 'Notch wear',\n",
       "       'Notch wear', 'Notch wear', 'Notch wear', 'Nose Wear', 'Nose Wear',\n",
       "       'Nose Wear', 'Nose Wear', 'Nose Wear', 'Nose Wear', 'Nose Wear',\n",
       "       'Nose Wear', 'Nose Wear', 'Nose Wear', 'Nose Wear', 'Nose Wear',\n",
       "       'Nose Wear', 'Nose Wear', 'Nose Wear', 'Nose Wear', 'Nose Wear',\n",
       "       'Nose Wear', 'Nose Wear', 'Nose Wear', 'Nose Wear', 'Nose Wear',\n",
       "       'Nose Wear', 'Nose Wear', 'Nose Wear', 'Nose Wear', 'Nose Wear',\n",
       "       'Nose Wear', 'Nose Wear', 'Nose Wear', 'Nose Wear', 'Nose Wear',\n",
       "       'Nose Wear', 'Nose Wear', 'Nose Wear', 'Nose Wear', 'Nose Wear',\n",
       "       'Nose Wear', 'Nose Wear', 'Nose Wear', 'Nose Wear', 'Nose Wear',\n",
       "       'Nose Wear', 'Nose Wear', 'Nose Wear', 'Nose Wear', 'Nose Wear',\n",
       "       'Nose Wear', 'Nose Wear', 'Nose Wear', 'Flank Wear', 'Flank Wear',\n",
       "       'Flank Wear', 'Flank Wear', 'Flank Wear', 'Flank Wear',\n",
       "       'Flank Wear', 'Flank Wear', 'Flank Wear', 'Flank Wear',\n",
       "       'Flank Wear', 'Flank Wear', 'Flank Wear', 'Flank Wear',\n",
       "       'Flank Wear', 'Flank Wear', 'Flank Wear', 'Flank Wear',\n",
       "       'Flank Wear', 'Flank Wear', 'Flank Wear', 'Flank Wear',\n",
       "       'Flank Wear', 'Flank Wear', 'Flank Wear', 'Flank Wear',\n",
       "       'Flank Wear', 'Flank Wear', 'Flank Wear', 'Flank Wear',\n",
       "       'Flank Wear', 'Flank Wear', 'Flank Wear', 'Flank Wear',\n",
       "       'Flank Wear', 'Flank Wear', 'Flank Wear', 'Flank Wear',\n",
       "       'Flank Wear', 'Flank Wear', 'Flank Wear', 'Flank Wear',\n",
       "       'Flank Wear', 'Flank Wear', 'Flank Wear', 'Flank Wear',\n",
       "       'Flank Wear', 'Flank Wear', 'Flank Wear', 'Flank Wear',\n",
       "       'Tool breakage ', 'Tool breakage ', 'Tool breakage ',\n",
       "       'Tool breakage ', 'Tool breakage ', 'Tool breakage ',\n",
       "       'Tool breakage ', 'Tool breakage ', 'Tool breakage ',\n",
       "       'Tool breakage ', 'Tool breakage ', 'Tool breakage ',\n",
       "       'Tool breakage ', 'Tool breakage ', 'Tool breakage ',\n",
       "       'Tool breakage ', 'Tool breakage ', 'Tool breakage ',\n",
       "       'Tool breakage ', 'Tool breakage ', 'Tool breakage ',\n",
       "       'Tool breakage ', 'Tool breakage ', 'Tool breakage ',\n",
       "       'Tool breakage ', 'Tool breakage ', 'Tool breakage ',\n",
       "       'Tool breakage ', 'Tool breakage ', 'Tool breakage ',\n",
       "       'Tool breakage ', 'Tool breakage ', 'Tool breakage ',\n",
       "       'Tool breakage ', 'Tool breakage ', 'Tool breakage ',\n",
       "       'Tool breakage ', 'Tool breakage ', 'Tool breakage ',\n",
       "       'Tool breakage ', 'Tool breakage ', 'Tool breakage ',\n",
       "       'Tool breakage ', 'Tool breakage ', 'Tool breakage ',\n",
       "       'Tool breakage ', 'Tool breakage ', 'Tool breakage ',\n",
       "       'Tool breakage ', 'Tool breakage ', 'Crater wear', 'Crater wear',\n",
       "       'Crater wear', 'Crater wear', 'Crater wear', 'Crater wear',\n",
       "       'Crater wear', 'Crater wear', 'Crater wear', 'Crater wear',\n",
       "       'Crater wear', 'Crater wear', 'Crater wear', 'Crater wear',\n",
       "       'Crater wear', 'Crater wear', 'Crater wear', 'Crater wear',\n",
       "       'Crater wear', 'Crater wear', 'Crater wear', 'Crater wear',\n",
       "       'Crater wear', 'Crater wear', 'Crater wear', 'Crater wear',\n",
       "       'Crater wear', 'Crater wear', 'Crater wear', 'Crater wear',\n",
       "       'Crater wear', 'Crater wear', 'Crater wear', 'Crater wear',\n",
       "       'Crater wear', 'Crater wear', 'Crater wear', 'Crater wear',\n",
       "       'Crater wear', 'Crater wear', 'Crater wear', 'Crater wear',\n",
       "       'Crater wear', 'Crater wear', 'Crater wear', 'Crater wear',\n",
       "       'Crater wear', 'Crater wear', 'Crater wear', 'Crater wear'],\n",
       "      dtype=object)"
      ]
     },
     "execution_count": 24,
     "metadata": {},
     "output_type": "execute_result"
    }
   ],
   "source": [
    "y"
   ]
  },
  {
   "cell_type": "code",
   "execution_count": 25,
   "metadata": {},
   "outputs": [],
   "source": [
    "from sklearn.preprocessing import LabelEncoder"
   ]
  },
  {
   "cell_type": "code",
   "execution_count": 26,
   "metadata": {},
   "outputs": [],
   "source": [
    "encoder=LabelEncoder()"
   ]
  },
  {
   "cell_type": "code",
   "execution_count": 27,
   "metadata": {},
   "outputs": [],
   "source": [
    "y1=encoder.fit_transform(y)"
   ]
  },
  {
   "cell_type": "code",
   "execution_count": 11,
   "metadata": {},
   "outputs": [],
   "source": [
    "y2=pd.get_dummies(y1).values"
   ]
  },
  {
   "cell_type": "code",
   "execution_count": 12,
   "metadata": {},
   "outputs": [
    {
     "data": {
      "text/plain": [
       "array([[0, 0, 1, 0, 0, 0],\n",
       "       [0, 0, 1, 0, 0, 0],\n",
       "       [0, 0, 1, 0, 0, 0],\n",
       "       ...,\n",
       "       [1, 0, 0, 0, 0, 0],\n",
       "       [1, 0, 0, 0, 0, 0],\n",
       "       [1, 0, 0, 0, 0, 0]], dtype=uint8)"
      ]
     },
     "execution_count": 12,
     "metadata": {},
     "output_type": "execute_result"
    }
   ],
   "source": [
    "y2"
   ]
  },
  {
   "cell_type": "code",
   "execution_count": 28,
   "metadata": {},
   "outputs": [
    {
     "data": {
      "text/plain": [
       "array([2, 2, 2, 2, 2, 2, 2, 2, 2, 2, 2, 2, 2, 2, 2, 2, 2, 2, 2, 2, 2, 2,\n",
       "       2, 2, 2, 2, 2, 2, 2, 2, 2, 2, 2, 2, 2, 2, 2, 2, 2, 2, 2, 2, 2, 2,\n",
       "       2, 2, 2, 2, 2, 2, 4, 4, 4, 4, 4, 4, 4, 4, 4, 4, 4, 4, 4, 4, 4, 4,\n",
       "       4, 4, 4, 4, 4, 4, 4, 4, 4, 4, 4, 4, 4, 4, 4, 4, 4, 4, 4, 4, 4, 4,\n",
       "       4, 4, 4, 4, 4, 4, 4, 4, 4, 4, 4, 4, 3, 3, 3, 3, 3, 3, 3, 3, 3, 3,\n",
       "       3, 3, 3, 3, 3, 3, 3, 3, 3, 3, 3, 3, 3, 3, 3, 3, 3, 3, 3, 3, 3, 3,\n",
       "       3, 3, 3, 3, 3, 3, 3, 3, 3, 3, 3, 3, 3, 3, 3, 3, 3, 3, 1, 1, 1, 1,\n",
       "       1, 1, 1, 1, 1, 1, 1, 1, 1, 1, 1, 1, 1, 1, 1, 1, 1, 1, 1, 1, 1, 1,\n",
       "       1, 1, 1, 1, 1, 1, 1, 1, 1, 1, 1, 1, 1, 1, 1, 1, 1, 1, 1, 1, 1, 1,\n",
       "       1, 1, 5, 5, 5, 5, 5, 5, 5, 5, 5, 5, 5, 5, 5, 5, 5, 5, 5, 5, 5, 5,\n",
       "       5, 5, 5, 5, 5, 5, 5, 5, 5, 5, 5, 5, 5, 5, 5, 5, 5, 5, 5, 5, 5, 5,\n",
       "       5, 5, 5, 5, 5, 5, 5, 5, 0, 0, 0, 0, 0, 0, 0, 0, 0, 0, 0, 0, 0, 0,\n",
       "       0, 0, 0, 0, 0, 0, 0, 0, 0, 0, 0, 0, 0, 0, 0, 0, 0, 0, 0, 0, 0, 0,\n",
       "       0, 0, 0, 0, 0, 0, 0, 0, 0, 0, 0, 0, 0, 0])"
      ]
     },
     "execution_count": 28,
     "metadata": {},
     "output_type": "execute_result"
    }
   ],
   "source": [
    "y1"
   ]
  },
  {
   "cell_type": "code",
   "execution_count": 29,
   "metadata": {},
   "outputs": [],
   "source": [
    "from sklearn.linear_model import LogisticRegression"
   ]
  },
  {
   "cell_type": "code",
   "execution_count": 30,
   "metadata": {},
   "outputs": [],
   "source": [
    "log_model=LogisticRegression()"
   ]
  },
  {
   "cell_type": "code",
   "execution_count": 31,
   "metadata": {},
   "outputs": [],
   "source": [
    "from sklearn.model_selection import  KFold"
   ]
  },
  {
   "cell_type": "code",
   "execution_count": 32,
   "metadata": {},
   "outputs": [],
   "source": [
    "n_split=5"
   ]
  },
  {
   "cell_type": "code",
   "execution_count": 33,
   "metadata": {},
   "outputs": [],
   "source": [
    "for train_index,test_index in KFold(n_split).split(x):\n",
    "    x_train,x_test=x[train_index],x[test_index]\n",
    "    y_train,y_test=y1[train_index],y1[test_index]\n",
    "  "
   ]
  },
  {
   "cell_type": "code",
   "execution_count": 34,
   "metadata": {},
   "outputs": [],
   "source": [
    "from sklearn.preprocessing import StandardScaler"
   ]
  },
  {
   "cell_type": "code",
   "execution_count": 35,
   "metadata": {},
   "outputs": [],
   "source": [
    "sc=StandardScaler()"
   ]
  },
  {
   "cell_type": "code",
   "execution_count": 36,
   "metadata": {},
   "outputs": [],
   "source": [
    "x_train=sc.fit_transform(x_train)\n",
    "x_test=sc.transform(x_test)"
   ]
  },
  {
   "cell_type": "code",
   "execution_count": 37,
   "metadata": {},
   "outputs": [
    {
     "data": {
      "text/plain": [
       "LogisticRegression()"
      ]
     },
     "execution_count": 37,
     "metadata": {},
     "output_type": "execute_result"
    }
   ],
   "source": [
    "log_model.fit(x_train,y_train)"
   ]
  },
  {
   "cell_type": "code",
   "execution_count": 38,
   "metadata": {},
   "outputs": [],
   "source": [
    "y_pred=log_model.predict(x_test)"
   ]
  },
  {
   "cell_type": "code",
   "execution_count": 40,
   "metadata": {},
   "outputs": [
    {
     "data": {
      "text/plain": [
       "array([5, 5, 5, 5, 5, 5, 5, 5, 5, 5, 0, 0, 0, 0, 0, 0, 0, 0, 0, 0, 0, 0,\n",
       "       0, 0, 0, 0, 0, 0, 0, 0, 0, 0, 0, 0, 0, 0, 0, 0, 0, 0, 0, 0, 0, 0,\n",
       "       0, 0, 0, 0, 0, 0, 0, 0, 0, 0, 0, 0, 0, 0, 0, 0])"
      ]
     },
     "execution_count": 40,
     "metadata": {},
     "output_type": "execute_result"
    }
   ],
   "source": [
    "y_test"
   ]
  },
  {
   "cell_type": "code",
   "execution_count": 41,
   "metadata": {},
   "outputs": [],
   "source": [
    "from sklearn.metrics import confusion_matrix"
   ]
  },
  {
   "cell_type": "code",
   "execution_count": 42,
   "metadata": {},
   "outputs": [
    {
     "data": {
      "text/plain": [
       "array([[ 0, 32, 18,  0,  0],\n",
       "       [ 0,  0,  0,  0,  0],\n",
       "       [ 0,  0,  0,  0,  0],\n",
       "       [ 0,  0,  0,  0,  0],\n",
       "       [ 0,  0,  1,  4,  5]], dtype=int64)"
      ]
     },
     "execution_count": 42,
     "metadata": {},
     "output_type": "execute_result"
    }
   ],
   "source": [
    "confusion_matrix(y_test,y_pred)"
   ]
  },
  {
   "cell_type": "code",
   "execution_count": null,
   "metadata": {},
   "outputs": [],
   "source": []
  }
 ],
 "metadata": {
  "kernelspec": {
   "display_name": "Python 3",
   "language": "python",
   "name": "python3"
  },
  "language_info": {
   "codemirror_mode": {
    "name": "ipython",
    "version": 3
   },
   "file_extension": ".py",
   "mimetype": "text/x-python",
   "name": "python",
   "nbconvert_exporter": "python",
   "pygments_lexer": "ipython3",
   "version": "3.8.5"
  }
 },
 "nbformat": 4,
 "nbformat_minor": 4
}
