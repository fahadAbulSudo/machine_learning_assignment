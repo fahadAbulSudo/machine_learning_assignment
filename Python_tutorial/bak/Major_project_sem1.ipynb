{
 "cells": [
  {
   "cell_type": "code",
   "execution_count": 66,
   "metadata": {},
   "outputs": [],
   "source": [
    "import numpy as np \n",
    "import pandas as pd\n",
    "import sympy\n",
    "import matplotlib . pyplot as plt\n",
    "import sys\n",
    "##from scipy import fftpack\n",
    "##from scipy.fftpack import fft\n",
    "##from scipy import signal\n",
    "##from scipy.fft import fftshift\n",
    "import xlsxwriter"
   ]
  },
  {
   "cell_type": "code",
   "execution_count": 67,
   "metadata": {},
   "outputs": [],
   "source": [
    "df = pd.read_csv('Trial_117.csv')"
   ]
  },
  {
   "cell_type": "code",
   "execution_count": 68,
   "metadata": {},
   "outputs": [
    {
     "data": {
      "text/html": [
       "<div>\n",
       "<style scoped>\n",
       "    .dataframe tbody tr th:only-of-type {\n",
       "        vertical-align: middle;\n",
       "    }\n",
       "\n",
       "    .dataframe tbody tr th {\n",
       "        vertical-align: top;\n",
       "    }\n",
       "\n",
       "    .dataframe thead th {\n",
       "        text-align: right;\n",
       "    }\n",
       "</style>\n",
       "<table border=\"1\" class=\"dataframe\">\n",
       "  <thead>\n",
       "    <tr style=\"text-align: right;\">\n",
       "      <th></th>\n",
       "      <th>t</th>\n",
       "      <th>g</th>\n",
       "    </tr>\n",
       "  </thead>\n",
       "  <tbody>\n",
       "    <tr>\n",
       "      <th>0</th>\n",
       "      <td>0.00000</td>\n",
       "      <td>0.062773</td>\n",
       "    </tr>\n",
       "    <tr>\n",
       "      <th>1</th>\n",
       "      <td>0.00005</td>\n",
       "      <td>-0.030545</td>\n",
       "    </tr>\n",
       "    <tr>\n",
       "      <th>2</th>\n",
       "      <td>0.00010</td>\n",
       "      <td>0.009981</td>\n",
       "    </tr>\n",
       "    <tr>\n",
       "      <th>3</th>\n",
       "      <td>0.00015</td>\n",
       "      <td>0.015032</td>\n",
       "    </tr>\n",
       "    <tr>\n",
       "      <th>4</th>\n",
       "      <td>0.00020</td>\n",
       "      <td>0.000962</td>\n",
       "    </tr>\n",
       "    <tr>\n",
       "      <th>...</th>\n",
       "      <td>...</td>\n",
       "      <td>...</td>\n",
       "    </tr>\n",
       "    <tr>\n",
       "      <th>585979</th>\n",
       "      <td>29.29895</td>\n",
       "      <td>0.011064</td>\n",
       "    </tr>\n",
       "    <tr>\n",
       "      <th>585980</th>\n",
       "      <td>29.29900</td>\n",
       "      <td>-0.013709</td>\n",
       "    </tr>\n",
       "    <tr>\n",
       "      <th>585981</th>\n",
       "      <td>29.29905</td>\n",
       "      <td>0.056640</td>\n",
       "    </tr>\n",
       "    <tr>\n",
       "      <th>585982</th>\n",
       "      <td>29.29910</td>\n",
       "      <td>0.049425</td>\n",
       "    </tr>\n",
       "    <tr>\n",
       "      <th>585983</th>\n",
       "      <td>29.29915</td>\n",
       "      <td>-0.045096</td>\n",
       "    </tr>\n",
       "  </tbody>\n",
       "</table>\n",
       "<p>585984 rows × 2 columns</p>\n",
       "</div>"
      ],
      "text/plain": [
       "               t         g\n",
       "0        0.00000  0.062773\n",
       "1        0.00005 -0.030545\n",
       "2        0.00010  0.009981\n",
       "3        0.00015  0.015032\n",
       "4        0.00020  0.000962\n",
       "...          ...       ...\n",
       "585979  29.29895  0.011064\n",
       "585980  29.29900 -0.013709\n",
       "585981  29.29905  0.056640\n",
       "585982  29.29910  0.049425\n",
       "585983  29.29915 -0.045096\n",
       "\n",
       "[585984 rows x 2 columns]"
      ]
     },
     "execution_count": 68,
     "metadata": {},
     "output_type": "execute_result"
    }
   ],
   "source": [
    "df"
   ]
  },
  {
   "cell_type": "code",
   "execution_count": 69,
   "metadata": {},
   "outputs": [
    {
     "name": "stdout",
     "output_type": "stream",
     "text": [
      "[[0.000000e+00]\n",
      " [5.000000e-05]\n",
      " [1.000000e-04]\n",
      " ...\n",
      " [2.929905e+01]\n",
      " [2.929910e+01]\n",
      " [2.929915e+01]]\n",
      "[ 0.06277338 -0.0305449   0.00998121 ...  0.05664035  0.04942502\n",
      " -0.04509582]\n",
      "585984\n"
     ]
    }
   ],
   "source": [
    "t = df.iloc[:,:1].values\n",
    "g = df.iloc[:,-1].values\n",
    "print (t)\n",
    "print (g)\n",
    "print (t.size)"
   ]
  },
  {
   "cell_type": "code",
   "execution_count": 70,
   "metadata": {},
   "outputs": [
    {
     "data": {
      "image/png": "[encoded data removed]",
      "text/plain": [
       "<Figure size 432x288 with 1 Axes>"
      ]
     },
     "metadata": {
      "needs_background": "light"
     },
     "output_type": "display_data"
    }
   ],
   "source": [
    "plt.plot(t,g,color='red')\n",
    "plt.title('Time Domain')\n",
    "plt.xlabel('Time')\n",
    "plt.ylabel('Acceleration')\n",
    "plt.show ()"
   ]
  },
  {
   "cell_type": "code",
   "execution_count": 71,
   "metadata": {},
   "outputs": [
    {
     "name": "stderr",
     "output_type": "stream",
     "text": [
      "C:\\Users\\abulf\\anaconda3\\lib\\site-packages\\numpy\\core\\_asarray.py:83: ComplexWarning: Casting complex values to real discards the imaginary part\n",
      "  return array(a, dtype, copy=False, order=order)\n",
      "No handles with labels found to put in legend.\n"
     ]
    },
    {
     "data": {
      "image/png": "[encoded data removed]",
      "text/plain": [
       "<Figure size 432x288 with 1 Axes>"
      ]
     },
     "metadata": {
      "needs_background": "light"
     },
     "output_type": "display_data"
    }
   ],
   "source": [
    "# sampling rate\n",
    "sr = 20000\n",
    "# sampling interval\n",
    "#X = fft(t)\n",
    "n = len(t)\n",
    "fhat = np.fft.fft(g,n)\n",
    "#power spectral density\n",
    "psd = (fhat/n)*(np.conj(fhat/n))\n",
    "freq = (sr/n)*(np.arange(n))\n",
    "freq.resize(585984,1)\n",
    "L = np.arange (1,np.floor(n/2),dtype='int')\n",
    "\n",
    "\n",
    "\n",
    "plt.plot(freq[L],psd[L],color='red')\n",
    "plt.title('Frequency Domain')\n",
    "plt.xlabel('Frequency')\n",
    "plt.ylabel('Amplitude')\n",
    "plt.legend()\n",
    "\n",
    "plt.show ()"
   ]
  },
  {
   "cell_type": "code",
   "execution_count": 72,
   "metadata": {},
   "outputs": [],
   "source": [
    "indices= psd > .0001\n",
    "psdclean = psd*indices\n",
    "fhat = indices*fhat\n",
    "ffilt = np.fft.ifft(fhat)\n",
    "X= ffilt.real\n",
    "Y= ffilt.imag\n",
    "Z= X-Y\n",
    "\n",
    "\n"
   ]
  },
  {
   "cell_type": "code",
   "execution_count": 76,
   "metadata": {},
   "outputs": [
    {
     "name": "stderr",
     "output_type": "stream",
     "text": [
      "No handles with labels found to put in legend.\n"
     ]
    },
    {
     "data": {
      "image/png": "[encoded data removed]",
      "text/plain": [
       "<Figure size 432x288 with 1 Axes>"
      ]
     },
     "metadata": {
      "needs_background": "light"
     },
     "output_type": "display_data"
    }
   ],
   "source": [
    "plt.plot(t,Z,color='red')\n",
    "plt.title('Clear Signals')\n",
    "plt.xlabel('Time')\n",
    "plt.ylabel('Clear Acceleration')\n",
    "plt.legend()\n",
    "\n",
    "plt.show ()"
   ]
  },
  {
   "cell_type": "code",
   "execution_count": null,
   "metadata": {},
   "outputs": [],
   "source": []
  },
  {
   "cell_type": "code",
   "execution_count": 74,
   "metadata": {},
   "outputs": [
    {
     "name": "stdout",
     "output_type": "stream",
     "text": [
      "[[0.000000e+00]\n",
      " [5.000000e-05]\n",
      " [1.000000e-04]\n",
      " ...\n",
      " [2.929905e+01]\n",
      " [2.929910e+01]\n",
      " [2.929915e+01]]\n",
      "585984\n",
      "[0.04950874 0.0410544  0.02983553 ... 0.0566274  0.05731294 0.05495903]\n",
      "585984\n"
     ]
    }
   ],
   "source": [
    "print (t)\n",
    "print (t.size)\n",
    "print (Z)\n",
    "print (t.size)"
   ]
  },
  {
   "cell_type": "code",
   "execution_count": 75,
   "metadata": {},
   "outputs": [],
   "source": [
    "frquency_data = pd.DataFrame(t,Z)\n",
    "frquency_data.to_excel(\"frequency_value_117A.xlsx\")"
   ]
  },
  {
   "cell_type": "code",
   "execution_count": 65,
   "metadata": {},
   "outputs": [],
   "source": []
  },
  {
   "cell_type": "code",
   "execution_count": null,
   "metadata": {},
   "outputs": [],
   "source": []
  }
 ],
 "metadata": {
  "kernelspec": {
   "display_name": "Python 3",
   "language": "python",
   "name": "python3"
  },
  "language_info": {
   "codemirror_mode": {
    "name": "ipython",
    "version": 3
   },
   "file_extension": ".py",
   "mimetype": "text/x-python",
   "name": "python",
   "nbconvert_exporter": "python",
   "pygments_lexer": "ipython3",
   "version": "3.8.5"
  }
 },
 "nbformat": 4,
 "nbformat_minor": 4
}
