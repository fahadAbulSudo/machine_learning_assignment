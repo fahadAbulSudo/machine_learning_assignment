{
 "cells": [
  {
   "cell_type": "markdown",
   "metadata": {
    "id": "oRkAAspxeKK8"
   },
   "source": [
    "### Import Libraries"
   ]
  },
  {
   "cell_type": "code",
   "execution_count": 1,
   "metadata": {
    "colab": {
     "base_uri": "https://localhost:8080/"
    },
    "executionInfo": {
     "elapsed": 7299,
     "status": "ok",
     "timestamp": 1655273476187,
     "user": {
      "displayName": "Piyush Agarwal",
      "userId": "06685019812507607970"
     },
     "user_tz": -330
    },
    "id": "zLBo6uqSeCm6",
    "outputId": "220e31d8-efc4-4480-efd0-f495c02c765b"
   },
   "outputs": [],
   "source": [
    "import pandas as pd\n",
    "import numpy as np\n",
    "import matplotlib.pyplot as plt\n",
    "import tqdm\n",
    "import math\n",
    "import collections\n",
    "import pickle\n",
    "\n",
    "\n",
    "from sklearn.linear_model import LinearRegression\n",
    "from sklearn.model_selection import train_test_split\n",
    "from sklearn.metrics import r2_score, mean_squared_error, mean_absolute_error\n",
    "\n",
    "\n",
    "from sklearn.metrics import mean_squared_error, mean_absolute_error\n",
    "\n",
    "\n",
    "import category_encoders as ce\n",
    "\n",
    "from sklearn.ensemble import IsolationForest\n",
    "from sklearn.neighbors import LocalOutlierFactor\n",
    "\n",
    "\n",
    "import xgboost\n",
    "from sklearn import preprocessing\n",
    "from sklearn.model_selection import cross_val_score\n",
    "from sklearn.model_selection import RepeatedKFold\n",
    "from xgboost import XGBRegressor\n",
    "from sklearn.ensemble import RandomForestRegressor\n",
    "from sklearn.tree import DecisionTreeRegressor\n",
    "from sklearn.ensemble import ExtraTreesRegressor, AdaBoostRegressor\n",
    "from sklearn.preprocessing import MinMaxScaler, LabelEncoder\n",
    "from sklearn.model_selection import GridSearchCV, StratifiedKFold, KFold\n",
    "\n",
    "from sklearn.compose import TransformedTargetRegressor"
   ]
  },
  {
   "cell_type": "markdown",
   "metadata": {
    "id": "0V_n-fnY8Gym"
   },
   "source": [
    "### Import drive, dataset, helper functions"
   ]
  },
  {
   "cell_type": "code",
   "execution_count": 2,
   "metadata": {},
   "outputs": [
    {
     "ename": "BadZipFile",
     "evalue": "File is not a zip file",
     "output_type": "error",
     "traceback": [
      "\u001b[1;31m---------------------------------------------------------------------------\u001b[0m",
      "\u001b[1;31mOSError\u001b[0m                                   Traceback (most recent call last)",
      "File \u001b[1;32mc:\\Users\\abulf\\AppData\\Local\\Programs\\Python\\Python310\\lib\\zipfile.py:1330\u001b[0m, in \u001b[0;36mZipFile._RealGetContents\u001b[1;34m(self)\u001b[0m\n\u001b[0;32m   1329\u001b[0m \u001b[39mtry\u001b[39;00m:\n\u001b[1;32m-> 1330\u001b[0m     endrec \u001b[39m=\u001b[39m _EndRecData(fp)\n\u001b[0;32m   1331\u001b[0m \u001b[39mexcept\u001b[39;00m \u001b[39mOSError\u001b[39;00m:\n",
      "File \u001b[1;32mc:\\Users\\abulf\\AppData\\Local\\Programs\\Python\\Python310\\lib\\zipfile.py:274\u001b[0m, in \u001b[0;36m_EndRecData\u001b[1;34m(fpin)\u001b[0m\n\u001b[0;32m    273\u001b[0m     \u001b[39mreturn\u001b[39;00m \u001b[39mNone\u001b[39;00m\n\u001b[1;32m--> 274\u001b[0m data \u001b[39m=\u001b[39m fpin\u001b[39m.\u001b[39;49mread()\n\u001b[0;32m    275\u001b[0m \u001b[39mif\u001b[39;00m (\u001b[39mlen\u001b[39m(data) \u001b[39m==\u001b[39m sizeEndCentDir \u001b[39mand\u001b[39;00m\n\u001b[0;32m    276\u001b[0m     data[\u001b[39m0\u001b[39m:\u001b[39m4\u001b[39m] \u001b[39m==\u001b[39m stringEndArchive \u001b[39mand\u001b[39;00m\n\u001b[0;32m    277\u001b[0m     data[\u001b[39m-\u001b[39m\u001b[39m2\u001b[39m:] \u001b[39m==\u001b[39m \u001b[39mb\u001b[39m\u001b[39m\"\u001b[39m\u001b[39m\\000\u001b[39;00m\u001b[39m\\000\u001b[39;00m\u001b[39m\"\u001b[39m):\n\u001b[0;32m    278\u001b[0m     \u001b[39m# the signature is correct and there's no comment, unpack structure\u001b[39;00m\n",
      "\u001b[1;31mOSError\u001b[0m: [Errno 22] Invalid argument",
      "\nDuring handling of the above exception, another exception occurred:\n",
      "\u001b[1;31mBadZipFile\u001b[0m                                Traceback (most recent call last)",
      "\u001b[1;32mc:\\Users\\abulf\\Documents\\afour-ai\\Regression\\Car price prediction\\Final_regression_Car_Price_Prediction.ipynb Cell 4'\u001b[0m in \u001b[0;36m<cell line: 8>\u001b[1;34m()\u001b[0m\n\u001b[0;32m      <a href='vscode-notebook-cell:/c%3A/Users/abulf/Documents/afour-ai/Regression/Car%20price%20prediction/Final_regression_Car_Price_Prediction.ipynb#ch0000003?line=4'>5</a>\u001b[0m \u001b[39mfrom\u001b[39;00m \u001b[39mHelper_Functions\u001b[39;00m \u001b[39mimport\u001b[39;00m common_utils\n\u001b[0;32m      <a href='vscode-notebook-cell:/c%3A/Users/abulf/Documents/afour-ai/Regression/Car%20price%20prediction/Final_regression_Car_Price_Prediction.ipynb#ch0000003?line=5'>6</a>\u001b[0m directory_to_extract_to \u001b[39m=\u001b[39m os\u001b[39m.\u001b[39mgetcwd()\n\u001b[1;32m----> <a href='vscode-notebook-cell:/c%3A/Users/abulf/Documents/afour-ai/Regression/Car%20price%20prediction/Final_regression_Car_Price_Prediction.ipynb#ch0000003?line=7'>8</a>\u001b[0m common_utils\u001b[39m.\u001b[39;49mload_data_from_one_drive(directory_to_extract_to, \u001b[39m\"\u001b[39;49m\u001b[39mregression_paths\u001b[39;49m\u001b[39m\"\u001b[39;49m, \u001b[39m\"\u001b[39;49m\u001b[39mcar_price_dataset_path\u001b[39;49m\u001b[39m\"\u001b[39;49m)\n",
      "File \u001b[1;32mc:\\Users\\abulf\\Documents\\afour-ai\\Helper_Functions\\common_utils.py:442\u001b[0m, in \u001b[0;36mload_data_from_one_drive\u001b[1;34m(directory_to_extract_to, path_section_name, file_path_name, not_one_folder_inside)\u001b[0m\n\u001b[0;32m    440\u001b[0m config_obj\u001b[39m.\u001b[39mread(\u001b[39mstr\u001b[39m(Path(os\u001b[39m.\u001b[39mgetcwd())\u001b[39m.\u001b[39mparents[not_one_folder_inside])\u001b[39m+\u001b[39m\u001b[39m\"\u001b[39m\u001b[39m\\\u001b[39m\u001b[39mconfigfile.ini\u001b[39m\u001b[39m\"\u001b[39m)\n\u001b[0;32m    441\u001b[0m path_to_zip_file \u001b[39m=\u001b[39m config_obj[path_section_name][file_path_name]\n\u001b[1;32m--> 442\u001b[0m \u001b[39mwith\u001b[39;00m zipfile\u001b[39m.\u001b[39;49mZipFile(path_to_zip_file, \u001b[39m'\u001b[39;49m\u001b[39mr\u001b[39;49m\u001b[39m'\u001b[39;49m) \u001b[39mas\u001b[39;00m zip_ref:\n\u001b[0;32m    443\u001b[0m     \u001b[39mfor\u001b[39;00m member \u001b[39min\u001b[39;00m tqdm(zip_ref\u001b[39m.\u001b[39minfolist(), desc\u001b[39m=\u001b[39m\u001b[39m'\u001b[39m\u001b[39mExtracting \u001b[39m\u001b[39m'\u001b[39m):\n\u001b[0;32m    444\u001b[0m       zip_ref\u001b[39m.\u001b[39mextract(member, directory_to_extract_to)\n",
      "File \u001b[1;32mc:\\Users\\abulf\\AppData\\Local\\Programs\\Python\\Python310\\lib\\zipfile.py:1267\u001b[0m, in \u001b[0;36mZipFile.__init__\u001b[1;34m(self, file, mode, compression, allowZip64, compresslevel, strict_timestamps)\u001b[0m\n\u001b[0;32m   1265\u001b[0m \u001b[39mtry\u001b[39;00m:\n\u001b[0;32m   1266\u001b[0m     \u001b[39mif\u001b[39;00m mode \u001b[39m==\u001b[39m \u001b[39m'\u001b[39m\u001b[39mr\u001b[39m\u001b[39m'\u001b[39m:\n\u001b[1;32m-> 1267\u001b[0m         \u001b[39mself\u001b[39;49m\u001b[39m.\u001b[39;49m_RealGetContents()\n\u001b[0;32m   1268\u001b[0m     \u001b[39melif\u001b[39;00m mode \u001b[39min\u001b[39;00m (\u001b[39m'\u001b[39m\u001b[39mw\u001b[39m\u001b[39m'\u001b[39m, \u001b[39m'\u001b[39m\u001b[39mx\u001b[39m\u001b[39m'\u001b[39m):\n\u001b[0;32m   1269\u001b[0m         \u001b[39m# set the modified flag so central directory gets written\u001b[39;00m\n\u001b[0;32m   1270\u001b[0m         \u001b[39m# even if no files are added to the archive\u001b[39;00m\n\u001b[0;32m   1271\u001b[0m         \u001b[39mself\u001b[39m\u001b[39m.\u001b[39m_didModify \u001b[39m=\u001b[39m \u001b[39mTrue\u001b[39;00m\n",
      "File \u001b[1;32mc:\\Users\\abulf\\AppData\\Local\\Programs\\Python\\Python310\\lib\\zipfile.py:1332\u001b[0m, in \u001b[0;36mZipFile._RealGetContents\u001b[1;34m(self)\u001b[0m\n\u001b[0;32m   1330\u001b[0m     endrec \u001b[39m=\u001b[39m _EndRecData(fp)\n\u001b[0;32m   1331\u001b[0m \u001b[39mexcept\u001b[39;00m \u001b[39mOSError\u001b[39;00m:\n\u001b[1;32m-> 1332\u001b[0m     \u001b[39mraise\u001b[39;00m BadZipFile(\u001b[39m\"\u001b[39m\u001b[39mFile is not a zip file\u001b[39m\u001b[39m\"\u001b[39m)\n\u001b[0;32m   1333\u001b[0m \u001b[39mif\u001b[39;00m \u001b[39mnot\u001b[39;00m endrec:\n\u001b[0;32m   1334\u001b[0m     \u001b[39mraise\u001b[39;00m BadZipFile(\u001b[39m\"\u001b[39m\u001b[39mFile is not a zip file\u001b[39m\u001b[39m\"\u001b[39m)\n",
      "\u001b[1;31mBadZipFile\u001b[0m: File is not a zip file"
     ]
    }
   ],
   "source": [
    "import sys\n",
    "from pathlib import Path\n",
    "import os\n",
    "sys.path.append(str(Path(os.getcwd()).parents[1]))\n",
    "from Helper_Functions import common_utils\n",
    "directory_to_extract_to = os.getcwd()\n",
    "\n",
    "common_utils.load_data_from_one_drive(directory_to_extract_to, \"regression_paths\", \"car_price_dataset_path\")"
   ]
  },
  {
   "cell_type": "markdown",
   "metadata": {
    "id": "Dkt5cV0CeNtF"
   },
   "source": [
    "### Read dataset"
   ]
  },
  {
   "cell_type": "code",
   "execution_count": 15,
   "metadata": {
    "colab": {
     "base_uri": "https://localhost:8080/",
     "height": 0
    },
    "executionInfo": {
     "elapsed": 1499,
     "status": "ok",
     "timestamp": 1655273506982,
     "user": {
      "displayName": "Piyush Agarwal",
      "userId": "06685019812507607970"
     },
     "user_tz": -330
    },
    "id": "kdYdzyJneTcG",
    "outputId": "8996b155-b654-442d-bbeb-bb2a3958afc7"
   },
   "outputs": [
    {
     "data": {
      "text/html": [
       "<div>\n",
       "<style scoped>\n",
       "    .dataframe tbody tr th:only-of-type {\n",
       "        vertical-align: middle;\n",
       "    }\n",
       "\n",
       "    .dataframe tbody tr th {\n",
       "        vertical-align: top;\n",
       "    }\n",
       "\n",
       "    .dataframe thead th {\n",
       "        text-align: right;\n",
       "    }\n",
       "</style>\n",
       "<table border=\"1\" class=\"dataframe\">\n",
       "  <thead>\n",
       "    <tr style=\"text-align: right;\">\n",
       "      <th></th>\n",
       "      <th>year</th>\n",
       "      <th>make</th>\n",
       "      <th>model</th>\n",
       "      <th>trim</th>\n",
       "      <th>body</th>\n",
       "      <th>transmission</th>\n",
       "      <th>vin</th>\n",
       "      <th>state</th>\n",
       "      <th>condition</th>\n",
       "      <th>odometer</th>\n",
       "      <th>color</th>\n",
       "      <th>interior</th>\n",
       "      <th>seller</th>\n",
       "      <th>mmr</th>\n",
       "      <th>sellingprice</th>\n",
       "      <th>saledate</th>\n",
       "    </tr>\n",
       "  </thead>\n",
       "  <tbody>\n",
       "    <tr>\n",
       "      <th>0</th>\n",
       "      <td>2015</td>\n",
       "      <td>Kia</td>\n",
       "      <td>Sorento</td>\n",
       "      <td>LX</td>\n",
       "      <td>SUV</td>\n",
       "      <td>automatic</td>\n",
       "      <td>5xyktca69fg566472</td>\n",
       "      <td>ca</td>\n",
       "      <td>5.0</td>\n",
       "      <td>16639.0</td>\n",
       "      <td>white</td>\n",
       "      <td>black</td>\n",
       "      <td>kia motors america, inc</td>\n",
       "      <td>20500</td>\n",
       "      <td>21500</td>\n",
       "      <td>Tue Dec 16 2014 12:30:00 GMT-0800 (PST)</td>\n",
       "    </tr>\n",
       "    <tr>\n",
       "      <th>1</th>\n",
       "      <td>2015</td>\n",
       "      <td>Kia</td>\n",
       "      <td>Sorento</td>\n",
       "      <td>LX</td>\n",
       "      <td>SUV</td>\n",
       "      <td>automatic</td>\n",
       "      <td>5xyktca69fg561319</td>\n",
       "      <td>ca</td>\n",
       "      <td>5.0</td>\n",
       "      <td>9393.0</td>\n",
       "      <td>white</td>\n",
       "      <td>beige</td>\n",
       "      <td>kia motors america, inc</td>\n",
       "      <td>20800</td>\n",
       "      <td>21500</td>\n",
       "      <td>Tue Dec 16 2014 12:30:00 GMT-0800 (PST)</td>\n",
       "    </tr>\n",
       "    <tr>\n",
       "      <th>2</th>\n",
       "      <td>2014</td>\n",
       "      <td>BMW</td>\n",
       "      <td>3 Series</td>\n",
       "      <td>328i SULEV</td>\n",
       "      <td>Sedan</td>\n",
       "      <td>automatic</td>\n",
       "      <td>wba3c1c51ek116351</td>\n",
       "      <td>ca</td>\n",
       "      <td>4.5</td>\n",
       "      <td>1331.0</td>\n",
       "      <td>gray</td>\n",
       "      <td>black</td>\n",
       "      <td>financial services remarketing (lease)</td>\n",
       "      <td>31900</td>\n",
       "      <td>30000</td>\n",
       "      <td>Thu Jan 15 2015 04:30:00 GMT-0800 (PST)</td>\n",
       "    </tr>\n",
       "    <tr>\n",
       "      <th>3</th>\n",
       "      <td>2015</td>\n",
       "      <td>Volvo</td>\n",
       "      <td>S60</td>\n",
       "      <td>T5</td>\n",
       "      <td>Sedan</td>\n",
       "      <td>automatic</td>\n",
       "      <td>yv1612tb4f1310987</td>\n",
       "      <td>ca</td>\n",
       "      <td>4.1</td>\n",
       "      <td>14282.0</td>\n",
       "      <td>white</td>\n",
       "      <td>black</td>\n",
       "      <td>volvo na rep/world omni</td>\n",
       "      <td>27500</td>\n",
       "      <td>27750</td>\n",
       "      <td>Thu Jan 29 2015 04:30:00 GMT-0800 (PST)</td>\n",
       "    </tr>\n",
       "    <tr>\n",
       "      <th>4</th>\n",
       "      <td>2014</td>\n",
       "      <td>BMW</td>\n",
       "      <td>6 Series Gran Coupe</td>\n",
       "      <td>650i</td>\n",
       "      <td>Sedan</td>\n",
       "      <td>automatic</td>\n",
       "      <td>wba6b2c57ed129731</td>\n",
       "      <td>ca</td>\n",
       "      <td>4.3</td>\n",
       "      <td>2641.0</td>\n",
       "      <td>gray</td>\n",
       "      <td>black</td>\n",
       "      <td>financial services remarketing (lease)</td>\n",
       "      <td>66000</td>\n",
       "      <td>67000</td>\n",
       "      <td>Thu Dec 18 2014 12:30:00 GMT-0800 (PST)</td>\n",
       "    </tr>\n",
       "  </tbody>\n",
       "</table>\n",
       "</div>"
      ],
      "text/plain": [
       "   year   make                model        trim   body transmission  \\\n",
       "0  2015    Kia              Sorento          LX    SUV    automatic   \n",
       "1  2015    Kia              Sorento          LX    SUV    automatic   \n",
       "2  2014    BMW             3 Series  328i SULEV  Sedan    automatic   \n",
       "3  2015  Volvo                  S60          T5  Sedan    automatic   \n",
       "4  2014    BMW  6 Series Gran Coupe        650i  Sedan    automatic   \n",
       "\n",
       "                 vin state  condition  odometer  color interior  \\\n",
       "0  5xyktca69fg566472    ca        5.0   16639.0  white    black   \n",
       "1  5xyktca69fg561319    ca        5.0    9393.0  white    beige   \n",
       "2  wba3c1c51ek116351    ca        4.5    1331.0   gray    black   \n",
       "3  yv1612tb4f1310987    ca        4.1   14282.0  white    black   \n",
       "4  wba6b2c57ed129731    ca        4.3    2641.0   gray    black   \n",
       "\n",
       "                                   seller    mmr  sellingprice  \\\n",
       "0                 kia motors america, inc  20500         21500   \n",
       "1                 kia motors america, inc  20800         21500   \n",
       "2  financial services remarketing (lease)  31900         30000   \n",
       "3                 volvo na rep/world omni  27500         27750   \n",
       "4  financial services remarketing (lease)  66000         67000   \n",
       "\n",
       "                                  saledate  \n",
       "0  Tue Dec 16 2014 12:30:00 GMT-0800 (PST)  \n",
       "1  Tue Dec 16 2014 12:30:00 GMT-0800 (PST)  \n",
       "2  Thu Jan 15 2015 04:30:00 GMT-0800 (PST)  \n",
       "3  Thu Jan 29 2015 04:30:00 GMT-0800 (PST)  \n",
       "4  Thu Dec 18 2014 12:30:00 GMT-0800 (PST)  "
      ]
     },
     "execution_count": 15,
     "metadata": {},
     "output_type": "execute_result"
    }
   ],
   "source": [
    "df = pd.read_csv(\"car_prices.csv\", on_bad_lines='skip')\n",
    "df.head()"
   ]
  },
  {
   "cell_type": "code",
   "execution_count": null,
   "metadata": {
    "colab": {
     "base_uri": "https://localhost:8080/"
    },
    "executionInfo": {
     "elapsed": 55,
     "status": "ok",
     "timestamp": 1655273506986,
     "user": {
      "displayName": "Piyush Agarwal",
      "userId": "06685019812507607970"
     },
     "user_tz": -330
    },
    "id": "jeYcRAZt8wV6",
    "outputId": "87fac227-d666-4b5f-cf21-34a3f92773ac"
   },
   "outputs": [],
   "source": [
    "common_utils.get_dataset_info(df)"
   ]
  },
  {
   "cell_type": "code",
   "execution_count": null,
   "metadata": {
    "executionInfo": {
     "elapsed": 53,
     "status": "ok",
     "timestamp": 1655273506991,
     "user": {
      "displayName": "Piyush Agarwal",
      "userId": "06685019812507607970"
     },
     "user_tz": -330
    },
    "id": "yPGSO2zDY894"
   },
   "outputs": [],
   "source": [
    "# Delete columns : 'vin'\n",
    "# We are dropping this column, because it just contains ID for the car, and has no importance in predictions\n",
    "df = df.drop(columns = ['vin'])"
   ]
  },
  {
   "cell_type": "markdown",
   "metadata": {
    "id": "HhycGvcQA1c1"
   },
   "source": [
    "### **Data Insights**"
   ]
  },
  {
   "cell_type": "markdown",
   "metadata": {
    "id": "vH4q9oWLFlZT"
   },
   "source": [
    "#### Extracting Categorical and Numerical columns from data"
   ]
  },
  {
   "cell_type": "code",
   "execution_count": null,
   "metadata": {
    "executionInfo": {
     "elapsed": 18,
     "status": "ok",
     "timestamp": 1655273509199,
     "user": {
      "displayName": "Piyush Agarwal",
      "userId": "06685019812507607970"
     },
     "user_tz": -330
    },
    "id": "OVJNzBwcdi0T"
   },
   "outputs": [],
   "source": [
    "categorical_columns = []\n",
    "numerical_columns = []\n",
    "\n",
    "for x in df.columns:\n",
    "  if df[x].dtypes == 'O':\n",
    "    categorical_columns.append(x)\n",
    "  else:\n",
    "    if df[x].nunique()>20:\n",
    "      numerical_columns.append(x)"
   ]
  },
  {
   "cell_type": "code",
   "execution_count": null,
   "metadata": {
    "colab": {
     "base_uri": "https://localhost:8080/"
    },
    "executionInfo": {
     "elapsed": 17,
     "status": "ok",
     "timestamp": 1655273509200,
     "user": {
      "displayName": "Piyush Agarwal",
      "userId": "06685019812507607970"
     },
     "user_tz": -330
    },
    "id": "0Ue4_sEp7MIp",
    "outputId": "14d57916-6194-47b1-aecf-db21ba1add71"
   },
   "outputs": [],
   "source": [
    "categorical_columns"
   ]
  },
  {
   "cell_type": "code",
   "execution_count": null,
   "metadata": {
    "colab": {
     "base_uri": "https://localhost:8080/"
    },
    "executionInfo": {
     "elapsed": 16,
     "status": "ok",
     "timestamp": 1655273509202,
     "user": {
      "displayName": "Piyush Agarwal",
      "userId": "06685019812507607970"
     },
     "user_tz": -330
    },
    "id": "BC_C94dE7Pyg",
    "outputId": "e7e9608c-7ca6-4a8c-ddb8-2b26576577c7"
   },
   "outputs": [],
   "source": [
    "numerical_columns"
   ]
  },
  {
   "cell_type": "markdown",
   "metadata": {
    "id": "4qUbc2Rmaw8I"
   },
   "source": [
    "#### Value counts in categorical columns\n",
    "\n",
    "To get a trend of different categories in categorical columns"
   ]
  },
  {
   "cell_type": "code",
   "execution_count": null,
   "metadata": {
    "colab": {
     "base_uri": "https://localhost:8080/"
    },
    "executionInfo": {
     "elapsed": 894,
     "status": "ok",
     "timestamp": 1655273507836,
     "user": {
      "displayName": "Piyush Agarwal",
      "userId": "06685019812507607970"
     },
     "user_tz": -330
    },
    "id": "cRRGMCt7zjGq",
    "outputId": "c6a8ec57-e6e6-4fc8-e861-a4730b308e34"
   },
   "outputs": [],
   "source": [
    "df['make'].value_counts()"
   ]
  },
  {
   "cell_type": "code",
   "execution_count": null,
   "metadata": {
    "colab": {
     "base_uri": "https://localhost:8080/"
    },
    "executionInfo": {
     "elapsed": 37,
     "status": "ok",
     "timestamp": 1655273507838,
     "user": {
      "displayName": "Piyush Agarwal",
      "userId": "06685019812507607970"
     },
     "user_tz": -330
    },
    "id": "zJYK4J_eAdBt",
    "outputId": "e3929984-240d-403b-905f-3a0393ded4de"
   },
   "outputs": [],
   "source": [
    "df['model'].value_counts()"
   ]
  },
  {
   "cell_type": "code",
   "execution_count": null,
   "metadata": {
    "colab": {
     "base_uri": "https://localhost:8080/"
    },
    "executionInfo": {
     "elapsed": 35,
     "status": "ok",
     "timestamp": 1655273507839,
     "user": {
      "displayName": "Piyush Agarwal",
      "userId": "06685019812507607970"
     },
     "user_tz": -330
    },
    "id": "2rIgCK-JAhMO",
    "outputId": "7996d7ae-c3e4-453b-a615-9d10dbe3f29c"
   },
   "outputs": [],
   "source": [
    "df['trim'].value_counts()"
   ]
  },
  {
   "cell_type": "code",
   "execution_count": null,
   "metadata": {
    "colab": {
     "base_uri": "https://localhost:8080/"
    },
    "executionInfo": {
     "elapsed": 35,
     "status": "ok",
     "timestamp": 1655273507842,
     "user": {
      "displayName": "Piyush Agarwal",
      "userId": "06685019812507607970"
     },
     "user_tz": -330
    },
    "id": "zxHA9-LiAn6_",
    "outputId": "6b016872-68f1-40db-fdc1-4f05754a177a"
   },
   "outputs": [],
   "source": [
    "df['body'].value_counts()"
   ]
  },
  {
   "cell_type": "code",
   "execution_count": null,
   "metadata": {
    "colab": {
     "base_uri": "https://localhost:8080/"
    },
    "executionInfo": {
     "elapsed": 33,
     "status": "ok",
     "timestamp": 1655273507843,
     "user": {
      "displayName": "Piyush Agarwal",
      "userId": "06685019812507607970"
     },
     "user_tz": -330
    },
    "id": "SIZXVkSkAqIR",
    "outputId": "6bbfb32a-4e9d-410f-886c-4afb3305908a"
   },
   "outputs": [],
   "source": [
    "df['transmission'].value_counts()"
   ]
  },
  {
   "cell_type": "code",
   "execution_count": null,
   "metadata": {
    "colab": {
     "base_uri": "https://localhost:8080/"
    },
    "executionInfo": {
     "elapsed": 32,
     "status": "ok",
     "timestamp": 1655273507847,
     "user": {
      "displayName": "Piyush Agarwal",
      "userId": "06685019812507607970"
     },
     "user_tz": -330
    },
    "id": "fS4iY8TnAvqr",
    "outputId": "1dd275d0-7ab8-408b-e056-3fbf1b4181bc"
   },
   "outputs": [],
   "source": [
    "df['state'].value_counts()"
   ]
  },
  {
   "cell_type": "code",
   "execution_count": null,
   "metadata": {
    "colab": {
     "base_uri": "https://localhost:8080/"
    },
    "executionInfo": {
     "elapsed": 31,
     "status": "ok",
     "timestamp": 1655273507849,
     "user": {
      "displayName": "Piyush Agarwal",
      "userId": "06685019812507607970"
     },
     "user_tz": -330
    },
    "id": "JBpMcho2AyxE",
    "outputId": "0fec23ae-6cd2-4bd4-9d2a-34e1b33d0cc6"
   },
   "outputs": [],
   "source": [
    "df['color'].value_counts()"
   ]
  },
  {
   "cell_type": "code",
   "execution_count": null,
   "metadata": {
    "colab": {
     "base_uri": "https://localhost:8080/"
    },
    "executionInfo": {
     "elapsed": 30,
     "status": "ok",
     "timestamp": 1655273507851,
     "user": {
      "displayName": "Piyush Agarwal",
      "userId": "06685019812507607970"
     },
     "user_tz": -330
    },
    "id": "IBthDT7EErsI",
    "outputId": "acffd4af-3ec1-41b7-8464-976d2af38f08"
   },
   "outputs": [],
   "source": [
    "df['interior'].value_counts()"
   ]
  },
  {
   "cell_type": "code",
   "execution_count": null,
   "metadata": {
    "colab": {
     "base_uri": "https://localhost:8080/"
    },
    "executionInfo": {
     "elapsed": 439,
     "status": "ok",
     "timestamp": 1655273508263,
     "user": {
      "displayName": "Piyush Agarwal",
      "userId": "06685019812507607970"
     },
     "user_tz": -330
    },
    "id": "MhjmPq6gEz4X",
    "outputId": "0bac6d0a-9150-4c87-eb9a-6ac8c4c14f1b"
   },
   "outputs": [],
   "source": [
    "df['seller'].value_counts()"
   ]
  },
  {
   "cell_type": "code",
   "execution_count": null,
   "metadata": {
    "colab": {
     "base_uri": "https://localhost:8080/"
    },
    "executionInfo": {
     "elapsed": 5,
     "status": "ok",
     "timestamp": 1655273508264,
     "user": {
      "displayName": "Piyush Agarwal",
      "userId": "06685019812507607970"
     },
     "user_tz": -330
    },
    "id": "igNNlXx2E7X4",
    "outputId": "1c2a478b-bf6f-4716-9cd3-4a12f2da454a"
   },
   "outputs": [],
   "source": [
    "df['saledate'].value_counts()"
   ]
  },
  {
   "cell_type": "markdown",
   "metadata": {
    "id": "cTCE9o0yFRgV"
   },
   "source": [
    "#### Boxplots for numerical columns\n",
    "\n",
    "To see a trend of outliers in numerical columns"
   ]
  },
  {
   "cell_type": "code",
   "execution_count": null,
   "metadata": {
    "colab": {
     "base_uri": "https://localhost:8080/",
     "height": 265
    },
    "executionInfo": {
     "elapsed": 2141,
     "status": "ok",
     "timestamp": 1655273511330,
     "user": {
      "displayName": "Piyush Agarwal",
      "userId": "06685019812507607970"
     },
     "user_tz": -330
    },
    "id": "nruLSCrqFtex",
    "outputId": "b702ab29-44b7-42cf-a1cc-1942af49dc1c"
   },
   "outputs": [],
   "source": [
    "common_utils.plot_boxplot(df, ['year'])"
   ]
  },
  {
   "cell_type": "code",
   "execution_count": null,
   "metadata": {
    "colab": {
     "base_uri": "https://localhost:8080/",
     "height": 265
    },
    "executionInfo": {
     "elapsed": 892,
     "status": "ok",
     "timestamp": 1655273512208,
     "user": {
      "displayName": "Piyush Agarwal",
      "userId": "06685019812507607970"
     },
     "user_tz": -330
    },
    "id": "C02YlPIhGeSA",
    "outputId": "f41f083b-09c4-4dda-aa12-b72bff59e96e"
   },
   "outputs": [],
   "source": [
    "common_utils.plot_boxplot(df, ['condition'])"
   ]
  },
  {
   "cell_type": "code",
   "execution_count": null,
   "metadata": {
    "colab": {
     "base_uri": "https://localhost:8080/",
     "height": 276
    },
    "executionInfo": {
     "elapsed": 1030,
     "status": "ok",
     "timestamp": 1655273513222,
     "user": {
      "displayName": "Piyush Agarwal",
      "userId": "06685019812507607970"
     },
     "user_tz": -330
    },
    "id": "fcc2EeW9Ge2A",
    "outputId": "ff7f7851-dfdd-465f-f5b3-00f95bc7b522"
   },
   "outputs": [],
   "source": [
    "common_utils.plot_boxplot(df, ['odometer'])"
   ]
  },
  {
   "cell_type": "code",
   "execution_count": null,
   "metadata": {
    "colab": {
     "base_uri": "https://localhost:8080/",
     "height": 265
    },
    "executionInfo": {
     "elapsed": 1342,
     "status": "ok",
     "timestamp": 1655273514547,
     "user": {
      "displayName": "Piyush Agarwal",
      "userId": "06685019812507607970"
     },
     "user_tz": -330
    },
    "id": "6ekhCizZGfeb",
    "outputId": "71a33e62-7f56-437c-ec96-47494ee22824"
   },
   "outputs": [],
   "source": [
    "common_utils.plot_boxplot(df, ['mmr'])"
   ]
  },
  {
   "cell_type": "code",
   "execution_count": null,
   "metadata": {
    "colab": {
     "base_uri": "https://localhost:8080/",
     "height": 265
    },
    "executionInfo": {
     "elapsed": 1405,
     "status": "ok",
     "timestamp": 1655273515941,
     "user": {
      "displayName": "Piyush Agarwal",
      "userId": "06685019812507607970"
     },
     "user_tz": -330
    },
    "id": "BQA8sZg1GgQj",
    "outputId": "9adee868-a06a-4070-ae01-5336f548777e"
   },
   "outputs": [],
   "source": [
    "common_utils.plot_boxplot(df, ['sellingprice'])"
   ]
  },
  {
   "cell_type": "markdown",
   "metadata": {
    "id": "S7CplCnUa9Rf"
   },
   "source": [
    "#### Missing values in data"
   ]
  },
  {
   "cell_type": "code",
   "execution_count": null,
   "metadata": {
    "colab": {
     "base_uri": "https://localhost:8080/"
    },
    "executionInfo": {
     "elapsed": 936,
     "status": "ok",
     "timestamp": 1655273509197,
     "user": {
      "displayName": "Piyush Agarwal",
      "userId": "06685019812507607970"
     },
     "user_tz": -330
    },
    "id": "NUA0IaRqOozX",
    "outputId": "7929266f-6aa6-4453-9376-156cf9c90845"
   },
   "outputs": [],
   "source": [
    "common_utils.get_count_and_percentage_missing_values(df)"
   ]
  },
  {
   "cell_type": "markdown",
   "metadata": {
    "id": "1vuctdJ0TKaF"
   },
   "source": [
    "#### Heatmap\n",
    "Gives the correlation between the target and features"
   ]
  },
  {
   "cell_type": "code",
   "execution_count": null,
   "metadata": {
    "colab": {
     "base_uri": "https://localhost:8080/",
     "height": 0
    },
    "executionInfo": {
     "elapsed": 629,
     "status": "ok",
     "timestamp": 1655273518555,
     "user": {
      "displayName": "Piyush Agarwal",
      "userId": "06685019812507607970"
     },
     "user_tz": -330
    },
    "id": "Uw-Ux8nq9jlV",
    "outputId": "7d09a435-36c4-43f7-f46a-7090eca19a62"
   },
   "outputs": [],
   "source": [
    "common_utils.plot_heatmap(df)"
   ]
  },
  {
   "cell_type": "markdown",
   "metadata": {
    "id": "hLJ4o3Z1F-oK"
   },
   "source": [
    "#### Using select k best feature to get which columns to use"
   ]
  },
  {
   "cell_type": "code",
   "execution_count": null,
   "metadata": {
    "executionInfo": {
     "elapsed": 576,
     "status": "ok",
     "timestamp": 1655273605225,
     "user": {
      "displayName": "Piyush Agarwal",
      "userId": "06685019812507607970"
     },
     "user_tz": -330
    },
    "id": "QgfMAB4Z_j8o"
   },
   "outputs": [],
   "source": [
    "df_temp = df"
   ]
  },
  {
   "cell_type": "code",
   "execution_count": null,
   "metadata": {
    "executionInfo": {
     "elapsed": 1206,
     "status": "ok",
     "timestamp": 1655273658319,
     "user": {
      "displayName": "Piyush Agarwal",
      "userId": "06685019812507607970"
     },
     "user_tz": -330
    },
    "id": "yEA8Diti_lhh"
   },
   "outputs": [],
   "source": [
    "df_temp = fill_missing_values(df_temp)"
   ]
  },
  {
   "cell_type": "code",
   "execution_count": null,
   "metadata": {
    "executionInfo": {
     "elapsed": 11,
     "status": "ok",
     "timestamp": 1655273662759,
     "user": {
      "displayName": "Piyush Agarwal",
      "userId": "06685019812507607970"
     },
     "user_tz": -330
    },
    "id": "qHHHnAO1NR79"
   },
   "outputs": [],
   "source": [
    "x_num = df_temp[['year', 'condition', 'odometer', 'mmr']]\n",
    "y = df_temp['sellingprice']"
   ]
  },
  {
   "cell_type": "code",
   "execution_count": null,
   "metadata": {
    "colab": {
     "base_uri": "https://localhost:8080/"
    },
    "executionInfo": {
     "elapsed": 416,
     "status": "ok",
     "timestamp": 1655273665396,
     "user": {
      "displayName": "Piyush Agarwal",
      "userId": "06685019812507607970"
     },
     "user_tz": -330
    },
    "id": "kBRejk5vNDNz",
    "outputId": "59a62f74-2477-4b20-864c-f0d0d9506a7e"
   },
   "outputs": [],
   "source": [
    "from sklearn.feature_selection import SelectKBest, chi2, f_regression\n",
    "selector1 = SelectKBest(score_func = f_regression, k = 3)\n",
    "selector1.fit(x_num, y)"
   ]
  },
  {
   "cell_type": "code",
   "execution_count": null,
   "metadata": {
    "executionInfo": {
     "elapsed": 1003,
     "status": "ok",
     "timestamp": 1655273670030,
     "user": {
      "displayName": "Piyush Agarwal",
      "userId": "06685019812507607970"
     },
     "user_tz": -330
    },
    "id": "gBDlihsYNIoo"
   },
   "outputs": [],
   "source": [
    "cols = selector1.get_support(indices=True)"
   ]
  },
  {
   "cell_type": "code",
   "execution_count": null,
   "metadata": {
    "colab": {
     "base_uri": "https://localhost:8080/"
    },
    "executionInfo": {
     "elapsed": 6,
     "status": "ok",
     "timestamp": 1655273671899,
     "user": {
      "displayName": "Piyush Agarwal",
      "userId": "06685019812507607970"
     },
     "user_tz": -330
    },
    "id": "9sdFivVvNr1s",
    "outputId": "05f0fba9-10f5-4b2b-fa77-9de1edb4c119"
   },
   "outputs": [],
   "source": [
    "cols"
   ]
  },
  {
   "cell_type": "markdown",
   "metadata": {
    "id": "EmNIZw0ZOPO_"
   },
   "source": [
    "No need to drop any numeric column"
   ]
  },
  {
   "cell_type": "markdown",
   "metadata": {
    "id": "a0QGU02ue3-W"
   },
   "source": [
    "### **Data preprocessing**\n",
    "Creating functions that can directly be called when making the ML model"
   ]
  },
  {
   "cell_type": "markdown",
   "metadata": {
    "id": "m73SKLBNS1BN"
   },
   "source": [
    "#### Duplicates"
   ]
  },
  {
   "cell_type": "code",
   "execution_count": null,
   "metadata": {
    "executionInfo": {
     "elapsed": 15,
     "status": "ok",
     "timestamp": 1655273516389,
     "user": {
      "displayName": "Piyush Agarwal",
      "userId": "06685019812507607970"
     },
     "user_tz": -330
    },
    "id": "GZvT4OxZDlJF"
   },
   "outputs": [],
   "source": [
    "def remove_duplicates(df):\n",
    "  return df.drop_duplicates()"
   ]
  },
  {
   "cell_type": "markdown",
   "metadata": {
    "id": "G1nyvYGAS4FX"
   },
   "source": [
    "#### Handle missing and null values"
   ]
  },
  {
   "cell_type": "code",
   "execution_count": null,
   "metadata": {
    "executionInfo": {
     "elapsed": 14,
     "status": "ok",
     "timestamp": 1655273516391,
     "user": {
      "displayName": "Piyush Agarwal",
      "userId": "06685019812507607970"
     },
     "user_tz": -330
    },
    "id": "Q4zqCR8YXgQh"
   },
   "outputs": [],
   "source": [
    "def fill_missing_values(df):\n",
    "\n",
    "  for x in categorical_columns:\n",
    "   df[x].fillna(df[x].mode()[0],inplace=True)\n",
    "  df['condition'].fillna(df['condition'].mean(),inplace=True)\n",
    "  df = df[df['odometer'].notna()]\n",
    "\n",
    "  return df"
   ]
  },
  {
   "cell_type": "markdown",
   "metadata": {
    "id": "cYYVwZlsPsnz"
   },
   "source": [
    "#### Removing outliers"
   ]
  },
  {
   "cell_type": "code",
   "execution_count": null,
   "metadata": {
    "executionInfo": {
     "elapsed": 695,
     "status": "ok",
     "timestamp": 1655273683889,
     "user": {
      "displayName": "Piyush Agarwal",
      "userId": "06685019812507607970"
     },
     "user_tz": -330
    },
    "id": "MeowF-nRkV6H"
   },
   "outputs": [],
   "source": [
    "def remove_outlier(df, col_name):\n",
    "  q1 = df[col_name].quantile(0.25)\n",
    "  q3 = df[col_name].quantile(0.75)\n",
    "  iqr = q3-q1 #Interquartile range\n",
    "  fence_low  = q1-1.5*iqr\n",
    "  fence_high = q3+1.5*iqr\n",
    "  df_out = df.loc[(df[col_name] > fence_low) & (df[col_name] < fence_high)]\n",
    "  return df_out"
   ]
  },
  {
   "cell_type": "markdown",
   "metadata": {
    "id": "XGbGEhBqSrFG"
   },
   "source": [
    "#### Binary Encoding"
   ]
  },
  {
   "cell_type": "code",
   "execution_count": null,
   "metadata": {
    "executionInfo": {
     "elapsed": 6,
     "status": "ok",
     "timestamp": 1655273685472,
     "user": {
      "displayName": "Piyush Agarwal",
      "userId": "06685019812507607970"
     },
     "user_tz": -330
    },
    "id": "Mzy71E-AF8Ok"
   },
   "outputs": [],
   "source": [
    "def apply_encoding(df, columns, be=True):\n",
    "  encoder= ce.BinaryEncoder(cols=columns,return_df=True)\n",
    "  df=encoder.fit_transform(df) \n",
    "  return df"
   ]
  },
  {
   "cell_type": "markdown",
   "metadata": {
    "id": "gO02hkq3dsp-"
   },
   "source": [
    "### Download df as csv"
   ]
  },
  {
   "cell_type": "code",
   "execution_count": null,
   "metadata": {
    "executionInfo": {
     "elapsed": 919,
     "status": "ok",
     "timestamp": 1655273692845,
     "user": {
      "displayName": "Piyush Agarwal",
      "userId": "06685019812507607970"
     },
     "user_tz": -330
    },
    "id": "1xCwIB_6eG0j"
   },
   "outputs": [],
   "source": [
    "df1 = fill_missing_values(df)"
   ]
  },
  {
   "cell_type": "code",
   "execution_count": null,
   "metadata": {
    "executionInfo": {
     "elapsed": 3861,
     "status": "ok",
     "timestamp": 1655273696698,
     "user": {
      "displayName": "Piyush Agarwal",
      "userId": "06685019812507607970"
     },
     "user_tz": -330
    },
    "id": "Rm-VAvwDdydG"
   },
   "outputs": [],
   "source": [
    "df1.to_csv('car_prices_pred.csv', index=False)"
   ]
  },
  {
   "cell_type": "markdown",
   "metadata": {
    "id": "35-4MYu2YKBH"
   },
   "source": [
    "### **Random Forest**"
   ]
  },
  {
   "cell_type": "code",
   "execution_count": null,
   "metadata": {
    "colab": {
     "base_uri": "https://localhost:8080/",
     "height": 513
    },
    "executionInfo": {
     "elapsed": 11038,
     "status": "ok",
     "timestamp": 1655273720769,
     "user": {
      "displayName": "Piyush Agarwal",
      "userId": "06685019812507607970"
     },
     "user_tz": -330
    },
    "id": "yINSyeBXYO0j",
    "outputId": "a4c7da0e-5fa1-41f9-dc6a-9770f8934307"
   },
   "outputs": [],
   "source": [
    "# Using functions to preprocess data\n",
    "df_new = remove_duplicates(df)\n",
    "df_new = fill_missing_values(df_new)\n",
    "common_utils.get_count_and_percentage_missing_values(df_new)\n",
    "df_new = apply_encoding(df_new,categorical_columns)\n",
    "df_new.head()"
   ]
  },
  {
   "cell_type": "code",
   "execution_count": null,
   "metadata": {
    "executionInfo": {
     "elapsed": 817,
     "status": "ok",
     "timestamp": 1655273721561,
     "user": {
      "displayName": "Piyush Agarwal",
      "userId": "06685019812507607970"
     },
     "user_tz": -330
    },
    "id": "t8fqJLTZYO0k"
   },
   "outputs": [],
   "source": [
    "# Data splitting into train and test 70:30 ratio\n",
    "df_new_train, df_new_test = train_test_split(df_new, test_size = .30, random_state=1)"
   ]
  },
  {
   "cell_type": "code",
   "execution_count": null,
   "metadata": {
    "colab": {
     "base_uri": "https://localhost:8080/"
    },
    "executionInfo": {
     "elapsed": 102,
     "status": "ok",
     "timestamp": 1655273721563,
     "user": {
      "displayName": "Piyush Agarwal",
      "userId": "06685019812507607970"
     },
     "user_tz": -330
    },
    "id": "JWoo7V7-YO0k",
    "outputId": "1a7029b8-5759-4bec-f6d3-1204e7ce9508"
   },
   "outputs": [],
   "source": [
    "print(df_new_train.shape, df_new_test.shape)"
   ]
  },
  {
   "cell_type": "markdown",
   "metadata": {
    "id": "lO1a8uHjeF1Q"
   },
   "source": [
    "Removing outliers from numerical columns"
   ]
  },
  {
   "cell_type": "code",
   "execution_count": null,
   "metadata": {
    "executionInfo": {
     "elapsed": 105,
     "status": "ok",
     "timestamp": 1655273721572,
     "user": {
      "displayName": "Piyush Agarwal",
      "userId": "06685019812507607970"
     },
     "user_tz": -330
    },
    "id": "865J29NbYO0l"
   },
   "outputs": [],
   "source": [
    "df_new_train = remove_outlier(df_new_train, 'mmr')\n",
    "df_new_test = remove_outlier(df_new_test, 'mmr')"
   ]
  },
  {
   "cell_type": "code",
   "execution_count": null,
   "metadata": {
    "executionInfo": {
     "elapsed": 108,
     "status": "ok",
     "timestamp": 1655273721577,
     "user": {
      "displayName": "Piyush Agarwal",
      "userId": "06685019812507607970"
     },
     "user_tz": -330
    },
    "id": "NIr8gwLCYO0l"
   },
   "outputs": [],
   "source": [
    "df_new_train = remove_outlier(df_new_train, 'odometer')\n",
    "df_new_test = remove_outlier(df_new_test, 'odometer')"
   ]
  },
  {
   "cell_type": "code",
   "execution_count": null,
   "metadata": {
    "executionInfo": {
     "elapsed": 112,
     "status": "ok",
     "timestamp": 1655273721584,
     "user": {
      "displayName": "Piyush Agarwal",
      "userId": "06685019812507607970"
     },
     "user_tz": -330
    },
    "id": "8vfYGImwYO0m"
   },
   "outputs": [],
   "source": [
    "df_new_train = remove_outlier(df_new_train, 'year')\n",
    "df_new_test = remove_outlier(df_new_test, 'year')"
   ]
  },
  {
   "cell_type": "code",
   "execution_count": null,
   "metadata": {
    "colab": {
     "base_uri": "https://localhost:8080/"
    },
    "executionInfo": {
     "elapsed": 115,
     "status": "ok",
     "timestamp": 1655273721589,
     "user": {
      "displayName": "Piyush Agarwal",
      "userId": "06685019812507607970"
     },
     "user_tz": -330
    },
    "id": "aabWW93tYO0m",
    "outputId": "2d643bb0-cc13-45a8-c8cf-9a957dc1e622"
   },
   "outputs": [],
   "source": [
    "print(df_new_train.shape, df_new_test.shape)"
   ]
  },
  {
   "cell_type": "markdown",
   "metadata": {
    "id": "jtJFHPWmeKRa"
   },
   "source": [
    "x and y split from train and test each"
   ]
  },
  {
   "cell_type": "code",
   "execution_count": null,
   "metadata": {
    "executionInfo": {
     "elapsed": 115,
     "status": "ok",
     "timestamp": 1655273721592,
     "user": {
      "displayName": "Piyush Agarwal",
      "userId": "06685019812507607970"
     },
     "user_tz": -330
    },
    "id": "z5o1UxlRYO0m"
   },
   "outputs": [],
   "source": [
    "x_train = df_new_train.copy()\n",
    "x_train = x_train.drop(columns = ['sellingprice'])\n",
    "y_train = df_new_train['sellingprice']"
   ]
  },
  {
   "cell_type": "code",
   "execution_count": null,
   "metadata": {
    "executionInfo": {
     "elapsed": 120,
     "status": "ok",
     "timestamp": 1655273721599,
     "user": {
      "displayName": "Piyush Agarwal",
      "userId": "06685019812507607970"
     },
     "user_tz": -330
    },
    "id": "bTdOVdrRYO0n"
   },
   "outputs": [],
   "source": [
    "x_test = df_new_test.copy()\n",
    "x_test = x_test.drop(columns = ['sellingprice'])\n",
    "y_test = df_new_test['sellingprice']"
   ]
  },
  {
   "cell_type": "markdown",
   "metadata": {
    "id": "_qaMAxxleVoT"
   },
   "source": [
    "Checking which columns to normalize and which to scale"
   ]
  },
  {
   "cell_type": "code",
   "execution_count": null,
   "metadata": {
    "executionInfo": {
     "elapsed": 126,
     "status": "ok",
     "timestamp": 1655273721607,
     "user": {
      "displayName": "Piyush Agarwal",
      "userId": "06685019812507607970"
     },
     "user_tz": -330
    },
    "id": "HX_2UuvRj8mH"
   },
   "outputs": [],
   "source": [
    "def preprocess_numeric_column_data(data):\n",
    "  columns = data.columns\n",
    "  for i in columns:\n",
    "    if data.dtypes[i] == np.object:\n",
    "      print(\"Cannot process object data\")\n",
    "      return\n",
    "\n",
    "  ## if skew is 0.5 and -0.5 i.e its normal distribution and use scaler else normalise\n",
    "  scale_list = []\n",
    "  normalise_list = []\n",
    "  data_skew = data.skew()\n",
    "\n",
    "  for i in columns:\n",
    "    if data_skew[i] >= -0.5 and data_skew[i] <= 0.5:\n",
    "      scale_list.append(i)\n",
    "    else:\n",
    "      normalise_list.append(i)\n",
    "  return (scale_list, normalise_list)"
   ]
  },
  {
   "cell_type": "code",
   "execution_count": null,
   "metadata": {
    "colab": {
     "base_uri": "https://localhost:8080/"
    },
    "executionInfo": {
     "elapsed": 982,
     "status": "ok",
     "timestamp": 1655273796912,
     "user": {
      "displayName": "Piyush Agarwal",
      "userId": "06685019812507607970"
     },
     "user_tz": -330
    },
    "id": "tWCHT9G5jVDi",
    "outputId": "4f901b1c-c769-40ec-cd57-d556bddf29b2"
   },
   "outputs": [],
   "source": [
    "scale_list, normalise_list = preprocess_numeric_column_data(x_train[['year', 'condition', 'odometer', 'mmr']])"
   ]
  },
  {
   "cell_type": "code",
   "execution_count": null,
   "metadata": {
    "colab": {
     "base_uri": "https://localhost:8080/"
    },
    "executionInfo": {
     "elapsed": 956,
     "status": "ok",
     "timestamp": 1655273802108,
     "user": {
      "displayName": "Piyush Agarwal",
      "userId": "06685019812507607970"
     },
     "user_tz": -330
    },
    "id": "NaMM-7qHjB9M",
    "outputId": "c644c5bb-9a82-4739-8a77-f9ee7040ad8b"
   },
   "outputs": [],
   "source": [
    "scale_list"
   ]
  },
  {
   "cell_type": "code",
   "execution_count": null,
   "metadata": {
    "colab": {
     "base_uri": "https://localhost:8080/"
    },
    "executionInfo": {
     "elapsed": 19,
     "status": "ok",
     "timestamp": 1655273802110,
     "user": {
      "displayName": "Piyush Agarwal",
      "userId": "06685019812507607970"
     },
     "user_tz": -330
    },
    "id": "w2hHbeqRj0BI",
    "outputId": "199585b7-de0c-4c32-8b26-71209f2925fe"
   },
   "outputs": [],
   "source": [
    "normalise_list"
   ]
  },
  {
   "cell_type": "code",
   "execution_count": null,
   "metadata": {
    "executionInfo": {
     "elapsed": 10,
     "status": "ok",
     "timestamp": 1655273810418,
     "user": {
      "displayName": "Piyush Agarwal",
      "userId": "06685019812507607970"
     },
     "user_tz": -330
    },
    "id": "gf1_WFRp9g40"
   },
   "outputs": [],
   "source": [
    "standard_scaler = preprocessing.StandardScaler()\n",
    "standard_scaler.fit(x_train[scale_list])\n",
    "x_train[scale_list] = standard_scaler.transform(x_train[scale_list])\n",
    "x_test[scale_list] = standard_scaler.transform(x_test[scale_list])"
   ]
  },
  {
   "cell_type": "code",
   "execution_count": null,
   "metadata": {
    "executionInfo": {
     "elapsed": 3,
     "status": "ok",
     "timestamp": 1655273811886,
     "user": {
      "displayName": "Piyush Agarwal",
      "userId": "06685019812507607970"
     },
     "user_tz": -330
    },
    "id": "MqGoc4ai9-O3"
   },
   "outputs": [],
   "source": [
    "normal_scaler = preprocessing.MinMaxScaler()\n",
    "normal_scaler.fit(x_train[normalise_list])\n",
    "x_train[normalise_list] = normal_scaler.transform(x_train[normalise_list])\n",
    "x_test[normalise_list] = normal_scaler.transform(x_test[normalise_list])"
   ]
  },
  {
   "cell_type": "code",
   "execution_count": null,
   "metadata": {
    "executionInfo": {
     "elapsed": 777,
     "status": "ok",
     "timestamp": 1655273813304,
     "user": {
      "displayName": "Piyush Agarwal",
      "userId": "06685019812507607970"
     },
     "user_tz": -330
    },
    "id": "bIl2lXus-gCE"
   },
   "outputs": [],
   "source": [
    "pickle.dump(standard_scaler, open(\"standard_scaler.pkl\", \"wb\"))"
   ]
  },
  {
   "cell_type": "code",
   "execution_count": null,
   "metadata": {
    "executionInfo": {
     "elapsed": 7,
     "status": "ok",
     "timestamp": 1655273814157,
     "user": {
      "displayName": "Piyush Agarwal",
      "userId": "06685019812507607970"
     },
     "user_tz": -330
    },
    "id": "5C7vQkki-1ey"
   },
   "outputs": [],
   "source": [
    "pickle.dump(normal_scaler, open(\"normal_scaler.pkl\", \"wb\"))"
   ]
  },
  {
   "cell_type": "code",
   "execution_count": null,
   "metadata": {
    "colab": {
     "base_uri": "https://localhost:8080/"
    },
    "executionInfo": {
     "elapsed": 637272,
     "status": "ok",
     "timestamp": 1655274616321,
     "user": {
      "displayName": "Piyush Agarwal",
      "userId": "06685019812507607970"
     },
     "user_tz": -330
    },
    "id": "HOuZ2anLYO0o",
    "outputId": "f3b21eeb-8136-48c1-fb88-49441e224719"
   },
   "outputs": [],
   "source": [
    "# define model\n",
    "model_randomforest = RandomForestRegressor(n_estimators=100, random_state=0)\n",
    "model_randomforest.fit(x_train, y_train)"
   ]
  },
  {
   "cell_type": "code",
   "execution_count": null,
   "metadata": {
    "executionInfo": {
     "elapsed": 36,
     "status": "ok",
     "timestamp": 1655274616324,
     "user": {
      "displayName": "Piyush Agarwal",
      "userId": "06685019812507607970"
     },
     "user_tz": -330
    },
    "id": "IHv9-YhYuo3O"
   },
   "outputs": [],
   "source": [
    "file_name = \"model_randomforest.pkl\""
   ]
  },
  {
   "cell_type": "code",
   "execution_count": null,
   "metadata": {
    "executionInfo": {
     "elapsed": 13751,
     "status": "ok",
     "timestamp": 1655274630045,
     "user": {
      "displayName": "Piyush Agarwal",
      "userId": "06685019812507607970"
     },
     "user_tz": -330
    },
    "id": "IA9RO8RjuyWO"
   },
   "outputs": [],
   "source": [
    "pickle.dump(model_randomforest, open(file_name, \"wb\"))"
   ]
  },
  {
   "cell_type": "code",
   "execution_count": null,
   "metadata": {
    "executionInfo": {
     "elapsed": 17517,
     "status": "ok",
     "timestamp": 1655274647518,
     "user": {
      "displayName": "Piyush Agarwal",
      "userId": "06685019812507607970"
     },
     "user_tz": -330
    },
    "id": "8CE92H2cYO0o"
   },
   "outputs": [],
   "source": [
    "y_hat = model_randomforest.predict(x_test)"
   ]
  },
  {
   "cell_type": "code",
   "execution_count": null,
   "metadata": {
    "executionInfo": {
     "elapsed": 18,
     "status": "ok",
     "timestamp": 1655274647519,
     "user": {
      "displayName": "Piyush Agarwal",
      "userId": "06685019812507607970"
     },
     "user_tz": -330
    },
    "id": "v2ttsh4sYO0o"
   },
   "outputs": [],
   "source": [
    "y_test_arr = y_test.to_numpy()"
   ]
  },
  {
   "cell_type": "code",
   "execution_count": null,
   "metadata": {
    "colab": {
     "base_uri": "https://localhost:8080/",
     "height": 516
    },
    "executionInfo": {
     "elapsed": 19,
     "status": "ok",
     "timestamp": 1655274647521,
     "user": {
      "displayName": "Piyush Agarwal",
      "userId": "06685019812507607970"
     },
     "user_tz": -330
    },
    "id": "cNyzAlhPYO0o",
    "outputId": "9f1ea8a6-95c1-4573-da68-a6975ae31d0f"
   },
   "outputs": [],
   "source": [
    "plt.figure(figsize=(15, 8))\n",
    "plt.plot(y_hat[0:50], label='Predicted', color=\"blue\")\n",
    "plt.plot(y_test_arr[0:50], label='Actual', color=\"red\")\n",
    "plt.title(\"Predictions vs Actual\")\n",
    "plt.legend()"
   ]
  },
  {
   "cell_type": "code",
   "execution_count": null,
   "metadata": {
    "colab": {
     "base_uri": "https://localhost:8080/"
    },
    "executionInfo": {
     "elapsed": 16,
     "status": "ok",
     "timestamp": 1655274647522,
     "user": {
      "displayName": "Piyush Agarwal",
      "userId": "06685019812507607970"
     },
     "user_tz": -330
    },
    "id": "dwGBnlEZYO0p",
    "outputId": "a500b26c-1e83-45a7-ba3c-74775ab06426"
   },
   "outputs": [],
   "source": [
    "mdape = np.median(np.abs(y_hat - y_test)/np.abs(y_test)) # Median Absolute Percentage Error\n",
    "acc = 1-mdape\n",
    "print(\"Median Absolute Percentage Error: \",mdape)\n",
    "print(\"Accuracy: \", acc)"
   ]
  },
  {
   "cell_type": "markdown",
   "metadata": {
    "id": "gSBIFsN9qfjZ"
   },
   "source": [
    "### **Decision Tree**"
   ]
  },
  {
   "cell_type": "code",
   "execution_count": null,
   "metadata": {
    "colab": {
     "base_uri": "https://localhost:8080/"
    },
    "executionInfo": {
     "elapsed": 2640,
     "status": "ok",
     "timestamp": 1655274650148,
     "user": {
      "displayName": "Piyush Agarwal",
      "userId": "06685019812507607970"
     },
     "user_tz": -330
    },
    "id": "e0bjluHHqfjm",
    "outputId": "466367e7-25e3-4bec-dc95-6f714e283b74"
   },
   "outputs": [],
   "source": [
    "# define model\n",
    "model_decisiontree = DecisionTreeRegressor()\n",
    "model_decisiontree.fit(x_train, y_train)"
   ]
  },
  {
   "cell_type": "code",
   "execution_count": null,
   "metadata": {
    "executionInfo": {
     "elapsed": 35,
     "status": "ok",
     "timestamp": 1655274650151,
     "user": {
      "displayName": "Piyush Agarwal",
      "userId": "06685019812507607970"
     },
     "user_tz": -330
    },
    "id": "H_MJaY540KJO"
   },
   "outputs": [],
   "source": [
    "file_name = \"model_decisiontree.pkl\""
   ]
  },
  {
   "cell_type": "code",
   "execution_count": null,
   "metadata": {
    "executionInfo": {
     "elapsed": 35,
     "status": "ok",
     "timestamp": 1655274650153,
     "user": {
      "displayName": "Piyush Agarwal",
      "userId": "06685019812507607970"
     },
     "user_tz": -330
    },
    "id": "c8ilDcbe0M7h"
   },
   "outputs": [],
   "source": [
    "pickle.dump(model_decisiontree, open(file_name, \"wb\"))"
   ]
  },
  {
   "cell_type": "code",
   "execution_count": null,
   "metadata": {
    "executionInfo": {
     "elapsed": 34,
     "status": "ok",
     "timestamp": 1655274650154,
     "user": {
      "displayName": "Piyush Agarwal",
      "userId": "06685019812507607970"
     },
     "user_tz": -330
    },
    "id": "Ma7YJ5g6qfjn"
   },
   "outputs": [],
   "source": [
    "y_hat = model_decisiontree.predict(x_test)"
   ]
  },
  {
   "cell_type": "code",
   "execution_count": null,
   "metadata": {
    "executionInfo": {
     "elapsed": 34,
     "status": "ok",
     "timestamp": 1655274650155,
     "user": {
      "displayName": "Piyush Agarwal",
      "userId": "06685019812507607970"
     },
     "user_tz": -330
    },
    "id": "WnNKBpCAqfjn"
   },
   "outputs": [],
   "source": [
    "y_test_arr = y_test.to_numpy()"
   ]
  },
  {
   "cell_type": "code",
   "execution_count": null,
   "metadata": {
    "colab": {
     "base_uri": "https://localhost:8080/",
     "height": 516
    },
    "executionInfo": {
     "elapsed": 33,
     "status": "ok",
     "timestamp": 1655274650156,
     "user": {
      "displayName": "Piyush Agarwal",
      "userId": "06685019812507607970"
     },
     "user_tz": -330
    },
    "id": "hINWWM53qfjo",
    "outputId": "db7cda6d-2f84-4b15-c076-444e20488ad4"
   },
   "outputs": [],
   "source": [
    "plt.figure(figsize=(15, 8))\n",
    "plt.plot(y_hat[0:50], label='Predicted', color=\"blue\")\n",
    "plt.plot(y_test_arr[0:50], label='Actual', color=\"red\")\n",
    "plt.title(\"Predictions vs Actual\")\n",
    "plt.legend()"
   ]
  },
  {
   "cell_type": "code",
   "execution_count": null,
   "metadata": {
    "colab": {
     "base_uri": "https://localhost:8080/"
    },
    "executionInfo": {
     "elapsed": 27,
     "status": "ok",
     "timestamp": 1655274650157,
     "user": {
      "displayName": "Piyush Agarwal",
      "userId": "06685019812507607970"
     },
     "user_tz": -330
    },
    "id": "cNU5eemjqfjq",
    "outputId": "0799080a-8895-4892-8722-a5a81af8b1f7"
   },
   "outputs": [],
   "source": [
    "mdape = np.median(np.abs(y_hat - y_test)/np.abs(y_test))\n",
    "acc = 1-mdape\n",
    "print(\"Median Absolute Percentage Error: \",mdape)\n",
    "print(\"Accuracy: \", acc)"
   ]
  },
  {
   "cell_type": "markdown",
   "metadata": {
    "id": "oSrqOhRNsakK"
   },
   "source": [
    "### **XGBoost**"
   ]
  },
  {
   "cell_type": "code",
   "execution_count": null,
   "metadata": {
    "colab": {
     "base_uri": "https://localhost:8080/"
    },
    "executionInfo": {
     "elapsed": 2640785,
     "status": "ok",
     "timestamp": 1655277290918,
     "user": {
      "displayName": "Piyush Agarwal",
      "userId": "06685019812507607970"
     },
     "user_tz": -330
    },
    "id": "tQRxCSoEsdHN",
    "outputId": "a2dbb20b-62f9-4caf-9925-b52daae5f053"
   },
   "outputs": [],
   "source": [
    "model_xgb = XGBRegressor(learning_rate = 0.01, n_estimators = 1000, max_depth = 10)\n",
    "model_xgb.fit(x_train, y_train)"
   ]
  },
  {
   "cell_type": "code",
   "execution_count": null,
   "metadata": {
    "executionInfo": {
     "elapsed": 32621,
     "status": "ok",
     "timestamp": 1655277323505,
     "user": {
      "displayName": "Piyush Agarwal",
      "userId": "06685019812507607970"
     },
     "user_tz": -330
    },
    "id": "1uyOCSr8swf5"
   },
   "outputs": [],
   "source": [
    "y_hat = model_xgb.predict(x_test)"
   ]
  },
  {
   "cell_type": "code",
   "execution_count": null,
   "metadata": {
    "executionInfo": {
     "elapsed": 120,
     "status": "ok",
     "timestamp": 1655277323517,
     "user": {
      "displayName": "Piyush Agarwal",
      "userId": "06685019812507607970"
     },
     "user_tz": -330
    },
    "id": "OefiYZzq0ccp"
   },
   "outputs": [],
   "source": [
    "file_name = \"model_xgboost.pkl\""
   ]
  },
  {
   "cell_type": "code",
   "execution_count": null,
   "metadata": {
    "executionInfo": {
     "elapsed": 112,
     "status": "ok",
     "timestamp": 1655277323519,
     "user": {
      "displayName": "Piyush Agarwal",
      "userId": "06685019812507607970"
     },
     "user_tz": -330
    },
    "id": "fAynTtGp0eWU"
   },
   "outputs": [],
   "source": [
    "pickle.dump(model_xgb, open(file_name, \"wb\"))"
   ]
  },
  {
   "cell_type": "code",
   "execution_count": null,
   "metadata": {
    "executionInfo": {
     "elapsed": 118,
     "status": "ok",
     "timestamp": 1655277323528,
     "user": {
      "displayName": "Piyush Agarwal",
      "userId": "06685019812507607970"
     },
     "user_tz": -330
    },
    "id": "WESrGtF4s6Hc"
   },
   "outputs": [],
   "source": [
    "y_test_arr = y_test.to_numpy()"
   ]
  },
  {
   "cell_type": "code",
   "execution_count": null,
   "metadata": {
    "colab": {
     "base_uri": "https://localhost:8080/",
     "height": 516
    },
    "executionInfo": {
     "elapsed": 119,
     "status": "ok",
     "timestamp": 1655277323531,
     "user": {
      "displayName": "Piyush Agarwal",
      "userId": "06685019812507607970"
     },
     "user_tz": -330
    },
    "id": "aOat_kn5s8Y7",
    "outputId": "70d5217c-a71e-4631-fb01-ac216bc69a8f"
   },
   "outputs": [],
   "source": [
    "plt.figure(figsize=(15, 8))\n",
    "plt.plot(y_hat[0:50], label='Predicted', color=\"blue\")\n",
    "plt.plot(y_test_arr[0:50], label='Actual', color=\"red\")\n",
    "plt.title(\"Predictions vs Actual\")\n",
    "plt.legend()"
   ]
  },
  {
   "cell_type": "code",
   "execution_count": null,
   "metadata": {
    "colab": {
     "base_uri": "https://localhost:8080/"
    },
    "executionInfo": {
     "elapsed": 112,
     "status": "ok",
     "timestamp": 1655277323534,
     "user": {
      "displayName": "Piyush Agarwal",
      "userId": "06685019812507607970"
     },
     "user_tz": -330
    },
    "id": "DzUzXIbjs_MA",
    "outputId": "22f7be13-7bc9-4c69-809f-df5a3364b815"
   },
   "outputs": [],
   "source": [
    "mdape = np.median(np.abs(y_hat - y_test)/np.abs(y_test))\n",
    "acc = 1-mdape\n",
    "print(\"Median Absolute Percentage Error: \",mdape)\n",
    "print(\"Accuracy: \", acc)"
   ]
  },
  {
   "cell_type": "markdown",
   "metadata": {
    "id": "bhsA-sKyOZtT"
   },
   "source": [
    "### Sampling\n",
    "\n",
    "Creating a sample of 10,000 rows to run with kfold and gridsearchcv.\n",
    "Running for 50,00,000+ rows is computationally expensive"
   ]
  },
  {
   "cell_type": "code",
   "execution_count": null,
   "metadata": {
    "executionInfo": {
     "elapsed": 14305,
     "status": "ok",
     "timestamp": 1655277683952,
     "user": {
      "displayName": "Piyush Agarwal",
      "userId": "06685019812507607970"
     },
     "user_tz": -330
    },
    "id": "9q3QpO_5Ou6m"
   },
   "outputs": [],
   "source": [
    "df_sample = df.sample(n = 10000)"
   ]
  },
  {
   "cell_type": "code",
   "execution_count": null,
   "metadata": {
    "colab": {
     "base_uri": "https://localhost:8080/"
    },
    "executionInfo": {
     "elapsed": 680,
     "status": "ok",
     "timestamp": 1655277725624,
     "user": {
      "displayName": "Piyush Agarwal",
      "userId": "06685019812507607970"
     },
     "user_tz": -330
    },
    "id": "_8mha2XQPNW3",
    "outputId": "17e63438-c828-4120-f3c8-f82b0d84fc39"
   },
   "outputs": [],
   "source": [
    "df_sample.shape"
   ]
  },
  {
   "cell_type": "markdown",
   "metadata": {
    "id": "x9hVOUQcryaO"
   },
   "source": [
    "### **RandomForest with kfold**"
   ]
  },
  {
   "cell_type": "code",
   "execution_count": null,
   "metadata": {
    "colab": {
     "base_uri": "https://localhost:8080/",
     "height": 513
    },
    "executionInfo": {
     "elapsed": 4355,
     "status": "ok",
     "timestamp": 1655277742746,
     "user": {
      "displayName": "Piyush Agarwal",
      "userId": "06685019812507607970"
     },
     "user_tz": -330
    },
    "id": "JFxQm1A_r-Rt",
    "outputId": "41492730-c88b-4443-e8ff-f60981c454c9"
   },
   "outputs": [],
   "source": [
    "df_new_sampled = remove_duplicates(df_sample)\n",
    "df_new_sampled = fill_missing_values(df_new_sampled)\n",
    "common_utils.get_count_and_percentage_missing_values(df_new_sampled)\n",
    "df_new_sampled = apply_encoding(df_new_sampled,categorical_columns)\n",
    "df_new_sampled.head()"
   ]
  },
  {
   "cell_type": "code",
   "execution_count": null,
   "metadata": {
    "colab": {
     "base_uri": "https://localhost:8080/"
    },
    "executionInfo": {
     "elapsed": 208004,
     "status": "ok",
     "timestamp": 1655278268446,
     "user": {
      "displayName": "Piyush Agarwal",
      "userId": "06685019812507607970"
     },
     "user_tz": -330
    },
    "id": "HcCDVLTZr3nj",
    "outputId": "adf5c899-7109-46f3-807d-2d68dd410c50"
   },
   "outputs": [],
   "source": [
    "kf = KFold(n_splits=10,random_state=1,shuffle=True)\n",
    "i = 1\n",
    "for train_index, test_index in kf.split(df_new_sampled):\n",
    "  print('\\n{} of kfold {}'.format(i,kf.n_splits))\n",
    "\n",
    "  df_new_train, df_new_test = df_new.iloc[train_index], df_new.iloc[test_index]\n",
    "\n",
    "  df_new_train = remove_outlier(df_new_train, 'mmr')\n",
    "  df_new_test = remove_outlier(df_new_test, 'mmr')\n",
    "  df_new_train = remove_outlier(df_new_train, 'odometer')\n",
    "  df_new_test = remove_outlier(df_new_test, 'odometer')\n",
    "  df_new_train = remove_outlier(df_new_train, 'year')\n",
    "  df_new_test = remove_outlier(df_new_test, 'year')\n",
    "\n",
    "  x_train = df_new_train.copy()\n",
    "  x_train = x_train.drop(columns = ['sellingprice'])\n",
    "  y_train = df_new_train['sellingprice']\n",
    "\n",
    "  x_test = df_new_test.copy()\n",
    "  x_test = x_test.drop(columns = ['sellingprice'])\n",
    "  y_test = df_new_test['sellingprice']\n",
    "\n",
    "  model_onehot = XGBRegressor(learning_rate = 0.01, n_estimators = 1000, max_depth = 10)\n",
    "  model_onehot.fit(x_train, y_train)\n",
    "  # print (model.best_params_)\n",
    "  y_hat = model_onehot.predict(x_test)\n",
    "  mdape = np.median(np.abs(y_hat - y_test)/np.abs(y_test))\n",
    "  acc = 1-mdape\n",
    "  print(\"Median Absolute Percentage Error: \",mdape)\n",
    "  print(\"Accuracy: \", acc)\n",
    "  i+=1"
   ]
  },
  {
   "cell_type": "markdown",
   "metadata": {
    "id": "h9fcOuCL-aWy"
   },
   "source": [
    "### **XGBoost with kfold and gridsearchcv**"
   ]
  },
  {
   "cell_type": "code",
   "execution_count": null,
   "metadata": {
    "colab": {
     "base_uri": "https://localhost:8080/"
    },
    "executionInfo": {
     "elapsed": 2159745,
     "status": "ok",
     "timestamp": 1655280440937,
     "user": {
      "displayName": "Piyush Agarwal",
      "userId": "06685019812507607970"
     },
     "user_tz": -330
    },
    "id": "lEa3ylIkL1xF",
    "outputId": "95435efe-9e34-4be7-e77d-1fc3b82ef2d4"
   },
   "outputs": [],
   "source": [
    "kf = KFold(n_splits=10,random_state=1,shuffle=True)\n",
    "i = 1\n",
    "for train_index, test_index in kf.split(df_new_sampled):\n",
    "  print('\\n{} of kfold {}'.format(i,kf.n_splits))\n",
    "\n",
    "  df_new_train, df_new_test = df_new.iloc[train_index], df_new.iloc[test_index]\n",
    "\n",
    "  df_new_train = remove_outlier(df_new_train, 'mmr')\n",
    "  df_new_test = remove_outlier(df_new_test, 'mmr')\n",
    "  df_new_train = remove_outlier(df_new_train, 'odometer')\n",
    "  df_new_test = remove_outlier(df_new_test, 'odometer')\n",
    "  df_new_train = remove_outlier(df_new_train, 'year')\n",
    "  df_new_test = remove_outlier(df_new_test, 'year')\n",
    "\n",
    "  x_train = df_new_train.copy()\n",
    "  x_train = x_train.drop(columns = ['sellingprice'])\n",
    "  y_train = df_new_train['sellingprice']\n",
    "\n",
    "  x_test = df_new_test.copy()\n",
    "  x_test = x_test.drop(columns = ['sellingprice'])\n",
    "  y_test = df_new_test['sellingprice']\n",
    "\n",
    "  xgb1 = XGBRegressor()\n",
    "  parameters = {'nthread':[4], #when use hyperthread, xgboost may become slower\n",
    "                'learning_rate': [0.01, 0.05, 0.1, 0.5], #so called `eta` value\n",
    "                'max_depth': [5, 6, 7, 8],\n",
    "                'min_child_weight': [4],\n",
    "                'silent': [1],\n",
    "                'subsample': [0.7],\n",
    "                'colsample_bytree': [0.7],\n",
    "                'n_estimators': [500]}\n",
    "\n",
    "  xgb_grid = GridSearchCV(xgb1, parameters, cv = 2, n_jobs = 5, verbose=True)\n",
    "\n",
    "  xgb_grid.fit(x_train, y_train)\n",
    "  y_hat = xgb_grid.predict(x_test)\n",
    "  mdape = np.median(np.abs(y_hat - y_test)/np.abs(y_test))\n",
    "  acc = 1-mdape\n",
    "  print(\"Median Absolute Percentage Error: \",mdape)\n",
    "  print(\"Accuracy: \", acc)\n",
    "  i+=1\n",
    "  print(\"Best parameters: \", xgb_grid.best_params_)"
   ]
  },
  {
   "cell_type": "markdown",
   "metadata": {
    "id": "78P36DqoGHqX"
   },
   "source": [
    "### Script to run all regressors"
   ]
  },
  {
   "cell_type": "code",
   "execution_count": null,
   "metadata": {
    "id": "LEv0LzfVGMGh"
   },
   "outputs": [],
   "source": [
    "regressors = ['XGBRegressor', 'RandomForestRegressor', 'DecisionTreeRegressor', 'ExtraTreesRegressor', 'AdaBoostRegressor']\n",
    "\n",
    "for reg in regressors:\n",
    "  if reg == 'XGBRegressor':\n",
    "    regressor = XGBRegressor()\n",
    "  if reg == 'RandomForestRegressor':\n",
    "    regressor = RandomForestRegressor(n_estimators=100, random_state=0)\n",
    "  if reg == 'DecisionTreeRegressor':\n",
    "    regressor = DecisionTreeRegressor()\n",
    "  if reg == 'ExtraTreesRegressor':\n",
    "    regressor = ExtraTreesRegressor()\n",
    "  if reg == 'AdaBoostRegressor':\n",
    "    regressor = AdaBoostRegressor()\n",
    "\n",
    "  regressor = TransformedTargetRegressor(regressor=regressor, transformer=MinMaxScaler())\n",
    "  regressor.fit(x_train, y_train)\n",
    "  y_pred = regressor.predict(x_test)\n",
    "\n",
    "  plt.figure(figsize=(15, 8))\n",
    "  plt.plot(y_pred[0:50], label='Predicted', color=\"blue\")\n",
    "  plt.plot(y_test_arr[0:50], label='Actual', color=\"red\")\n",
    "  plt.title(reg)\n",
    "  plt.legend()\n",
    "\n",
    "  print(\"\\n\")\n",
    "  print(\"Accuracy for \", reg)\n",
    "  acc = 1 - np.median(np.abs(y_pred - y_test)/np.abs(y_test))\n",
    "  print(acc)"
   ]
  }
 ],
 "metadata": {
  "accelerator": "GPU",
  "colab": {
   "collapsed_sections": [
    "oRkAAspxeKK8",
    "0V_n-fnY8Gym",
    "Dkt5cV0CeNtF",
    "vH4q9oWLFlZT",
    "S7CplCnUa9Rf",
    "1vuctdJ0TKaF",
    "hLJ4o3Z1F-oK",
    "a0QGU02ue3-W",
    "m73SKLBNS1BN",
    "G1nyvYGAS4FX",
    "cYYVwZlsPsnz",
    "XGbGEhBqSrFG",
    "gO02hkq3dsp-",
    "35-4MYu2YKBH",
    "gSBIFsN9qfjZ",
    "oSrqOhRNsakK",
    "bhsA-sKyOZtT",
    "x9hVOUQcryaO",
    "h9fcOuCL-aWy",
    "78P36DqoGHqX"
   ],
   "name": "Final_regression_Car_Price_Prediction.ipynb",
   "provenance": []
  },
  "gpuClass": "standard",
  "kernelspec": {
   "display_name": "Python 3.10.5 64-bit",
   "language": "python",
   "name": "python3"
  },
  "language_info": {
   "codemirror_mode": {
    "name": "ipython",
    "version": 3
   },
   "file_extension": ".py",
   "mimetype": "text/x-python",
   "name": "python",
   "nbconvert_exporter": "python",
   "pygments_lexer": "ipython3",
   "version": "3.10.5"
  },
  "vscode": {
   "interpreter": {
    "hash": "0cfdd3b0dffe2ad7fcbc64f5f93deae5239b8f311e6cb7a499fa34ebd238a891"
   }
  }
 },
 "nbformat": 4,
 "nbformat_minor": 1
}
