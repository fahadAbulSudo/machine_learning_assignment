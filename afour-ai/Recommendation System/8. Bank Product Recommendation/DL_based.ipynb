{
 "cells": [
  {
   "cell_type": "code",
   "execution_count": 1,
   "metadata": {},
   "outputs": [],
   "source": [
    "import pandas as pd\n",
    "import numpy as np\n",
    "import matplotlib.pyplot as plt\n",
    "from sklearn.preprocessing import OneHotEncoder, LabelEncoder\n",
    "from collections import Counter\n",
    "from sklearn.metrics import log_loss\n",
    "#import xgboost as xgb\n",
    "import pickle"
   ]
  },
  {
   "cell_type": "code",
   "execution_count": 2,
   "metadata": {},
   "outputs": [
    {
     "name": "stderr",
     "output_type": "stream",
     "text": [
      "Extracting : 100%|██████████| 1/1 [00:01<00:00,  1.10s/it]\n"
     ]
    }
   ],
   "source": [
    "from pathlib import Path\n",
    "import os\n",
    "import sys\n",
    "\n",
    "sys.path.append(str(Path(os.getcwd()).parents[1]))\n",
    "from Helper_Functions import common_utils\n",
    "directory_to_extract_to = os.getcwd()\n",
    "\n",
    "common_utils.load_data_from_one_drive(directory_to_extract_to, \"recommendation_paths\", \"bankproduct_recommendation\")"
   ]
  },
  {
   "cell_type": "code",
   "execution_count": 3,
   "metadata": {},
   "outputs": [
    {
     "name": "stderr",
     "output_type": "stream",
     "text": [
      "C:\\Users\\Fahad.A\\AppData\\Local\\Temp\\ipykernel_17272\\3488184092.py:1: DtypeWarning: Columns (10,11,15) have mixed types. Specify dtype option on import or set low_memory=False.\n",
      "  df= pd.read_csv('sliced.csv')\n"
     ]
    }
   ],
   "source": [
    "df= pd.read_csv('sliced.csv')"
   ]
  },
  {
   "cell_type": "code",
   "execution_count": 3,
   "metadata": {},
   "outputs": [],
   "source": [
    "df['Status_Dt'] = pd.to_datetime(df['Status_Dt'],format=\"%Y-%m-%d\")"
   ]
  },
  {
   "cell_type": "code",
   "execution_count": 4,
   "metadata": {},
   "outputs": [],
   "source": [
    "df['Year'] = df['Status_Dt'].dt.year\n",
    "df['Monthly'] = df['Status_Dt'].dt.month\n",
    "df['Day'] = df['Status_Dt'].dt.day"
   ]
  },
  {
   "cell_type": "code",
   "execution_count": 5,
   "metadata": {},
   "outputs": [],
   "source": [
    "numeric_attribs = ['Age', 'Is_New_Cust', 'Cust_Since', 'Cust_Active_Status']\n",
    "for attrib in numeric_attribs:\n",
    "    #errors='coerce' - when value is invalid, set it to NAN\n",
    "    df[attrib] = pd.to_numeric(df[attrib], errors='coerce')"
   ]
  },
  {
   "cell_type": "code",
   "execution_count": 6,
   "metadata": {},
   "outputs": [],
   "source": [
    "df.drop('Is_Spouse_Emp', axis=1, inplace=True)\n",
    "df.drop('Lst_Dt_Primary_Cust', axis=1, inplace=True)\n",
    "df.drop('Address_Type', axis=1, inplace=True)\n",
    "df.drop('Join_Dt', axis=1, inplace=True)\n",
    "df.drop('Status_Dt', axis=1, inplace=True)\n",
    "df.drop('Cust_ID', axis=1, inplace=True)\n",
    "df.drop('Deceased_Flg', axis=1, inplace=True)\n",
    "df.drop('Cust_Type_Mth_Beg', axis=1, inplace=True)\n",
    "df.drop('Relship_Status', axis=1, inplace=True)\n",
    "df.drop('Day', axis=1, inplace=True)\n",
    "df.drop('Year', axis=1, inplace=True)\n",
    "df.drop('Cust_Ctry', axis=1, inplace=True)\n",
    "df.drop('Is_Foreigner', axis=1, inplace=True)"
   ]
  },
  {
   "cell_type": "code",
   "execution_count": 7,
   "metadata": {},
   "outputs": [],
   "source": [
    "df.loc[df[\"Gross_HHLD_Income\"].isnull(),\"Gross_HHLD_Income\"] = np.nanmedian(df.Gross_HHLD_Income)\n",
    "df.loc[df[\"Cust_Segment\"].isnull(),\"Cust_Segment\"] = '02 - PARTICULARES'\n",
    "df.loc[df[\"Join_Channel\"].isnull(),\"Join_Channel\"] = 'KHE'\n",
    "df.loc[df[\"Cust_Relship_Type_Mth_Beg\"].isnull(),\"Cust_Relship_Type_Mth_Beg\"] = 'I'\n",
    "df.loc[df[\"Cust_Province_Cd\"].isnull(),\"Cust_Province_Cd\"] = 28.0\n",
    "df.loc[df[\"Cust_Province_Name\"].isnull(),\"Cust_Province_Name\"] = 'MADRID'\n",
    "df.loc[df[\"Cust_Sex\"].isnull(),\"Cust_Sex\"] = 'V'"
   ]
  },
  {
   "cell_type": "code",
   "execution_count": 8,
   "metadata": {},
   "outputs": [],
   "source": [
    "numeric_column = ['Age', 'Cust_Province_Cd', 'Cust_Active_Status', 'Gross_HHLD_Income', 'Cust_Since', 'Monthly']"
   ]
  },
  {
   "cell_type": "code",
   "execution_count": 9,
   "metadata": {},
   "outputs": [
    {
     "data": {
      "text/plain": [
       "Index(['Emp_Status', 'Cust_Sex', 'Age', 'Is_New_Cust', 'Cust_Since',\n",
       "       'Cust_Relship_Type_Mth_Beg', 'Residence_Ctry', 'Join_Channel',\n",
       "       'Cust_Province_Cd', 'Cust_Province_Name', 'Cust_Active_Status',\n",
       "       'Gross_HHLD_Income', 'Cust_Segment', 'Savings_Acct', 'Guarantees',\n",
       "       'Cur_Acct', 'Derivative_Acct', 'Payroll_Acct', 'Junior_Acct',\n",
       "       'Mas_Particular_Acct', 'Particular_Acct', 'Particular_Plus_Acct',\n",
       "       'Short_Term_Deposits', 'Med_Term_Deposits', 'Long_Term_Deposits',\n",
       "       'e-Acct', 'Funds', 'Mortgage', 'Pension1', 'Loans', 'Taxes',\n",
       "       'Credit_Card', 'Securities', 'Home_Acct', 'Payroll', 'Pension2',\n",
       "       'Direct_Debit', 'Monthly'],\n",
       "      dtype='object')"
      ]
     },
     "execution_count": 9,
     "metadata": {},
     "output_type": "execute_result"
    }
   ],
   "source": [
    "df.columns"
   ]
  },
  {
   "cell_type": "code",
   "execution_count": 10,
   "metadata": {},
   "outputs": [
    {
     "data": {
      "text/plain": [
       "0.0    965500\n",
       "1.0     34500\n",
       "Name: Is_New_Cust, dtype: int64"
      ]
     },
     "execution_count": 10,
     "metadata": {},
     "output_type": "execute_result"
    }
   ],
   "source": [
    "df.Is_New_Cust.value_counts(dropna=False)"
   ]
  },
  {
   "cell_type": "code",
   "execution_count": 11,
   "metadata": {},
   "outputs": [
    {
     "data": {
      "text/plain": [
       "N    999480\n",
       "B       219\n",
       "F       152\n",
       "A       148\n",
       "S         1\n",
       "Name: Emp_Status, dtype: int64"
      ]
     },
     "execution_count": 11,
     "metadata": {},
     "output_type": "execute_result"
    }
   ],
   "source": [
    "df.Emp_Status.value_counts(dropna=False)"
   ]
  },
  {
   "cell_type": "code",
   "execution_count": 12,
   "metadata": {},
   "outputs": [
    {
     "data": {
      "text/plain": [
       "V    537136\n",
       "H    462864\n",
       "Name: Cust_Sex, dtype: int64"
      ]
     },
     "execution_count": 12,
     "metadata": {},
     "output_type": "execute_result"
    }
   ],
   "source": [
    "df.Cust_Sex.value_counts(dropna=False)"
   ]
  },
  {
   "cell_type": "code",
   "execution_count": 13,
   "metadata": {},
   "outputs": [
    {
     "data": {
      "text/plain": [
       "I    584446\n",
       "A    415130\n",
       "P       343\n",
       "R        81\n",
       "Name: Cust_Relship_Type_Mth_Beg, dtype: int64"
      ]
     },
     "execution_count": 13,
     "metadata": {},
     "output_type": "execute_result"
    }
   ],
   "source": [
    "df.Cust_Relship_Type_Mth_Beg.value_counts(dropna=False)"
   ]
  },
  {
   "cell_type": "code",
   "execution_count": 14,
   "metadata": {},
   "outputs": [
    {
     "data": {
      "text/plain": [
       "S    995999\n",
       "N      4001\n",
       "Name: Residence_Ctry, dtype: int64"
      ]
     },
     "execution_count": 14,
     "metadata": {},
     "output_type": "execute_result"
    }
   ],
   "source": [
    "df.Residence_Ctry.value_counts(dropna=False)"
   ]
  },
  {
   "cell_type": "code",
   "execution_count": 15,
   "metadata": {},
   "outputs": [
    {
     "data": {
      "text/plain": [
       "KHE    312493\n",
       "KFC    209783\n",
       "KAT    208862\n",
       "KHQ     75118\n",
       "KHM     31202\n",
       "        ...  \n",
       "KDL         1\n",
       "KDI         1\n",
       "KHR         1\n",
       "KDB         1\n",
       "KGN         1\n",
       "Name: Join_Channel, Length: 162, dtype: int64"
      ]
     },
     "execution_count": 15,
     "metadata": {},
     "output_type": "execute_result"
    }
   ],
   "source": [
    "df.Join_Channel.value_counts(dropna=False)"
   ]
  },
  {
   "cell_type": "code",
   "execution_count": 16,
   "metadata": {},
   "outputs": [
    {
     "data": {
      "text/plain": [
       "MADRID                    315332\n",
       "BARCELONA                  94747\n",
       "VALENCIA                   53250\n",
       "SEVILLA                    44053\n",
       "CORUÑA, A                  32303\n",
       "MURCIA                     31784\n",
       "MALAGA                     26331\n",
       "ZARAGOZA                   24702\n",
       "ALICANTE                   24132\n",
       "CADIZ                      21459\n",
       "PONTEVEDRA                 21456\n",
       "ASTURIAS                   20052\n",
       "VALLADOLID                 17570\n",
       "PALMAS, LAS                17475\n",
       "BADAJOZ                    14439\n",
       "TOLEDO                     14073\n",
       "GRANADA                    13688\n",
       "BIZKAIA                    12828\n",
       "SALAMANCA                  12190\n",
       "CANTABRIA                  11421\n",
       "CORDOBA                    10470\n",
       "BALEARS, ILLES              9701\n",
       "CACERES                     9591\n",
       "CIUDAD REAL                 9100\n",
       "HUELVA                      8919\n",
       "ALBACETE                    8734\n",
       "TARRAGONA                   8081\n",
       "CASTELLON                   7922\n",
       "BURGOS                      7127\n",
       "GIRONA                      6802\n",
       "LUGO                        6464\n",
       "OURENSE                     6462\n",
       "NAVARRA                     6385\n",
       "RIOJA, LA                   6303\n",
       "LEON                        6118\n",
       "LERIDA                      6004\n",
       "SANTA CRUZ DE TENERIFE      5349\n",
       "GIPUZKOA                    5059\n",
       "GUADALAJARA                 4965\n",
       "JAEN                        4809\n",
       "ALMERIA                     4629\n",
       "CUENCA                      4240\n",
       "ZAMORA                      3809\n",
       "PALENCIA                    3664\n",
       "SEGOVIA                     3177\n",
       "HUESCA                      3027\n",
       "AVILA                       2887\n",
       "ALAVA                       2717\n",
       "TERUEL                      1667\n",
       "SORIA                       1335\n",
       "MELILLA                      659\n",
       "CEUTA                        539\n",
       "Name: Cust_Province_Name, dtype: int64"
      ]
     },
     "execution_count": 16,
     "metadata": {},
     "output_type": "execute_result"
    }
   ],
   "source": [
    "df.Cust_Province_Name.value_counts(dropna=False)"
   ]
  },
  {
   "cell_type": "code",
   "execution_count": 17,
   "metadata": {},
   "outputs": [
    {
     "data": {
      "text/plain": [
       "02 - PARTICULARES     563398\n",
       "03 - UNIVERSITARIO    400674\n",
       "01 - TOP               35928\n",
       "Name: Cust_Segment, dtype: int64"
      ]
     },
     "execution_count": 17,
     "metadata": {},
     "output_type": "execute_result"
    }
   ],
   "source": [
    "df.Cust_Segment.value_counts(dropna=False)"
   ]
  },
  {
   "cell_type": "code",
   "execution_count": 18,
   "metadata": {},
   "outputs": [
    {
     "name": "stdout",
     "output_type": "stream",
     "text": [
      "['Cust_Province_Cd', 'Cust_Active_Status']\n",
      "['Age', 'Gross_HHLD_Income', 'Cust_Since', 'Monthly']\n"
     ]
    },
    {
     "name": "stderr",
     "output_type": "stream",
     "text": [
      "C:\\Users\\Fahad.A\\AppData\\Local\\Temp\\ipykernel_8228\\252316343.py:5: FutureWarning: Dropping of nuisance columns in DataFrame reductions (with 'numeric_only=None') is deprecated; in a future version this will raise TypeError.  Select only valid columns before calling the reduction.\n",
      "  data_skew = df.skew()\n"
     ]
    }
   ],
   "source": [
    "from sklearn import preprocessing\n",
    "\n",
    "scale_list = []\n",
    "normalise_list = []\n",
    "data_skew = df.skew()\n",
    "\n",
    "for i in numeric_column:\n",
    "    if data_skew[i] >= -0.5 and data_skew[i] <= 0.5:\n",
    "        scale_list.append(i)\n",
    "    else:\n",
    "        normalise_list.append(i)\n",
    "print(scale_list)\n",
    "print(normalise_list)"
   ]
  },
  {
   "cell_type": "code",
   "execution_count": 19,
   "metadata": {},
   "outputs": [
    {
     "data": {
      "text/html": [
       "<div>\n",
       "<style scoped>\n",
       "    .dataframe tbody tr th:only-of-type {\n",
       "        vertical-align: middle;\n",
       "    }\n",
       "\n",
       "    .dataframe tbody tr th {\n",
       "        vertical-align: top;\n",
       "    }\n",
       "\n",
       "    .dataframe thead th {\n",
       "        text-align: right;\n",
       "    }\n",
       "</style>\n",
       "<table border=\"1\" class=\"dataframe\">\n",
       "  <thead>\n",
       "    <tr style=\"text-align: right;\">\n",
       "      <th></th>\n",
       "      <th>Emp_Status</th>\n",
       "      <th>Cust_Sex</th>\n",
       "      <th>Age</th>\n",
       "      <th>Is_New_Cust</th>\n",
       "      <th>Cust_Since</th>\n",
       "      <th>Cust_Relship_Type_Mth_Beg</th>\n",
       "      <th>Residence_Ctry</th>\n",
       "      <th>Join_Channel</th>\n",
       "      <th>Cust_Province_Cd</th>\n",
       "      <th>Cust_Province_Name</th>\n",
       "      <th>...</th>\n",
       "      <th>Pension1</th>\n",
       "      <th>Loans</th>\n",
       "      <th>Taxes</th>\n",
       "      <th>Credit_Card</th>\n",
       "      <th>Securities</th>\n",
       "      <th>Home_Acct</th>\n",
       "      <th>Payroll</th>\n",
       "      <th>Pension2</th>\n",
       "      <th>Direct_Debit</th>\n",
       "      <th>Monthly</th>\n",
       "    </tr>\n",
       "  </thead>\n",
       "  <tbody>\n",
       "    <tr>\n",
       "      <th>0</th>\n",
       "      <td>N</td>\n",
       "      <td>V</td>\n",
       "      <td>22</td>\n",
       "      <td>0.0</td>\n",
       "      <td>28</td>\n",
       "      <td>I</td>\n",
       "      <td>S</td>\n",
       "      <td>KHE</td>\n",
       "      <td>1.511819</td>\n",
       "      <td>VALENCIA</td>\n",
       "      <td>...</td>\n",
       "      <td>0</td>\n",
       "      <td>0</td>\n",
       "      <td>0</td>\n",
       "      <td>0</td>\n",
       "      <td>0</td>\n",
       "      <td>0</td>\n",
       "      <td>0.0</td>\n",
       "      <td>0.0</td>\n",
       "      <td>0</td>\n",
       "      <td>4</td>\n",
       "    </tr>\n",
       "    <tr>\n",
       "      <th>1</th>\n",
       "      <td>N</td>\n",
       "      <td>H</td>\n",
       "      <td>27</td>\n",
       "      <td>0.0</td>\n",
       "      <td>28</td>\n",
       "      <td>A</td>\n",
       "      <td>S</td>\n",
       "      <td>KHE</td>\n",
       "      <td>0.113210</td>\n",
       "      <td>MADRID</td>\n",
       "      <td>...</td>\n",
       "      <td>0</td>\n",
       "      <td>0</td>\n",
       "      <td>0</td>\n",
       "      <td>0</td>\n",
       "      <td>0</td>\n",
       "      <td>0</td>\n",
       "      <td>0.0</td>\n",
       "      <td>0.0</td>\n",
       "      <td>1</td>\n",
       "      <td>4</td>\n",
       "    </tr>\n",
       "    <tr>\n",
       "      <th>2</th>\n",
       "      <td>N</td>\n",
       "      <td>H</td>\n",
       "      <td>26</td>\n",
       "      <td>0.0</td>\n",
       "      <td>28</td>\n",
       "      <td>A</td>\n",
       "      <td>S</td>\n",
       "      <td>KFC</td>\n",
       "      <td>0.113210</td>\n",
       "      <td>MADRID</td>\n",
       "      <td>...</td>\n",
       "      <td>0</td>\n",
       "      <td>0</td>\n",
       "      <td>0</td>\n",
       "      <td>0</td>\n",
       "      <td>0</td>\n",
       "      <td>0</td>\n",
       "      <td>1.0</td>\n",
       "      <td>1.0</td>\n",
       "      <td>0</td>\n",
       "      <td>4</td>\n",
       "    </tr>\n",
       "    <tr>\n",
       "      <th>3</th>\n",
       "      <td>N</td>\n",
       "      <td>H</td>\n",
       "      <td>26</td>\n",
       "      <td>0.0</td>\n",
       "      <td>28</td>\n",
       "      <td>I</td>\n",
       "      <td>S</td>\n",
       "      <td>KHE</td>\n",
       "      <td>0.113210</td>\n",
       "      <td>MADRID</td>\n",
       "      <td>...</td>\n",
       "      <td>0</td>\n",
       "      <td>0</td>\n",
       "      <td>0</td>\n",
       "      <td>0</td>\n",
       "      <td>0</td>\n",
       "      <td>0</td>\n",
       "      <td>0.0</td>\n",
       "      <td>0.0</td>\n",
       "      <td>0</td>\n",
       "      <td>4</td>\n",
       "    </tr>\n",
       "    <tr>\n",
       "      <th>4</th>\n",
       "      <td>N</td>\n",
       "      <td>H</td>\n",
       "      <td>29</td>\n",
       "      <td>0.0</td>\n",
       "      <td>28</td>\n",
       "      <td>I</td>\n",
       "      <td>S</td>\n",
       "      <td>KHE</td>\n",
       "      <td>-0.663795</td>\n",
       "      <td>GRANADA</td>\n",
       "      <td>...</td>\n",
       "      <td>0</td>\n",
       "      <td>0</td>\n",
       "      <td>0</td>\n",
       "      <td>0</td>\n",
       "      <td>0</td>\n",
       "      <td>0</td>\n",
       "      <td>0.0</td>\n",
       "      <td>0.0</td>\n",
       "      <td>0</td>\n",
       "      <td>4</td>\n",
       "    </tr>\n",
       "  </tbody>\n",
       "</table>\n",
       "<p>5 rows × 38 columns</p>\n",
       "</div>"
      ],
      "text/plain": [
       "  Emp_Status Cust_Sex  Age  Is_New_Cust  Cust_Since Cust_Relship_Type_Mth_Beg  \\\n",
       "0          N        V   22          0.0          28                         I   \n",
       "1          N        H   27          0.0          28                         A   \n",
       "2          N        H   26          0.0          28                         A   \n",
       "3          N        H   26          0.0          28                         I   \n",
       "4          N        H   29          0.0          28                         I   \n",
       "\n",
       "  Residence_Ctry Join_Channel  Cust_Province_Cd Cust_Province_Name  ...  \\\n",
       "0              S          KHE          1.511819           VALENCIA  ...   \n",
       "1              S          KHE          0.113210             MADRID  ...   \n",
       "2              S          KFC          0.113210             MADRID  ...   \n",
       "3              S          KHE          0.113210             MADRID  ...   \n",
       "4              S          KHE         -0.663795            GRANADA  ...   \n",
       "\n",
       "   Pension1  Loans Taxes  Credit_Card  Securities  Home_Acct  Payroll  \\\n",
       "0         0      0     0            0           0          0      0.0   \n",
       "1         0      0     0            0           0          0      0.0   \n",
       "2         0      0     0            0           0          0      1.0   \n",
       "3         0      0     0            0           0          0      0.0   \n",
       "4         0      0     0            0           0          0      0.0   \n",
       "\n",
       "   Pension2  Direct_Debit  Monthly  \n",
       "0       0.0             0        4  \n",
       "1       0.0             1        4  \n",
       "2       1.0             0        4  \n",
       "3       0.0             0        4  \n",
       "4       0.0             0        4  \n",
       "\n",
       "[5 rows x 38 columns]"
      ]
     },
     "execution_count": 19,
     "metadata": {},
     "output_type": "execute_result"
    }
   ],
   "source": [
    "features = df[scale_list]\n",
    "scaler = preprocessing.StandardScaler().fit(features.values)\n",
    "features = scaler.transform(features.values)\n",
    "df[scale_list] = features\n",
    "df.head()"
   ]
  },
  {
   "cell_type": "code",
   "execution_count": 20,
   "metadata": {},
   "outputs": [
    {
     "data": {
      "text/html": [
       "<div>\n",
       "<style scoped>\n",
       "    .dataframe tbody tr th:only-of-type {\n",
       "        vertical-align: middle;\n",
       "    }\n",
       "\n",
       "    .dataframe tbody tr th {\n",
       "        vertical-align: top;\n",
       "    }\n",
       "\n",
       "    .dataframe thead th {\n",
       "        text-align: right;\n",
       "    }\n",
       "</style>\n",
       "<table border=\"1\" class=\"dataframe\">\n",
       "  <thead>\n",
       "    <tr style=\"text-align: right;\">\n",
       "      <th></th>\n",
       "      <th>Emp_Status</th>\n",
       "      <th>Cust_Sex</th>\n",
       "      <th>Age</th>\n",
       "      <th>Is_New_Cust</th>\n",
       "      <th>Cust_Since</th>\n",
       "      <th>Cust_Relship_Type_Mth_Beg</th>\n",
       "      <th>Residence_Ctry</th>\n",
       "      <th>Join_Channel</th>\n",
       "      <th>Cust_Province_Cd</th>\n",
       "      <th>Cust_Province_Name</th>\n",
       "      <th>...</th>\n",
       "      <th>Pension1</th>\n",
       "      <th>Loans</th>\n",
       "      <th>Taxes</th>\n",
       "      <th>Credit_Card</th>\n",
       "      <th>Securities</th>\n",
       "      <th>Home_Acct</th>\n",
       "      <th>Payroll</th>\n",
       "      <th>Pension2</th>\n",
       "      <th>Direct_Debit</th>\n",
       "      <th>Monthly</th>\n",
       "    </tr>\n",
       "  </thead>\n",
       "  <tbody>\n",
       "    <tr>\n",
       "      <th>0</th>\n",
       "      <td>N</td>\n",
       "      <td>V</td>\n",
       "      <td>0.123457</td>\n",
       "      <td>0.0</td>\n",
       "      <td>0.999772</td>\n",
       "      <td>I</td>\n",
       "      <td>S</td>\n",
       "      <td>KHE</td>\n",
       "      <td>1.511819</td>\n",
       "      <td>VALENCIA</td>\n",
       "      <td>...</td>\n",
       "      <td>0</td>\n",
       "      <td>0</td>\n",
       "      <td>0</td>\n",
       "      <td>0</td>\n",
       "      <td>0</td>\n",
       "      <td>0</td>\n",
       "      <td>0.0</td>\n",
       "      <td>0.0</td>\n",
       "      <td>0</td>\n",
       "      <td>0.0</td>\n",
       "    </tr>\n",
       "    <tr>\n",
       "      <th>1</th>\n",
       "      <td>N</td>\n",
       "      <td>H</td>\n",
       "      <td>0.154321</td>\n",
       "      <td>0.0</td>\n",
       "      <td>0.999772</td>\n",
       "      <td>A</td>\n",
       "      <td>S</td>\n",
       "      <td>KHE</td>\n",
       "      <td>0.113210</td>\n",
       "      <td>MADRID</td>\n",
       "      <td>...</td>\n",
       "      <td>0</td>\n",
       "      <td>0</td>\n",
       "      <td>0</td>\n",
       "      <td>0</td>\n",
       "      <td>0</td>\n",
       "      <td>0</td>\n",
       "      <td>0.0</td>\n",
       "      <td>0.0</td>\n",
       "      <td>1</td>\n",
       "      <td>0.0</td>\n",
       "    </tr>\n",
       "    <tr>\n",
       "      <th>2</th>\n",
       "      <td>N</td>\n",
       "      <td>H</td>\n",
       "      <td>0.148148</td>\n",
       "      <td>0.0</td>\n",
       "      <td>0.999772</td>\n",
       "      <td>A</td>\n",
       "      <td>S</td>\n",
       "      <td>KFC</td>\n",
       "      <td>0.113210</td>\n",
       "      <td>MADRID</td>\n",
       "      <td>...</td>\n",
       "      <td>0</td>\n",
       "      <td>0</td>\n",
       "      <td>0</td>\n",
       "      <td>0</td>\n",
       "      <td>0</td>\n",
       "      <td>0</td>\n",
       "      <td>1.0</td>\n",
       "      <td>1.0</td>\n",
       "      <td>0</td>\n",
       "      <td>0.0</td>\n",
       "    </tr>\n",
       "    <tr>\n",
       "      <th>3</th>\n",
       "      <td>N</td>\n",
       "      <td>H</td>\n",
       "      <td>0.148148</td>\n",
       "      <td>0.0</td>\n",
       "      <td>0.999772</td>\n",
       "      <td>I</td>\n",
       "      <td>S</td>\n",
       "      <td>KHE</td>\n",
       "      <td>0.113210</td>\n",
       "      <td>MADRID</td>\n",
       "      <td>...</td>\n",
       "      <td>0</td>\n",
       "      <td>0</td>\n",
       "      <td>0</td>\n",
       "      <td>0</td>\n",
       "      <td>0</td>\n",
       "      <td>0</td>\n",
       "      <td>0.0</td>\n",
       "      <td>0.0</td>\n",
       "      <td>0</td>\n",
       "      <td>0.0</td>\n",
       "    </tr>\n",
       "    <tr>\n",
       "      <th>4</th>\n",
       "      <td>N</td>\n",
       "      <td>H</td>\n",
       "      <td>0.166667</td>\n",
       "      <td>0.0</td>\n",
       "      <td>0.999772</td>\n",
       "      <td>I</td>\n",
       "      <td>S</td>\n",
       "      <td>KHE</td>\n",
       "      <td>-0.663795</td>\n",
       "      <td>GRANADA</td>\n",
       "      <td>...</td>\n",
       "      <td>0</td>\n",
       "      <td>0</td>\n",
       "      <td>0</td>\n",
       "      <td>0</td>\n",
       "      <td>0</td>\n",
       "      <td>0</td>\n",
       "      <td>0.0</td>\n",
       "      <td>0.0</td>\n",
       "      <td>0</td>\n",
       "      <td>0.0</td>\n",
       "    </tr>\n",
       "  </tbody>\n",
       "</table>\n",
       "<p>5 rows × 38 columns</p>\n",
       "</div>"
      ],
      "text/plain": [
       "  Emp_Status Cust_Sex       Age  Is_New_Cust  Cust_Since  \\\n",
       "0          N        V  0.123457          0.0    0.999772   \n",
       "1          N        H  0.154321          0.0    0.999772   \n",
       "2          N        H  0.148148          0.0    0.999772   \n",
       "3          N        H  0.148148          0.0    0.999772   \n",
       "4          N        H  0.166667          0.0    0.999772   \n",
       "\n",
       "  Cust_Relship_Type_Mth_Beg Residence_Ctry Join_Channel  Cust_Province_Cd  \\\n",
       "0                         I              S          KHE          1.511819   \n",
       "1                         A              S          KHE          0.113210   \n",
       "2                         A              S          KFC          0.113210   \n",
       "3                         I              S          KHE          0.113210   \n",
       "4                         I              S          KHE         -0.663795   \n",
       "\n",
       "  Cust_Province_Name  ...  Pension1  Loans Taxes  Credit_Card  Securities  \\\n",
       "0           VALENCIA  ...         0      0     0            0           0   \n",
       "1             MADRID  ...         0      0     0            0           0   \n",
       "2             MADRID  ...         0      0     0            0           0   \n",
       "3             MADRID  ...         0      0     0            0           0   \n",
       "4            GRANADA  ...         0      0     0            0           0   \n",
       "\n",
       "   Home_Acct  Payroll  Pension2  Direct_Debit  Monthly  \n",
       "0          0      0.0       0.0             0      0.0  \n",
       "1          0      0.0       0.0             1      0.0  \n",
       "2          0      1.0       1.0             0      0.0  \n",
       "3          0      0.0       0.0             0      0.0  \n",
       "4          0      0.0       0.0             0      0.0  \n",
       "\n",
       "[5 rows x 38 columns]"
      ]
     },
     "execution_count": 20,
     "metadata": {},
     "output_type": "execute_result"
    }
   ],
   "source": [
    "features = df[normalise_list]\n",
    "scaler_1 = preprocessing.MinMaxScaler().fit(features.values)\n",
    "features = scaler_1.transform(features.values)\n",
    "df[normalise_list] = features\n",
    "df.head()"
   ]
  },
  {
   "cell_type": "code",
   "execution_count": 21,
   "metadata": {},
   "outputs": [],
   "source": [
    "encoder_list = ['Emp_Status', 'Cust_Sex', 'Cust_Relship_Type_Mth_Beg', 'Join_Channel', 'Cust_Segment', 'Residence_Ctry', 'Cust_Province_Name']"
   ]
  },
  {
   "cell_type": "code",
   "execution_count": 22,
   "metadata": {},
   "outputs": [],
   "source": [
    "from sklearn.preprocessing import LabelEncoder\n",
    "le = LabelEncoder()\n",
    "le.fit(df.Emp_Status) \n",
    "df.Emp_Status = le.transform(df.Emp_Status)\n",
    "le0 = LabelEncoder()\n",
    "le0.fit(df.Cust_Sex) \n",
    "df.Cust_Sex = le0.transform(df.Cust_Sex)\n",
    "le2 = LabelEncoder()\n",
    "le2.fit(df.Cust_Relship_Type_Mth_Beg) \n",
    "df.Cust_Relship_Type_Mth_Beg = le2.transform(df.Cust_Relship_Type_Mth_Beg)\n",
    "le3 = LabelEncoder()\n",
    "le3.fit(df.Join_Channel) \n",
    "df.Join_Channel = le3.transform(df.Join_Channel)\n",
    "le4 = LabelEncoder()\n",
    "le4.fit(df.Cust_Segment) \n",
    "df.Cust_Segment = le4.transform(df.Cust_Segment)\n",
    "le5 = LabelEncoder()\n",
    "le5.fit(df.Residence_Ctry) \n",
    "df.Residence_Ctry = le5.transform(df.Residence_Ctry)\n",
    "le7 = LabelEncoder()\n",
    "le7.fit(df.Cust_Province_Name) \n",
    "df.Cust_Province_Name = le7.transform(df.Cust_Province_Name)"
   ]
  },
  {
   "cell_type": "markdown",
   "metadata": {},
   "source": [
    "[le,le0,le2,le3,le4,le5,le7,scaler_1,scaler]"
   ]
  },
  {
   "cell_type": "code",
   "execution_count": 23,
   "metadata": {},
   "outputs": [
    {
     "data": {
      "text/plain": [
       "Index(['Emp_Status', 'Cust_Sex', 'Age', 'Is_New_Cust', 'Cust_Since',\n",
       "       'Cust_Relship_Type_Mth_Beg', 'Residence_Ctry', 'Join_Channel',\n",
       "       'Cust_Province_Cd', 'Cust_Province_Name', 'Cust_Active_Status',\n",
       "       'Gross_HHLD_Income', 'Cust_Segment', 'Savings_Acct', 'Guarantees',\n",
       "       'Cur_Acct', 'Derivative_Acct', 'Payroll_Acct', 'Junior_Acct',\n",
       "       'Mas_Particular_Acct', 'Particular_Acct', 'Particular_Plus_Acct',\n",
       "       'Short_Term_Deposits', 'Med_Term_Deposits', 'Long_Term_Deposits',\n",
       "       'e-Acct', 'Funds', 'Mortgage', 'Pension1', 'Loans', 'Taxes',\n",
       "       'Credit_Card', 'Securities', 'Home_Acct', 'Payroll', 'Pension2',\n",
       "       'Direct_Debit', 'Monthly'],\n",
       "      dtype='object')"
      ]
     },
     "execution_count": 23,
     "metadata": {},
     "output_type": "execute_result"
    }
   ],
   "source": [
    "df.columns"
   ]
  },
  {
   "cell_type": "code",
   "execution_count": 24,
   "metadata": {},
   "outputs": [
    {
     "name": "stdout",
     "output_type": "stream",
     "text": [
      "Output:\n",
      "Emp_Status                     int32\n",
      "Cust_Sex                       int32\n",
      "Age                          float64\n",
      "Is_New_Cust                  float64\n",
      "Cust_Since                   float64\n",
      "Cust_Relship_Type_Mth_Beg      int32\n",
      "Residence_Ctry                 int32\n",
      "Join_Channel                   int32\n",
      "Cust_Province_Cd             float64\n",
      "Cust_Province_Name             int32\n",
      "Cust_Active_Status           float64\n",
      "Gross_HHLD_Income            float64\n",
      "Cust_Segment                   int32\n",
      "Savings_Acct                   int64\n",
      "Guarantees                     int64\n",
      "Cur_Acct                       int64\n",
      "Derivative_Acct                int64\n",
      "Payroll_Acct                   int64\n",
      "Junior_Acct                    int64\n",
      "Mas_Particular_Acct            int64\n",
      "Particular_Acct                int64\n",
      "Particular_Plus_Acct           int64\n",
      "Short_Term_Deposits            int64\n",
      "Med_Term_Deposits              int64\n",
      "Long_Term_Deposits             int64\n",
      "e-Acct                         int64\n",
      "Funds                          int64\n",
      "Mortgage                       int64\n",
      "Pension1                       int64\n",
      "Loans                          int64\n",
      "Taxes                          int64\n",
      "Credit_Card                    int64\n",
      "Securities                     int64\n",
      "Home_Acct                      int64\n",
      "Payroll                      float64\n",
      "Pension2                     float64\n",
      "Direct_Debit                   int64\n",
      "Monthly                      float64\n",
      "dtype: object\n"
     ]
    }
   ],
   "source": [
    "result = df.dtypes\n",
    "\n",
    "print(\"Output:\")\n",
    "print(result)"
   ]
  },
  {
   "cell_type": "code",
   "execution_count": 25,
   "metadata": {},
   "outputs": [],
   "source": [
    "x_col = ['Emp_Status', 'Cust_Sex', 'Age', 'Is_New_Cust', 'Cust_Since',\n",
    "       'Cust_Relship_Type_Mth_Beg', 'Residence_Ctry', 'Join_Channel',\n",
    "       'Cust_Province_Cd', 'Cust_Province_Name', 'Cust_Active_Status',\n",
    "       'Gross_HHLD_Income', 'Cust_Segment', 'Monthly']\n",
    "y_col = ['Derivative_Acct',\n",
    "       'Payroll_Acct', 'Junior_Acct', 'Mas_Particular_Acct', 'Particular_Acct',\n",
    "       'Particular_Plus_Acct', 'Short_Term_Deposits', 'Med_Term_Deposits',\n",
    "       'Long_Term_Deposits', 'e-Acct', 'Funds', 'Mortgage', 'Pension1',\n",
    "       'Loans', 'Taxes', 'Credit_Card', 'Securities', 'Home_Acct', 'Payroll',\n",
    "       'Pension2', 'Direct_Debit', 'Savings_Acct', 'Guarantees', 'Cur_Acct']"
   ]
  },
  {
   "cell_type": "code",
   "execution_count": 26,
   "metadata": {},
   "outputs": [],
   "source": [
    "X = df.drop(y_col,axis=1)               \n",
    "y = df.drop(x_col,axis=1) "
   ]
  },
  {
   "cell_type": "code",
   "execution_count": 27,
   "metadata": {},
   "outputs": [
    {
     "data": {
      "text/plain": [
       "Index(['Emp_Status', 'Cust_Sex', 'Age', 'Is_New_Cust', 'Cust_Since',\n",
       "       'Cust_Relship_Type_Mth_Beg', 'Residence_Ctry', 'Join_Channel',\n",
       "       'Cust_Province_Cd', 'Cust_Province_Name', 'Cust_Active_Status',\n",
       "       'Gross_HHLD_Income', 'Cust_Segment', 'Monthly'],\n",
       "      dtype='object')"
      ]
     },
     "execution_count": 27,
     "metadata": {},
     "output_type": "execute_result"
    }
   ],
   "source": [
    "X.columns"
   ]
  },
  {
   "cell_type": "code",
   "execution_count": 28,
   "metadata": {},
   "outputs": [
    {
     "data": {
      "text/plain": [
       "Index(['Savings_Acct', 'Guarantees', 'Cur_Acct', 'Derivative_Acct',\n",
       "       'Payroll_Acct', 'Junior_Acct', 'Mas_Particular_Acct', 'Particular_Acct',\n",
       "       'Particular_Plus_Acct', 'Short_Term_Deposits', 'Med_Term_Deposits',\n",
       "       'Long_Term_Deposits', 'e-Acct', 'Funds', 'Mortgage', 'Pension1',\n",
       "       'Loans', 'Taxes', 'Credit_Card', 'Securities', 'Home_Acct', 'Payroll',\n",
       "       'Pension2', 'Direct_Debit'],\n",
       "      dtype='object')"
      ]
     },
     "execution_count": 28,
     "metadata": {},
     "output_type": "execute_result"
    }
   ],
   "source": [
    "y.columns"
   ]
  },
  {
   "cell_type": "code",
   "execution_count": 29,
   "metadata": {},
   "outputs": [],
   "source": [
    "from sklearn.model_selection import train_test_split\n",
    "X_train, X_test, y_train, y_test = train_test_split(X, y, test_size = 0.25, random_state = 0)"
   ]
  },
  {
   "cell_type": "code",
   "execution_count": 30,
   "metadata": {},
   "outputs": [],
   "source": [
    "from keras.layers import LayerNormalization\n",
    "from keras.models import Sequential\n",
    "from keras.layers import Dropout\n",
    "from keras.layers import Dense"
   ]
  },
  {
   "cell_type": "code",
   "execution_count": 31,
   "metadata": {},
   "outputs": [
    {
     "name": "stdout",
     "output_type": "stream",
     "text": [
      "Model: \"sequential\"\n",
      "_________________________________________________________________\n",
      " Layer (type)                Output Shape              Param #   \n",
      "=================================================================\n",
      " dense (Dense)               (None, 128)               1920      \n",
      "                                                                 \n",
      " dense_1 (Dense)             (None, 256)               33024     \n",
      "                                                                 \n",
      " dropout (Dropout)           (None, 256)               0         \n",
      "                                                                 \n",
      " dense_2 (Dense)             (None, 48)                12336     \n",
      "                                                                 \n",
      " dropout_1 (Dropout)         (None, 48)                0         \n",
      "                                                                 \n",
      " layer_normalization (LayerN  (None, 48)               96        \n",
      " ormalization)                                                   \n",
      "                                                                 \n",
      " dense_3 (Dense)             (None, 24)                1176      \n",
      "                                                                 \n",
      "=================================================================\n",
      "Total params: 48,552\n",
      "Trainable params: 48,552\n",
      "Non-trainable params: 0\n",
      "_________________________________________________________________\n"
     ]
    }
   ],
   "source": [
    "model = Sequential()\n",
    "model.add(Dense(128, activation='relu',input_dim=14)) \n",
    "model.add(Dense(256, activation='relu'))\n",
    "model.add(Dropout(0.2))\n",
    "model.add(Dense(48, activation='relu'))\n",
    "model.add(Dropout(0.2))\n",
    "model.add(LayerNormalization(axis=-1 , center=True , scale=True))\n",
    "model.add(Dense(24, activation='relu'))\n",
    "model.compile(loss='categorical_crossentropy', optimizer='adam', metrics=['categorical_accuracy'])\n",
    "model.summary()"
   ]
  },
  {
   "cell_type": "code",
   "execution_count": 32,
   "metadata": {},
   "outputs": [
    {
     "name": "stdout",
     "output_type": "stream",
     "text": [
      "Epoch 1/10\n",
      "18750/18750 - 63s - loss: 2.6103 - categorical_accuracy: 0.6106 - val_loss: 2.4813 - val_categorical_accuracy: 0.6094 - 63s/epoch - 3ms/step\n",
      "Epoch 2/10\n",
      "18750/18750 - 53s - loss: 2.4543 - categorical_accuracy: 0.6111 - val_loss: 2.4749 - val_categorical_accuracy: 0.6094 - 53s/epoch - 3ms/step\n",
      "Epoch 3/10\n",
      "18750/18750 - 49s - loss: 2.4206 - categorical_accuracy: 0.6111 - val_loss: 2.3764 - val_categorical_accuracy: 0.6094 - 49s/epoch - 3ms/step\n",
      "Epoch 4/10\n",
      "18750/18750 - 51s - loss: 2.4122 - categorical_accuracy: 0.6111 - val_loss: 2.3863 - val_categorical_accuracy: 0.6094 - 51s/epoch - 3ms/step\n",
      "Epoch 5/10\n",
      "18750/18750 - 53s - loss: 2.4113 - categorical_accuracy: 0.6111 - val_loss: 2.3804 - val_categorical_accuracy: 0.6094 - 53s/epoch - 3ms/step\n",
      "Epoch 6/10\n",
      "18750/18750 - 54s - loss: 2.3994 - categorical_accuracy: 0.6111 - val_loss: 2.3809 - val_categorical_accuracy: 0.6094 - 54s/epoch - 3ms/step\n",
      "Epoch 7/10\n",
      "18750/18750 - 63s - loss: 2.4167 - categorical_accuracy: 0.6111 - val_loss: 2.3683 - val_categorical_accuracy: 0.6094 - 63s/epoch - 3ms/step\n",
      "Epoch 8/10\n",
      "18750/18750 - 68s - loss: 2.3913 - categorical_accuracy: 0.6111 - val_loss: 2.3599 - val_categorical_accuracy: 0.6094 - 68s/epoch - 4ms/step\n",
      "Epoch 9/10\n",
      "18750/18750 - 67s - loss: 2.3864 - categorical_accuracy: 0.6111 - val_loss: 2.3492 - val_categorical_accuracy: 0.6094 - 67s/epoch - 4ms/step\n",
      "Epoch 10/10\n",
      "18750/18750 - 65s - loss: 2.3832 - categorical_accuracy: 0.6111 - val_loss: 2.3770 - val_categorical_accuracy: 0.6094 - 65s/epoch - 3ms/step\n"
     ]
    },
    {
     "data": {
      "text/plain": [
       "<keras.callbacks.History at 0x15cea4efb80>"
      ]
     },
     "execution_count": 32,
     "metadata": {},
     "output_type": "execute_result"
    }
   ],
   "source": [
    "model.fit(X_train,y_train, epochs=10, batch_size=32, validation_split=.2, verbose=2)"
   ]
  },
  {
   "cell_type": "code",
   "execution_count": 33,
   "metadata": {},
   "outputs": [
    {
     "name": "stdout",
     "output_type": "stream",
     "text": [
      "7813/7813 [==============================] - 18s 2ms/step\n",
      "prediction\n",
      " [[  0.         0.       184.3447   ...   0.         0.         0.      ]\n",
      " [  0.         0.       123.63893  ...  31.210033  33.07903   70.47592 ]\n",
      " [  0.         0.       233.2133   ...   8.150521   7.213275  24.382687]\n",
      " ...\n",
      " [  0.         0.       181.52219  ...   0.         0.         0.      ]\n",
      " [  0.         0.       199.40733  ...   0.         0.         0.      ]\n",
      " [  0.         0.       120.044334 ...  27.4553    27.116459  63.584633]]\n",
      "\n",
      "Prediction Shape- (250000, 24)\n"
     ]
    }
   ],
   "source": [
    "prediction=model.predict(X_test)\n",
    "print(\"prediction\\n\", prediction)\n",
    "print(\"\\nPrediction Shape-\",prediction.shape)"
   ]
  },
  {
   "cell_type": "code",
   "execution_count": 34,
   "metadata": {},
   "outputs": [
    {
     "data": {
      "text/plain": [
       "array([  0.       ,   0.       , 198.19577  ,   0.       ,   0.       ,\n",
       "         2.3556275,   2.5658185,  63.87725  ,  12.401817 ,   0.       ,\n",
       "         0.       ,   0.       ,   8.428133 ,   0.       ,   0.       ,\n",
       "         0.       ,   0.       ,   7.0579095,   0.       ,   0.       ,\n",
       "         0.       ,   0.       ,   0.       ,   0.       ], dtype=float32)"
      ]
     },
     "execution_count": 34,
     "metadata": {},
     "output_type": "execute_result"
    }
   ],
   "source": [
    "prediction[10]"
   ]
  },
  {
   "cell_type": "code",
   "execution_count": 35,
   "metadata": {},
   "outputs": [],
   "source": [
    "ndarray = y_test.to_numpy()"
   ]
  },
  {
   "cell_type": "code",
   "execution_count": 36,
   "metadata": {},
   "outputs": [
    {
     "data": {
      "text/plain": [
       "array([[0., 0., 0., ..., 0., 0., 0.],\n",
       "       [0., 0., 1., ..., 0., 0., 0.],\n",
       "       [0., 0., 1., ..., 0., 0., 0.],\n",
       "       ...,\n",
       "       [0., 0., 0., ..., 0., 0., 0.],\n",
       "       [0., 0., 0., ..., 0., 0., 0.],\n",
       "       [0., 0., 0., ..., 1., 1., 1.]])"
      ]
     },
     "execution_count": 36,
     "metadata": {},
     "output_type": "execute_result"
    }
   ],
   "source": [
    "ndarray"
   ]
  },
  {
   "cell_type": "code",
   "execution_count": 37,
   "metadata": {},
   "outputs": [],
   "source": [
    "import copy\n",
    "pred = copy.deepcopy(prediction)"
   ]
  },
  {
   "cell_type": "code",
   "execution_count": 38,
   "metadata": {},
   "outputs": [],
   "source": [
    "for row in pred:\n",
    "    for i in np.arange(np.size(row)):\n",
    "        if row[i] >0.0 :\n",
    "            row[i] = 1"
   ]
  },
  {
   "cell_type": "code",
   "execution_count": 39,
   "metadata": {},
   "outputs": [],
   "source": [
    "matches = 0\n",
    "miss = 0"
   ]
  },
  {
   "cell_type": "code",
   "execution_count": 40,
   "metadata": {},
   "outputs": [],
   "source": [
    "for i in range(250000):\n",
    "    for j in range(24):\n",
    "        if ndarray[i][j] == 1.0:\n",
    "            if ndarray[i][j] == pred[i][j]:\n",
    "                matches = matches + 1\n",
    "            else:\n",
    "                miss = miss + 1"
   ]
  },
  {
   "cell_type": "code",
   "execution_count": 41,
   "metadata": {},
   "outputs": [
    {
     "name": "stdout",
     "output_type": "stream",
     "text": [
      "322829\n"
     ]
    },
    {
     "data": {
      "text/plain": [
       "3528"
      ]
     },
     "execution_count": 41,
     "metadata": {},
     "output_type": "execute_result"
    }
   ],
   "source": [
    "print(matches)\n",
    "miss"
   ]
  },
  {
   "cell_type": "code",
   "execution_count": 43,
   "metadata": {},
   "outputs": [],
   "source": [
    "def changeArr(input1):\n",
    "    newArray = input1.copy() \n",
    "    newArray.sort()\n",
    "     \n",
    "    ranks = {}\n",
    "     \n",
    "    rank = 0\n",
    "     \n",
    "    for index in range(len(newArray)):\n",
    "        element = newArray[index]\n",
    "     \n",
    "        if element not in ranks:\n",
    "            ranks[element] = rank\n",
    "            rank += 1\n",
    "         \n",
    "    \n",
    "    for index in range(len(input1)):\n",
    "        element = input1[index]\n",
    "        input1[index] = ranks[input1[index]]\n",
    "    return input1"
   ]
  },
  {
   "cell_type": "code",
   "execution_count": 50,
   "metadata": {},
   "outputs": [],
   "source": [
    "pred7 = prediction[249990:250000]\n",
    "lst = pred7.tolist()\n"
   ]
  },
  {
   "cell_type": "code",
   "execution_count": 51,
   "metadata": {},
   "outputs": [
    {
     "name": "stdout",
     "output_type": "stream",
     "text": [
      "[[0, 0, 1, 0, 0, 0, 0, 0, 0, 0, 0, 0, 0, 0, 0, 0, 0, 0, 0, 0, 0, 0, 0, 0], [0, 0, 9, 0, 7, 0, 1, 0, 0, 0, 0, 0, 3, 0, 0, 0, 0, 4, 2, 0, 0, 6, 5, 8], [0, 0, 7, 0, 0, 2, 1, 6, 5, 0, 0, 0, 4, 0, 0, 0, 0, 3, 0, 0, 0, 0, 0, 0], [0, 0, 1, 0, 0, 0, 0, 0, 0, 0, 0, 0, 0, 0, 0, 0, 0, 0, 0, 0, 0, 0, 0, 0], [0, 0, 7, 0, 0, 1, 2, 6, 5, 0, 0, 0, 4, 0, 0, 0, 0, 3, 0, 0, 0, 0, 0, 0], [0, 0, 16, 0, 14, 7, 4, 8, 5, 0, 0, 6, 13, 2, 0, 1, 0, 10, 9, 3, 0, 12, 11, 15], [0, 0, 1, 0, 0, 0, 0, 0, 0, 0, 0, 0, 0, 0, 0, 0, 0, 0, 0, 0, 0, 0, 0, 0], [0, 0, 7, 0, 0, 1, 2, 6, 5, 0, 0, 0, 4, 0, 0, 0, 0, 3, 0, 0, 0, 0, 0, 0], [0, 0, 7, 0, 0, 2, 1, 6, 4, 0, 0, 0, 5, 0, 0, 0, 0, 3, 0, 0, 0, 0, 0, 0], [0, 0, 16, 0, 14, 5, 4, 8, 6, 0, 0, 7, 13, 2, 0, 1, 0, 10, 9, 3, 0, 12, 11, 15]]\n"
     ]
    }
   ],
   "source": [
    "val = []\n",
    "for row in lst:\n",
    "    val.append(changeArr(row))\n",
    "print(val)"
   ]
  },
  {
   "cell_type": "code",
   "execution_count": 52,
   "metadata": {},
   "outputs": [],
   "source": [
    "y_col = ['Derivative_Acct',\n",
    "       'Payroll_Acct', 'Junior_Acct', 'Mas_Particular_Acct', 'Particular_Acct',\n",
    "       'Particular_Plus_Acct', 'Short_Term_Deposits', 'Med_Term_Deposits',\n",
    "       'Long_Term_Deposits', 'e-Acct', 'Funds', 'Mortgage', 'Pension1',\n",
    "       'Loans', 'Taxes', 'Credit_Card', 'Securities', 'Home_Acct', 'Payroll',\n",
    "       'Pension2', 'Direct_Debit', 'Savings_Acct', 'Guarantees', 'Cur_Acct']"
   ]
  },
  {
   "cell_type": "code",
   "execution_count": 53,
   "metadata": {},
   "outputs": [
    {
     "name": "stdout",
     "output_type": "stream",
     "text": [
      "--------\n",
      "Junior_Acct\n",
      "--------\n",
      "Junior_Acct\n",
      "Cur_Acct\n",
      "Particular_Acct\n",
      "Savings_Acct\n",
      "Guarantees\n",
      "Home_Acct\n",
      "Pension1\n",
      "Payroll\n",
      "Short_Term_Deposits\n",
      "--------\n",
      "Junior_Acct\n",
      "Med_Term_Deposits\n",
      "Long_Term_Deposits\n",
      "Pension1\n",
      "Home_Acct\n",
      "Particular_Plus_Acct\n",
      "Short_Term_Deposits\n",
      "--------\n",
      "Junior_Acct\n",
      "--------\n",
      "Junior_Acct\n",
      "Med_Term_Deposits\n",
      "Long_Term_Deposits\n",
      "Pension1\n",
      "Home_Acct\n",
      "Short_Term_Deposits\n",
      "Particular_Plus_Acct\n",
      "--------\n",
      "Junior_Acct\n",
      "Cur_Acct\n",
      "Particular_Acct\n",
      "Pension1\n",
      "Savings_Acct\n",
      "Guarantees\n",
      "Home_Acct\n",
      "Payroll\n",
      "Med_Term_Deposits\n",
      "Particular_Plus_Acct\n",
      "Mortgage\n",
      "Long_Term_Deposits\n",
      "Short_Term_Deposits\n",
      "Pension2\n",
      "Loans\n",
      "Credit_Card\n",
      "--------\n",
      "Junior_Acct\n",
      "--------\n",
      "Junior_Acct\n",
      "Med_Term_Deposits\n",
      "Long_Term_Deposits\n",
      "Pension1\n",
      "Home_Acct\n",
      "Short_Term_Deposits\n",
      "Particular_Plus_Acct\n",
      "--------\n",
      "Junior_Acct\n",
      "Med_Term_Deposits\n",
      "Pension1\n",
      "Long_Term_Deposits\n",
      "Home_Acct\n",
      "Particular_Plus_Acct\n",
      "Short_Term_Deposits\n",
      "--------\n",
      "Junior_Acct\n",
      "Cur_Acct\n",
      "Particular_Acct\n",
      "Pension1\n",
      "Savings_Acct\n",
      "Guarantees\n",
      "Home_Acct\n",
      "Payroll\n",
      "Med_Term_Deposits\n",
      "Mortgage\n",
      "Long_Term_Deposits\n",
      "Particular_Plus_Acct\n",
      "Short_Term_Deposits\n",
      "Pension2\n",
      "Loans\n",
      "Credit_Card\n"
     ]
    }
   ],
   "source": [
    "for row in val:\n",
    "    zip_iterator = zip(y_col, row)\n",
    "    a_dictionary = dict(zip_iterator)\n",
    "    import operator\n",
    "    sorted_dict = sorted(a_dictionary.items(), \\\n",
    "                key = operator.itemgetter(1), reverse=True)\n",
    "    \n",
    "    # Printing sorted dictionary\n",
    "    print(\"--------\")\n",
    "    #print(sorted_dict)\n",
    "    for i in sorted_dict:\n",
    "        if i[1]>0 :\n",
    "            print(i[0])"
   ]
  },
  {
   "cell_type": "code",
   "execution_count": null,
   "metadata": {},
   "outputs": [],
   "source": []
  },
  {
   "cell_type": "code",
   "execution_count": null,
   "metadata": {},
   "outputs": [],
   "source": []
  },
  {
   "cell_type": "code",
   "execution_count": 51,
   "metadata": {},
   "outputs": [
    {
     "data": {
      "text/plain": [
       "Status_Dt                           2016-05-28\n",
       "Cust_ID                                1473262\n",
       "Emp_Status                                   N\n",
       "Cust_Ctry                                   ES\n",
       "Cust_Sex                                     H\n",
       "Age                                         57\n",
       "Join_Dt                             2015-10-08\n",
       "Is_New_Cust                                0.0\n",
       "Cust_Since                                   7\n",
       "Relship_Status                             1.0\n",
       "Lst_Dt_Primary_Cust                        NaN\n",
       "Cust_Type_Mth_Beg                            1\n",
       "Cust_Relship_Type_Mth_Beg                    A\n",
       "Residence_Ctry                               S\n",
       "Is_Foreigner                                 N\n",
       "Is_Spouse_Emp                              NaN\n",
       "Join_Channel                               KHN\n",
       "Deceased_Flg                                 N\n",
       "Address_Type                               1.0\n",
       "Cust_Province_Cd                          46.0\n",
       "Cust_Province_Name                    VALENCIA\n",
       "Cust_Active_Status                         1.0\n",
       "Gross_HHLD_Income                          NaN\n",
       "Cust_Segment                 02 - PARTICULARES\n",
       "Savings_Acct                                 0\n",
       "Guarantees                                   0\n",
       "Cur_Acct                                     1\n",
       "Derivative_Acct                              0\n",
       "Payroll_Acct                                 0\n",
       "Junior_Acct                                  0\n",
       "Mas_Particular_Acct                          0\n",
       "Particular_Acct                              0\n",
       "Particular_Plus_Acct                         0\n",
       "Short_Term_Deposits                          0\n",
       "Med_Term_Deposits                            0\n",
       "Long_Term_Deposits                           0\n",
       "e-Acct                                       0\n",
       "Funds                                        0\n",
       "Mortgage                                     0\n",
       "Pension1                                     0\n",
       "Loans                                        0\n",
       "Taxes                                        0\n",
       "Credit_Card                                  0\n",
       "Securities                                   0\n",
       "Home_Acct                                    0\n",
       "Payroll                                    0.0\n",
       "Pension2                                   0.0\n",
       "Direct_Debit                                 1\n",
       "Name: 750001, dtype: object"
      ]
     },
     "execution_count": 51,
     "metadata": {},
     "output_type": "execute_result"
    }
   ],
   "source": [
    "dff.loc[750001]"
   ]
  },
  {
   "cell_type": "code",
   "execution_count": 48,
   "metadata": {},
   "outputs": [
    {
     "data": {
      "text/html": [
       "<div>\n",
       "<style scoped>\n",
       "    .dataframe tbody tr th:only-of-type {\n",
       "        vertical-align: middle;\n",
       "    }\n",
       "\n",
       "    .dataframe tbody tr th {\n",
       "        vertical-align: top;\n",
       "    }\n",
       "\n",
       "    .dataframe thead th {\n",
       "        text-align: right;\n",
       "    }\n",
       "</style>\n",
       "<table border=\"1\" class=\"dataframe\">\n",
       "  <thead>\n",
       "    <tr style=\"text-align: right;\">\n",
       "      <th></th>\n",
       "      <th>Emp_Status</th>\n",
       "      <th>Cust_Sex</th>\n",
       "      <th>Age</th>\n",
       "      <th>Is_New_Cust</th>\n",
       "      <th>Cust_Since</th>\n",
       "      <th>Cust_Relship_Type_Mth_Beg</th>\n",
       "      <th>Residence_Ctry</th>\n",
       "      <th>Join_Channel</th>\n",
       "      <th>Cust_Province_Cd</th>\n",
       "      <th>Cust_Province_Name</th>\n",
       "      <th>Cust_Active_Status</th>\n",
       "      <th>Gross_HHLD_Income</th>\n",
       "      <th>Cust_Segment</th>\n",
       "      <th>Monthly</th>\n",
       "    </tr>\n",
       "  </thead>\n",
       "  <tbody>\n",
       "    <tr>\n",
       "      <th>157105</th>\n",
       "      <td>3</td>\n",
       "      <td>1</td>\n",
       "      <td>0.203704</td>\n",
       "      <td>0.0</td>\n",
       "      <td>0.999868</td>\n",
       "      <td>1</td>\n",
       "      <td>1</td>\n",
       "      <td>20</td>\n",
       "      <td>-0.042191</td>\n",
       "      <td>39</td>\n",
       "      <td>-0.849968</td>\n",
       "      <td>0.006063</td>\n",
       "      <td>1</td>\n",
       "      <td>1.0</td>\n",
       "    </tr>\n",
       "    <tr>\n",
       "      <th>374554</th>\n",
       "      <td>3</td>\n",
       "      <td>0</td>\n",
       "      <td>0.253086</td>\n",
       "      <td>0.0</td>\n",
       "      <td>0.999991</td>\n",
       "      <td>0</td>\n",
       "      <td>1</td>\n",
       "      <td>24</td>\n",
       "      <td>0.113210</td>\n",
       "      <td>30</td>\n",
       "      <td>1.176515</td>\n",
       "      <td>0.009077</td>\n",
       "      <td>1</td>\n",
       "      <td>1.0</td>\n",
       "    </tr>\n",
       "    <tr>\n",
       "      <th>688694</th>\n",
       "      <td>3</td>\n",
       "      <td>1</td>\n",
       "      <td>0.283951</td>\n",
       "      <td>1.0</td>\n",
       "      <td>0.999744</td>\n",
       "      <td>1</td>\n",
       "      <td>1</td>\n",
       "      <td>150</td>\n",
       "      <td>-0.974597</td>\n",
       "      <td>17</td>\n",
       "      <td>1.176515</td>\n",
       "      <td>0.003429</td>\n",
       "      <td>1</td>\n",
       "      <td>1.0</td>\n",
       "    </tr>\n",
       "    <tr>\n",
       "      <th>265381</th>\n",
       "      <td>3</td>\n",
       "      <td>1</td>\n",
       "      <td>0.277778</td>\n",
       "      <td>0.0</td>\n",
       "      <td>0.999838</td>\n",
       "      <td>0</td>\n",
       "      <td>1</td>\n",
       "      <td>122</td>\n",
       "      <td>-1.673902</td>\n",
       "      <td>5</td>\n",
       "      <td>1.176515</td>\n",
       "      <td>0.002497</td>\n",
       "      <td>1</td>\n",
       "      <td>1.0</td>\n",
       "    </tr>\n",
       "    <tr>\n",
       "      <th>955415</th>\n",
       "      <td>3</td>\n",
       "      <td>0</td>\n",
       "      <td>0.123457</td>\n",
       "      <td>0.0</td>\n",
       "      <td>0.999778</td>\n",
       "      <td>1</td>\n",
       "      <td>1</td>\n",
       "      <td>150</td>\n",
       "      <td>-0.896897</td>\n",
       "      <td>18</td>\n",
       "      <td>1.176515</td>\n",
       "      <td>0.001856</td>\n",
       "      <td>2</td>\n",
       "      <td>1.0</td>\n",
       "    </tr>\n",
       "  </tbody>\n",
       "</table>\n",
       "</div>"
      ],
      "text/plain": [
       "        Emp_Status  Cust_Sex       Age  Is_New_Cust  Cust_Since  \\\n",
       "157105           3         1  0.203704          0.0    0.999868   \n",
       "374554           3         0  0.253086          0.0    0.999991   \n",
       "688694           3         1  0.283951          1.0    0.999744   \n",
       "265381           3         1  0.277778          0.0    0.999838   \n",
       "955415           3         0  0.123457          0.0    0.999778   \n",
       "\n",
       "        Cust_Relship_Type_Mth_Beg  Residence_Ctry  Join_Channel  \\\n",
       "157105                          1               1            20   \n",
       "374554                          0               1            24   \n",
       "688694                          1               1           150   \n",
       "265381                          0               1           122   \n",
       "955415                          1               1           150   \n",
       "\n",
       "        Cust_Province_Cd  Cust_Province_Name  Cust_Active_Status  \\\n",
       "157105         -0.042191                  39           -0.849968   \n",
       "374554          0.113210                  30            1.176515   \n",
       "688694         -0.974597                  17            1.176515   \n",
       "265381         -1.673902                   5            1.176515   \n",
       "955415         -0.896897                  18            1.176515   \n",
       "\n",
       "        Gross_HHLD_Income  Cust_Segment  Monthly  \n",
       "157105           0.006063             1      1.0  \n",
       "374554           0.009077             1      1.0  \n",
       "688694           0.003429             1      1.0  \n",
       "265381           0.002497             1      1.0  \n",
       "955415           0.001856             2      1.0  "
      ]
     },
     "execution_count": 48,
     "metadata": {},
     "output_type": "execute_result"
    }
   ],
   "source": [
    "X_test.loc[54510]"
   ]
  },
  {
   "cell_type": "code",
   "execution_count": 34,
   "metadata": {},
   "outputs": [
    {
     "data": {
      "text/plain": [
       "['Emp_Status',\n",
       " 'Cust_Sex',\n",
       " 'Age',\n",
       " 'Is_New_Cust',\n",
       " 'Cust_Since',\n",
       " 'Cust_Relship_Type_Mth_Beg',\n",
       " 'Residence_Ctry',\n",
       " 'Join_Channel',\n",
       " 'Cust_Province_Cd',\n",
       " 'Cust_Province_Name',\n",
       " 'Cust_Active_Status',\n",
       " 'Gross_HHLD_Income',\n",
       " 'Cust_Segment',\n",
       " 'Monthly']"
      ]
     },
     "execution_count": 34,
     "metadata": {},
     "output_type": "execute_result"
    }
   ],
   "source": [
    "x_col"
   ]
  },
  {
   "cell_type": "code",
   "execution_count": 35,
   "metadata": {},
   "outputs": [
    {
     "data": {
      "text/plain": [
       "['Emp_Status',\n",
       " 'Cust_Sex',\n",
       " 'Cust_Relship_Type_Mth_Beg',\n",
       " 'Join_Channel',\n",
       " 'Cust_Segment',\n",
       " 'Residence_Ctry',\n",
       " 'Cust_Province_Name']"
      ]
     },
     "execution_count": 35,
     "metadata": {},
     "output_type": "execute_result"
    }
   ],
   "source": [
    "encoder_list"
   ]
  },
  {
   "cell_type": "code",
   "execution_count": 36,
   "metadata": {},
   "outputs": [
    {
     "data": {
      "text/plain": [
       "['Cust_Province_Cd', 'Cust_Active_Status']"
      ]
     },
     "execution_count": 36,
     "metadata": {},
     "output_type": "execute_result"
    }
   ],
   "source": [
    "scale_list"
   ]
  },
  {
   "cell_type": "code",
   "execution_count": 37,
   "metadata": {},
   "outputs": [
    {
     "data": {
      "text/plain": [
       "['Age', 'Gross_HHLD_Income', 'Cust_Since', 'Monthly']"
      ]
     },
     "execution_count": 37,
     "metadata": {},
     "output_type": "execute_result"
    }
   ],
   "source": [
    "normalise_list"
   ]
  },
  {
   "cell_type": "code",
   "execution_count": 49,
   "metadata": {},
   "outputs": [
    {
     "name": "stderr",
     "output_type": "stream",
     "text": [
      "C:\\Users\\Fahad.A\\AppData\\Local\\Temp\\ipykernel_12516\\59840115.py:1: DtypeWarning: Columns (10,11,15) have mixed types. Specify dtype option on import or set low_memory=False.\n",
      "  dff= pd.read_csv('sliced.csv')\n"
     ]
    },
    {
     "data": {
      "text/plain": [
       "Status_Dt                            2016-04-28\n",
       "Cust_ID                                 1229082\n",
       "Emp_Status                                    N\n",
       "Cust_Ctry                                    ES\n",
       "Cust_Sex                                      V\n",
       "Age                                          22\n",
       "Join_Dt                              2013-12-04\n",
       "Is_New_Cust                                 0.0\n",
       "Cust_Since                                   28\n",
       "Relship_Status                              1.0\n",
       "Lst_Dt_Primary_Cust                         NaN\n",
       "Cust_Type_Mth_Beg                           1.0\n",
       "Cust_Relship_Type_Mth_Beg                     I\n",
       "Residence_Ctry                                S\n",
       "Is_Foreigner                                  N\n",
       "Is_Spouse_Emp                               NaN\n",
       "Join_Channel                                KHE\n",
       "Deceased_Flg                                  N\n",
       "Address_Type                                1.0\n",
       "Cust_Province_Cd                           46.0\n",
       "Cust_Province_Name                     VALENCIA\n",
       "Cust_Active_Status                          0.0\n",
       "Gross_HHLD_Income                      78308.19\n",
       "Cust_Segment                 03 - UNIVERSITARIO\n",
       "Savings_Acct                                  0\n",
       "Guarantees                                    0\n",
       "Cur_Acct                                      0\n",
       "Derivative_Acct                               0\n",
       "Payroll_Acct                                  0\n",
       "Junior_Acct                                   0\n",
       "Mas_Particular_Acct                           0\n",
       "Particular_Acct                               0\n",
       "Particular_Plus_Acct                          0\n",
       "Short_Term_Deposits                           0\n",
       "Med_Term_Deposits                             0\n",
       "Long_Term_Deposits                            0\n",
       "e-Acct                                        0\n",
       "Funds                                         0\n",
       "Mortgage                                      0\n",
       "Pension1                                      0\n",
       "Loans                                         0\n",
       "Taxes                                         0\n",
       "Credit_Card                                   0\n",
       "Securities                                    0\n",
       "Home_Acct                                     0\n",
       "Payroll                                     0.0\n",
       "Pension2                                    0.0\n",
       "Direct_Debit                                  0\n",
       "Name: 0, dtype: object"
      ]
     },
     "execution_count": 49,
     "metadata": {},
     "output_type": "execute_result"
    }
   ],
   "source": [
    "dff= pd.read_csv('sliced.csv')\n",
    "dff.loc[0]   #7830  8.19 28"
   ]
  },
  {
   "cell_type": "code",
   "execution_count": 6,
   "metadata": {},
   "outputs": [
    {
     "data": {
      "text/plain": [
       "Status_Dt                           2016-04-28\n",
       "Cust_ID                                1303924\n",
       "Emp_Status                                   N\n",
       "Cust_Ctry                                   ES\n",
       "Cust_Sex                                     H\n",
       "Age                                         57\n",
       "Join_Dt                             2014-09-09\n",
       "Is_New_Cust                                0.0\n",
       "Cust_Since                                  19\n",
       "Relship_Status                             1.0\n",
       "Lst_Dt_Primary_Cust                        NaN\n",
       "Cust_Type_Mth_Beg                          1.0\n",
       "Cust_Relship_Type_Mth_Beg                    I\n",
       "Residence_Ctry                               S\n",
       "Is_Foreigner                                 N\n",
       "Is_Spouse_Emp                              NaN\n",
       "Join_Channel                               KFC\n",
       "Deceased_Flg                                 N\n",
       "Address_Type                               1.0\n",
       "Cust_Province_Cd                          31.0\n",
       "Cust_Province_Name                     NAVARRA\n",
       "Cust_Active_Status                         1.0\n",
       "Gross_HHLD_Income                          NaN\n",
       "Cust_Segment                 02 - PARTICULARES\n",
       "Savings_Acct                                 0\n",
       "Guarantees                                   0\n",
       "Cur_Acct                                     0\n",
       "Derivative_Acct                              0\n",
       "Payroll_Acct                                 0\n",
       "Junior_Acct                                  0\n",
       "Mas_Particular_Acct                          0\n",
       "Particular_Acct                              0\n",
       "Particular_Plus_Acct                         0\n",
       "Short_Term_Deposits                          0\n",
       "Med_Term_Deposits                            0\n",
       "Long_Term_Deposits                           0\n",
       "e-Acct                                       1\n",
       "Funds                                        0\n",
       "Mortgage                                     0\n",
       "Pension1                                     0\n",
       "Loans                                        0\n",
       "Taxes                                        0\n",
       "Credit_Card                                  0\n",
       "Securities                                   0\n",
       "Home_Acct                                    0\n",
       "Payroll                                    0.0\n",
       "Pension2                                   0.0\n",
       "Direct_Debit                                 0\n",
       "Name: 54510, dtype: object"
      ]
     },
     "execution_count": 6,
     "metadata": {},
     "output_type": "execute_result"
    }
   ],
   "source": [
    "dff.loc[54510]"
   ]
  },
  {
   "cell_type": "code",
   "execution_count": 5,
   "metadata": {},
   "outputs": [
    {
     "data": {
      "text/plain": [
       "Status_Dt                           2016-05-28\n",
       "Cust_ID                                 697619\n",
       "Emp_Status                                   N\n",
       "Cust_Ctry                                   ES\n",
       "Cust_Sex                                     V\n",
       "Age                                         52\n",
       "Join_Dt                             2007-06-16\n",
       "Is_New_Cust                                0.0\n",
       "Cust_Since                                 107\n",
       "Relship_Status                             1.0\n",
       "Lst_Dt_Primary_Cust                        NaN\n",
       "Cust_Type_Mth_Beg                          1.0\n",
       "Cust_Relship_Type_Mth_Beg                    I\n",
       "Residence_Ctry                               S\n",
       "Is_Foreigner                                 N\n",
       "Is_Spouse_Emp                              NaN\n",
       "Join_Channel                               KAG\n",
       "Deceased_Flg                                 N\n",
       "Address_Type                               1.0\n",
       "Cust_Province_Cd                          28.0\n",
       "Cust_Province_Name                      MADRID\n",
       "Cust_Active_Status                         0.0\n",
       "Gross_HHLD_Income                     130500.0\n",
       "Cust_Segment                 02 - PARTICULARES\n",
       "Savings_Acct                                 0\n",
       "Guarantees                                   0\n",
       "Cur_Acct                                     1\n",
       "Derivative_Acct                              0\n",
       "Payroll_Acct                                 0\n",
       "Junior_Acct                                  0\n",
       "Mas_Particular_Acct                          0\n",
       "Particular_Acct                              0\n",
       "Particular_Plus_Acct                         0\n",
       "Short_Term_Deposits                          0\n",
       "Med_Term_Deposits                            0\n",
       "Long_Term_Deposits                           0\n",
       "e-Acct                                       0\n",
       "Funds                                        0\n",
       "Mortgage                                     0\n",
       "Pension1                                     0\n",
       "Loans                                        0\n",
       "Taxes                                        0\n",
       "Credit_Card                                  0\n",
       "Securities                                   0\n",
       "Home_Acct                                    0\n",
       "Payroll                                    0.0\n",
       "Pension2                                   0.0\n",
       "Direct_Debit                                 0\n",
       "Name: 124540, dtype: object"
      ]
     },
     "execution_count": 5,
     "metadata": {},
     "output_type": "execute_result"
    }
   ],
   "source": [
    "dff.loc[124540]"
   ]
  },
  {
   "cell_type": "code",
   "execution_count": 39,
   "metadata": {},
   "outputs": [],
   "source": [
    "lst = []\n",
    "for i in range(len(scale_list)):\n",
    "    ele = float(input())\n",
    "    lst.append(ele)"
   ]
  },
  {
   "cell_type": "code",
   "execution_count": 40,
   "metadata": {},
   "outputs": [],
   "source": [
    "lst = np.asarray(lst)"
   ]
  },
  {
   "cell_type": "code",
   "execution_count": 41,
   "metadata": {},
   "outputs": [],
   "source": [
    "B = np.reshape(lst, (1, 2))"
   ]
  },
  {
   "cell_type": "code",
   "execution_count": 42,
   "metadata": {},
   "outputs": [
    {
     "data": {
      "text/plain": [
       "array([[46.,  0.]])"
      ]
     },
     "execution_count": 42,
     "metadata": {},
     "output_type": "execute_result"
    }
   ],
   "source": [
    "B"
   ]
  },
  {
   "cell_type": "code",
   "execution_count": 43,
   "metadata": {},
   "outputs": [],
   "source": [
    "B = scaler.transform(B)"
   ]
  },
  {
   "cell_type": "code",
   "execution_count": 44,
   "metadata": {},
   "outputs": [
    {
     "data": {
      "text/plain": [
       "array([[ 1.51181861, -0.84996775]])"
      ]
     },
     "execution_count": 44,
     "metadata": {},
     "output_type": "execute_result"
    }
   ],
   "source": [
    "B"
   ]
  },
  {
   "cell_type": "code",
   "execution_count": 79,
   "metadata": {},
   "outputs": [
    {
     "data": {
      "text/plain": [
       "-0.8499677542013256"
      ]
     },
     "execution_count": 79,
     "metadata": {},
     "output_type": "execute_result"
    }
   ],
   "source": [
    "B[0][1]"
   ]
  },
  {
   "cell_type": "code",
   "execution_count": 45,
   "metadata": {},
   "outputs": [
    {
     "data": {
      "text/plain": [
       "4"
      ]
     },
     "execution_count": 45,
     "metadata": {},
     "output_type": "execute_result"
    }
   ],
   "source": [
    "date = input()\n",
    "\n",
    "x = date.split('-')\n",
    "\n",
    "month = int(x[1])\n",
    "month"
   ]
  },
  {
   "cell_type": "code",
   "execution_count": 46,
   "metadata": {},
   "outputs": [],
   "source": [
    "lst = []\n",
    "for i in range(3):\n",
    "    ele = float(input())\n",
    "    lst.append(ele)"
   ]
  },
  {
   "cell_type": "code",
   "execution_count": 47,
   "metadata": {},
   "outputs": [],
   "source": [
    "lst.append(month)\n",
    "lst = np.asarray(lst)"
   ]
  },
  {
   "cell_type": "code",
   "execution_count": 48,
   "metadata": {},
   "outputs": [
    {
     "data": {
      "text/plain": [
       "array([2.200000e+01, 7.830819e+04, 2.800000e+01, 4.000000e+00])"
      ]
     },
     "execution_count": 48,
     "metadata": {},
     "output_type": "execute_result"
    }
   ],
   "source": [
    "lst"
   ]
  },
  {
   "cell_type": "code",
   "execution_count": 49,
   "metadata": {},
   "outputs": [],
   "source": [
    "A = np.reshape(lst, (1, 4))"
   ]
  },
  {
   "cell_type": "code",
   "execution_count": 50,
   "metadata": {},
   "outputs": [
    {
     "data": {
      "text/plain": [
       "array([[2.200000e+01, 7.830819e+04, 2.800000e+01, 4.000000e+00]])"
      ]
     },
     "execution_count": 50,
     "metadata": {},
     "output_type": "execute_result"
    }
   ],
   "source": [
    "A"
   ]
  },
  {
   "cell_type": "code",
   "execution_count": 51,
   "metadata": {},
   "outputs": [],
   "source": [
    "A = scaler_1.transform(A)"
   ]
  },
  {
   "cell_type": "code",
   "execution_count": 52,
   "metadata": {},
   "outputs": [
    {
     "data": {
      "text/plain": [
       "array([[0.12345679, 0.00266864, 0.99977206, 0.        ]])"
      ]
     },
     "execution_count": 52,
     "metadata": {},
     "output_type": "execute_result"
    }
   ],
   "source": [
    "A"
   ]
  },
  {
   "cell_type": "code",
   "execution_count": 81,
   "metadata": {},
   "outputs": [
    {
     "data": {
      "text/plain": [
       "0.0"
      ]
     },
     "execution_count": 81,
     "metadata": {},
     "output_type": "execute_result"
    }
   ],
   "source": [
    "A[0][2]"
   ]
  },
  {
   "cell_type": "code",
   "execution_count": null,
   "metadata": {},
   "outputs": [],
   "source": [
    "lst = []\n",
    "for i in range(len(scale_list)):\n",
    "    ele = float(input())\n",
    "    lst.append(ele)\n",
    "lst = np.asarray(lst)\n",
    "B = np.reshape(lst, (1, 2))\n",
    "B = scaler.transform(B)\n",
    "date = input()\n",
    "\n",
    "x = date.split('-')\n",
    "\n",
    "month = int(x[1])\n",
    "month\n",
    "\n",
    "lst = []\n",
    "for i in range(3):\n",
    "    ele = float(input())\n",
    "    lst.append(ele)\n",
    "\n",
    "lst.append(month)\n",
    "lst = np.asarray(lst)\n",
    "A = np.reshape(lst, (1, 4))\n",
    "A = scaler_1.transform(A)"
   ]
  },
  {
   "cell_type": "code",
   "execution_count": 53,
   "metadata": {},
   "outputs": [],
   "source": [
    "lst = []\n",
    "Emp_Stat = input()\n",
    "lst.append(Emp_Stat)\n",
    "Emp_Stat = le.transform(lst)"
   ]
  },
  {
   "cell_type": "code",
   "execution_count": 54,
   "metadata": {},
   "outputs": [
    {
     "data": {
      "text/plain": [
       "3"
      ]
     },
     "execution_count": 54,
     "metadata": {},
     "output_type": "execute_result"
    }
   ],
   "source": [
    "Emp_Sta = Emp_Stat[0]\n",
    "Emp_Sta"
   ]
  },
  {
   "cell_type": "code",
   "execution_count": null,
   "metadata": {},
   "outputs": [],
   "source": [
    "lst = []\n",
    "Emp_Stat = input()\n",
    "lst.append(Emp_Stat)\n",
    "Emp_Stat = le.transform(lst)\n",
    "Emp_Sta = Emp_Stat[0]\n",
    "lst = []\n",
    "CSex = input()\n",
    "lst.append(CSex)\n",
    "CSex = le0.transform(lst)\n",
    "Sex = CSex[0]\n",
    "lst = []\n",
    "Cust_Relship = input()\n",
    "lst.append(Cust_Relship)\n",
    "Cust_Relship = le2.transform(lst)\n",
    "Cust_Rel = Cust_Relship[0]\n",
    "lst = []\n",
    "Join_Chan = input()\n",
    "lst.append(Join_Chan)\n",
    "Join_Chan = le3.transform(lst)\n",
    "Join_Ch = Join_Chan[0]\n",
    "lst = []\n",
    "Cust_Seg = input()\n",
    "lst.append(Cust_Seg)\n",
    "Cust_Seg = le4.transform(lst)\n",
    "Seg = Cust_Seg[0]\n",
    "lst = []\n",
    "Residence_Ctr = input()\n",
    "lst.append(Residence_Ctr)\n",
    "Residence_Ctr = le5.transform(lst)\n",
    "Country = Residence_Ctr[0]\n",
    "lst = []\n",
    "Cust_Province = input()\n",
    "lst.append(Cust_Province)\n",
    "Cust_Province = le7.transform(lst)\n",
    "Province = Cust_Province[0]\n"
   ]
  },
  {
   "cell_type": "code",
   "execution_count": 55,
   "metadata": {},
   "outputs": [
    {
     "data": {
      "text/plain": [
       "1"
      ]
     },
     "execution_count": 55,
     "metadata": {},
     "output_type": "execute_result"
    }
   ],
   "source": [
    "lst = []\n",
    "CSex = input()\n",
    "lst.append(CSex)\n",
    "CSex = le0.transform(lst)\n",
    "Sex = CSex[0]\n",
    "Sex"
   ]
  },
  {
   "cell_type": "code",
   "execution_count": 56,
   "metadata": {},
   "outputs": [
    {
     "data": {
      "text/plain": [
       "1"
      ]
     },
     "execution_count": 56,
     "metadata": {},
     "output_type": "execute_result"
    }
   ],
   "source": [
    "lst = []\n",
    "Cust_Relship = input()\n",
    "lst.append(Cust_Relship)\n",
    "Cust_Relship = le2.transform(lst)\n",
    "Cust_Rel = Cust_Relship[0]\n",
    "Cust_Rel"
   ]
  },
  {
   "cell_type": "code",
   "execution_count": 57,
   "metadata": {},
   "outputs": [
    {
     "data": {
      "text/plain": [
       "150"
      ]
     },
     "execution_count": 57,
     "metadata": {},
     "output_type": "execute_result"
    }
   ],
   "source": [
    "lst = []\n",
    "Join_Chan = input()\n",
    "lst.append(Join_Chan)\n",
    "Join_Chan = le3.transform(lst)\n",
    "Join_Ch = Join_Chan[0]\n",
    "Join_Ch"
   ]
  },
  {
   "cell_type": "code",
   "execution_count": 58,
   "metadata": {},
   "outputs": [
    {
     "data": {
      "text/plain": [
       "2"
      ]
     },
     "execution_count": 58,
     "metadata": {},
     "output_type": "execute_result"
    }
   ],
   "source": [
    "lst = []\n",
    "Cust_Seg = input()\n",
    "lst.append(Cust_Seg)\n",
    "Cust_Seg = le4.transform(lst)\n",
    "Seg = Cust_Seg[0]\n",
    "Seg"
   ]
  },
  {
   "cell_type": "code",
   "execution_count": 59,
   "metadata": {},
   "outputs": [
    {
     "data": {
      "text/plain": [
       "1"
      ]
     },
     "execution_count": 59,
     "metadata": {},
     "output_type": "execute_result"
    }
   ],
   "source": [
    "lst = []\n",
    "Residence_Ctr = input()\n",
    "lst.append(Residence_Ctr)\n",
    "Residence_Ctr = le5.transform(lst)\n",
    "Country = Residence_Ctr[0]\n",
    "Country"
   ]
  },
  {
   "cell_type": "code",
   "execution_count": 60,
   "metadata": {},
   "outputs": [
    {
     "data": {
      "text/plain": [
       "48"
      ]
     },
     "execution_count": 60,
     "metadata": {},
     "output_type": "execute_result"
    }
   ],
   "source": [
    "lst = []\n",
    "Cust_Province = input()\n",
    "lst.append(Cust_Province)\n",
    "Cust_Province = le7.transform(lst)\n",
    "Province = Cust_Province[0]\n",
    "Province"
   ]
  },
  {
   "cell_type": "markdown",
   "metadata": {},
   "source": [
    "['Emp_Status',\n",
    " 'Cust_Sex',\n",
    " 'Age',\n",
    " 'Is_New_Cust',\n",
    " 'Cust_Since',\n",
    " 'Cust_Relship_Type_Mth_Beg',\n",
    " 'Residence_Ctry',\n",
    " 'Join_Channel',\n",
    " 'Cust_Province_Cd',\n",
    " 'Cust_Province_Name',\n",
    " 'Cust_Active_Status',\n",
    " 'Gross_HHLD_Income',\n",
    " 'Cust_Segment',\n",
    " 'Monthly']"
   ]
  },
  {
   "cell_type": "code",
   "execution_count": 61,
   "metadata": {},
   "outputs": [
    {
     "name": "stdout",
     "output_type": "stream",
     "text": [
      "0.0\n"
     ]
    }
   ],
   "source": [
    "Is_New = float(input())\n",
    "print(Is_New)\n",
    "#Cust_Sin = int(input())\n",
    "#Cust_Sin"
   ]
  },
  {
   "cell_type": "code",
   "execution_count": 62,
   "metadata": {},
   "outputs": [],
   "source": [
    "lst = []\n",
    "lst.append(Emp_Sta)\n",
    "lst.append(Sex)\n",
    "lst.append(A[0][0])\n",
    "lst.append(Is_New)\n",
    "lst.append(A[0][2])\n",
    "lst.append(Cust_Rel)\n",
    "lst.append(Country)\n",
    "lst.append(Join_Ch)\n",
    "lst.append(B[0][0])\n",
    "lst.append(Province)\n",
    "lst.append(B[0][1])\n",
    "lst.append(A[0][1])\n",
    "lst.append(Seg)\n",
    "lst.append(A[0][3])"
   ]
  },
  {
   "cell_type": "code",
   "execution_count": 63,
   "metadata": {},
   "outputs": [],
   "source": [
    "lst = np.asarray(lst)"
   ]
  },
  {
   "cell_type": "code",
   "execution_count": 64,
   "metadata": {},
   "outputs": [
    {
     "data": {
      "text/plain": [
       "array([ 3.00000000e+00,  1.00000000e+00,  1.23456790e-01,  0.00000000e+00,\n",
       "        9.99772058e-01,  1.00000000e+00,  1.00000000e+00,  1.50000000e+02,\n",
       "        1.51181861e+00,  4.80000000e+01, -8.49967754e-01,  2.66863758e-03,\n",
       "        2.00000000e+00,  0.00000000e+00])"
      ]
     },
     "execution_count": 64,
     "metadata": {},
     "output_type": "execute_result"
    }
   ],
   "source": [
    "lst"
   ]
  },
  {
   "cell_type": "code",
   "execution_count": 65,
   "metadata": {},
   "outputs": [
    {
     "data": {
      "text/plain": [
       "(750000, 14)"
      ]
     },
     "execution_count": 65,
     "metadata": {},
     "output_type": "execute_result"
    }
   ],
   "source": [
    "X_train.shape"
   ]
  },
  {
   "cell_type": "code",
   "execution_count": 66,
   "metadata": {},
   "outputs": [
    {
     "data": {
      "text/plain": [
       "(14,)"
      ]
     },
     "execution_count": 66,
     "metadata": {},
     "output_type": "execute_result"
    }
   ],
   "source": [
    "lst.shape"
   ]
  },
  {
   "cell_type": "code",
   "execution_count": 67,
   "metadata": {},
   "outputs": [],
   "source": [
    "C = np.reshape(lst, (1, 14))"
   ]
  },
  {
   "cell_type": "code",
   "execution_count": 68,
   "metadata": {},
   "outputs": [
    {
     "data": {
      "text/plain": [
       "array([[ 3.00000000e+00,  1.00000000e+00,  1.23456790e-01,\n",
       "         0.00000000e+00,  9.99772058e-01,  1.00000000e+00,\n",
       "         1.00000000e+00,  1.50000000e+02,  1.51181861e+00,\n",
       "         4.80000000e+01, -8.49967754e-01,  2.66863758e-03,\n",
       "         2.00000000e+00,  0.00000000e+00]])"
      ]
     },
     "execution_count": 68,
     "metadata": {},
     "output_type": "execute_result"
    }
   ],
   "source": [
    "C"
   ]
  },
  {
   "cell_type": "code",
   "execution_count": 69,
   "metadata": {},
   "outputs": [
    {
     "name": "stdout",
     "output_type": "stream",
     "text": [
      "1/1 [==============================] - 0s 149ms/step\n"
     ]
    }
   ],
   "source": [
    "pred4=model.predict(C)"
   ]
  },
  {
   "cell_type": "code",
   "execution_count": 70,
   "metadata": {},
   "outputs": [
    {
     "data": {
      "text/plain": [
       "array([[  0.    ,   0.    , 139.7945,   0.    ,   0.    ,   0.    ,\n",
       "          0.    ,   0.    ,   0.    ,   0.    ,   0.    ,   0.    ,\n",
       "          0.    ,   0.    ,   0.    ,   0.    ,   0.    ,   0.    ,\n",
       "          0.    ,   0.    ,   0.    ,   0.    ,   0.    ,   0.    ]],\n",
       "      dtype=float32)"
      ]
     },
     "execution_count": 70,
     "metadata": {},
     "output_type": "execute_result"
    }
   ],
   "source": [
    "pred4"
   ]
  },
  {
   "cell_type": "code",
   "execution_count": 71,
   "metadata": {},
   "outputs": [
    {
     "name": "stdout",
     "output_type": "stream",
     "text": [
      "[0. 0. 1. 0. 0. 0. 0. 0. 0. 0. 0. 0. 0. 0. 0. 0. 0. 0. 0. 0. 0. 0. 0. 0.]\n"
     ]
    }
   ],
   "source": [
    "def changeArr(input1):\n",
    "    newArray = input1.copy() \n",
    "    newArray.sort()\n",
    "     \n",
    "    ranks = {}\n",
    "     \n",
    "    rank = 0\n",
    "     \n",
    "    for index in range(len(newArray)):\n",
    "        element = newArray[index]\n",
    "     \n",
    "        if element not in ranks:\n",
    "            ranks[element] = rank\n",
    "            rank += 1\n",
    "         \n",
    "    \n",
    "    for index in range(len(input1)):\n",
    "        element = input1[index]\n",
    "        input1[index] = ranks[input1[index]]\n",
    "\n",
    "pred5 = pred4[0]\n",
    "changeArr(pred5)\n",
    "print(pred5)"
   ]
  },
  {
   "cell_type": "code",
   "execution_count": 72,
   "metadata": {},
   "outputs": [
    {
     "name": "stdout",
     "output_type": "stream",
     "text": [
      "{'Derivative_Acct': 0.0, 'Payroll_Acct': 0.0, 'Junior_Acct': 1.0, 'Mas_Particular_Acct': 0.0, 'Particular_Acct': 0.0, 'Particular_Plus_Acct': 0.0, 'Short_Term_Deposits': 0.0, 'Med_Term_Deposits': 0.0, 'Long_Term_Deposits': 0.0, 'e-Acct': 0.0, 'Funds': 0.0, 'Mortgage': 0.0, 'Pension1': 0.0, 'Loans': 0.0, 'Taxes': 0.0, 'Credit_Card': 0.0, 'Securities': 0.0, 'Home_Acct': 0.0, 'Payroll': 0.0, 'Pension2': 0.0, 'Direct_Debit': 0.0, 'Savings_Acct': 0.0, 'Guarantees': 0.0, 'Cur_Acct': 0.0}\n"
     ]
    }
   ],
   "source": [
    "zip_iterator = zip(y_col, pred5)\n",
    "a_dictionary = dict(zip_iterator)\n",
    "\n",
    "print(a_dictionary)"
   ]
  },
  {
   "cell_type": "code",
   "execution_count": 73,
   "metadata": {},
   "outputs": [],
   "source": [
    "import operator"
   ]
  },
  {
   "cell_type": "code",
   "execution_count": 74,
   "metadata": {},
   "outputs": [
    {
     "name": "stdout",
     "output_type": "stream",
     "text": [
      "Sorted dictionary is :\n",
      "[('Junior_Acct', 1.0), ('Derivative_Acct', 0.0), ('Payroll_Acct', 0.0), ('Mas_Particular_Acct', 0.0), ('Particular_Acct', 0.0), ('Particular_Plus_Acct', 0.0), ('Short_Term_Deposits', 0.0), ('Med_Term_Deposits', 0.0), ('Long_Term_Deposits', 0.0), ('e-Acct', 0.0), ('Funds', 0.0), ('Mortgage', 0.0), ('Pension1', 0.0), ('Loans', 0.0), ('Taxes', 0.0), ('Credit_Card', 0.0), ('Securities', 0.0), ('Home_Acct', 0.0), ('Payroll', 0.0), ('Pension2', 0.0), ('Direct_Debit', 0.0), ('Savings_Acct', 0.0), ('Guarantees', 0.0), ('Cur_Acct', 0.0)]\n"
     ]
    }
   ],
   "source": [
    "import operator\n",
    "sorted_dict = sorted(a_dictionary.items(), \\\n",
    "             key = operator.itemgetter(1), reverse=True)\n",
    " \n",
    "# Printing sorted dictionary\n",
    "print(\"Sorted dictionary is :\")\n",
    "print(sorted_dict)"
   ]
  },
  {
   "cell_type": "code",
   "execution_count": 75,
   "metadata": {},
   "outputs": [
    {
     "name": "stdout",
     "output_type": "stream",
     "text": [
      "Junior_Acct\n"
     ]
    }
   ],
   "source": [
    "for i in sorted_dict:\n",
    "    if i[1]>0 :\n",
    "        print(i[0])"
   ]
  },
  {
   "cell_type": "code",
   "execution_count": 76,
   "metadata": {},
   "outputs": [],
   "source": [
    "pickle.dump(scaler, open('Scaled.pkl', 'wb'))\n",
    "pickle.dump(scaler_1, open('Minmaxed.pkl', 'wb'))\n",
    "pickle.dump(le, open('Encoded.pkl', 'wb'))\n",
    "pickle.dump(le0, open('Encoded0.pkl', 'wb'))\n",
    "pickle.dump(le2, open('Encoded2.pkl', 'wb'))\n",
    "pickle.dump(le3, open('Encoded3.pkl', 'wb'))\n",
    "pickle.dump(le4, open('Encoded4.pkl', 'wb'))\n",
    "pickle.dump(le5, open('Encoded5.pkl', 'wb'))\n",
    "pickle.dump(le7, open('Encoded7.pkl', 'wb'))"
   ]
  },
  {
   "cell_type": "code",
   "execution_count": 77,
   "metadata": {},
   "outputs": [
    {
     "name": "stdout",
     "output_type": "stream",
     "text": [
      "Model Saved!\n"
     ]
    }
   ],
   "source": [
    "model.save('Recommendation.h5')\n",
    "print('Model Saved!')"
   ]
  },
  {
   "cell_type": "code",
   "execution_count": 3,
   "metadata": {},
   "outputs": [],
   "source": [
    "scaled_model = pickle.load(open('Scaled.pkl', 'rb'))\n",
    "minmaxed_model = pickle.load(open('Minmaxed.pkl', 'rb'))\n",
    "Emp_Stat_model = pickle.load(open('Encoded.pkl', 'rb'))\n",
    "Sex_model = pickle.load(open('Encoded0.pkl', 'rb'))\n",
    "Cust_Rel_model = pickle.load(open('Encoded2.pkl', 'rb'))\n",
    "Join_Ch_pickled_model = pickle.load(open('Encoded3.pkl', 'rb'))\n",
    "Seg_pickled_model = pickle.load(open('Encoded4.pkl', 'rb'))\n",
    "Country_pickled_model = pickle.load(open('Encoded5.pkl', 'rb'))\n",
    "Provincename_pickled_model = pickle.load(open('Encoded7.pkl', 'rb'))"
   ]
  },
  {
   "cell_type": "code",
   "execution_count": 6,
   "metadata": {},
   "outputs": [],
   "source": [
    "lst = []\n",
    "Emp_Stat = input()\n",
    "lst.append(Emp_Stat)\n",
    "Emp_Stat = Emp_Stat_model.transform(lst)\n",
    "Emp_Sta = Emp_Stat[0]\n",
    "lst = []\n",
    "CSex = input()\n",
    "lst.append(CSex)\n",
    "CSex = Sex_model.transform(lst)\n",
    "Sex = CSex[0]\n",
    "lst = []\n",
    "Cust_Relship = input()\n",
    "lst.append(Cust_Relship)\n",
    "Cust_Relship = Cust_Rel_model.transform(lst)\n",
    "Cust_Rel = Cust_Relship[0]\n",
    "lst = []\n",
    "Join_Chan = input()\n",
    "lst.append(Join_Chan)\n",
    "Join_Chan = Join_Ch_pickled_model.transform(lst)\n",
    "Join_Ch = Join_Chan[0]\n",
    "lst = []\n",
    "Cust_Seg = input()\n",
    "lst.append(Cust_Seg)\n",
    "Cust_Seg = Seg_pickled_model.transform(lst)\n",
    "Seg = Cust_Seg[0]\n",
    "lst = []\n",
    "Residence_Ctr = input()\n",
    "lst.append(Residence_Ctr)\n",
    "Residence_Ctr = Country_pickled_model.transform(lst)\n",
    "Country = Residence_Ctr[0]\n",
    "lst = []\n",
    "Cust_Province = input()\n",
    "lst.append(Cust_Province)\n",
    "Cust_Province = Provincename_pickled_model.transform(lst)\n",
    "Province = Cust_Province[0]"
   ]
  },
  {
   "cell_type": "code",
   "execution_count": 7,
   "metadata": {},
   "outputs": [],
   "source": [
    "#['Cust_Province_Cd', 'Cust_Active_Status']\n",
    "#['Age', 'Gross_HHLD_Income', 'Cust_Since', 'Monthly']"
   ]
  },
  {
   "cell_type": "code",
   "execution_count": 9,
   "metadata": {},
   "outputs": [],
   "source": [
    "lst = []\n",
    "for i in range(2):\n",
    "    ele = float(input())\n",
    "    lst.append(ele)\n",
    "lst = np.asarray(lst)\n",
    "B = np.reshape(lst, (1, 2))\n",
    "B = scaled_model.transform(B)\n",
    "date = input()\n",
    "\n",
    "x = date.split('-')\n",
    "\n",
    "month = int(x[1])\n",
    "month\n",
    "\n",
    "lst = []\n",
    "for i in range(3):\n",
    "    ele = float(input())\n",
    "    lst.append(ele)\n",
    "\n",
    "lst.append(month)\n",
    "lst = np.asarray(lst)\n",
    "A = np.reshape(lst, (1, 4))\n",
    "A = minmaxed_model.transform(A)"
   ]
  },
  {
   "cell_type": "code",
   "execution_count": 10,
   "metadata": {},
   "outputs": [],
   "source": [
    "Is_New_cust = float(input())"
   ]
  },
  {
   "cell_type": "code",
   "execution_count": 11,
   "metadata": {},
   "outputs": [],
   "source": [
    "lst = []\n",
    "lst.append(Emp_Sta)\n",
    "lst.append(Sex)\n",
    "lst.append(A[0][0])\n",
    "lst.append(Is_New_cust)\n",
    "lst.append(A[0][2])\n",
    "lst.append(Cust_Rel)\n",
    "lst.append(Country)\n",
    "lst.append(Join_Ch)\n",
    "lst.append(B[0][0])\n",
    "lst.append(Province)\n",
    "lst.append(B[0][1])\n",
    "lst.append(A[0][1])\n",
    "lst.append(Seg)\n",
    "lst.append(A[0][3])\n",
    "lst = np.asarray(lst)\n",
    "C = np.reshape(lst, (1, 14))"
   ]
  },
  {
   "cell_type": "code",
   "execution_count": 12,
   "metadata": {},
   "outputs": [
    {
     "name": "stdout",
     "output_type": "stream",
     "text": [
      "Model: \"sequential\"\n",
      "_________________________________________________________________\n",
      " Layer (type)                Output Shape              Param #   \n",
      "=================================================================\n",
      " dense (Dense)               (None, 128)               1920      \n",
      "                                                                 \n",
      " dense_1 (Dense)             (None, 256)               33024     \n",
      "                                                                 \n",
      " dropout (Dropout)           (None, 256)               0         \n",
      "                                                                 \n",
      " dense_2 (Dense)             (None, 48)                12336     \n",
      "                                                                 \n",
      " dropout_1 (Dropout)         (None, 48)                0         \n",
      "                                                                 \n",
      " layer_normalization (LayerN  (None, 48)               96        \n",
      " ormalization)                                                   \n",
      "                                                                 \n",
      " dense_3 (Dense)             (None, 24)                1176      \n",
      "                                                                 \n",
      "=================================================================\n",
      "Total params: 48,552\n",
      "Trainable params: 48,552\n",
      "Non-trainable params: 0\n",
      "_________________________________________________________________\n",
      "1/1 [==============================] - 0s 358ms/step\n"
     ]
    }
   ],
   "source": [
    "from keras.models import load_model\n",
    "savedModel=load_model('Recommendation.h5')\n",
    "savedModel.summary()\n",
    "predictions = savedModel.predict(C)\n"
   ]
  },
  {
   "cell_type": "code",
   "execution_count": 13,
   "metadata": {},
   "outputs": [],
   "source": [
    "def changeArr(input1):\n",
    "    newArray = input1.copy() \n",
    "    newArray.sort()\n",
    "     \n",
    "    ranks = {}\n",
    "     \n",
    "    rank = 0\n",
    "     \n",
    "    for index in range(len(newArray)):\n",
    "        element = newArray[index]\n",
    "     \n",
    "        if element not in ranks:\n",
    "            ranks[element] = rank\n",
    "            rank += 1\n",
    "         \n",
    "    \n",
    "    for index in range(len(input1)):\n",
    "        element = input1[index]\n",
    "        input1[index] = ranks[input1[index]]\n",
    "\n"
   ]
  },
  {
   "cell_type": "code",
   "execution_count": 14,
   "metadata": {},
   "outputs": [
    {
     "name": "stdout",
     "output_type": "stream",
     "text": [
      "[0. 0. 1. 0. 0. 0. 0. 0. 0. 0. 0. 0. 0. 0. 0. 0. 0. 0. 0. 0. 0. 0. 0. 0.]\n"
     ]
    }
   ],
   "source": [
    "pred6 = predictions[0]\n",
    "changeArr(pred6)\n",
    "print(pred6)"
   ]
  },
  {
   "cell_type": "code",
   "execution_count": 15,
   "metadata": {},
   "outputs": [],
   "source": [
    "y_col = ['Derivative_Acct',\n",
    "       'Payroll_Acct', 'Junior_Acct', 'Mas_Particular_Acct', 'Particular_Acct',\n",
    "       'Particular_Plus_Acct', 'Short_Term_Deposits', 'Med_Term_Deposits',\n",
    "       'Long_Term_Deposits', 'e-Acct', 'Funds', 'Mortgage', 'Pension1',\n",
    "       'Loans', 'Taxes', 'Credit_Card', 'Securities', 'Home_Acct', 'Payroll',\n",
    "       'Pension2', 'Direct_Debit', 'Savings_Acct', 'Guarantees', 'Cur_Acct']"
   ]
  },
  {
   "cell_type": "code",
   "execution_count": 16,
   "metadata": {},
   "outputs": [
    {
     "name": "stdout",
     "output_type": "stream",
     "text": [
      "Sorted dictionary is :\n",
      "[('Junior_Acct', 1.0), ('Derivative_Acct', 0.0), ('Payroll_Acct', 0.0), ('Mas_Particular_Acct', 0.0), ('Particular_Acct', 0.0), ('Particular_Plus_Acct', 0.0), ('Short_Term_Deposits', 0.0), ('Med_Term_Deposits', 0.0), ('Long_Term_Deposits', 0.0), ('e-Acct', 0.0), ('Funds', 0.0), ('Mortgage', 0.0), ('Pension1', 0.0), ('Loans', 0.0), ('Taxes', 0.0), ('Credit_Card', 0.0), ('Securities', 0.0), ('Home_Acct', 0.0), ('Payroll', 0.0), ('Pension2', 0.0), ('Direct_Debit', 0.0), ('Savings_Acct', 0.0), ('Guarantees', 0.0), ('Cur_Acct', 0.0)]\n",
      "Junior_Acct\n"
     ]
    }
   ],
   "source": [
    "zip_iterator = zip(y_col, pred6)\n",
    "a_dictionary = dict(zip_iterator)\n",
    "import operator\n",
    "sorted_dict = sorted(a_dictionary.items(), \\\n",
    "             key = operator.itemgetter(1), reverse=True)\n",
    " \n",
    "# Printing sorted dictionary\n",
    "print(\"Sorted dictionary is :\")\n",
    "print(sorted_dict)\n",
    "for i in sorted_dict:\n",
    "    if i[1]>0 :\n",
    "        print(i[0])"
   ]
  }
 ],
 "metadata": {
  "kernelspec": {
   "display_name": "Python 3.10.4 64-bit",
   "language": "python",
   "name": "python3"
  },
  "language_info": {
   "codemirror_mode": {
    "name": "ipython",
    "version": 3
   },
   "file_extension": ".py",
   "mimetype": "text/x-python",
   "name": "python",
   "nbconvert_exporter": "python",
   "pygments_lexer": "ipython3",
   "version": "3.10.4"
  },
  "orig_nbformat": 4,
  "vscode": {
   "interpreter": {
    "hash": "628722030c168428b48c2cfd5a11b6d8830421d0ac8aa71b61521169aa5eb66a"
   }
  }
 },
 "nbformat": 4,
 "nbformat_minor": 2
}
