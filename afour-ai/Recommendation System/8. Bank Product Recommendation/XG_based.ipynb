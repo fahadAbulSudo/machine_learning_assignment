{
 "cells": [
  {
   "cell_type": "code",
   "execution_count": 1,
   "metadata": {},
   "outputs": [],
   "source": [
    "import pandas as pd\n",
    "import numpy as np\n",
    "import matplotlib.pyplot as plt\n",
    "from sklearn.preprocessing import OneHotEncoder, LabelEncoder\n",
    "from collections import Counter\n",
    "from sklearn.metrics import log_loss\n",
    "import xgboost as xgb\n",
    "import pickle\n",
    "import csv"
   ]
  },
  {
   "cell_type": "code",
   "execution_count": 2,
   "metadata": {},
   "outputs": [
    {
     "name": "stderr",
     "output_type": "stream",
     "text": [
      "Extracting : 100%|██████████| 1/1 [00:01<00:00,  1.42s/it]\n"
     ]
    }
   ],
   "source": [
    "from pathlib import Path\n",
    "import os\n",
    "import sys\n",
    "\n",
    "sys.path.append(str(Path(os.getcwd()).parents[1]))\n",
    "from Helper_Functions import common_utils\n",
    "directory_to_extract_to = os.getcwd()\n",
    "\n",
    "common_utils.load_data_from_one_drive(directory_to_extract_to, \"recommendation_paths\", \"bankproduct_recommendation\")"
   ]
  },
  {
   "cell_type": "code",
   "execution_count": 2,
   "metadata": {},
   "outputs": [
    {
     "name": "stderr",
     "output_type": "stream",
     "text": [
      "C:\\Users\\Fahad.A\\AppData\\Local\\Temp\\ipykernel_9048\\3488184092.py:1: DtypeWarning: Columns (10,11,15) have mixed types. Specify dtype option on import or set low_memory=False.\n",
      "  df= pd.read_csv('sliced.csv')\n"
     ]
    }
   ],
   "source": [
    "df= pd.read_csv('sliced.csv')"
   ]
  },
  {
   "cell_type": "code",
   "execution_count": 3,
   "metadata": {},
   "outputs": [
    {
     "data": {
      "text/plain": [
       "Index(['Status_Dt', 'Cust_ID', 'Emp_Status', 'Cust_Ctry', 'Cust_Sex', 'Age',\n",
       "       'Join_Dt', 'Is_New_Cust', 'Cust_Since', 'Relship_Status',\n",
       "       'Lst_Dt_Primary_Cust', 'Cust_Type_Mth_Beg', 'Cust_Relship_Type_Mth_Beg',\n",
       "       'Residence_Ctry', 'Is_Foreigner', 'Is_Spouse_Emp', 'Join_Channel',\n",
       "       'Deceased_Flg', 'Address_Type', 'Cust_Province_Cd',\n",
       "       'Cust_Province_Name', 'Cust_Active_Status', 'Gross_HHLD_Income',\n",
       "       'Cust_Segment', 'Savings_Acct', 'Guarantees', 'Cur_Acct',\n",
       "       'Derivative_Acct', 'Payroll_Acct', 'Junior_Acct', 'Mas_Particular_Acct',\n",
       "       'Particular_Acct', 'Particular_Plus_Acct', 'Short_Term_Deposits',\n",
       "       'Med_Term_Deposits', 'Long_Term_Deposits', 'e-Acct', 'Funds',\n",
       "       'Mortgage', 'Pension1', 'Loans', 'Taxes', 'Credit_Card', 'Securities',\n",
       "       'Home_Acct', 'Payroll', 'Pension2', 'Direct_Debit'],\n",
       "      dtype='object')"
      ]
     },
     "execution_count": 3,
     "metadata": {},
     "output_type": "execute_result"
    }
   ],
   "source": [
    "df.columns"
   ]
  },
  {
   "cell_type": "code",
   "execution_count": 4,
   "metadata": {},
   "outputs": [],
   "source": [
    "df['Status_Dt'] = pd.to_datetime(df['Status_Dt'],format=\"%Y-%m-%d\")"
   ]
  },
  {
   "cell_type": "code",
   "execution_count": 5,
   "metadata": {},
   "outputs": [],
   "source": [
    "df['Year'] = df['Status_Dt'].dt.year\n",
    "df['Monthly'] = df['Status_Dt'].dt.month\n",
    "df['Day'] = df['Status_Dt'].dt.day"
   ]
  },
  {
   "cell_type": "code",
   "execution_count": 6,
   "metadata": {},
   "outputs": [],
   "source": [
    "numeric_attribs = ['Age', 'Is_New_Cust', 'Cust_Since', 'Cust_Active_Status']\n",
    "for attrib in numeric_attribs:\n",
    "    #errors='coerce' - when value is invalid, set it to NAN\n",
    "    df[attrib] = pd.to_numeric(df[attrib], errors='coerce')"
   ]
  },
  {
   "cell_type": "code",
   "execution_count": 7,
   "metadata": {},
   "outputs": [],
   "source": [
    "df.drop('Is_Spouse_Emp', axis=1, inplace=True)\n",
    "df.drop('Lst_Dt_Primary_Cust', axis=1, inplace=True)\n",
    "df.drop('Address_Type', axis=1, inplace=True)\n",
    "df.drop('Join_Dt', axis=1, inplace=True)\n",
    "df.drop('Status_Dt', axis=1, inplace=True)\n",
    "df.drop('Cust_ID', axis=1, inplace=True)\n",
    "df.drop('Deceased_Flg', axis=1, inplace=True)\n",
    "df.drop('Cust_Type_Mth_Beg', axis=1, inplace=True)\n",
    "df.drop('Relship_Status', axis=1, inplace=True)\n",
    "df.drop('Day', axis=1, inplace=True)\n",
    "df.drop('Year', axis=1, inplace=True)\n",
    "df.drop('Cust_Ctry', axis=1, inplace=True)\n",
    "df.drop('Is_Foreigner', axis=1, inplace=True)"
   ]
  },
  {
   "cell_type": "code",
   "execution_count": 8,
   "metadata": {},
   "outputs": [],
   "source": [
    "df.drop('Cust_Province_Cd', axis=1, inplace=True)"
   ]
  },
  {
   "cell_type": "code",
   "execution_count": 9,
   "metadata": {},
   "outputs": [],
   "source": [
    "df.loc[df[\"Gross_HHLD_Income\"].isnull(),\"Gross_HHLD_Income\"] = np.nanmedian(df.Gross_HHLD_Income)\n",
    "df.loc[df[\"Cust_Segment\"].isnull(),\"Cust_Segment\"] = '02 - PARTICULARES'\n",
    "df.loc[df[\"Join_Channel\"].isnull(),\"Join_Channel\"] = 'KHE'\n",
    "df.loc[df[\"Cust_Relship_Type_Mth_Beg\"].isnull(),\"Cust_Relship_Type_Mth_Beg\"] = 'I'\n",
    "#df.loc[df[\"Cust_Province_Cd\"].isnull(),\"Cust_Province_Cd\"] = 28.0\n",
    "df.loc[df[\"Cust_Province_Name\"].isnull(),\"Cust_Province_Name\"] = 'MADRID'\n",
    "df.loc[df[\"Cust_Sex\"].isnull(),\"Cust_Sex\"] = 'V'"
   ]
  },
  {
   "cell_type": "code",
   "execution_count": 10,
   "metadata": {},
   "outputs": [],
   "source": [
    "numeric_column = ['Age', 'Cust_Active_Status', 'Gross_HHLD_Income', 'Cust_Since', 'Monthly']"
   ]
  },
  {
   "cell_type": "code",
   "execution_count": 11,
   "metadata": {},
   "outputs": [
    {
     "data": {
      "text/plain": [
       "Index(['Emp_Status', 'Cust_Sex', 'Age', 'Is_New_Cust', 'Cust_Since',\n",
       "       'Cust_Relship_Type_Mth_Beg', 'Residence_Ctry', 'Join_Channel',\n",
       "       'Cust_Province_Name', 'Cust_Active_Status', 'Gross_HHLD_Income',\n",
       "       'Cust_Segment', 'Savings_Acct', 'Guarantees', 'Cur_Acct',\n",
       "       'Derivative_Acct', 'Payroll_Acct', 'Junior_Acct', 'Mas_Particular_Acct',\n",
       "       'Particular_Acct', 'Particular_Plus_Acct', 'Short_Term_Deposits',\n",
       "       'Med_Term_Deposits', 'Long_Term_Deposits', 'e-Acct', 'Funds',\n",
       "       'Mortgage', 'Pension1', 'Loans', 'Taxes', 'Credit_Card', 'Securities',\n",
       "       'Home_Acct', 'Payroll', 'Pension2', 'Direct_Debit', 'Monthly'],\n",
       "      dtype='object')"
      ]
     },
     "execution_count": 11,
     "metadata": {},
     "output_type": "execute_result"
    }
   ],
   "source": [
    "df.columns"
   ]
  },
  {
   "cell_type": "code",
   "execution_count": 12,
   "metadata": {},
   "outputs": [
    {
     "data": {
      "text/plain": [
       "37"
      ]
     },
     "execution_count": 12,
     "metadata": {},
     "output_type": "execute_result"
    }
   ],
   "source": [
    "c = df.columns\n",
    "len(c)"
   ]
  },
  {
   "cell_type": "code",
   "execution_count": 13,
   "metadata": {},
   "outputs": [
    {
     "data": {
      "text/html": [
       "<div>\n",
       "<style scoped>\n",
       "    .dataframe tbody tr th:only-of-type {\n",
       "        vertical-align: middle;\n",
       "    }\n",
       "\n",
       "    .dataframe tbody tr th {\n",
       "        vertical-align: top;\n",
       "    }\n",
       "\n",
       "    .dataframe thead th {\n",
       "        text-align: right;\n",
       "    }\n",
       "</style>\n",
       "<table border=\"1\" class=\"dataframe\">\n",
       "  <thead>\n",
       "    <tr style=\"text-align: right;\">\n",
       "      <th></th>\n",
       "      <th>Emp_Status</th>\n",
       "      <th>Cust_Sex</th>\n",
       "      <th>Age</th>\n",
       "      <th>Is_New_Cust</th>\n",
       "      <th>Cust_Since</th>\n",
       "      <th>Cust_Relship_Type_Mth_Beg</th>\n",
       "      <th>Residence_Ctry</th>\n",
       "      <th>Join_Channel</th>\n",
       "      <th>Cust_Province_Name</th>\n",
       "      <th>Cust_Active_Status</th>\n",
       "      <th>...</th>\n",
       "      <th>Pension1</th>\n",
       "      <th>Loans</th>\n",
       "      <th>Taxes</th>\n",
       "      <th>Credit_Card</th>\n",
       "      <th>Securities</th>\n",
       "      <th>Home_Acct</th>\n",
       "      <th>Payroll</th>\n",
       "      <th>Pension2</th>\n",
       "      <th>Direct_Debit</th>\n",
       "      <th>Monthly</th>\n",
       "    </tr>\n",
       "  </thead>\n",
       "  <tbody>\n",
       "    <tr>\n",
       "      <th>0</th>\n",
       "      <td>N</td>\n",
       "      <td>V</td>\n",
       "      <td>22</td>\n",
       "      <td>0.0</td>\n",
       "      <td>28</td>\n",
       "      <td>I</td>\n",
       "      <td>S</td>\n",
       "      <td>KHE</td>\n",
       "      <td>VALENCIA</td>\n",
       "      <td>0.0</td>\n",
       "      <td>...</td>\n",
       "      <td>0</td>\n",
       "      <td>0</td>\n",
       "      <td>0</td>\n",
       "      <td>0</td>\n",
       "      <td>0</td>\n",
       "      <td>0</td>\n",
       "      <td>0.0</td>\n",
       "      <td>0.0</td>\n",
       "      <td>0</td>\n",
       "      <td>0</td>\n",
       "    </tr>\n",
       "    <tr>\n",
       "      <th>1</th>\n",
       "      <td>N</td>\n",
       "      <td>H</td>\n",
       "      <td>27</td>\n",
       "      <td>0.0</td>\n",
       "      <td>28</td>\n",
       "      <td>A</td>\n",
       "      <td>S</td>\n",
       "      <td>KHE</td>\n",
       "      <td>MADRID</td>\n",
       "      <td>1.0</td>\n",
       "      <td>...</td>\n",
       "      <td>0</td>\n",
       "      <td>0</td>\n",
       "      <td>0</td>\n",
       "      <td>0</td>\n",
       "      <td>0</td>\n",
       "      <td>0</td>\n",
       "      <td>0.0</td>\n",
       "      <td>0.0</td>\n",
       "      <td>1</td>\n",
       "      <td>0</td>\n",
       "    </tr>\n",
       "    <tr>\n",
       "      <th>2</th>\n",
       "      <td>N</td>\n",
       "      <td>H</td>\n",
       "      <td>26</td>\n",
       "      <td>0.0</td>\n",
       "      <td>28</td>\n",
       "      <td>A</td>\n",
       "      <td>S</td>\n",
       "      <td>KFC</td>\n",
       "      <td>MADRID</td>\n",
       "      <td>1.0</td>\n",
       "      <td>...</td>\n",
       "      <td>0</td>\n",
       "      <td>0</td>\n",
       "      <td>0</td>\n",
       "      <td>0</td>\n",
       "      <td>0</td>\n",
       "      <td>0</td>\n",
       "      <td>1.0</td>\n",
       "      <td>1.0</td>\n",
       "      <td>0</td>\n",
       "      <td>0</td>\n",
       "    </tr>\n",
       "    <tr>\n",
       "      <th>3</th>\n",
       "      <td>N</td>\n",
       "      <td>H</td>\n",
       "      <td>26</td>\n",
       "      <td>0.0</td>\n",
       "      <td>28</td>\n",
       "      <td>I</td>\n",
       "      <td>S</td>\n",
       "      <td>KHE</td>\n",
       "      <td>MADRID</td>\n",
       "      <td>0.0</td>\n",
       "      <td>...</td>\n",
       "      <td>0</td>\n",
       "      <td>0</td>\n",
       "      <td>0</td>\n",
       "      <td>0</td>\n",
       "      <td>0</td>\n",
       "      <td>0</td>\n",
       "      <td>0.0</td>\n",
       "      <td>0.0</td>\n",
       "      <td>0</td>\n",
       "      <td>0</td>\n",
       "    </tr>\n",
       "    <tr>\n",
       "      <th>4</th>\n",
       "      <td>N</td>\n",
       "      <td>H</td>\n",
       "      <td>29</td>\n",
       "      <td>0.0</td>\n",
       "      <td>28</td>\n",
       "      <td>I</td>\n",
       "      <td>S</td>\n",
       "      <td>KHE</td>\n",
       "      <td>GRANADA</td>\n",
       "      <td>0.0</td>\n",
       "      <td>...</td>\n",
       "      <td>0</td>\n",
       "      <td>0</td>\n",
       "      <td>0</td>\n",
       "      <td>0</td>\n",
       "      <td>0</td>\n",
       "      <td>0</td>\n",
       "      <td>0.0</td>\n",
       "      <td>0.0</td>\n",
       "      <td>0</td>\n",
       "      <td>0</td>\n",
       "    </tr>\n",
       "  </tbody>\n",
       "</table>\n",
       "<p>5 rows × 37 columns</p>\n",
       "</div>"
      ],
      "text/plain": [
       "  Emp_Status Cust_Sex  Age  Is_New_Cust  Cust_Since Cust_Relship_Type_Mth_Beg  \\\n",
       "0          N        V   22          0.0          28                         I   \n",
       "1          N        H   27          0.0          28                         A   \n",
       "2          N        H   26          0.0          28                         A   \n",
       "3          N        H   26          0.0          28                         I   \n",
       "4          N        H   29          0.0          28                         I   \n",
       "\n",
       "  Residence_Ctry Join_Channel Cust_Province_Name  Cust_Active_Status  ...  \\\n",
       "0              S          KHE           VALENCIA                 0.0  ...   \n",
       "1              S          KHE             MADRID                 1.0  ...   \n",
       "2              S          KFC             MADRID                 1.0  ...   \n",
       "3              S          KHE             MADRID                 0.0  ...   \n",
       "4              S          KHE            GRANADA                 0.0  ...   \n",
       "\n",
       "   Pension1 Loans  Taxes  Credit_Card  Securities  Home_Acct  Payroll  \\\n",
       "0         0     0      0            0           0          0      0.0   \n",
       "1         0     0      0            0           0          0      0.0   \n",
       "2         0     0      0            0           0          0      1.0   \n",
       "3         0     0      0            0           0          0      0.0   \n",
       "4         0     0      0            0           0          0      0.0   \n",
       "\n",
       "   Pension2  Direct_Debit  Monthly  \n",
       "0       0.0             0        0  \n",
       "1       0.0             1        0  \n",
       "2       1.0             0        0  \n",
       "3       0.0             0        0  \n",
       "4       0.0             0        0  \n",
       "\n",
       "[5 rows x 37 columns]"
      ]
     },
     "execution_count": 13,
     "metadata": {},
     "output_type": "execute_result"
    }
   ],
   "source": [
    "c = df.columns\n",
    "df[[c[12], c[36]]] = df[[c[36], c[12]]]\n",
    "df.head()"
   ]
  },
  {
   "cell_type": "code",
   "execution_count": 14,
   "metadata": {},
   "outputs": [
    {
     "data": {
      "text/html": [
       "<div>\n",
       "<style scoped>\n",
       "    .dataframe tbody tr th:only-of-type {\n",
       "        vertical-align: middle;\n",
       "    }\n",
       "\n",
       "    .dataframe tbody tr th {\n",
       "        vertical-align: top;\n",
       "    }\n",
       "\n",
       "    .dataframe thead th {\n",
       "        text-align: right;\n",
       "    }\n",
       "</style>\n",
       "<table border=\"1\" class=\"dataframe\">\n",
       "  <thead>\n",
       "    <tr style=\"text-align: right;\">\n",
       "      <th></th>\n",
       "      <th>Emp_Status</th>\n",
       "      <th>Cust_Sex</th>\n",
       "      <th>Age</th>\n",
       "      <th>Is_New_Cust</th>\n",
       "      <th>Cust_Since</th>\n",
       "      <th>Cust_Relship_Type_Mth_Beg</th>\n",
       "      <th>Residence_Ctry</th>\n",
       "      <th>Join_Channel</th>\n",
       "      <th>Cust_Province_Name</th>\n",
       "      <th>Cust_Active_Status</th>\n",
       "      <th>...</th>\n",
       "      <th>Pension1</th>\n",
       "      <th>Loans</th>\n",
       "      <th>Taxes</th>\n",
       "      <th>Credit_Card</th>\n",
       "      <th>Securities</th>\n",
       "      <th>Home_Acct</th>\n",
       "      <th>Payroll</th>\n",
       "      <th>Pension2</th>\n",
       "      <th>Direct_Debit</th>\n",
       "      <th>Savings_Acct</th>\n",
       "    </tr>\n",
       "  </thead>\n",
       "  <tbody>\n",
       "    <tr>\n",
       "      <th>0</th>\n",
       "      <td>N</td>\n",
       "      <td>V</td>\n",
       "      <td>22</td>\n",
       "      <td>0.0</td>\n",
       "      <td>28</td>\n",
       "      <td>I</td>\n",
       "      <td>S</td>\n",
       "      <td>KHE</td>\n",
       "      <td>VALENCIA</td>\n",
       "      <td>0.0</td>\n",
       "      <td>...</td>\n",
       "      <td>0</td>\n",
       "      <td>0</td>\n",
       "      <td>0</td>\n",
       "      <td>0</td>\n",
       "      <td>0</td>\n",
       "      <td>0</td>\n",
       "      <td>0.0</td>\n",
       "      <td>0.0</td>\n",
       "      <td>0</td>\n",
       "      <td>0</td>\n",
       "    </tr>\n",
       "    <tr>\n",
       "      <th>1</th>\n",
       "      <td>N</td>\n",
       "      <td>H</td>\n",
       "      <td>27</td>\n",
       "      <td>0.0</td>\n",
       "      <td>28</td>\n",
       "      <td>A</td>\n",
       "      <td>S</td>\n",
       "      <td>KHE</td>\n",
       "      <td>MADRID</td>\n",
       "      <td>1.0</td>\n",
       "      <td>...</td>\n",
       "      <td>0</td>\n",
       "      <td>0</td>\n",
       "      <td>0</td>\n",
       "      <td>0</td>\n",
       "      <td>0</td>\n",
       "      <td>0</td>\n",
       "      <td>0.0</td>\n",
       "      <td>0.0</td>\n",
       "      <td>1</td>\n",
       "      <td>0</td>\n",
       "    </tr>\n",
       "    <tr>\n",
       "      <th>2</th>\n",
       "      <td>N</td>\n",
       "      <td>H</td>\n",
       "      <td>26</td>\n",
       "      <td>0.0</td>\n",
       "      <td>28</td>\n",
       "      <td>A</td>\n",
       "      <td>S</td>\n",
       "      <td>KFC</td>\n",
       "      <td>MADRID</td>\n",
       "      <td>1.0</td>\n",
       "      <td>...</td>\n",
       "      <td>0</td>\n",
       "      <td>0</td>\n",
       "      <td>0</td>\n",
       "      <td>0</td>\n",
       "      <td>0</td>\n",
       "      <td>0</td>\n",
       "      <td>1.0</td>\n",
       "      <td>1.0</td>\n",
       "      <td>0</td>\n",
       "      <td>0</td>\n",
       "    </tr>\n",
       "    <tr>\n",
       "      <th>3</th>\n",
       "      <td>N</td>\n",
       "      <td>H</td>\n",
       "      <td>26</td>\n",
       "      <td>0.0</td>\n",
       "      <td>28</td>\n",
       "      <td>I</td>\n",
       "      <td>S</td>\n",
       "      <td>KHE</td>\n",
       "      <td>MADRID</td>\n",
       "      <td>0.0</td>\n",
       "      <td>...</td>\n",
       "      <td>0</td>\n",
       "      <td>0</td>\n",
       "      <td>0</td>\n",
       "      <td>0</td>\n",
       "      <td>0</td>\n",
       "      <td>0</td>\n",
       "      <td>0.0</td>\n",
       "      <td>0.0</td>\n",
       "      <td>0</td>\n",
       "      <td>0</td>\n",
       "    </tr>\n",
       "    <tr>\n",
       "      <th>4</th>\n",
       "      <td>N</td>\n",
       "      <td>H</td>\n",
       "      <td>29</td>\n",
       "      <td>0.0</td>\n",
       "      <td>28</td>\n",
       "      <td>I</td>\n",
       "      <td>S</td>\n",
       "      <td>KHE</td>\n",
       "      <td>GRANADA</td>\n",
       "      <td>0.0</td>\n",
       "      <td>...</td>\n",
       "      <td>0</td>\n",
       "      <td>0</td>\n",
       "      <td>0</td>\n",
       "      <td>0</td>\n",
       "      <td>0</td>\n",
       "      <td>0</td>\n",
       "      <td>0.0</td>\n",
       "      <td>0.0</td>\n",
       "      <td>0</td>\n",
       "      <td>0</td>\n",
       "    </tr>\n",
       "  </tbody>\n",
       "</table>\n",
       "<p>5 rows × 37 columns</p>\n",
       "</div>"
      ],
      "text/plain": [
       "  Emp_Status Cust_Sex  Age  Is_New_Cust  Cust_Since Cust_Relship_Type_Mth_Beg  \\\n",
       "0          N        V   22          0.0          28                         I   \n",
       "1          N        H   27          0.0          28                         A   \n",
       "2          N        H   26          0.0          28                         A   \n",
       "3          N        H   26          0.0          28                         I   \n",
       "4          N        H   29          0.0          28                         I   \n",
       "\n",
       "  Residence_Ctry Join_Channel Cust_Province_Name  Cust_Active_Status  ...  \\\n",
       "0              S          KHE           VALENCIA                 0.0  ...   \n",
       "1              S          KHE             MADRID                 1.0  ...   \n",
       "2              S          KFC             MADRID                 1.0  ...   \n",
       "3              S          KHE             MADRID                 0.0  ...   \n",
       "4              S          KHE            GRANADA                 0.0  ...   \n",
       "\n",
       "   Pension1 Loans  Taxes  Credit_Card  Securities  Home_Acct  Payroll  \\\n",
       "0         0     0      0            0           0          0      0.0   \n",
       "1         0     0      0            0           0          0      0.0   \n",
       "2         0     0      0            0           0          0      1.0   \n",
       "3         0     0      0            0           0          0      0.0   \n",
       "4         0     0      0            0           0          0      0.0   \n",
       "\n",
       "   Pension2  Direct_Debit  Savings_Acct  \n",
       "0       0.0             0             0  \n",
       "1       0.0             1             0  \n",
       "2       1.0             0             0  \n",
       "3       0.0             0             0  \n",
       "4       0.0             0             0  \n",
       "\n",
       "[5 rows x 37 columns]"
      ]
     },
     "execution_count": 14,
     "metadata": {},
     "output_type": "execute_result"
    }
   ],
   "source": [
    "col_list = list(df)\n",
    "# use this handy way to swap the elements\n",
    "col_list[12], col_list[36] = col_list[36], col_list[12]\n",
    "# assign back, the order will now be swapped\n",
    "df.columns = col_list\n",
    "df.head()"
   ]
  },
  {
   "cell_type": "code",
   "execution_count": 15,
   "metadata": {},
   "outputs": [
    {
     "name": "stdout",
     "output_type": "stream",
     "text": [
      "['Cust_Active_Status']\n",
      "['Age', 'Gross_HHLD_Income', 'Cust_Since', 'Monthly']\n"
     ]
    },
    {
     "name": "stderr",
     "output_type": "stream",
     "text": [
      "C:\\Users\\Fahad.A\\AppData\\Local\\Temp\\ipykernel_9048\\252316343.py:5: FutureWarning: Dropping of nuisance columns in DataFrame reductions (with 'numeric_only=None') is deprecated; in a future version this will raise TypeError.  Select only valid columns before calling the reduction.\n",
      "  data_skew = df.skew()\n"
     ]
    }
   ],
   "source": [
    "from sklearn import preprocessing\n",
    "\n",
    "scale_list = []\n",
    "normalise_list = []\n",
    "data_skew = df.skew()\n",
    "\n",
    "for i in numeric_column:\n",
    "    if data_skew[i] >= -0.5 and data_skew[i] <= 0.5:\n",
    "        scale_list.append(i)\n",
    "    else:\n",
    "        normalise_list.append(i)\n",
    "print(scale_list)\n",
    "print(normalise_list)"
   ]
  },
  {
   "cell_type": "code",
   "execution_count": 16,
   "metadata": {},
   "outputs": [
    {
     "data": {
      "text/html": [
       "<div>\n",
       "<style scoped>\n",
       "    .dataframe tbody tr th:only-of-type {\n",
       "        vertical-align: middle;\n",
       "    }\n",
       "\n",
       "    .dataframe tbody tr th {\n",
       "        vertical-align: top;\n",
       "    }\n",
       "\n",
       "    .dataframe thead th {\n",
       "        text-align: right;\n",
       "    }\n",
       "</style>\n",
       "<table border=\"1\" class=\"dataframe\">\n",
       "  <thead>\n",
       "    <tr style=\"text-align: right;\">\n",
       "      <th></th>\n",
       "      <th>Emp_Status</th>\n",
       "      <th>Cust_Sex</th>\n",
       "      <th>Age</th>\n",
       "      <th>Is_New_Cust</th>\n",
       "      <th>Cust_Since</th>\n",
       "      <th>Cust_Relship_Type_Mth_Beg</th>\n",
       "      <th>Residence_Ctry</th>\n",
       "      <th>Join_Channel</th>\n",
       "      <th>Cust_Province_Name</th>\n",
       "      <th>Cust_Active_Status</th>\n",
       "      <th>...</th>\n",
       "      <th>Pension1</th>\n",
       "      <th>Loans</th>\n",
       "      <th>Taxes</th>\n",
       "      <th>Credit_Card</th>\n",
       "      <th>Securities</th>\n",
       "      <th>Home_Acct</th>\n",
       "      <th>Payroll</th>\n",
       "      <th>Pension2</th>\n",
       "      <th>Direct_Debit</th>\n",
       "      <th>Savings_Acct</th>\n",
       "    </tr>\n",
       "  </thead>\n",
       "  <tbody>\n",
       "    <tr>\n",
       "      <th>0</th>\n",
       "      <td>N</td>\n",
       "      <td>V</td>\n",
       "      <td>22</td>\n",
       "      <td>0.0</td>\n",
       "      <td>28</td>\n",
       "      <td>I</td>\n",
       "      <td>S</td>\n",
       "      <td>KHE</td>\n",
       "      <td>VALENCIA</td>\n",
       "      <td>-0.849968</td>\n",
       "      <td>...</td>\n",
       "      <td>0</td>\n",
       "      <td>0</td>\n",
       "      <td>0</td>\n",
       "      <td>0</td>\n",
       "      <td>0</td>\n",
       "      <td>0</td>\n",
       "      <td>0.0</td>\n",
       "      <td>0.0</td>\n",
       "      <td>0</td>\n",
       "      <td>0</td>\n",
       "    </tr>\n",
       "    <tr>\n",
       "      <th>1</th>\n",
       "      <td>N</td>\n",
       "      <td>H</td>\n",
       "      <td>27</td>\n",
       "      <td>0.0</td>\n",
       "      <td>28</td>\n",
       "      <td>A</td>\n",
       "      <td>S</td>\n",
       "      <td>KHE</td>\n",
       "      <td>MADRID</td>\n",
       "      <td>1.176515</td>\n",
       "      <td>...</td>\n",
       "      <td>0</td>\n",
       "      <td>0</td>\n",
       "      <td>0</td>\n",
       "      <td>0</td>\n",
       "      <td>0</td>\n",
       "      <td>0</td>\n",
       "      <td>0.0</td>\n",
       "      <td>0.0</td>\n",
       "      <td>1</td>\n",
       "      <td>0</td>\n",
       "    </tr>\n",
       "    <tr>\n",
       "      <th>2</th>\n",
       "      <td>N</td>\n",
       "      <td>H</td>\n",
       "      <td>26</td>\n",
       "      <td>0.0</td>\n",
       "      <td>28</td>\n",
       "      <td>A</td>\n",
       "      <td>S</td>\n",
       "      <td>KFC</td>\n",
       "      <td>MADRID</td>\n",
       "      <td>1.176515</td>\n",
       "      <td>...</td>\n",
       "      <td>0</td>\n",
       "      <td>0</td>\n",
       "      <td>0</td>\n",
       "      <td>0</td>\n",
       "      <td>0</td>\n",
       "      <td>0</td>\n",
       "      <td>1.0</td>\n",
       "      <td>1.0</td>\n",
       "      <td>0</td>\n",
       "      <td>0</td>\n",
       "    </tr>\n",
       "    <tr>\n",
       "      <th>3</th>\n",
       "      <td>N</td>\n",
       "      <td>H</td>\n",
       "      <td>26</td>\n",
       "      <td>0.0</td>\n",
       "      <td>28</td>\n",
       "      <td>I</td>\n",
       "      <td>S</td>\n",
       "      <td>KHE</td>\n",
       "      <td>MADRID</td>\n",
       "      <td>-0.849968</td>\n",
       "      <td>...</td>\n",
       "      <td>0</td>\n",
       "      <td>0</td>\n",
       "      <td>0</td>\n",
       "      <td>0</td>\n",
       "      <td>0</td>\n",
       "      <td>0</td>\n",
       "      <td>0.0</td>\n",
       "      <td>0.0</td>\n",
       "      <td>0</td>\n",
       "      <td>0</td>\n",
       "    </tr>\n",
       "    <tr>\n",
       "      <th>4</th>\n",
       "      <td>N</td>\n",
       "      <td>H</td>\n",
       "      <td>29</td>\n",
       "      <td>0.0</td>\n",
       "      <td>28</td>\n",
       "      <td>I</td>\n",
       "      <td>S</td>\n",
       "      <td>KHE</td>\n",
       "      <td>GRANADA</td>\n",
       "      <td>-0.849968</td>\n",
       "      <td>...</td>\n",
       "      <td>0</td>\n",
       "      <td>0</td>\n",
       "      <td>0</td>\n",
       "      <td>0</td>\n",
       "      <td>0</td>\n",
       "      <td>0</td>\n",
       "      <td>0.0</td>\n",
       "      <td>0.0</td>\n",
       "      <td>0</td>\n",
       "      <td>0</td>\n",
       "    </tr>\n",
       "  </tbody>\n",
       "</table>\n",
       "<p>5 rows × 37 columns</p>\n",
       "</div>"
      ],
      "text/plain": [
       "  Emp_Status Cust_Sex  Age  Is_New_Cust  Cust_Since Cust_Relship_Type_Mth_Beg  \\\n",
       "0          N        V   22          0.0          28                         I   \n",
       "1          N        H   27          0.0          28                         A   \n",
       "2          N        H   26          0.0          28                         A   \n",
       "3          N        H   26          0.0          28                         I   \n",
       "4          N        H   29          0.0          28                         I   \n",
       "\n",
       "  Residence_Ctry Join_Channel Cust_Province_Name  Cust_Active_Status  ...  \\\n",
       "0              S          KHE           VALENCIA           -0.849968  ...   \n",
       "1              S          KHE             MADRID            1.176515  ...   \n",
       "2              S          KFC             MADRID            1.176515  ...   \n",
       "3              S          KHE             MADRID           -0.849968  ...   \n",
       "4              S          KHE            GRANADA           -0.849968  ...   \n",
       "\n",
       "   Pension1 Loans  Taxes  Credit_Card  Securities  Home_Acct  Payroll  \\\n",
       "0         0     0      0            0           0          0      0.0   \n",
       "1         0     0      0            0           0          0      0.0   \n",
       "2         0     0      0            0           0          0      1.0   \n",
       "3         0     0      0            0           0          0      0.0   \n",
       "4         0     0      0            0           0          0      0.0   \n",
       "\n",
       "   Pension2  Direct_Debit  Savings_Acct  \n",
       "0       0.0             0             0  \n",
       "1       0.0             1             0  \n",
       "2       1.0             0             0  \n",
       "3       0.0             0             0  \n",
       "4       0.0             0             0  \n",
       "\n",
       "[5 rows x 37 columns]"
      ]
     },
     "execution_count": 16,
     "metadata": {},
     "output_type": "execute_result"
    }
   ],
   "source": [
    "features = df[scale_list]\n",
    "scaler = preprocessing.StandardScaler().fit(features.values)\n",
    "features = scaler.transform(features.values)\n",
    "df[scale_list] = features\n",
    "df.head()"
   ]
  },
  {
   "cell_type": "code",
   "execution_count": 17,
   "metadata": {},
   "outputs": [
    {
     "data": {
      "text/html": [
       "<div>\n",
       "<style scoped>\n",
       "    .dataframe tbody tr th:only-of-type {\n",
       "        vertical-align: middle;\n",
       "    }\n",
       "\n",
       "    .dataframe tbody tr th {\n",
       "        vertical-align: top;\n",
       "    }\n",
       "\n",
       "    .dataframe thead th {\n",
       "        text-align: right;\n",
       "    }\n",
       "</style>\n",
       "<table border=\"1\" class=\"dataframe\">\n",
       "  <thead>\n",
       "    <tr style=\"text-align: right;\">\n",
       "      <th></th>\n",
       "      <th>Emp_Status</th>\n",
       "      <th>Cust_Sex</th>\n",
       "      <th>Age</th>\n",
       "      <th>Is_New_Cust</th>\n",
       "      <th>Cust_Since</th>\n",
       "      <th>Cust_Relship_Type_Mth_Beg</th>\n",
       "      <th>Residence_Ctry</th>\n",
       "      <th>Join_Channel</th>\n",
       "      <th>Cust_Province_Name</th>\n",
       "      <th>Cust_Active_Status</th>\n",
       "      <th>...</th>\n",
       "      <th>Pension1</th>\n",
       "      <th>Loans</th>\n",
       "      <th>Taxes</th>\n",
       "      <th>Credit_Card</th>\n",
       "      <th>Securities</th>\n",
       "      <th>Home_Acct</th>\n",
       "      <th>Payroll</th>\n",
       "      <th>Pension2</th>\n",
       "      <th>Direct_Debit</th>\n",
       "      <th>Savings_Acct</th>\n",
       "    </tr>\n",
       "  </thead>\n",
       "  <tbody>\n",
       "    <tr>\n",
       "      <th>0</th>\n",
       "      <td>N</td>\n",
       "      <td>V</td>\n",
       "      <td>0.123457</td>\n",
       "      <td>0.0</td>\n",
       "      <td>0.999772</td>\n",
       "      <td>I</td>\n",
       "      <td>S</td>\n",
       "      <td>KHE</td>\n",
       "      <td>VALENCIA</td>\n",
       "      <td>-0.849968</td>\n",
       "      <td>...</td>\n",
       "      <td>0</td>\n",
       "      <td>0</td>\n",
       "      <td>0</td>\n",
       "      <td>0</td>\n",
       "      <td>0</td>\n",
       "      <td>0</td>\n",
       "      <td>0.0</td>\n",
       "      <td>0.0</td>\n",
       "      <td>0</td>\n",
       "      <td>0</td>\n",
       "    </tr>\n",
       "    <tr>\n",
       "      <th>1</th>\n",
       "      <td>N</td>\n",
       "      <td>H</td>\n",
       "      <td>0.154321</td>\n",
       "      <td>0.0</td>\n",
       "      <td>0.999772</td>\n",
       "      <td>A</td>\n",
       "      <td>S</td>\n",
       "      <td>KHE</td>\n",
       "      <td>MADRID</td>\n",
       "      <td>1.176515</td>\n",
       "      <td>...</td>\n",
       "      <td>0</td>\n",
       "      <td>0</td>\n",
       "      <td>0</td>\n",
       "      <td>0</td>\n",
       "      <td>0</td>\n",
       "      <td>0</td>\n",
       "      <td>0.0</td>\n",
       "      <td>0.0</td>\n",
       "      <td>1</td>\n",
       "      <td>0</td>\n",
       "    </tr>\n",
       "    <tr>\n",
       "      <th>2</th>\n",
       "      <td>N</td>\n",
       "      <td>H</td>\n",
       "      <td>0.148148</td>\n",
       "      <td>0.0</td>\n",
       "      <td>0.999772</td>\n",
       "      <td>A</td>\n",
       "      <td>S</td>\n",
       "      <td>KFC</td>\n",
       "      <td>MADRID</td>\n",
       "      <td>1.176515</td>\n",
       "      <td>...</td>\n",
       "      <td>0</td>\n",
       "      <td>0</td>\n",
       "      <td>0</td>\n",
       "      <td>0</td>\n",
       "      <td>0</td>\n",
       "      <td>0</td>\n",
       "      <td>1.0</td>\n",
       "      <td>1.0</td>\n",
       "      <td>0</td>\n",
       "      <td>0</td>\n",
       "    </tr>\n",
       "    <tr>\n",
       "      <th>3</th>\n",
       "      <td>N</td>\n",
       "      <td>H</td>\n",
       "      <td>0.148148</td>\n",
       "      <td>0.0</td>\n",
       "      <td>0.999772</td>\n",
       "      <td>I</td>\n",
       "      <td>S</td>\n",
       "      <td>KHE</td>\n",
       "      <td>MADRID</td>\n",
       "      <td>-0.849968</td>\n",
       "      <td>...</td>\n",
       "      <td>0</td>\n",
       "      <td>0</td>\n",
       "      <td>0</td>\n",
       "      <td>0</td>\n",
       "      <td>0</td>\n",
       "      <td>0</td>\n",
       "      <td>0.0</td>\n",
       "      <td>0.0</td>\n",
       "      <td>0</td>\n",
       "      <td>0</td>\n",
       "    </tr>\n",
       "    <tr>\n",
       "      <th>4</th>\n",
       "      <td>N</td>\n",
       "      <td>H</td>\n",
       "      <td>0.166667</td>\n",
       "      <td>0.0</td>\n",
       "      <td>0.999772</td>\n",
       "      <td>I</td>\n",
       "      <td>S</td>\n",
       "      <td>KHE</td>\n",
       "      <td>GRANADA</td>\n",
       "      <td>-0.849968</td>\n",
       "      <td>...</td>\n",
       "      <td>0</td>\n",
       "      <td>0</td>\n",
       "      <td>0</td>\n",
       "      <td>0</td>\n",
       "      <td>0</td>\n",
       "      <td>0</td>\n",
       "      <td>0.0</td>\n",
       "      <td>0.0</td>\n",
       "      <td>0</td>\n",
       "      <td>0</td>\n",
       "    </tr>\n",
       "  </tbody>\n",
       "</table>\n",
       "<p>5 rows × 37 columns</p>\n",
       "</div>"
      ],
      "text/plain": [
       "  Emp_Status Cust_Sex       Age  Is_New_Cust  Cust_Since  \\\n",
       "0          N        V  0.123457          0.0    0.999772   \n",
       "1          N        H  0.154321          0.0    0.999772   \n",
       "2          N        H  0.148148          0.0    0.999772   \n",
       "3          N        H  0.148148          0.0    0.999772   \n",
       "4          N        H  0.166667          0.0    0.999772   \n",
       "\n",
       "  Cust_Relship_Type_Mth_Beg Residence_Ctry Join_Channel Cust_Province_Name  \\\n",
       "0                         I              S          KHE           VALENCIA   \n",
       "1                         A              S          KHE             MADRID   \n",
       "2                         A              S          KFC             MADRID   \n",
       "3                         I              S          KHE             MADRID   \n",
       "4                         I              S          KHE            GRANADA   \n",
       "\n",
       "   Cust_Active_Status  ...  Pension1 Loans  Taxes  Credit_Card  Securities  \\\n",
       "0           -0.849968  ...         0     0      0            0           0   \n",
       "1            1.176515  ...         0     0      0            0           0   \n",
       "2            1.176515  ...         0     0      0            0           0   \n",
       "3           -0.849968  ...         0     0      0            0           0   \n",
       "4           -0.849968  ...         0     0      0            0           0   \n",
       "\n",
       "   Home_Acct  Payroll  Pension2  Direct_Debit  Savings_Acct  \n",
       "0          0      0.0       0.0             0             0  \n",
       "1          0      0.0       0.0             1             0  \n",
       "2          0      1.0       1.0             0             0  \n",
       "3          0      0.0       0.0             0             0  \n",
       "4          0      0.0       0.0             0             0  \n",
       "\n",
       "[5 rows x 37 columns]"
      ]
     },
     "execution_count": 17,
     "metadata": {},
     "output_type": "execute_result"
    }
   ],
   "source": [
    "features = df[normalise_list]\n",
    "scaler_1 = preprocessing.MinMaxScaler().fit(features.values)\n",
    "features = scaler_1.transform(features.values)\n",
    "df[normalise_list] = features\n",
    "df.head()"
   ]
  },
  {
   "cell_type": "code",
   "execution_count": 18,
   "metadata": {},
   "outputs": [],
   "source": [
    "df['Payroll'] = df['Payroll'].astype(int)\n",
    "df['Pension2'] = df['Pension2'].astype(int)"
   ]
  },
  {
   "cell_type": "code",
   "execution_count": 19,
   "metadata": {},
   "outputs": [],
   "source": [
    "encoder_list = ['Emp_Status', 'Cust_Sex', 'Cust_Relship_Type_Mth_Beg', 'Join_Channel', 'Cust_Segment', 'Residence_Ctry', 'Cust_Province_Name']"
   ]
  },
  {
   "cell_type": "code",
   "execution_count": 20,
   "metadata": {},
   "outputs": [],
   "source": [
    "from sklearn.preprocessing import LabelEncoder\n",
    "le = LabelEncoder()\n",
    "le.fit(df.Emp_Status) \n",
    "df.Emp_Status = le.transform(df.Emp_Status)\n",
    "le0 = LabelEncoder()\n",
    "le0.fit(df.Cust_Sex) \n",
    "df.Cust_Sex = le0.transform(df.Cust_Sex)\n",
    "le2 = LabelEncoder()\n",
    "le2.fit(df.Cust_Relship_Type_Mth_Beg) \n",
    "df.Cust_Relship_Type_Mth_Beg = le2.transform(df.Cust_Relship_Type_Mth_Beg)\n",
    "le3 = LabelEncoder()\n",
    "le3.fit(df.Join_Channel) \n",
    "df.Join_Channel = le3.transform(df.Join_Channel)\n",
    "le4 = LabelEncoder()\n",
    "le4.fit(df.Cust_Segment) \n",
    "df.Cust_Segment = le4.transform(df.Cust_Segment)\n",
    "le5 = LabelEncoder()\n",
    "le5.fit(df.Residence_Ctry) \n",
    "df.Residence_Ctry = le5.transform(df.Residence_Ctry)\n",
    "le7 = LabelEncoder()\n",
    "le7.fit(df.Cust_Province_Name) \n",
    "df.Cust_Province_Name = le7.transform(df.Cust_Province_Name)"
   ]
  },
  {
   "cell_type": "code",
   "execution_count": 21,
   "metadata": {},
   "outputs": [
    {
     "data": {
      "text/plain": [
       "Index(['Emp_Status', 'Cust_Sex', 'Age', 'Is_New_Cust', 'Cust_Since',\n",
       "       'Cust_Relship_Type_Mth_Beg', 'Residence_Ctry', 'Join_Channel',\n",
       "       'Cust_Province_Name', 'Cust_Active_Status', 'Gross_HHLD_Income',\n",
       "       'Cust_Segment', 'Monthly', 'Guarantees', 'Cur_Acct', 'Derivative_Acct',\n",
       "       'Payroll_Acct', 'Junior_Acct', 'Mas_Particular_Acct', 'Particular_Acct',\n",
       "       'Particular_Plus_Acct', 'Short_Term_Deposits', 'Med_Term_Deposits',\n",
       "       'Long_Term_Deposits', 'e-Acct', 'Funds', 'Mortgage', 'Pension1',\n",
       "       'Loans', 'Taxes', 'Credit_Card', 'Securities', 'Home_Acct', 'Payroll',\n",
       "       'Pension2', 'Direct_Debit', 'Savings_Acct'],\n",
       "      dtype='object')"
      ]
     },
     "execution_count": 21,
     "metadata": {},
     "output_type": "execute_result"
    }
   ],
   "source": [
    "df.columns"
   ]
  },
  {
   "cell_type": "code",
   "execution_count": 22,
   "metadata": {},
   "outputs": [
    {
     "name": "stdout",
     "output_type": "stream",
     "text": [
      "Output:\n",
      "Emp_Status                     int32\n",
      "Cust_Sex                       int32\n",
      "Age                          float64\n",
      "Is_New_Cust                  float64\n",
      "Cust_Since                   float64\n",
      "Cust_Relship_Type_Mth_Beg      int32\n",
      "Residence_Ctry                 int32\n",
      "Join_Channel                   int32\n",
      "Cust_Province_Name             int32\n",
      "Cust_Active_Status           float64\n",
      "Gross_HHLD_Income            float64\n",
      "Cust_Segment                   int32\n",
      "Monthly                      float64\n",
      "Guarantees                     int64\n",
      "Cur_Acct                       int64\n",
      "Derivative_Acct                int64\n",
      "Payroll_Acct                   int64\n",
      "Junior_Acct                    int64\n",
      "Mas_Particular_Acct            int64\n",
      "Particular_Acct                int64\n",
      "Particular_Plus_Acct           int64\n",
      "Short_Term_Deposits            int64\n",
      "Med_Term_Deposits              int64\n",
      "Long_Term_Deposits             int64\n",
      "e-Acct                         int64\n",
      "Funds                          int64\n",
      "Mortgage                       int64\n",
      "Pension1                       int64\n",
      "Loans                          int64\n",
      "Taxes                          int64\n",
      "Credit_Card                    int64\n",
      "Securities                     int64\n",
      "Home_Acct                      int64\n",
      "Payroll                        int32\n",
      "Pension2                       int32\n",
      "Direct_Debit                   int64\n",
      "Savings_Acct                   int64\n",
      "dtype: object\n"
     ]
    }
   ],
   "source": [
    "result = df.dtypes\n",
    "\n",
    "print(\"Output:\")\n",
    "print(result)"
   ]
  },
  {
   "cell_type": "code",
   "execution_count": 23,
   "metadata": {},
   "outputs": [],
   "source": [
    "target_dict = {'Savings_Acct':23, 'Guarantees':0, 'Cur_Acct':1,\n",
    "       'Derivative_Acct':2, 'Payroll_Acct':3, 'Junior_Acct':4, 'Mas_Particular_Acct':5,\n",
    "       'Particular_Acct':6, 'Particular_Plus_Acct':7, 'Short_Term_Deposits':8,\n",
    "       'Med_Term_Deposits':9, 'Long_Term_Deposits':10, 'e-Acct':11, 'Funds':12,\n",
    "       'Mortgage':13, 'Pension1':14, 'Loans':15, 'Taxes':16, 'Credit_Card':17, 'Securities':18,\n",
    "       'Home_Acct':19, 'Payroll':20, 'Pension2':21, 'Direct_Debit':22}"
   ]
  },
  {
   "cell_type": "code",
   "execution_count": 24,
   "metadata": {},
   "outputs": [
    {
     "data": {
      "text/plain": [
       "(1000000, 37)"
      ]
     },
     "execution_count": 24,
     "metadata": {},
     "output_type": "execute_result"
    }
   ],
   "source": [
    "df.shape"
   ]
  },
  {
   "cell_type": "code",
   "execution_count": 25,
   "metadata": {},
   "outputs": [],
   "source": [
    "target_cols = ['Guarantees', 'Cur_Acct',\n",
    "       'Derivative_Acct', 'Payroll_Acct', 'Junior_Acct', 'Mas_Particular_Acct',\n",
    "       'Particular_Acct', 'Particular_Plus_Acct', 'Short_Term_Deposits',\n",
    "       'Med_Term_Deposits', 'Long_Term_Deposits', 'e-Acct', 'Funds',\n",
    "       'Mortgage', 'Pension1', 'Loans', 'Taxes', 'Credit_Card', 'Securities',\n",
    "       'Home_Acct', 'Payroll', 'Pension2', 'Direct_Debit', 'Savings_Acct']"
   ]
  },
  {
   "cell_type": "code",
   "execution_count": 26,
   "metadata": {},
   "outputs": [
    {
     "data": {
      "text/plain": [
       "(1000000, 37)"
      ]
     },
     "execution_count": 26,
     "metadata": {},
     "output_type": "execute_result"
    }
   ],
   "source": [
    "arr = df.to_numpy()\n",
    "arr.shape"
   ]
  },
  {
   "cell_type": "code",
   "execution_count": 27,
   "metadata": {},
   "outputs": [],
   "source": [
    "lst = arr.tolist()\n",
    "#lst"
   ]
  },
  {
   "cell_type": "code",
   "execution_count": 28,
   "metadata": {},
   "outputs": [
    {
     "data": {
      "text/plain": [
       "1000000"
      ]
     },
     "execution_count": 28,
     "metadata": {},
     "output_type": "execute_result"
    }
   ],
   "source": [
    "len(lst)"
   ]
  },
  {
   "cell_type": "code",
   "execution_count": 29,
   "metadata": {},
   "outputs": [],
   "source": [
    "x_1 = []\n",
    "y_1 = []\n",
    "for x  in lst:\n",
    "    x_2 = []\n",
    "    count = 37\n",
    "    flag = 0\n",
    "    for y in range(13,37):\n",
    "        if x[y] == 1:\n",
    "            val = y-13\n",
    "            #print(val)\n",
    "            y_1.append(val)\n",
    "            x_1.append(x[0:13])\n",
    "            #print(x[0:24])\n",
    "            #x_1.append(x_2)\n",
    "            flag = 1\n",
    "            count -=1\n",
    "\n",
    "    if flag == 0:\n",
    "        x_1.append(x[0:13])\n",
    "        #x_1.append(x_2)\n",
    "\n",
    "    if count == 37:\n",
    "        y_1.append(99)\n",
    "    #print(x_2)\n",
    "\n",
    "#print(x_1)\n",
    "\n"
   ]
  },
  {
   "cell_type": "code",
   "execution_count": 30,
   "metadata": {},
   "outputs": [
    {
     "data": {
      "text/plain": [
       "1555283"
      ]
     },
     "execution_count": 30,
     "metadata": {},
     "output_type": "execute_result"
    }
   ],
   "source": [
    "len(x_1)"
   ]
  },
  {
   "cell_type": "code",
   "execution_count": 31,
   "metadata": {},
   "outputs": [],
   "source": [
    "train_X = np.array(x_1)\n",
    "train_y = np.array(y_1)"
   ]
  },
  {
   "cell_type": "code",
   "execution_count": 32,
   "metadata": {},
   "outputs": [
    {
     "data": {
      "text/plain": [
       "(1555283, 13)"
      ]
     },
     "execution_count": 32,
     "metadata": {},
     "output_type": "execute_result"
    }
   ],
   "source": [
    "train_X.shape"
   ]
  },
  {
   "cell_type": "code",
   "execution_count": 33,
   "metadata": {},
   "outputs": [
    {
     "data": {
      "text/plain": [
       "(1555283,)"
      ]
     },
     "execution_count": 33,
     "metadata": {},
     "output_type": "execute_result"
    }
   ],
   "source": [
    "train_y.shape"
   ]
  },
  {
   "cell_type": "code",
   "execution_count": 34,
   "metadata": {},
   "outputs": [
    {
     "name": "stdout",
     "output_type": "stream",
     "text": [
      "1\n"
     ]
    }
   ],
   "source": [
    "print(np.bincount(train_y).argmax())"
   ]
  },
  {
   "cell_type": "code",
   "execution_count": 35,
   "metadata": {},
   "outputs": [
    {
     "name": "stdout",
     "output_type": "stream",
     "text": [
      "[ 0  1  2  3  4  5  6  7  8  9 10 11 12 13 14 15 16 17 18 19 20 21 22 23\n",
      " 99]\n"
     ]
    }
   ],
   "source": [
    "print(np.unique(train_y))"
   ]
  },
  {
   "cell_type": "code",
   "execution_count": 36,
   "metadata": {},
   "outputs": [],
   "source": [
    "for i in range(1555283):\n",
    "    if train_y[i] == 99:\n",
    "        train_y[i] = 1"
   ]
  },
  {
   "cell_type": "code",
   "execution_count": 37,
   "metadata": {},
   "outputs": [
    {
     "name": "stdout",
     "output_type": "stream",
     "text": [
      "[ 0  1  2  3  4  5  6  7  8  9 10 11 12 13 14 15 16 17 18 19 20 21 22 23]\n"
     ]
    }
   ],
   "source": [
    "print(np.unique(train_y))"
   ]
  },
  {
   "cell_type": "code",
   "execution_count": 38,
   "metadata": {},
   "outputs": [],
   "source": [
    "from sklearn.model_selection import train_test_split\n",
    "X_train, X_test, y_train, y_test = train_test_split(train_X, train_y, test_size = 0.25, random_state = 0)"
   ]
  },
  {
   "cell_type": "code",
   "execution_count": 39,
   "metadata": {},
   "outputs": [
    {
     "data": {
      "text/plain": [
       "(1166462,)"
      ]
     },
     "execution_count": 39,
     "metadata": {},
     "output_type": "execute_result"
    }
   ],
   "source": [
    "y_train.shape"
   ]
  },
  {
   "cell_type": "code",
   "execution_count": 40,
   "metadata": {},
   "outputs": [
    {
     "data": {
      "text/plain": [
       "(1166462, 13)"
      ]
     },
     "execution_count": 40,
     "metadata": {},
     "output_type": "execute_result"
    }
   ],
   "source": [
    "X_train.shape"
   ]
  },
  {
   "cell_type": "code",
   "execution_count": 41,
   "metadata": {},
   "outputs": [],
   "source": [
    "def runXGB(train_X, train_y, seed_val=123):\n",
    "\tparam = {}\n",
    "\tparam['objective'] = 'multi:softprob'\n",
    "\tparam['eta'] = 0.05\n",
    "\tparam['max_depth'] = 6\n",
    "\tparam['silent'] = 1\n",
    "\tparam['num_class'] = 24\n",
    "\tparam['eval_metric'] = \"mlogloss\"\n",
    "\tparam['min_child_weight'] = 1\n",
    "\tparam['subsample'] = 0.95\n",
    "\tparam['colsample_bytree'] = 0.95\n",
    "\tparam['seed'] = seed_val\n",
    "\tnum_rounds = 100\n",
    "\n",
    "\tplst = list(param.items())\n",
    "\txgtrain = xgb.DMatrix(train_X, label=train_y)\n",
    "\tmodel = xgb.train(plst, xgtrain, num_rounds)\t\n",
    "\treturn model"
   ]
  },
  {
   "cell_type": "code",
   "execution_count": 44,
   "metadata": {},
   "outputs": [
    {
     "name": "stdout",
     "output_type": "stream",
     "text": [
      "[12:48:04] WARNING: C:/Users/Administrator/workspace/xgboost-win64_release_1.6.0/src/learner.cc:627: \n",
      "Parameters: { \"silent\" } might not be used.\n",
      "\n",
      "  This could be a false alarm, with some parameters getting used by language bindings but\n",
      "  then being mistakenly passed down to XGBoost core, or some parameter actually being used\n",
      "  but getting flagged wrongly here. Please open an issue if you find any such cases.\n",
      "\n",
      "\n"
     ]
    }
   ],
   "source": [
    "model = runXGB(X_train, y_train, seed_val=0)"
   ]
  },
  {
   "cell_type": "code",
   "execution_count": 42,
   "metadata": {},
   "outputs": [],
   "source": [
    "model = pickle.load(open('Model_XGB.pkl', 'rb'))"
   ]
  },
  {
   "cell_type": "code",
   "execution_count": 43,
   "metadata": {},
   "outputs": [],
   "source": [
    "xgtest = xgb.DMatrix(X_test)"
   ]
  },
  {
   "cell_type": "code",
   "execution_count": 84,
   "metadata": {},
   "outputs": [
    {
     "name": "stdout",
     "output_type": "stream",
     "text": [
      "(388821, 24)\n",
      "(388821, 24)\n",
      "(388821, 3)\n"
     ]
    }
   ],
   "source": [
    "preds = model.predict(xgtest)\n",
    "print(preds.shape)\n",
    "preds = np.argsort(preds, axis=1)\n",
    "print(preds.shape)\n",
    "preds = np.fliplr(preds)[:,:3]\n",
    "print(preds.shape)"
   ]
  },
  {
   "cell_type": "code",
   "execution_count": 85,
   "metadata": {},
   "outputs": [],
   "source": [
    "target_cols = np.array(target_cols)"
   ]
  },
  {
   "cell_type": "code",
   "execution_count": 86,
   "metadata": {},
   "outputs": [
    {
     "data": {
      "text/plain": [
       "array([ 1, 22,  6], dtype=int64)"
      ]
     },
     "execution_count": 86,
     "metadata": {},
     "output_type": "execute_result"
    }
   ],
   "source": [
    "preds[90]"
   ]
  },
  {
   "cell_type": "code",
   "execution_count": 87,
   "metadata": {},
   "outputs": [
    {
     "data": {
      "text/plain": [
       "(388821,)"
      ]
     },
     "execution_count": 87,
     "metadata": {},
     "output_type": "execute_result"
    }
   ],
   "source": [
    "y_test.shape"
   ]
  },
  {
   "cell_type": "code",
   "execution_count": 88,
   "metadata": {},
   "outputs": [],
   "source": [
    "hit = 0\n",
    "miss = 0"
   ]
  },
  {
   "cell_type": "code",
   "execution_count": 89,
   "metadata": {},
   "outputs": [
    {
     "data": {
      "text/plain": [
       "['Cur_Acct', 'Particular_Acct', 'Taxes']"
      ]
     },
     "execution_count": 89,
     "metadata": {},
     "output_type": "execute_result"
    }
   ],
   "source": [
    "res = []\n",
    "for i in range(3):\n",
    "    val = preds[91][i]\n",
    "    res.append(target_cols[val])\n",
    "\n",
    "res"
   ]
  },
  {
   "cell_type": "code",
   "execution_count": 90,
   "metadata": {},
   "outputs": [],
   "source": [
    "#pickle.dump(model, open('Model_XGB.pkl', 'wb'))"
   ]
  },
  {
   "cell_type": "code",
   "execution_count": 92,
   "metadata": {},
   "outputs": [
    {
     "name": "stdout",
     "output_type": "stream",
     "text": [
      "293038\n",
      "95784\n"
     ]
    }
   ],
   "source": [
    "for i in range(388821):\n",
    "\n",
    "    val = y_test[i]\n",
    "    flag = 0\n",
    "    for j in range(3):\n",
    "\n",
    "        if val == preds[i][j]:\n",
    "            hit += 1\n",
    "            flag = 1\n",
    "            break\n",
    "    if flag == 0:\n",
    "        miss += 1\n",
    "print(hit)\n",
    "print(miss)"
   ]
  },
  {
   "cell_type": "code",
   "execution_count": 52,
   "metadata": {},
   "outputs": [],
   "source": [
    "del arr\n",
    "del lst\n",
    "del x_1\n",
    "del x_2\n",
    "del y_1\n",
    "del train_X\n",
    "del train_y"
   ]
  },
  {
   "cell_type": "code",
   "execution_count": 53,
   "metadata": {},
   "outputs": [],
   "source": [
    "del X_test\n",
    "del X_train\n",
    "del y_train"
   ]
  },
  {
   "cell_type": "code",
   "execution_count": 54,
   "metadata": {},
   "outputs": [],
   "source": [
    "del df"
   ]
  },
  {
   "cell_type": "code",
   "execution_count": 55,
   "metadata": {},
   "outputs": [
    {
     "data": {
      "text/plain": [
       "array([[ 1, 16,  3, 22, 11,  6,  7, 20],\n",
       "       [ 1, 22,  6,  3, 11, 17, 16, 20],\n",
       "       [ 1,  7, 16, 11,  6, 22,  3,  5],\n",
       "       [ 1, 22, 11,  3, 21, 20, 10, 16],\n",
       "       [ 1,  6, 22, 11,  3, 17, 21, 20]], dtype=int64)"
      ]
     },
     "execution_count": 55,
     "metadata": {},
     "output_type": "execute_result"
    }
   ],
   "source": [
    "preds[388815:388820]"
   ]
  },
  {
   "cell_type": "code",
   "execution_count": 64,
   "metadata": {},
   "outputs": [
    {
     "data": {
      "text/plain": [
       "[['Cur_Acct',\n",
       "  'Direct_Debit',\n",
       "  'Payroll_Acct',\n",
       "  'Mas_Particular_Acct',\n",
       "  'Pension2',\n",
       "  'Payroll',\n",
       "  'e-Acct',\n",
       "  'Taxes'],\n",
       " ['Cur_Acct',\n",
       "  'e-Acct',\n",
       "  'Taxes',\n",
       "  'Payroll_Acct',\n",
       "  'Direct_Debit',\n",
       "  'Payroll',\n",
       "  'Pension2',\n",
       "  'Mas_Particular_Acct'],\n",
       " ['Cur_Acct',\n",
       "  'e-Acct',\n",
       "  'Direct_Debit',\n",
       "  'Payroll_Acct',\n",
       "  'Pension2',\n",
       "  'Payroll',\n",
       "  'Taxes',\n",
       "  'Credit_Card'],\n",
       " ['Cur_Acct',\n",
       "  'Taxes',\n",
       "  'Payroll_Acct',\n",
       "  'Direct_Debit',\n",
       "  'e-Acct',\n",
       "  'Payroll',\n",
       "  'Pension2',\n",
       "  'Mas_Particular_Acct'],\n",
       " ['Cur_Acct',\n",
       "  'Taxes',\n",
       "  'Payroll_Acct',\n",
       "  'Direct_Debit',\n",
       "  'e-Acct',\n",
       "  'Particular_Acct',\n",
       "  'Particular_Plus_Acct',\n",
       "  'Payroll'],\n",
       " ['Cur_Acct',\n",
       "  'Direct_Debit',\n",
       "  'Particular_Acct',\n",
       "  'Payroll_Acct',\n",
       "  'e-Acct',\n",
       "  'Credit_Card',\n",
       "  'Taxes',\n",
       "  'Payroll'],\n",
       " ['Cur_Acct',\n",
       "  'Particular_Plus_Acct',\n",
       "  'Taxes',\n",
       "  'e-Acct',\n",
       "  'Particular_Acct',\n",
       "  'Direct_Debit',\n",
       "  'Payroll_Acct',\n",
       "  'Mas_Particular_Acct'],\n",
       " ['Cur_Acct',\n",
       "  'Direct_Debit',\n",
       "  'e-Acct',\n",
       "  'Payroll_Acct',\n",
       "  'Pension2',\n",
       "  'Payroll',\n",
       "  'Long_Term_Deposits',\n",
       "  'Taxes'],\n",
       " ['Cur_Acct',\n",
       "  'Particular_Acct',\n",
       "  'Direct_Debit',\n",
       "  'e-Acct',\n",
       "  'Payroll_Acct',\n",
       "  'Credit_Card',\n",
       "  'Pension2',\n",
       "  'Payroll'],\n",
       " ['Cur_Acct',\n",
       "  'Payroll_Acct',\n",
       "  'Taxes',\n",
       "  'Direct_Debit',\n",
       "  'e-Acct',\n",
       "  'Mas_Particular_Acct',\n",
       "  'Pension2',\n",
       "  'Payroll']]"
      ]
     },
     "execution_count": 64,
     "metadata": {},
     "output_type": "execute_result"
    }
   ],
   "source": [
    "res = []\n",
    "for i in range(388811,388821):\n",
    "    val = []\n",
    "    for j in range(8):\n",
    "        val1 = preds[i][j]\n",
    "        val.append(target_cols[val1])\n",
    "    \n",
    "    res.append(val)\n",
    "\n",
    "res"
   ]
  },
  {
   "cell_type": "code",
   "execution_count": 65,
   "metadata": {},
   "outputs": [
    {
     "data": {
      "text/plain": [
       "['Cur_Acct',\n",
       " 'Taxes',\n",
       " 'Payroll_Acct',\n",
       " 'Direct_Debit',\n",
       " 'e-Acct',\n",
       " 'Particular_Acct',\n",
       " 'Particular_Plus_Acct',\n",
       " 'Payroll']"
      ]
     },
     "execution_count": 65,
     "metadata": {},
     "output_type": "execute_result"
    }
   ],
   "source": [
    "res[4]"
   ]
  },
  {
   "cell_type": "code",
   "execution_count": 66,
   "metadata": {},
   "outputs": [
    {
     "data": {
      "text/plain": [
       "['Cur_Acct',\n",
       " 'Taxes',\n",
       " 'Payroll_Acct',\n",
       " 'Direct_Debit',\n",
       " 'e-Acct',\n",
       " 'Payroll',\n",
       " 'Pension2',\n",
       " 'Mas_Particular_Acct']"
      ]
     },
     "execution_count": 66,
     "metadata": {},
     "output_type": "execute_result"
    }
   ],
   "source": [
    "res[3]"
   ]
  },
  {
   "cell_type": "code",
   "execution_count": 67,
   "metadata": {},
   "outputs": [
    {
     "data": {
      "text/plain": [
       "['Cur_Acct',\n",
       " 'e-Acct',\n",
       " 'Direct_Debit',\n",
       " 'Payroll_Acct',\n",
       " 'Pension2',\n",
       " 'Payroll',\n",
       " 'Taxes',\n",
       " 'Credit_Card']"
      ]
     },
     "execution_count": 67,
     "metadata": {},
     "output_type": "execute_result"
    }
   ],
   "source": [
    "res[2]"
   ]
  },
  {
   "cell_type": "code",
   "execution_count": 68,
   "metadata": {},
   "outputs": [
    {
     "data": {
      "text/plain": [
       "['Cur_Acct',\n",
       " 'e-Acct',\n",
       " 'Taxes',\n",
       " 'Payroll_Acct',\n",
       " 'Direct_Debit',\n",
       " 'Payroll',\n",
       " 'Pension2',\n",
       " 'Mas_Particular_Acct']"
      ]
     },
     "execution_count": 68,
     "metadata": {},
     "output_type": "execute_result"
    }
   ],
   "source": [
    "res[1]"
   ]
  },
  {
   "cell_type": "code",
   "execution_count": 69,
   "metadata": {},
   "outputs": [
    {
     "data": {
      "text/plain": [
       "['Cur_Acct',\n",
       " 'Direct_Debit',\n",
       " 'Particular_Acct',\n",
       " 'Payroll_Acct',\n",
       " 'e-Acct',\n",
       " 'Credit_Card',\n",
       " 'Taxes',\n",
       " 'Payroll']"
      ]
     },
     "execution_count": 69,
     "metadata": {},
     "output_type": "execute_result"
    }
   ],
   "source": [
    "res[5]"
   ]
  },
  {
   "cell_type": "code",
   "execution_count": 74,
   "metadata": {},
   "outputs": [
    {
     "data": {
      "text/plain": [
       "['Cur_Acct',\n",
       " 'Payroll_Acct',\n",
       " 'Taxes',\n",
       " 'Direct_Debit',\n",
       " 'e-Acct',\n",
       " 'Mas_Particular_Acct',\n",
       " 'Pension2',\n",
       " 'Payroll']"
      ]
     },
     "execution_count": 74,
     "metadata": {},
     "output_type": "execute_result"
    }
   ],
   "source": [
    "res[9]"
   ]
  },
  {
   "cell_type": "markdown",
   "metadata": {},
   "source": [
    "Junior_Acct\n",
    "Cur_Acct\n",
    "Particular_Acct\n",
    "Pension1\n",
    "Savings_Acct\n",
    "Guarantees\n",
    "Home_Acct\n",
    "Payroll\n",
    "Med_Term_Deposits\n",
    "Mortgage\n",
    "Long_Term_Deposits\n",
    "Particular_Plus_Acct\n",
    "Short_Term_Deposits\n",
    "Pension2\n",
    "Loans\n",
    "Credit_Card\n"
   ]
  },
  {
   "cell_type": "code",
   "execution_count": null,
   "metadata": {},
   "outputs": [],
   "source": []
  }
 ],
 "metadata": {
  "kernelspec": {
   "display_name": "Python 3.10.4 64-bit",
   "language": "python",
   "name": "python3"
  },
  "language_info": {
   "codemirror_mode": {
    "name": "ipython",
    "version": 3
   },
   "file_extension": ".py",
   "mimetype": "text/x-python",
   "name": "python",
   "nbconvert_exporter": "python",
   "pygments_lexer": "ipython3",
   "version": "3.10.4"
  },
  "orig_nbformat": 4,
  "vscode": {
   "interpreter": {
    "hash": "628722030c168428b48c2cfd5a11b6d8830421d0ac8aa71b61521169aa5eb66a"
   }
  }
 },
 "nbformat": 4,
 "nbformat_minor": 2
}
