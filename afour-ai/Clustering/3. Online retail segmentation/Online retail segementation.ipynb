{
  "cells": [
    {
      "cell_type": "code",
      "execution_count": 1,
      "metadata": {
        "colab": {
          "base_uri": "https://localhost:8080/"
        },
        "id": "HO9RF9kNQV-z",
        "outputId": "0e8758c7-a194-4def-c110-35d91073786f"
      },
      "outputs": [
        {
          "name": "stderr",
          "output_type": "stream",
          "text": [
            "Extracting : 100%|██████████| 1/1 [00:02<00:00,  2.60s/it]\n"
          ]
        }
      ],
      "source": [
        "from pathlib import Path\n",
        "import os\n",
        "import sys\n",
        "\n",
        "sys.path.append(str(Path(os.getcwd()).parents[1]))\n",
        "from Helper_Functions import common_utils\n",
        "directory_to_extract_to = os.getcwd()\n",
        "\n",
        "common_utils.load_data_from_one_drive(directory_to_extract_to, \"clustering_paths\", \"online_retail\")"
      ]
    },
    {
      "cell_type": "code",
      "execution_count": 2,
      "metadata": {
        "id": "jdF8pseXQc6A"
      },
      "outputs": [],
      "source": [
        "#Importing the Libraries\n",
        "import numpy as np\n",
        "import pandas as pd\n",
        "import datetime\n",
        "import matplotlib\n",
        "import matplotlib.pyplot as plt\n",
        "from matplotlib import colors\n",
        "import seaborn as sns\n",
        "from sklearn.preprocessing import LabelEncoder\n",
        "from sklearn.preprocessing import StandardScaler, MinMaxScaler\n",
        "from sklearn.decomposition import PCA\n",
        "from yellowbrick.cluster import KElbowVisualizer\n",
        "from sklearn.metrics import silhouette_score\n",
        "from sklearn.cluster import KMeans\n",
        "import matplotlib.pyplot as plt, numpy as np\n",
        "from mpl_toolkits.mplot3d import Axes3D\n",
        "from sklearn.cluster import AgglomerativeClustering\n",
        "from matplotlib.colors import ListedColormap\n",
        "from sklearn import metrics\n",
        "import warnings\n",
        "import sys"
      ]
    },
    {
      "cell_type": "code",
      "execution_count": 4,
      "metadata": {
        "colab": {
          "base_uri": "https://localhost:8080/",
          "height": 206
        },
        "id": "zP2Z3wyMQPDI",
        "outputId": "427df6f6-1268-49cc-81ab-9e9d94ac3369"
      },
      "outputs": [
        {
          "data": {
            "text/html": [
              "<div>\n",
              "<style scoped>\n",
              "    .dataframe tbody tr th:only-of-type {\n",
              "        vertical-align: middle;\n",
              "    }\n",
              "\n",
              "    .dataframe tbody tr th {\n",
              "        vertical-align: top;\n",
              "    }\n",
              "\n",
              "    .dataframe thead th {\n",
              "        text-align: right;\n",
              "    }\n",
              "</style>\n",
              "<table border=\"1\" class=\"dataframe\">\n",
              "  <thead>\n",
              "    <tr style=\"text-align: right;\">\n",
              "      <th></th>\n",
              "      <th>InvoiceNo</th>\n",
              "      <th>StockCode</th>\n",
              "      <th>Description</th>\n",
              "      <th>Quantity</th>\n",
              "      <th>InvoiceDate</th>\n",
              "      <th>UnitPrice</th>\n",
              "      <th>CustomerID</th>\n",
              "      <th>Country</th>\n",
              "    </tr>\n",
              "  </thead>\n",
              "  <tbody>\n",
              "    <tr>\n",
              "      <th>0</th>\n",
              "      <td>536365</td>\n",
              "      <td>85123A</td>\n",
              "      <td>WHITE HANGING HEART T-LIGHT HOLDER</td>\n",
              "      <td>6</td>\n",
              "      <td>01-12-2010 08:26</td>\n",
              "      <td>2.55</td>\n",
              "      <td>17850.0</td>\n",
              "      <td>United Kingdom</td>\n",
              "    </tr>\n",
              "    <tr>\n",
              "      <th>1</th>\n",
              "      <td>536365</td>\n",
              "      <td>71053</td>\n",
              "      <td>WHITE METAL LANTERN</td>\n",
              "      <td>6</td>\n",
              "      <td>01-12-2010 08:26</td>\n",
              "      <td>3.39</td>\n",
              "      <td>17850.0</td>\n",
              "      <td>United Kingdom</td>\n",
              "    </tr>\n",
              "    <tr>\n",
              "      <th>2</th>\n",
              "      <td>536365</td>\n",
              "      <td>84406B</td>\n",
              "      <td>CREAM CUPID HEARTS COAT HANGER</td>\n",
              "      <td>8</td>\n",
              "      <td>01-12-2010 08:26</td>\n",
              "      <td>2.75</td>\n",
              "      <td>17850.0</td>\n",
              "      <td>United Kingdom</td>\n",
              "    </tr>\n",
              "    <tr>\n",
              "      <th>3</th>\n",
              "      <td>536365</td>\n",
              "      <td>84029G</td>\n",
              "      <td>KNITTED UNION FLAG HOT WATER BOTTLE</td>\n",
              "      <td>6</td>\n",
              "      <td>01-12-2010 08:26</td>\n",
              "      <td>3.39</td>\n",
              "      <td>17850.0</td>\n",
              "      <td>United Kingdom</td>\n",
              "    </tr>\n",
              "    <tr>\n",
              "      <th>4</th>\n",
              "      <td>536365</td>\n",
              "      <td>84029E</td>\n",
              "      <td>RED WOOLLY HOTTIE WHITE HEART.</td>\n",
              "      <td>6</td>\n",
              "      <td>01-12-2010 08:26</td>\n",
              "      <td>3.39</td>\n",
              "      <td>17850.0</td>\n",
              "      <td>United Kingdom</td>\n",
              "    </tr>\n",
              "  </tbody>\n",
              "</table>\n",
              "</div>"
            ],
            "text/plain": [
              "  InvoiceNo StockCode                          Description  Quantity  \\\n",
              "0    536365    85123A   WHITE HANGING HEART T-LIGHT HOLDER         6   \n",
              "1    536365     71053                  WHITE METAL LANTERN         6   \n",
              "2    536365    84406B       CREAM CUPID HEARTS COAT HANGER         8   \n",
              "3    536365    84029G  KNITTED UNION FLAG HOT WATER BOTTLE         6   \n",
              "4    536365    84029E       RED WOOLLY HOTTIE WHITE HEART.         6   \n",
              "\n",
              "        InvoiceDate  UnitPrice  CustomerID         Country  \n",
              "0  01-12-2010 08:26       2.55     17850.0  United Kingdom  \n",
              "1  01-12-2010 08:26       3.39     17850.0  United Kingdom  \n",
              "2  01-12-2010 08:26       2.75     17850.0  United Kingdom  \n",
              "3  01-12-2010 08:26       3.39     17850.0  United Kingdom  \n",
              "4  01-12-2010 08:26       3.39     17850.0  United Kingdom  "
            ]
          },
          "execution_count": 4,
          "metadata": {},
          "output_type": "execute_result"
        }
      ],
      "source": [
        "data = pd.read_csv(\"OnlineRetail.csv\", encoding='ISO-8859-1')\n",
        "data.head()"
      ]
    },
    {
      "cell_type": "code",
      "execution_count": 5,
      "metadata": {
        "colab": {
          "base_uri": "https://localhost:8080/",
          "height": 112
        },
        "id": "Bn8hKmbDnggN",
        "outputId": "d5752b42-537b-4d54-bd9d-47899d6e589a"
      },
      "outputs": [
        {
          "data": {
            "text/html": [
              "<div>\n",
              "<style scoped>\n",
              "    .dataframe tbody tr th:only-of-type {\n",
              "        vertical-align: middle;\n",
              "    }\n",
              "\n",
              "    .dataframe tbody tr th {\n",
              "        vertical-align: top;\n",
              "    }\n",
              "\n",
              "    .dataframe thead th {\n",
              "        text-align: right;\n",
              "    }\n",
              "</style>\n",
              "<table border=\"1\" class=\"dataframe\">\n",
              "  <thead>\n",
              "    <tr style=\"text-align: right;\">\n",
              "      <th></th>\n",
              "      <th>InvoiceNo</th>\n",
              "      <th>StockCode</th>\n",
              "      <th>Description</th>\n",
              "      <th>Quantity</th>\n",
              "      <th>InvoiceDate</th>\n",
              "      <th>UnitPrice</th>\n",
              "      <th>CustomerID</th>\n",
              "      <th>Country</th>\n",
              "    </tr>\n",
              "  </thead>\n",
              "  <tbody>\n",
              "    <tr>\n",
              "      <th>61619</th>\n",
              "      <td>541431</td>\n",
              "      <td>23166</td>\n",
              "      <td>MEDIUM CERAMIC TOP STORAGE JAR</td>\n",
              "      <td>74215</td>\n",
              "      <td>18-01-2011 10:01</td>\n",
              "      <td>1.04</td>\n",
              "      <td>12346.0</td>\n",
              "      <td>United Kingdom</td>\n",
              "    </tr>\n",
              "    <tr>\n",
              "      <th>61624</th>\n",
              "      <td>C541433</td>\n",
              "      <td>23166</td>\n",
              "      <td>MEDIUM CERAMIC TOP STORAGE JAR</td>\n",
              "      <td>-74215</td>\n",
              "      <td>18-01-2011 10:17</td>\n",
              "      <td>1.04</td>\n",
              "      <td>12346.0</td>\n",
              "      <td>United Kingdom</td>\n",
              "    </tr>\n",
              "  </tbody>\n",
              "</table>\n",
              "</div>"
            ],
            "text/plain": [
              "      InvoiceNo StockCode                     Description  Quantity  \\\n",
              "61619    541431     23166  MEDIUM CERAMIC TOP STORAGE JAR     74215   \n",
              "61624   C541433     23166  MEDIUM CERAMIC TOP STORAGE JAR    -74215   \n",
              "\n",
              "            InvoiceDate  UnitPrice  CustomerID         Country  \n",
              "61619  18-01-2011 10:01       1.04     12346.0  United Kingdom  \n",
              "61624  18-01-2011 10:17       1.04     12346.0  United Kingdom  "
            ]
          },
          "execution_count": 5,
          "metadata": {},
          "output_type": "execute_result"
        }
      ],
      "source": [
        "data.loc[data['CustomerID'] == 12346.0]"
      ]
    },
    {
      "cell_type": "code",
      "execution_count": 6,
      "metadata": {
        "id": "Ex57om1cuGS8"
      },
      "outputs": [],
      "source": [
        "data = data.dropna()"
      ]
    },
    {
      "cell_type": "code",
      "execution_count": 7,
      "metadata": {
        "colab": {
          "base_uri": "https://localhost:8080/",
          "height": 1000
        },
        "id": "MoRZ4X_SrMyO",
        "outputId": "b00e742c-15b4-4e85-94f5-835c6e8e163e"
      },
      "outputs": [
        {
          "data": {
            "text/html": [
              "<div>\n",
              "<style scoped>\n",
              "    .dataframe tbody tr th:only-of-type {\n",
              "        vertical-align: middle;\n",
              "    }\n",
              "\n",
              "    .dataframe tbody tr th {\n",
              "        vertical-align: top;\n",
              "    }\n",
              "\n",
              "    .dataframe thead th {\n",
              "        text-align: right;\n",
              "    }\n",
              "</style>\n",
              "<table border=\"1\" class=\"dataframe\">\n",
              "  <thead>\n",
              "    <tr style=\"text-align: right;\">\n",
              "      <th></th>\n",
              "      <th>InvoiceNo</th>\n",
              "      <th>StockCode</th>\n",
              "      <th>Description</th>\n",
              "      <th>Quantity</th>\n",
              "      <th>InvoiceDate</th>\n",
              "      <th>UnitPrice</th>\n",
              "      <th>CustomerID</th>\n",
              "      <th>Country</th>\n",
              "    </tr>\n",
              "  </thead>\n",
              "  <tbody>\n",
              "    <tr>\n",
              "      <th>9302</th>\n",
              "      <td>537197</td>\n",
              "      <td>22841</td>\n",
              "      <td>ROUND CAKE TIN VINTAGE GREEN</td>\n",
              "      <td>1</td>\n",
              "      <td>05-12-2010 14:02</td>\n",
              "      <td>0.0</td>\n",
              "      <td>12647.0</td>\n",
              "      <td>Germany</td>\n",
              "    </tr>\n",
              "    <tr>\n",
              "      <th>33576</th>\n",
              "      <td>539263</td>\n",
              "      <td>22580</td>\n",
              "      <td>ADVENT CALENDAR GINGHAM SACK</td>\n",
              "      <td>4</td>\n",
              "      <td>16-12-2010 14:36</td>\n",
              "      <td>0.0</td>\n",
              "      <td>16560.0</td>\n",
              "      <td>United Kingdom</td>\n",
              "    </tr>\n",
              "    <tr>\n",
              "      <th>40089</th>\n",
              "      <td>539722</td>\n",
              "      <td>22423</td>\n",
              "      <td>REGENCY CAKESTAND 3 TIER</td>\n",
              "      <td>10</td>\n",
              "      <td>21-12-2010 13:45</td>\n",
              "      <td>0.0</td>\n",
              "      <td>14911.0</td>\n",
              "      <td>EIRE</td>\n",
              "    </tr>\n",
              "    <tr>\n",
              "      <th>47068</th>\n",
              "      <td>540372</td>\n",
              "      <td>22090</td>\n",
              "      <td>PAPER BUNTING RETROSPOT</td>\n",
              "      <td>24</td>\n",
              "      <td>06-01-2011 16:41</td>\n",
              "      <td>0.0</td>\n",
              "      <td>13081.0</td>\n",
              "      <td>United Kingdom</td>\n",
              "    </tr>\n",
              "    <tr>\n",
              "      <th>47070</th>\n",
              "      <td>540372</td>\n",
              "      <td>22553</td>\n",
              "      <td>PLASTERS IN TIN SKULLS</td>\n",
              "      <td>24</td>\n",
              "      <td>06-01-2011 16:41</td>\n",
              "      <td>0.0</td>\n",
              "      <td>13081.0</td>\n",
              "      <td>United Kingdom</td>\n",
              "    </tr>\n",
              "    <tr>\n",
              "      <th>56674</th>\n",
              "      <td>541109</td>\n",
              "      <td>22168</td>\n",
              "      <td>ORGANISER WOOD ANTIQUE WHITE</td>\n",
              "      <td>1</td>\n",
              "      <td>13-01-2011 15:10</td>\n",
              "      <td>0.0</td>\n",
              "      <td>15107.0</td>\n",
              "      <td>United Kingdom</td>\n",
              "    </tr>\n",
              "    <tr>\n",
              "      <th>86789</th>\n",
              "      <td>543599</td>\n",
              "      <td>84535B</td>\n",
              "      <td>FAIRY CAKES NOTEBOOK A6 SIZE</td>\n",
              "      <td>16</td>\n",
              "      <td>10-02-2011 13:08</td>\n",
              "      <td>0.0</td>\n",
              "      <td>17560.0</td>\n",
              "      <td>United Kingdom</td>\n",
              "    </tr>\n",
              "    <tr>\n",
              "      <th>130188</th>\n",
              "      <td>547417</td>\n",
              "      <td>22062</td>\n",
              "      <td>CERAMIC BOWL WITH LOVE HEART DESIGN</td>\n",
              "      <td>36</td>\n",
              "      <td>23-03-2011 10:25</td>\n",
              "      <td>0.0</td>\n",
              "      <td>13239.0</td>\n",
              "      <td>United Kingdom</td>\n",
              "    </tr>\n",
              "    <tr>\n",
              "      <th>139453</th>\n",
              "      <td>548318</td>\n",
              "      <td>22055</td>\n",
              "      <td>MINI CAKE STAND  HANGING STRAWBERY</td>\n",
              "      <td>5</td>\n",
              "      <td>30-03-2011 12:45</td>\n",
              "      <td>0.0</td>\n",
              "      <td>13113.0</td>\n",
              "      <td>United Kingdom</td>\n",
              "    </tr>\n",
              "    <tr>\n",
              "      <th>145208</th>\n",
              "      <td>548871</td>\n",
              "      <td>22162</td>\n",
              "      <td>HEART GARLAND RUSTIC PADDED</td>\n",
              "      <td>2</td>\n",
              "      <td>04-04-2011 14:42</td>\n",
              "      <td>0.0</td>\n",
              "      <td>14410.0</td>\n",
              "      <td>United Kingdom</td>\n",
              "    </tr>\n",
              "    <tr>\n",
              "      <th>157042</th>\n",
              "      <td>550188</td>\n",
              "      <td>22636</td>\n",
              "      <td>CHILDS BREAKFAST SET CIRCUS PARADE</td>\n",
              "      <td>1</td>\n",
              "      <td>14-04-2011 18:57</td>\n",
              "      <td>0.0</td>\n",
              "      <td>12457.0</td>\n",
              "      <td>Switzerland</td>\n",
              "    </tr>\n",
              "    <tr>\n",
              "      <th>187613</th>\n",
              "      <td>553000</td>\n",
              "      <td>47566</td>\n",
              "      <td>PARTY BUNTING</td>\n",
              "      <td>4</td>\n",
              "      <td>12-05-2011 15:21</td>\n",
              "      <td>0.0</td>\n",
              "      <td>17667.0</td>\n",
              "      <td>United Kingdom</td>\n",
              "    </tr>\n",
              "    <tr>\n",
              "      <th>198383</th>\n",
              "      <td>554037</td>\n",
              "      <td>22619</td>\n",
              "      <td>SET OF 6 SOLDIER SKITTLES</td>\n",
              "      <td>80</td>\n",
              "      <td>20-05-2011 14:13</td>\n",
              "      <td>0.0</td>\n",
              "      <td>12415.0</td>\n",
              "      <td>Australia</td>\n",
              "    </tr>\n",
              "    <tr>\n",
              "      <th>279324</th>\n",
              "      <td>561284</td>\n",
              "      <td>22167</td>\n",
              "      <td>OVAL WALL MIRROR DIAMANTE</td>\n",
              "      <td>1</td>\n",
              "      <td>26-07-2011 12:24</td>\n",
              "      <td>0.0</td>\n",
              "      <td>16818.0</td>\n",
              "      <td>United Kingdom</td>\n",
              "    </tr>\n",
              "    <tr>\n",
              "      <th>282912</th>\n",
              "      <td>561669</td>\n",
              "      <td>22960</td>\n",
              "      <td>JAM MAKING SET WITH JARS</td>\n",
              "      <td>11</td>\n",
              "      <td>28-07-2011 17:09</td>\n",
              "      <td>0.0</td>\n",
              "      <td>12507.0</td>\n",
              "      <td>Spain</td>\n",
              "    </tr>\n",
              "    <tr>\n",
              "      <th>285657</th>\n",
              "      <td>561916</td>\n",
              "      <td>M</td>\n",
              "      <td>Manual</td>\n",
              "      <td>1</td>\n",
              "      <td>01-08-2011 11:44</td>\n",
              "      <td>0.0</td>\n",
              "      <td>15581.0</td>\n",
              "      <td>United Kingdom</td>\n",
              "    </tr>\n",
              "    <tr>\n",
              "      <th>298054</th>\n",
              "      <td>562973</td>\n",
              "      <td>23157</td>\n",
              "      <td>SET OF 6 NATIVITY MAGNETS</td>\n",
              "      <td>240</td>\n",
              "      <td>11-08-2011 11:42</td>\n",
              "      <td>0.0</td>\n",
              "      <td>14911.0</td>\n",
              "      <td>EIRE</td>\n",
              "    </tr>\n",
              "    <tr>\n",
              "      <th>314745</th>\n",
              "      <td>564651</td>\n",
              "      <td>23270</td>\n",
              "      <td>SET OF 2 CERAMIC PAINTED HEARTS</td>\n",
              "      <td>96</td>\n",
              "      <td>26-08-2011 14:19</td>\n",
              "      <td>0.0</td>\n",
              "      <td>14646.0</td>\n",
              "      <td>Netherlands</td>\n",
              "    </tr>\n",
              "    <tr>\n",
              "      <th>314746</th>\n",
              "      <td>564651</td>\n",
              "      <td>23268</td>\n",
              "      <td>SET OF 2 CERAMIC CHRISTMAS REINDEER</td>\n",
              "      <td>192</td>\n",
              "      <td>26-08-2011 14:19</td>\n",
              "      <td>0.0</td>\n",
              "      <td>14646.0</td>\n",
              "      <td>Netherlands</td>\n",
              "    </tr>\n",
              "    <tr>\n",
              "      <th>314747</th>\n",
              "      <td>564651</td>\n",
              "      <td>22955</td>\n",
              "      <td>36 FOIL STAR CAKE CASES</td>\n",
              "      <td>144</td>\n",
              "      <td>26-08-2011 14:19</td>\n",
              "      <td>0.0</td>\n",
              "      <td>14646.0</td>\n",
              "      <td>Netherlands</td>\n",
              "    </tr>\n",
              "    <tr>\n",
              "      <th>314748</th>\n",
              "      <td>564651</td>\n",
              "      <td>21786</td>\n",
              "      <td>POLKADOT RAIN HAT</td>\n",
              "      <td>144</td>\n",
              "      <td>26-08-2011 14:19</td>\n",
              "      <td>0.0</td>\n",
              "      <td>14646.0</td>\n",
              "      <td>Netherlands</td>\n",
              "    </tr>\n",
              "    <tr>\n",
              "      <th>358655</th>\n",
              "      <td>568158</td>\n",
              "      <td>PADS</td>\n",
              "      <td>PADS TO MATCH ALL CUSHIONS</td>\n",
              "      <td>1</td>\n",
              "      <td>25-09-2011 12:22</td>\n",
              "      <td>0.0</td>\n",
              "      <td>16133.0</td>\n",
              "      <td>United Kingdom</td>\n",
              "    </tr>\n",
              "    <tr>\n",
              "      <th>361825</th>\n",
              "      <td>568384</td>\n",
              "      <td>M</td>\n",
              "      <td>Manual</td>\n",
              "      <td>1</td>\n",
              "      <td>27-09-2011 09:46</td>\n",
              "      <td>0.0</td>\n",
              "      <td>12748.0</td>\n",
              "      <td>United Kingdom</td>\n",
              "    </tr>\n",
              "    <tr>\n",
              "      <th>379913</th>\n",
              "      <td>569716</td>\n",
              "      <td>22778</td>\n",
              "      <td>GLASS CLOCHE SMALL</td>\n",
              "      <td>2</td>\n",
              "      <td>06-10-2011 08:17</td>\n",
              "      <td>0.0</td>\n",
              "      <td>15804.0</td>\n",
              "      <td>United Kingdom</td>\n",
              "    </tr>\n",
              "    <tr>\n",
              "      <th>395529</th>\n",
              "      <td>571035</td>\n",
              "      <td>M</td>\n",
              "      <td>Manual</td>\n",
              "      <td>1</td>\n",
              "      <td>13-10-2011 12:50</td>\n",
              "      <td>0.0</td>\n",
              "      <td>12446.0</td>\n",
              "      <td>RSA</td>\n",
              "    </tr>\n",
              "    <tr>\n",
              "      <th>420404</th>\n",
              "      <td>572893</td>\n",
              "      <td>21208</td>\n",
              "      <td>PASTEL COLOUR HONEYCOMB FAN</td>\n",
              "      <td>5</td>\n",
              "      <td>26-10-2011 14:36</td>\n",
              "      <td>0.0</td>\n",
              "      <td>18059.0</td>\n",
              "      <td>United Kingdom</td>\n",
              "    </tr>\n",
              "    <tr>\n",
              "      <th>436428</th>\n",
              "      <td>574138</td>\n",
              "      <td>23234</td>\n",
              "      <td>BISCUIT TIN VINTAGE CHRISTMAS</td>\n",
              "      <td>216</td>\n",
              "      <td>03-11-2011 11:26</td>\n",
              "      <td>0.0</td>\n",
              "      <td>12415.0</td>\n",
              "      <td>Australia</td>\n",
              "    </tr>\n",
              "    <tr>\n",
              "      <th>436597</th>\n",
              "      <td>574175</td>\n",
              "      <td>22065</td>\n",
              "      <td>CHRISTMAS PUDDING TRINKET POT</td>\n",
              "      <td>12</td>\n",
              "      <td>03-11-2011 11:47</td>\n",
              "      <td>0.0</td>\n",
              "      <td>14110.0</td>\n",
              "      <td>United Kingdom</td>\n",
              "    </tr>\n",
              "    <tr>\n",
              "      <th>436961</th>\n",
              "      <td>574252</td>\n",
              "      <td>M</td>\n",
              "      <td>Manual</td>\n",
              "      <td>1</td>\n",
              "      <td>03-11-2011 13:24</td>\n",
              "      <td>0.0</td>\n",
              "      <td>12437.0</td>\n",
              "      <td>France</td>\n",
              "    </tr>\n",
              "    <tr>\n",
              "      <th>439361</th>\n",
              "      <td>574469</td>\n",
              "      <td>22385</td>\n",
              "      <td>JUMBO BAG SPACEBOY DESIGN</td>\n",
              "      <td>12</td>\n",
              "      <td>04-11-2011 11:55</td>\n",
              "      <td>0.0</td>\n",
              "      <td>12431.0</td>\n",
              "      <td>Australia</td>\n",
              "    </tr>\n",
              "    <tr>\n",
              "      <th>446125</th>\n",
              "      <td>574879</td>\n",
              "      <td>22625</td>\n",
              "      <td>RED KITCHEN SCALES</td>\n",
              "      <td>2</td>\n",
              "      <td>07-11-2011 13:22</td>\n",
              "      <td>0.0</td>\n",
              "      <td>13014.0</td>\n",
              "      <td>United Kingdom</td>\n",
              "    </tr>\n",
              "    <tr>\n",
              "      <th>446793</th>\n",
              "      <td>574920</td>\n",
              "      <td>22899</td>\n",
              "      <td>CHILDREN'S APRON DOLLY GIRL</td>\n",
              "      <td>1</td>\n",
              "      <td>07-11-2011 16:34</td>\n",
              "      <td>0.0</td>\n",
              "      <td>13985.0</td>\n",
              "      <td>United Kingdom</td>\n",
              "    </tr>\n",
              "    <tr>\n",
              "      <th>446794</th>\n",
              "      <td>574920</td>\n",
              "      <td>23480</td>\n",
              "      <td>MINI LIGHTS WOODLAND MUSHROOMS</td>\n",
              "      <td>1</td>\n",
              "      <td>07-11-2011 16:34</td>\n",
              "      <td>0.0</td>\n",
              "      <td>13985.0</td>\n",
              "      <td>United Kingdom</td>\n",
              "    </tr>\n",
              "    <tr>\n",
              "      <th>454463</th>\n",
              "      <td>575579</td>\n",
              "      <td>22437</td>\n",
              "      <td>SET OF 9 BLACK SKULL BALLOONS</td>\n",
              "      <td>20</td>\n",
              "      <td>10-11-2011 11:49</td>\n",
              "      <td>0.0</td>\n",
              "      <td>13081.0</td>\n",
              "      <td>United Kingdom</td>\n",
              "    </tr>\n",
              "    <tr>\n",
              "      <th>454464</th>\n",
              "      <td>575579</td>\n",
              "      <td>22089</td>\n",
              "      <td>PAPER BUNTING VINTAGE PAISLEY</td>\n",
              "      <td>24</td>\n",
              "      <td>10-11-2011 11:49</td>\n",
              "      <td>0.0</td>\n",
              "      <td>13081.0</td>\n",
              "      <td>United Kingdom</td>\n",
              "    </tr>\n",
              "    <tr>\n",
              "      <th>479079</th>\n",
              "      <td>577129</td>\n",
              "      <td>22464</td>\n",
              "      <td>HANGING METAL HEART LANTERN</td>\n",
              "      <td>4</td>\n",
              "      <td>17-11-2011 19:52</td>\n",
              "      <td>0.0</td>\n",
              "      <td>15602.0</td>\n",
              "      <td>United Kingdom</td>\n",
              "    </tr>\n",
              "    <tr>\n",
              "      <th>479546</th>\n",
              "      <td>577168</td>\n",
              "      <td>M</td>\n",
              "      <td>Manual</td>\n",
              "      <td>1</td>\n",
              "      <td>18-11-2011 10:42</td>\n",
              "      <td>0.0</td>\n",
              "      <td>12603.0</td>\n",
              "      <td>Germany</td>\n",
              "    </tr>\n",
              "    <tr>\n",
              "      <th>480649</th>\n",
              "      <td>577314</td>\n",
              "      <td>23407</td>\n",
              "      <td>SET OF 2 TRAYS HOME SWEET HOME</td>\n",
              "      <td>2</td>\n",
              "      <td>18-11-2011 13:23</td>\n",
              "      <td>0.0</td>\n",
              "      <td>12444.0</td>\n",
              "      <td>Norway</td>\n",
              "    </tr>\n",
              "    <tr>\n",
              "      <th>485985</th>\n",
              "      <td>577696</td>\n",
              "      <td>M</td>\n",
              "      <td>Manual</td>\n",
              "      <td>1</td>\n",
              "      <td>21-11-2011 11:57</td>\n",
              "      <td>0.0</td>\n",
              "      <td>16406.0</td>\n",
              "      <td>United Kingdom</td>\n",
              "    </tr>\n",
              "    <tr>\n",
              "      <th>502122</th>\n",
              "      <td>578841</td>\n",
              "      <td>84826</td>\n",
              "      <td>ASSTD DESIGN 3D PAPER STICKERS</td>\n",
              "      <td>12540</td>\n",
              "      <td>25-11-2011 15:57</td>\n",
              "      <td>0.0</td>\n",
              "      <td>13256.0</td>\n",
              "      <td>United Kingdom</td>\n",
              "    </tr>\n",
              "  </tbody>\n",
              "</table>\n",
              "</div>"
            ],
            "text/plain": [
              "       InvoiceNo StockCode                          Description  Quantity  \\\n",
              "9302      537197     22841         ROUND CAKE TIN VINTAGE GREEN         1   \n",
              "33576     539263     22580         ADVENT CALENDAR GINGHAM SACK         4   \n",
              "40089     539722     22423             REGENCY CAKESTAND 3 TIER        10   \n",
              "47068     540372     22090              PAPER BUNTING RETROSPOT        24   \n",
              "47070     540372     22553               PLASTERS IN TIN SKULLS        24   \n",
              "56674     541109     22168        ORGANISER WOOD ANTIQUE WHITE          1   \n",
              "86789     543599    84535B         FAIRY CAKES NOTEBOOK A6 SIZE        16   \n",
              "130188    547417     22062  CERAMIC BOWL WITH LOVE HEART DESIGN        36   \n",
              "139453    548318     22055   MINI CAKE STAND  HANGING STRAWBERY         5   \n",
              "145208    548871     22162          HEART GARLAND RUSTIC PADDED         2   \n",
              "157042    550188     22636   CHILDS BREAKFAST SET CIRCUS PARADE         1   \n",
              "187613    553000     47566                        PARTY BUNTING         4   \n",
              "198383    554037     22619            SET OF 6 SOLDIER SKITTLES        80   \n",
              "279324    561284     22167           OVAL WALL MIRROR DIAMANTE          1   \n",
              "282912    561669     22960             JAM MAKING SET WITH JARS        11   \n",
              "285657    561916         M                               Manual         1   \n",
              "298054    562973     23157           SET OF 6 NATIVITY MAGNETS        240   \n",
              "314745    564651     23270     SET OF 2 CERAMIC PAINTED HEARTS         96   \n",
              "314746    564651     23268  SET OF 2 CERAMIC CHRISTMAS REINDEER       192   \n",
              "314747    564651     22955             36 FOIL STAR CAKE CASES        144   \n",
              "314748    564651     21786                   POLKADOT RAIN HAT        144   \n",
              "358655    568158      PADS           PADS TO MATCH ALL CUSHIONS         1   \n",
              "361825    568384         M                               Manual         1   \n",
              "379913    569716     22778                   GLASS CLOCHE SMALL         2   \n",
              "395529    571035         M                               Manual         1   \n",
              "420404    572893     21208          PASTEL COLOUR HONEYCOMB FAN         5   \n",
              "436428    574138     23234        BISCUIT TIN VINTAGE CHRISTMAS       216   \n",
              "436597    574175     22065       CHRISTMAS PUDDING TRINKET POT         12   \n",
              "436961    574252         M                               Manual         1   \n",
              "439361    574469     22385            JUMBO BAG SPACEBOY DESIGN        12   \n",
              "446125    574879     22625                   RED KITCHEN SCALES         2   \n",
              "446793    574920     22899         CHILDREN'S APRON DOLLY GIRL          1   \n",
              "446794    574920     23480       MINI LIGHTS WOODLAND MUSHROOMS         1   \n",
              "454463    575579     22437        SET OF 9 BLACK SKULL BALLOONS        20   \n",
              "454464    575579     22089        PAPER BUNTING VINTAGE PAISLEY        24   \n",
              "479079    577129     22464          HANGING METAL HEART LANTERN         4   \n",
              "479546    577168         M                               Manual         1   \n",
              "480649    577314     23407       SET OF 2 TRAYS HOME SWEET HOME         2   \n",
              "485985    577696         M                               Manual         1   \n",
              "502122    578841     84826       ASSTD DESIGN 3D PAPER STICKERS     12540   \n",
              "\n",
              "             InvoiceDate  UnitPrice  CustomerID         Country  \n",
              "9302    05-12-2010 14:02        0.0     12647.0         Germany  \n",
              "33576   16-12-2010 14:36        0.0     16560.0  United Kingdom  \n",
              "40089   21-12-2010 13:45        0.0     14911.0            EIRE  \n",
              "47068   06-01-2011 16:41        0.0     13081.0  United Kingdom  \n",
              "47070   06-01-2011 16:41        0.0     13081.0  United Kingdom  \n",
              "56674   13-01-2011 15:10        0.0     15107.0  United Kingdom  \n",
              "86789   10-02-2011 13:08        0.0     17560.0  United Kingdom  \n",
              "130188  23-03-2011 10:25        0.0     13239.0  United Kingdom  \n",
              "139453  30-03-2011 12:45        0.0     13113.0  United Kingdom  \n",
              "145208  04-04-2011 14:42        0.0     14410.0  United Kingdom  \n",
              "157042  14-04-2011 18:57        0.0     12457.0     Switzerland  \n",
              "187613  12-05-2011 15:21        0.0     17667.0  United Kingdom  \n",
              "198383  20-05-2011 14:13        0.0     12415.0       Australia  \n",
              "279324  26-07-2011 12:24        0.0     16818.0  United Kingdom  \n",
              "282912  28-07-2011 17:09        0.0     12507.0           Spain  \n",
              "285657  01-08-2011 11:44        0.0     15581.0  United Kingdom  \n",
              "298054  11-08-2011 11:42        0.0     14911.0            EIRE  \n",
              "314745  26-08-2011 14:19        0.0     14646.0     Netherlands  \n",
              "314746  26-08-2011 14:19        0.0     14646.0     Netherlands  \n",
              "314747  26-08-2011 14:19        0.0     14646.0     Netherlands  \n",
              "314748  26-08-2011 14:19        0.0     14646.0     Netherlands  \n",
              "358655  25-09-2011 12:22        0.0     16133.0  United Kingdom  \n",
              "361825  27-09-2011 09:46        0.0     12748.0  United Kingdom  \n",
              "379913  06-10-2011 08:17        0.0     15804.0  United Kingdom  \n",
              "395529  13-10-2011 12:50        0.0     12446.0             RSA  \n",
              "420404  26-10-2011 14:36        0.0     18059.0  United Kingdom  \n",
              "436428  03-11-2011 11:26        0.0     12415.0       Australia  \n",
              "436597  03-11-2011 11:47        0.0     14110.0  United Kingdom  \n",
              "436961  03-11-2011 13:24        0.0     12437.0          France  \n",
              "439361  04-11-2011 11:55        0.0     12431.0       Australia  \n",
              "446125  07-11-2011 13:22        0.0     13014.0  United Kingdom  \n",
              "446793  07-11-2011 16:34        0.0     13985.0  United Kingdom  \n",
              "446794  07-11-2011 16:34        0.0     13985.0  United Kingdom  \n",
              "454463  10-11-2011 11:49        0.0     13081.0  United Kingdom  \n",
              "454464  10-11-2011 11:49        0.0     13081.0  United Kingdom  \n",
              "479079  17-11-2011 19:52        0.0     15602.0  United Kingdom  \n",
              "479546  18-11-2011 10:42        0.0     12603.0         Germany  \n",
              "480649  18-11-2011 13:23        0.0     12444.0          Norway  \n",
              "485985  21-11-2011 11:57        0.0     16406.0  United Kingdom  \n",
              "502122  25-11-2011 15:57        0.0     13256.0  United Kingdom  "
            ]
          },
          "execution_count": 7,
          "metadata": {},
          "output_type": "execute_result"
        }
      ],
      "source": [
        "data.loc[data['UnitPrice'] <= 0]"
      ]
    },
    {
      "cell_type": "code",
      "execution_count": 8,
      "metadata": {
        "id": "r2zW2AfHp9QP"
      },
      "outputs": [],
      "source": [
        "data = data.drop(data[data['UnitPrice'] <= 0].index)"
      ]
    },
    {
      "cell_type": "code",
      "execution_count": 9,
      "metadata": {
        "colab": {
          "base_uri": "https://localhost:8080/"
        },
        "id": "8jbECtkUqy_A",
        "outputId": "ff0608cc-0fa7-405e-e063-02d56fd86407"
      },
      "outputs": [
        {
          "name": "stdout",
          "output_type": "stream",
          "text": [
            "<class 'pandas.core.frame.DataFrame'>\n",
            "Int64Index: 406789 entries, 0 to 541908\n",
            "Data columns (total 8 columns):\n",
            " #   Column       Non-Null Count   Dtype  \n",
            "---  ------       --------------   -----  \n",
            " 0   InvoiceNo    406789 non-null  object \n",
            " 1   StockCode    406789 non-null  object \n",
            " 2   Description  406789 non-null  object \n",
            " 3   Quantity     406789 non-null  int64  \n",
            " 4   InvoiceDate  406789 non-null  object \n",
            " 5   UnitPrice    406789 non-null  float64\n",
            " 6   CustomerID   406789 non-null  float64\n",
            " 7   Country      406789 non-null  object \n",
            "dtypes: float64(2), int64(1), object(5)\n",
            "memory usage: 27.9+ MB\n"
          ]
        }
      ],
      "source": [
        "data.info()"
      ]
    },
    {
      "cell_type": "code",
      "execution_count": 10,
      "metadata": {
        "colab": {
          "base_uri": "https://localhost:8080/",
          "height": 206
        },
        "id": "ci9dj1_JurYc",
        "outputId": "23314da7-3f9d-4fd7-9f6a-7e95c6895a7d"
      },
      "outputs": [
        {
          "data": {
            "text/html": [
              "<div>\n",
              "<style scoped>\n",
              "    .dataframe tbody tr th:only-of-type {\n",
              "        vertical-align: middle;\n",
              "    }\n",
              "\n",
              "    .dataframe tbody tr th {\n",
              "        vertical-align: top;\n",
              "    }\n",
              "\n",
              "    .dataframe thead th {\n",
              "        text-align: right;\n",
              "    }\n",
              "</style>\n",
              "<table border=\"1\" class=\"dataframe\">\n",
              "  <thead>\n",
              "    <tr style=\"text-align: right;\">\n",
              "      <th></th>\n",
              "      <th>InvoiceNo</th>\n",
              "      <th>StockCode</th>\n",
              "      <th>Description</th>\n",
              "      <th>Quantity</th>\n",
              "      <th>InvoiceDate</th>\n",
              "      <th>UnitPrice</th>\n",
              "      <th>CustomerID</th>\n",
              "      <th>Country</th>\n",
              "    </tr>\n",
              "  </thead>\n",
              "  <tbody>\n",
              "    <tr>\n",
              "      <th>0</th>\n",
              "      <td>536365</td>\n",
              "      <td>85123A</td>\n",
              "      <td>WHITE HANGING HEART T-LIGHT HOLDER</td>\n",
              "      <td>6</td>\n",
              "      <td>01-12-2010 08:26</td>\n",
              "      <td>2.55</td>\n",
              "      <td>17850.0</td>\n",
              "      <td>United Kingdom</td>\n",
              "    </tr>\n",
              "    <tr>\n",
              "      <th>1</th>\n",
              "      <td>536365</td>\n",
              "      <td>71053</td>\n",
              "      <td>WHITE METAL LANTERN</td>\n",
              "      <td>6</td>\n",
              "      <td>01-12-2010 08:26</td>\n",
              "      <td>3.39</td>\n",
              "      <td>17850.0</td>\n",
              "      <td>United Kingdom</td>\n",
              "    </tr>\n",
              "    <tr>\n",
              "      <th>2</th>\n",
              "      <td>536365</td>\n",
              "      <td>84406B</td>\n",
              "      <td>CREAM CUPID HEARTS COAT HANGER</td>\n",
              "      <td>8</td>\n",
              "      <td>01-12-2010 08:26</td>\n",
              "      <td>2.75</td>\n",
              "      <td>17850.0</td>\n",
              "      <td>United Kingdom</td>\n",
              "    </tr>\n",
              "    <tr>\n",
              "      <th>3</th>\n",
              "      <td>536365</td>\n",
              "      <td>84029G</td>\n",
              "      <td>KNITTED UNION FLAG HOT WATER BOTTLE</td>\n",
              "      <td>6</td>\n",
              "      <td>01-12-2010 08:26</td>\n",
              "      <td>3.39</td>\n",
              "      <td>17850.0</td>\n",
              "      <td>United Kingdom</td>\n",
              "    </tr>\n",
              "    <tr>\n",
              "      <th>4</th>\n",
              "      <td>536365</td>\n",
              "      <td>84029E</td>\n",
              "      <td>RED WOOLLY HOTTIE WHITE HEART.</td>\n",
              "      <td>6</td>\n",
              "      <td>01-12-2010 08:26</td>\n",
              "      <td>3.39</td>\n",
              "      <td>17850.0</td>\n",
              "      <td>United Kingdom</td>\n",
              "    </tr>\n",
              "  </tbody>\n",
              "</table>\n",
              "</div>"
            ],
            "text/plain": [
              "  InvoiceNo StockCode                          Description  Quantity  \\\n",
              "0    536365    85123A   WHITE HANGING HEART T-LIGHT HOLDER         6   \n",
              "1    536365     71053                  WHITE METAL LANTERN         6   \n",
              "2    536365    84406B       CREAM CUPID HEARTS COAT HANGER         8   \n",
              "3    536365    84029G  KNITTED UNION FLAG HOT WATER BOTTLE         6   \n",
              "4    536365    84029E       RED WOOLLY HOTTIE WHITE HEART.         6   \n",
              "\n",
              "        InvoiceDate  UnitPrice  CustomerID         Country  \n",
              "0  01-12-2010 08:26       2.55     17850.0  United Kingdom  \n",
              "1  01-12-2010 08:26       3.39     17850.0  United Kingdom  \n",
              "2  01-12-2010 08:26       2.75     17850.0  United Kingdom  \n",
              "3  01-12-2010 08:26       3.39     17850.0  United Kingdom  \n",
              "4  01-12-2010 08:26       3.39     17850.0  United Kingdom  "
            ]
          },
          "execution_count": 10,
          "metadata": {},
          "output_type": "execute_result"
        }
      ],
      "source": [
        "data.head()"
      ]
    },
    {
      "cell_type": "code",
      "execution_count": 11,
      "metadata": {
        "id": "ss8urCr8pClB"
      },
      "outputs": [],
      "source": [
        "data['Quantity'] = data['Quantity'].abs()"
      ]
    },
    {
      "cell_type": "code",
      "execution_count": 12,
      "metadata": {
        "id": "y5Y5OncSR1Ul"
      },
      "outputs": [],
      "source": [
        "data['amount']= data['Quantity']*data['UnitPrice']"
      ]
    },
    {
      "cell_type": "code",
      "execution_count": 13,
      "metadata": {
        "id": "1kZRk7S0pK1c"
      },
      "outputs": [],
      "source": [
        "data['amount'] = data['amount'].abs()"
      ]
    },
    {
      "cell_type": "code",
      "execution_count": 14,
      "metadata": {
        "colab": {
          "base_uri": "https://localhost:8080/",
          "height": 206
        },
        "id": "RzkkBnQ_R-ds",
        "outputId": "760a4228-fd1e-4ae1-867a-9e6008881b86"
      },
      "outputs": [
        {
          "data": {
            "text/html": [
              "<div>\n",
              "<style scoped>\n",
              "    .dataframe tbody tr th:only-of-type {\n",
              "        vertical-align: middle;\n",
              "    }\n",
              "\n",
              "    .dataframe tbody tr th {\n",
              "        vertical-align: top;\n",
              "    }\n",
              "\n",
              "    .dataframe thead th {\n",
              "        text-align: right;\n",
              "    }\n",
              "</style>\n",
              "<table border=\"1\" class=\"dataframe\">\n",
              "  <thead>\n",
              "    <tr style=\"text-align: right;\">\n",
              "      <th></th>\n",
              "      <th>CustomerID</th>\n",
              "      <th>amount</th>\n",
              "    </tr>\n",
              "  </thead>\n",
              "  <tbody>\n",
              "    <tr>\n",
              "      <th>0</th>\n",
              "      <td>12346.0</td>\n",
              "      <td>154367.20</td>\n",
              "    </tr>\n",
              "    <tr>\n",
              "      <th>1</th>\n",
              "      <td>12347.0</td>\n",
              "      <td>4310.00</td>\n",
              "    </tr>\n",
              "    <tr>\n",
              "      <th>2</th>\n",
              "      <td>12348.0</td>\n",
              "      <td>1797.24</td>\n",
              "    </tr>\n",
              "    <tr>\n",
              "      <th>3</th>\n",
              "      <td>12349.0</td>\n",
              "      <td>1757.55</td>\n",
              "    </tr>\n",
              "    <tr>\n",
              "      <th>4</th>\n",
              "      <td>12350.0</td>\n",
              "      <td>334.40</td>\n",
              "    </tr>\n",
              "  </tbody>\n",
              "</table>\n",
              "</div>"
            ],
            "text/plain": [
              "   CustomerID     amount\n",
              "0     12346.0  154367.20\n",
              "1     12347.0    4310.00\n",
              "2     12348.0    1797.24\n",
              "3     12349.0    1757.55\n",
              "4     12350.0     334.40"
            ]
          },
          "execution_count": 14,
          "metadata": {},
          "output_type": "execute_result"
        }
      ],
      "source": [
        "monetary_value = data.groupby(by='CustomerID')['amount'].sum()\n",
        "monetary_value=monetary_value.reset_index()\n",
        "monetary_value.head()"
      ]
    },
    {
      "cell_type": "code",
      "execution_count": 15,
      "metadata": {
        "colab": {
          "base_uri": "https://localhost:8080/",
          "height": 206
        },
        "id": "vP8u8n_8STYi",
        "outputId": "c842b7ab-7858-46f8-aef3-ce1abfb7b83e"
      },
      "outputs": [
        {
          "data": {
            "text/html": [
              "<div>\n",
              "<style scoped>\n",
              "    .dataframe tbody tr th:only-of-type {\n",
              "        vertical-align: middle;\n",
              "    }\n",
              "\n",
              "    .dataframe tbody tr th {\n",
              "        vertical-align: top;\n",
              "    }\n",
              "\n",
              "    .dataframe thead th {\n",
              "        text-align: right;\n",
              "    }\n",
              "</style>\n",
              "<table border=\"1\" class=\"dataframe\">\n",
              "  <thead>\n",
              "    <tr style=\"text-align: right;\">\n",
              "      <th></th>\n",
              "      <th>CustomerID</th>\n",
              "      <th>InvoiceNo</th>\n",
              "    </tr>\n",
              "  </thead>\n",
              "  <tbody>\n",
              "    <tr>\n",
              "      <th>0</th>\n",
              "      <td>12346.0</td>\n",
              "      <td>2</td>\n",
              "    </tr>\n",
              "    <tr>\n",
              "      <th>1</th>\n",
              "      <td>12347.0</td>\n",
              "      <td>182</td>\n",
              "    </tr>\n",
              "    <tr>\n",
              "      <th>2</th>\n",
              "      <td>12348.0</td>\n",
              "      <td>31</td>\n",
              "    </tr>\n",
              "    <tr>\n",
              "      <th>3</th>\n",
              "      <td>12349.0</td>\n",
              "      <td>73</td>\n",
              "    </tr>\n",
              "    <tr>\n",
              "      <th>4</th>\n",
              "      <td>12350.0</td>\n",
              "      <td>17</td>\n",
              "    </tr>\n",
              "  </tbody>\n",
              "</table>\n",
              "</div>"
            ],
            "text/plain": [
              "   CustomerID  InvoiceNo\n",
              "0     12346.0          2\n",
              "1     12347.0        182\n",
              "2     12348.0         31\n",
              "3     12349.0         73\n",
              "4     12350.0         17"
            ]
          },
          "execution_count": 15,
          "metadata": {},
          "output_type": "execute_result"
        }
      ],
      "source": [
        "frequency= data.groupby(by='CustomerID')['InvoiceNo'].count()\n",
        "frequency=frequency.reset_index()\n",
        "frequency.head()"
      ]
    },
    {
      "cell_type": "code",
      "execution_count": 16,
      "metadata": {
        "colab": {
          "base_uri": "https://localhost:8080/",
          "height": 206
        },
        "id": "u3_PL8IySZZt",
        "outputId": "a6e2de14-e4e8-4dcf-d706-3930059578ed"
      },
      "outputs": [
        {
          "data": {
            "text/html": [
              "<div>\n",
              "<style scoped>\n",
              "    .dataframe tbody tr th:only-of-type {\n",
              "        vertical-align: middle;\n",
              "    }\n",
              "\n",
              "    .dataframe tbody tr th {\n",
              "        vertical-align: top;\n",
              "    }\n",
              "\n",
              "    .dataframe thead th {\n",
              "        text-align: right;\n",
              "    }\n",
              "</style>\n",
              "<table border=\"1\" class=\"dataframe\">\n",
              "  <thead>\n",
              "    <tr style=\"text-align: right;\">\n",
              "      <th></th>\n",
              "      <th>CustomerID</th>\n",
              "      <th>InvoiceNo</th>\n",
              "      <th>amount</th>\n",
              "    </tr>\n",
              "  </thead>\n",
              "  <tbody>\n",
              "    <tr>\n",
              "      <th>0</th>\n",
              "      <td>12346.0</td>\n",
              "      <td>2</td>\n",
              "      <td>154367.20</td>\n",
              "    </tr>\n",
              "    <tr>\n",
              "      <th>1</th>\n",
              "      <td>12347.0</td>\n",
              "      <td>182</td>\n",
              "      <td>4310.00</td>\n",
              "    </tr>\n",
              "    <tr>\n",
              "      <th>2</th>\n",
              "      <td>12348.0</td>\n",
              "      <td>31</td>\n",
              "      <td>1797.24</td>\n",
              "    </tr>\n",
              "    <tr>\n",
              "      <th>3</th>\n",
              "      <td>12349.0</td>\n",
              "      <td>73</td>\n",
              "      <td>1757.55</td>\n",
              "    </tr>\n",
              "    <tr>\n",
              "      <th>4</th>\n",
              "      <td>12350.0</td>\n",
              "      <td>17</td>\n",
              "      <td>334.40</td>\n",
              "    </tr>\n",
              "  </tbody>\n",
              "</table>\n",
              "</div>"
            ],
            "text/plain": [
              "   CustomerID  InvoiceNo     amount\n",
              "0     12346.0          2  154367.20\n",
              "1     12347.0        182    4310.00\n",
              "2     12348.0         31    1797.24\n",
              "3     12349.0         73    1757.55\n",
              "4     12350.0         17     334.40"
            ]
          },
          "execution_count": 16,
          "metadata": {},
          "output_type": "execute_result"
        }
      ],
      "source": [
        "grouped_df = pd.merge(frequency, monetary_value, how ='inner',on='CustomerID')\n",
        "grouped_df.head()"
      ]
    },
    {
      "cell_type": "code",
      "execution_count": 17,
      "metadata": {
        "colab": {
          "base_uri": "https://localhost:8080/",
          "height": 206
        },
        "id": "eSN6yqdwSvOd",
        "outputId": "c83fb919-3c1d-4d42-fd87-a998f5d5590a"
      },
      "outputs": [
        {
          "data": {
            "text/html": [
              "<div>\n",
              "<style scoped>\n",
              "    .dataframe tbody tr th:only-of-type {\n",
              "        vertical-align: middle;\n",
              "    }\n",
              "\n",
              "    .dataframe tbody tr th {\n",
              "        vertical-align: top;\n",
              "    }\n",
              "\n",
              "    .dataframe thead th {\n",
              "        text-align: right;\n",
              "    }\n",
              "</style>\n",
              "<table border=\"1\" class=\"dataframe\">\n",
              "  <thead>\n",
              "    <tr style=\"text-align: right;\">\n",
              "      <th></th>\n",
              "      <th>InvoiceNo</th>\n",
              "      <th>StockCode</th>\n",
              "      <th>Description</th>\n",
              "      <th>Quantity</th>\n",
              "      <th>InvoiceDate</th>\n",
              "      <th>UnitPrice</th>\n",
              "      <th>CustomerID</th>\n",
              "      <th>Country</th>\n",
              "      <th>amount</th>\n",
              "    </tr>\n",
              "  </thead>\n",
              "  <tbody>\n",
              "    <tr>\n",
              "      <th>0</th>\n",
              "      <td>536365</td>\n",
              "      <td>85123A</td>\n",
              "      <td>WHITE HANGING HEART T-LIGHT HOLDER</td>\n",
              "      <td>6</td>\n",
              "      <td>2010-12-01 08:26:00</td>\n",
              "      <td>2.55</td>\n",
              "      <td>17850.0</td>\n",
              "      <td>United Kingdom</td>\n",
              "      <td>15.30</td>\n",
              "    </tr>\n",
              "    <tr>\n",
              "      <th>1</th>\n",
              "      <td>536365</td>\n",
              "      <td>71053</td>\n",
              "      <td>WHITE METAL LANTERN</td>\n",
              "      <td>6</td>\n",
              "      <td>2010-12-01 08:26:00</td>\n",
              "      <td>3.39</td>\n",
              "      <td>17850.0</td>\n",
              "      <td>United Kingdom</td>\n",
              "      <td>20.34</td>\n",
              "    </tr>\n",
              "    <tr>\n",
              "      <th>2</th>\n",
              "      <td>536365</td>\n",
              "      <td>84406B</td>\n",
              "      <td>CREAM CUPID HEARTS COAT HANGER</td>\n",
              "      <td>8</td>\n",
              "      <td>2010-12-01 08:26:00</td>\n",
              "      <td>2.75</td>\n",
              "      <td>17850.0</td>\n",
              "      <td>United Kingdom</td>\n",
              "      <td>22.00</td>\n",
              "    </tr>\n",
              "    <tr>\n",
              "      <th>3</th>\n",
              "      <td>536365</td>\n",
              "      <td>84029G</td>\n",
              "      <td>KNITTED UNION FLAG HOT WATER BOTTLE</td>\n",
              "      <td>6</td>\n",
              "      <td>2010-12-01 08:26:00</td>\n",
              "      <td>3.39</td>\n",
              "      <td>17850.0</td>\n",
              "      <td>United Kingdom</td>\n",
              "      <td>20.34</td>\n",
              "    </tr>\n",
              "    <tr>\n",
              "      <th>4</th>\n",
              "      <td>536365</td>\n",
              "      <td>84029E</td>\n",
              "      <td>RED WOOLLY HOTTIE WHITE HEART.</td>\n",
              "      <td>6</td>\n",
              "      <td>2010-12-01 08:26:00</td>\n",
              "      <td>3.39</td>\n",
              "      <td>17850.0</td>\n",
              "      <td>United Kingdom</td>\n",
              "      <td>20.34</td>\n",
              "    </tr>\n",
              "  </tbody>\n",
              "</table>\n",
              "</div>"
            ],
            "text/plain": [
              "  InvoiceNo StockCode                          Description  Quantity  \\\n",
              "0    536365    85123A   WHITE HANGING HEART T-LIGHT HOLDER         6   \n",
              "1    536365     71053                  WHITE METAL LANTERN         6   \n",
              "2    536365    84406B       CREAM CUPID HEARTS COAT HANGER         8   \n",
              "3    536365    84029G  KNITTED UNION FLAG HOT WATER BOTTLE         6   \n",
              "4    536365    84029E       RED WOOLLY HOTTIE WHITE HEART.         6   \n",
              "\n",
              "          InvoiceDate  UnitPrice  CustomerID         Country  amount  \n",
              "0 2010-12-01 08:26:00       2.55     17850.0  United Kingdom   15.30  \n",
              "1 2010-12-01 08:26:00       3.39     17850.0  United Kingdom   20.34  \n",
              "2 2010-12-01 08:26:00       2.75     17850.0  United Kingdom   22.00  \n",
              "3 2010-12-01 08:26:00       3.39     17850.0  United Kingdom   20.34  \n",
              "4 2010-12-01 08:26:00       3.39     17850.0  United Kingdom   20.34  "
            ]
          },
          "execution_count": 17,
          "metadata": {},
          "output_type": "execute_result"
        }
      ],
      "source": [
        "data['InvoiceDate']=pd.to_datetime(data['InvoiceDate'], format='%d-%m-%Y %H:%M')\n",
        "data.head()"
      ]
    },
    {
      "cell_type": "code",
      "execution_count": 18,
      "metadata": {
        "colab": {
          "base_uri": "https://localhost:8080/",
          "height": 50
        },
        "id": "GlOPLZ8nphZr",
        "outputId": "d298cf71-15e9-474d-a644-142784ba0eba"
      },
      "outputs": [
        {
          "data": {
            "text/html": [
              "<div>\n",
              "<style scoped>\n",
              "    .dataframe tbody tr th:only-of-type {\n",
              "        vertical-align: middle;\n",
              "    }\n",
              "\n",
              "    .dataframe tbody tr th {\n",
              "        vertical-align: top;\n",
              "    }\n",
              "\n",
              "    .dataframe thead th {\n",
              "        text-align: right;\n",
              "    }\n",
              "</style>\n",
              "<table border=\"1\" class=\"dataframe\">\n",
              "  <thead>\n",
              "    <tr style=\"text-align: right;\">\n",
              "      <th></th>\n",
              "      <th>InvoiceNo</th>\n",
              "      <th>StockCode</th>\n",
              "      <th>Description</th>\n",
              "      <th>Quantity</th>\n",
              "      <th>InvoiceDate</th>\n",
              "      <th>UnitPrice</th>\n",
              "      <th>CustomerID</th>\n",
              "      <th>Country</th>\n",
              "      <th>amount</th>\n",
              "    </tr>\n",
              "  </thead>\n",
              "  <tbody>\n",
              "  </tbody>\n",
              "</table>\n",
              "</div>"
            ],
            "text/plain": [
              "Empty DataFrame\n",
              "Columns: [InvoiceNo, StockCode, Description, Quantity, InvoiceDate, UnitPrice, CustomerID, Country, amount]\n",
              "Index: []"
            ]
          },
          "execution_count": 18,
          "metadata": {},
          "output_type": "execute_result"
        }
      ],
      "source": [
        "data.loc[data['amount'] <= 0]"
      ]
    },
    {
      "cell_type": "code",
      "execution_count": 19,
      "metadata": {
        "colab": {
          "base_uri": "https://localhost:8080/",
          "height": 206
        },
        "id": "MJzvudAHS_YB",
        "outputId": "70093265-dfee-4f0c-d00b-73801e0fccd9"
      },
      "outputs": [
        {
          "data": {
            "text/html": [
              "<div>\n",
              "<style scoped>\n",
              "    .dataframe tbody tr th:only-of-type {\n",
              "        vertical-align: middle;\n",
              "    }\n",
              "\n",
              "    .dataframe tbody tr th {\n",
              "        vertical-align: top;\n",
              "    }\n",
              "\n",
              "    .dataframe thead th {\n",
              "        text-align: right;\n",
              "    }\n",
              "</style>\n",
              "<table border=\"1\" class=\"dataframe\">\n",
              "  <thead>\n",
              "    <tr style=\"text-align: right;\">\n",
              "      <th></th>\n",
              "      <th>CustomerID</th>\n",
              "      <th>diff</th>\n",
              "    </tr>\n",
              "  </thead>\n",
              "  <tbody>\n",
              "    <tr>\n",
              "      <th>0</th>\n",
              "      <td>12346.0</td>\n",
              "      <td>325</td>\n",
              "    </tr>\n",
              "    <tr>\n",
              "      <th>1</th>\n",
              "      <td>12347.0</td>\n",
              "      <td>1</td>\n",
              "    </tr>\n",
              "    <tr>\n",
              "      <th>2</th>\n",
              "      <td>12348.0</td>\n",
              "      <td>74</td>\n",
              "    </tr>\n",
              "    <tr>\n",
              "      <th>3</th>\n",
              "      <td>12349.0</td>\n",
              "      <td>18</td>\n",
              "    </tr>\n",
              "    <tr>\n",
              "      <th>4</th>\n",
              "      <td>12350.0</td>\n",
              "      <td>309</td>\n",
              "    </tr>\n",
              "  </tbody>\n",
              "</table>\n",
              "</div>"
            ],
            "text/plain": [
              "   CustomerID  diff\n",
              "0     12346.0   325\n",
              "1     12347.0     1\n",
              "2     12348.0    74\n",
              "3     12349.0    18\n",
              "4     12350.0   309"
            ]
          },
          "execution_count": 19,
          "metadata": {},
          "output_type": "execute_result"
        }
      ],
      "source": [
        "max_date= data['InvoiceDate'].max()\n",
        "data['diff']= max_date-data['InvoiceDate']\n",
        "#data['diff'] = data['diff'].days\n",
        "last_purchase = data.groupby(by='CustomerID')['diff'].min()\n",
        "last_purchase=last_purchase.reset_index()\n",
        "last_purchase['diff'] = last_purchase['diff'].apply(lambda x: x.days)\n",
        "last_purchase.head()"
      ]
    },
    {
      "cell_type": "code",
      "execution_count": 20,
      "metadata": {
        "colab": {
          "base_uri": "https://localhost:8080/"
        },
        "id": "FsYY8U9DnF__",
        "outputId": "c9c12101-684d-4813-9717-7053b80cc447"
      },
      "outputs": [
        {
          "data": {
            "text/plain": [
              "Timestamp('2011-12-09 12:50:00')"
            ]
          },
          "execution_count": 20,
          "metadata": {},
          "output_type": "execute_result"
        }
      ],
      "source": [
        "max_date"
      ]
    },
    {
      "cell_type": "code",
      "execution_count": 21,
      "metadata": {
        "colab": {
          "base_uri": "https://localhost:8080/",
          "height": 206
        },
        "id": "0jP95pE-TxTP",
        "outputId": "ad332423-a359-452c-d0df-751f3d5741ce"
      },
      "outputs": [
        {
          "data": {
            "text/html": [
              "<div>\n",
              "<style scoped>\n",
              "    .dataframe tbody tr th:only-of-type {\n",
              "        vertical-align: middle;\n",
              "    }\n",
              "\n",
              "    .dataframe tbody tr th {\n",
              "        vertical-align: top;\n",
              "    }\n",
              "\n",
              "    .dataframe thead th {\n",
              "        text-align: right;\n",
              "    }\n",
              "</style>\n",
              "<table border=\"1\" class=\"dataframe\">\n",
              "  <thead>\n",
              "    <tr style=\"text-align: right;\">\n",
              "      <th></th>\n",
              "      <th>CustomerID</th>\n",
              "      <th>InvoiceNo</th>\n",
              "      <th>amount</th>\n",
              "      <th>diff</th>\n",
              "    </tr>\n",
              "  </thead>\n",
              "  <tbody>\n",
              "    <tr>\n",
              "      <th>0</th>\n",
              "      <td>12346.0</td>\n",
              "      <td>2</td>\n",
              "      <td>154367.20</td>\n",
              "      <td>325</td>\n",
              "    </tr>\n",
              "    <tr>\n",
              "      <th>1</th>\n",
              "      <td>12347.0</td>\n",
              "      <td>182</td>\n",
              "      <td>4310.00</td>\n",
              "      <td>1</td>\n",
              "    </tr>\n",
              "    <tr>\n",
              "      <th>2</th>\n",
              "      <td>12348.0</td>\n",
              "      <td>31</td>\n",
              "      <td>1797.24</td>\n",
              "      <td>74</td>\n",
              "    </tr>\n",
              "    <tr>\n",
              "      <th>3</th>\n",
              "      <td>12349.0</td>\n",
              "      <td>73</td>\n",
              "      <td>1757.55</td>\n",
              "      <td>18</td>\n",
              "    </tr>\n",
              "    <tr>\n",
              "      <th>4</th>\n",
              "      <td>12350.0</td>\n",
              "      <td>17</td>\n",
              "      <td>334.40</td>\n",
              "      <td>309</td>\n",
              "    </tr>\n",
              "  </tbody>\n",
              "</table>\n",
              "</div>"
            ],
            "text/plain": [
              "   CustomerID  InvoiceNo     amount  diff\n",
              "0     12346.0          2  154367.20   325\n",
              "1     12347.0        182    4310.00     1\n",
              "2     12348.0         31    1797.24    74\n",
              "3     12349.0         73    1757.55    18\n",
              "4     12350.0         17     334.40   309"
            ]
          },
          "execution_count": 21,
          "metadata": {},
          "output_type": "execute_result"
        }
      ],
      "source": [
        "grouped_df = pd.merge(grouped_df, last_purchase, how='inner', on='CustomerID')\n",
        "grouped_df.head()"
      ]
    },
    {
      "cell_type": "code",
      "execution_count": 22,
      "metadata": {
        "colab": {
          "base_uri": "https://localhost:8080/",
          "height": 206
        },
        "id": "g8-IkPXgYH7T",
        "outputId": "16a44fb2-e16b-423a-cca6-3588fa83a0ed"
      },
      "outputs": [
        {
          "data": {
            "text/html": [
              "<div>\n",
              "<style scoped>\n",
              "    .dataframe tbody tr th:only-of-type {\n",
              "        vertical-align: middle;\n",
              "    }\n",
              "\n",
              "    .dataframe tbody tr th {\n",
              "        vertical-align: top;\n",
              "    }\n",
              "\n",
              "    .dataframe thead th {\n",
              "        text-align: right;\n",
              "    }\n",
              "</style>\n",
              "<table border=\"1\" class=\"dataframe\">\n",
              "  <thead>\n",
              "    <tr style=\"text-align: right;\">\n",
              "      <th></th>\n",
              "      <th>CustomerID</th>\n",
              "      <th>frequency</th>\n",
              "      <th>monetary_value</th>\n",
              "      <th>recency</th>\n",
              "    </tr>\n",
              "  </thead>\n",
              "  <tbody>\n",
              "    <tr>\n",
              "      <th>0</th>\n",
              "      <td>12346.0</td>\n",
              "      <td>2</td>\n",
              "      <td>154367.20</td>\n",
              "      <td>325</td>\n",
              "    </tr>\n",
              "    <tr>\n",
              "      <th>1</th>\n",
              "      <td>12347.0</td>\n",
              "      <td>182</td>\n",
              "      <td>4310.00</td>\n",
              "      <td>1</td>\n",
              "    </tr>\n",
              "    <tr>\n",
              "      <th>2</th>\n",
              "      <td>12348.0</td>\n",
              "      <td>31</td>\n",
              "      <td>1797.24</td>\n",
              "      <td>74</td>\n",
              "    </tr>\n",
              "    <tr>\n",
              "      <th>3</th>\n",
              "      <td>12349.0</td>\n",
              "      <td>73</td>\n",
              "      <td>1757.55</td>\n",
              "      <td>18</td>\n",
              "    </tr>\n",
              "    <tr>\n",
              "      <th>4</th>\n",
              "      <td>12350.0</td>\n",
              "      <td>17</td>\n",
              "      <td>334.40</td>\n",
              "      <td>309</td>\n",
              "    </tr>\n",
              "  </tbody>\n",
              "</table>\n",
              "</div>"
            ],
            "text/plain": [
              "   CustomerID  frequency  monetary_value  recency\n",
              "0     12346.0          2       154367.20      325\n",
              "1     12347.0        182         4310.00        1\n",
              "2     12348.0         31         1797.24       74\n",
              "3     12349.0         73         1757.55       18\n",
              "4     12350.0         17          334.40      309"
            ]
          },
          "execution_count": 22,
          "metadata": {},
          "output_type": "execute_result"
        }
      ],
      "source": [
        "grouped_df.columns=['CustomerID','frequency','monetary_value','recency']\n",
        "grouped_df.head()"
      ]
    },
    {
      "cell_type": "code",
      "execution_count": 23,
      "metadata": {
        "colab": {
          "base_uri": "https://localhost:8080/",
          "height": 389
        },
        "id": "Y46mNvWkYcKq",
        "outputId": "4de8c57d-afbb-44d3-d9f4-ce9f3b79671f"
      },
      "outputs": [
        {
          "data": {
            "image/png": "[encoded data removed]",
            "text/plain": [
              "<Figure size 576x432 with 1 Axes>"
            ]
          },
          "metadata": {},
          "output_type": "display_data"
        }
      ],
      "source": [
        "plt.figure(figsize=(8,6))\n",
        "sns.regplot(x = grouped_df[\"CustomerID\"], y = grouped_df[\"monetary_value\"])\n",
        "plt.show()"
      ]
    },
    {
      "cell_type": "code",
      "execution_count": 24,
      "metadata": {
        "colab": {
          "base_uri": "https://localhost:8080/",
          "height": 388
        },
        "id": "9f72nK4lYmDw",
        "outputId": "9fda01c9-8207-4c77-c143-735ec39e004d"
      },
      "outputs": [
        {
          "data": {
            "image/png": "[encoded data removed]",
            "text/plain": [
              "<Figure size 576x432 with 1 Axes>"
            ]
          },
          "metadata": {},
          "output_type": "display_data"
        }
      ],
      "source": [
        "plt.figure(figsize=(8,6))\n",
        "sns.regplot(x = grouped_df[\"CustomerID\"], y = grouped_df[\"frequency\"])\n",
        "plt.show()"
      ]
    },
    {
      "cell_type": "code",
      "execution_count": 25,
      "metadata": {
        "colab": {
          "base_uri": "https://localhost:8080/",
          "height": 388
        },
        "id": "aHZXppiCZAnD",
        "outputId": "18cf1fa3-1f5a-4d39-f720-a6386993817d"
      },
      "outputs": [
        {
          "data": {
            "image/png": "[encoded data removed]",
            "text/plain": [
              "<Figure size 576x432 with 1 Axes>"
            ]
          },
          "metadata": {},
          "output_type": "display_data"
        }
      ],
      "source": [
        "plt.figure(figsize=(8,6))\n",
        "sns.regplot(x = grouped_df[\"CustomerID\"], y = grouped_df[\"recency\"])\n",
        "plt.show()"
      ]
    },
    {
      "cell_type": "code",
      "execution_count": 26,
      "metadata": {
        "colab": {
          "base_uri": "https://localhost:8080/",
          "height": 433
        },
        "id": "tdNdyNgDZhJE",
        "outputId": "e71c494d-8bdb-4d46-fcdf-d8ea306f9971"
      },
      "outputs": [
        {
          "name": "stderr",
          "output_type": "stream",
          "text": [
            "/usr/local/lib/python3.7/dist-packages/seaborn/_decorators.py:43: FutureWarning: Pass the following variable as a keyword arg: x. From version 0.12, the only valid positional argument will be `data`, and passing other arguments without an explicit keyword will result in an error or misinterpretation.\n",
            "  FutureWarning\n"
          ]
        },
        {
          "data": {
            "text/plain": [
              "<matplotlib.axes._subplots.AxesSubplot at 0x7f6833aeb6d0>"
            ]
          },
          "execution_count": 26,
          "metadata": {},
          "output_type": "execute_result"
        },
        {
          "data": {
            "image/png": "[encoded data removed]",
            "text/plain": [
              "<Figure size 576x396 with 1 Axes>"
            ]
          },
          "metadata": {},
          "output_type": "display_data"
        }
      ],
      "source": [
        "sns.boxplot(grouped_df['recency'])"
      ]
    },
    {
      "cell_type": "code",
      "execution_count": 27,
      "metadata": {
        "id": "KQ5Ax968aMCg"
      },
      "outputs": [],
      "source": [
        "# outlier treatment for monetary_value\n",
        "Q1 = grouped_df.monetary_value.quantile(0.05)\n",
        "Q3 = grouped_df.monetary_value.quantile(0.95)\n",
        "IQR = Q3 - Q1\n",
        "grouped_df = grouped_df[(grouped_df.monetary_value >= Q1 - 1.5*IQR) & (grouped_df.monetary_value <= Q3 + 1.5*IQR)]\n",
        "\n",
        "# outlier treatment for recency\n",
        "Q1 = grouped_df.recency.quantile(0.05)\n",
        "Q3 = grouped_df.recency.quantile(0.95)\n",
        "IQR = Q3 - Q1\n",
        "grouped_df = grouped_df[(grouped_df.recency >= Q1 - 1.5*IQR) & (grouped_df.recency <= Q3 + 1.5*IQR)]\n",
        "\n",
        "# outlier treatment for frequency\n",
        "Q1 = grouped_df.frequency.quantile(0.05)\n",
        "Q3 = grouped_df.frequency.quantile(0.95)\n",
        "IQR = Q3 - Q1\n",
        "grouped_df = grouped_df[(grouped_df.frequency >= Q1 - 1.5*IQR) & (grouped_df.frequency <= Q3 + 1.5*IQR)]"
      ]
    },
    {
      "cell_type": "code",
      "execution_count": 28,
      "metadata": {
        "colab": {
          "base_uri": "https://localhost:8080/",
          "height": 50
        },
        "id": "_eiovj73bSmS",
        "outputId": "9c8d4b46-1ad3-4f66-8bae-87c765e15d26"
      },
      "outputs": [
        {
          "data": {
            "text/html": [
              "<div>\n",
              "<style scoped>\n",
              "    .dataframe tbody tr th:only-of-type {\n",
              "        vertical-align: middle;\n",
              "    }\n",
              "\n",
              "    .dataframe tbody tr th {\n",
              "        vertical-align: top;\n",
              "    }\n",
              "\n",
              "    .dataframe thead th {\n",
              "        text-align: right;\n",
              "    }\n",
              "</style>\n",
              "<table border=\"1\" class=\"dataframe\">\n",
              "  <thead>\n",
              "    <tr style=\"text-align: right;\">\n",
              "      <th></th>\n",
              "      <th>CustomerID</th>\n",
              "      <th>frequency</th>\n",
              "      <th>monetary_value</th>\n",
              "      <th>recency</th>\n",
              "    </tr>\n",
              "  </thead>\n",
              "  <tbody>\n",
              "  </tbody>\n",
              "</table>\n",
              "</div>"
            ],
            "text/plain": [
              "Empty DataFrame\n",
              "Columns: [CustomerID, frequency, monetary_value, recency]\n",
              "Index: []"
            ]
          },
          "execution_count": 28,
          "metadata": {},
          "output_type": "execute_result"
        }
      ],
      "source": [
        "# unfortunately our customer was an outlier and was removed :(\n",
        "grouped_df.loc[grouped_df['CustomerID'] == 12346.0]"
      ]
    },
    {
      "cell_type": "code",
      "execution_count": 29,
      "metadata": {
        "colab": {
          "base_uri": "https://localhost:8080/",
          "height": 206
        },
        "id": "OT-iGyLxvcIg",
        "outputId": "2d834c34-5d05-4012-e89a-9dd773b6bc35"
      },
      "outputs": [
        {
          "data": {
            "text/html": [
              "<div>\n",
              "<style scoped>\n",
              "    .dataframe tbody tr th:only-of-type {\n",
              "        vertical-align: middle;\n",
              "    }\n",
              "\n",
              "    .dataframe tbody tr th {\n",
              "        vertical-align: top;\n",
              "    }\n",
              "\n",
              "    .dataframe thead th {\n",
              "        text-align: right;\n",
              "    }\n",
              "</style>\n",
              "<table border=\"1\" class=\"dataframe\">\n",
              "  <thead>\n",
              "    <tr style=\"text-align: right;\">\n",
              "      <th></th>\n",
              "      <th>CustomerID</th>\n",
              "      <th>frequency</th>\n",
              "      <th>monetary_value</th>\n",
              "      <th>recency</th>\n",
              "    </tr>\n",
              "  </thead>\n",
              "  <tbody>\n",
              "    <tr>\n",
              "      <th>1</th>\n",
              "      <td>12347.0</td>\n",
              "      <td>182</td>\n",
              "      <td>4310.00</td>\n",
              "      <td>1</td>\n",
              "    </tr>\n",
              "    <tr>\n",
              "      <th>2</th>\n",
              "      <td>12348.0</td>\n",
              "      <td>31</td>\n",
              "      <td>1797.24</td>\n",
              "      <td>74</td>\n",
              "    </tr>\n",
              "    <tr>\n",
              "      <th>3</th>\n",
              "      <td>12349.0</td>\n",
              "      <td>73</td>\n",
              "      <td>1757.55</td>\n",
              "      <td>18</td>\n",
              "    </tr>\n",
              "    <tr>\n",
              "      <th>4</th>\n",
              "      <td>12350.0</td>\n",
              "      <td>17</td>\n",
              "      <td>334.40</td>\n",
              "      <td>309</td>\n",
              "    </tr>\n",
              "    <tr>\n",
              "      <th>5</th>\n",
              "      <td>12352.0</td>\n",
              "      <td>95</td>\n",
              "      <td>3466.67</td>\n",
              "      <td>35</td>\n",
              "    </tr>\n",
              "  </tbody>\n",
              "</table>\n",
              "</div>"
            ],
            "text/plain": [
              "   CustomerID  frequency  monetary_value  recency\n",
              "1     12347.0        182         4310.00        1\n",
              "2     12348.0         31         1797.24       74\n",
              "3     12349.0         73         1757.55       18\n",
              "4     12350.0         17          334.40      309\n",
              "5     12352.0         95         3466.67       35"
            ]
          },
          "execution_count": 29,
          "metadata": {},
          "output_type": "execute_result"
        }
      ],
      "source": [
        "grouped_df.head()"
      ]
    },
    {
      "cell_type": "code",
      "execution_count": 30,
      "metadata": {
        "colab": {
          "base_uri": "https://localhost:8080/"
        },
        "id": "WFs8oCVGwL7Y",
        "outputId": "25de4f64-0d4d-4e88-9300-c318bbb09c27"
      },
      "outputs": [
        {
          "data": {
            "text/plain": [
              "(4286, 3)"
            ]
          },
          "execution_count": 30,
          "metadata": {},
          "output_type": "execute_result"
        }
      ],
      "source": [
        "rfm_df = grouped_df[['monetary_value', 'frequency', 'recency']]\n",
        "\n",
        "# instantiate\n",
        "scaler = StandardScaler()\n",
        "\n",
        "# fit_transform\n",
        "rfm_df_scaled = scaler.fit_transform(rfm_df)\n",
        "rfm_df_scaled.shape"
      ]
    },
    {
      "cell_type": "code",
      "execution_count": 31,
      "metadata": {
        "colab": {
          "base_uri": "https://localhost:8080/",
          "height": 206
        },
        "id": "pk-qemXQPjjN",
        "outputId": "e0733a96-4db4-41c8-88c7-b5791c219f05"
      },
      "outputs": [
        {
          "data": {
            "text/html": [
              "<div>\n",
              "<style scoped>\n",
              "    .dataframe tbody tr th:only-of-type {\n",
              "        vertical-align: middle;\n",
              "    }\n",
              "\n",
              "    .dataframe tbody tr th {\n",
              "        vertical-align: top;\n",
              "    }\n",
              "\n",
              "    .dataframe thead th {\n",
              "        text-align: right;\n",
              "    }\n",
              "</style>\n",
              "<table border=\"1\" class=\"dataframe\">\n",
              "  <thead>\n",
              "    <tr style=\"text-align: right;\">\n",
              "      <th></th>\n",
              "      <th>amount</th>\n",
              "      <th>frequency</th>\n",
              "      <th>recency</th>\n",
              "    </tr>\n",
              "  </thead>\n",
              "  <tbody>\n",
              "    <tr>\n",
              "      <th>0</th>\n",
              "      <td>1.617706</td>\n",
              "      <td>1.042790</td>\n",
              "      <td>-0.906725</td>\n",
              "    </tr>\n",
              "    <tr>\n",
              "      <th>1</th>\n",
              "      <td>0.249839</td>\n",
              "      <td>-0.463435</td>\n",
              "      <td>-0.183777</td>\n",
              "    </tr>\n",
              "    <tr>\n",
              "      <th>2</th>\n",
              "      <td>0.228233</td>\n",
              "      <td>-0.044485</td>\n",
              "      <td>-0.738367</td>\n",
              "    </tr>\n",
              "    <tr>\n",
              "      <th>3</th>\n",
              "      <td>-0.546484</td>\n",
              "      <td>-0.603085</td>\n",
              "      <td>2.143523</td>\n",
              "    </tr>\n",
              "    <tr>\n",
              "      <th>4</th>\n",
              "      <td>1.158624</td>\n",
              "      <td>0.174965</td>\n",
              "      <td>-0.570010</td>\n",
              "    </tr>\n",
              "  </tbody>\n",
              "</table>\n",
              "</div>"
            ],
            "text/plain": [
              "     amount  frequency   recency\n",
              "0  1.617706   1.042790 -0.906725\n",
              "1  0.249839  -0.463435 -0.183777\n",
              "2  0.228233  -0.044485 -0.738367\n",
              "3 -0.546484  -0.603085  2.143523\n",
              "4  1.158624   0.174965 -0.570010"
            ]
          },
          "execution_count": 31,
          "metadata": {},
          "output_type": "execute_result"
        }
      ],
      "source": [
        "rfm_df_scaled = pd.DataFrame(rfm_df_scaled)\n",
        "rfm_df_scaled.columns = ['amount', 'frequency', 'recency']\n",
        "rfm_df_scaled.head()"
      ]
    },
    {
      "cell_type": "code",
      "execution_count": 32,
      "metadata": {
        "colab": {
          "base_uri": "https://localhost:8080/",
          "height": 410
        },
        "id": "3gR05rBSPl7d",
        "outputId": "53eeb962-f74e-4ab9-a617-193f1a1af913"
      },
      "outputs": [
        {
          "name": "stdout",
          "output_type": "stream",
          "text": [
            "Elbow Method to determine the number of clusters to be formed:\n"
          ]
        },
        {
          "data": {
            "image/png": "[encoded data removed]",
            "text/plain": [
              "<Figure size 576x396 with 2 Axes>"
            ]
          },
          "metadata": {},
          "output_type": "display_data"
        },
        {
          "data": {
            "text/plain": [
              "<matplotlib.axes._subplots.AxesSubplot at 0x7f68322662d0>"
            ]
          },
          "execution_count": 32,
          "metadata": {},
          "output_type": "execute_result"
        }
      ],
      "source": [
        "# Quick examination of elbow method to find numbers of clusters to make.\n",
        "print('Elbow Method to determine the number of clusters to be formed:')\n",
        "Elbow_M = KElbowVisualizer(KMeans(), k=10)\n",
        "Elbow_M.fit(rfm_df_scaled)\n",
        "Elbow_M.show()"
      ]
    },
    {
      "cell_type": "markdown",
      "metadata": {
        "id": "XS5xaa3yR2MM"
      },
      "source": [
        "## Determine K for K means\n",
        "Silhouette score is in the range of -1 to 1. 1 signifing the very compact and dense cluster while -1 signifies incorrect clustering. "
      ]
    },
    {
      "cell_type": "code",
      "execution_count": 33,
      "metadata": {
        "colab": {
          "base_uri": "https://localhost:8080/"
        },
        "id": "JpdNaFXeQvUu",
        "outputId": "a6539a14-ea31-4355-ff67-c2ada6a286d5"
      },
      "outputs": [
        {
          "name": "stdout",
          "output_type": "stream",
          "text": [
            "For n_clusters=2, the silhouette score is 0.5385166807504488\n",
            "For n_clusters=3, the silhouette score is 0.5082136266206067\n",
            "For n_clusters=4, the silhouette score is 0.48647737910539135\n",
            "For n_clusters=5, the silhouette score is 0.4704577993193326\n",
            "For n_clusters=6, the silhouette score is 0.4159278598635937\n",
            "For n_clusters=7, the silhouette score is 0.4165852400100825\n",
            "For n_clusters=8, the silhouette score is 0.4090788109520739\n"
          ]
        }
      ],
      "source": [
        "range_n_clusters = [2, 3, 4, 5, 6, 7, 8]\n",
        "\n",
        "for num_clusters in range_n_clusters:\n",
        "    \n",
        "    # intialise kmeans\n",
        "    kmeans = KMeans(n_clusters=num_clusters, max_iter=50)\n",
        "    kmeans.fit(rfm_df_scaled)\n",
        "    \n",
        "    cluster_labels = kmeans.labels_\n",
        "    \n",
        "    # silhouette score\n",
        "    silhouette_avg = silhouette_score(rfm_df_scaled, cluster_labels)\n",
        "    print(\"For n_clusters={0}, the silhouette score is {1}\".format(num_clusters, silhouette_avg))"
      ]
    },
    {
      "cell_type": "code",
      "execution_count": 34,
      "metadata": {
        "colab": {
          "base_uri": "https://localhost:8080/"
        },
        "id": "Ifex02WKR1gs",
        "outputId": "01aaeb31-1606-4220-ce75-6d4584a07cad"
      },
      "outputs": [
        {
          "data": {
            "text/plain": [
              "KMeans(n_clusters=3)"
            ]
          },
          "execution_count": 34,
          "metadata": {},
          "output_type": "execute_result"
        }
      ],
      "source": [
        "kmeans = KMeans(n_clusters=3)\n",
        "kmeans.fit(rfm_df_scaled)"
      ]
    },
    {
      "cell_type": "code",
      "execution_count": 35,
      "metadata": {
        "id": "qoQW_4_pSj30"
      },
      "outputs": [],
      "source": [
        "grouped_df['Clusters'] = kmeans.labels_"
      ]
    },
    {
      "cell_type": "code",
      "execution_count": 36,
      "metadata": {
        "colab": {
          "base_uri": "https://localhost:8080/",
          "height": 423
        },
        "id": "g-K9bNNVS4mM",
        "outputId": "d15f1e08-156f-4549-f9da-f026631a3de3"
      },
      "outputs": [
        {
          "data": {
            "text/html": [
              "<div>\n",
              "<style scoped>\n",
              "    .dataframe tbody tr th:only-of-type {\n",
              "        vertical-align: middle;\n",
              "    }\n",
              "\n",
              "    .dataframe tbody tr th {\n",
              "        vertical-align: top;\n",
              "    }\n",
              "\n",
              "    .dataframe thead th {\n",
              "        text-align: right;\n",
              "    }\n",
              "</style>\n",
              "<table border=\"1\" class=\"dataframe\">\n",
              "  <thead>\n",
              "    <tr style=\"text-align: right;\">\n",
              "      <th></th>\n",
              "      <th>CustomerID</th>\n",
              "      <th>frequency</th>\n",
              "      <th>monetary_value</th>\n",
              "      <th>recency</th>\n",
              "      <th>Clusters</th>\n",
              "    </tr>\n",
              "  </thead>\n",
              "  <tbody>\n",
              "    <tr>\n",
              "      <th>1</th>\n",
              "      <td>12347.0</td>\n",
              "      <td>182</td>\n",
              "      <td>4310.00</td>\n",
              "      <td>1</td>\n",
              "      <td>1</td>\n",
              "    </tr>\n",
              "    <tr>\n",
              "      <th>2</th>\n",
              "      <td>12348.0</td>\n",
              "      <td>31</td>\n",
              "      <td>1797.24</td>\n",
              "      <td>74</td>\n",
              "      <td>2</td>\n",
              "    </tr>\n",
              "    <tr>\n",
              "      <th>3</th>\n",
              "      <td>12349.0</td>\n",
              "      <td>73</td>\n",
              "      <td>1757.55</td>\n",
              "      <td>18</td>\n",
              "      <td>2</td>\n",
              "    </tr>\n",
              "    <tr>\n",
              "      <th>4</th>\n",
              "      <td>12350.0</td>\n",
              "      <td>17</td>\n",
              "      <td>334.40</td>\n",
              "      <td>309</td>\n",
              "      <td>0</td>\n",
              "    </tr>\n",
              "    <tr>\n",
              "      <th>5</th>\n",
              "      <td>12352.0</td>\n",
              "      <td>95</td>\n",
              "      <td>3466.67</td>\n",
              "      <td>35</td>\n",
              "      <td>2</td>\n",
              "    </tr>\n",
              "    <tr>\n",
              "      <th>...</th>\n",
              "      <td>...</td>\n",
              "      <td>...</td>\n",
              "      <td>...</td>\n",
              "      <td>...</td>\n",
              "      <td>...</td>\n",
              "    </tr>\n",
              "    <tr>\n",
              "      <th>4365</th>\n",
              "      <td>18278.0</td>\n",
              "      <td>9</td>\n",
              "      <td>173.90</td>\n",
              "      <td>73</td>\n",
              "      <td>2</td>\n",
              "    </tr>\n",
              "    <tr>\n",
              "      <th>4366</th>\n",
              "      <td>18280.0</td>\n",
              "      <td>10</td>\n",
              "      <td>180.60</td>\n",
              "      <td>277</td>\n",
              "      <td>0</td>\n",
              "    </tr>\n",
              "    <tr>\n",
              "      <th>4367</th>\n",
              "      <td>18281.0</td>\n",
              "      <td>7</td>\n",
              "      <td>80.82</td>\n",
              "      <td>180</td>\n",
              "      <td>0</td>\n",
              "    </tr>\n",
              "    <tr>\n",
              "      <th>4368</th>\n",
              "      <td>18282.0</td>\n",
              "      <td>13</td>\n",
              "      <td>179.50</td>\n",
              "      <td>7</td>\n",
              "      <td>2</td>\n",
              "    </tr>\n",
              "    <tr>\n",
              "      <th>4370</th>\n",
              "      <td>18287.0</td>\n",
              "      <td>70</td>\n",
              "      <td>1837.28</td>\n",
              "      <td>42</td>\n",
              "      <td>2</td>\n",
              "    </tr>\n",
              "  </tbody>\n",
              "</table>\n",
              "<p>4286 rows × 5 columns</p>\n",
              "</div>"
            ],
            "text/plain": [
              "      CustomerID  frequency  monetary_value  recency  Clusters\n",
              "1        12347.0        182         4310.00        1         1\n",
              "2        12348.0         31         1797.24       74         2\n",
              "3        12349.0         73         1757.55       18         2\n",
              "4        12350.0         17          334.40      309         0\n",
              "5        12352.0         95         3466.67       35         2\n",
              "...          ...        ...             ...      ...       ...\n",
              "4365     18278.0          9          173.90       73         2\n",
              "4366     18280.0         10          180.60      277         0\n",
              "4367     18281.0          7           80.82      180         0\n",
              "4368     18282.0         13          179.50        7         2\n",
              "4370     18287.0         70         1837.28       42         2\n",
              "\n",
              "[4286 rows x 5 columns]"
            ]
          },
          "execution_count": 36,
          "metadata": {},
          "output_type": "execute_result"
        }
      ],
      "source": [
        "grouped_df"
      ]
    },
    {
      "cell_type": "code",
      "execution_count": 37,
      "metadata": {
        "id": "Koty0voET87U"
      },
      "outputs": [],
      "source": [
        "cmap = colors.ListedColormap([\"#682F2F\", \"#9E726F\", \"#D6B2B1\", \"#B9C0C9\", \"#9F8A78\", \"#F3AB60\"])"
      ]
    },
    {
      "cell_type": "code",
      "execution_count": 38,
      "metadata": {
        "colab": {
          "base_uri": "https://localhost:8080/",
          "height": 466
        },
        "id": "GNbreKRQTtEt",
        "outputId": "c3e7da53-1e6c-4b4e-a04a-77c63843d79e"
      },
      "outputs": [
        {
          "data": {
            "image/png": "[encoded data removed]",
            "text/plain": [
              "<Figure size 720x576 with 1 Axes>"
            ]
          },
          "metadata": {},
          "output_type": "display_data"
        }
      ],
      "source": [
        "fig = plt.figure(figsize=(10,8))\n",
        "ax = plt.subplot(111, projection='3d', label=\"bla\")\n",
        "ax.scatter(rfm_df_scaled['amount'], rfm_df_scaled['frequency'], rfm_df_scaled['recency'], s=40, c=grouped_df[\"Clusters\"], marker='o', cmap = cmap )\n",
        "ax.set_title(\"The Plot Of The Clusters\")\n",
        "plt.show()"
      ]
    },
    {
      "cell_type": "code",
      "execution_count": 39,
      "metadata": {
        "colab": {
          "base_uri": "https://localhost:8080/",
          "height": 376
        },
        "id": "HqxI8URhUXGk",
        "outputId": "0c0f58f4-511f-4e3a-8d00-68fe66f37419"
      },
      "outputs": [
        {
          "data": {
            "image/png": "[encoded data removed]",
            "text/plain": [
              "<Figure size 576x396 with 1 Axes>"
            ]
          },
          "metadata": {},
          "output_type": "display_data"
        }
      ],
      "source": [
        "#Plotting countplot of clusters\n",
        "pal = [\"#682F2F\",\"#B9C0C9\", \"#9F8A78\",\"#F3AB60\"]\n",
        "pl = sns.countplot(x=grouped_df[\"Clusters\"], palette= pal)\n",
        "pl.set_title(\"Distribution Of The Clusters\")\n",
        "plt.show()"
      ]
    },
    {
      "cell_type": "code",
      "execution_count": 40,
      "metadata": {
        "colab": {
          "base_uri": "https://localhost:8080/",
          "height": 423
        },
        "id": "wdGqbLGkV9n9",
        "outputId": "1ec722a7-f9b1-4864-9f09-b558d907164a"
      },
      "outputs": [
        {
          "data": {
            "text/html": [
              "<div>\n",
              "<style scoped>\n",
              "    .dataframe tbody tr th:only-of-type {\n",
              "        vertical-align: middle;\n",
              "    }\n",
              "\n",
              "    .dataframe tbody tr th {\n",
              "        vertical-align: top;\n",
              "    }\n",
              "\n",
              "    .dataframe thead th {\n",
              "        text-align: right;\n",
              "    }\n",
              "</style>\n",
              "<table border=\"1\" class=\"dataframe\">\n",
              "  <thead>\n",
              "    <tr style=\"text-align: right;\">\n",
              "      <th></th>\n",
              "      <th>CustomerID</th>\n",
              "      <th>frequency</th>\n",
              "      <th>monetary_value</th>\n",
              "      <th>recency</th>\n",
              "      <th>Clusters</th>\n",
              "    </tr>\n",
              "  </thead>\n",
              "  <tbody>\n",
              "    <tr>\n",
              "      <th>1</th>\n",
              "      <td>12347.0</td>\n",
              "      <td>182</td>\n",
              "      <td>4310.00</td>\n",
              "      <td>1</td>\n",
              "      <td>1</td>\n",
              "    </tr>\n",
              "    <tr>\n",
              "      <th>2</th>\n",
              "      <td>12348.0</td>\n",
              "      <td>31</td>\n",
              "      <td>1797.24</td>\n",
              "      <td>74</td>\n",
              "      <td>2</td>\n",
              "    </tr>\n",
              "    <tr>\n",
              "      <th>3</th>\n",
              "      <td>12349.0</td>\n",
              "      <td>73</td>\n",
              "      <td>1757.55</td>\n",
              "      <td>18</td>\n",
              "      <td>2</td>\n",
              "    </tr>\n",
              "    <tr>\n",
              "      <th>4</th>\n",
              "      <td>12350.0</td>\n",
              "      <td>17</td>\n",
              "      <td>334.40</td>\n",
              "      <td>309</td>\n",
              "      <td>0</td>\n",
              "    </tr>\n",
              "    <tr>\n",
              "      <th>5</th>\n",
              "      <td>12352.0</td>\n",
              "      <td>95</td>\n",
              "      <td>3466.67</td>\n",
              "      <td>35</td>\n",
              "      <td>2</td>\n",
              "    </tr>\n",
              "    <tr>\n",
              "      <th>...</th>\n",
              "      <td>...</td>\n",
              "      <td>...</td>\n",
              "      <td>...</td>\n",
              "      <td>...</td>\n",
              "      <td>...</td>\n",
              "    </tr>\n",
              "    <tr>\n",
              "      <th>4365</th>\n",
              "      <td>18278.0</td>\n",
              "      <td>9</td>\n",
              "      <td>173.90</td>\n",
              "      <td>73</td>\n",
              "      <td>2</td>\n",
              "    </tr>\n",
              "    <tr>\n",
              "      <th>4366</th>\n",
              "      <td>18280.0</td>\n",
              "      <td>10</td>\n",
              "      <td>180.60</td>\n",
              "      <td>277</td>\n",
              "      <td>0</td>\n",
              "    </tr>\n",
              "    <tr>\n",
              "      <th>4367</th>\n",
              "      <td>18281.0</td>\n",
              "      <td>7</td>\n",
              "      <td>80.82</td>\n",
              "      <td>180</td>\n",
              "      <td>0</td>\n",
              "    </tr>\n",
              "    <tr>\n",
              "      <th>4368</th>\n",
              "      <td>18282.0</td>\n",
              "      <td>13</td>\n",
              "      <td>179.50</td>\n",
              "      <td>7</td>\n",
              "      <td>2</td>\n",
              "    </tr>\n",
              "    <tr>\n",
              "      <th>4370</th>\n",
              "      <td>18287.0</td>\n",
              "      <td>70</td>\n",
              "      <td>1837.28</td>\n",
              "      <td>42</td>\n",
              "      <td>2</td>\n",
              "    </tr>\n",
              "  </tbody>\n",
              "</table>\n",
              "<p>4286 rows × 5 columns</p>\n",
              "</div>"
            ],
            "text/plain": [
              "      CustomerID  frequency  monetary_value  recency  Clusters\n",
              "1        12347.0        182         4310.00        1         1\n",
              "2        12348.0         31         1797.24       74         2\n",
              "3        12349.0         73         1757.55       18         2\n",
              "4        12350.0         17          334.40      309         0\n",
              "5        12352.0         95         3466.67       35         2\n",
              "...          ...        ...             ...      ...       ...\n",
              "4365     18278.0          9          173.90       73         2\n",
              "4366     18280.0         10          180.60      277         0\n",
              "4367     18281.0          7           80.82      180         0\n",
              "4368     18282.0         13          179.50        7         2\n",
              "4370     18287.0         70         1837.28       42         2\n",
              "\n",
              "[4286 rows x 5 columns]"
            ]
          },
          "execution_count": 40,
          "metadata": {},
          "output_type": "execute_result"
        }
      ],
      "source": [
        "grouped_df"
      ]
    },
    {
      "cell_type": "code",
      "execution_count": 41,
      "metadata": {
        "colab": {
          "base_uri": "https://localhost:8080/",
          "height": 378
        },
        "id": "5DRi2RDfUqkM",
        "outputId": "a0ea190f-d686-4220-e66e-1b728884d3fc"
      },
      "outputs": [
        {
          "data": {
            "text/plain": [
              "<matplotlib.axes._subplots.AxesSubplot at 0x7f682ef7d5d0>"
            ]
          },
          "execution_count": 41,
          "metadata": {},
          "output_type": "execute_result"
        },
        {
          "data": {
            "image/png": "[encoded data removed]",
            "text/plain": [
              "<Figure size 576x396 with 1 Axes>"
            ]
          },
          "metadata": {},
          "output_type": "display_data"
        }
      ],
      "source": [
        "sns.boxplot(x='Clusters', y='frequency', data=grouped_df)"
      ]
    },
    {
      "cell_type": "code",
      "execution_count": 42,
      "metadata": {
        "colab": {
          "base_uri": "https://localhost:8080/",
          "height": 378
        },
        "id": "GhWX2ikKXP1D",
        "outputId": "43a387e2-660e-4359-bfab-adcd8d946a18"
      },
      "outputs": [
        {
          "data": {
            "text/plain": [
              "<matplotlib.axes._subplots.AxesSubplot at 0x7f682f0b3550>"
            ]
          },
          "execution_count": 42,
          "metadata": {},
          "output_type": "execute_result"
        },
        {
          "data": {
            "image/png": "[encoded data removed]",
            "text/plain": [
              "<Figure size 576x396 with 1 Axes>"
            ]
          },
          "metadata": {},
          "output_type": "display_data"
        }
      ],
      "source": [
        "sns.boxplot(x='Clusters', y='monetary_value', data=grouped_df)"
      ]
    },
    {
      "cell_type": "code",
      "execution_count": 43,
      "metadata": {
        "colab": {
          "base_uri": "https://localhost:8080/",
          "height": 378
        },
        "id": "-T0X3jIgXScr",
        "outputId": "002549b4-caba-4081-f5b4-caebef66e975"
      },
      "outputs": [
        {
          "data": {
            "text/plain": [
              "<matplotlib.axes._subplots.AxesSubplot at 0x7f682ef683d0>"
            ]
          },
          "execution_count": 43,
          "metadata": {},
          "output_type": "execute_result"
        },
        {
          "data": {
            "image/png": "[encoded data removed]",
            "text/plain": [
              "<Figure size 576x396 with 1 Axes>"
            ]
          },
          "metadata": {},
          "output_type": "display_data"
        }
      ],
      "source": [
        "sns.boxplot(x='Clusters', y='recency', data=grouped_df)"
      ]
    }
  ],
  "metadata": {
    "colab": {
      "name": "Untitled6.ipynb",
      "provenance": []
    },
    "kernelspec": {
      "display_name": "Python 3.9.12 64-bit",
      "language": "python",
      "name": "python3"
    },
    "language_info": {
      "codemirror_mode": {
        "name": "ipython",
        "version": 3
      },
      "file_extension": ".py",
      "mimetype": "text/x-python",
      "name": "python",
      "nbconvert_exporter": "python",
      "pygments_lexer": "ipython3",
      "version": "3.9.12"
    },
    "vscode": {
      "interpreter": {
        "hash": "491087cb93853b3223ceecd3eaf02cbe146eb9b2fde0f129c3f4378ec7d95feb"
      }
    }
  },
  "nbformat": 4,
  "nbformat_minor": 0
}
