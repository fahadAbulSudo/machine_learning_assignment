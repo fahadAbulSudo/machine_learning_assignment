{
  "cells": [
    {
      "cell_type": "code",
      "execution_count": null,
      "metadata": {
        "colab": {
          "base_uri": "https://localhost:8080/"
        },
        "id": "4Eq2w-S2JMWB",
        "outputId": "2d89233c-770b-4594-b002-ef06c37b3dcd"
      },
      "outputs": [],
      "source": [
        "!pip install tensorflow-gpu==2.4"
      ]
    },
    {
      "cell_type": "code",
      "execution_count": null,
      "metadata": {
        "colab": {
          "base_uri": "https://localhost:8080/"
        },
        "id": "vpsXRcEJJgkE",
        "outputId": "a824f849-4a81-4ba0-b50d-e10403f7418c"
      },
      "outputs": [],
      "source": [
        "!nvcc --version"
      ]
    },
    {
      "cell_type": "code",
      "execution_count": null,
      "metadata": {},
      "outputs": [],
      "source": [
        "import matplotlib.pyplot as plt\n",
        "import tensorflow_hub as hub\n",
        "import tensorflow as tf\n",
        "import tensorflow_text\n",
        "import pandas as pd\n",
        "import numpy as np\n",
        "import nltk\n",
        "import re\n",
        "import os\n",
        "%matplotlib inline"
      ]
    },
    {
      "cell_type": "code",
      "execution_count": null,
      "metadata": {},
      "outputs": [],
      "source": [
        "from tensorflow.keras.losses import BinaryCrossentropy\n",
        "from tensorflow.keras.callbacks import ModelCheckpoint\n",
        "from tensorflow.keras.models import Sequential\n",
        "from tensorflow.keras.models import load_model\n",
        "from tensorflow.keras.optimizers import Adam\n",
        "from tensorflow.keras.metrics import AUC\n",
        "from tensorflow.keras import layers"
      ]
    },
    {
      "cell_type": "code",
      "execution_count": null,
      "metadata": {},
      "outputs": [],
      "source": [
        "from sklearn.metrics import classification_report\n",
        "from nltk.stem.porter import PorterStemmer\n",
        "from sklearn.metrics import accuracy_score\n",
        "from sklearn.model_selection import KFold\n",
        "from nltk.stem import WordNetLemmatizer\n",
        "from nltk.tokenize import word_tokenize\n",
        "from collections import defaultdict\n",
        "from nltk.corpus import stopwords\n",
        "from nltk.corpus import wordnet\n",
        "from copy import deepcopy\n",
        "nltk.download('stopwords')\n",
        "nltk.download('punkt')\n",
        "nltk.download('wordnet')\n",
        "nltk.download('omw-1.4')"
      ]
    },
    {
      "cell_type": "code",
      "execution_count": null,
      "metadata": {
        "colab": {
          "base_uri": "https://localhost:8080/"
        },
        "id": "ebwNa4vqYETu",
        "outputId": "f9790021-f224-47b2-9cb5-898cd5445795"
      },
      "outputs": [],
      "source": [
        "!wget http://downloads.cs.stanford.edu/nlp/data/glove.6B.zip"
      ]
    },
    {
      "cell_type": "code",
      "execution_count": null,
      "metadata": {
        "colab": {
          "base_uri": "https://localhost:8080/"
        },
        "id": "XtpQtc5KYr9l",
        "outputId": "a97b031d-d0c9-4bb4-a477-24e1c433f327"
      },
      "outputs": [],
      "source": [
        "!unzip glove.6B.zip"
      ]
    },
    {
      "cell_type": "code",
      "execution_count": null,
      "metadata": {
        "id": "jYfNwQ-OKgUt"
      },
      "outputs": [],
      "source": [
        "df = pd.read_csv('processed_data.csv')"
      ]
    },
    {
      "cell_type": "code",
      "execution_count": null,
      "metadata": {
        "colab": {
          "base_uri": "https://localhost:8080/",
          "height": 206
        },
        "id": "sMf-ilnEKn2d",
        "outputId": "3882342e-5487-4b17-860e-4b97584e1a31"
      },
      "outputs": [],
      "source": [
        "df.head()"
      ]
    },
    {
      "cell_type": "code",
      "execution_count": null,
      "metadata": {
        "colab": {
          "base_uri": "https://localhost:8080/"
        },
        "id": "aIXXboujjnga",
        "outputId": "0f5efa5d-8b98-4efe-ab38-66d66ae08598"
      },
      "outputs": [],
      "source": [
        "df.shape"
      ]
    },
    {
      "cell_type": "code",
      "execution_count": null,
      "metadata": {
        "colab": {
          "base_uri": "https://localhost:8080/"
        },
        "id": "wGydl1y9KpPE",
        "outputId": "2cc3a84c-f553-42a5-a3da-f9a2d40c97f0"
      },
      "outputs": [],
      "source": [
        "df['Sentiment'].value_counts()"
      ]
    },
    {
      "cell_type": "code",
      "execution_count": null,
      "metadata": {
        "id": "y2Fg0-1OdL-0"
      },
      "outputs": [],
      "source": [
        "df['Review'] = df['Review'].astype(str)"
      ]
    },
    {
      "cell_type": "code",
      "execution_count": null,
      "metadata": {
        "colab": {
          "base_uri": "https://localhost:8080/"
        },
        "id": "bllWmkULc6VF",
        "outputId": "884bc7ea-61bc-451d-a933-a817a2f6cf51"
      },
      "outputs": [],
      "source": [
        "print(df[df['Review'].apply(lambda x: len(x.split(' ')) < 400)])"
      ]
    },
    {
      "cell_type": "code",
      "execution_count": null,
      "metadata": {
        "id": "LOUtaGtidfoY"
      },
      "outputs": [],
      "source": [
        "df.drop(df[df['Review'].apply(lambda x: len(x.split(' ')) > 400)].index, inplace = True)"
      ]
    },
    {
      "cell_type": "code",
      "execution_count": null,
      "metadata": {
        "colab": {
          "base_uri": "https://localhost:8080/"
        },
        "id": "qf7Zrw70fan5",
        "outputId": "0e824933-5cea-47b0-f52e-215f81a09eb4"
      },
      "outputs": [],
      "source": [
        "df.shape"
      ]
    },
    {
      "cell_type": "code",
      "execution_count": null,
      "metadata": {
        "colab": {
          "base_uri": "https://localhost:8080/"
        },
        "id": "565wS3FjkKBy",
        "outputId": "6751266b-a0c9-4f4f-e7c6-db9c1fa6825d"
      },
      "outputs": [],
      "source": [
        "df['Sentiment'].value_counts()"
      ]
    },
    {
      "cell_type": "code",
      "execution_count": null,
      "metadata": {
        "id": "Ma7KIUbtKtK0"
      },
      "outputs": [],
      "source": [
        "words = dict()\n",
        "\n",
        "def add_to_dict(d, filename):\n",
        "  with open(filename, 'r', encoding=\"utf8\") as f:\n",
        "    for line in f.readlines():\n",
        "      line = line.split(' ')\n",
        "\n",
        "      try:\n",
        "        d[line[0]] = np.array(line[1:], dtype=float)\n",
        "      except:\n",
        "        continue\n",
        "\n",
        "add_to_dict(words, 'glove.6B.50d.txt')"
      ]
    },
    {
      "cell_type": "code",
      "execution_count": null,
      "metadata": {
        "colab": {
          "base_uri": "https://localhost:8080/"
        },
        "id": "KUWdeGi9LEe3",
        "outputId": "91d5830f-8b3d-4404-ae47-cc1b643170ff"
      },
      "outputs": [],
      "source": [
        "len(words)"
      ]
    },
    {
      "cell_type": "code",
      "execution_count": null,
      "metadata": {
        "id": "zpQqat9kLHqd"
      },
      "outputs": [],
      "source": [
        "tokenizer = nltk.RegexpTokenizer(r\"\\w+\")\n",
        "lemmatizer = WordNetLemmatizer()\n",
        "\n",
        "\n",
        "def message_to_token_list(s):\n",
        "  tokens = tokenizer.tokenize(s)\n",
        "  lemmatized_tokens = [lemmatizer.lemmatize(t) for t in tokens]\n",
        "  useful_tokens = [t for t in lemmatized_tokens if t in words]\n",
        "\n",
        "\n",
        "  return useful_tokens"
      ]
    },
    {
      "cell_type": "code",
      "execution_count": null,
      "metadata": {
        "id": "kWg4nznfLKbE"
      },
      "outputs": [],
      "source": [
        "def message_to_word_vectors(message, word_dict=words):\n",
        "  processed_list_of_tokens = message_to_token_list(message)\n",
        "\n",
        "  vectors = []\n",
        "\n",
        "  for token in processed_list_of_tokens:\n",
        "    if token not in word_dict:\n",
        "      continue\n",
        "    \n",
        "    token_vector = word_dict[token]\n",
        "    vectors.append(token_vector)\n",
        "  \n",
        "  return np.array(vectors, dtype=float)"
      ]
    },
    {
      "cell_type": "code",
      "execution_count": null,
      "metadata": {
        "id": "6Hg9aET8LSZl"
      },
      "outputs": [],
      "source": [
        "def df_to_X_y(dff):\n",
        "  y = dff['Sentiment'].to_numpy().astype(int)\n",
        "\n",
        "  all_word_vector_sequences = []\n",
        "\n",
        "  for message in dff['Review']:\n",
        "    message_as_vector_seq = message_to_word_vectors(message)\n",
        "    \n",
        "    if message_as_vector_seq.shape[0] == 0:\n",
        "      message_as_vector_seq = np.zeros(shape=(1, 50))\n",
        "\n",
        "    all_word_vector_sequences.append(message_as_vector_seq)\n",
        "  \n",
        "  return all_word_vector_sequences, y"
      ]
    },
    {
      "cell_type": "code",
      "execution_count": null,
      "metadata": {
        "colab": {
          "base_uri": "https://localhost:8080/"
        },
        "id": "eQJD60WHLo0k",
        "outputId": "8e3c6212-5573-48fb-e7cd-37b19d2f3509"
      },
      "outputs": [],
      "source": [
        "X, y = df_to_X_y(df)\n",
        "\n",
        "print(len(X), len(X[0]))"
      ]
    },
    {
      "cell_type": "code",
      "execution_count": null,
      "metadata": {
        "colab": {
          "base_uri": "https://localhost:8080/"
        },
        "id": "RIsHlqy2Lsdt",
        "outputId": "98878bf3-6fea-4905-a9bb-950e27890834"
      },
      "outputs": [],
      "source": [
        "print(len(X), len(X[2]))"
      ]
    },
    {
      "cell_type": "code",
      "execution_count": null,
      "metadata": {
        "id": "EjNBpQYrLyss"
      },
      "outputs": [],
      "source": [
        "def word_len(np_array):\n",
        "  sequence_lengths = []\n",
        "\n",
        "  for i in range(len(np_array)):\n",
        "    sequence_lengths.append(len(np_array[i]))\n",
        "\n",
        "  import matplotlib.pyplot as plt\n",
        "\n",
        "  plt.hist(sequence_lengths)\n",
        "\n",
        "  print(pd.Series(sequence_lengths).describe())"
      ]
    },
    {
      "cell_type": "code",
      "execution_count": null,
      "metadata": {
        "colab": {
          "base_uri": "https://localhost:8080/",
          "height": 429
        },
        "id": "nLlG4T53M42f",
        "outputId": "6d248de7-09ae-421e-81a0-3a345c0010ac"
      },
      "outputs": [],
      "source": [
        "word_len(X)"
      ]
    },
    {
      "cell_type": "code",
      "execution_count": null,
      "metadata": {
        "id": "NYfmFk3XLyu8"
      },
      "outputs": [],
      "source": [
        "def pad_X(X, desired_sequence_length=400):\n",
        "  X_copy = deepcopy(X)\n",
        "\n",
        "  for i, x in enumerate(X):\n",
        "    x_seq_len = x.shape[0]\n",
        "    sequence_length_difference = desired_sequence_length - x_seq_len\n",
        "    \n",
        "    pad = np.zeros(shape=(sequence_length_difference, 50))\n",
        "\n",
        "    X_copy[i] = np.concatenate([x, pad])\n",
        "  \n",
        "  return np.array(X_copy).astype(float)"
      ]
    },
    {
      "cell_type": "code",
      "execution_count": null,
      "metadata": {
        "colab": {
          "base_uri": "https://localhost:8080/"
        },
        "id": "8r0qTiFoMkK2",
        "outputId": "1bf8830e-a15d-4f03-c1f7-d787993f9a64"
      },
      "outputs": [],
      "source": [
        "X = pad_X(X)\n",
        "\n",
        "X.shape"
      ]
    },
    {
      "cell_type": "code",
      "execution_count": null,
      "metadata": {
        "colab": {
          "base_uri": "https://localhost:8080/"
        },
        "id": "WPHIQY_nMkNk",
        "outputId": "2abf9668-4d1e-4ae3-e3b1-8ece6ad52e9e"
      },
      "outputs": [],
      "source": [
        "y.shape"
      ]
    },
    {
      "cell_type": "code",
      "execution_count": null,
      "metadata": {
        "colab": {
          "base_uri": "https://localhost:8080/"
        },
        "id": "rNUGO1HsNtM-",
        "outputId": "928794e7-6ffd-4c9f-8d0e-dd7ee9e9fe90"
      },
      "outputs": [],
      "source": [
        "tf.config.experimental.list_physical_devices()"
      ]
    },
    {
      "cell_type": "code",
      "execution_count": null,
      "metadata": {
        "colab": {
          "base_uri": "https://localhost:8080/"
        },
        "id": "AX_7g9fHNtPk",
        "outputId": "786465a0-de36-4277-cb96-e57f6f416ef4"
      },
      "outputs": [],
      "source": [
        "len(tf.config.list_physical_devices('GPU'))>0"
      ]
    },
    {
      "cell_type": "code",
      "execution_count": null,
      "metadata": {
        "colab": {
          "base_uri": "https://localhost:8080/"
        },
        "id": "Dqvo35MmNtSp",
        "outputId": "d55bc4e4-b4a7-44a2-c018-d565d9d5a8c6"
      },
      "outputs": [],
      "source": [
        "model = Sequential([])\n",
        "\n",
        "model.add(layers.Input(shape=(400, 50)))\n",
        "model.add(layers.LSTM(64, return_sequences=True))\n",
        "model.add(layers.Dropout(0.2))\n",
        "model.add(layers.LSTM(64, return_sequences=True, unroll=False))\n",
        "model.add(layers.Dropout(0.2))\n",
        "model.add(layers.LSTM(64, return_sequences=True))\n",
        "model.add(layers.Dropout(0.2))\n",
        "model.add(layers.Flatten())\n",
        "model.add(layers.Dense(1, activation='sigmoid'))\n",
        "\n",
        "model.summary()"
      ]
    },
    {
      "cell_type": "code",
      "execution_count": null,
      "metadata": {
        "id": "CURHifarN1Bt"
      },
      "outputs": [],
      "source": [
        "cp = ModelCheckpoint('model/', save_best_only=True)\n",
        "\n",
        "model.compile(optimizer=Adam(learning_rate=0.0001), \n",
        "              loss=BinaryCrossentropy(), \n",
        "              metrics=['accuracy', AUC(name='auc')])"
      ]
    },
    {
      "cell_type": "code",
      "execution_count": null,
      "metadata": {
        "colab": {
          "base_uri": "https://localhost:8080/"
        },
        "id": "kxqNRRMwN1Ll",
        "outputId": "a0bf68ff-8f02-473c-ef8f-36e72c30351a"
      },
      "outputs": [],
      "source": [
        "frequencies = pd.value_counts(df['Sentiment'])\n",
        "\n",
        "frequencies"
      ]
    },
    {
      "cell_type": "code",
      "execution_count": null,
      "metadata": {
        "colab": {
          "base_uri": "https://localhost:8080/"
        },
        "id": "4ylLfmhqN9KW",
        "outputId": "f33f0234-90f6-4554-95b9-f436d57efeb0"
      },
      "outputs": [],
      "source": [
        "weights = {0: frequencies.sum() / frequencies[0], 1: frequencies.sum() / frequencies[1]}\n",
        "weights"
      ]
    },
    {
      "cell_type": "code",
      "execution_count": null,
      "metadata": {
        "colab": {
          "base_uri": "https://localhost:8080/"
        },
        "id": "LBXsaNiMKhcC",
        "outputId": "a6682904-8bf1-4bcb-d8f8-da95672ba9e2"
      },
      "outputs": [],
      "source": [
        "\n",
        "k = 5\n",
        "kf = KFold(n_splits=k, random_state=1, shuffle=True)\n",
        "acc_score = []\n",
        " \n",
        "for train_index , test_index in kf.split(X):\n",
        "    X_train , X_test = X[train_index],X[test_index]\n",
        "    y_train , y_test = y[train_index] , y[test_index]\n",
        "     \n",
        "    model.fit(X_train, y_train, epochs=50, validation_split=.2 , callbacks=[cp], class_weight=weights)\n",
        "    pred_values = (model.predict(X_test) > 0.5).astype(int)\n",
        "     \n",
        "    acc = accuracy_score(pred_values , y_test)\n",
        "    acc_score.append(acc)\n",
        "     \n",
        "avg_acc_score = sum(acc_score)/k\n",
        " \n",
        "print('accuracy of each fold - {}'.format(acc_score))\n",
        "print('Avg accuracy : {}'.format(avg_acc_score))"
      ]
    },
    {
      "cell_type": "code",
      "execution_count": null,
      "metadata": {
        "id": "lzLNi0ktN9N8"
      },
      "outputs": [],
      "source": [
        "#model.fit(X_train, y_train, validation_data=(X_val, y_val), epochs=50, callbacks=[cp], class_weight=weights)"
      ]
    },
    {
      "cell_type": "code",
      "execution_count": null,
      "metadata": {
        "colab": {
          "base_uri": "https://localhost:8080/"
        },
        "id": "6p4IG0PTks3l",
        "outputId": "d2242277-48d5-43fe-8814-dc3676107628"
      },
      "outputs": [],
      "source": [
        "model.save('gfgModel.h5')\n",
        "print('Model Saved!')\n",
        " "
      ]
    },
    {
      "cell_type": "code",
      "execution_count": null,
      "metadata": {
        "id": "MMR7gKsUlE4_"
      },
      "outputs": [],
      "source": [
        "best_model = load_model('model/')"
      ]
    },
    {
      "cell_type": "code",
      "execution_count": null,
      "metadata": {
        "colab": {
          "base_uri": "https://localhost:8080/"
        },
        "id": "5_8z45h2nyUw",
        "outputId": "679c75c1-96cc-41b5-e4fe-2ae9ca492405"
      },
      "outputs": [],
      "source": [
        "test_predictions = (best_model.predict(X_test) > 0.5).astype(int)\n",
        "print(classification_report(y_test, test_predictions))"
      ]
    },
    {
      "cell_type": "code",
      "execution_count": null,
      "metadata": {
        "colab": {
          "base_uri": "https://localhost:8080/"
        },
        "id": "lvIWtyHImQLc",
        "outputId": "fa563b39-8729-4cfb-8dbb-80fce8d40e8a"
      },
      "outputs": [],
      "source": [
        "savedModel=load_model('gfgModel.h5')\n",
        "savedModel.summary()"
      ]
    },
    {
      "cell_type": "code",
      "execution_count": null,
      "metadata": {
        "id": "KZsGtzZXj23w"
      },
      "outputs": [],
      "source": [
        "def NLP_pipeline(review, word_dict=words, desired_sequence_length=400):\n",
        "  review = review.lower()\n",
        "  email_urls = re.compile(\"(\\bhttp.+? | \\b[A-Za-z0-9._%+-]+@[A-Za-z0-9.-]+\\.[A-Z|a-z]{2,}\\b)\")\n",
        "  review = re.sub(email_urls, '', review)\n",
        "  review = re.sub(r'[^\\w\\s]', '', review)\n",
        "  # Remove digits\n",
        "  pattern = r'[0-9]'\n",
        "  review = re.sub(pattern, '', review)\n",
        "  processed_list_of_tokens = message_to_token_list(review)\n",
        "\n",
        "  vectors = []    \n",
        "  for token in processed_list_of_tokens:\n",
        "    if token not in word_dict:\n",
        "      continue\n",
        "    \n",
        "    token_vector = word_dict[token]\n",
        "    vectors.append(token_vector)\n",
        "\n",
        "  print(len(vectors))\n",
        "  sequence_length_difference = desired_sequence_length - len(vectors)\n",
        "  \n",
        "  pad = np.zeros(shape=(sequence_length_difference, 50))\n",
        "  \n",
        "  vectors = np.array(vectors).astype(float)\n",
        "  print(vectors.shape)\n",
        "  vectors = np.concatenate([vectors, pad])\n",
        "  print(vectors.shape)\n",
        "  vectors = np.reshape(vectors, (1, 400, 50))\n",
        "  print(vectors.shape)\n",
        "  predictions = (savedModel.predict(vectors) > 0.5).astype(int)\n",
        "\n",
        "  if predictions == 1:\n",
        "    return \"positive review\"\n",
        "\n",
        "  else:\n",
        "    return \"negative review\""
      ]
    },
    {
      "cell_type": "code",
      "execution_count": null,
      "metadata": {
        "colab": {
          "base_uri": "https://localhost:8080/"
        },
        "id": "KXFU7HWc12GK",
        "outputId": "83dc7480-c26d-4261-df9b-a4b83f5f2d3f"
      },
      "outputs": [],
      "source": [
        "review = input(\"Enter your review: \")\n",
        "sentiment = NLP_pipeline(review)\n",
        "print(sentiment)"
      ]
    }
  ],
  "metadata": {
    "accelerator": "GPU",
    "colab": {
      "collapsed_sections": [],
      "provenance": []
    },
    "kernelspec": {
      "display_name": "Python 3.10.4 64-bit",
      "language": "python",
      "name": "python3"
    },
    "language_info": {
      "name": "python",
      "version": "3.10.4"
    },
    "vscode": {
      "interpreter": {
        "hash": "628722030c168428b48c2cfd5a11b6d8830421d0ac8aa71b61521169aa5eb66a"
      }
    }
  },
  "nbformat": 4,
  "nbformat_minor": 0
}
