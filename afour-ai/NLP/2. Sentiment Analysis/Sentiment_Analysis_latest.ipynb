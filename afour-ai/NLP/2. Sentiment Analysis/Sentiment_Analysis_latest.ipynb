{
  "cells": [
    {
      "cell_type": "markdown",
      "metadata": {
        "id": "GTj_hGitlIY2"
      },
      "source": [
        "* In this problem statement we are trying to build a model that helps us in analysing the data and find if the comments on a Youtube video is Spam or not. It is a problem belonging to ***NLP Problems***"
      ]
    },
    {
      "cell_type": "markdown",
      "metadata": {
        "id": "eKV4m_oHCkIg"
      },
      "source": [
        "#Mounting to Google Drive"
      ]
    },
    {
      "cell_type": "code",
      "execution_count": 3,
      "metadata": {},
      "outputs": [
        {
          "name": "stdout",
          "output_type": "stream",
          "text": [
            "Collecting protobuf==3.20.0Note: you may need to restart the kernel to use updated packages.\n",
            "\n",
            "  Using cached protobuf-3.20.0-cp39-cp39-win_amd64.whl (904 kB)\n",
            "Installing collected packages: protobuf\n",
            "  Attempting uninstall: protobuf\n",
            "    Found existing installation: protobuf 4.21.2\n",
            "    Uninstalling protobuf-4.21.2:\n",
            "      Successfully uninstalled protobuf-4.21.2\n"
          ]
        },
        {
          "name": "stderr",
          "output_type": "stream",
          "text": [
            "WARNING: Ignoring invalid distribution -rotobuf (c:\\users\\rayst\\appdata\\local\\programs\\python\\python39\\lib\\site-packages)\n",
            "WARNING: Ignoring invalid distribution -rotobuf (c:\\users\\rayst\\appdata\\local\\programs\\python\\python39\\lib\\site-packages)\n",
            "WARNING: Ignoring invalid distribution -rotobuf (c:\\users\\rayst\\appdata\\local\\programs\\python\\python39\\lib\\site-packages)\n",
            "    WARNING: Ignoring invalid distribution -rotobuf (c:\\users\\rayst\\appdata\\local\\programs\\python\\python39\\lib\\site-packages)\n",
            "ERROR: Could not install packages due to an OSError: [WinError 5] Access is denied: 'C:\\\\Users\\\\rayst\\\\AppData\\\\Local\\\\Programs\\\\Python\\\\Python39\\\\Lib\\\\site-packages\\\\google\\\\~upb\\\\_message.cp39-win_amd64.pyd'\n",
            "Consider using the `--user` option or check the permissions.\n",
            "\n",
            "WARNING: Ignoring invalid distribution -rotobuf (c:\\users\\rayst\\appdata\\local\\programs\\python\\python39\\lib\\site-packages)\n",
            "WARNING: Ignoring invalid distribution -rotobuf (c:\\users\\rayst\\appdata\\local\\programs\\python\\python39\\lib\\site-packages)\n",
            "WARNING: Ignoring invalid distribution -rotobuf (c:\\users\\rayst\\appdata\\local\\programs\\python\\python39\\lib\\site-packages)\n"
          ]
        }
      ],
      "source": [
        "pip install --upgrade protobuf==3.20.0"
      ]
    },
    {
      "cell_type": "code",
      "execution_count": 1,
      "metadata": {
        "colab": {
          "base_uri": "https://localhost:8080/"
        },
        "id": "Qa1vpPafSAQ0",
        "outputId": "26edddaf-1f2f-4484-a42f-93a63e6db5b4"
      },
      "outputs": [
        {
          "name": "stderr",
          "output_type": "stream",
          "text": [
            "Extracting : 100%|██████████| 11/11 [00:00<00:00, 84.50it/s]\n"
          ]
        }
      ],
      "source": [
        "from pathlib import Path\n",
        "import os\n",
        "import sys\n",
        "\n",
        "sys.path.append(str(Path(os.getcwd()).parents[1]))\n",
        "from Helper_Functions import common_utils\n",
        "directory_to_extract_to = os.getcwd()\n",
        "\n",
        "common_utils.load_data_from_one_drive(directory_to_extract_to, \"nlp_paths\", \"sentimental_analysis\")"
      ]
    },
    {
      "cell_type": "markdown",
      "metadata": {
        "id": "GzlaJkpL8Uf8"
      },
      "source": [
        "#Importing Packages"
      ]
    },
    {
      "cell_type": "code",
      "execution_count": 4,
      "metadata": {
        "id": "AgCDQqC0SY6p"
      },
      "outputs": [],
      "source": [
        "# Ignore harmless warnings\n",
        "import sys\n",
        "import warnings\n",
        "warnings.filterwarnings(\"ignore\")\n",
        "\n",
        "if not sys.warnoptions:\n",
        "    import warnings\n",
        "    warnings.simplefilter(\"ignore\")"
      ]
    },
    {
      "cell_type": "code",
      "execution_count": 2,
      "metadata": {
        "id": "O5jEtNEcSfNy"
      },
      "outputs": [],
      "source": [
        "import tensorflow as tf\n",
        "import pandas as pd\n",
        "import numpy as np\n",
        "import matplotlib.pyplot as plt\n",
        "import seaborn as sns\n",
        "import datetime as dt\n",
        "import statsmodels as sm\n",
        "import matplotlib\n",
        "import math"
      ]
    },
    {
      "cell_type": "code",
      "execution_count": 3,
      "metadata": {
        "colab": {
          "base_uri": "https://localhost:8080/"
        },
        "id": "xW03puug_nSb",
        "outputId": "6368d579-ae08-40ba-cc12-7f05d40a3988"
      },
      "outputs": [
        {
          "name": "stderr",
          "output_type": "stream",
          "text": [
            "[nltk_data] Downloading package stopwords to\n",
            "[nltk_data]     C:\\Users\\rayst\\AppData\\Roaming\\nltk_data...\n",
            "[nltk_data]   Package stopwords is already up-to-date!\n"
          ]
        }
      ],
      "source": [
        "from tqdm import tqdm\n",
        "import re\n",
        "import string\n",
        "import nltk\n",
        "nltk.download(\"stopwords\")\n",
        "from nltk.corpus import stopwords\n",
        "from nltk.stem.snowball import SnowballStemmer\n",
        "import contractions\n",
        "stopwords=stopwords.words('english')\n",
        "#Removing stopwords 'no','nor' and 'not' as this will affect the overall sentiment\n",
        "stopwords.remove('no')\n",
        "stopwords.remove('nor')\n",
        "stopwords.remove('not')"
      ]
    },
    {
      "cell_type": "code",
      "execution_count": 4,
      "metadata": {
        "id": "s113S3mrs_XO"
      },
      "outputs": [],
      "source": [
        "from sklearn.model_selection import train_test_split\n",
        "from sklearn.feature_extraction.text import TfidfVectorizer\n",
        "from sklearn.model_selection import RandomizedSearchCV\n",
        "from scipy import stats\n",
        "from sklearn.svm import SVC as svc \n",
        "from sklearn.metrics import make_scorer, roc_auc_score\n",
        "from sklearn import svm\n",
        "from sklearn.linear_model import LogisticRegression\n",
        "from sklearn.tree import DecisionTreeClassifier\n",
        "from sklearn.model_selection import RepeatedStratifiedKFold\n",
        "from sklearn.ensemble import RandomForestRegressor\n",
        "from sklearn.metrics import roc_curve, auc, classification_report, confusion_matrix\n",
        "from sklearn.neighbors import KNeighborsClassifier"
      ]
    },
    {
      "cell_type": "code",
      "execution_count": null,
      "metadata": {
        "id": "TOZYvbgYmNrD"
      },
      "outputs": [],
      "source": [
        "from gensim.utils import simple_preprocess\n",
        "from gensim.models import Word2Vec"
      ]
    },
    {
      "cell_type": "markdown",
      "metadata": {
        "id": "zZlMJPGjVidz"
      },
      "source": [
        "#Importing CSV"
      ]
    },
    {
      "cell_type": "markdown",
      "metadata": {
        "id": "QJwVROYRE_ky"
      },
      "source": [
        "We have 5 different datasets containing similar data, hence we can merge them together as a singe dataset"
      ]
    },
    {
      "cell_type": "code",
      "execution_count": null,
      "metadata": {
        "id": "BARNoLNEUNxu"
      },
      "outputs": [
        {
          "ename": "NameError",
          "evalue": "name 'pd' is not defined",
          "output_type": "error",
          "traceback": [
            "\u001b[1;31m---------------------------------------------------------------------------\u001b[0m",
            "\u001b[1;31mNameError\u001b[0m                                 Traceback (most recent call last)",
            "\u001b[1;32mc:\\Users\\rayst\\Desktop\\afour-ai\\NLP\\Sentiment Analysis\\Sentiment_Analysis_latest.ipynb Cell 12'\u001b[0m in \u001b[0;36m<cell line: 1>\u001b[1;34m()\u001b[0m\n\u001b[1;32m----> <a href='vscode-notebook-cell:/c%3A/Users/rayst/Desktop/afour-ai/NLP/Sentiment%20Analysis/Sentiment_Analysis_latest.ipynb#ch0000013?line=0'>1</a>\u001b[0m df_psy \u001b[39m=\u001b[39m pd\u001b[39m.\u001b[39mread_csv(\u001b[39m'\u001b[39m\u001b[39mYoutube01-Psy.csv\u001b[39m\u001b[39m'\u001b[39m)\n\u001b[0;32m      <a href='vscode-notebook-cell:/c%3A/Users/rayst/Desktop/afour-ai/NLP/Sentiment%20Analysis/Sentiment_Analysis_latest.ipynb#ch0000013?line=1'>2</a>\u001b[0m df_katy \u001b[39m=\u001b[39m pd\u001b[39m.\u001b[39mread_csv(\u001b[39m'\u001b[39m\u001b[39mYoutube02-KatyPerry.csv\u001b[39m\u001b[39m'\u001b[39m)\n\u001b[0;32m      <a href='vscode-notebook-cell:/c%3A/Users/rayst/Desktop/afour-ai/NLP/Sentiment%20Analysis/Sentiment_Analysis_latest.ipynb#ch0000013?line=2'>3</a>\u001b[0m df_lmfao \u001b[39m=\u001b[39m pd\u001b[39m.\u001b[39mread_csv(\u001b[39m'\u001b[39m\u001b[39mYoutube03-LMFAO.csv\u001b[39m\u001b[39m'\u001b[39m)\n",
            "\u001b[1;31mNameError\u001b[0m: name 'pd' is not defined"
          ]
        }
      ],
      "source": [
        "df_psy = pd.read_csv('Youtube01-Psy.csv')\n",
        "df_katy = pd.read_csv('Youtube02-KatyPerry.csv')\n",
        "df_lmfao = pd.read_csv('Youtube03-LMFAO.csv')\n",
        "df_eminem = pd.read_csv('Youtube04-Eminem.csv')\n",
        "df_shakira = pd.read_csv('Youtube05-Shakira.csv')"
      ]
    },
    {
      "cell_type": "code",
      "execution_count": 10,
      "metadata": {
        "colab": {
          "base_uri": "https://localhost:8080/",
          "height": 0
        },
        "id": "wOFTM7_MUyb1",
        "outputId": "86bc693d-5063-4368-ca8b-735987af578f"
      },
      "outputs": [
        {
          "data": {
            "text/html": [
              "\n",
              "  <div id=\"df-dffb11fb-e2b4-4549-9ad2-98bfa8900fb8\">\n",
              "    <div class=\"colab-df-container\">\n",
              "      <div>\n",
              "<style scoped>\n",
              "    .dataframe tbody tr th:only-of-type {\n",
              "        vertical-align: middle;\n",
              "    }\n",
              "\n",
              "    .dataframe tbody tr th {\n",
              "        vertical-align: top;\n",
              "    }\n",
              "\n",
              "    .dataframe thead th {\n",
              "        text-align: right;\n",
              "    }\n",
              "</style>\n",
              "<table border=\"1\" class=\"dataframe\">\n",
              "  <thead>\n",
              "    <tr style=\"text-align: right;\">\n",
              "      <th></th>\n",
              "      <th>COMMENT_ID</th>\n",
              "      <th>AUTHOR</th>\n",
              "      <th>DATE</th>\n",
              "      <th>CONTENT</th>\n",
              "      <th>CLASS</th>\n",
              "    </tr>\n",
              "  </thead>\n",
              "  <tbody>\n",
              "    <tr>\n",
              "      <th>0</th>\n",
              "      <td>LZQPQhLyRh80UYxNuaDWhIGQYNQ96IuCg-AYWqNPjpU</td>\n",
              "      <td>Julius NM</td>\n",
              "      <td>2013-11-07T06:20:48</td>\n",
              "      <td>Huh, anyway check out this you[tube] channel: ...</td>\n",
              "      <td>1</td>\n",
              "    </tr>\n",
              "    <tr>\n",
              "      <th>1</th>\n",
              "      <td>LZQPQhLyRh_C2cTtd9MvFRJedxydaVW-2sNg5Diuo4A</td>\n",
              "      <td>adam riyati</td>\n",
              "      <td>2013-11-07T12:37:15</td>\n",
              "      <td>Hey guys check out my new channel and our firs...</td>\n",
              "      <td>1</td>\n",
              "    </tr>\n",
              "    <tr>\n",
              "      <th>2</th>\n",
              "      <td>LZQPQhLyRh9MSZYnf8djyk0gEF9BHDPYrrK-qCczIY8</td>\n",
              "      <td>Evgeny Murashkin</td>\n",
              "      <td>2013-11-08T17:34:21</td>\n",
              "      <td>just for test I have to say murdev.com</td>\n",
              "      <td>1</td>\n",
              "    </tr>\n",
              "    <tr>\n",
              "      <th>3</th>\n",
              "      <td>z13jhp0bxqncu512g22wvzkasxmvvzjaz04</td>\n",
              "      <td>ElNino Melendez</td>\n",
              "      <td>2013-11-09T08:28:43</td>\n",
              "      <td>me shaking my sexy ass on my channel enjoy ^_^ ﻿</td>\n",
              "      <td>1</td>\n",
              "    </tr>\n",
              "    <tr>\n",
              "      <th>4</th>\n",
              "      <td>z13fwbwp1oujthgqj04chlngpvzmtt3r3dw</td>\n",
              "      <td>GsMega</td>\n",
              "      <td>2013-11-10T16:05:38</td>\n",
              "      <td>watch?v=vtaRGgvGtWQ   Check this out .﻿</td>\n",
              "      <td>1</td>\n",
              "    </tr>\n",
              "    <tr>\n",
              "      <th>...</th>\n",
              "      <td>...</td>\n",
              "      <td>...</td>\n",
              "      <td>...</td>\n",
              "      <td>...</td>\n",
              "      <td>...</td>\n",
              "    </tr>\n",
              "    <tr>\n",
              "      <th>345</th>\n",
              "      <td>z13th1q4yzihf1bll23qxzpjeujterydj</td>\n",
              "      <td>Carmen Racasanu</td>\n",
              "      <td>2014-11-14T13:27:52</td>\n",
              "      <td>How can this have 2 billion views when there's...</td>\n",
              "      <td>0</td>\n",
              "    </tr>\n",
              "    <tr>\n",
              "      <th>346</th>\n",
              "      <td>z13fcn1wfpb5e51xe04chdxakpzgchyaxzo0k</td>\n",
              "      <td>diego mogrovejo</td>\n",
              "      <td>2014-11-14T13:28:08</td>\n",
              "      <td>I don't now why I'm watching this in 2014﻿</td>\n",
              "      <td>0</td>\n",
              "    </tr>\n",
              "    <tr>\n",
              "      <th>347</th>\n",
              "      <td>z130zd5b3titudkoe04ccbeohojxuzppvbg</td>\n",
              "      <td>BlueYetiPlayz -Call Of Duty and More</td>\n",
              "      <td>2015-05-23T13:04:32</td>\n",
              "      <td>subscribe to me for call of duty vids and give...</td>\n",
              "      <td>1</td>\n",
              "    </tr>\n",
              "    <tr>\n",
              "      <th>348</th>\n",
              "      <td>z12he50arvrkivl5u04cctawgxzkjfsjcc4</td>\n",
              "      <td>Photo Editor</td>\n",
              "      <td>2015-06-05T14:14:48</td>\n",
              "      <td>hi guys please my android photo editor downloa...</td>\n",
              "      <td>1</td>\n",
              "    </tr>\n",
              "    <tr>\n",
              "      <th>349</th>\n",
              "      <td>z13vhvu54u3ewpp5h04ccb4zuoardrmjlyk0k</td>\n",
              "      <td>Ray Benich</td>\n",
              "      <td>2015-06-05T18:05:16</td>\n",
              "      <td>The first billion viewed this because they tho...</td>\n",
              "      <td>0</td>\n",
              "    </tr>\n",
              "  </tbody>\n",
              "</table>\n",
              "<p>350 rows × 5 columns</p>\n",
              "</div>\n",
              "      <button class=\"colab-df-convert\" onclick=\"convertToInteractive('df-dffb11fb-e2b4-4549-9ad2-98bfa8900fb8')\"\n",
              "              title=\"Convert this dataframe to an interactive table.\"\n",
              "              style=\"display:none;\">\n",
              "        \n",
              "  <svg xmlns=\"http://www.w3.org/2000/svg\" height=\"24px\"viewBox=\"0 0 24 24\"\n",
              "       width=\"24px\">\n",
              "    <path d=\"M0 0h24v24H0V0z\" fill=\"none\"/>\n",
              "    <path d=\"M18.56 5.44l.94 2.06.94-2.06 2.06-.94-2.06-.94-.94-2.06-.94 2.06-2.06.94zm-11 1L8.5 8.5l.94-2.06 2.06-.94-2.06-.94L8.5 2.5l-.94 2.06-2.06.94zm10 10l.94 2.06.94-2.06 2.06-.94-2.06-.94-.94-2.06-.94 2.06-2.06.94z\"/><path d=\"M17.41 7.96l-1.37-1.37c-.4-.4-.92-.59-1.43-.59-.52 0-1.04.2-1.43.59L10.3 9.45l-7.72 7.72c-.78.78-.78 2.05 0 2.83L4 21.41c.39.39.9.59 1.41.59.51 0 1.02-.2 1.41-.59l7.78-7.78 2.81-2.81c.8-.78.8-2.07 0-2.86zM5.41 20L4 18.59l7.72-7.72 1.47 1.35L5.41 20z\"/>\n",
              "  </svg>\n",
              "      </button>\n",
              "      \n",
              "  <style>\n",
              "    .colab-df-container {\n",
              "      display:flex;\n",
              "      flex-wrap:wrap;\n",
              "      gap: 12px;\n",
              "    }\n",
              "\n",
              "    .colab-df-convert {\n",
              "      background-color: #E8F0FE;\n",
              "      border: none;\n",
              "      border-radius: 50%;\n",
              "      cursor: pointer;\n",
              "      display: none;\n",
              "      fill: #1967D2;\n",
              "      height: 32px;\n",
              "      padding: 0 0 0 0;\n",
              "      width: 32px;\n",
              "    }\n",
              "\n",
              "    .colab-df-convert:hover {\n",
              "      background-color: #E2EBFA;\n",
              "      box-shadow: 0px 1px 2px rgba(60, 64, 67, 0.3), 0px 1px 3px 1px rgba(60, 64, 67, 0.15);\n",
              "      fill: #174EA6;\n",
              "    }\n",
              "\n",
              "    [theme=dark] .colab-df-convert {\n",
              "      background-color: #3B4455;\n",
              "      fill: #D2E3FC;\n",
              "    }\n",
              "\n",
              "    [theme=dark] .colab-df-convert:hover {\n",
              "      background-color: #434B5C;\n",
              "      box-shadow: 0px 1px 3px 1px rgba(0, 0, 0, 0.15);\n",
              "      filter: drop-shadow(0px 1px 2px rgba(0, 0, 0, 0.3));\n",
              "      fill: #FFFFFF;\n",
              "    }\n",
              "  </style>\n",
              "\n",
              "      <script>\n",
              "        const buttonEl =\n",
              "          document.querySelector('#df-dffb11fb-e2b4-4549-9ad2-98bfa8900fb8 button.colab-df-convert');\n",
              "        buttonEl.style.display =\n",
              "          google.colab.kernel.accessAllowed ? 'block' : 'none';\n",
              "\n",
              "        async function convertToInteractive(key) {\n",
              "          const element = document.querySelector('#df-dffb11fb-e2b4-4549-9ad2-98bfa8900fb8');\n",
              "          const dataTable =\n",
              "            await google.colab.kernel.invokeFunction('convertToInteractive',\n",
              "                                                     [key], {});\n",
              "          if (!dataTable) return;\n",
              "\n",
              "          const docLinkHtml = 'Like what you see? Visit the ' +\n",
              "            '<a target=\"_blank\" href=https://colab.research.google.com/notebooks/data_table.ipynb>data table notebook</a>'\n",
              "            + ' to learn more about interactive tables.';\n",
              "          element.innerHTML = '';\n",
              "          dataTable['output_type'] = 'display_data';\n",
              "          await google.colab.output.renderOutput(dataTable, element);\n",
              "          const docLink = document.createElement('div');\n",
              "          docLink.innerHTML = docLinkHtml;\n",
              "          element.appendChild(docLink);\n",
              "        }\n",
              "      </script>\n",
              "    </div>\n",
              "  </div>\n",
              "  "
            ],
            "text/plain": [
              "                                      COMMENT_ID  \\\n",
              "0    LZQPQhLyRh80UYxNuaDWhIGQYNQ96IuCg-AYWqNPjpU   \n",
              "1    LZQPQhLyRh_C2cTtd9MvFRJedxydaVW-2sNg5Diuo4A   \n",
              "2    LZQPQhLyRh9MSZYnf8djyk0gEF9BHDPYrrK-qCczIY8   \n",
              "3            z13jhp0bxqncu512g22wvzkasxmvvzjaz04   \n",
              "4            z13fwbwp1oujthgqj04chlngpvzmtt3r3dw   \n",
              "..                                           ...   \n",
              "345            z13th1q4yzihf1bll23qxzpjeujterydj   \n",
              "346        z13fcn1wfpb5e51xe04chdxakpzgchyaxzo0k   \n",
              "347          z130zd5b3titudkoe04ccbeohojxuzppvbg   \n",
              "348          z12he50arvrkivl5u04cctawgxzkjfsjcc4   \n",
              "349        z13vhvu54u3ewpp5h04ccb4zuoardrmjlyk0k   \n",
              "\n",
              "                                   AUTHOR                 DATE  \\\n",
              "0                               Julius NM  2013-11-07T06:20:48   \n",
              "1                             adam riyati  2013-11-07T12:37:15   \n",
              "2                        Evgeny Murashkin  2013-11-08T17:34:21   \n",
              "3                         ElNino Melendez  2013-11-09T08:28:43   \n",
              "4                                  GsMega  2013-11-10T16:05:38   \n",
              "..                                    ...                  ...   \n",
              "345                       Carmen Racasanu  2014-11-14T13:27:52   \n",
              "346                       diego mogrovejo  2014-11-14T13:28:08   \n",
              "347  BlueYetiPlayz -Call Of Duty and More  2015-05-23T13:04:32   \n",
              "348                          Photo Editor  2015-06-05T14:14:48   \n",
              "349                            Ray Benich  2015-06-05T18:05:16   \n",
              "\n",
              "                                               CONTENT  CLASS  \n",
              "0    Huh, anyway check out this you[tube] channel: ...      1  \n",
              "1    Hey guys check out my new channel and our firs...      1  \n",
              "2               just for test I have to say murdev.com      1  \n",
              "3     me shaking my sexy ass on my channel enjoy ^_^ ﻿      1  \n",
              "4              watch?v=vtaRGgvGtWQ   Check this out .﻿      1  \n",
              "..                                                 ...    ...  \n",
              "345  How can this have 2 billion views when there's...      0  \n",
              "346         I don't now why I'm watching this in 2014﻿      0  \n",
              "347  subscribe to me for call of duty vids and give...      1  \n",
              "348  hi guys please my android photo editor downloa...      1  \n",
              "349  The first billion viewed this because they tho...      0  \n",
              "\n",
              "[350 rows x 5 columns]"
            ]
          },
          "execution_count": 10,
          "metadata": {},
          "output_type": "execute_result"
        }
      ],
      "source": [
        "df_psy"
      ]
    },
    {
      "cell_type": "code",
      "execution_count": 11,
      "metadata": {
        "colab": {
          "base_uri": "https://localhost:8080/",
          "height": 0
        },
        "id": "e2Osvoa5Uz1W",
        "outputId": "506da2e4-32a0-4b94-c2ae-4bfb60ec597a"
      },
      "outputs": [
        {
          "data": {
            "text/html": [
              "\n",
              "  <div id=\"df-76bbb9d9-6ab1-4e52-a8d2-0fdac060b899\">\n",
              "    <div class=\"colab-df-container\">\n",
              "      <div>\n",
              "<style scoped>\n",
              "    .dataframe tbody tr th:only-of-type {\n",
              "        vertical-align: middle;\n",
              "    }\n",
              "\n",
              "    .dataframe tbody tr th {\n",
              "        vertical-align: top;\n",
              "    }\n",
              "\n",
              "    .dataframe thead th {\n",
              "        text-align: right;\n",
              "    }\n",
              "</style>\n",
              "<table border=\"1\" class=\"dataframe\">\n",
              "  <thead>\n",
              "    <tr style=\"text-align: right;\">\n",
              "      <th></th>\n",
              "      <th>COMMENT_ID</th>\n",
              "      <th>AUTHOR</th>\n",
              "      <th>DATE</th>\n",
              "      <th>CONTENT</th>\n",
              "      <th>CLASS</th>\n",
              "    </tr>\n",
              "  </thead>\n",
              "  <tbody>\n",
              "    <tr>\n",
              "      <th>0</th>\n",
              "      <td>z12pgdhovmrktzm3i23es5d5junftft3f</td>\n",
              "      <td>lekanaVEVO1</td>\n",
              "      <td>2014-07-22T15:27:50</td>\n",
              "      <td>i love this so much. AND also I Generate Free ...</td>\n",
              "      <td>1</td>\n",
              "    </tr>\n",
              "    <tr>\n",
              "      <th>1</th>\n",
              "      <td>z13yx345uxepetggz04ci5rjcxeohzlrtf4</td>\n",
              "      <td>Pyunghee</td>\n",
              "      <td>2014-07-27T01:57:16</td>\n",
              "      <td>http://www.billboard.com/articles/columns/pop-...</td>\n",
              "      <td>1</td>\n",
              "    </tr>\n",
              "    <tr>\n",
              "      <th>2</th>\n",
              "      <td>z12lsjvi3wa5x1vwh04cibeaqnzrevxajw00k</td>\n",
              "      <td>Erica Ross</td>\n",
              "      <td>2014-07-27T02:51:43</td>\n",
              "      <td>Hey guys! Please join me in my fight to help a...</td>\n",
              "      <td>1</td>\n",
              "    </tr>\n",
              "    <tr>\n",
              "      <th>3</th>\n",
              "      <td>z13jcjuovxbwfr0ge04cev2ipsjdfdurwck</td>\n",
              "      <td>Aviel Haimov</td>\n",
              "      <td>2014-08-01T12:27:48</td>\n",
              "      <td>http://psnboss.com/?ref=2tGgp3pV6L this is the...</td>\n",
              "      <td>1</td>\n",
              "    </tr>\n",
              "    <tr>\n",
              "      <th>4</th>\n",
              "      <td>z13qybua2yfydzxzj04cgfpqdt2syfx53ms0k</td>\n",
              "      <td>John Bello</td>\n",
              "      <td>2014-08-01T21:04:03</td>\n",
              "      <td>Hey everyone. Watch this trailer!!!!!!!!  http...</td>\n",
              "      <td>1</td>\n",
              "    </tr>\n",
              "    <tr>\n",
              "      <th>...</th>\n",
              "      <td>...</td>\n",
              "      <td>...</td>\n",
              "      <td>...</td>\n",
              "      <td>...</td>\n",
              "      <td>...</td>\n",
              "    </tr>\n",
              "    <tr>\n",
              "      <th>345</th>\n",
              "      <td>z12sjp3zgtqnvlysj23zuxxaolrvd1oj504</td>\n",
              "      <td>Kacy Cluley</td>\n",
              "      <td>2015-06-05T18:59:52</td>\n",
              "      <td>This song means so much to me thank you  soooo...</td>\n",
              "      <td>0</td>\n",
              "    </tr>\n",
              "    <tr>\n",
              "      <th>346</th>\n",
              "      <td>z132enrpoy35yxpoe04cjr4zur3jvbyq3xo0k</td>\n",
              "      <td>Kasia Fabisiewicz</td>\n",
              "      <td>2015-06-05T19:02:05</td>\n",
              "      <td>&amp;lt;3﻿</td>\n",
              "      <td>0</td>\n",
              "    </tr>\n",
              "    <tr>\n",
              "      <th>347</th>\n",
              "      <td>z132jbmxfqm4fjysg23nwjfb2mv2vxnua</td>\n",
              "      <td>Decio Alves Martins</td>\n",
              "      <td>2015-06-05T19:29:20</td>\n",
              "      <td>KATY PERRY, I AM THE \"DÉCIO CABELO\", \"DECIO HA...</td>\n",
              "      <td>1</td>\n",
              "    </tr>\n",
              "    <tr>\n",
              "      <th>348</th>\n",
              "      <td>z12cdlswetvnejcri04cex0jfwy2u3tzj54</td>\n",
              "      <td>Rafi Hossain</td>\n",
              "      <td>2015-06-05T19:55:08</td>\n",
              "      <td>Honestly speaking except taylor swift and adel...</td>\n",
              "      <td>0</td>\n",
              "    </tr>\n",
              "    <tr>\n",
              "      <th>349</th>\n",
              "      <td>z120e5uautvcuper304ccf4bjrjugdpbwrc0k</td>\n",
              "      <td>moaz adnan</td>\n",
              "      <td>2015-06-05T20:01:23</td>\n",
              "      <td>who is going to reach the billion first : katy...</td>\n",
              "      <td>0</td>\n",
              "    </tr>\n",
              "  </tbody>\n",
              "</table>\n",
              "<p>350 rows × 5 columns</p>\n",
              "</div>\n",
              "      <button class=\"colab-df-convert\" onclick=\"convertToInteractive('df-76bbb9d9-6ab1-4e52-a8d2-0fdac060b899')\"\n",
              "              title=\"Convert this dataframe to an interactive table.\"\n",
              "              style=\"display:none;\">\n",
              "        \n",
              "  <svg xmlns=\"http://www.w3.org/2000/svg\" height=\"24px\"viewBox=\"0 0 24 24\"\n",
              "       width=\"24px\">\n",
              "    <path d=\"M0 0h24v24H0V0z\" fill=\"none\"/>\n",
              "    <path d=\"M18.56 5.44l.94 2.06.94-2.06 2.06-.94-2.06-.94-.94-2.06-.94 2.06-2.06.94zm-11 1L8.5 8.5l.94-2.06 2.06-.94-2.06-.94L8.5 2.5l-.94 2.06-2.06.94zm10 10l.94 2.06.94-2.06 2.06-.94-2.06-.94-.94-2.06-.94 2.06-2.06.94z\"/><path d=\"M17.41 7.96l-1.37-1.37c-.4-.4-.92-.59-1.43-.59-.52 0-1.04.2-1.43.59L10.3 9.45l-7.72 7.72c-.78.78-.78 2.05 0 2.83L4 21.41c.39.39.9.59 1.41.59.51 0 1.02-.2 1.41-.59l7.78-7.78 2.81-2.81c.8-.78.8-2.07 0-2.86zM5.41 20L4 18.59l7.72-7.72 1.47 1.35L5.41 20z\"/>\n",
              "  </svg>\n",
              "      </button>\n",
              "      \n",
              "  <style>\n",
              "    .colab-df-container {\n",
              "      display:flex;\n",
              "      flex-wrap:wrap;\n",
              "      gap: 12px;\n",
              "    }\n",
              "\n",
              "    .colab-df-convert {\n",
              "      background-color: #E8F0FE;\n",
              "      border: none;\n",
              "      border-radius: 50%;\n",
              "      cursor: pointer;\n",
              "      display: none;\n",
              "      fill: #1967D2;\n",
              "      height: 32px;\n",
              "      padding: 0 0 0 0;\n",
              "      width: 32px;\n",
              "    }\n",
              "\n",
              "    .colab-df-convert:hover {\n",
              "      background-color: #E2EBFA;\n",
              "      box-shadow: 0px 1px 2px rgba(60, 64, 67, 0.3), 0px 1px 3px 1px rgba(60, 64, 67, 0.15);\n",
              "      fill: #174EA6;\n",
              "    }\n",
              "\n",
              "    [theme=dark] .colab-df-convert {\n",
              "      background-color: #3B4455;\n",
              "      fill: #D2E3FC;\n",
              "    }\n",
              "\n",
              "    [theme=dark] .colab-df-convert:hover {\n",
              "      background-color: #434B5C;\n",
              "      box-shadow: 0px 1px 3px 1px rgba(0, 0, 0, 0.15);\n",
              "      filter: drop-shadow(0px 1px 2px rgba(0, 0, 0, 0.3));\n",
              "      fill: #FFFFFF;\n",
              "    }\n",
              "  </style>\n",
              "\n",
              "      <script>\n",
              "        const buttonEl =\n",
              "          document.querySelector('#df-76bbb9d9-6ab1-4e52-a8d2-0fdac060b899 button.colab-df-convert');\n",
              "        buttonEl.style.display =\n",
              "          google.colab.kernel.accessAllowed ? 'block' : 'none';\n",
              "\n",
              "        async function convertToInteractive(key) {\n",
              "          const element = document.querySelector('#df-76bbb9d9-6ab1-4e52-a8d2-0fdac060b899');\n",
              "          const dataTable =\n",
              "            await google.colab.kernel.invokeFunction('convertToInteractive',\n",
              "                                                     [key], {});\n",
              "          if (!dataTable) return;\n",
              "\n",
              "          const docLinkHtml = 'Like what you see? Visit the ' +\n",
              "            '<a target=\"_blank\" href=https://colab.research.google.com/notebooks/data_table.ipynb>data table notebook</a>'\n",
              "            + ' to learn more about interactive tables.';\n",
              "          element.innerHTML = '';\n",
              "          dataTable['output_type'] = 'display_data';\n",
              "          await google.colab.output.renderOutput(dataTable, element);\n",
              "          const docLink = document.createElement('div');\n",
              "          docLink.innerHTML = docLinkHtml;\n",
              "          element.appendChild(docLink);\n",
              "        }\n",
              "      </script>\n",
              "    </div>\n",
              "  </div>\n",
              "  "
            ],
            "text/plain": [
              "                                COMMENT_ID               AUTHOR  \\\n",
              "0        z12pgdhovmrktzm3i23es5d5junftft3f          lekanaVEVO1   \n",
              "1      z13yx345uxepetggz04ci5rjcxeohzlrtf4             Pyunghee   \n",
              "2    z12lsjvi3wa5x1vwh04cibeaqnzrevxajw00k           Erica Ross   \n",
              "3      z13jcjuovxbwfr0ge04cev2ipsjdfdurwck         Aviel Haimov   \n",
              "4    z13qybua2yfydzxzj04cgfpqdt2syfx53ms0k           John Bello   \n",
              "..                                     ...                  ...   \n",
              "345    z12sjp3zgtqnvlysj23zuxxaolrvd1oj504          Kacy Cluley   \n",
              "346  z132enrpoy35yxpoe04cjr4zur3jvbyq3xo0k    Kasia Fabisiewicz   \n",
              "347      z132jbmxfqm4fjysg23nwjfb2mv2vxnua  Decio Alves Martins   \n",
              "348    z12cdlswetvnejcri04cex0jfwy2u3tzj54         Rafi Hossain   \n",
              "349  z120e5uautvcuper304ccf4bjrjugdpbwrc0k           moaz adnan   \n",
              "\n",
              "                    DATE                                            CONTENT  \\\n",
              "0    2014-07-22T15:27:50  i love this so much. AND also I Generate Free ...   \n",
              "1    2014-07-27T01:57:16  http://www.billboard.com/articles/columns/pop-...   \n",
              "2    2014-07-27T02:51:43  Hey guys! Please join me in my fight to help a...   \n",
              "3    2014-08-01T12:27:48  http://psnboss.com/?ref=2tGgp3pV6L this is the...   \n",
              "4    2014-08-01T21:04:03  Hey everyone. Watch this trailer!!!!!!!!  http...   \n",
              "..                   ...                                                ...   \n",
              "345  2015-06-05T18:59:52  This song means so much to me thank you  soooo...   \n",
              "346  2015-06-05T19:02:05                                             &lt;3﻿   \n",
              "347  2015-06-05T19:29:20  KATY PERRY, I AM THE \"DÉCIO CABELO\", \"DECIO HA...   \n",
              "348  2015-06-05T19:55:08  Honestly speaking except taylor swift and adel...   \n",
              "349  2015-06-05T20:01:23  who is going to reach the billion first : katy...   \n",
              "\n",
              "     CLASS  \n",
              "0        1  \n",
              "1        1  \n",
              "2        1  \n",
              "3        1  \n",
              "4        1  \n",
              "..     ...  \n",
              "345      0  \n",
              "346      0  \n",
              "347      1  \n",
              "348      0  \n",
              "349      0  \n",
              "\n",
              "[350 rows x 5 columns]"
            ]
          },
          "execution_count": 11,
          "metadata": {},
          "output_type": "execute_result"
        }
      ],
      "source": [
        "df_katy"
      ]
    },
    {
      "cell_type": "code",
      "execution_count": 12,
      "metadata": {
        "colab": {
          "base_uri": "https://localhost:8080/",
          "height": 0
        },
        "id": "uzlpzRRxU3nI",
        "outputId": "725e4fae-e22a-4949-c22c-38fe1f31798a"
      },
      "outputs": [
        {
          "data": {
            "text/html": [
              "\n",
              "  <div id=\"df-4372e191-71b8-41d8-9f02-f072adb2a538\">\n",
              "    <div class=\"colab-df-container\">\n",
              "      <div>\n",
              "<style scoped>\n",
              "    .dataframe tbody tr th:only-of-type {\n",
              "        vertical-align: middle;\n",
              "    }\n",
              "\n",
              "    .dataframe tbody tr th {\n",
              "        vertical-align: top;\n",
              "    }\n",
              "\n",
              "    .dataframe thead th {\n",
              "        text-align: right;\n",
              "    }\n",
              "</style>\n",
              "<table border=\"1\" class=\"dataframe\">\n",
              "  <thead>\n",
              "    <tr style=\"text-align: right;\">\n",
              "      <th></th>\n",
              "      <th>COMMENT_ID</th>\n",
              "      <th>AUTHOR</th>\n",
              "      <th>DATE</th>\n",
              "      <th>CONTENT</th>\n",
              "      <th>CLASS</th>\n",
              "    </tr>\n",
              "  </thead>\n",
              "  <tbody>\n",
              "    <tr>\n",
              "      <th>0</th>\n",
              "      <td>z13uwn2heqndtr5g304ccv5j5kqqzxjadmc0k</td>\n",
              "      <td>Corey Wilson</td>\n",
              "      <td>2015-05-28T21:39:52.376000</td>\n",
              "      <td>&lt;a href=\"http://www.youtube.com/watch?v=KQ6zr6...</td>\n",
              "      <td>0</td>\n",
              "    </tr>\n",
              "    <tr>\n",
              "      <th>1</th>\n",
              "      <td>z124jvczaz3dxhnbc04cffk43oiugj25yzo0k</td>\n",
              "      <td>Epic Gaming</td>\n",
              "      <td>2015-05-28T20:07:20.610000</td>\n",
              "      <td>wierd but funny﻿</td>\n",
              "      <td>0</td>\n",
              "    </tr>\n",
              "    <tr>\n",
              "      <th>2</th>\n",
              "      <td>z13tczjy5xj0vjmu5231unho1ofey5zdk</td>\n",
              "      <td>LaS Music</td>\n",
              "      <td>2015-05-28T19:23:35.355000</td>\n",
              "      <td>Hey guys, I&amp;#39;m a human.&lt;br /&gt;&lt;br /&gt;&lt;br /&gt;Bu...</td>\n",
              "      <td>1</td>\n",
              "    </tr>\n",
              "    <tr>\n",
              "      <th>3</th>\n",
              "      <td>z13tzr0hdpnayhqqc04cd3zqqqjkf3ngckk0k</td>\n",
              "      <td>Cheryl Fox</td>\n",
              "      <td>2015-05-28T17:49:35.294000</td>\n",
              "      <td>Party Rock....lol...who wants to shuffle!!!﻿</td>\n",
              "      <td>0</td>\n",
              "    </tr>\n",
              "    <tr>\n",
              "      <th>4</th>\n",
              "      <td>z12pcvix4zedcjvyb04ccr1r0mr2g5xwyng0k</td>\n",
              "      <td>PATRICK_TW</td>\n",
              "      <td>2015-05-28T16:28:26.818000</td>\n",
              "      <td>Party rock﻿</td>\n",
              "      <td>0</td>\n",
              "    </tr>\n",
              "    <tr>\n",
              "      <th>...</th>\n",
              "      <td>...</td>\n",
              "      <td>...</td>\n",
              "      <td>...</td>\n",
              "      <td>...</td>\n",
              "      <td>...</td>\n",
              "    </tr>\n",
              "    <tr>\n",
              "      <th>433</th>\n",
              "      <td>z13lvr4iupatjlrem231yvpxolzvspwdl</td>\n",
              "      <td>Salty Croc</td>\n",
              "      <td>2014-07-22T04:20:37.489000</td>\n",
              "      <td>Like this comment for no reason﻿</td>\n",
              "      <td>1</td>\n",
              "    </tr>\n",
              "    <tr>\n",
              "      <th>434</th>\n",
              "      <td>z12lxhrqdkyusbkji04cihtrvn3jvxnqszg0k</td>\n",
              "      <td>Bob Orton</td>\n",
              "      <td>2014-07-22T00:26:50.820000</td>\n",
              "      <td>love this song﻿</td>\n",
              "      <td>0</td>\n",
              "    </tr>\n",
              "    <tr>\n",
              "      <th>435</th>\n",
              "      <td>z12xhdjrsxm3v550w22oynsjrnmvjhkvj</td>\n",
              "      <td>LuckyMusiqLive</td>\n",
              "      <td>2014-07-21T22:25:54.048000</td>\n",
              "      <td>this song is awesome. these guys are the best....</td>\n",
              "      <td>1</td>\n",
              "    </tr>\n",
              "    <tr>\n",
              "      <th>436</th>\n",
              "      <td>z13msngo3qvwx1ym223pehqgouexzdmnm</td>\n",
              "      <td>xXxPWND 420xXx</td>\n",
              "      <td>2014-07-21T11:05:51.945000</td>\n",
              "      <td>HOW MANY THUMBS UP FOR LOUIS SAVING THE DAY!?!?﻿</td>\n",
              "      <td>1</td>\n",
              "    </tr>\n",
              "    <tr>\n",
              "      <th>437</th>\n",
              "      <td>z120hptrylzqzdsoj04cepaonmuyyr1afj0</td>\n",
              "      <td>Matheus Macedo</td>\n",
              "      <td>2014-07-21T04:24:24.585000</td>\n",
              "      <td>NICE :3﻿</td>\n",
              "      <td>0</td>\n",
              "    </tr>\n",
              "  </tbody>\n",
              "</table>\n",
              "<p>438 rows × 5 columns</p>\n",
              "</div>\n",
              "      <button class=\"colab-df-convert\" onclick=\"convertToInteractive('df-4372e191-71b8-41d8-9f02-f072adb2a538')\"\n",
              "              title=\"Convert this dataframe to an interactive table.\"\n",
              "              style=\"display:none;\">\n",
              "        \n",
              "  <svg xmlns=\"http://www.w3.org/2000/svg\" height=\"24px\"viewBox=\"0 0 24 24\"\n",
              "       width=\"24px\">\n",
              "    <path d=\"M0 0h24v24H0V0z\" fill=\"none\"/>\n",
              "    <path d=\"M18.56 5.44l.94 2.06.94-2.06 2.06-.94-2.06-.94-.94-2.06-.94 2.06-2.06.94zm-11 1L8.5 8.5l.94-2.06 2.06-.94-2.06-.94L8.5 2.5l-.94 2.06-2.06.94zm10 10l.94 2.06.94-2.06 2.06-.94-2.06-.94-.94-2.06-.94 2.06-2.06.94z\"/><path d=\"M17.41 7.96l-1.37-1.37c-.4-.4-.92-.59-1.43-.59-.52 0-1.04.2-1.43.59L10.3 9.45l-7.72 7.72c-.78.78-.78 2.05 0 2.83L4 21.41c.39.39.9.59 1.41.59.51 0 1.02-.2 1.41-.59l7.78-7.78 2.81-2.81c.8-.78.8-2.07 0-2.86zM5.41 20L4 18.59l7.72-7.72 1.47 1.35L5.41 20z\"/>\n",
              "  </svg>\n",
              "      </button>\n",
              "      \n",
              "  <style>\n",
              "    .colab-df-container {\n",
              "      display:flex;\n",
              "      flex-wrap:wrap;\n",
              "      gap: 12px;\n",
              "    }\n",
              "\n",
              "    .colab-df-convert {\n",
              "      background-color: #E8F0FE;\n",
              "      border: none;\n",
              "      border-radius: 50%;\n",
              "      cursor: pointer;\n",
              "      display: none;\n",
              "      fill: #1967D2;\n",
              "      height: 32px;\n",
              "      padding: 0 0 0 0;\n",
              "      width: 32px;\n",
              "    }\n",
              "\n",
              "    .colab-df-convert:hover {\n",
              "      background-color: #E2EBFA;\n",
              "      box-shadow: 0px 1px 2px rgba(60, 64, 67, 0.3), 0px 1px 3px 1px rgba(60, 64, 67, 0.15);\n",
              "      fill: #174EA6;\n",
              "    }\n",
              "\n",
              "    [theme=dark] .colab-df-convert {\n",
              "      background-color: #3B4455;\n",
              "      fill: #D2E3FC;\n",
              "    }\n",
              "\n",
              "    [theme=dark] .colab-df-convert:hover {\n",
              "      background-color: #434B5C;\n",
              "      box-shadow: 0px 1px 3px 1px rgba(0, 0, 0, 0.15);\n",
              "      filter: drop-shadow(0px 1px 2px rgba(0, 0, 0, 0.3));\n",
              "      fill: #FFFFFF;\n",
              "    }\n",
              "  </style>\n",
              "\n",
              "      <script>\n",
              "        const buttonEl =\n",
              "          document.querySelector('#df-4372e191-71b8-41d8-9f02-f072adb2a538 button.colab-df-convert');\n",
              "        buttonEl.style.display =\n",
              "          google.colab.kernel.accessAllowed ? 'block' : 'none';\n",
              "\n",
              "        async function convertToInteractive(key) {\n",
              "          const element = document.querySelector('#df-4372e191-71b8-41d8-9f02-f072adb2a538');\n",
              "          const dataTable =\n",
              "            await google.colab.kernel.invokeFunction('convertToInteractive',\n",
              "                                                     [key], {});\n",
              "          if (!dataTable) return;\n",
              "\n",
              "          const docLinkHtml = 'Like what you see? Visit the ' +\n",
              "            '<a target=\"_blank\" href=https://colab.research.google.com/notebooks/data_table.ipynb>data table notebook</a>'\n",
              "            + ' to learn more about interactive tables.';\n",
              "          element.innerHTML = '';\n",
              "          dataTable['output_type'] = 'display_data';\n",
              "          await google.colab.output.renderOutput(dataTable, element);\n",
              "          const docLink = document.createElement('div');\n",
              "          docLink.innerHTML = docLinkHtml;\n",
              "          element.appendChild(docLink);\n",
              "        }\n",
              "      </script>\n",
              "    </div>\n",
              "  </div>\n",
              "  "
            ],
            "text/plain": [
              "                                COMMENT_ID          AUTHOR  \\\n",
              "0    z13uwn2heqndtr5g304ccv5j5kqqzxjadmc0k    Corey Wilson   \n",
              "1    z124jvczaz3dxhnbc04cffk43oiugj25yzo0k     Epic Gaming   \n",
              "2        z13tczjy5xj0vjmu5231unho1ofey5zdk       LaS Music   \n",
              "3    z13tzr0hdpnayhqqc04cd3zqqqjkf3ngckk0k      Cheryl Fox   \n",
              "4    z12pcvix4zedcjvyb04ccr1r0mr2g5xwyng0k      PATRICK_TW   \n",
              "..                                     ...             ...   \n",
              "433      z13lvr4iupatjlrem231yvpxolzvspwdl      Salty Croc   \n",
              "434  z12lxhrqdkyusbkji04cihtrvn3jvxnqszg0k       Bob Orton   \n",
              "435      z12xhdjrsxm3v550w22oynsjrnmvjhkvj  LuckyMusiqLive   \n",
              "436      z13msngo3qvwx1ym223pehqgouexzdmnm  xXxPWND 420xXx   \n",
              "437    z120hptrylzqzdsoj04cepaonmuyyr1afj0  Matheus Macedo   \n",
              "\n",
              "                           DATE  \\\n",
              "0    2015-05-28T21:39:52.376000   \n",
              "1    2015-05-28T20:07:20.610000   \n",
              "2    2015-05-28T19:23:35.355000   \n",
              "3    2015-05-28T17:49:35.294000   \n",
              "4    2015-05-28T16:28:26.818000   \n",
              "..                          ...   \n",
              "433  2014-07-22T04:20:37.489000   \n",
              "434  2014-07-22T00:26:50.820000   \n",
              "435  2014-07-21T22:25:54.048000   \n",
              "436  2014-07-21T11:05:51.945000   \n",
              "437  2014-07-21T04:24:24.585000   \n",
              "\n",
              "                                               CONTENT  CLASS  \n",
              "0    <a href=\"http://www.youtube.com/watch?v=KQ6zr6...      0  \n",
              "1                                     wierd but funny﻿      0  \n",
              "2    Hey guys, I&#39;m a human.<br /><br /><br />Bu...      1  \n",
              "3         Party Rock....lol...who wants to shuffle!!!﻿      0  \n",
              "4                                          Party rock﻿      0  \n",
              "..                                                 ...    ...  \n",
              "433                   Like this comment for no reason﻿      1  \n",
              "434                                    love this song﻿      0  \n",
              "435  this song is awesome. these guys are the best....      1  \n",
              "436   HOW MANY THUMBS UP FOR LOUIS SAVING THE DAY!?!?﻿      1  \n",
              "437                                           NICE :3﻿      0  \n",
              "\n",
              "[438 rows x 5 columns]"
            ]
          },
          "execution_count": 12,
          "metadata": {},
          "output_type": "execute_result"
        }
      ],
      "source": [
        "df_lmfao"
      ]
    },
    {
      "cell_type": "code",
      "execution_count": 13,
      "metadata": {
        "colab": {
          "base_uri": "https://localhost:8080/",
          "height": 0
        },
        "id": "K2b7SgdKU6Yq",
        "outputId": "16eb84f8-98ef-4d50-d234-f7876799507b"
      },
      "outputs": [
        {
          "data": {
            "text/html": [
              "\n",
              "  <div id=\"df-87b25c94-554d-445f-9c59-b464704c8721\">\n",
              "    <div class=\"colab-df-container\">\n",
              "      <div>\n",
              "<style scoped>\n",
              "    .dataframe tbody tr th:only-of-type {\n",
              "        vertical-align: middle;\n",
              "    }\n",
              "\n",
              "    .dataframe tbody tr th {\n",
              "        vertical-align: top;\n",
              "    }\n",
              "\n",
              "    .dataframe thead th {\n",
              "        text-align: right;\n",
              "    }\n",
              "</style>\n",
              "<table border=\"1\" class=\"dataframe\">\n",
              "  <thead>\n",
              "    <tr style=\"text-align: right;\">\n",
              "      <th></th>\n",
              "      <th>COMMENT_ID</th>\n",
              "      <th>AUTHOR</th>\n",
              "      <th>DATE</th>\n",
              "      <th>CONTENT</th>\n",
              "      <th>CLASS</th>\n",
              "    </tr>\n",
              "  </thead>\n",
              "  <tbody>\n",
              "    <tr>\n",
              "      <th>0</th>\n",
              "      <td>z12rwfnyyrbsefonb232i5ehdxzkjzjs2</td>\n",
              "      <td>Lisa Wellas</td>\n",
              "      <td>NaN</td>\n",
              "      <td>+447935454150 lovely girl talk to me xxx﻿</td>\n",
              "      <td>1</td>\n",
              "    </tr>\n",
              "    <tr>\n",
              "      <th>1</th>\n",
              "      <td>z130wpnwwnyuetxcn23xf5k5ynmkdpjrj04</td>\n",
              "      <td>jason graham</td>\n",
              "      <td>2015-05-29T02:26:10.652000</td>\n",
              "      <td>I always end up coming back to this song&lt;br /&gt;﻿</td>\n",
              "      <td>0</td>\n",
              "    </tr>\n",
              "    <tr>\n",
              "      <th>2</th>\n",
              "      <td>z13vsfqirtavjvu0t22ezrgzyorwxhpf3</td>\n",
              "      <td>Ajkal Khan</td>\n",
              "      <td>NaN</td>\n",
              "      <td>my sister just received over 6,500 new &lt;a rel=...</td>\n",
              "      <td>1</td>\n",
              "    </tr>\n",
              "    <tr>\n",
              "      <th>3</th>\n",
              "      <td>z12wjzc4eprnvja4304cgbbizuved35wxcs</td>\n",
              "      <td>Dakota Taylor</td>\n",
              "      <td>2015-05-29T02:13:07.810000</td>\n",
              "      <td>Cool﻿</td>\n",
              "      <td>0</td>\n",
              "    </tr>\n",
              "    <tr>\n",
              "      <th>4</th>\n",
              "      <td>z13xjfr42z3uxdz2223gx5rrzs3dt5hna</td>\n",
              "      <td>Jihad Naser</td>\n",
              "      <td>NaN</td>\n",
              "      <td>Hello I&amp;#39;am from Palastine﻿</td>\n",
              "      <td>1</td>\n",
              "    </tr>\n",
              "    <tr>\n",
              "      <th>...</th>\n",
              "      <td>...</td>\n",
              "      <td>...</td>\n",
              "      <td>...</td>\n",
              "      <td>...</td>\n",
              "      <td>...</td>\n",
              "    </tr>\n",
              "    <tr>\n",
              "      <th>443</th>\n",
              "      <td>LneaDw26bFu3RCmyrWyP9S6wh1h9dBv3X95g1HzKAb4</td>\n",
              "      <td>Dany PK</td>\n",
              "      <td>NaN</td>\n",
              "      <td>SUBSCRIBE TO MY CHANNEL X PLEASE!. SPARE</td>\n",
              "      <td>1</td>\n",
              "    </tr>\n",
              "    <tr>\n",
              "      <th>444</th>\n",
              "      <td>LneaDw26bFsD65dtIvAEObWYIYnFTqQDKBek_Ypz3J8</td>\n",
              "      <td>SmexyFriedChicken</td>\n",
              "      <td>NaN</td>\n",
              "      <td>Check out my videos guy! :) Hope you guys had ...</td>\n",
              "      <td>1</td>\n",
              "    </tr>\n",
              "    <tr>\n",
              "      <th>445</th>\n",
              "      <td>LneaDw26bFuvs-8oWkLpAFa6g3QHpWD8k7sbbMP3Bg8</td>\n",
              "      <td>The Guy That's Done Everything</td>\n",
              "      <td>NaN</td>\n",
              "      <td>3 yrs ago I had a health scare but thankfully ...</td>\n",
              "      <td>1</td>\n",
              "    </tr>\n",
              "    <tr>\n",
              "      <th>446</th>\n",
              "      <td>z12hfp2wmyuqztkw504cgblyxtbsxjuzeow0k</td>\n",
              "      <td>Jesse Pinkman</td>\n",
              "      <td>2015-05-06T11:42:44.601000</td>\n",
              "      <td>Rihanna looks so beautiful with red hair ;)﻿</td>\n",
              "      <td>0</td>\n",
              "    </tr>\n",
              "    <tr>\n",
              "      <th>447</th>\n",
              "      <td>z13tsbc5vvn0hdozz04chjt51lq1cvris0k</td>\n",
              "      <td>Gaming Gaming</td>\n",
              "      <td>2015-05-06T10:56:35.972000</td>\n",
              "      <td>857.482.940 views AWESOME !!!!!!!!!!!!!!!!!!!!...</td>\n",
              "      <td>0</td>\n",
              "    </tr>\n",
              "  </tbody>\n",
              "</table>\n",
              "<p>448 rows × 5 columns</p>\n",
              "</div>\n",
              "      <button class=\"colab-df-convert\" onclick=\"convertToInteractive('df-87b25c94-554d-445f-9c59-b464704c8721')\"\n",
              "              title=\"Convert this dataframe to an interactive table.\"\n",
              "              style=\"display:none;\">\n",
              "        \n",
              "  <svg xmlns=\"http://www.w3.org/2000/svg\" height=\"24px\"viewBox=\"0 0 24 24\"\n",
              "       width=\"24px\">\n",
              "    <path d=\"M0 0h24v24H0V0z\" fill=\"none\"/>\n",
              "    <path d=\"M18.56 5.44l.94 2.06.94-2.06 2.06-.94-2.06-.94-.94-2.06-.94 2.06-2.06.94zm-11 1L8.5 8.5l.94-2.06 2.06-.94-2.06-.94L8.5 2.5l-.94 2.06-2.06.94zm10 10l.94 2.06.94-2.06 2.06-.94-2.06-.94-.94-2.06-.94 2.06-2.06.94z\"/><path d=\"M17.41 7.96l-1.37-1.37c-.4-.4-.92-.59-1.43-.59-.52 0-1.04.2-1.43.59L10.3 9.45l-7.72 7.72c-.78.78-.78 2.05 0 2.83L4 21.41c.39.39.9.59 1.41.59.51 0 1.02-.2 1.41-.59l7.78-7.78 2.81-2.81c.8-.78.8-2.07 0-2.86zM5.41 20L4 18.59l7.72-7.72 1.47 1.35L5.41 20z\"/>\n",
              "  </svg>\n",
              "      </button>\n",
              "      \n",
              "  <style>\n",
              "    .colab-df-container {\n",
              "      display:flex;\n",
              "      flex-wrap:wrap;\n",
              "      gap: 12px;\n",
              "    }\n",
              "\n",
              "    .colab-df-convert {\n",
              "      background-color: #E8F0FE;\n",
              "      border: none;\n",
              "      border-radius: 50%;\n",
              "      cursor: pointer;\n",
              "      display: none;\n",
              "      fill: #1967D2;\n",
              "      height: 32px;\n",
              "      padding: 0 0 0 0;\n",
              "      width: 32px;\n",
              "    }\n",
              "\n",
              "    .colab-df-convert:hover {\n",
              "      background-color: #E2EBFA;\n",
              "      box-shadow: 0px 1px 2px rgba(60, 64, 67, 0.3), 0px 1px 3px 1px rgba(60, 64, 67, 0.15);\n",
              "      fill: #174EA6;\n",
              "    }\n",
              "\n",
              "    [theme=dark] .colab-df-convert {\n",
              "      background-color: #3B4455;\n",
              "      fill: #D2E3FC;\n",
              "    }\n",
              "\n",
              "    [theme=dark] .colab-df-convert:hover {\n",
              "      background-color: #434B5C;\n",
              "      box-shadow: 0px 1px 3px 1px rgba(0, 0, 0, 0.15);\n",
              "      filter: drop-shadow(0px 1px 2px rgba(0, 0, 0, 0.3));\n",
              "      fill: #FFFFFF;\n",
              "    }\n",
              "  </style>\n",
              "\n",
              "      <script>\n",
              "        const buttonEl =\n",
              "          document.querySelector('#df-87b25c94-554d-445f-9c59-b464704c8721 button.colab-df-convert');\n",
              "        buttonEl.style.display =\n",
              "          google.colab.kernel.accessAllowed ? 'block' : 'none';\n",
              "\n",
              "        async function convertToInteractive(key) {\n",
              "          const element = document.querySelector('#df-87b25c94-554d-445f-9c59-b464704c8721');\n",
              "          const dataTable =\n",
              "            await google.colab.kernel.invokeFunction('convertToInteractive',\n",
              "                                                     [key], {});\n",
              "          if (!dataTable) return;\n",
              "\n",
              "          const docLinkHtml = 'Like what you see? Visit the ' +\n",
              "            '<a target=\"_blank\" href=https://colab.research.google.com/notebooks/data_table.ipynb>data table notebook</a>'\n",
              "            + ' to learn more about interactive tables.';\n",
              "          element.innerHTML = '';\n",
              "          dataTable['output_type'] = 'display_data';\n",
              "          await google.colab.output.renderOutput(dataTable, element);\n",
              "          const docLink = document.createElement('div');\n",
              "          docLink.innerHTML = docLinkHtml;\n",
              "          element.appendChild(docLink);\n",
              "        }\n",
              "      </script>\n",
              "    </div>\n",
              "  </div>\n",
              "  "
            ],
            "text/plain": [
              "                                      COMMENT_ID  \\\n",
              "0              z12rwfnyyrbsefonb232i5ehdxzkjzjs2   \n",
              "1            z130wpnwwnyuetxcn23xf5k5ynmkdpjrj04   \n",
              "2              z13vsfqirtavjvu0t22ezrgzyorwxhpf3   \n",
              "3            z12wjzc4eprnvja4304cgbbizuved35wxcs   \n",
              "4              z13xjfr42z3uxdz2223gx5rrzs3dt5hna   \n",
              "..                                           ...   \n",
              "443  LneaDw26bFu3RCmyrWyP9S6wh1h9dBv3X95g1HzKAb4   \n",
              "444  LneaDw26bFsD65dtIvAEObWYIYnFTqQDKBek_Ypz3J8   \n",
              "445  LneaDw26bFuvs-8oWkLpAFa6g3QHpWD8k7sbbMP3Bg8   \n",
              "446        z12hfp2wmyuqztkw504cgblyxtbsxjuzeow0k   \n",
              "447          z13tsbc5vvn0hdozz04chjt51lq1cvris0k   \n",
              "\n",
              "                             AUTHOR                        DATE  \\\n",
              "0                       Lisa Wellas                         NaN   \n",
              "1                      jason graham  2015-05-29T02:26:10.652000   \n",
              "2                        Ajkal Khan                         NaN   \n",
              "3                     Dakota Taylor  2015-05-29T02:13:07.810000   \n",
              "4                       Jihad Naser                         NaN   \n",
              "..                              ...                         ...   \n",
              "443                         Dany PK                         NaN   \n",
              "444               SmexyFriedChicken                         NaN   \n",
              "445  The Guy That's Done Everything                         NaN   \n",
              "446                   Jesse Pinkman  2015-05-06T11:42:44.601000   \n",
              "447                   Gaming Gaming  2015-05-06T10:56:35.972000   \n",
              "\n",
              "                                               CONTENT  CLASS  \n",
              "0            +447935454150 lovely girl talk to me xxx﻿      1  \n",
              "1      I always end up coming back to this song<br />﻿      0  \n",
              "2    my sister just received over 6,500 new <a rel=...      1  \n",
              "3                                                Cool﻿      0  \n",
              "4                       Hello I&#39;am from Palastine﻿      1  \n",
              "..                                                 ...    ...  \n",
              "443           SUBSCRIBE TO MY CHANNEL X PLEASE!. SPARE      1  \n",
              "444  Check out my videos guy! :) Hope you guys had ...      1  \n",
              "445  3 yrs ago I had a health scare but thankfully ...      1  \n",
              "446       Rihanna looks so beautiful with red hair ;)﻿      0  \n",
              "447  857.482.940 views AWESOME !!!!!!!!!!!!!!!!!!!!...      0  \n",
              "\n",
              "[448 rows x 5 columns]"
            ]
          },
          "execution_count": 13,
          "metadata": {},
          "output_type": "execute_result"
        }
      ],
      "source": [
        "df_eminem"
      ]
    },
    {
      "cell_type": "code",
      "execution_count": 14,
      "metadata": {
        "colab": {
          "base_uri": "https://localhost:8080/",
          "height": 0
        },
        "id": "wm95z2gdU8c9",
        "outputId": "374491f6-deed-44eb-a061-49fee2f6e4da"
      },
      "outputs": [
        {
          "data": {
            "text/html": [
              "\n",
              "  <div id=\"df-5ca2f70a-f1d1-41a0-97e5-321dd08b1bf1\">\n",
              "    <div class=\"colab-df-container\">\n",
              "      <div>\n",
              "<style scoped>\n",
              "    .dataframe tbody tr th:only-of-type {\n",
              "        vertical-align: middle;\n",
              "    }\n",
              "\n",
              "    .dataframe tbody tr th {\n",
              "        vertical-align: top;\n",
              "    }\n",
              "\n",
              "    .dataframe thead th {\n",
              "        text-align: right;\n",
              "    }\n",
              "</style>\n",
              "<table border=\"1\" class=\"dataframe\">\n",
              "  <thead>\n",
              "    <tr style=\"text-align: right;\">\n",
              "      <th></th>\n",
              "      <th>COMMENT_ID</th>\n",
              "      <th>AUTHOR</th>\n",
              "      <th>DATE</th>\n",
              "      <th>CONTENT</th>\n",
              "      <th>CLASS</th>\n",
              "    </tr>\n",
              "  </thead>\n",
              "  <tbody>\n",
              "    <tr>\n",
              "      <th>0</th>\n",
              "      <td>z13lgffb5w3ddx1ul22qy1wxspy5cpkz504</td>\n",
              "      <td>dharma pal</td>\n",
              "      <td>2015-05-29T02:30:18.971000</td>\n",
              "      <td>Nice song﻿</td>\n",
              "      <td>0</td>\n",
              "    </tr>\n",
              "    <tr>\n",
              "      <th>1</th>\n",
              "      <td>z123dbgb0mqjfxbtz22ucjc5jvzcv3ykj</td>\n",
              "      <td>Tiza Arellano</td>\n",
              "      <td>2015-05-29T00:14:48.748000</td>\n",
              "      <td>I love song ﻿</td>\n",
              "      <td>0</td>\n",
              "    </tr>\n",
              "    <tr>\n",
              "      <th>2</th>\n",
              "      <td>z12quxxp2vutflkxv04cihggzt2azl34pms0k</td>\n",
              "      <td>Prìñçeśś Âliś Łøvê Dømíñø Mâđiś™ ﻿</td>\n",
              "      <td>2015-05-28T21:00:08.607000</td>\n",
              "      <td>I love song ﻿</td>\n",
              "      <td>0</td>\n",
              "    </tr>\n",
              "    <tr>\n",
              "      <th>3</th>\n",
              "      <td>z12icv3ysqvlwth2c23eddlykyqut5z1h</td>\n",
              "      <td>Eric Gonzalez</td>\n",
              "      <td>2015-05-28T20:47:12.193000</td>\n",
              "      <td>860,000,000 lets make it first female to reach...</td>\n",
              "      <td>0</td>\n",
              "    </tr>\n",
              "    <tr>\n",
              "      <th>4</th>\n",
              "      <td>z133stly3kete3tly22petvwdpmghrlli</td>\n",
              "      <td>Analena López</td>\n",
              "      <td>2015-05-28T17:08:29.827000</td>\n",
              "      <td>shakira is best for worldcup﻿</td>\n",
              "      <td>0</td>\n",
              "    </tr>\n",
              "    <tr>\n",
              "      <th>...</th>\n",
              "      <td>...</td>\n",
              "      <td>...</td>\n",
              "      <td>...</td>\n",
              "      <td>...</td>\n",
              "      <td>...</td>\n",
              "    </tr>\n",
              "    <tr>\n",
              "      <th>365</th>\n",
              "      <td>_2viQ_Qnc6-bMSjqyL1NKj57ROicCSJV5SwTrw-RFFA</td>\n",
              "      <td>Katie Mettam</td>\n",
              "      <td>2013-07-13T13:27:39.441000</td>\n",
              "      <td>I love this song because we sing it at Camp al...</td>\n",
              "      <td>0</td>\n",
              "    </tr>\n",
              "    <tr>\n",
              "      <th>366</th>\n",
              "      <td>_2viQ_Qnc6-pY-1yR6K2FhmC5i48-WuNx5CumlHLDAI</td>\n",
              "      <td>Sabina Pearson-Smith</td>\n",
              "      <td>2013-07-13T13:14:30.021000</td>\n",
              "      <td>I love this song for two reasons: 1.it is abou...</td>\n",
              "      <td>0</td>\n",
              "    </tr>\n",
              "    <tr>\n",
              "      <th>367</th>\n",
              "      <td>_2viQ_Qnc6_k_n_Bse9zVhJP8tJReZpo8uM2uZfnzDs</td>\n",
              "      <td>jeffrey jules</td>\n",
              "      <td>2013-07-13T12:09:31.188000</td>\n",
              "      <td>wow</td>\n",
              "      <td>0</td>\n",
              "    </tr>\n",
              "    <tr>\n",
              "      <th>368</th>\n",
              "      <td>_2viQ_Qnc6_yBt8UGMWyg3vh0PulTqcqyQtdE7d4Fl0</td>\n",
              "      <td>Aishlin Maciel</td>\n",
              "      <td>2013-07-13T11:17:52.308000</td>\n",
              "      <td>Shakira u are so wiredo</td>\n",
              "      <td>0</td>\n",
              "    </tr>\n",
              "    <tr>\n",
              "      <th>369</th>\n",
              "      <td>_2viQ_Qnc685RPw1aSa1tfrIuHXRvAQ2rPT9R06KTqA</td>\n",
              "      <td>Latin Bosch</td>\n",
              "      <td>2013-07-12T22:33:27.916000</td>\n",
              "      <td>Shakira is the best dancer</td>\n",
              "      <td>0</td>\n",
              "    </tr>\n",
              "  </tbody>\n",
              "</table>\n",
              "<p>370 rows × 5 columns</p>\n",
              "</div>\n",
              "      <button class=\"colab-df-convert\" onclick=\"convertToInteractive('df-5ca2f70a-f1d1-41a0-97e5-321dd08b1bf1')\"\n",
              "              title=\"Convert this dataframe to an interactive table.\"\n",
              "              style=\"display:none;\">\n",
              "        \n",
              "  <svg xmlns=\"http://www.w3.org/2000/svg\" height=\"24px\"viewBox=\"0 0 24 24\"\n",
              "       width=\"24px\">\n",
              "    <path d=\"M0 0h24v24H0V0z\" fill=\"none\"/>\n",
              "    <path d=\"M18.56 5.44l.94 2.06.94-2.06 2.06-.94-2.06-.94-.94-2.06-.94 2.06-2.06.94zm-11 1L8.5 8.5l.94-2.06 2.06-.94-2.06-.94L8.5 2.5l-.94 2.06-2.06.94zm10 10l.94 2.06.94-2.06 2.06-.94-2.06-.94-.94-2.06-.94 2.06-2.06.94z\"/><path d=\"M17.41 7.96l-1.37-1.37c-.4-.4-.92-.59-1.43-.59-.52 0-1.04.2-1.43.59L10.3 9.45l-7.72 7.72c-.78.78-.78 2.05 0 2.83L4 21.41c.39.39.9.59 1.41.59.51 0 1.02-.2 1.41-.59l7.78-7.78 2.81-2.81c.8-.78.8-2.07 0-2.86zM5.41 20L4 18.59l7.72-7.72 1.47 1.35L5.41 20z\"/>\n",
              "  </svg>\n",
              "      </button>\n",
              "      \n",
              "  <style>\n",
              "    .colab-df-container {\n",
              "      display:flex;\n",
              "      flex-wrap:wrap;\n",
              "      gap: 12px;\n",
              "    }\n",
              "\n",
              "    .colab-df-convert {\n",
              "      background-color: #E8F0FE;\n",
              "      border: none;\n",
              "      border-radius: 50%;\n",
              "      cursor: pointer;\n",
              "      display: none;\n",
              "      fill: #1967D2;\n",
              "      height: 32px;\n",
              "      padding: 0 0 0 0;\n",
              "      width: 32px;\n",
              "    }\n",
              "\n",
              "    .colab-df-convert:hover {\n",
              "      background-color: #E2EBFA;\n",
              "      box-shadow: 0px 1px 2px rgba(60, 64, 67, 0.3), 0px 1px 3px 1px rgba(60, 64, 67, 0.15);\n",
              "      fill: #174EA6;\n",
              "    }\n",
              "\n",
              "    [theme=dark] .colab-df-convert {\n",
              "      background-color: #3B4455;\n",
              "      fill: #D2E3FC;\n",
              "    }\n",
              "\n",
              "    [theme=dark] .colab-df-convert:hover {\n",
              "      background-color: #434B5C;\n",
              "      box-shadow: 0px 1px 3px 1px rgba(0, 0, 0, 0.15);\n",
              "      filter: drop-shadow(0px 1px 2px rgba(0, 0, 0, 0.3));\n",
              "      fill: #FFFFFF;\n",
              "    }\n",
              "  </style>\n",
              "\n",
              "      <script>\n",
              "        const buttonEl =\n",
              "          document.querySelector('#df-5ca2f70a-f1d1-41a0-97e5-321dd08b1bf1 button.colab-df-convert');\n",
              "        buttonEl.style.display =\n",
              "          google.colab.kernel.accessAllowed ? 'block' : 'none';\n",
              "\n",
              "        async function convertToInteractive(key) {\n",
              "          const element = document.querySelector('#df-5ca2f70a-f1d1-41a0-97e5-321dd08b1bf1');\n",
              "          const dataTable =\n",
              "            await google.colab.kernel.invokeFunction('convertToInteractive',\n",
              "                                                     [key], {});\n",
              "          if (!dataTable) return;\n",
              "\n",
              "          const docLinkHtml = 'Like what you see? Visit the ' +\n",
              "            '<a target=\"_blank\" href=https://colab.research.google.com/notebooks/data_table.ipynb>data table notebook</a>'\n",
              "            + ' to learn more about interactive tables.';\n",
              "          element.innerHTML = '';\n",
              "          dataTable['output_type'] = 'display_data';\n",
              "          await google.colab.output.renderOutput(dataTable, element);\n",
              "          const docLink = document.createElement('div');\n",
              "          docLink.innerHTML = docLinkHtml;\n",
              "          element.appendChild(docLink);\n",
              "        }\n",
              "      </script>\n",
              "    </div>\n",
              "  </div>\n",
              "  "
            ],
            "text/plain": [
              "                                      COMMENT_ID  \\\n",
              "0            z13lgffb5w3ddx1ul22qy1wxspy5cpkz504   \n",
              "1              z123dbgb0mqjfxbtz22ucjc5jvzcv3ykj   \n",
              "2          z12quxxp2vutflkxv04cihggzt2azl34pms0k   \n",
              "3              z12icv3ysqvlwth2c23eddlykyqut5z1h   \n",
              "4              z133stly3kete3tly22petvwdpmghrlli   \n",
              "..                                           ...   \n",
              "365  _2viQ_Qnc6-bMSjqyL1NKj57ROicCSJV5SwTrw-RFFA   \n",
              "366  _2viQ_Qnc6-pY-1yR6K2FhmC5i48-WuNx5CumlHLDAI   \n",
              "367  _2viQ_Qnc6_k_n_Bse9zVhJP8tJReZpo8uM2uZfnzDs   \n",
              "368  _2viQ_Qnc6_yBt8UGMWyg3vh0PulTqcqyQtdE7d4Fl0   \n",
              "369  _2viQ_Qnc685RPw1aSa1tfrIuHXRvAQ2rPT9R06KTqA   \n",
              "\n",
              "                                 AUTHOR                        DATE  \\\n",
              "0                            dharma pal  2015-05-29T02:30:18.971000   \n",
              "1                         Tiza Arellano  2015-05-29T00:14:48.748000   \n",
              "2    Prìñçeśś Âliś Łøvê Dømíñø Mâđiś™ ﻿  2015-05-28T21:00:08.607000   \n",
              "3                         Eric Gonzalez  2015-05-28T20:47:12.193000   \n",
              "4                         Analena López  2015-05-28T17:08:29.827000   \n",
              "..                                  ...                         ...   \n",
              "365                        Katie Mettam  2013-07-13T13:27:39.441000   \n",
              "366                Sabina Pearson-Smith  2013-07-13T13:14:30.021000   \n",
              "367                       jeffrey jules  2013-07-13T12:09:31.188000   \n",
              "368                      Aishlin Maciel  2013-07-13T11:17:52.308000   \n",
              "369                         Latin Bosch  2013-07-12T22:33:27.916000   \n",
              "\n",
              "                                               CONTENT  CLASS  \n",
              "0                                           Nice song﻿      0  \n",
              "1                                        I love song ﻿      0  \n",
              "2                                        I love song ﻿      0  \n",
              "3    860,000,000 lets make it first female to reach...      0  \n",
              "4                        shakira is best for worldcup﻿      0  \n",
              "..                                                 ...    ...  \n",
              "365  I love this song because we sing it at Camp al...      0  \n",
              "366  I love this song for two reasons: 1.it is abou...      0  \n",
              "367                                                wow      0  \n",
              "368                            Shakira u are so wiredo      0  \n",
              "369                         Shakira is the best dancer      0  \n",
              "\n",
              "[370 rows x 5 columns]"
            ]
          },
          "execution_count": 14,
          "metadata": {},
          "output_type": "execute_result"
        }
      ],
      "source": [
        "df_shakira"
      ]
    },
    {
      "cell_type": "code",
      "execution_count": 15,
      "metadata": {
        "id": "AAct7K40FOl4"
      },
      "outputs": [],
      "source": [
        "# To bulid a sentiment analysis model, we just need 'Content' and 'Class', hence we remove the rest before merging\n",
        "df_psy.drop(columns = ['COMMENT_ID', 'DATE', 'AUTHOR'], inplace = True)\n",
        "df_katy.drop(columns = ['COMMENT_ID', 'DATE', 'AUTHOR'], inplace = True)\n",
        "df_lmfao.drop(columns = ['COMMENT_ID', 'DATE', 'AUTHOR'], inplace = True)\n",
        "df_eminem.drop(columns = ['COMMENT_ID', 'DATE', 'AUTHOR'], inplace = True)\n",
        "df_shakira.drop(columns = ['COMMENT_ID', 'DATE', 'AUTHOR'], inplace = True)"
      ]
    },
    {
      "cell_type": "code",
      "execution_count": 16,
      "metadata": {
        "id": "WDLEE8xXFQ9I"
      },
      "outputs": [],
      "source": [
        "frames = [df_psy, df_katy, df_lmfao, df_eminem, df_shakira]\n",
        "comb_df = pd.concat(frames)\n",
        "comb_df.reset_index(inplace = True, drop = True)"
      ]
    },
    {
      "cell_type": "code",
      "execution_count": 17,
      "metadata": {
        "colab": {
          "base_uri": "https://localhost:8080/",
          "height": 0
        },
        "id": "q1r10tm8FUIe",
        "outputId": "4adccef1-9cad-469f-fdd0-3d5214112fd4"
      },
      "outputs": [
        {
          "data": {
            "text/html": [
              "\n",
              "  <div id=\"df-9423a715-f95b-44a4-8e54-1891e517708a\">\n",
              "    <div class=\"colab-df-container\">\n",
              "      <div>\n",
              "<style scoped>\n",
              "    .dataframe tbody tr th:only-of-type {\n",
              "        vertical-align: middle;\n",
              "    }\n",
              "\n",
              "    .dataframe tbody tr th {\n",
              "        vertical-align: top;\n",
              "    }\n",
              "\n",
              "    .dataframe thead th {\n",
              "        text-align: right;\n",
              "    }\n",
              "</style>\n",
              "<table border=\"1\" class=\"dataframe\">\n",
              "  <thead>\n",
              "    <tr style=\"text-align: right;\">\n",
              "      <th></th>\n",
              "      <th>CONTENT</th>\n",
              "      <th>CLASS</th>\n",
              "    </tr>\n",
              "  </thead>\n",
              "  <tbody>\n",
              "    <tr>\n",
              "      <th>0</th>\n",
              "      <td>Huh, anyway check out this you[tube] channel: ...</td>\n",
              "      <td>1</td>\n",
              "    </tr>\n",
              "    <tr>\n",
              "      <th>1</th>\n",
              "      <td>Hey guys check out my new channel and our firs...</td>\n",
              "      <td>1</td>\n",
              "    </tr>\n",
              "    <tr>\n",
              "      <th>2</th>\n",
              "      <td>just for test I have to say murdev.com</td>\n",
              "      <td>1</td>\n",
              "    </tr>\n",
              "    <tr>\n",
              "      <th>3</th>\n",
              "      <td>me shaking my sexy ass on my channel enjoy ^_^ ﻿</td>\n",
              "      <td>1</td>\n",
              "    </tr>\n",
              "    <tr>\n",
              "      <th>4</th>\n",
              "      <td>watch?v=vtaRGgvGtWQ   Check this out .﻿</td>\n",
              "      <td>1</td>\n",
              "    </tr>\n",
              "    <tr>\n",
              "      <th>...</th>\n",
              "      <td>...</td>\n",
              "      <td>...</td>\n",
              "    </tr>\n",
              "    <tr>\n",
              "      <th>1951</th>\n",
              "      <td>I love this song because we sing it at Camp al...</td>\n",
              "      <td>0</td>\n",
              "    </tr>\n",
              "    <tr>\n",
              "      <th>1952</th>\n",
              "      <td>I love this song for two reasons: 1.it is abou...</td>\n",
              "      <td>0</td>\n",
              "    </tr>\n",
              "    <tr>\n",
              "      <th>1953</th>\n",
              "      <td>wow</td>\n",
              "      <td>0</td>\n",
              "    </tr>\n",
              "    <tr>\n",
              "      <th>1954</th>\n",
              "      <td>Shakira u are so wiredo</td>\n",
              "      <td>0</td>\n",
              "    </tr>\n",
              "    <tr>\n",
              "      <th>1955</th>\n",
              "      <td>Shakira is the best dancer</td>\n",
              "      <td>0</td>\n",
              "    </tr>\n",
              "  </tbody>\n",
              "</table>\n",
              "<p>1956 rows × 2 columns</p>\n",
              "</div>\n",
              "      <button class=\"colab-df-convert\" onclick=\"convertToInteractive('df-9423a715-f95b-44a4-8e54-1891e517708a')\"\n",
              "              title=\"Convert this dataframe to an interactive table.\"\n",
              "              style=\"display:none;\">\n",
              "        \n",
              "  <svg xmlns=\"http://www.w3.org/2000/svg\" height=\"24px\"viewBox=\"0 0 24 24\"\n",
              "       width=\"24px\">\n",
              "    <path d=\"M0 0h24v24H0V0z\" fill=\"none\"/>\n",
              "    <path d=\"M18.56 5.44l.94 2.06.94-2.06 2.06-.94-2.06-.94-.94-2.06-.94 2.06-2.06.94zm-11 1L8.5 8.5l.94-2.06 2.06-.94-2.06-.94L8.5 2.5l-.94 2.06-2.06.94zm10 10l.94 2.06.94-2.06 2.06-.94-2.06-.94-.94-2.06-.94 2.06-2.06.94z\"/><path d=\"M17.41 7.96l-1.37-1.37c-.4-.4-.92-.59-1.43-.59-.52 0-1.04.2-1.43.59L10.3 9.45l-7.72 7.72c-.78.78-.78 2.05 0 2.83L4 21.41c.39.39.9.59 1.41.59.51 0 1.02-.2 1.41-.59l7.78-7.78 2.81-2.81c.8-.78.8-2.07 0-2.86zM5.41 20L4 18.59l7.72-7.72 1.47 1.35L5.41 20z\"/>\n",
              "  </svg>\n",
              "      </button>\n",
              "      \n",
              "  <style>\n",
              "    .colab-df-container {\n",
              "      display:flex;\n",
              "      flex-wrap:wrap;\n",
              "      gap: 12px;\n",
              "    }\n",
              "\n",
              "    .colab-df-convert {\n",
              "      background-color: #E8F0FE;\n",
              "      border: none;\n",
              "      border-radius: 50%;\n",
              "      cursor: pointer;\n",
              "      display: none;\n",
              "      fill: #1967D2;\n",
              "      height: 32px;\n",
              "      padding: 0 0 0 0;\n",
              "      width: 32px;\n",
              "    }\n",
              "\n",
              "    .colab-df-convert:hover {\n",
              "      background-color: #E2EBFA;\n",
              "      box-shadow: 0px 1px 2px rgba(60, 64, 67, 0.3), 0px 1px 3px 1px rgba(60, 64, 67, 0.15);\n",
              "      fill: #174EA6;\n",
              "    }\n",
              "\n",
              "    [theme=dark] .colab-df-convert {\n",
              "      background-color: #3B4455;\n",
              "      fill: #D2E3FC;\n",
              "    }\n",
              "\n",
              "    [theme=dark] .colab-df-convert:hover {\n",
              "      background-color: #434B5C;\n",
              "      box-shadow: 0px 1px 3px 1px rgba(0, 0, 0, 0.15);\n",
              "      filter: drop-shadow(0px 1px 2px rgba(0, 0, 0, 0.3));\n",
              "      fill: #FFFFFF;\n",
              "    }\n",
              "  </style>\n",
              "\n",
              "      <script>\n",
              "        const buttonEl =\n",
              "          document.querySelector('#df-9423a715-f95b-44a4-8e54-1891e517708a button.colab-df-convert');\n",
              "        buttonEl.style.display =\n",
              "          google.colab.kernel.accessAllowed ? 'block' : 'none';\n",
              "\n",
              "        async function convertToInteractive(key) {\n",
              "          const element = document.querySelector('#df-9423a715-f95b-44a4-8e54-1891e517708a');\n",
              "          const dataTable =\n",
              "            await google.colab.kernel.invokeFunction('convertToInteractive',\n",
              "                                                     [key], {});\n",
              "          if (!dataTable) return;\n",
              "\n",
              "          const docLinkHtml = 'Like what you see? Visit the ' +\n",
              "            '<a target=\"_blank\" href=https://colab.research.google.com/notebooks/data_table.ipynb>data table notebook</a>'\n",
              "            + ' to learn more about interactive tables.';\n",
              "          element.innerHTML = '';\n",
              "          dataTable['output_type'] = 'display_data';\n",
              "          await google.colab.output.renderOutput(dataTable, element);\n",
              "          const docLink = document.createElement('div');\n",
              "          docLink.innerHTML = docLinkHtml;\n",
              "          element.appendChild(docLink);\n",
              "        }\n",
              "      </script>\n",
              "    </div>\n",
              "  </div>\n",
              "  "
            ],
            "text/plain": [
              "                                                CONTENT  CLASS\n",
              "0     Huh, anyway check out this you[tube] channel: ...      1\n",
              "1     Hey guys check out my new channel and our firs...      1\n",
              "2                just for test I have to say murdev.com      1\n",
              "3      me shaking my sexy ass on my channel enjoy ^_^ ﻿      1\n",
              "4               watch?v=vtaRGgvGtWQ   Check this out .﻿      1\n",
              "...                                                 ...    ...\n",
              "1951  I love this song because we sing it at Camp al...      0\n",
              "1952  I love this song for two reasons: 1.it is abou...      0\n",
              "1953                                                wow      0\n",
              "1954                            Shakira u are so wiredo      0\n",
              "1955                         Shakira is the best dancer      0\n",
              "\n",
              "[1956 rows x 2 columns]"
            ]
          },
          "execution_count": 17,
          "metadata": {},
          "output_type": "execute_result"
        }
      ],
      "source": [
        "comb_df"
      ]
    },
    {
      "cell_type": "markdown",
      "metadata": {
        "id": "IbCTEaaWmgDP"
      },
      "source": [
        "#Data Cleaning"
      ]
    },
    {
      "cell_type": "code",
      "execution_count": 18,
      "metadata": {
        "colab": {
          "base_uri": "https://localhost:8080/"
        },
        "id": "JDd11IrBmwwl",
        "outputId": "0ab82884-44b4-40a3-e36d-5b11059d5ad9"
      },
      "outputs": [
        {
          "name": "stderr",
          "output_type": "stream",
          "text": [
            "100%|██████████| 1956/1956 [00:00<00:00, 10260.88it/s]\n"
          ]
        }
      ],
      "source": [
        "processed_mails=[]\n",
        "for i in tqdm(comb_df['CONTENT']):\n",
        "    #Regular expression that removes all the html tags pressent in the reviews\n",
        "    i=re.sub('(<[\\w\\s]*/?>)',\"\",i)\n",
        "    #Expanding all the contractions present in the review to is respective actual form\n",
        "    i=contractions.fix(i)\n",
        "    #Removing all the special characters from the review text\n",
        "    i=re.sub('[^a-zA-Z0-9\\s]+',\"\",i)\n",
        "    #Removing all the digits present in the review text\n",
        "    i=re.sub('\\d+',\"\",i)\n",
        "    # i=re.sub('[\\n\\t\\s\\b]','',i)\n",
        "    #Removing the html links\n",
        "    s=re.sub(r\"http\\S+\", \" \", i)\n",
        "    i=re.sub(r\"www.\\S+\", \" \", s)\n",
        "    #Removing some patterns\n",
        "    i=re.sub(\"\\\\s*\\\\b(?=\\\\w*(\\\\w)\\\\1{2,})\\\\w*\\\\b\",' ',i)\n",
        "    i=re.sub(r\"\\S*\\.com\\S*|\\S*watch\\?\\S*\",'', i)\n",
        "    #Making all the review text to be of lower case as well as removing the stopwords and words of length less than 3\n",
        "    processed_mails.append(\" \".join([j.lower() for j in i.split() if j not in stopwords and len(j)>=1]))"
      ]
    },
    {
      "cell_type": "code",
      "execution_count": 19,
      "metadata": {
        "id": "ueZ1mT3GUQX4"
      },
      "outputs": [],
      "source": [
        "comb_df['CleanedContent'] = processed_mails\n",
        "comb_df['tokenized_text'] = [simple_preprocess(line, deacc=True) for line in comb_df['CleanedContent']]"
      ]
    },
    {
      "cell_type": "code",
      "execution_count": 20,
      "metadata": {
        "colab": {
          "base_uri": "https://localhost:8080/",
          "height": 0
        },
        "id": "RhHgYR3NUS8g",
        "outputId": "7645b8f8-1f8b-4597-caeb-a98d0aadbe71"
      },
      "outputs": [
        {
          "data": {
            "text/html": [
              "\n",
              "  <div id=\"df-9d6d2a60-c5f8-4660-99c4-7e88436a8e9e\">\n",
              "    <div class=\"colab-df-container\">\n",
              "      <div>\n",
              "<style scoped>\n",
              "    .dataframe tbody tr th:only-of-type {\n",
              "        vertical-align: middle;\n",
              "    }\n",
              "\n",
              "    .dataframe tbody tr th {\n",
              "        vertical-align: top;\n",
              "    }\n",
              "\n",
              "    .dataframe thead th {\n",
              "        text-align: right;\n",
              "    }\n",
              "</style>\n",
              "<table border=\"1\" class=\"dataframe\">\n",
              "  <thead>\n",
              "    <tr style=\"text-align: right;\">\n",
              "      <th></th>\n",
              "      <th>CONTENT</th>\n",
              "      <th>CLASS</th>\n",
              "      <th>CleanedContent</th>\n",
              "      <th>tokenized_text</th>\n",
              "    </tr>\n",
              "  </thead>\n",
              "  <tbody>\n",
              "    <tr>\n",
              "      <th>0</th>\n",
              "      <td>Huh, anyway check out this you[tube] channel: ...</td>\n",
              "      <td>1</td>\n",
              "      <td>huh anyway check youtube channel kobyoshi</td>\n",
              "      <td>[huh, anyway, check, youtube, channel, kobyoshi]</td>\n",
              "    </tr>\n",
              "    <tr>\n",
              "      <th>1</th>\n",
              "      <td>Hey guys check out my new channel and our firs...</td>\n",
              "      <td>1</td>\n",
              "      <td>hey guys check new channel first vid this is u...</td>\n",
              "      <td>[hey, guys, check, new, channel, first, vid, t...</td>\n",
              "    </tr>\n",
              "    <tr>\n",
              "      <th>2</th>\n",
              "      <td>just for test I have to say murdev.com</td>\n",
              "      <td>1</td>\n",
              "      <td>test i say murdevcom</td>\n",
              "      <td>[test, say, murdevcom]</td>\n",
              "    </tr>\n",
              "    <tr>\n",
              "      <th>3</th>\n",
              "      <td>me shaking my sexy ass on my channel enjoy ^_^ ﻿</td>\n",
              "      <td>1</td>\n",
              "      <td>shaking sexy ass channel enjoy</td>\n",
              "      <td>[shaking, sexy, ass, channel, enjoy]</td>\n",
              "    </tr>\n",
              "    <tr>\n",
              "      <th>4</th>\n",
              "      <td>watch?v=vtaRGgvGtWQ   Check this out .﻿</td>\n",
              "      <td>1</td>\n",
              "      <td>watchvvtarggvgtwq check</td>\n",
              "      <td>[check]</td>\n",
              "    </tr>\n",
              "    <tr>\n",
              "      <th>5</th>\n",
              "      <td>Hey, check out my new website!! This site is a...</td>\n",
              "      <td>1</td>\n",
              "      <td>hey check new website this site kids stuff kid...</td>\n",
              "      <td>[hey, check, new, website, this, site, kids, s...</td>\n",
              "    </tr>\n",
              "    <tr>\n",
              "      <th>6</th>\n",
              "      <td>Subscribe to my channel ﻿</td>\n",
              "      <td>1</td>\n",
              "      <td>subscribe channel</td>\n",
              "      <td>[subscribe, channel]</td>\n",
              "    </tr>\n",
              "    <tr>\n",
              "      <th>7</th>\n",
              "      <td>i turned it on mute as soon is i came on i jus...</td>\n",
              "      <td>0</td>\n",
              "      <td>turned mute soon came wanted check views</td>\n",
              "      <td>[turned, mute, soon, came, wanted, check, views]</td>\n",
              "    </tr>\n",
              "    <tr>\n",
              "      <th>8</th>\n",
              "      <td>You should check my channel for Funny VIDEOS!!﻿</td>\n",
              "      <td>1</td>\n",
              "      <td>you check channel funny videos</td>\n",
              "      <td>[you, check, channel, funny, videos]</td>\n",
              "    </tr>\n",
              "    <tr>\n",
              "      <th>9</th>\n",
              "      <td>and u should.d check my channel and tell me wh...</td>\n",
              "      <td>1</td>\n",
              "      <td>shouldd check channel tell i next</td>\n",
              "      <td>[shouldd, check, channel, tell, next]</td>\n",
              "    </tr>\n",
              "  </tbody>\n",
              "</table>\n",
              "</div>\n",
              "      <button class=\"colab-df-convert\" onclick=\"convertToInteractive('df-9d6d2a60-c5f8-4660-99c4-7e88436a8e9e')\"\n",
              "              title=\"Convert this dataframe to an interactive table.\"\n",
              "              style=\"display:none;\">\n",
              "        \n",
              "  <svg xmlns=\"http://www.w3.org/2000/svg\" height=\"24px\"viewBox=\"0 0 24 24\"\n",
              "       width=\"24px\">\n",
              "    <path d=\"M0 0h24v24H0V0z\" fill=\"none\"/>\n",
              "    <path d=\"M18.56 5.44l.94 2.06.94-2.06 2.06-.94-2.06-.94-.94-2.06-.94 2.06-2.06.94zm-11 1L8.5 8.5l.94-2.06 2.06-.94-2.06-.94L8.5 2.5l-.94 2.06-2.06.94zm10 10l.94 2.06.94-2.06 2.06-.94-2.06-.94-.94-2.06-.94 2.06-2.06.94z\"/><path d=\"M17.41 7.96l-1.37-1.37c-.4-.4-.92-.59-1.43-.59-.52 0-1.04.2-1.43.59L10.3 9.45l-7.72 7.72c-.78.78-.78 2.05 0 2.83L4 21.41c.39.39.9.59 1.41.59.51 0 1.02-.2 1.41-.59l7.78-7.78 2.81-2.81c.8-.78.8-2.07 0-2.86zM5.41 20L4 18.59l7.72-7.72 1.47 1.35L5.41 20z\"/>\n",
              "  </svg>\n",
              "      </button>\n",
              "      \n",
              "  <style>\n",
              "    .colab-df-container {\n",
              "      display:flex;\n",
              "      flex-wrap:wrap;\n",
              "      gap: 12px;\n",
              "    }\n",
              "\n",
              "    .colab-df-convert {\n",
              "      background-color: #E8F0FE;\n",
              "      border: none;\n",
              "      border-radius: 50%;\n",
              "      cursor: pointer;\n",
              "      display: none;\n",
              "      fill: #1967D2;\n",
              "      height: 32px;\n",
              "      padding: 0 0 0 0;\n",
              "      width: 32px;\n",
              "    }\n",
              "\n",
              "    .colab-df-convert:hover {\n",
              "      background-color: #E2EBFA;\n",
              "      box-shadow: 0px 1px 2px rgba(60, 64, 67, 0.3), 0px 1px 3px 1px rgba(60, 64, 67, 0.15);\n",
              "      fill: #174EA6;\n",
              "    }\n",
              "\n",
              "    [theme=dark] .colab-df-convert {\n",
              "      background-color: #3B4455;\n",
              "      fill: #D2E3FC;\n",
              "    }\n",
              "\n",
              "    [theme=dark] .colab-df-convert:hover {\n",
              "      background-color: #434B5C;\n",
              "      box-shadow: 0px 1px 3px 1px rgba(0, 0, 0, 0.15);\n",
              "      filter: drop-shadow(0px 1px 2px rgba(0, 0, 0, 0.3));\n",
              "      fill: #FFFFFF;\n",
              "    }\n",
              "  </style>\n",
              "\n",
              "      <script>\n",
              "        const buttonEl =\n",
              "          document.querySelector('#df-9d6d2a60-c5f8-4660-99c4-7e88436a8e9e button.colab-df-convert');\n",
              "        buttonEl.style.display =\n",
              "          google.colab.kernel.accessAllowed ? 'block' : 'none';\n",
              "\n",
              "        async function convertToInteractive(key) {\n",
              "          const element = document.querySelector('#df-9d6d2a60-c5f8-4660-99c4-7e88436a8e9e');\n",
              "          const dataTable =\n",
              "            await google.colab.kernel.invokeFunction('convertToInteractive',\n",
              "                                                     [key], {});\n",
              "          if (!dataTable) return;\n",
              "\n",
              "          const docLinkHtml = 'Like what you see? Visit the ' +\n",
              "            '<a target=\"_blank\" href=https://colab.research.google.com/notebooks/data_table.ipynb>data table notebook</a>'\n",
              "            + ' to learn more about interactive tables.';\n",
              "          element.innerHTML = '';\n",
              "          dataTable['output_type'] = 'display_data';\n",
              "          await google.colab.output.renderOutput(dataTable, element);\n",
              "          const docLink = document.createElement('div');\n",
              "          docLink.innerHTML = docLinkHtml;\n",
              "          element.appendChild(docLink);\n",
              "        }\n",
              "      </script>\n",
              "    </div>\n",
              "  </div>\n",
              "  "
            ],
            "text/plain": [
              "                                             CONTENT  CLASS  \\\n",
              "0  Huh, anyway check out this you[tube] channel: ...      1   \n",
              "1  Hey guys check out my new channel and our firs...      1   \n",
              "2             just for test I have to say murdev.com      1   \n",
              "3   me shaking my sexy ass on my channel enjoy ^_^ ﻿      1   \n",
              "4            watch?v=vtaRGgvGtWQ   Check this out .﻿      1   \n",
              "5  Hey, check out my new website!! This site is a...      1   \n",
              "6                          Subscribe to my channel ﻿      1   \n",
              "7  i turned it on mute as soon is i came on i jus...      0   \n",
              "8    You should check my channel for Funny VIDEOS!!﻿      1   \n",
              "9  and u should.d check my channel and tell me wh...      1   \n",
              "\n",
              "                                      CleanedContent  \\\n",
              "0          huh anyway check youtube channel kobyoshi   \n",
              "1  hey guys check new channel first vid this is u...   \n",
              "2                               test i say murdevcom   \n",
              "3                     shaking sexy ass channel enjoy   \n",
              "4                            watchvvtarggvgtwq check   \n",
              "5  hey check new website this site kids stuff kid...   \n",
              "6                                  subscribe channel   \n",
              "7           turned mute soon came wanted check views   \n",
              "8                     you check channel funny videos   \n",
              "9                  shouldd check channel tell i next   \n",
              "\n",
              "                                      tokenized_text  \n",
              "0   [huh, anyway, check, youtube, channel, kobyoshi]  \n",
              "1  [hey, guys, check, new, channel, first, vid, t...  \n",
              "2                             [test, say, murdevcom]  \n",
              "3               [shaking, sexy, ass, channel, enjoy]  \n",
              "4                                            [check]  \n",
              "5  [hey, check, new, website, this, site, kids, s...  \n",
              "6                               [subscribe, channel]  \n",
              "7   [turned, mute, soon, came, wanted, check, views]  \n",
              "8               [you, check, channel, funny, videos]  \n",
              "9              [shouldd, check, channel, tell, next]  "
            ]
          },
          "execution_count": 20,
          "metadata": {},
          "output_type": "execute_result"
        }
      ],
      "source": [
        "comb_df.head(10)"
      ]
    },
    {
      "cell_type": "markdown",
      "metadata": {
        "id": "U-U_JVkZode_"
      },
      "source": [
        "#Splitting Data"
      ]
    },
    {
      "cell_type": "code",
      "execution_count": 21,
      "metadata": {
        "id": "PI0HV7vjnvxI"
      },
      "outputs": [],
      "source": [
        "#Splitting the data into dependent and independent variables i.e, features and the target columns\n",
        "X=comb_df['CleanedContent']\n",
        "Y=comb_df['CLASS']"
      ]
    },
    {
      "cell_type": "code",
      "execution_count": 22,
      "metadata": {
        "id": "C0xsbGGa_cfN"
      },
      "outputs": [],
      "source": [
        "missing_value = X.loc[X == '']\n",
        "for i in missing_value.index:\n",
        "  X = X.drop(i)\n",
        "  Y = Y.drop(i)"
      ]
    },
    {
      "cell_type": "code",
      "execution_count": 23,
      "metadata": {
        "id": "rmmBmMcQ7eXd"
      },
      "outputs": [],
      "source": [
        "#Splitting the data such that 33% will be used for testing and the remaining 67% will be used for training. \n",
        "X_train,X_test,y_train,y_test=train_test_split(X,Y,stratify=Y,test_size=0.33)\n",
        "#when stratify is provided the splitting of data into train and test datasets agree with the composition of actual possitive and negative reviews present in the dataset"
      ]
    },
    {
      "cell_type": "markdown",
      "metadata": {
        "id": "jJuLCscetqgD"
      },
      "source": [
        "#Vectorization\n",
        "* We have two different ways to vectorize the text data into numerical value\n",
        "  * TF-IDF\n",
        "  * Word2Vec\n",
        "* Both have pros and cons\n",
        "  * TF-IDF is simple to use library but it does not keep the semantics of the data\n",
        "  * Word2Vec is more complex comparitively but it keeps the semantics and also the relation between various words like - man and woman, king and queen,etc.\n",
        "  * Different vectorizer will be more useful depending on what NLP insight we want from the data\n",
        "  * For the current scenario of Sentiment Analysis, TF-IDF gives us a better result comparitively"
      ]
    },
    {
      "cell_type": "markdown",
      "metadata": {
        "id": "jepvCoQokvBH"
      },
      "source": [
        "#Vectorization (TF-IDF)"
      ]
    },
    {
      "cell_type": "markdown",
      "metadata": {
        "id": "VKFYTbJGgzeo"
      },
      "source": [
        "##SVM (No Hyperparamter Tuning)"
      ]
    },
    {
      "cell_type": "code",
      "execution_count": null,
      "metadata": {
        "id": "vIpBuVi_Im5P"
      },
      "outputs": [],
      "source": [
        "# training the vectorizer \n",
        "vectorizer = TfidfVectorizer()\n",
        "X_train = vectorizer.fit_transform(X_train)"
      ]
    },
    {
      "cell_type": "code",
      "execution_count": null,
      "metadata": {
        "colab": {
          "base_uri": "https://localhost:8080/"
        },
        "id": "fm1JsfpDJM_g",
        "outputId": "736a9a62-0d48-468b-8481-7c8dcdb9b5b3"
      },
      "outputs": [
        {
          "data": {
            "text/plain": [
              "SVC(C=1000)"
            ]
          },
          "execution_count": 23,
          "metadata": {},
          "output_type": "execute_result"
        }
      ],
      "source": [
        "# Define the model\n",
        "from sklearn.svm import SVC as svc \n",
        "svm = svm.SVC(C=1000)\n",
        "svm.fit(X_train, y_train)"
      ]
    },
    {
      "cell_type": "code",
      "execution_count": null,
      "metadata": {
        "id": "EkB6nNJ-JT-Q"
      },
      "outputs": [],
      "source": [
        "# Predicting the values\n",
        "X_test = vectorizer.transform(X_test)\n",
        "y_pred = svm.predict(X_test)"
      ]
    },
    {
      "cell_type": "code",
      "execution_count": null,
      "metadata": {
        "colab": {
          "base_uri": "https://localhost:8080/",
          "height": 112
        },
        "id": "XQFCENhgJibS",
        "outputId": "837efb42-c0d4-4ef2-a4b2-c642587558b4"
      },
      "outputs": [
        {
          "data": {
            "text/html": [
              "\n",
              "  <div id=\"df-1d4930ad-029e-4cdc-bd10-b4fa0ac6d281\">\n",
              "    <div class=\"colab-df-container\">\n",
              "      <div>\n",
              "<style scoped>\n",
              "    .dataframe tbody tr th:only-of-type {\n",
              "        vertical-align: middle;\n",
              "    }\n",
              "\n",
              "    .dataframe tbody tr th {\n",
              "        vertical-align: top;\n",
              "    }\n",
              "\n",
              "    .dataframe thead th {\n",
              "        text-align: right;\n",
              "    }\n",
              "</style>\n",
              "<table border=\"1\" class=\"dataframe\">\n",
              "  <thead>\n",
              "    <tr style=\"text-align: right;\">\n",
              "      <th></th>\n",
              "      <th>Actually Ham</th>\n",
              "      <th>Actually Spam</th>\n",
              "    </tr>\n",
              "  </thead>\n",
              "  <tbody>\n",
              "    <tr>\n",
              "      <th>Predicted to be Ham</th>\n",
              "      <td>73</td>\n",
              "      <td>13</td>\n",
              "    </tr>\n",
              "    <tr>\n",
              "      <th>Predicted to be Spam</th>\n",
              "      <td>4</td>\n",
              "      <td>106</td>\n",
              "    </tr>\n",
              "  </tbody>\n",
              "</table>\n",
              "</div>\n",
              "      <button class=\"colab-df-convert\" onclick=\"convertToInteractive('df-1d4930ad-029e-4cdc-bd10-b4fa0ac6d281')\"\n",
              "              title=\"Convert this dataframe to an interactive table.\"\n",
              "              style=\"display:none;\">\n",
              "        \n",
              "  <svg xmlns=\"http://www.w3.org/2000/svg\" height=\"24px\"viewBox=\"0 0 24 24\"\n",
              "       width=\"24px\">\n",
              "    <path d=\"M0 0h24v24H0V0z\" fill=\"none\"/>\n",
              "    <path d=\"M18.56 5.44l.94 2.06.94-2.06 2.06-.94-2.06-.94-.94-2.06-.94 2.06-2.06.94zm-11 1L8.5 8.5l.94-2.06 2.06-.94-2.06-.94L8.5 2.5l-.94 2.06-2.06.94zm10 10l.94 2.06.94-2.06 2.06-.94-2.06-.94-.94-2.06-.94 2.06-2.06.94z\"/><path d=\"M17.41 7.96l-1.37-1.37c-.4-.4-.92-.59-1.43-.59-.52 0-1.04.2-1.43.59L10.3 9.45l-7.72 7.72c-.78.78-.78 2.05 0 2.83L4 21.41c.39.39.9.59 1.41.59.51 0 1.02-.2 1.41-.59l7.78-7.78 2.81-2.81c.8-.78.8-2.07 0-2.86zM5.41 20L4 18.59l7.72-7.72 1.47 1.35L5.41 20z\"/>\n",
              "  </svg>\n",
              "      </button>\n",
              "      \n",
              "  <style>\n",
              "    .colab-df-container {\n",
              "      display:flex;\n",
              "      flex-wrap:wrap;\n",
              "      gap: 12px;\n",
              "    }\n",
              "\n",
              "    .colab-df-convert {\n",
              "      background-color: #E8F0FE;\n",
              "      border: none;\n",
              "      border-radius: 50%;\n",
              "      cursor: pointer;\n",
              "      display: none;\n",
              "      fill: #1967D2;\n",
              "      height: 32px;\n",
              "      padding: 0 0 0 0;\n",
              "      width: 32px;\n",
              "    }\n",
              "\n",
              "    .colab-df-convert:hover {\n",
              "      background-color: #E2EBFA;\n",
              "      box-shadow: 0px 1px 2px rgba(60, 64, 67, 0.3), 0px 1px 3px 1px rgba(60, 64, 67, 0.15);\n",
              "      fill: #174EA6;\n",
              "    }\n",
              "\n",
              "    [theme=dark] .colab-df-convert {\n",
              "      background-color: #3B4455;\n",
              "      fill: #D2E3FC;\n",
              "    }\n",
              "\n",
              "    [theme=dark] .colab-df-convert:hover {\n",
              "      background-color: #434B5C;\n",
              "      box-shadow: 0px 1px 3px 1px rgba(0, 0, 0, 0.15);\n",
              "      filter: drop-shadow(0px 1px 2px rgba(0, 0, 0, 0.3));\n",
              "      fill: #FFFFFF;\n",
              "    }\n",
              "  </style>\n",
              "\n",
              "      <script>\n",
              "        const buttonEl =\n",
              "          document.querySelector('#df-1d4930ad-029e-4cdc-bd10-b4fa0ac6d281 button.colab-df-convert');\n",
              "        buttonEl.style.display =\n",
              "          google.colab.kernel.accessAllowed ? 'block' : 'none';\n",
              "\n",
              "        async function convertToInteractive(key) {\n",
              "          const element = document.querySelector('#df-1d4930ad-029e-4cdc-bd10-b4fa0ac6d281');\n",
              "          const dataTable =\n",
              "            await google.colab.kernel.invokeFunction('convertToInteractive',\n",
              "                                                     [key], {});\n",
              "          if (!dataTable) return;\n",
              "\n",
              "          const docLinkHtml = 'Like what you see? Visit the ' +\n",
              "            '<a target=\"_blank\" href=https://colab.research.google.com/notebooks/data_table.ipynb>data table notebook</a>'\n",
              "            + ' to learn more about interactive tables.';\n",
              "          element.innerHTML = '';\n",
              "          dataTable['output_type'] = 'display_data';\n",
              "          await google.colab.output.renderOutput(dataTable, element);\n",
              "          const docLink = document.createElement('div');\n",
              "          docLink.innerHTML = docLinkHtml;\n",
              "          element.appendChild(docLink);\n",
              "        }\n",
              "      </script>\n",
              "    </div>\n",
              "  </div>\n",
              "  "
            ],
            "text/plain": [
              "                      Actually Ham  Actually Spam\n",
              "Predicted to be Ham             73             13\n",
              "Predicted to be Spam             4            106"
            ]
          },
          "execution_count": 25,
          "metadata": {},
          "output_type": "execute_result"
        }
      ],
      "source": [
        "# Printing out the actual vs predicited matrix(Confusion Matrix)\n",
        "cm = confusion_matrix(y_test, y_pred)\n",
        "index = ['Actually Ham', 'Actually Spam']\n",
        "df_cm = pd.DataFrame(cm, columns = ['Predicted to be Ham', 'Predicted to be Spam'])\n",
        "df_cm[' '] = index\n",
        "df_cm.set_index(' ', drop = True, inplace = True)\n",
        "df_cm.T"
      ]
    },
    {
      "cell_type": "code",
      "execution_count": null,
      "metadata": {
        "id": "OGo-4Sm3k0bm"
      },
      "outputs": [],
      "source": [
        "73/86\n",
        "73/77\n",
        "106/110"
      ]
    },
    {
      "cell_type": "code",
      "execution_count": null,
      "metadata": {
        "colab": {
          "base_uri": "https://localhost:8080/"
        },
        "id": "THoFbo6lJpeG",
        "outputId": "3ac236cd-daed-40b4-9dfa-d4b10735dcfd"
      },
      "outputs": [
        {
          "name": "stdout",
          "output_type": "stream",
          "text": [
            "              precision    recall  f1-score   support\n",
            "\n",
            "           0       0.85      0.95      0.90        77\n",
            "           1       0.96      0.89      0.93       119\n",
            "\n",
            "    accuracy                           0.91       196\n",
            "   macro avg       0.91      0.92      0.91       196\n",
            "weighted avg       0.92      0.91      0.91       196\n",
            "\n"
          ]
        }
      ],
      "source": [
        "# Printing out the Evaluation Matrix\n",
        "print(classification_report(y_test, y_pred))"
      ]
    },
    {
      "cell_type": "markdown",
      "metadata": {
        "id": "xunCwZFTopmG"
      },
      "source": [
        "##SVM (Hyperparameter Tuning)"
      ]
    },
    {
      "cell_type": "code",
      "execution_count": 24,
      "metadata": {
        "id": "isFHRu8EJxI6"
      },
      "outputs": [],
      "source": [
        "# training the vectorizer \n",
        "vectorizer = TfidfVectorizer()\n",
        "X_train = vectorizer.fit_transform(X_train)"
      ]
    },
    {
      "cell_type": "code",
      "execution_count": 25,
      "metadata": {
        "colab": {
          "base_uri": "https://localhost:8080/"
        },
        "id": "GTjF9GkJpIrJ",
        "outputId": "60894da9-eac3-4835-f40a-e9cab3df2765"
      },
      "outputs": [
        {
          "name": "stdout",
          "output_type": "stream",
          "text": [
            "CPU times: user 3.42 s, sys: 231 ms, total: 3.66 s\n",
            "Wall time: 1min 47s\n"
          ]
        }
      ],
      "source": [
        "%%time\n",
        "\n",
        "# Using RandomSearchCV to find the best combination of hyperparameter values for the model\n",
        "mdl = svc(probability = True, random_state = 1)\n",
        "auc = make_scorer(roc_auc_score)\n",
        "\n",
        "# Dictionary of the possible hyperparameter values\n",
        "rand_list = {\"C\": stats.uniform(10, 250),\n",
        "             \"gamma\": stats.uniform(0.01, 1)}\n",
        "              \n",
        "rand_search = RandomizedSearchCV(mdl, param_distributions = rand_list, n_iter = 100, n_jobs = 4, cv = 3, random_state = 2017, scoring = auc) \n",
        "# Printing the results\n",
        "rand_search.fit(X_train, y_train) \n",
        "rand_search.best_params_"
      ]
    },
    {
      "cell_type": "code",
      "execution_count": 26,
      "metadata": {
        "colab": {
          "base_uri": "https://localhost:8080/"
        },
        "id": "YE_RWeV8opmH",
        "outputId": "8bbc107e-a832-4a39-af9c-ecb7c456d908"
      },
      "outputs": [
        {
          "data": {
            "text/plain": [
              "SVC(C=72.1449576861279, gamma=0.669246220372965)"
            ]
          },
          "execution_count": 26,
          "metadata": {},
          "output_type": "execute_result"
        }
      ],
      "source": [
        "# Defining the model and using the hyperparameters found above\n",
        "from sklearn.svm import SVC as svc \n",
        "svm = svm.SVC(**rand_search.best_params_)\n",
        "svm.fit(X_train, y_train)"
      ]
    },
    {
      "cell_type": "code",
      "execution_count": 27,
      "metadata": {
        "id": "qqPtXTxfopmH"
      },
      "outputs": [],
      "source": [
        "# Predicting the values based on the defined Model\n",
        "X_test = vectorizer.transform(X_test)\n",
        "y_pred = svm.predict(X_test)"
      ]
    },
    {
      "cell_type": "code",
      "execution_count": 28,
      "metadata": {
        "colab": {
          "base_uri": "https://localhost:8080/",
          "height": 112
        },
        "id": "RZACnzVDopmI",
        "outputId": "15f6d5de-bdef-4d33-d34a-12a73323c9ed"
      },
      "outputs": [
        {
          "data": {
            "text/html": [
              "\n",
              "  <div id=\"df-14fca8e5-0dfe-4915-ab33-37cacc462db9\">\n",
              "    <div class=\"colab-df-container\">\n",
              "      <div>\n",
              "<style scoped>\n",
              "    .dataframe tbody tr th:only-of-type {\n",
              "        vertical-align: middle;\n",
              "    }\n",
              "\n",
              "    .dataframe tbody tr th {\n",
              "        vertical-align: top;\n",
              "    }\n",
              "\n",
              "    .dataframe thead th {\n",
              "        text-align: right;\n",
              "    }\n",
              "</style>\n",
              "<table border=\"1\" class=\"dataframe\">\n",
              "  <thead>\n",
              "    <tr style=\"text-align: right;\">\n",
              "      <th></th>\n",
              "      <th>Actually Ham</th>\n",
              "      <th>Actually Spam</th>\n",
              "    </tr>\n",
              "  </thead>\n",
              "  <tbody>\n",
              "    <tr>\n",
              "      <th>Predicted to be Ham</th>\n",
              "      <td>293</td>\n",
              "      <td>32</td>\n",
              "    </tr>\n",
              "    <tr>\n",
              "      <th>Predicted to be Spam</th>\n",
              "      <td>14</td>\n",
              "      <td>282</td>\n",
              "    </tr>\n",
              "  </tbody>\n",
              "</table>\n",
              "</div>\n",
              "      <button class=\"colab-df-convert\" onclick=\"convertToInteractive('df-14fca8e5-0dfe-4915-ab33-37cacc462db9')\"\n",
              "              title=\"Convert this dataframe to an interactive table.\"\n",
              "              style=\"display:none;\">\n",
              "        \n",
              "  <svg xmlns=\"http://www.w3.org/2000/svg\" height=\"24px\"viewBox=\"0 0 24 24\"\n",
              "       width=\"24px\">\n",
              "    <path d=\"M0 0h24v24H0V0z\" fill=\"none\"/>\n",
              "    <path d=\"M18.56 5.44l.94 2.06.94-2.06 2.06-.94-2.06-.94-.94-2.06-.94 2.06-2.06.94zm-11 1L8.5 8.5l.94-2.06 2.06-.94-2.06-.94L8.5 2.5l-.94 2.06-2.06.94zm10 10l.94 2.06.94-2.06 2.06-.94-2.06-.94-.94-2.06-.94 2.06-2.06.94z\"/><path d=\"M17.41 7.96l-1.37-1.37c-.4-.4-.92-.59-1.43-.59-.52 0-1.04.2-1.43.59L10.3 9.45l-7.72 7.72c-.78.78-.78 2.05 0 2.83L4 21.41c.39.39.9.59 1.41.59.51 0 1.02-.2 1.41-.59l7.78-7.78 2.81-2.81c.8-.78.8-2.07 0-2.86zM5.41 20L4 18.59l7.72-7.72 1.47 1.35L5.41 20z\"/>\n",
              "  </svg>\n",
              "      </button>\n",
              "      \n",
              "  <style>\n",
              "    .colab-df-container {\n",
              "      display:flex;\n",
              "      flex-wrap:wrap;\n",
              "      gap: 12px;\n",
              "    }\n",
              "\n",
              "    .colab-df-convert {\n",
              "      background-color: #E8F0FE;\n",
              "      border: none;\n",
              "      border-radius: 50%;\n",
              "      cursor: pointer;\n",
              "      display: none;\n",
              "      fill: #1967D2;\n",
              "      height: 32px;\n",
              "      padding: 0 0 0 0;\n",
              "      width: 32px;\n",
              "    }\n",
              "\n",
              "    .colab-df-convert:hover {\n",
              "      background-color: #E2EBFA;\n",
              "      box-shadow: 0px 1px 2px rgba(60, 64, 67, 0.3), 0px 1px 3px 1px rgba(60, 64, 67, 0.15);\n",
              "      fill: #174EA6;\n",
              "    }\n",
              "\n",
              "    [theme=dark] .colab-df-convert {\n",
              "      background-color: #3B4455;\n",
              "      fill: #D2E3FC;\n",
              "    }\n",
              "\n",
              "    [theme=dark] .colab-df-convert:hover {\n",
              "      background-color: #434B5C;\n",
              "      box-shadow: 0px 1px 3px 1px rgba(0, 0, 0, 0.15);\n",
              "      filter: drop-shadow(0px 1px 2px rgba(0, 0, 0, 0.3));\n",
              "      fill: #FFFFFF;\n",
              "    }\n",
              "  </style>\n",
              "\n",
              "      <script>\n",
              "        const buttonEl =\n",
              "          document.querySelector('#df-14fca8e5-0dfe-4915-ab33-37cacc462db9 button.colab-df-convert');\n",
              "        buttonEl.style.display =\n",
              "          google.colab.kernel.accessAllowed ? 'block' : 'none';\n",
              "\n",
              "        async function convertToInteractive(key) {\n",
              "          const element = document.querySelector('#df-14fca8e5-0dfe-4915-ab33-37cacc462db9');\n",
              "          const dataTable =\n",
              "            await google.colab.kernel.invokeFunction('convertToInteractive',\n",
              "                                                     [key], {});\n",
              "          if (!dataTable) return;\n",
              "\n",
              "          const docLinkHtml = 'Like what you see? Visit the ' +\n",
              "            '<a target=\"_blank\" href=https://colab.research.google.com/notebooks/data_table.ipynb>data table notebook</a>'\n",
              "            + ' to learn more about interactive tables.';\n",
              "          element.innerHTML = '';\n",
              "          dataTable['output_type'] = 'display_data';\n",
              "          await google.colab.output.renderOutput(dataTable, element);\n",
              "          const docLink = document.createElement('div');\n",
              "          docLink.innerHTML = docLinkHtml;\n",
              "          element.appendChild(docLink);\n",
              "        }\n",
              "      </script>\n",
              "    </div>\n",
              "  </div>\n",
              "  "
            ],
            "text/plain": [
              "                      Actually Ham  Actually Spam\n",
              "Predicted to be Ham            293             32\n",
              "Predicted to be Spam            14            282"
            ]
          },
          "execution_count": 28,
          "metadata": {},
          "output_type": "execute_result"
        }
      ],
      "source": [
        "# Printing the actual vs predicited matrix (Confusion Matrix)\n",
        "cm = confusion_matrix(y_test, y_pred)\n",
        "index = ['Actually Ham', 'Actually Spam']\n",
        "df_cm = pd.DataFrame(cm, columns = ['Predicted to be Ham', 'Predicted to be Spam'])\n",
        "df_cm[' '] = index\n",
        "df_cm.set_index(' ', drop = True, inplace = True)\n",
        "df_cm.T"
      ]
    },
    {
      "cell_type": "code",
      "execution_count": 29,
      "metadata": {
        "colab": {
          "base_uri": "https://localhost:8080/"
        },
        "id": "AW44tG_gopmI",
        "outputId": "d8a30de6-085f-472f-f6fc-9012dfde3a38"
      },
      "outputs": [
        {
          "name": "stdout",
          "output_type": "stream",
          "text": [
            "              precision    recall  f1-score   support\n",
            "\n",
            "           0       0.90      0.95      0.93       307\n",
            "           1       0.95      0.90      0.92       314\n",
            "\n",
            "    accuracy                           0.93       621\n",
            "   macro avg       0.93      0.93      0.93       621\n",
            "weighted avg       0.93      0.93      0.93       621\n",
            "\n"
          ]
        }
      ],
      "source": [
        "# Printing the Evaluation Matrix\n",
        "print(classification_report(y_test, y_pred))"
      ]
    },
    {
      "cell_type": "markdown",
      "metadata": {
        "id": "I1aY0pN2t7JJ"
      },
      "source": [
        "##Logistic Regression (Hyperparameter Tuning)"
      ]
    },
    {
      "cell_type": "code",
      "execution_count": null,
      "metadata": {
        "colab": {
          "base_uri": "https://localhost:8080/"
        },
        "id": "YK9sF0ueuFLY",
        "outputId": "c9e7aa56-0cb5-4f80-a012-067317d8efe1"
      },
      "outputs": [
        {
          "name": "stdout",
          "output_type": "stream",
          "text": [
            "Best Score: 0.9058712121212121\n",
            "Best Hyperparameters: {'C': 6.093249806997543, 'penalty': 'l2', 'solver': 'liblinear'}\n",
            "CPU times: user 29.1 s, sys: 1.17 s, total: 30.3 s\n",
            "Wall time: 4min 47s\n"
          ]
        }
      ],
      "source": [
        "%%time\n",
        "\n",
        "# training the vectorizer \n",
        "vectorizer = TfidfVectorizer()\n",
        "X_train = vectorizer.fit_transform(X_train)\n",
        "\n",
        "# define model\n",
        "model = LogisticRegression()\n",
        "# define evaluation\n",
        "cv = RepeatedStratifiedKFold(n_splits=10, n_repeats=3, random_state=1)\n",
        "# define search space\n",
        "space = dict()\n",
        "space['solver'] = ['newton-cg', 'lbfgs', 'liblinear']\n",
        "space['penalty'] = ['none', 'l1', 'l2', 'elasticnet']\n",
        "space['C'] = stats.loguniform(1e-5, 100)\n",
        "# define search\n",
        "search = RandomizedSearchCV(model, space, n_iter=500, scoring='accuracy', n_jobs=-1, cv=cv, random_state=1)\n",
        "# execute search\n",
        "result = search.fit(X_train, y_train)\n",
        "# summarize result\n",
        "print('Best Score: %s' % result.best_score_)\n",
        "print('Best Hyperparameters: %s' % result.best_params_)"
      ]
    },
    {
      "cell_type": "code",
      "execution_count": null,
      "metadata": {
        "colab": {
          "base_uri": "https://localhost:8080/",
          "height": 112
        },
        "id": "6jMRpPkYhYY0",
        "outputId": "6c8c6f76-5125-4e5c-bb4b-69085a7ab101"
      },
      "outputs": [
        {
          "data": {
            "text/html": [
              "\n",
              "  <div id=\"df-2ddcea53-6a29-403c-bcd4-c09d05eb0ba5\">\n",
              "    <div class=\"colab-df-container\">\n",
              "      <div>\n",
              "<style scoped>\n",
              "    .dataframe tbody tr th:only-of-type {\n",
              "        vertical-align: middle;\n",
              "    }\n",
              "\n",
              "    .dataframe tbody tr th {\n",
              "        vertical-align: top;\n",
              "    }\n",
              "\n",
              "    .dataframe thead th {\n",
              "        text-align: right;\n",
              "    }\n",
              "</style>\n",
              "<table border=\"1\" class=\"dataframe\">\n",
              "  <thead>\n",
              "    <tr style=\"text-align: right;\">\n",
              "      <th></th>\n",
              "      <th>Actually Ham</th>\n",
              "      <th>Actually Spam</th>\n",
              "    </tr>\n",
              "  </thead>\n",
              "  <tbody>\n",
              "    <tr>\n",
              "      <th>Predicted to be Ham</th>\n",
              "      <td>71</td>\n",
              "      <td>18</td>\n",
              "    </tr>\n",
              "    <tr>\n",
              "      <th>Predicted to be Spam</th>\n",
              "      <td>6</td>\n",
              "      <td>101</td>\n",
              "    </tr>\n",
              "  </tbody>\n",
              "</table>\n",
              "</div>\n",
              "      <button class=\"colab-df-convert\" onclick=\"convertToInteractive('df-2ddcea53-6a29-403c-bcd4-c09d05eb0ba5')\"\n",
              "              title=\"Convert this dataframe to an interactive table.\"\n",
              "              style=\"display:none;\">\n",
              "        \n",
              "  <svg xmlns=\"http://www.w3.org/2000/svg\" height=\"24px\"viewBox=\"0 0 24 24\"\n",
              "       width=\"24px\">\n",
              "    <path d=\"M0 0h24v24H0V0z\" fill=\"none\"/>\n",
              "    <path d=\"M18.56 5.44l.94 2.06.94-2.06 2.06-.94-2.06-.94-.94-2.06-.94 2.06-2.06.94zm-11 1L8.5 8.5l.94-2.06 2.06-.94-2.06-.94L8.5 2.5l-.94 2.06-2.06.94zm10 10l.94 2.06.94-2.06 2.06-.94-2.06-.94-.94-2.06-.94 2.06-2.06.94z\"/><path d=\"M17.41 7.96l-1.37-1.37c-.4-.4-.92-.59-1.43-.59-.52 0-1.04.2-1.43.59L10.3 9.45l-7.72 7.72c-.78.78-.78 2.05 0 2.83L4 21.41c.39.39.9.59 1.41.59.51 0 1.02-.2 1.41-.59l7.78-7.78 2.81-2.81c.8-.78.8-2.07 0-2.86zM5.41 20L4 18.59l7.72-7.72 1.47 1.35L5.41 20z\"/>\n",
              "  </svg>\n",
              "      </button>\n",
              "      \n",
              "  <style>\n",
              "    .colab-df-container {\n",
              "      display:flex;\n",
              "      flex-wrap:wrap;\n",
              "      gap: 12px;\n",
              "    }\n",
              "\n",
              "    .colab-df-convert {\n",
              "      background-color: #E8F0FE;\n",
              "      border: none;\n",
              "      border-radius: 50%;\n",
              "      cursor: pointer;\n",
              "      display: none;\n",
              "      fill: #1967D2;\n",
              "      height: 32px;\n",
              "      padding: 0 0 0 0;\n",
              "      width: 32px;\n",
              "    }\n",
              "\n",
              "    .colab-df-convert:hover {\n",
              "      background-color: #E2EBFA;\n",
              "      box-shadow: 0px 1px 2px rgba(60, 64, 67, 0.3), 0px 1px 3px 1px rgba(60, 64, 67, 0.15);\n",
              "      fill: #174EA6;\n",
              "    }\n",
              "\n",
              "    [theme=dark] .colab-df-convert {\n",
              "      background-color: #3B4455;\n",
              "      fill: #D2E3FC;\n",
              "    }\n",
              "\n",
              "    [theme=dark] .colab-df-convert:hover {\n",
              "      background-color: #434B5C;\n",
              "      box-shadow: 0px 1px 3px 1px rgba(0, 0, 0, 0.15);\n",
              "      filter: drop-shadow(0px 1px 2px rgba(0, 0, 0, 0.3));\n",
              "      fill: #FFFFFF;\n",
              "    }\n",
              "  </style>\n",
              "\n",
              "      <script>\n",
              "        const buttonEl =\n",
              "          document.querySelector('#df-2ddcea53-6a29-403c-bcd4-c09d05eb0ba5 button.colab-df-convert');\n",
              "        buttonEl.style.display =\n",
              "          google.colab.kernel.accessAllowed ? 'block' : 'none';\n",
              "\n",
              "        async function convertToInteractive(key) {\n",
              "          const element = document.querySelector('#df-2ddcea53-6a29-403c-bcd4-c09d05eb0ba5');\n",
              "          const dataTable =\n",
              "            await google.colab.kernel.invokeFunction('convertToInteractive',\n",
              "                                                     [key], {});\n",
              "          if (!dataTable) return;\n",
              "\n",
              "          const docLinkHtml = 'Like what you see? Visit the ' +\n",
              "            '<a target=\"_blank\" href=https://colab.research.google.com/notebooks/data_table.ipynb>data table notebook</a>'\n",
              "            + ' to learn more about interactive tables.';\n",
              "          element.innerHTML = '';\n",
              "          dataTable['output_type'] = 'display_data';\n",
              "          await google.colab.output.renderOutput(dataTable, element);\n",
              "          const docLink = document.createElement('div');\n",
              "          docLink.innerHTML = docLinkHtml;\n",
              "          element.appendChild(docLink);\n",
              "        }\n",
              "      </script>\n",
              "    </div>\n",
              "  </div>\n",
              "  "
            ],
            "text/plain": [
              "                      Actually Ham  Actually Spam\n",
              "Predicted to be Ham             71             18\n",
              "Predicted to be Spam             6            101"
            ]
          },
          "execution_count": 32,
          "metadata": {},
          "output_type": "execute_result"
        }
      ],
      "source": [
        "# Defining the model using the found hyperparameters\n",
        "lr = LogisticRegression(**result.best_params_)\n",
        "lr.fit(X_train, y_train)\n",
        "\n",
        "# predicting values using the defined model\n",
        "X_test = vectorizer.transform(X_test)\n",
        "y_pred = lr.predict(X_test)\n",
        "\n",
        "# Printing the actual vs predicited matrix (Confusion Matrix)\n",
        "cm = confusion_matrix(y_test, y_pred)\n",
        "index = ['Actually Ham', 'Actually Spam']\n",
        "df_cm = pd.DataFrame(cm, columns = ['Predicted to be Ham', 'Predicted to be Spam'])\n",
        "df_cm[' '] = index\n",
        "df_cm.set_index(' ', drop = True, inplace = True)\n",
        "df_cm.T"
      ]
    },
    {
      "cell_type": "code",
      "execution_count": null,
      "metadata": {
        "colab": {
          "base_uri": "https://localhost:8080/"
        },
        "id": "dIT9sLxIJFZO",
        "outputId": "fc4399cd-3ddb-4245-b0a2-434ba8af692f"
      },
      "outputs": [
        {
          "name": "stdout",
          "output_type": "stream",
          "text": [
            "              precision    recall  f1-score   support\n",
            "\n",
            "           0       0.80      0.92      0.86        77\n",
            "           1       0.94      0.85      0.89       119\n",
            "\n",
            "    accuracy                           0.88       196\n",
            "   macro avg       0.87      0.89      0.87       196\n",
            "weighted avg       0.89      0.88      0.88       196\n",
            "\n"
          ]
        }
      ],
      "source": [
        "# Printing the Evaluation Matrix\n",
        "print(classification_report(y_test, y_pred))"
      ]
    },
    {
      "cell_type": "markdown",
      "metadata": {
        "id": "bZlOTgR3C_ag"
      },
      "source": [
        "##Decision Tree (Hyperparameter Tuning)"
      ]
    },
    {
      "cell_type": "code",
      "execution_count": null,
      "metadata": {
        "id": "6ZuwXk9aDESI"
      },
      "outputs": [],
      "source": [
        "# training the vectorizer \n",
        "vectorizer = TfidfVectorizer()\n",
        "X_train = vectorizer.fit_transform(X_train)"
      ]
    },
    {
      "cell_type": "code",
      "execution_count": null,
      "metadata": {
        "colab": {
          "base_uri": "https://localhost:8080/"
        },
        "id": "B-wm0-DcKMgq",
        "outputId": "c2376175-d392-44a9-9df0-f3162a4b90cc"
      },
      "outputs": [
        {
          "name": "stdout",
          "output_type": "stream",
          "text": [
            "Tuned Decision Tree Parameters: {'criterion': 'entropy', 'max_depth': None, 'max_features': 8, 'min_samples_leaf': 1}\n",
            "Best score is 0.8253787878787879\n"
          ]
        }
      ],
      "source": [
        "%%time\n",
        "\n",
        "param_dist = {\"max_depth\": [3, None],\n",
        "              \"max_features\": stats.randint(1, 9),\n",
        "              \"min_samples_leaf\": stats.randint(1, 9),\n",
        "              \"criterion\": [\"gini\", \"entropy\"]}\n",
        "\n",
        "# Instantiate a Decision Tree classifier: tree\n",
        "tree = DecisionTreeClassifier()\n",
        "cv = RepeatedStratifiedKFold(n_splits=10, n_repeats=3, random_state=1)\n",
        "# Instantiate the RandomizedSearchCV object: tree_cv\n",
        "tree_cv = RandomizedSearchCV(tree, param_dist, cv=cv, n_iter = 500)\n",
        "\n",
        "# Fit it to the data\n",
        "tree_cv.fit(X_train, y_train)\n",
        "\n",
        "# Print the tuned parameters and score\n",
        "print(\"Tuned Decision Tree Parameters: {}\".format(tree_cv.best_params_))\n",
        "print(\"Best score is {}\".format(tree_cv.best_score_))"
      ]
    },
    {
      "cell_type": "code",
      "execution_count": null,
      "metadata": {
        "colab": {
          "base_uri": "https://localhost:8080/",
          "height": 112
        },
        "id": "C84ptNzlLMLD",
        "outputId": "47edb11b-267e-46b3-f8d1-419e141d906a"
      },
      "outputs": [
        {
          "data": {
            "text/html": [
              "\n",
              "  <div id=\"df-8fe5d071-6fd8-448b-b0d2-98bbed8815ea\">\n",
              "    <div class=\"colab-df-container\">\n",
              "      <div>\n",
              "<style scoped>\n",
              "    .dataframe tbody tr th:only-of-type {\n",
              "        vertical-align: middle;\n",
              "    }\n",
              "\n",
              "    .dataframe tbody tr th {\n",
              "        vertical-align: top;\n",
              "    }\n",
              "\n",
              "    .dataframe thead th {\n",
              "        text-align: right;\n",
              "    }\n",
              "</style>\n",
              "<table border=\"1\" class=\"dataframe\">\n",
              "  <thead>\n",
              "    <tr style=\"text-align: right;\">\n",
              "      <th></th>\n",
              "      <th>Actually Ham</th>\n",
              "      <th>Actually Spam</th>\n",
              "    </tr>\n",
              "  </thead>\n",
              "  <tbody>\n",
              "    <tr>\n",
              "      <th>Predicted to be Ham</th>\n",
              "      <td>58</td>\n",
              "      <td>15</td>\n",
              "    </tr>\n",
              "    <tr>\n",
              "      <th>Predicted to be Spam</th>\n",
              "      <td>19</td>\n",
              "      <td>104</td>\n",
              "    </tr>\n",
              "  </tbody>\n",
              "</table>\n",
              "</div>\n",
              "      <button class=\"colab-df-convert\" onclick=\"convertToInteractive('df-8fe5d071-6fd8-448b-b0d2-98bbed8815ea')\"\n",
              "              title=\"Convert this dataframe to an interactive table.\"\n",
              "              style=\"display:none;\">\n",
              "        \n",
              "  <svg xmlns=\"http://www.w3.org/2000/svg\" height=\"24px\"viewBox=\"0 0 24 24\"\n",
              "       width=\"24px\">\n",
              "    <path d=\"M0 0h24v24H0V0z\" fill=\"none\"/>\n",
              "    <path d=\"M18.56 5.44l.94 2.06.94-2.06 2.06-.94-2.06-.94-.94-2.06-.94 2.06-2.06.94zm-11 1L8.5 8.5l.94-2.06 2.06-.94-2.06-.94L8.5 2.5l-.94 2.06-2.06.94zm10 10l.94 2.06.94-2.06 2.06-.94-2.06-.94-.94-2.06-.94 2.06-2.06.94z\"/><path d=\"M17.41 7.96l-1.37-1.37c-.4-.4-.92-.59-1.43-.59-.52 0-1.04.2-1.43.59L10.3 9.45l-7.72 7.72c-.78.78-.78 2.05 0 2.83L4 21.41c.39.39.9.59 1.41.59.51 0 1.02-.2 1.41-.59l7.78-7.78 2.81-2.81c.8-.78.8-2.07 0-2.86zM5.41 20L4 18.59l7.72-7.72 1.47 1.35L5.41 20z\"/>\n",
              "  </svg>\n",
              "      </button>\n",
              "      \n",
              "  <style>\n",
              "    .colab-df-container {\n",
              "      display:flex;\n",
              "      flex-wrap:wrap;\n",
              "      gap: 12px;\n",
              "    }\n",
              "\n",
              "    .colab-df-convert {\n",
              "      background-color: #E8F0FE;\n",
              "      border: none;\n",
              "      border-radius: 50%;\n",
              "      cursor: pointer;\n",
              "      display: none;\n",
              "      fill: #1967D2;\n",
              "      height: 32px;\n",
              "      padding: 0 0 0 0;\n",
              "      width: 32px;\n",
              "    }\n",
              "\n",
              "    .colab-df-convert:hover {\n",
              "      background-color: #E2EBFA;\n",
              "      box-shadow: 0px 1px 2px rgba(60, 64, 67, 0.3), 0px 1px 3px 1px rgba(60, 64, 67, 0.15);\n",
              "      fill: #174EA6;\n",
              "    }\n",
              "\n",
              "    [theme=dark] .colab-df-convert {\n",
              "      background-color: #3B4455;\n",
              "      fill: #D2E3FC;\n",
              "    }\n",
              "\n",
              "    [theme=dark] .colab-df-convert:hover {\n",
              "      background-color: #434B5C;\n",
              "      box-shadow: 0px 1px 3px 1px rgba(0, 0, 0, 0.15);\n",
              "      filter: drop-shadow(0px 1px 2px rgba(0, 0, 0, 0.3));\n",
              "      fill: #FFFFFF;\n",
              "    }\n",
              "  </style>\n",
              "\n",
              "      <script>\n",
              "        const buttonEl =\n",
              "          document.querySelector('#df-8fe5d071-6fd8-448b-b0d2-98bbed8815ea button.colab-df-convert');\n",
              "        buttonEl.style.display =\n",
              "          google.colab.kernel.accessAllowed ? 'block' : 'none';\n",
              "\n",
              "        async function convertToInteractive(key) {\n",
              "          const element = document.querySelector('#df-8fe5d071-6fd8-448b-b0d2-98bbed8815ea');\n",
              "          const dataTable =\n",
              "            await google.colab.kernel.invokeFunction('convertToInteractive',\n",
              "                                                     [key], {});\n",
              "          if (!dataTable) return;\n",
              "\n",
              "          const docLinkHtml = 'Like what you see? Visit the ' +\n",
              "            '<a target=\"_blank\" href=https://colab.research.google.com/notebooks/data_table.ipynb>data table notebook</a>'\n",
              "            + ' to learn more about interactive tables.';\n",
              "          element.innerHTML = '';\n",
              "          dataTable['output_type'] = 'display_data';\n",
              "          await google.colab.output.renderOutput(dataTable, element);\n",
              "          const docLink = document.createElement('div');\n",
              "          docLink.innerHTML = docLinkHtml;\n",
              "          element.appendChild(docLink);\n",
              "        }\n",
              "      </script>\n",
              "    </div>\n",
              "  </div>\n",
              "  "
            ],
            "text/plain": [
              "                      Actually Ham  Actually Spam\n",
              "Predicted to be Ham             58             15\n",
              "Predicted to be Spam            19            104"
            ]
          },
          "execution_count": 36,
          "metadata": {},
          "output_type": "execute_result"
        }
      ],
      "source": [
        "dt = DecisionTreeClassifier(**tree_cv.best_params_)\n",
        "dt.fit(X_train,y_train)\n",
        "\n",
        "X_test = vectorizer.transform(X_test)\n",
        "y_pred = dt.predict(X_test)\n",
        "\n",
        "cm = confusion_matrix(y_test, y_pred)\n",
        "index = ['Actually Ham', 'Actually Spam']\n",
        "df_cm = pd.DataFrame(cm, columns = ['Predicted to be Ham', 'Predicted to be Spam'])\n",
        "df_cm[' '] = index\n",
        "df_cm.set_index(' ', drop = True, inplace = True)\n",
        "df_cm.T"
      ]
    },
    {
      "cell_type": "code",
      "execution_count": null,
      "metadata": {
        "colab": {
          "base_uri": "https://localhost:8080/"
        },
        "id": "neUeNKGcLfQS",
        "outputId": "4e0fd740-d09f-4d83-8217-28e8c3ac200d"
      },
      "outputs": [
        {
          "name": "stdout",
          "output_type": "stream",
          "text": [
            "              precision    recall  f1-score   support\n",
            "\n",
            "           0       0.79      0.75      0.77        77\n",
            "           1       0.85      0.87      0.86       119\n",
            "\n",
            "    accuracy                           0.83       196\n",
            "   macro avg       0.82      0.81      0.82       196\n",
            "weighted avg       0.83      0.83      0.83       196\n",
            "\n"
          ]
        }
      ],
      "source": [
        "print(classification_report(y_test, y_pred))"
      ]
    },
    {
      "cell_type": "markdown",
      "metadata": {
        "id": "JvRWoajDLb7f"
      },
      "source": [
        "#Vectorization (Word2Vec)"
      ]
    },
    {
      "cell_type": "markdown",
      "metadata": {
        "id": "_3TUGhjJop6F"
      },
      "source": [
        "##Vectorization"
      ]
    },
    {
      "cell_type": "code",
      "execution_count": 23,
      "metadata": {
        "colab": {
          "base_uri": "https://localhost:8080/"
        },
        "id": "_NNtay0zSsMq",
        "outputId": "57272739-b3db-4615-fa4b-73d7b40cfd03"
      },
      "outputs": [
        {
          "name": "stderr",
          "output_type": "stream",
          "text": [
            "100%|██████████| 1880/1880 [00:00<00:00, 123593.91it/s]\n"
          ]
        }
      ],
      "source": [
        "# First we split all the sentences(rows here) into words and save it in a list\n",
        "words_in_sentences=[]\n",
        "for i in tqdm(X):\n",
        "    words_in_sentences.append(i.split())\n",
        "\n",
        "# Then we create a Word2Vec model which will vectorize all the words in the list,\n",
        "# where each word will have its vector value as an array\n",
        "# size -> Dimensionality of the feature vectors.\n",
        "# min_count -> Ignores all words with total absolute frequency lower than this\n",
        "# window -> The maximum distance between the current and predicted word within a sentence.\n",
        "# workers -> Use these many worker threads to train the model\n",
        "model = Word2Vec(sentences=words_in_sentences, size=10, window = 5, min_count=1, workers=-1)"
      ]
    },
    {
      "cell_type": "code",
      "execution_count": 26,
      "metadata": {
        "colab": {
          "base_uri": "https://localhost:8080/"
        },
        "id": "jyq990NcowgN",
        "outputId": "0755b4fd-6d6a-4895-ccc6-9ae619369831"
      },
      "outputs": [
        {
          "data": {
            "text/plain": [
              "[('gtltnoscriptgt', 0.25390008091926575),\n",
              " ('addicting', 0.20928144454956055),\n",
              " ('friends', 0.20699982345104218),\n",
              " ('shuffled', 0.1979774534702301),\n",
              " ('dont', 0.19717524945735931),\n",
              " ('exceptions', 0.1945520043373108),\n",
              " ('probably', 0.19105876982212067),\n",
              " ('lot', 0.18765273690223694),\n",
              " ('swoquix', 0.1875438541173935),\n",
              " ('disguisequot', 0.18698564171791077)]"
            ]
          },
          "execution_count": 26,
          "metadata": {},
          "output_type": "execute_result"
        }
      ],
      "source": [
        "model.wv.most_similar('song', topn=10)"
      ]
    },
    {
      "cell_type": "code",
      "execution_count": 27,
      "metadata": {
        "colab": {
          "base_uri": "https://localhost:8080/"
        },
        "id": "a7ntZzwupic2",
        "outputId": "fcfe0859-fe96-422e-9488-c6df8a22dfe1"
      },
      "outputs": [
        {
          "name": "stdout",
          "output_type": "stream",
          "text": [
            "3712\n"
          ]
        }
      ],
      "source": [
        "# Vocabulary of the given dataset\n",
        "vocab = model.wv.vocab\n",
        "print(len(vocab))"
      ]
    },
    {
      "cell_type": "code",
      "execution_count": 28,
      "metadata": {
        "id": "xfn_ow_zqOJ9"
      },
      "outputs": [],
      "source": [
        "# Converting the vector values of each words in a sentence into an average per sentence\n",
        "def avg_w2vec(sentences):\n",
        "    transformed=[]\n",
        "    for sentence in tqdm(sentences):\n",
        "        count=0\n",
        "        vector=np.zeros(200)\n",
        "        for word in sentence.split():\n",
        "            if word in vocab:\n",
        "                vector+=model.wv.get_vector(word)\n",
        "                count+=1\n",
        "        if count!=0:\n",
        "            vector/=count\n",
        "            transformed.append(vector)\n",
        "        else:\n",
        "            print(sentence)\n",
        "    return np.array(transformed)"
      ]
    },
    {
      "cell_type": "code",
      "execution_count": 29,
      "metadata": {
        "colab": {
          "base_uri": "https://localhost:8080/"
        },
        "id": "I2lpnUmHqQeN",
        "outputId": "81760453-ffda-4c24-b541-65b60bddee5f"
      },
      "outputs": [
        {
          "name": "stderr",
          "output_type": "stream",
          "text": [
            "100%|██████████| 1259/1259 [00:00<00:00, 5701.72it/s]\n",
            "100%|██████████| 621/621 [00:00<00:00, 6208.60it/s]\n"
          ]
        }
      ],
      "source": [
        "x_train_transformed=avg_w2vec(X_train)\n",
        "x_test_transformed=avg_w2vec(X_test)"
      ]
    },
    {
      "cell_type": "markdown",
      "metadata": {
        "id": "fhG4b9KJsu5-"
      },
      "source": [
        "##K-Nearest Neighbours"
      ]
    },
    {
      "cell_type": "code",
      "execution_count": 31,
      "metadata": {
        "colab": {
          "base_uri": "https://localhost:8080/"
        },
        "id": "XSY6Jtbdsx7e",
        "outputId": "62d70e59-1b0d-4e65-99b9-7157e32bd36f"
      },
      "outputs": [
        {
          "name": "stdout",
          "output_type": "stream",
          "text": [
            "Fitting 5 folds for each of 6 candidates, totalling 30 fits\n",
            "Best parameters :  {'n_neighbors': 10, 'metric': 'manhattan'}\n",
            "Best score :  0.7108581546828558\n"
          ]
        }
      ],
      "source": [
        "grid_params = { 'n_neighbors' : [10,20,30,40,50,60],\n",
        "               'metric' : ['manhattan']}\n",
        "knn=KNeighborsClassifier()\n",
        "clf = RandomizedSearchCV(knn, grid_params, random_state=0,n_jobs=-1,verbose=1)\n",
        "clf.fit(x_train_transformed,y_train)\n",
        "\n",
        "print(\"Best parameters : \",clf.best_params_)\n",
        "print(\"Best score : \",clf.best_score_)"
      ]
    },
    {
      "cell_type": "code",
      "execution_count": 34,
      "metadata": {
        "colab": {
          "base_uri": "https://localhost:8080/"
        },
        "id": "K6xKupp3Amlg",
        "outputId": "eb1ca011-f0d1-4674-acfd-0f6901c36f02"
      },
      "outputs": [
        {
          "name": "stdout",
          "output_type": "stream",
          "text": [
            "              precision    recall  f1-score   support\n",
            "\n",
            "           0       0.98      0.39      0.56       307\n",
            "           1       0.63      0.99      0.77       314\n",
            "\n",
            "    accuracy                           0.70       621\n",
            "   macro avg       0.80      0.69      0.66       621\n",
            "weighted avg       0.80      0.70      0.67       621\n",
            "\n"
          ]
        }
      ],
      "source": [
        "print(classification_report(y_test,clf.predict(x_test_transformed)))"
      ]
    },
    {
      "cell_type": "code",
      "execution_count": 35,
      "metadata": {
        "colab": {
          "base_uri": "https://localhost:8080/",
          "height": 265
        },
        "id": "Mp2l4bShAX72",
        "outputId": "80a1f46c-36ee-4fcb-dc80-0207d8bce070"
      },
      "outputs": [
        {
          "data": {
            "image/png": "[encoded data removed]",
            "text/plain": [
              "<Figure size 432x288 with 2 Axes>"
            ]
          },
          "metadata": {
            "needs_background": "light"
          },
          "output_type": "display_data"
        }
      ],
      "source": [
        "sns.heatmap(confusion_matrix(y_test,clf.predict(x_test_transformed)),annot=True)\n",
        "plt.show()"
      ]
    },
    {
      "cell_type": "code",
      "execution_count": 36,
      "metadata": {
        "colab": {
          "base_uri": "https://localhost:8080/",
          "height": 112
        },
        "id": "9sgyWWiZAgnP",
        "outputId": "e2e9fde1-a5a4-4ac1-a9a1-0ca9acd4ce24"
      },
      "outputs": [
        {
          "data": {
            "text/html": [
              "\n",
              "  <div id=\"df-aa72b3e3-d77e-4b49-9e8f-68414efaad7d\">\n",
              "    <div class=\"colab-df-container\">\n",
              "      <div>\n",
              "<style scoped>\n",
              "    .dataframe tbody tr th:only-of-type {\n",
              "        vertical-align: middle;\n",
              "    }\n",
              "\n",
              "    .dataframe tbody tr th {\n",
              "        vertical-align: top;\n",
              "    }\n",
              "\n",
              "    .dataframe thead th {\n",
              "        text-align: right;\n",
              "    }\n",
              "</style>\n",
              "<table border=\"1\" class=\"dataframe\">\n",
              "  <thead>\n",
              "    <tr style=\"text-align: right;\">\n",
              "      <th></th>\n",
              "      <th>Actually Ham</th>\n",
              "      <th>Actually Spam</th>\n",
              "    </tr>\n",
              "  </thead>\n",
              "  <tbody>\n",
              "    <tr>\n",
              "      <th>Predicted to be Ham</th>\n",
              "      <td>121</td>\n",
              "      <td>3</td>\n",
              "    </tr>\n",
              "    <tr>\n",
              "      <th>Predicted to be Spam</th>\n",
              "      <td>186</td>\n",
              "      <td>311</td>\n",
              "    </tr>\n",
              "  </tbody>\n",
              "</table>\n",
              "</div>\n",
              "      <button class=\"colab-df-convert\" onclick=\"convertToInteractive('df-aa72b3e3-d77e-4b49-9e8f-68414efaad7d')\"\n",
              "              title=\"Convert this dataframe to an interactive table.\"\n",
              "              style=\"display:none;\">\n",
              "        \n",
              "  <svg xmlns=\"http://www.w3.org/2000/svg\" height=\"24px\"viewBox=\"0 0 24 24\"\n",
              "       width=\"24px\">\n",
              "    <path d=\"M0 0h24v24H0V0z\" fill=\"none\"/>\n",
              "    <path d=\"M18.56 5.44l.94 2.06.94-2.06 2.06-.94-2.06-.94-.94-2.06-.94 2.06-2.06.94zm-11 1L8.5 8.5l.94-2.06 2.06-.94-2.06-.94L8.5 2.5l-.94 2.06-2.06.94zm10 10l.94 2.06.94-2.06 2.06-.94-2.06-.94-.94-2.06-.94 2.06-2.06.94z\"/><path d=\"M17.41 7.96l-1.37-1.37c-.4-.4-.92-.59-1.43-.59-.52 0-1.04.2-1.43.59L10.3 9.45l-7.72 7.72c-.78.78-.78 2.05 0 2.83L4 21.41c.39.39.9.59 1.41.59.51 0 1.02-.2 1.41-.59l7.78-7.78 2.81-2.81c.8-.78.8-2.07 0-2.86zM5.41 20L4 18.59l7.72-7.72 1.47 1.35L5.41 20z\"/>\n",
              "  </svg>\n",
              "      </button>\n",
              "      \n",
              "  <style>\n",
              "    .colab-df-container {\n",
              "      display:flex;\n",
              "      flex-wrap:wrap;\n",
              "      gap: 12px;\n",
              "    }\n",
              "\n",
              "    .colab-df-convert {\n",
              "      background-color: #E8F0FE;\n",
              "      border: none;\n",
              "      border-radius: 50%;\n",
              "      cursor: pointer;\n",
              "      display: none;\n",
              "      fill: #1967D2;\n",
              "      height: 32px;\n",
              "      padding: 0 0 0 0;\n",
              "      width: 32px;\n",
              "    }\n",
              "\n",
              "    .colab-df-convert:hover {\n",
              "      background-color: #E2EBFA;\n",
              "      box-shadow: 0px 1px 2px rgba(60, 64, 67, 0.3), 0px 1px 3px 1px rgba(60, 64, 67, 0.15);\n",
              "      fill: #174EA6;\n",
              "    }\n",
              "\n",
              "    [theme=dark] .colab-df-convert {\n",
              "      background-color: #3B4455;\n",
              "      fill: #D2E3FC;\n",
              "    }\n",
              "\n",
              "    [theme=dark] .colab-df-convert:hover {\n",
              "      background-color: #434B5C;\n",
              "      box-shadow: 0px 1px 3px 1px rgba(0, 0, 0, 0.15);\n",
              "      filter: drop-shadow(0px 1px 2px rgba(0, 0, 0, 0.3));\n",
              "      fill: #FFFFFF;\n",
              "    }\n",
              "  </style>\n",
              "\n",
              "      <script>\n",
              "        const buttonEl =\n",
              "          document.querySelector('#df-aa72b3e3-d77e-4b49-9e8f-68414efaad7d button.colab-df-convert');\n",
              "        buttonEl.style.display =\n",
              "          google.colab.kernel.accessAllowed ? 'block' : 'none';\n",
              "\n",
              "        async function convertToInteractive(key) {\n",
              "          const element = document.querySelector('#df-aa72b3e3-d77e-4b49-9e8f-68414efaad7d');\n",
              "          const dataTable =\n",
              "            await google.colab.kernel.invokeFunction('convertToInteractive',\n",
              "                                                     [key], {});\n",
              "          if (!dataTable) return;\n",
              "\n",
              "          const docLinkHtml = 'Like what you see? Visit the ' +\n",
              "            '<a target=\"_blank\" href=https://colab.research.google.com/notebooks/data_table.ipynb>data table notebook</a>'\n",
              "            + ' to learn more about interactive tables.';\n",
              "          element.innerHTML = '';\n",
              "          dataTable['output_type'] = 'display_data';\n",
              "          await google.colab.output.renderOutput(dataTable, element);\n",
              "          const docLink = document.createElement('div');\n",
              "          docLink.innerHTML = docLinkHtml;\n",
              "          element.appendChild(docLink);\n",
              "        }\n",
              "      </script>\n",
              "    </div>\n",
              "  </div>\n",
              "  "
            ],
            "text/plain": [
              "                      Actually Ham  Actually Spam\n",
              "Predicted to be Ham            121              3\n",
              "Predicted to be Spam           186            311"
            ]
          },
          "execution_count": 36,
          "metadata": {},
          "output_type": "execute_result"
        }
      ],
      "source": [
        "cm = confusion_matrix(y_test, clf.predict(x_test_transformed))\n",
        "index = ['Actually Ham', 'Actually Spam']\n",
        "df_cm = pd.DataFrame(cm, columns = ['Predicted to be Ham', 'Predicted to be Spam'])\n",
        "df_cm[' '] = index\n",
        "df_cm.set_index(' ', drop = True, inplace = True)\n",
        "df_cm.T"
      ]
    },
    {
      "cell_type": "markdown",
      "metadata": {
        "id": "GA8BNDWPehAa"
      },
      "source": [
        "##Decision Tree"
      ]
    },
    {
      "cell_type": "code",
      "execution_count": 37,
      "metadata": {
        "colab": {
          "base_uri": "https://localhost:8080/"
        },
        "id": "6_XUJ-6ee-so",
        "outputId": "0a571985-4136-4838-ebdb-b4165d234145"
      },
      "outputs": [
        {
          "name": "stdout",
          "output_type": "stream",
          "text": [
            "CPU times: user 2min 10s, sys: 974 ms, total: 2min 11s\n",
            "Wall time: 2min 28s\n"
          ]
        }
      ],
      "source": [
        "%%time\n",
        "\n",
        "param_dist = {\"max_depth\": [3, None],\n",
        "              \"max_features\": stats.randint(1, 9),\n",
        "              \"min_samples_leaf\": stats.randint(1, 9),\n",
        "              \"criterion\": [\"gini\", \"entropy\"]}\n",
        "\n",
        "# Instantiate a Decision Tree classifier: tree\n",
        "tree = DecisionTreeClassifier()\n",
        "cv = RepeatedStratifiedKFold(n_splits=10, n_repeats=3, random_state=1)\n",
        "# Instantiate the RandomizedSearchCV object: tree_cv\n",
        "tree_cv = RandomizedSearchCV(tree, param_dist, cv=cv, n_iter = 500)\n",
        "\n",
        "# Fit it to the data\n",
        "tree_cv.fit(x_train_transformed,y_train)"
      ]
    },
    {
      "cell_type": "code",
      "execution_count": 43,
      "metadata": {
        "colab": {
          "base_uri": "https://localhost:8080/"
        },
        "id": "QMNsEd_bgrGB",
        "outputId": "97dbef5e-bc81-4c49-d40b-ce22c32f43be"
      },
      "outputs": [
        {
          "name": "stdout",
          "output_type": "stream",
          "text": [
            "              precision    recall  f1-score   support\n",
            "\n",
            "           0       0.73      0.79      0.76       307\n",
            "           1       0.78      0.72      0.75       314\n",
            "\n",
            "    accuracy                           0.75       621\n",
            "   macro avg       0.75      0.75      0.75       621\n",
            "weighted avg       0.75      0.75      0.75       621\n",
            "\n"
          ]
        }
      ],
      "source": [
        "print(classification_report(y_test,tree_cv.predict(x_test_transformed)))"
      ]
    },
    {
      "cell_type": "code",
      "execution_count": 41,
      "metadata": {
        "colab": {
          "base_uri": "https://localhost:8080/",
          "height": 267
        },
        "id": "bi_d50pHgoCO",
        "outputId": "911d2900-d501-4d38-c624-352d389bc7e2"
      },
      "outputs": [
        {
          "data": {
            "image/png": "[encoded data removed]",
            "text/plain": [
              "<Figure size 432x288 with 2 Axes>"
            ]
          },
          "metadata": {
            "needs_background": "light"
          },
          "output_type": "display_data"
        }
      ],
      "source": [
        "sns.heatmap(confusion_matrix(y_test,tree_cv.predict(x_test_transformed)),annot=True)\n",
        "plt.show()"
      ]
    },
    {
      "cell_type": "code",
      "execution_count": 42,
      "metadata": {
        "colab": {
          "base_uri": "https://localhost:8080/",
          "height": 112
        },
        "id": "BbNbG4eZehAd",
        "outputId": "a6989a03-d8e6-40cc-92d7-be9d6838703e"
      },
      "outputs": [
        {
          "data": {
            "text/html": [
              "\n",
              "  <div id=\"df-f33b4c8f-ca59-4a86-9d0c-e3fbcd350cc3\">\n",
              "    <div class=\"colab-df-container\">\n",
              "      <div>\n",
              "<style scoped>\n",
              "    .dataframe tbody tr th:only-of-type {\n",
              "        vertical-align: middle;\n",
              "    }\n",
              "\n",
              "    .dataframe tbody tr th {\n",
              "        vertical-align: top;\n",
              "    }\n",
              "\n",
              "    .dataframe thead th {\n",
              "        text-align: right;\n",
              "    }\n",
              "</style>\n",
              "<table border=\"1\" class=\"dataframe\">\n",
              "  <thead>\n",
              "    <tr style=\"text-align: right;\">\n",
              "      <th></th>\n",
              "      <th>Actually Ham</th>\n",
              "      <th>Actually Spam</th>\n",
              "    </tr>\n",
              "  </thead>\n",
              "  <tbody>\n",
              "    <tr>\n",
              "      <th>Predicted to be Ham</th>\n",
              "      <td>242</td>\n",
              "      <td>89</td>\n",
              "    </tr>\n",
              "    <tr>\n",
              "      <th>Predicted to be Spam</th>\n",
              "      <td>65</td>\n",
              "      <td>225</td>\n",
              "    </tr>\n",
              "  </tbody>\n",
              "</table>\n",
              "</div>\n",
              "      <button class=\"colab-df-convert\" onclick=\"convertToInteractive('df-f33b4c8f-ca59-4a86-9d0c-e3fbcd350cc3')\"\n",
              "              title=\"Convert this dataframe to an interactive table.\"\n",
              "              style=\"display:none;\">\n",
              "        \n",
              "  <svg xmlns=\"http://www.w3.org/2000/svg\" height=\"24px\"viewBox=\"0 0 24 24\"\n",
              "       width=\"24px\">\n",
              "    <path d=\"M0 0h24v24H0V0z\" fill=\"none\"/>\n",
              "    <path d=\"M18.56 5.44l.94 2.06.94-2.06 2.06-.94-2.06-.94-.94-2.06-.94 2.06-2.06.94zm-11 1L8.5 8.5l.94-2.06 2.06-.94-2.06-.94L8.5 2.5l-.94 2.06-2.06.94zm10 10l.94 2.06.94-2.06 2.06-.94-2.06-.94-.94-2.06-.94 2.06-2.06.94z\"/><path d=\"M17.41 7.96l-1.37-1.37c-.4-.4-.92-.59-1.43-.59-.52 0-1.04.2-1.43.59L10.3 9.45l-7.72 7.72c-.78.78-.78 2.05 0 2.83L4 21.41c.39.39.9.59 1.41.59.51 0 1.02-.2 1.41-.59l7.78-7.78 2.81-2.81c.8-.78.8-2.07 0-2.86zM5.41 20L4 18.59l7.72-7.72 1.47 1.35L5.41 20z\"/>\n",
              "  </svg>\n",
              "      </button>\n",
              "      \n",
              "  <style>\n",
              "    .colab-df-container {\n",
              "      display:flex;\n",
              "      flex-wrap:wrap;\n",
              "      gap: 12px;\n",
              "    }\n",
              "\n",
              "    .colab-df-convert {\n",
              "      background-color: #E8F0FE;\n",
              "      border: none;\n",
              "      border-radius: 50%;\n",
              "      cursor: pointer;\n",
              "      display: none;\n",
              "      fill: #1967D2;\n",
              "      height: 32px;\n",
              "      padding: 0 0 0 0;\n",
              "      width: 32px;\n",
              "    }\n",
              "\n",
              "    .colab-df-convert:hover {\n",
              "      background-color: #E2EBFA;\n",
              "      box-shadow: 0px 1px 2px rgba(60, 64, 67, 0.3), 0px 1px 3px 1px rgba(60, 64, 67, 0.15);\n",
              "      fill: #174EA6;\n",
              "    }\n",
              "\n",
              "    [theme=dark] .colab-df-convert {\n",
              "      background-color: #3B4455;\n",
              "      fill: #D2E3FC;\n",
              "    }\n",
              "\n",
              "    [theme=dark] .colab-df-convert:hover {\n",
              "      background-color: #434B5C;\n",
              "      box-shadow: 0px 1px 3px 1px rgba(0, 0, 0, 0.15);\n",
              "      filter: drop-shadow(0px 1px 2px rgba(0, 0, 0, 0.3));\n",
              "      fill: #FFFFFF;\n",
              "    }\n",
              "  </style>\n",
              "\n",
              "      <script>\n",
              "        const buttonEl =\n",
              "          document.querySelector('#df-f33b4c8f-ca59-4a86-9d0c-e3fbcd350cc3 button.colab-df-convert');\n",
              "        buttonEl.style.display =\n",
              "          google.colab.kernel.accessAllowed ? 'block' : 'none';\n",
              "\n",
              "        async function convertToInteractive(key) {\n",
              "          const element = document.querySelector('#df-f33b4c8f-ca59-4a86-9d0c-e3fbcd350cc3');\n",
              "          const dataTable =\n",
              "            await google.colab.kernel.invokeFunction('convertToInteractive',\n",
              "                                                     [key], {});\n",
              "          if (!dataTable) return;\n",
              "\n",
              "          const docLinkHtml = 'Like what you see? Visit the ' +\n",
              "            '<a target=\"_blank\" href=https://colab.research.google.com/notebooks/data_table.ipynb>data table notebook</a>'\n",
              "            + ' to learn more about interactive tables.';\n",
              "          element.innerHTML = '';\n",
              "          dataTable['output_type'] = 'display_data';\n",
              "          await google.colab.output.renderOutput(dataTable, element);\n",
              "          const docLink = document.createElement('div');\n",
              "          docLink.innerHTML = docLinkHtml;\n",
              "          element.appendChild(docLink);\n",
              "        }\n",
              "      </script>\n",
              "    </div>\n",
              "  </div>\n",
              "  "
            ],
            "text/plain": [
              "                      Actually Ham  Actually Spam\n",
              "Predicted to be Ham            242             89\n",
              "Predicted to be Spam            65            225"
            ]
          },
          "execution_count": 42,
          "metadata": {},
          "output_type": "execute_result"
        }
      ],
      "source": [
        "cm = confusion_matrix(y_test, tree_cv.predict(x_test_transformed))\n",
        "index = ['Actually Ham', 'Actually Spam']\n",
        "df_cm = pd.DataFrame(cm, columns = ['Predicted to be Ham', 'Predicted to be Spam'])\n",
        "df_cm[' '] = index\n",
        "df_cm.set_index(' ', drop = True, inplace = True)\n",
        "df_cm.T"
      ]
    },
    {
      "cell_type": "markdown",
      "metadata": {
        "id": "5sD3qC_6iNkx"
      },
      "source": [
        "##SVM"
      ]
    },
    {
      "cell_type": "code",
      "execution_count": 30,
      "metadata": {
        "colab": {
          "base_uri": "https://localhost:8080/"
        },
        "id": "-gfVkvC6iZjR",
        "outputId": "2c929787-3dfb-48ab-8c5e-6d4dfb4e64e1"
      },
      "outputs": [
        {
          "name": "stdout",
          "output_type": "stream",
          "text": [
            "CPU times: user 5.08 s, sys: 410 ms, total: 5.49 s\n",
            "Wall time: 3min 27s\n"
          ]
        }
      ],
      "source": [
        "%%time\n",
        "\n",
        "# Using RandomSearchCV to find the best combination of hyperparameter values for the model\n",
        "mdl = svc(probability = True, random_state = 1)\n",
        "auc = make_scorer(roc_auc_score)\n",
        "\n",
        "# Dictionary of the possible hyperparameter values\n",
        "rand_list = {\"C\": stats.uniform(10, 250),\n",
        "             \"gamma\": stats.uniform(0.01, 1)}\n",
        "              \n",
        "rand_search = RandomizedSearchCV(mdl, param_distributions = rand_list, n_iter = 100, n_jobs = 4, cv = 3, random_state = 2017, scoring = auc) \n",
        "\n",
        "# svm = svm.SVC(**rand_search.best_params_)\n",
        "rand_search.fit(x_train_transformed, y_train)"
      ]
    },
    {
      "cell_type": "code",
      "execution_count": 31,
      "metadata": {
        "colab": {
          "base_uri": "https://localhost:8080/"
        },
        "id": "Erb27umpijaU",
        "outputId": "18bb4d70-90ec-4b83-e5fe-f7922e53bb8b"
      },
      "outputs": [
        {
          "name": "stdout",
          "output_type": "stream",
          "text": [
            "              precision    recall  f1-score   support\n",
            "\n",
            "           0       0.62      0.97      0.76       307\n",
            "           1       0.93      0.42      0.58       314\n",
            "\n",
            "    accuracy                           0.69       621\n",
            "   macro avg       0.78      0.70      0.67       621\n",
            "weighted avg       0.78      0.69      0.67       621\n",
            "\n"
          ]
        }
      ],
      "source": [
        "print(classification_report(y_test,rand_search.predict(x_test_transformed)))"
      ]
    },
    {
      "cell_type": "code",
      "execution_count": 32,
      "metadata": {
        "colab": {
          "base_uri": "https://localhost:8080/",
          "height": 265
        },
        "id": "0Ch2woJWil2c",
        "outputId": "e22ce910-9e2c-4a75-dddf-c7a9bf36129c"
      },
      "outputs": [
        {
          "data": {
            "image/png": "[encoded data removed]",
            "text/plain": [
              "<Figure size 432x288 with 2 Axes>"
            ]
          },
          "metadata": {
            "needs_background": "light"
          },
          "output_type": "display_data"
        }
      ],
      "source": [
        "sns.heatmap(confusion_matrix(y_test,rand_search.predict(x_test_transformed)),annot=True)\n",
        "plt.show()"
      ]
    },
    {
      "cell_type": "code",
      "execution_count": 33,
      "metadata": {
        "colab": {
          "base_uri": "https://localhost:8080/",
          "height": 112
        },
        "id": "9YpPVEswipnn",
        "outputId": "aad7cf89-8f87-4e05-bd97-d9f9b8e461c1"
      },
      "outputs": [
        {
          "data": {
            "text/html": [
              "\n",
              "  <div id=\"df-90bf86b8-3be2-4b57-b85b-1d1630f24d61\">\n",
              "    <div class=\"colab-df-container\">\n",
              "      <div>\n",
              "<style scoped>\n",
              "    .dataframe tbody tr th:only-of-type {\n",
              "        vertical-align: middle;\n",
              "    }\n",
              "\n",
              "    .dataframe tbody tr th {\n",
              "        vertical-align: top;\n",
              "    }\n",
              "\n",
              "    .dataframe thead th {\n",
              "        text-align: right;\n",
              "    }\n",
              "</style>\n",
              "<table border=\"1\" class=\"dataframe\">\n",
              "  <thead>\n",
              "    <tr style=\"text-align: right;\">\n",
              "      <th></th>\n",
              "      <th>Actually Ham</th>\n",
              "      <th>Actually Spam</th>\n",
              "    </tr>\n",
              "  </thead>\n",
              "  <tbody>\n",
              "    <tr>\n",
              "      <th>Predicted to be Ham</th>\n",
              "      <td>297</td>\n",
              "      <td>181</td>\n",
              "    </tr>\n",
              "    <tr>\n",
              "      <th>Predicted to be Spam</th>\n",
              "      <td>10</td>\n",
              "      <td>133</td>\n",
              "    </tr>\n",
              "  </tbody>\n",
              "</table>\n",
              "</div>\n",
              "      <button class=\"colab-df-convert\" onclick=\"convertToInteractive('df-90bf86b8-3be2-4b57-b85b-1d1630f24d61')\"\n",
              "              title=\"Convert this dataframe to an interactive table.\"\n",
              "              style=\"display:none;\">\n",
              "        \n",
              "  <svg xmlns=\"http://www.w3.org/2000/svg\" height=\"24px\"viewBox=\"0 0 24 24\"\n",
              "       width=\"24px\">\n",
              "    <path d=\"M0 0h24v24H0V0z\" fill=\"none\"/>\n",
              "    <path d=\"M18.56 5.44l.94 2.06.94-2.06 2.06-.94-2.06-.94-.94-2.06-.94 2.06-2.06.94zm-11 1L8.5 8.5l.94-2.06 2.06-.94-2.06-.94L8.5 2.5l-.94 2.06-2.06.94zm10 10l.94 2.06.94-2.06 2.06-.94-2.06-.94-.94-2.06-.94 2.06-2.06.94z\"/><path d=\"M17.41 7.96l-1.37-1.37c-.4-.4-.92-.59-1.43-.59-.52 0-1.04.2-1.43.59L10.3 9.45l-7.72 7.72c-.78.78-.78 2.05 0 2.83L4 21.41c.39.39.9.59 1.41.59.51 0 1.02-.2 1.41-.59l7.78-7.78 2.81-2.81c.8-.78.8-2.07 0-2.86zM5.41 20L4 18.59l7.72-7.72 1.47 1.35L5.41 20z\"/>\n",
              "  </svg>\n",
              "      </button>\n",
              "      \n",
              "  <style>\n",
              "    .colab-df-container {\n",
              "      display:flex;\n",
              "      flex-wrap:wrap;\n",
              "      gap: 12px;\n",
              "    }\n",
              "\n",
              "    .colab-df-convert {\n",
              "      background-color: #E8F0FE;\n",
              "      border: none;\n",
              "      border-radius: 50%;\n",
              "      cursor: pointer;\n",
              "      display: none;\n",
              "      fill: #1967D2;\n",
              "      height: 32px;\n",
              "      padding: 0 0 0 0;\n",
              "      width: 32px;\n",
              "    }\n",
              "\n",
              "    .colab-df-convert:hover {\n",
              "      background-color: #E2EBFA;\n",
              "      box-shadow: 0px 1px 2px rgba(60, 64, 67, 0.3), 0px 1px 3px 1px rgba(60, 64, 67, 0.15);\n",
              "      fill: #174EA6;\n",
              "    }\n",
              "\n",
              "    [theme=dark] .colab-df-convert {\n",
              "      background-color: #3B4455;\n",
              "      fill: #D2E3FC;\n",
              "    }\n",
              "\n",
              "    [theme=dark] .colab-df-convert:hover {\n",
              "      background-color: #434B5C;\n",
              "      box-shadow: 0px 1px 3px 1px rgba(0, 0, 0, 0.15);\n",
              "      filter: drop-shadow(0px 1px 2px rgba(0, 0, 0, 0.3));\n",
              "      fill: #FFFFFF;\n",
              "    }\n",
              "  </style>\n",
              "\n",
              "      <script>\n",
              "        const buttonEl =\n",
              "          document.querySelector('#df-90bf86b8-3be2-4b57-b85b-1d1630f24d61 button.colab-df-convert');\n",
              "        buttonEl.style.display =\n",
              "          google.colab.kernel.accessAllowed ? 'block' : 'none';\n",
              "\n",
              "        async function convertToInteractive(key) {\n",
              "          const element = document.querySelector('#df-90bf86b8-3be2-4b57-b85b-1d1630f24d61');\n",
              "          const dataTable =\n",
              "            await google.colab.kernel.invokeFunction('convertToInteractive',\n",
              "                                                     [key], {});\n",
              "          if (!dataTable) return;\n",
              "\n",
              "          const docLinkHtml = 'Like what you see? Visit the ' +\n",
              "            '<a target=\"_blank\" href=https://colab.research.google.com/notebooks/data_table.ipynb>data table notebook</a>'\n",
              "            + ' to learn more about interactive tables.';\n",
              "          element.innerHTML = '';\n",
              "          dataTable['output_type'] = 'display_data';\n",
              "          await google.colab.output.renderOutput(dataTable, element);\n",
              "          const docLink = document.createElement('div');\n",
              "          docLink.innerHTML = docLinkHtml;\n",
              "          element.appendChild(docLink);\n",
              "        }\n",
              "      </script>\n",
              "    </div>\n",
              "  </div>\n",
              "  "
            ],
            "text/plain": [
              "                      Actually Ham  Actually Spam\n",
              "Predicted to be Ham            297            181\n",
              "Predicted to be Spam            10            133"
            ]
          },
          "execution_count": 33,
          "metadata": {},
          "output_type": "execute_result"
        }
      ],
      "source": [
        "cm = confusion_matrix(y_test, rand_search.predict(x_test_transformed))\n",
        "index = ['Actually Ham', 'Actually Spam']\n",
        "df_cm = pd.DataFrame(cm, columns = ['Predicted to be Ham', 'Predicted to be Spam'])\n",
        "df_cm[' '] = index\n",
        "df_cm.set_index(' ', drop = True, inplace = True)\n",
        "df_cm.T"
      ]
    },
    {
      "cell_type": "markdown",
      "metadata": {
        "id": "4_2wbElYiI5W"
      },
      "source": [
        "##Logistic Regression"
      ]
    },
    {
      "cell_type": "code",
      "execution_count": 35,
      "metadata": {
        "colab": {
          "base_uri": "https://localhost:8080/"
        },
        "id": "J9vM0MfgjSuf",
        "outputId": "53c31092-9d13-4999-c9db-fee2ac8a7495"
      },
      "outputs": [
        {
          "data": {
            "text/plain": [
              "RandomizedSearchCV(cv=RepeatedStratifiedKFold(n_repeats=3, n_splits=10, random_state=1),\n",
              "                   estimator=LogisticRegression(), n_iter=500, n_jobs=-1,\n",
              "                   param_distributions={'C': <scipy.stats._distn_infrastructure.rv_frozen object at 0x7f36fbe3e7d0>,\n",
              "                                        'penalty': ['none', 'l1', 'l2',\n",
              "                                                    'elasticnet'],\n",
              "                                        'solver': ['newton-cg', 'lbfgs',\n",
              "                                                   'liblinear']},\n",
              "                   random_state=1, scoring='accuracy')"
            ]
          },
          "execution_count": 35,
          "metadata": {},
          "output_type": "execute_result"
        }
      ],
      "source": [
        "# define model\n",
        "model = LogisticRegression()\n",
        "# define evaluation\n",
        "cv = RepeatedStratifiedKFold(n_splits=10, n_repeats=3, random_state=1)\n",
        "# define search space\n",
        "space = dict()\n",
        "space['solver'] = ['newton-cg', 'lbfgs', 'liblinear']\n",
        "space['penalty'] = ['none', 'l1', 'l2', 'elasticnet']\n",
        "space['C'] = stats.loguniform(1e-5, 100)\n",
        "# define search\n",
        "search = RandomizedSearchCV(model, space, n_iter=500, scoring='accuracy', n_jobs=-1, cv=cv, random_state=1)\n",
        "# execute search\n",
        "search.fit(x_train_transformed, y_train)"
      ]
    },
    {
      "cell_type": "code",
      "execution_count": 36,
      "metadata": {
        "colab": {
          "base_uri": "https://localhost:8080/"
        },
        "id": "ykvMhSMsjd7l",
        "outputId": "7312bcef-74d6-4ee5-ae77-5656c73a867c"
      },
      "outputs": [
        {
          "name": "stdout",
          "output_type": "stream",
          "text": [
            "              precision    recall  f1-score   support\n",
            "\n",
            "           0       0.83      0.78      0.80       307\n",
            "           1       0.80      0.85      0.82       314\n",
            "\n",
            "    accuracy                           0.81       621\n",
            "   macro avg       0.81      0.81      0.81       621\n",
            "weighted avg       0.81      0.81      0.81       621\n",
            "\n"
          ]
        }
      ],
      "source": [
        "print(classification_report(y_test,search.predict(x_test_transformed)))"
      ]
    },
    {
      "cell_type": "code",
      "execution_count": 37,
      "metadata": {
        "colab": {
          "base_uri": "https://localhost:8080/",
          "height": 265
        },
        "id": "dt1ebgRjjgeV",
        "outputId": "0aa1796a-33e4-4729-efcb-1b2836be7a57"
      },
      "outputs": [
        {
          "data": {
            "image/png": "[encoded data removed]",
            "text/plain": [
              "<Figure size 432x288 with 2 Axes>"
            ]
          },
          "metadata": {
            "needs_background": "light"
          },
          "output_type": "display_data"
        }
      ],
      "source": [
        "sns.heatmap(confusion_matrix(y_test,search.predict(x_test_transformed)),annot=True)\n",
        "plt.show()"
      ]
    },
    {
      "cell_type": "code",
      "execution_count": 38,
      "metadata": {
        "colab": {
          "base_uri": "https://localhost:8080/",
          "height": 112
        },
        "id": "QwFqr8d-jkeY",
        "outputId": "a2f123e2-a614-4255-b6a3-b8a11a7028e0"
      },
      "outputs": [
        {
          "data": {
            "text/html": [
              "\n",
              "  <div id=\"df-4899b35a-1a3b-4a8e-9176-3180be10b332\">\n",
              "    <div class=\"colab-df-container\">\n",
              "      <div>\n",
              "<style scoped>\n",
              "    .dataframe tbody tr th:only-of-type {\n",
              "        vertical-align: middle;\n",
              "    }\n",
              "\n",
              "    .dataframe tbody tr th {\n",
              "        vertical-align: top;\n",
              "    }\n",
              "\n",
              "    .dataframe thead th {\n",
              "        text-align: right;\n",
              "    }\n",
              "</style>\n",
              "<table border=\"1\" class=\"dataframe\">\n",
              "  <thead>\n",
              "    <tr style=\"text-align: right;\">\n",
              "      <th></th>\n",
              "      <th>Actually Ham</th>\n",
              "      <th>Actually Spam</th>\n",
              "    </tr>\n",
              "  </thead>\n",
              "  <tbody>\n",
              "    <tr>\n",
              "      <th>Predicted to be Ham</th>\n",
              "      <td>239</td>\n",
              "      <td>48</td>\n",
              "    </tr>\n",
              "    <tr>\n",
              "      <th>Predicted to be Spam</th>\n",
              "      <td>68</td>\n",
              "      <td>266</td>\n",
              "    </tr>\n",
              "  </tbody>\n",
              "</table>\n",
              "</div>\n",
              "      <button class=\"colab-df-convert\" onclick=\"convertToInteractive('df-4899b35a-1a3b-4a8e-9176-3180be10b332')\"\n",
              "              title=\"Convert this dataframe to an interactive table.\"\n",
              "              style=\"display:none;\">\n",
              "        \n",
              "  <svg xmlns=\"http://www.w3.org/2000/svg\" height=\"24px\"viewBox=\"0 0 24 24\"\n",
              "       width=\"24px\">\n",
              "    <path d=\"M0 0h24v24H0V0z\" fill=\"none\"/>\n",
              "    <path d=\"M18.56 5.44l.94 2.06.94-2.06 2.06-.94-2.06-.94-.94-2.06-.94 2.06-2.06.94zm-11 1L8.5 8.5l.94-2.06 2.06-.94-2.06-.94L8.5 2.5l-.94 2.06-2.06.94zm10 10l.94 2.06.94-2.06 2.06-.94-2.06-.94-.94-2.06-.94 2.06-2.06.94z\"/><path d=\"M17.41 7.96l-1.37-1.37c-.4-.4-.92-.59-1.43-.59-.52 0-1.04.2-1.43.59L10.3 9.45l-7.72 7.72c-.78.78-.78 2.05 0 2.83L4 21.41c.39.39.9.59 1.41.59.51 0 1.02-.2 1.41-.59l7.78-7.78 2.81-2.81c.8-.78.8-2.07 0-2.86zM5.41 20L4 18.59l7.72-7.72 1.47 1.35L5.41 20z\"/>\n",
              "  </svg>\n",
              "      </button>\n",
              "      \n",
              "  <style>\n",
              "    .colab-df-container {\n",
              "      display:flex;\n",
              "      flex-wrap:wrap;\n",
              "      gap: 12px;\n",
              "    }\n",
              "\n",
              "    .colab-df-convert {\n",
              "      background-color: #E8F0FE;\n",
              "      border: none;\n",
              "      border-radius: 50%;\n",
              "      cursor: pointer;\n",
              "      display: none;\n",
              "      fill: #1967D2;\n",
              "      height: 32px;\n",
              "      padding: 0 0 0 0;\n",
              "      width: 32px;\n",
              "    }\n",
              "\n",
              "    .colab-df-convert:hover {\n",
              "      background-color: #E2EBFA;\n",
              "      box-shadow: 0px 1px 2px rgba(60, 64, 67, 0.3), 0px 1px 3px 1px rgba(60, 64, 67, 0.15);\n",
              "      fill: #174EA6;\n",
              "    }\n",
              "\n",
              "    [theme=dark] .colab-df-convert {\n",
              "      background-color: #3B4455;\n",
              "      fill: #D2E3FC;\n",
              "    }\n",
              "\n",
              "    [theme=dark] .colab-df-convert:hover {\n",
              "      background-color: #434B5C;\n",
              "      box-shadow: 0px 1px 3px 1px rgba(0, 0, 0, 0.15);\n",
              "      filter: drop-shadow(0px 1px 2px rgba(0, 0, 0, 0.3));\n",
              "      fill: #FFFFFF;\n",
              "    }\n",
              "  </style>\n",
              "\n",
              "      <script>\n",
              "        const buttonEl =\n",
              "          document.querySelector('#df-4899b35a-1a3b-4a8e-9176-3180be10b332 button.colab-df-convert');\n",
              "        buttonEl.style.display =\n",
              "          google.colab.kernel.accessAllowed ? 'block' : 'none';\n",
              "\n",
              "        async function convertToInteractive(key) {\n",
              "          const element = document.querySelector('#df-4899b35a-1a3b-4a8e-9176-3180be10b332');\n",
              "          const dataTable =\n",
              "            await google.colab.kernel.invokeFunction('convertToInteractive',\n",
              "                                                     [key], {});\n",
              "          if (!dataTable) return;\n",
              "\n",
              "          const docLinkHtml = 'Like what you see? Visit the ' +\n",
              "            '<a target=\"_blank\" href=https://colab.research.google.com/notebooks/data_table.ipynb>data table notebook</a>'\n",
              "            + ' to learn more about interactive tables.';\n",
              "          element.innerHTML = '';\n",
              "          dataTable['output_type'] = 'display_data';\n",
              "          await google.colab.output.renderOutput(dataTable, element);\n",
              "          const docLink = document.createElement('div');\n",
              "          docLink.innerHTML = docLinkHtml;\n",
              "          element.appendChild(docLink);\n",
              "        }\n",
              "      </script>\n",
              "    </div>\n",
              "  </div>\n",
              "  "
            ],
            "text/plain": [
              "                      Actually Ham  Actually Spam\n",
              "Predicted to be Ham            239             48\n",
              "Predicted to be Spam            68            266"
            ]
          },
          "execution_count": 38,
          "metadata": {},
          "output_type": "execute_result"
        }
      ],
      "source": [
        "cm = confusion_matrix(y_test, search.predict(x_test_transformed))\n",
        "index = ['Actually Ham', 'Actually Spam']\n",
        "df_cm = pd.DataFrame(cm, columns = ['Predicted to be Ham', 'Predicted to be Spam'])\n",
        "df_cm[' '] = index\n",
        "df_cm.set_index(' ', drop = True, inplace = True)\n",
        "df_cm.T"
      ]
    }
  ],
  "metadata": {
    "colab": {
      "collapsed_sections": [
        "eKV4m_oHCkIg",
        "zZlMJPGjVidz",
        "BOTc2wO9Asvc",
        "WdYYP8SG9-9w",
        "d904D-R4If6C",
        "VKFYTbJGgzeo",
        "mO9wV1QUKvLb",
        "F4YuvLAeLU2x",
        "bxJiY4-uLiad",
        "fVeR_8dSLbac",
        "nNxdamHCLzhg",
        "ZinNn8AVL002",
        "jRTAb1Gknp5V",
        "q_iGFmpUmNKh",
        "bt74OCEfmNKh",
        "BJtysFwsmNKi",
        "d2LPhrQEmNKj",
        "GkpbRTrLmNKk",
        "OOSBh71cn7lY",
        "42nWuGubmNZH",
        "jUlr5QVfmNZI",
        "F0B-e-RQmNZI",
        "qHNLHdPImNZJ",
        "Gt-yiDnImNZJ",
        "-G5eGZQVn-X6",
        "NWiN8sSnmLW-",
        "z3npJKBemLW_",
        "BiuFyIXVmLXA",
        "IliDNzZDmLXB",
        "xfbPm_WUmLXC",
        "4p70Bd16oBVO",
        "JLkfjuQxmWNE",
        "6xlODDcrmWNF",
        "XHNt4v9gmWNG",
        "a3a2vVPRmWNG",
        "ymv5ulnXmWNH",
        "xunCwZFTopmG",
        "XmUT1cjhopmH",
        "YtU8wRuDopmI",
        "3NmjieAmopmI",
        "zSBgFpQEopmJ",
        "6lBsB-3VopmJ",
        "WqBlXJa9opmK",
        "2ofyUAn6opmK",
        "CvjALdK-opmN",
        "bPGu4Kr8opmP",
        "NrBtttI-opmS",
        "F4t7BcroopmT",
        "515hFonsopmT",
        "DYichdznopmT",
        "60OxeoOQopmU",
        "gPX7hZNZopmV",
        "I1aY0pN2t7JJ",
        "aUscgL7LkbWy",
        "lKHaU75tkd_6",
        "Ijp_yt7gkeKl",
        "sXtmom3VkeUw",
        "V0sw1zV_kefg",
        "bZlOTgR3C_ag",
        "MV7r8PTIKezu",
        "KbGYTvsDKjS-",
        "ybiKwa9VKjZj",
        "5XD0HIexKjgV",
        "qq4zagqaKjnm",
        "JsswUP9WZY63",
        "vz3Ye6nyZY66",
        "yOONgrwiZY68",
        "aYHWm3naZY6-",
        "iOg-a7xkZY7B",
        "3uBW4RYAr7tr",
        "2WrapERWr-PQ",
        "kkEhdbWq1SUe",
        "8lluxQuWmFjM",
        "-jZyBIpC6LHo",
        "E0ZkCLJZCnOl",
        "XDKWF_vWCpbE",
        "qIRzfPpBS3EP",
        "77pvXwSrTPKY",
        "r9sTYbIRmIq-",
        "IbCTEaaWmgDP",
        "U-U_JVkZode_",
        "fhG4b9KJsu5-"
      ],
      "name": "Sentiment Analysis.ipynb",
      "provenance": []
    },
    "kernelspec": {
      "display_name": "Python 3.9.12 64-bit",
      "language": "python",
      "name": "python3"
    },
    "language_info": {
      "codemirror_mode": {
        "name": "ipython",
        "version": 3
      },
      "file_extension": ".py",
      "mimetype": "text/x-python",
      "name": "python",
      "nbconvert_exporter": "python",
      "pygments_lexer": "ipython3",
      "version": "3.9.12"
    },
    "vscode": {
      "interpreter": {
        "hash": "491087cb93853b3223ceecd3eaf02cbe146eb9b2fde0f129c3f4378ec7d95feb"
      }
    }
  },
  "nbformat": 4,
  "nbformat_minor": 0
}
