{
  "cells": [
    {
      "cell_type": "markdown",
      "metadata": {
        "id": "lvStnvRLEEIQ"
      },
      "source": [
        "#Mounting to Google Drive"
      ]
    },
    {
      "cell_type": "code",
      "execution_count": 1,
      "metadata": {
        "colab": {
          "base_uri": "https://localhost:8080/"
        },
        "id": "aCxexk_bD6Bz",
        "outputId": "0beac423-c33b-4641-b18f-27f36cf36831"
      },
      "outputs": [
        {
          "name": "stderr",
          "output_type": "stream",
          "text": [
            "Extracting : 100%|██████████| 3/3 [00:02<00:00,  1.45it/s]\n"
          ]
        }
      ],
      "source": [
        "from pathlib import Path\n",
        "import os\n",
        "import sys\n",
        "\n",
        "sys.path.append(str(Path(os.getcwd()).parents[1]))\n",
        "from Helper_Functions import common_utils, classification_utils\n",
        "directory_to_extract_to = os.getcwd()\n",
        "\n",
        "common_utils.load_data_from_one_drive(directory_to_extract_to, \"classification_paths\", \"multi_label_classification\")"
      ]
    },
    {
      "cell_type": "markdown",
      "metadata": {
        "id": "otg_nTkwCkiB"
      },
      "source": [
        "#Importing Packages"
      ]
    },
    {
      "cell_type": "code",
      "execution_count": 5,
      "metadata": {
        "id": "j9BDulqgNnTn"
      },
      "outputs": [],
      "source": [
        "# Ignore harmless warnings\n",
        "import sys\n",
        "import warnings\n",
        "warnings.filterwarnings(\"ignore\")\n",
        "\n",
        "if not sys.warnoptions:\n",
        "    import warnings\n",
        "    warnings.simplefilter(\"ignore\")"
      ]
    },
    {
      "cell_type": "code",
      "execution_count": 5,
      "metadata": {
        "id": "lJ0E-8VwCkQB"
      },
      "outputs": [],
      "source": [
        "import tensorflow as tf\n",
        "import pandas as pd\n",
        "import numpy as np\n",
        "import matplotlib.pyplot as plt\n",
        "import seaborn as sns\n",
        "import datetime as dt\n",
        "import statsmodels as sm\n",
        "import matplotlib\n",
        "import math"
      ]
    },
    {
      "cell_type": "code",
      "execution_count": 8,
      "metadata": {
        "colab": {
          "base_uri": "https://localhost:8080/"
        },
        "id": "7zWdS6lcNaDP",
        "outputId": "ebb6fdaf-0187-4a88-9dd9-c8abbcdef34a"
      },
      "outputs": [
        {
          "name": "stderr",
          "output_type": "stream",
          "text": [
            "[nltk_data] Downloading package stopwords to\n",
            "[nltk_data]     C:\\Users\\rayst\\AppData\\Roaming\\nltk_data...\n",
            "[nltk_data]   Unzipping corpora\\stopwords.zip.\n"
          ]
        }
      ],
      "source": [
        "import re\n",
        "import nltk\n",
        "nltk.download(\"stopwords\")\n",
        "from nltk.corpus import stopwords\n",
        "from tqdm import tqdm\n",
        "from sklearn.model_selection import train_test_split\n",
        "from sklearn.feature_extraction.text import TfidfVectorizer\n",
        "from sklearn.linear_model import LogisticRegression, SGDClassifier\n",
        "from sklearn.multiclass import OneVsRestClassifier\n",
        "from skmultilearn.problem_transform import ClassifierChain, BinaryRelevance\n",
        "from sklearn.metrics import accuracy_score,hamming_loss,precision_score,recall_score,f1_score,classification_report\n",
        "stopwords=stopwords.words('english')\n",
        "#Removing stopwords 'no','nor' and 'not' as this will affect the overall sentiment\n",
        "stopwords.remove('no')\n",
        "stopwords.remove('nor')\n",
        "stopwords.remove('not')"
      ]
    },
    {
      "cell_type": "code",
      "execution_count": null,
      "metadata": {},
      "outputs": [],
      "source": [
        "pip install gensim"
      ]
    },
    {
      "cell_type": "code",
      "execution_count": 11,
      "metadata": {
        "id": "R9B_jzvVM1bD"
      },
      "outputs": [],
      "source": [
        "import contractions\n",
        "from gensim.utils import simple_preprocess\n",
        "from gensim.models import Word2Vec"
      ]
    },
    {
      "cell_type": "markdown",
      "metadata": {
        "id": "_1FB1swcCnPl"
      },
      "source": [
        "#Importing CSV File"
      ]
    },
    {
      "cell_type": "code",
      "execution_count": 12,
      "metadata": {
        "colab": {
          "base_uri": "https://localhost:8080/",
          "height": 285
        },
        "id": "y065bB0OCqGb",
        "outputId": "f3641e2a-7c04-42d0-b458-ff0f88f18a05"
      },
      "outputs": [
        {
          "name": "stdout",
          "output_type": "stream",
          "text": [
            "Columns present in the data:  ['ID', 'TITLE', 'ABSTRACT', 'Computer Science', 'Physics', 'Mathematics', 'Statistics', 'Quantitative Biology', 'Quantitative Finance']\n",
            "Number of data points:  20972\n"
          ]
        },
        {
          "data": {
            "text/html": [
              "<div>\n",
              "<style scoped>\n",
              "    .dataframe tbody tr th:only-of-type {\n",
              "        vertical-align: middle;\n",
              "    }\n",
              "\n",
              "    .dataframe tbody tr th {\n",
              "        vertical-align: top;\n",
              "    }\n",
              "\n",
              "    .dataframe thead th {\n",
              "        text-align: right;\n",
              "    }\n",
              "</style>\n",
              "<table border=\"1\" class=\"dataframe\">\n",
              "  <thead>\n",
              "    <tr style=\"text-align: right;\">\n",
              "      <th></th>\n",
              "      <th>ID</th>\n",
              "      <th>TITLE</th>\n",
              "      <th>ABSTRACT</th>\n",
              "      <th>Computer Science</th>\n",
              "      <th>Physics</th>\n",
              "      <th>Mathematics</th>\n",
              "      <th>Statistics</th>\n",
              "      <th>Quantitative Biology</th>\n",
              "      <th>Quantitative Finance</th>\n",
              "    </tr>\n",
              "  </thead>\n",
              "  <tbody>\n",
              "    <tr>\n",
              "      <th>0</th>\n",
              "      <td>1</td>\n",
              "      <td>Reconstructing Subject-Specific Effect Maps</td>\n",
              "      <td>Predictive models allow subject-specific inf...</td>\n",
              "      <td>1</td>\n",
              "      <td>0</td>\n",
              "      <td>0</td>\n",
              "      <td>0</td>\n",
              "      <td>0</td>\n",
              "      <td>0</td>\n",
              "    </tr>\n",
              "    <tr>\n",
              "      <th>1</th>\n",
              "      <td>2</td>\n",
              "      <td>Rotation Invariance Neural Network</td>\n",
              "      <td>Rotation invariance and translation invarian...</td>\n",
              "      <td>1</td>\n",
              "      <td>0</td>\n",
              "      <td>0</td>\n",
              "      <td>0</td>\n",
              "      <td>0</td>\n",
              "      <td>0</td>\n",
              "    </tr>\n",
              "    <tr>\n",
              "      <th>2</th>\n",
              "      <td>3</td>\n",
              "      <td>Spherical polyharmonics and Poisson kernels fo...</td>\n",
              "      <td>We introduce and develop the notion of spher...</td>\n",
              "      <td>0</td>\n",
              "      <td>0</td>\n",
              "      <td>1</td>\n",
              "      <td>0</td>\n",
              "      <td>0</td>\n",
              "      <td>0</td>\n",
              "    </tr>\n",
              "    <tr>\n",
              "      <th>3</th>\n",
              "      <td>4</td>\n",
              "      <td>A finite element approximation for the stochas...</td>\n",
              "      <td>The stochastic Landau--Lifshitz--Gilbert (LL...</td>\n",
              "      <td>0</td>\n",
              "      <td>0</td>\n",
              "      <td>1</td>\n",
              "      <td>0</td>\n",
              "      <td>0</td>\n",
              "      <td>0</td>\n",
              "    </tr>\n",
              "    <tr>\n",
              "      <th>4</th>\n",
              "      <td>5</td>\n",
              "      <td>Comparative study of Discrete Wavelet Transfor...</td>\n",
              "      <td>Fourier-transform infra-red (FTIR) spectra o...</td>\n",
              "      <td>1</td>\n",
              "      <td>0</td>\n",
              "      <td>0</td>\n",
              "      <td>1</td>\n",
              "      <td>0</td>\n",
              "      <td>0</td>\n",
              "    </tr>\n",
              "  </tbody>\n",
              "</table>\n",
              "</div>"
            ],
            "text/plain": [
              "   ID                                              TITLE  \\\n",
              "0   1        Reconstructing Subject-Specific Effect Maps   \n",
              "1   2                 Rotation Invariance Neural Network   \n",
              "2   3  Spherical polyharmonics and Poisson kernels fo...   \n",
              "3   4  A finite element approximation for the stochas...   \n",
              "4   5  Comparative study of Discrete Wavelet Transfor...   \n",
              "\n",
              "                                            ABSTRACT  Computer Science  \\\n",
              "0    Predictive models allow subject-specific inf...                 1   \n",
              "1    Rotation invariance and translation invarian...                 1   \n",
              "2    We introduce and develop the notion of spher...                 0   \n",
              "3    The stochastic Landau--Lifshitz--Gilbert (LL...                 0   \n",
              "4    Fourier-transform infra-red (FTIR) spectra o...                 1   \n",
              "\n",
              "   Physics  Mathematics  Statistics  Quantitative Biology  \\\n",
              "0        0            0           0                     0   \n",
              "1        0            0           0                     0   \n",
              "2        0            1           0                     0   \n",
              "3        0            1           0                     0   \n",
              "4        0            0           1                     0   \n",
              "\n",
              "   Quantitative Finance  \n",
              "0                     0  \n",
              "1                     0  \n",
              "2                     0  \n",
              "3                     0  \n",
              "4                     0  "
            ]
          },
          "execution_count": 12,
          "metadata": {},
          "output_type": "execute_result"
        }
      ],
      "source": [
        "train=pd.read_csv('train.csv')\n",
        "print(\"Columns present in the data: \",[i for i in train.columns])\n",
        "print(\"Number of data points: \",train.shape[0])\n",
        "train.head()"
      ]
    },
    {
      "cell_type": "code",
      "execution_count": 13,
      "metadata": {
        "colab": {
          "base_uri": "https://localhost:8080/",
          "height": 206
        },
        "id": "qbgtDocMDHLX",
        "outputId": "7b579ad6-3b23-412f-913f-f10f021c250b"
      },
      "outputs": [
        {
          "data": {
            "text/html": [
              "<div>\n",
              "<style scoped>\n",
              "    .dataframe tbody tr th:only-of-type {\n",
              "        vertical-align: middle;\n",
              "    }\n",
              "\n",
              "    .dataframe tbody tr th {\n",
              "        vertical-align: top;\n",
              "    }\n",
              "\n",
              "    .dataframe thead th {\n",
              "        text-align: right;\n",
              "    }\n",
              "</style>\n",
              "<table border=\"1\" class=\"dataframe\">\n",
              "  <thead>\n",
              "    <tr style=\"text-align: right;\">\n",
              "      <th></th>\n",
              "      <th>ID</th>\n",
              "      <th>TITLE</th>\n",
              "      <th>ABSTRACT</th>\n",
              "    </tr>\n",
              "  </thead>\n",
              "  <tbody>\n",
              "    <tr>\n",
              "      <th>0</th>\n",
              "      <td>20973</td>\n",
              "      <td>Closed-form Marginal Likelihood in Gamma-Poiss...</td>\n",
              "      <td>We present novel understandings of the Gamma...</td>\n",
              "    </tr>\n",
              "    <tr>\n",
              "      <th>1</th>\n",
              "      <td>20974</td>\n",
              "      <td>Laboratory mid-IR spectra of equilibrated and ...</td>\n",
              "      <td>Meteorites contain minerals from Solar Syste...</td>\n",
              "    </tr>\n",
              "    <tr>\n",
              "      <th>2</th>\n",
              "      <td>20975</td>\n",
              "      <td>Case For Static AMSDU Aggregation in WLANs</td>\n",
              "      <td>Frame aggregation is a mechanism by which mu...</td>\n",
              "    </tr>\n",
              "    <tr>\n",
              "      <th>3</th>\n",
              "      <td>20976</td>\n",
              "      <td>The $Gaia$-ESO Survey: the inner disk intermed...</td>\n",
              "      <td>Milky Way open clusters are very diverse in ...</td>\n",
              "    </tr>\n",
              "    <tr>\n",
              "      <th>4</th>\n",
              "      <td>20977</td>\n",
              "      <td>Witness-Functions versus Interpretation-Functi...</td>\n",
              "      <td>Proving that a cryptographic protocol is cor...</td>\n",
              "    </tr>\n",
              "  </tbody>\n",
              "</table>\n",
              "</div>"
            ],
            "text/plain": [
              "      ID                                              TITLE  \\\n",
              "0  20973  Closed-form Marginal Likelihood in Gamma-Poiss...   \n",
              "1  20974  Laboratory mid-IR spectra of equilibrated and ...   \n",
              "2  20975         Case For Static AMSDU Aggregation in WLANs   \n",
              "3  20976  The $Gaia$-ESO Survey: the inner disk intermed...   \n",
              "4  20977  Witness-Functions versus Interpretation-Functi...   \n",
              "\n",
              "                                            ABSTRACT  \n",
              "0    We present novel understandings of the Gamma...  \n",
              "1    Meteorites contain minerals from Solar Syste...  \n",
              "2    Frame aggregation is a mechanism by which mu...  \n",
              "3    Milky Way open clusters are very diverse in ...  \n",
              "4    Proving that a cryptographic protocol is cor...  "
            ]
          },
          "execution_count": 13,
          "metadata": {},
          "output_type": "execute_result"
        }
      ],
      "source": [
        "test=pd.read_csv('test.csv')\n",
        "test.head()"
      ]
    },
    {
      "cell_type": "code",
      "execution_count": 10,
      "metadata": {
        "id": "C3cFpD00DQTM"
      },
      "outputs": [],
      "source": [
        "# sample=pd.read_csv('/content/sample_submission.csv')\n",
        "# sample.head()"
      ]
    },
    {
      "cell_type": "markdown",
      "metadata": {
        "id": "ehguoKTSuOcI"
      },
      "source": [
        "#Preprocessing"
      ]
    },
    {
      "cell_type": "markdown",
      "metadata": {
        "id": "udhSVoicuRB1"
      },
      "source": [
        "##Drop Duplicates"
      ]
    },
    {
      "cell_type": "code",
      "execution_count": 15,
      "metadata": {
        "colab": {
          "base_uri": "https://localhost:8080/"
        },
        "id": "31FqU1KQuQFI",
        "outputId": "a34aff11-a4c1-41da-830d-4f6dcea28b0f"
      },
      "outputs": [
        {
          "name": "stdout",
          "output_type": "stream",
          "text": [
            "Number of new data points:  20972\n"
          ]
        }
      ],
      "source": [
        "train.drop_duplicates(subset = 'TITLE', inplace = True)\n",
        "print(\"Number of new data points: \",train.shape[0])"
      ]
    },
    {
      "cell_type": "markdown",
      "metadata": {
        "id": "wjCFKim7urLi"
      },
      "source": [
        "*There are no duplicates*"
      ]
    },
    {
      "cell_type": "markdown",
      "metadata": {
        "id": "glP0MRIhuvDT"
      },
      "source": [
        "##Visualization"
      ]
    },
    {
      "cell_type": "code",
      "execution_count": 16,
      "metadata": {
        "colab": {
          "base_uri": "https://localhost:8080/"
        },
        "id": "e8F5Y3bwuugv",
        "outputId": "2692ecc4-bb07-4bbe-de87-3c2312114a41"
      },
      "outputs": [
        {
          "name": "stdout",
          "output_type": "stream",
          "text": [
            "Computer Science        8594\n",
            "Physics                 6013\n",
            "Mathematics             5618\n",
            "Statistics              5206\n",
            "Quantitative Biology     587\n",
            "Quantitative Finance     249\n",
            "dtype: int64\n"
          ]
        }
      ],
      "source": [
        "print(train.iloc[:,3:].sum())"
      ]
    },
    {
      "cell_type": "code",
      "execution_count": 17,
      "metadata": {
        "colab": {
          "base_uri": "https://localhost:8080/",
          "height": 0
        },
        "id": "-k0oNjKCwYzb",
        "outputId": "01c28a7b-ea96-4e27-b3a9-f234965449c3"
      },
      "outputs": [
        {
          "data": {
            "image/png": "[encoded data removed]",
            "text/plain": [
              "<Figure size 720x576 with 1 Axes>"
            ]
          },
          "metadata": {
            "needs_background": "light"
          },
          "output_type": "display_data"
        }
      ],
      "source": [
        "plt.figure(figsize=(10, 8))\n",
        "plt.title (\"Number of books for each subject\")\n",
        "sns.barplot(train.iloc[:,3:].columns, train.iloc[:,3:].sum())\n",
        "plt.show()"
      ]
    },
    {
      "cell_type": "code",
      "execution_count": 18,
      "metadata": {
        "id": "oYbU6D3fx3Mk"
      },
      "outputs": [],
      "source": [
        "totaltags = []\n",
        "for i in range(train.shape[0]):\n",
        "  count = 0\n",
        "  for j in range(3,9):\n",
        "    # print(j)\n",
        "    if train.iloc[i,j] == 1:\n",
        "      count = count + 1\n",
        "  totaltags.append(count)"
      ]
    },
    {
      "cell_type": "code",
      "execution_count": 19,
      "metadata": {
        "colab": {
          "base_uri": "https://localhost:8080/",
          "height": 0
        },
        "id": "MEfuIo_Wz5Kh",
        "outputId": "6a6fb6a0-4f31-47bb-b5ec-97bb6a7ef24e"
      },
      "outputs": [
        {
          "data": {
            "text/html": [
              "\n",
              "  <div id=\"df-43620111-1c1a-48c7-905a-f26b297d5f87\">\n",
              "    <div class=\"colab-df-container\">\n",
              "      <div>\n",
              "<style scoped>\n",
              "    .dataframe tbody tr th:only-of-type {\n",
              "        vertical-align: middle;\n",
              "    }\n",
              "\n",
              "    .dataframe tbody tr th {\n",
              "        vertical-align: top;\n",
              "    }\n",
              "\n",
              "    .dataframe thead th {\n",
              "        text-align: right;\n",
              "    }\n",
              "</style>\n",
              "<table border=\"1\" class=\"dataframe\">\n",
              "  <thead>\n",
              "    <tr style=\"text-align: right;\">\n",
              "      <th></th>\n",
              "      <th>ID</th>\n",
              "      <th>TITLE</th>\n",
              "      <th>ABSTRACT</th>\n",
              "      <th>Computer Science</th>\n",
              "      <th>Physics</th>\n",
              "      <th>Mathematics</th>\n",
              "      <th>Statistics</th>\n",
              "      <th>Quantitative Biology</th>\n",
              "      <th>Quantitative Finance</th>\n",
              "      <th>tag_count</th>\n",
              "    </tr>\n",
              "  </thead>\n",
              "  <tbody>\n",
              "    <tr>\n",
              "      <th>0</th>\n",
              "      <td>1</td>\n",
              "      <td>Reconstructing Subject-Specific Effect Maps</td>\n",
              "      <td>Predictive models allow subject-specific inf...</td>\n",
              "      <td>1</td>\n",
              "      <td>0</td>\n",
              "      <td>0</td>\n",
              "      <td>0</td>\n",
              "      <td>0</td>\n",
              "      <td>0</td>\n",
              "      <td>1</td>\n",
              "    </tr>\n",
              "    <tr>\n",
              "      <th>1</th>\n",
              "      <td>2</td>\n",
              "      <td>Rotation Invariance Neural Network</td>\n",
              "      <td>Rotation invariance and translation invarian...</td>\n",
              "      <td>1</td>\n",
              "      <td>0</td>\n",
              "      <td>0</td>\n",
              "      <td>0</td>\n",
              "      <td>0</td>\n",
              "      <td>0</td>\n",
              "      <td>1</td>\n",
              "    </tr>\n",
              "    <tr>\n",
              "      <th>2</th>\n",
              "      <td>3</td>\n",
              "      <td>Spherical polyharmonics and Poisson kernels fo...</td>\n",
              "      <td>We introduce and develop the notion of spher...</td>\n",
              "      <td>0</td>\n",
              "      <td>0</td>\n",
              "      <td>1</td>\n",
              "      <td>0</td>\n",
              "      <td>0</td>\n",
              "      <td>0</td>\n",
              "      <td>1</td>\n",
              "    </tr>\n",
              "    <tr>\n",
              "      <th>3</th>\n",
              "      <td>4</td>\n",
              "      <td>A finite element approximation for the stochas...</td>\n",
              "      <td>The stochastic Landau--Lifshitz--Gilbert (LL...</td>\n",
              "      <td>0</td>\n",
              "      <td>0</td>\n",
              "      <td>1</td>\n",
              "      <td>0</td>\n",
              "      <td>0</td>\n",
              "      <td>0</td>\n",
              "      <td>1</td>\n",
              "    </tr>\n",
              "    <tr>\n",
              "      <th>4</th>\n",
              "      <td>5</td>\n",
              "      <td>Comparative study of Discrete Wavelet Transfor...</td>\n",
              "      <td>Fourier-transform infra-red (FTIR) spectra o...</td>\n",
              "      <td>1</td>\n",
              "      <td>0</td>\n",
              "      <td>0</td>\n",
              "      <td>1</td>\n",
              "      <td>0</td>\n",
              "      <td>0</td>\n",
              "      <td>2</td>\n",
              "    </tr>\n",
              "  </tbody>\n",
              "</table>\n",
              "</div>\n",
              "      <button class=\"colab-df-convert\" onclick=\"convertToInteractive('df-43620111-1c1a-48c7-905a-f26b297d5f87')\"\n",
              "              title=\"Convert this dataframe to an interactive table.\"\n",
              "              style=\"display:none;\">\n",
              "        \n",
              "  <svg xmlns=\"http://www.w3.org/2000/svg\" height=\"24px\"viewBox=\"0 0 24 24\"\n",
              "       width=\"24px\">\n",
              "    <path d=\"M0 0h24v24H0V0z\" fill=\"none\"/>\n",
              "    <path d=\"M18.56 5.44l.94 2.06.94-2.06 2.06-.94-2.06-.94-.94-2.06-.94 2.06-2.06.94zm-11 1L8.5 8.5l.94-2.06 2.06-.94-2.06-.94L8.5 2.5l-.94 2.06-2.06.94zm10 10l.94 2.06.94-2.06 2.06-.94-2.06-.94-.94-2.06-.94 2.06-2.06.94z\"/><path d=\"M17.41 7.96l-1.37-1.37c-.4-.4-.92-.59-1.43-.59-.52 0-1.04.2-1.43.59L10.3 9.45l-7.72 7.72c-.78.78-.78 2.05 0 2.83L4 21.41c.39.39.9.59 1.41.59.51 0 1.02-.2 1.41-.59l7.78-7.78 2.81-2.81c.8-.78.8-2.07 0-2.86zM5.41 20L4 18.59l7.72-7.72 1.47 1.35L5.41 20z\"/>\n",
              "  </svg>\n",
              "      </button>\n",
              "      \n",
              "  <style>\n",
              "    .colab-df-container {\n",
              "      display:flex;\n",
              "      flex-wrap:wrap;\n",
              "      gap: 12px;\n",
              "    }\n",
              "\n",
              "    .colab-df-convert {\n",
              "      background-color: #E8F0FE;\n",
              "      border: none;\n",
              "      border-radius: 50%;\n",
              "      cursor: pointer;\n",
              "      display: none;\n",
              "      fill: #1967D2;\n",
              "      height: 32px;\n",
              "      padding: 0 0 0 0;\n",
              "      width: 32px;\n",
              "    }\n",
              "\n",
              "    .colab-df-convert:hover {\n",
              "      background-color: #E2EBFA;\n",
              "      box-shadow: 0px 1px 2px rgba(60, 64, 67, 0.3), 0px 1px 3px 1px rgba(60, 64, 67, 0.15);\n",
              "      fill: #174EA6;\n",
              "    }\n",
              "\n",
              "    [theme=dark] .colab-df-convert {\n",
              "      background-color: #3B4455;\n",
              "      fill: #D2E3FC;\n",
              "    }\n",
              "\n",
              "    [theme=dark] .colab-df-convert:hover {\n",
              "      background-color: #434B5C;\n",
              "      box-shadow: 0px 1px 3px 1px rgba(0, 0, 0, 0.15);\n",
              "      filter: drop-shadow(0px 1px 2px rgba(0, 0, 0, 0.3));\n",
              "      fill: #FFFFFF;\n",
              "    }\n",
              "  </style>\n",
              "\n",
              "      <script>\n",
              "        const buttonEl =\n",
              "          document.querySelector('#df-43620111-1c1a-48c7-905a-f26b297d5f87 button.colab-df-convert');\n",
              "        buttonEl.style.display =\n",
              "          google.colab.kernel.accessAllowed ? 'block' : 'none';\n",
              "\n",
              "        async function convertToInteractive(key) {\n",
              "          const element = document.querySelector('#df-43620111-1c1a-48c7-905a-f26b297d5f87');\n",
              "          const dataTable =\n",
              "            await google.colab.kernel.invokeFunction('convertToInteractive',\n",
              "                                                     [key], {});\n",
              "          if (!dataTable) return;\n",
              "\n",
              "          const docLinkHtml = 'Like what you see? Visit the ' +\n",
              "            '<a target=\"_blank\" href=https://colab.research.google.com/notebooks/data_table.ipynb>data table notebook</a>'\n",
              "            + ' to learn more about interactive tables.';\n",
              "          element.innerHTML = '';\n",
              "          dataTable['output_type'] = 'display_data';\n",
              "          await google.colab.output.renderOutput(dataTable, element);\n",
              "          const docLink = document.createElement('div');\n",
              "          docLink.innerHTML = docLinkHtml;\n",
              "          element.appendChild(docLink);\n",
              "        }\n",
              "      </script>\n",
              "    </div>\n",
              "  </div>\n",
              "  "
            ],
            "text/plain": [
              "   ID                                              TITLE  \\\n",
              "0   1        Reconstructing Subject-Specific Effect Maps   \n",
              "1   2                 Rotation Invariance Neural Network   \n",
              "2   3  Spherical polyharmonics and Poisson kernels fo...   \n",
              "3   4  A finite element approximation for the stochas...   \n",
              "4   5  Comparative study of Discrete Wavelet Transfor...   \n",
              "\n",
              "                                            ABSTRACT  Computer Science  \\\n",
              "0    Predictive models allow subject-specific inf...                 1   \n",
              "1    Rotation invariance and translation invarian...                 1   \n",
              "2    We introduce and develop the notion of spher...                 0   \n",
              "3    The stochastic Landau--Lifshitz--Gilbert (LL...                 0   \n",
              "4    Fourier-transform infra-red (FTIR) spectra o...                 1   \n",
              "\n",
              "   Physics  Mathematics  Statistics  Quantitative Biology  \\\n",
              "0        0            0           0                     0   \n",
              "1        0            0           0                     0   \n",
              "2        0            1           0                     0   \n",
              "3        0            1           0                     0   \n",
              "4        0            0           1                     0   \n",
              "\n",
              "   Quantitative Finance  tag_count  \n",
              "0                     0          1  \n",
              "1                     0          1  \n",
              "2                     0          1  \n",
              "3                     0          1  \n",
              "4                     0          2  "
            ]
          },
          "execution_count": 19,
          "metadata": {},
          "output_type": "execute_result"
        }
      ],
      "source": [
        "train['tag_count'] = totaltags\n",
        "train.head()"
      ]
    },
    {
      "cell_type": "code",
      "execution_count": 20,
      "metadata": {
        "colab": {
          "base_uri": "https://localhost:8080/",
          "height": 0
        },
        "id": "aCSFNOtVxGpj",
        "outputId": "34519e66-5b06-484b-cd37-3b70b08f7186"
      },
      "outputs": [
        {
          "data": {
            "image/png": "[encoded data removed]",
            "text/plain": [
              "<Figure size 720x360 with 1 Axes>"
            ]
          },
          "metadata": {
            "needs_background": "light"
          },
          "output_type": "display_data"
        }
      ],
      "source": [
        "plt.figure(figsize=(10,5))\n",
        "sns.countplot(train.tag_count, palette='gist_rainbow')\n",
        "plt.title(\"Distribution of the number of tags per movie\")\n",
        "plt.xlabel(\"Number of Tags\")\n",
        "plt.ylabel(\"Number of Movies\")\n",
        "plt.show()"
      ]
    },
    {
      "cell_type": "code",
      "execution_count": 21,
      "metadata": {
        "colab": {
          "base_uri": "https://localhost:8080/"
        },
        "id": "zlXVa0320dOT",
        "outputId": "706ce0d6-ee5c-4559-88f9-c1691425e370"
      },
      "outputs": [
        {
          "data": {
            "text/plain": [
              "1    15928\n",
              "2     4793\n",
              "3      251\n",
              "Name: tag_count, dtype: int64"
            ]
          },
          "execution_count": 21,
          "metadata": {},
          "output_type": "execute_result"
        }
      ],
      "source": [
        "train.tag_count.value_counts()"
      ]
    },
    {
      "cell_type": "code",
      "execution_count": 22,
      "metadata": {
        "colab": {
          "base_uri": "https://localhost:8080/"
        },
        "id": "nZmb5nHh0gHs",
        "outputId": "6cea35b8-9321-4a9c-86b2-ff7a488e7a0d"
      },
      "outputs": [
        {
          "name": "stdout",
          "output_type": "stream",
          "text": [
            "Maximum number of tags per book  3\n",
            "Minimum number of tags per book  1\n",
            "Avg number of tags per book  1.2524794964714858\n"
          ]
        }
      ],
      "source": [
        "print('Maximum number of tags per book ', max(totaltags))\n",
        "print('Minimum number of tags per book ', min(totaltags))\n",
        "print('Avg number of tags per book ', (sum(totaltags) * 1.0/ len(totaltags)))"
      ]
    },
    {
      "cell_type": "code",
      "execution_count": 23,
      "metadata": {
        "colab": {
          "base_uri": "https://localhost:8080/",
          "height": 0
        },
        "id": "sfKJutJX2Wmo",
        "outputId": "bc9f34dc-cdcf-4031-cd02-40088d3bba87"
      },
      "outputs": [
        {
          "data": {
            "text/html": [
              "\n",
              "  <div id=\"df-634d4bc8-0258-43c6-b244-80e7e66693a9\">\n",
              "    <div class=\"colab-df-container\">\n",
              "      <div>\n",
              "<style scoped>\n",
              "    .dataframe tbody tr th:only-of-type {\n",
              "        vertical-align: middle;\n",
              "    }\n",
              "\n",
              "    .dataframe tbody tr th {\n",
              "        vertical-align: top;\n",
              "    }\n",
              "\n",
              "    .dataframe thead th {\n",
              "        text-align: right;\n",
              "    }\n",
              "</style>\n",
              "<table border=\"1\" class=\"dataframe\">\n",
              "  <thead>\n",
              "    <tr style=\"text-align: right;\">\n",
              "      <th></th>\n",
              "      <th>Length_Title</th>\n",
              "      <th>Length_Abstract</th>\n",
              "      <th>count_Abstract_http</th>\n",
              "      <th>count_Abstract_href</th>\n",
              "      <th>count_Abstract_grtsign</th>\n",
              "    </tr>\n",
              "  </thead>\n",
              "  <tbody>\n",
              "    <tr>\n",
              "      <th>0</th>\n",
              "      <td>43</td>\n",
              "      <td>1912</td>\n",
              "      <td>0</td>\n",
              "      <td>0</td>\n",
              "      <td>0</td>\n",
              "    </tr>\n",
              "    <tr>\n",
              "      <th>1</th>\n",
              "      <td>34</td>\n",
              "      <td>513</td>\n",
              "      <td>0</td>\n",
              "      <td>0</td>\n",
              "      <td>0</td>\n",
              "    </tr>\n",
              "    <tr>\n",
              "      <th>2</th>\n",
              "      <td>70</td>\n",
              "      <td>668</td>\n",
              "      <td>0</td>\n",
              "      <td>0</td>\n",
              "      <td>0</td>\n",
              "    </tr>\n",
              "  </tbody>\n",
              "</table>\n",
              "</div>\n",
              "      <button class=\"colab-df-convert\" onclick=\"convertToInteractive('df-634d4bc8-0258-43c6-b244-80e7e66693a9')\"\n",
              "              title=\"Convert this dataframe to an interactive table.\"\n",
              "              style=\"display:none;\">\n",
              "        \n",
              "  <svg xmlns=\"http://www.w3.org/2000/svg\" height=\"24px\"viewBox=\"0 0 24 24\"\n",
              "       width=\"24px\">\n",
              "    <path d=\"M0 0h24v24H0V0z\" fill=\"none\"/>\n",
              "    <path d=\"M18.56 5.44l.94 2.06.94-2.06 2.06-.94-2.06-.94-.94-2.06-.94 2.06-2.06.94zm-11 1L8.5 8.5l.94-2.06 2.06-.94-2.06-.94L8.5 2.5l-.94 2.06-2.06.94zm10 10l.94 2.06.94-2.06 2.06-.94-2.06-.94-.94-2.06-.94 2.06-2.06.94z\"/><path d=\"M17.41 7.96l-1.37-1.37c-.4-.4-.92-.59-1.43-.59-.52 0-1.04.2-1.43.59L10.3 9.45l-7.72 7.72c-.78.78-.78 2.05 0 2.83L4 21.41c.39.39.9.59 1.41.59.51 0 1.02-.2 1.41-.59l7.78-7.78 2.81-2.81c.8-.78.8-2.07 0-2.86zM5.41 20L4 18.59l7.72-7.72 1.47 1.35L5.41 20z\"/>\n",
              "  </svg>\n",
              "      </button>\n",
              "      \n",
              "  <style>\n",
              "    .colab-df-container {\n",
              "      display:flex;\n",
              "      flex-wrap:wrap;\n",
              "      gap: 12px;\n",
              "    }\n",
              "\n",
              "    .colab-df-convert {\n",
              "      background-color: #E8F0FE;\n",
              "      border: none;\n",
              "      border-radius: 50%;\n",
              "      cursor: pointer;\n",
              "      display: none;\n",
              "      fill: #1967D2;\n",
              "      height: 32px;\n",
              "      padding: 0 0 0 0;\n",
              "      width: 32px;\n",
              "    }\n",
              "\n",
              "    .colab-df-convert:hover {\n",
              "      background-color: #E2EBFA;\n",
              "      box-shadow: 0px 1px 2px rgba(60, 64, 67, 0.3), 0px 1px 3px 1px rgba(60, 64, 67, 0.15);\n",
              "      fill: #174EA6;\n",
              "    }\n",
              "\n",
              "    [theme=dark] .colab-df-convert {\n",
              "      background-color: #3B4455;\n",
              "      fill: #D2E3FC;\n",
              "    }\n",
              "\n",
              "    [theme=dark] .colab-df-convert:hover {\n",
              "      background-color: #434B5C;\n",
              "      box-shadow: 0px 1px 3px 1px rgba(0, 0, 0, 0.15);\n",
              "      filter: drop-shadow(0px 1px 2px rgba(0, 0, 0, 0.3));\n",
              "      fill: #FFFFFF;\n",
              "    }\n",
              "  </style>\n",
              "\n",
              "      <script>\n",
              "        const buttonEl =\n",
              "          document.querySelector('#df-634d4bc8-0258-43c6-b244-80e7e66693a9 button.colab-df-convert');\n",
              "        buttonEl.style.display =\n",
              "          google.colab.kernel.accessAllowed ? 'block' : 'none';\n",
              "\n",
              "        async function convertToInteractive(key) {\n",
              "          const element = document.querySelector('#df-634d4bc8-0258-43c6-b244-80e7e66693a9');\n",
              "          const dataTable =\n",
              "            await google.colab.kernel.invokeFunction('convertToInteractive',\n",
              "                                                     [key], {});\n",
              "          if (!dataTable) return;\n",
              "\n",
              "          const docLinkHtml = 'Like what you see? Visit the ' +\n",
              "            '<a target=\"_blank\" href=https://colab.research.google.com/notebooks/data_table.ipynb>data table notebook</a>'\n",
              "            + ' to learn more about interactive tables.';\n",
              "          element.innerHTML = '';\n",
              "          dataTable['output_type'] = 'display_data';\n",
              "          await google.colab.output.renderOutput(dataTable, element);\n",
              "          const docLink = document.createElement('div');\n",
              "          docLink.innerHTML = docLinkHtml;\n",
              "          element.appendChild(docLink);\n",
              "        }\n",
              "      </script>\n",
              "    </div>\n",
              "  </div>\n",
              "  "
            ],
            "text/plain": [
              "   Length_Title  Length_Abstract  count_Abstract_http  count_Abstract_href  \\\n",
              "0            43             1912                    0                    0   \n",
              "1            34              513                    0                    0   \n",
              "2            70              668                    0                    0   \n",
              "\n",
              "   count_Abstract_grtsign  \n",
              "0                       0  \n",
              "1                       0  \n",
              "2                       0  "
            ]
          },
          "execution_count": 23,
          "metadata": {},
          "output_type": "execute_result"
        }
      ],
      "source": [
        "#Utiliy functions for feature extraction\n",
        "#Returns the count of 'http' elements present in a string. Return 0 otherwise.\n",
        "def count_http(string):\n",
        "    if string.__contains__(\"http\"):\n",
        "        return string.count(\"http\")\n",
        "    else:\n",
        "        return int(0)\n",
        "#Returns the number of times a reference link is present in a string\n",
        "def count_href(string):\n",
        "    if string.__contains__(\"a href\"):\n",
        "        return string.count(\"a href\")\n",
        "    else:\n",
        "        return int(0)\n",
        "    \n",
        "#Number of times a greater than sign appears in a string    \n",
        "def count_greater(string):\n",
        "    if string.__contains__(\">\"):\n",
        "        return string.count(\">\")\n",
        "    else:\n",
        "        return int(0)\n",
        "#Simple feature engineering\n",
        "basic_feats = pd.DataFrame()\n",
        "basic_feats[\"Length_Title\"] = train['TITLE'].apply(lambda x: len(str(x))) #Length of RAW Title text\n",
        "basic_feats[\"Length_Abstract\"] = train['ABSTRACT'].apply(lambda x: len(str(x))) #Length of RAW body text\n",
        "basic_feats['count_Abstract_http'] = train['ABSTRACT'].apply(lambda x: count_http(str(x))) #Lazy way to count the number of URLs present in a body text. Not 100% accurate, but close enough\n",
        "basic_feats['count_Abstract_href'] = train['ABSTRACT'].apply(lambda x: count_href(str(x))) #Lazy way to count the reference to an externel site. Not 100% accurate, but close enough\n",
        "basic_feats['count_Abstract_grtsign'] = train['ABSTRACT'].apply(lambda x: count_greater(str(x))) #Very lazy way to count html tags present in a string. Not 100% accurate, but close enough\n",
        "#Save the dataset containing basic features\n",
        "basic_feats.to_csv('basic_feats.csv', columns=basic_feats.columns)\n",
        "basic_feats.head(3)"
      ]
    },
    {
      "cell_type": "code",
      "execution_count": 24,
      "metadata": {
        "colab": {
          "base_uri": "https://localhost:8080/",
          "height": 0
        },
        "id": "4oUbjc1Z21Pz",
        "outputId": "29bfb1e6-d415-4a6f-ae91-f9a72f0450d9"
      },
      "outputs": [
        {
          "data": {
            "text/html": [
              "\n",
              "  <div id=\"df-db1b6363-1eb8-4047-963f-bf4473216e9f\">\n",
              "    <div class=\"colab-df-container\">\n",
              "      <div>\n",
              "<style scoped>\n",
              "    .dataframe tbody tr th:only-of-type {\n",
              "        vertical-align: middle;\n",
              "    }\n",
              "\n",
              "    .dataframe tbody tr th {\n",
              "        vertical-align: top;\n",
              "    }\n",
              "\n",
              "    .dataframe thead th {\n",
              "        text-align: right;\n",
              "    }\n",
              "</style>\n",
              "<table border=\"1\" class=\"dataframe\">\n",
              "  <thead>\n",
              "    <tr style=\"text-align: right;\">\n",
              "      <th></th>\n",
              "      <th>Length_Title</th>\n",
              "      <th>Length_Abstract</th>\n",
              "      <th>count_Abstract_http</th>\n",
              "      <th>count_Abstract_href</th>\n",
              "      <th>count_Abstract_grtsign</th>\n",
              "    </tr>\n",
              "  </thead>\n",
              "  <tbody>\n",
              "    <tr>\n",
              "      <th>count</th>\n",
              "      <td>20972.000000</td>\n",
              "      <td>20972.000000</td>\n",
              "      <td>20972.000000</td>\n",
              "      <td>20972.0</td>\n",
              "      <td>20972.000000</td>\n",
              "    </tr>\n",
              "    <tr>\n",
              "      <th>mean</th>\n",
              "      <td>72.897721</td>\n",
              "      <td>1009.103376</td>\n",
              "      <td>0.010681</td>\n",
              "      <td>0.0</td>\n",
              "      <td>0.041436</td>\n",
              "    </tr>\n",
              "    <tr>\n",
              "      <th>std</th>\n",
              "      <td>26.128903</td>\n",
              "      <td>408.641363</td>\n",
              "      <td>0.113805</td>\n",
              "      <td>0.0</td>\n",
              "      <td>0.278879</td>\n",
              "    </tr>\n",
              "    <tr>\n",
              "      <th>min</th>\n",
              "      <td>7.000000</td>\n",
              "      <td>7.000000</td>\n",
              "      <td>0.000000</td>\n",
              "      <td>0.0</td>\n",
              "      <td>0.000000</td>\n",
              "    </tr>\n",
              "    <tr>\n",
              "      <th>25%</th>\n",
              "      <td>54.000000</td>\n",
              "      <td>714.000000</td>\n",
              "      <td>0.000000</td>\n",
              "      <td>0.0</td>\n",
              "      <td>0.000000</td>\n",
              "    </tr>\n",
              "    <tr>\n",
              "      <th>50%</th>\n",
              "      <td>71.000000</td>\n",
              "      <td>989.000000</td>\n",
              "      <td>0.000000</td>\n",
              "      <td>0.0</td>\n",
              "      <td>0.000000</td>\n",
              "    </tr>\n",
              "    <tr>\n",
              "      <th>75%</th>\n",
              "      <td>88.000000</td>\n",
              "      <td>1290.000000</td>\n",
              "      <td>0.000000</td>\n",
              "      <td>0.0</td>\n",
              "      <td>0.000000</td>\n",
              "    </tr>\n",
              "    <tr>\n",
              "      <th>max</th>\n",
              "      <td>239.000000</td>\n",
              "      <td>2761.000000</td>\n",
              "      <td>5.000000</td>\n",
              "      <td>0.0</td>\n",
              "      <td>8.000000</td>\n",
              "    </tr>\n",
              "  </tbody>\n",
              "</table>\n",
              "</div>\n",
              "      <button class=\"colab-df-convert\" onclick=\"convertToInteractive('df-db1b6363-1eb8-4047-963f-bf4473216e9f')\"\n",
              "              title=\"Convert this dataframe to an interactive table.\"\n",
              "              style=\"display:none;\">\n",
              "        \n",
              "  <svg xmlns=\"http://www.w3.org/2000/svg\" height=\"24px\"viewBox=\"0 0 24 24\"\n",
              "       width=\"24px\">\n",
              "    <path d=\"M0 0h24v24H0V0z\" fill=\"none\"/>\n",
              "    <path d=\"M18.56 5.44l.94 2.06.94-2.06 2.06-.94-2.06-.94-.94-2.06-.94 2.06-2.06.94zm-11 1L8.5 8.5l.94-2.06 2.06-.94-2.06-.94L8.5 2.5l-.94 2.06-2.06.94zm10 10l.94 2.06.94-2.06 2.06-.94-2.06-.94-.94-2.06-.94 2.06-2.06.94z\"/><path d=\"M17.41 7.96l-1.37-1.37c-.4-.4-.92-.59-1.43-.59-.52 0-1.04.2-1.43.59L10.3 9.45l-7.72 7.72c-.78.78-.78 2.05 0 2.83L4 21.41c.39.39.9.59 1.41.59.51 0 1.02-.2 1.41-.59l7.78-7.78 2.81-2.81c.8-.78.8-2.07 0-2.86zM5.41 20L4 18.59l7.72-7.72 1.47 1.35L5.41 20z\"/>\n",
              "  </svg>\n",
              "      </button>\n",
              "      \n",
              "  <style>\n",
              "    .colab-df-container {\n",
              "      display:flex;\n",
              "      flex-wrap:wrap;\n",
              "      gap: 12px;\n",
              "    }\n",
              "\n",
              "    .colab-df-convert {\n",
              "      background-color: #E8F0FE;\n",
              "      border: none;\n",
              "      border-radius: 50%;\n",
              "      cursor: pointer;\n",
              "      display: none;\n",
              "      fill: #1967D2;\n",
              "      height: 32px;\n",
              "      padding: 0 0 0 0;\n",
              "      width: 32px;\n",
              "    }\n",
              "\n",
              "    .colab-df-convert:hover {\n",
              "      background-color: #E2EBFA;\n",
              "      box-shadow: 0px 1px 2px rgba(60, 64, 67, 0.3), 0px 1px 3px 1px rgba(60, 64, 67, 0.15);\n",
              "      fill: #174EA6;\n",
              "    }\n",
              "\n",
              "    [theme=dark] .colab-df-convert {\n",
              "      background-color: #3B4455;\n",
              "      fill: #D2E3FC;\n",
              "    }\n",
              "\n",
              "    [theme=dark] .colab-df-convert:hover {\n",
              "      background-color: #434B5C;\n",
              "      box-shadow: 0px 1px 3px 1px rgba(0, 0, 0, 0.15);\n",
              "      filter: drop-shadow(0px 1px 2px rgba(0, 0, 0, 0.3));\n",
              "      fill: #FFFFFF;\n",
              "    }\n",
              "  </style>\n",
              "\n",
              "      <script>\n",
              "        const buttonEl =\n",
              "          document.querySelector('#df-db1b6363-1eb8-4047-963f-bf4473216e9f button.colab-df-convert');\n",
              "        buttonEl.style.display =\n",
              "          google.colab.kernel.accessAllowed ? 'block' : 'none';\n",
              "\n",
              "        async function convertToInteractive(key) {\n",
              "          const element = document.querySelector('#df-db1b6363-1eb8-4047-963f-bf4473216e9f');\n",
              "          const dataTable =\n",
              "            await google.colab.kernel.invokeFunction('convertToInteractive',\n",
              "                                                     [key], {});\n",
              "          if (!dataTable) return;\n",
              "\n",
              "          const docLinkHtml = 'Like what you see? Visit the ' +\n",
              "            '<a target=\"_blank\" href=https://colab.research.google.com/notebooks/data_table.ipynb>data table notebook</a>'\n",
              "            + ' to learn more about interactive tables.';\n",
              "          element.innerHTML = '';\n",
              "          dataTable['output_type'] = 'display_data';\n",
              "          await google.colab.output.renderOutput(dataTable, element);\n",
              "          const docLink = document.createElement('div');\n",
              "          docLink.innerHTML = docLinkHtml;\n",
              "          element.appendChild(docLink);\n",
              "        }\n",
              "      </script>\n",
              "    </div>\n",
              "  </div>\n",
              "  "
            ],
            "text/plain": [
              "       Length_Title  Length_Abstract  count_Abstract_http  \\\n",
              "count  20972.000000     20972.000000         20972.000000   \n",
              "mean      72.897721      1009.103376             0.010681   \n",
              "std       26.128903       408.641363             0.113805   \n",
              "min        7.000000         7.000000             0.000000   \n",
              "25%       54.000000       714.000000             0.000000   \n",
              "50%       71.000000       989.000000             0.000000   \n",
              "75%       88.000000      1290.000000             0.000000   \n",
              "max      239.000000      2761.000000             5.000000   \n",
              "\n",
              "       count_Abstract_href  count_Abstract_grtsign  \n",
              "count              20972.0            20972.000000  \n",
              "mean                   0.0                0.041436  \n",
              "std                    0.0                0.278879  \n",
              "min                    0.0                0.000000  \n",
              "25%                    0.0                0.000000  \n",
              "50%                    0.0                0.000000  \n",
              "75%                    0.0                0.000000  \n",
              "max                    0.0                8.000000  "
            ]
          },
          "execution_count": 24,
          "metadata": {},
          "output_type": "execute_result"
        }
      ],
      "source": [
        "#Get a high level stats of the given dataset\n",
        "basic_feats.describe()"
      ]
    },
    {
      "cell_type": "code",
      "execution_count": 25,
      "metadata": {
        "colab": {
          "base_uri": "https://localhost:8080/"
        },
        "id": "e9i1Fk95236V",
        "outputId": "e0f30860-dd1f-495b-dec0-4ed602d1e7c5"
      },
      "outputs": [
        {
          "name": "stdout",
          "output_type": "stream",
          "text": [
            "Percentage of movie plots which does not have any http referrence URL in the body text: 99.02%\n",
            "Percentage of movie plots which does not have any external reference: 0.00%\n"
          ]
        }
      ],
      "source": [
        "#Get the percentage of movies which does not have a http referrence included in their body\n",
        "zero = basic_feats[basic_feats['count_Abstract_http'] == 0].shape[0]\n",
        "per = (zero/basic_feats.shape[0]) * 100\n",
        "print(\"Percentage of movie plots which does not have any http referrence URL in the body text: {:.2f}%\".format(per))\n",
        "#Get the percentage of questions which are provided with external reference links in their body text\n",
        "zero = basic_feats[basic_feats['count_Abstract_href'] == 0].shape[0]\n",
        "per = (1-zero/basic_feats.shape[0]) * 100\n",
        "print(\"Percentage of movie plots which does not have any external reference: {:.2f}%\".format(per))"
      ]
    },
    {
      "cell_type": "code",
      "execution_count": 26,
      "metadata": {
        "colab": {
          "base_uri": "https://localhost:8080/",
          "height": 0
        },
        "id": "w27usnWx3ULS",
        "outputId": "f116c786-231c-4d45-ba56-02c10c2466d2"
      },
      "outputs": [
        {
          "data": {
            "image/png": "[encoded data removed]",
            "text/plain": [
              "<Figure size 2160x576 with 3 Axes>"
            ]
          },
          "metadata": {
            "needs_background": "light"
          },
          "output_type": "display_data"
        }
      ],
      "source": [
        "#Draw only PDF \n",
        "plt.figure(figsize=(30, 8))\n",
        "plt.subplot(1,3,1)\n",
        "sns.distplot([basic_feats['Length_Title']], color = 'red', axlabel=\"Distribution of Length of raw title text\")\n",
        "plt.subplot(1,3,2)\n",
        "sns.distplot([basic_feats['Length_Abstract']], color = 'blue', axlabel=\"Distribution of Length of raw movie plot text\")\n",
        "plt.subplot(1,3,3)\n",
        "sns.distplot([basic_feats['count_Abstract_grtsign']], color = 'blue', axlabel=\"Distribution of '>' sign\")\n",
        "plt.show()"
      ]
    },
    {
      "cell_type": "markdown",
      "metadata": {
        "id": "ZZVIzhN2306I"
      },
      "source": [
        "##Data Cleaning"
      ]
    },
    {
      "cell_type": "code",
      "execution_count": 30,
      "metadata": {
        "colab": {
          "base_uri": "https://localhost:8080/"
        },
        "id": "JDd11IrBmwwl",
        "outputId": "bd8753c8-6d50-4f00-c687-d4467b5e3d3f"
      },
      "outputs": [
        {
          "name": "stderr",
          "output_type": "stream",
          "text": [
            "100%|██████████| 20972/20972 [00:27<00:00, 751.68it/s]\n"
          ]
        }
      ],
      "source": [
        "processed_mails=[]\n",
        "for i in tqdm(train['ABSTRACT']):\n",
        "    #Regular expression that removes all the html tags pressent in the reviews\n",
        "    i=re.sub('(<[\\w\\s]*/?>)',\"\",i)\n",
        "    #Expanding all the contractions present in the review to is respective actual form\n",
        "    i=contractions.fix(i)\n",
        "    #Removing all the special charactesrs from the review text\n",
        "    i=re.sub('[^a-zA-Z0-9\\s]+',\"\",i)\n",
        "    #Removing all the digits present in the review text\n",
        "    i=re.sub('\\d+',\"\",i)\n",
        "    # i=re.sub('[\\n\\t\\s\\b]','',i)\n",
        "    #Removing the html links\n",
        "    s=re.sub(r\"http\\S+\", \" \", i)\n",
        "    i=re.sub(r\"www.\\S+\", \" \", s)\n",
        "    #Removing some patterns\n",
        "    i=re.sub(\"\\\\s*\\\\b(?=\\\\w*(\\\\w)\\\\1{2,})\\\\w*\\\\b\",' ',i)\n",
        "    i=re.sub(r\"\\S*\\.com\\S*|\\S*watch\\?\\S*\",'', i)\n",
        "    #Making all the review text to be of lower case as well as removing the stopwords and words of length less than 3\n",
        "    processed_mails.append(\" \".join([j.lower() for j in i.split() if j not in stopwords and len(j)>=1]))"
      ]
    },
    {
      "cell_type": "code",
      "execution_count": 31,
      "metadata": {
        "id": "ueZ1mT3GUQX4"
      },
      "outputs": [],
      "source": [
        "train['CleanedAbstract'] = processed_mails\n",
        "train['tokenized_text'] = [simple_preprocess(line, deacc=True) for line in train['CleanedAbstract']]"
      ]
    },
    {
      "cell_type": "code",
      "execution_count": 32,
      "metadata": {
        "colab": {
          "base_uri": "https://localhost:8080/",
          "height": 441
        },
        "id": "-FlUaP0oNDHf",
        "outputId": "0f14d080-48ce-4bfd-b8c7-494226b5225a"
      },
      "outputs": [
        {
          "data": {
            "text/html": [
              "\n",
              "  <div id=\"df-64551618-e2e7-4a74-ab80-5665daa5d0f0\">\n",
              "    <div class=\"colab-df-container\">\n",
              "      <div>\n",
              "<style scoped>\n",
              "    .dataframe tbody tr th:only-of-type {\n",
              "        vertical-align: middle;\n",
              "    }\n",
              "\n",
              "    .dataframe tbody tr th {\n",
              "        vertical-align: top;\n",
              "    }\n",
              "\n",
              "    .dataframe thead th {\n",
              "        text-align: right;\n",
              "    }\n",
              "</style>\n",
              "<table border=\"1\" class=\"dataframe\">\n",
              "  <thead>\n",
              "    <tr style=\"text-align: right;\">\n",
              "      <th></th>\n",
              "      <th>ID</th>\n",
              "      <th>TITLE</th>\n",
              "      <th>ABSTRACT</th>\n",
              "      <th>Computer Science</th>\n",
              "      <th>Physics</th>\n",
              "      <th>Mathematics</th>\n",
              "      <th>Statistics</th>\n",
              "      <th>Quantitative Biology</th>\n",
              "      <th>Quantitative Finance</th>\n",
              "      <th>tag_count</th>\n",
              "      <th>CleanedAbstract</th>\n",
              "      <th>tokenized_text</th>\n",
              "    </tr>\n",
              "  </thead>\n",
              "  <tbody>\n",
              "    <tr>\n",
              "      <th>0</th>\n",
              "      <td>1</td>\n",
              "      <td>Reconstructing Subject-Specific Effect Maps</td>\n",
              "      <td>Predictive models allow subject-specific inf...</td>\n",
              "      <td>1</td>\n",
              "      <td>0</td>\n",
              "      <td>0</td>\n",
              "      <td>0</td>\n",
              "      <td>0</td>\n",
              "      <td>0</td>\n",
              "      <td>1</td>\n",
              "      <td>predictive models allow subjectspecific infere...</td>\n",
              "      <td>[predictive, models, allow, subjectspecific, i...</td>\n",
              "    </tr>\n",
              "    <tr>\n",
              "      <th>1</th>\n",
              "      <td>2</td>\n",
              "      <td>Rotation Invariance Neural Network</td>\n",
              "      <td>Rotation invariance and translation invarian...</td>\n",
              "      <td>1</td>\n",
              "      <td>0</td>\n",
              "      <td>0</td>\n",
              "      <td>0</td>\n",
              "      <td>0</td>\n",
              "      <td>0</td>\n",
              "      <td>1</td>\n",
              "      <td>rotation invariance translation invariance gre...</td>\n",
              "      <td>[rotation, invariance, translation, invariance...</td>\n",
              "    </tr>\n",
              "    <tr>\n",
              "      <th>2</th>\n",
              "      <td>3</td>\n",
              "      <td>Spherical polyharmonics and Poisson kernels fo...</td>\n",
              "      <td>We introduce and develop the notion of spher...</td>\n",
              "      <td>0</td>\n",
              "      <td>0</td>\n",
              "      <td>1</td>\n",
              "      <td>0</td>\n",
              "      <td>0</td>\n",
              "      <td>0</td>\n",
              "      <td>1</td>\n",
              "      <td>we introduce develop notion spherical polyharm...</td>\n",
              "      <td>[we, introduce, develop, notion, spherical, po...</td>\n",
              "    </tr>\n",
              "    <tr>\n",
              "      <th>3</th>\n",
              "      <td>4</td>\n",
              "      <td>A finite element approximation for the stochas...</td>\n",
              "      <td>The stochastic Landau--Lifshitz--Gilbert (LL...</td>\n",
              "      <td>0</td>\n",
              "      <td>0</td>\n",
              "      <td>1</td>\n",
              "      <td>0</td>\n",
              "      <td>0</td>\n",
              "      <td>0</td>\n",
              "      <td>1</td>\n",
              "      <td>the stochastic landaulifshitzgilbert llg equat...</td>\n",
              "      <td>[the, stochastic, llg, equation, coupled, maxw...</td>\n",
              "    </tr>\n",
              "    <tr>\n",
              "      <th>4</th>\n",
              "      <td>5</td>\n",
              "      <td>Comparative study of Discrete Wavelet Transfor...</td>\n",
              "      <td>Fourier-transform infra-red (FTIR) spectra o...</td>\n",
              "      <td>1</td>\n",
              "      <td>0</td>\n",
              "      <td>0</td>\n",
              "      <td>1</td>\n",
              "      <td>0</td>\n",
              "      <td>0</td>\n",
              "      <td>2</td>\n",
              "      <td>fouriertransform infrared ftir spectra samples...</td>\n",
              "      <td>[infrared, ftir, spectra, samples, plant, spec...</td>\n",
              "    </tr>\n",
              "  </tbody>\n",
              "</table>\n",
              "</div>\n",
              "      <button class=\"colab-df-convert\" onclick=\"convertToInteractive('df-64551618-e2e7-4a74-ab80-5665daa5d0f0')\"\n",
              "              title=\"Convert this dataframe to an interactive table.\"\n",
              "              style=\"display:none;\">\n",
              "        \n",
              "  <svg xmlns=\"http://www.w3.org/2000/svg\" height=\"24px\"viewBox=\"0 0 24 24\"\n",
              "       width=\"24px\">\n",
              "    <path d=\"M0 0h24v24H0V0z\" fill=\"none\"/>\n",
              "    <path d=\"M18.56 5.44l.94 2.06.94-2.06 2.06-.94-2.06-.94-.94-2.06-.94 2.06-2.06.94zm-11 1L8.5 8.5l.94-2.06 2.06-.94-2.06-.94L8.5 2.5l-.94 2.06-2.06.94zm10 10l.94 2.06.94-2.06 2.06-.94-2.06-.94-.94-2.06-.94 2.06-2.06.94z\"/><path d=\"M17.41 7.96l-1.37-1.37c-.4-.4-.92-.59-1.43-.59-.52 0-1.04.2-1.43.59L10.3 9.45l-7.72 7.72c-.78.78-.78 2.05 0 2.83L4 21.41c.39.39.9.59 1.41.59.51 0 1.02-.2 1.41-.59l7.78-7.78 2.81-2.81c.8-.78.8-2.07 0-2.86zM5.41 20L4 18.59l7.72-7.72 1.47 1.35L5.41 20z\"/>\n",
              "  </svg>\n",
              "      </button>\n",
              "      \n",
              "  <style>\n",
              "    .colab-df-container {\n",
              "      display:flex;\n",
              "      flex-wrap:wrap;\n",
              "      gap: 12px;\n",
              "    }\n",
              "\n",
              "    .colab-df-convert {\n",
              "      background-color: #E8F0FE;\n",
              "      border: none;\n",
              "      border-radius: 50%;\n",
              "      cursor: pointer;\n",
              "      display: none;\n",
              "      fill: #1967D2;\n",
              "      height: 32px;\n",
              "      padding: 0 0 0 0;\n",
              "      width: 32px;\n",
              "    }\n",
              "\n",
              "    .colab-df-convert:hover {\n",
              "      background-color: #E2EBFA;\n",
              "      box-shadow: 0px 1px 2px rgba(60, 64, 67, 0.3), 0px 1px 3px 1px rgba(60, 64, 67, 0.15);\n",
              "      fill: #174EA6;\n",
              "    }\n",
              "\n",
              "    [theme=dark] .colab-df-convert {\n",
              "      background-color: #3B4455;\n",
              "      fill: #D2E3FC;\n",
              "    }\n",
              "\n",
              "    [theme=dark] .colab-df-convert:hover {\n",
              "      background-color: #434B5C;\n",
              "      box-shadow: 0px 1px 3px 1px rgba(0, 0, 0, 0.15);\n",
              "      filter: drop-shadow(0px 1px 2px rgba(0, 0, 0, 0.3));\n",
              "      fill: #FFFFFF;\n",
              "    }\n",
              "  </style>\n",
              "\n",
              "      <script>\n",
              "        const buttonEl =\n",
              "          document.querySelector('#df-64551618-e2e7-4a74-ab80-5665daa5d0f0 button.colab-df-convert');\n",
              "        buttonEl.style.display =\n",
              "          google.colab.kernel.accessAllowed ? 'block' : 'none';\n",
              "\n",
              "        async function convertToInteractive(key) {\n",
              "          const element = document.querySelector('#df-64551618-e2e7-4a74-ab80-5665daa5d0f0');\n",
              "          const dataTable =\n",
              "            await google.colab.kernel.invokeFunction('convertToInteractive',\n",
              "                                                     [key], {});\n",
              "          if (!dataTable) return;\n",
              "\n",
              "          const docLinkHtml = 'Like what you see? Visit the ' +\n",
              "            '<a target=\"_blank\" href=https://colab.research.google.com/notebooks/data_table.ipynb>data table notebook</a>'\n",
              "            + ' to learn more about interactive tables.';\n",
              "          element.innerHTML = '';\n",
              "          dataTable['output_type'] = 'display_data';\n",
              "          await google.colab.output.renderOutput(dataTable, element);\n",
              "          const docLink = document.createElement('div');\n",
              "          docLink.innerHTML = docLinkHtml;\n",
              "          element.appendChild(docLink);\n",
              "        }\n",
              "      </script>\n",
              "    </div>\n",
              "  </div>\n",
              "  "
            ],
            "text/plain": [
              "   ID                                              TITLE  \\\n",
              "0   1        Reconstructing Subject-Specific Effect Maps   \n",
              "1   2                 Rotation Invariance Neural Network   \n",
              "2   3  Spherical polyharmonics and Poisson kernels fo...   \n",
              "3   4  A finite element approximation for the stochas...   \n",
              "4   5  Comparative study of Discrete Wavelet Transfor...   \n",
              "\n",
              "                                            ABSTRACT  Computer Science  \\\n",
              "0    Predictive models allow subject-specific inf...                 1   \n",
              "1    Rotation invariance and translation invarian...                 1   \n",
              "2    We introduce and develop the notion of spher...                 0   \n",
              "3    The stochastic Landau--Lifshitz--Gilbert (LL...                 0   \n",
              "4    Fourier-transform infra-red (FTIR) spectra o...                 1   \n",
              "\n",
              "   Physics  Mathematics  Statistics  Quantitative Biology  \\\n",
              "0        0            0           0                     0   \n",
              "1        0            0           0                     0   \n",
              "2        0            1           0                     0   \n",
              "3        0            1           0                     0   \n",
              "4        0            0           1                     0   \n",
              "\n",
              "   Quantitative Finance  tag_count  \\\n",
              "0                     0          1   \n",
              "1                     0          1   \n",
              "2                     0          1   \n",
              "3                     0          1   \n",
              "4                     0          2   \n",
              "\n",
              "                                     CleanedAbstract  \\\n",
              "0  predictive models allow subjectspecific infere...   \n",
              "1  rotation invariance translation invariance gre...   \n",
              "2  we introduce develop notion spherical polyharm...   \n",
              "3  the stochastic landaulifshitzgilbert llg equat...   \n",
              "4  fouriertransform infrared ftir spectra samples...   \n",
              "\n",
              "                                      tokenized_text  \n",
              "0  [predictive, models, allow, subjectspecific, i...  \n",
              "1  [rotation, invariance, translation, invariance...  \n",
              "2  [we, introduce, develop, notion, spherical, po...  \n",
              "3  [the, stochastic, llg, equation, coupled, maxw...  \n",
              "4  [infrared, ftir, spectra, samples, plant, spec...  "
            ]
          },
          "execution_count": 32,
          "metadata": {},
          "output_type": "execute_result"
        }
      ],
      "source": [
        "train.head()"
      ]
    },
    {
      "cell_type": "markdown",
      "metadata": {
        "id": "NIqheLU79IU5"
      },
      "source": [
        "#Splitting Data"
      ]
    },
    {
      "cell_type": "code",
      "execution_count": 33,
      "metadata": {
        "id": "2qDIeU5EC3n6"
      },
      "outputs": [],
      "source": [
        "X=train.iloc[:, 10].copy()\n",
        "Y=train.iloc[:,3:9].copy()"
      ]
    },
    {
      "cell_type": "code",
      "execution_count": 40,
      "metadata": {
        "id": "HJFa7zty_jx7"
      },
      "outputs": [],
      "source": [
        "# splitting data into train and test set\n",
        "X_train, X_test, y_train, y_test = train_test_split(X, Y, test_size = 0.2, random_state = 42)"
      ]
    },
    {
      "cell_type": "code",
      "execution_count": 41,
      "metadata": {
        "id": "2VLeuAjkPFnZ"
      },
      "outputs": [],
      "source": [
        "y_train_multilabel = y_train.copy()\n",
        "y_test_multilabel = y_test.copy()"
      ]
    },
    {
      "cell_type": "markdown",
      "metadata": {
        "id": "bG3m9pm4v-oy"
      },
      "source": [
        "#TF-IDF Vectorization"
      ]
    },
    {
      "cell_type": "markdown",
      "metadata": {
        "id": "FUc_M6DMLNDi"
      },
      "source": [
        "##Modeling Word NGrams"
      ]
    },
    {
      "cell_type": "markdown",
      "metadata": {
        "id": "T-TPWl72VssS"
      },
      "source": [
        "###ngram_range = (1,1)"
      ]
    },
    {
      "cell_type": "code",
      "execution_count": null,
      "metadata": {
        "id": "F5VCVdr7XPwX"
      },
      "outputs": [],
      "source": [
        "eval_metrics = {}"
      ]
    },
    {
      "cell_type": "code",
      "execution_count": 48,
      "metadata": {
        "colab": {
          "base_uri": "https://localhost:8080/"
        },
        "id": "GeJ-cksop7IC",
        "outputId": "a95f3197-fdab-44fe-e929-af3d533c7dac"
      },
      "outputs": [
        {
          "name": "stdout",
          "output_type": "stream",
          "text": [
            "Dimensions of train data X: (16777, 27810) Y : (16777, 6)\n",
            "Dimensions of test data X: (4195, 27810) Y: (4195, 6)\n"
          ]
        }
      ],
      "source": [
        "vectorizer = TfidfVectorizer(min_df=0.00009, smooth_idf=True, norm=\"l2\", tokenizer = lambda x: x.split(\" \"), sublinear_tf=False, ngram_range=(1,1))\n",
        "X_train_multilabel = vectorizer.fit_transform(X_train)\n",
        "X_test_multilabel = vectorizer.transform(X_test)\n",
        "print(\"Dimensions of train data X:\",X_train_multilabel.shape, \"Y :\",y_train_multilabel.shape)\n",
        "print(\"Dimensions of test data X:\",X_test_multilabel.shape,\"Y:\",y_test_multilabel.shape)"
      ]
    },
    {
      "cell_type": "code",
      "execution_count": 50,
      "metadata": {
        "colab": {
          "base_uri": "https://localhost:8080/"
        },
        "id": "IjHaL4qlQub2",
        "outputId": "8f84e225-0df5-41b9-d80b-3f4e9f96e55f"
      },
      "outputs": [
        {
          "name": "stdout",
          "output_type": "stream",
          "text": [
            "  (0, 1651)\t0.06993239321116025\n",
            "  (0, 9129)\t0.08763827819588756\n",
            "  (0, 4838)\t0.062491749419072165\n",
            "  (0, 8453)\t0.07732905711087941\n",
            "  (0, 25235)\t0.06618752838217212\n",
            "  (0, 17376)\t0.08710475384028546\n",
            "  (0, 19566)\t0.18671028635440154\n",
            "  (0, 905)\t0.3227440197377952\n",
            "  (0, 21147)\t0.21269279181169265\n",
            "  (0, 18179)\t0.08317887322997827\n",
            "  (0, 21900)\t0.0709324143063463\n",
            "  (0, 13745)\t0.05939537525162544\n",
            "  (0, 10065)\t0.09732878546678922\n",
            "  (0, 9139)\t0.12198361831651627\n",
            "  (0, 2901)\t0.08736925521341014\n",
            "  (0, 21960)\t0.12972258892650598\n",
            "  (0, 17029)\t0.056443642676350256\n",
            "  (0, 22269)\t0.05011673907663414\n",
            "  (0, 10366)\t0.14350024425080699\n",
            "  (0, 26626)\t0.06869080284917016\n",
            "  (0, 16920)\t0.0457422168539598\n",
            "  (0, 9413)\t0.049535773836234025\n",
            "  (0, 25258)\t0.15153934270718494\n",
            "  (0, 8150)\t0.06984455599014566\n",
            "  (0, 24865)\t0.055559351081963596\n",
            "  :\t:\n",
            "  (16776, 4424)\t0.07454103825652926\n",
            "  (16776, 17216)\t0.07724973007461194\n",
            "  (16776, 8733)\t0.046503487968355864\n",
            "  (16776, 27435)\t0.04141288163750627\n",
            "  (16776, 24575)\t0.04304101323876863\n",
            "  (16776, 14926)\t0.04111348628712385\n",
            "  (16776, 1852)\t0.07092587822214699\n",
            "  (16776, 21840)\t0.08397541040166025\n",
            "  (16776, 1085)\t0.05322946240139422\n",
            "  (16776, 11557)\t0.07864611009891477\n",
            "  (16776, 19358)\t0.03748653133746478\n",
            "  (16776, 22966)\t0.06399275493690215\n",
            "  (16776, 11738)\t0.04518403578863269\n",
            "  (16776, 19373)\t0.04843307713733394\n",
            "  (16776, 10964)\t0.041804003806819846\n",
            "  (16776, 16234)\t0.12997162153208355\n",
            "  (16776, 11479)\t0.024699151977915165\n",
            "  (16776, 24865)\t0.049334296541539244\n",
            "  (16776, 26499)\t0.04107288892049429\n",
            "  (16776, 1098)\t0.07651104822507689\n",
            "  (16776, 20708)\t0.056070579305373534\n",
            "  (16776, 9675)\t0.12664466369552493\n",
            "  (16776, 5396)\t0.033753846873792404\n",
            "  (16776, 23034)\t0.05169920246107625\n",
            "  (16776, 27118)\t0.019978271434118674\n"
          ]
        }
      ],
      "source": [
        "print(X_train_multilabel)"
      ]
    },
    {
      "cell_type": "markdown",
      "metadata": {
        "id": "nSXcrK2vzqi5"
      },
      "source": [
        "####Logistic Regression"
      ]
    },
    {
      "cell_type": "code",
      "execution_count": null,
      "metadata": {
        "colab": {
          "base_uri": "https://localhost:8080/"
        },
        "id": "nkhosEUuIyYr",
        "outputId": "63c92c4f-d04c-464e-c68e-b76c6d7bba27"
      },
      "outputs": [
        {
          "name": "stdout",
          "output_type": "stream",
          "text": [
            "Accuracy : 0.6247914183551847\n",
            "Hamming loss  0.08299562971791816\n",
            "\n",
            "Micro-average quality numbers\n",
            "Precision: 0.7706, Recall: 0.8631, F1-measure: 0.8142\n",
            "\n",
            "Macro-average quality numbers\n",
            "Precision: 0.7022, Recall: 0.8320, F1-measure: 0.7575\n",
            "\n",
            "Classification Report\n",
            "              precision    recall  f1-score   support\n",
            "\n",
            "           0       0.80      0.87      0.83      1692\n",
            "           1       0.86      0.88      0.87      1226\n",
            "           2       0.76      0.85      0.80      1150\n",
            "           3       0.72      0.86      0.78      1069\n",
            "           4       0.43      0.73      0.54       122\n",
            "           5       0.65      0.80      0.72        45\n",
            "\n",
            "   micro avg       0.77      0.86      0.81      5304\n",
            "   macro avg       0.70      0.83      0.76      5304\n",
            "weighted avg       0.78      0.86      0.82      5304\n",
            " samples avg       0.82      0.89      0.83      5304\n",
            "\n"
          ]
        }
      ],
      "source": [
        "# start = datetime.now()\n",
        "classifier1 = OneVsRestClassifier(LogisticRegression(penalty='l2', class_weight='balanced'), n_jobs=-1)\n",
        "classifier1.fit(X_train_multilabel, y_train_multilabel)\n",
        "predictions = classifier1.predict(X_test_multilabel)\n",
        "\n",
        "accuracy = accuracy_score(y_test_multilabel, predictions)\n",
        "hammingloss = hamming_loss(y_test_multilabel,predictions)\n",
        "print(\"Accuracy :\",accuracy)\n",
        "print(\"Hamming loss \",hammingloss)\n",
        "\n",
        "precision = precision_score(y_test_multilabel, predictions, average='micro')\n",
        "recall = recall_score(y_test_multilabel, predictions, average='micro')\n",
        "f1 = f1_score(y_test_multilabel, predictions, average='micro') \n",
        "print(\"\\nMicro-average quality numbers\")\n",
        "print(\"Precision: {:.4f}, Recall: {:.4f}, F1-measure: {:.4f}\".format(precision, recall, f1))\n",
        "eval_metrics[0] = {'Model' : 'Logistic Regression', 'Vectorizer' : 'TF-IDF 1-1 Grams', 'Accuracy' : accuracy, 'Hamming loss' : hammingloss, 'Precision' : precision, 'Recall' : recall, 'F1-Score' : f1}\n",
        "\n",
        "precision = precision_score(y_test_multilabel, predictions, average='macro')\n",
        "recall = recall_score(y_test_multilabel, predictions, average='macro')\n",
        "f1 = f1_score(y_test_multilabel, predictions, average='macro') \n",
        "print(\"\\nMacro-average quality numbers\")\n",
        "print(\"Precision: {:.4f}, Recall: {:.4f}, F1-measure: {:.4f}\".format(precision, recall, f1))\n",
        "\n",
        "print(\"\\nClassification Report\")\n",
        "print (classification_report(y_test_multilabel, predictions))\n",
        "# print(\"Time taken to run this cell :\", datetime.now() - start)"
      ]
    },
    {
      "cell_type": "markdown",
      "metadata": {
        "id": "Snb0j2XZ0cj1"
      },
      "source": [
        "####SGDClassifier - Hinge Loss"
      ]
    },
    {
      "cell_type": "code",
      "execution_count": null,
      "metadata": {
        "colab": {
          "base_uri": "https://localhost:8080/"
        },
        "id": "Lk650a8M0cj2",
        "outputId": "72447a98-bfef-4fff-b77b-0e529cd1de2d"
      },
      "outputs": [
        {
          "name": "stdout",
          "output_type": "stream",
          "text": [
            "Accuracy : 0.6305125148986889\n",
            "Hamming loss  0.08176400476758046\n",
            "\n",
            "Micro-average quality numbers\n",
            "Precision: 0.7715, Recall: 0.8695, F1-measure: 0.8176\n",
            "\n",
            "Macro-average quality numbers\n",
            "Precision: 0.7175, Recall: 0.8258, F1-measure: 0.7658\n",
            "\n",
            "Classification Report\n",
            "              precision    recall  f1-score   support\n",
            "\n",
            "           0       0.80      0.88      0.84      1692\n",
            "           1       0.86      0.88      0.87      1226\n",
            "           2       0.75      0.86      0.81      1150\n",
            "           3       0.71      0.87      0.78      1069\n",
            "           4       0.47      0.68      0.56       122\n",
            "           5       0.71      0.78      0.74        45\n",
            "\n",
            "   micro avg       0.77      0.87      0.82      5304\n",
            "   macro avg       0.72      0.83      0.77      5304\n",
            "weighted avg       0.78      0.87      0.82      5304\n",
            " samples avg       0.82      0.89      0.83      5304\n",
            "\n"
          ]
        }
      ],
      "source": [
        "classifier1 = OneVsRestClassifier(SGDClassifier(loss='hinge', penalty='l2', class_weight='balanced'), n_jobs=-1)\n",
        "classifier1.fit(X_train_multilabel, y_train_multilabel)\n",
        "predictions = classifier1.predict(X_test_multilabel)\n",
        "\n",
        "accuracy = accuracy_score(y_test_multilabel, predictions)\n",
        "hammingloss = hamming_loss(y_test_multilabel,predictions)\n",
        "print(\"Accuracy :\",accuracy)\n",
        "print(\"Hamming loss \",hammingloss)\n",
        "\n",
        "precision = precision_score(y_test_multilabel, predictions, average='micro')\n",
        "recall = recall_score(y_test_multilabel, predictions, average='micro')\n",
        "f1 = f1_score(y_test_multilabel, predictions, average='micro')\n",
        "print(\"\\nMicro-average quality numbers\")\n",
        "print(\"Precision: {:.4f}, Recall: {:.4f}, F1-measure: {:.4f}\".format(precision, recall, f1))\n",
        "eval_metrics[1] = {'Model' : 'SGDClassifier HingeLoss', 'Vectorizer' : 'TF-IDF 1-1 Grams', 'Accuracy' : accuracy, 'Hamming loss' : hammingloss, 'Precision' : precision, 'Recall' : recall, 'F1-Score' : f1}\n",
        "\n",
        "precision = precision_score(y_test_multilabel, predictions, average='macro')\n",
        "recall = recall_score(y_test_multilabel, predictions, average='macro')\n",
        "f1 = f1_score(y_test_multilabel, predictions, average='macro')\n",
        "print(\"\\nMacro-average quality numbers\")\n",
        "print(\"Precision: {:.4f}, Recall: {:.4f}, F1-measure: {:.4f}\".format(precision, recall, f1))\n",
        "\n",
        "print(\"\\nClassification Report\")\n",
        "print (classification_report(y_test_multilabel, predictions))"
      ]
    },
    {
      "cell_type": "markdown",
      "metadata": {
        "id": "SdCrLNFL0bqd"
      },
      "source": [
        "####SGDClassifier - Log Loss"
      ]
    },
    {
      "cell_type": "code",
      "execution_count": null,
      "metadata": {
        "colab": {
          "base_uri": "https://localhost:8080/"
        },
        "id": "WgKJtQz00bqe",
        "outputId": "fe4b6581-b97c-4423-d343-7c0662b6f581"
      },
      "outputs": [
        {
          "name": "stdout",
          "output_type": "stream",
          "text": [
            "Accuracy : 0.6200238379022646\n",
            "Hamming loss  0.08363130711164084\n",
            "\n",
            "Micro-average quality numbers\n",
            "Precision: 0.7675, Recall: 0.8652, F1-measure: 0.8134\n",
            "\n",
            "Macro-average quality numbers\n",
            "Precision: 0.6925, Recall: 0.8335, F1-measure: 0.7514\n",
            "\n",
            "Classification Report\n",
            "              precision    recall  f1-score   support\n",
            "\n",
            "           0       0.80      0.88      0.84      1692\n",
            "           1       0.86      0.87      0.86      1226\n",
            "           2       0.76      0.85      0.80      1150\n",
            "           3       0.72      0.87      0.78      1069\n",
            "           4       0.41      0.73      0.52       122\n",
            "           5       0.62      0.80      0.70        45\n",
            "\n",
            "   micro avg       0.77      0.87      0.81      5304\n",
            "   macro avg       0.69      0.83      0.75      5304\n",
            "weighted avg       0.78      0.87      0.82      5304\n",
            " samples avg       0.81      0.89      0.83      5304\n",
            "\n"
          ]
        }
      ],
      "source": [
        "classifier1 = OneVsRestClassifier(SGDClassifier(loss='log', penalty='l2', class_weight='balanced'), n_jobs=-1)\n",
        "classifier1.fit(X_train_multilabel, y_train_multilabel)\n",
        "predictions = classifier1.predict(X_test_multilabel)\n",
        "\n",
        "accuracy = accuracy_score(y_test_multilabel, predictions)\n",
        "hammingloss = hamming_loss(y_test_multilabel,predictions)\n",
        "print(\"Accuracy :\",accuracy)\n",
        "print(\"Hamming loss \",hammingloss)\n",
        "\n",
        "precision = precision_score(y_test_multilabel, predictions, average='micro')\n",
        "recall = recall_score(y_test_multilabel, predictions, average='micro')\n",
        "f1 = f1_score(y_test_multilabel, predictions, average='micro')\n",
        "print(\"\\nMicro-average quality numbers\")\n",
        "print(\"Precision: {:.4f}, Recall: {:.4f}, F1-measure: {:.4f}\".format(precision, recall, f1))\n",
        "eval_metrics[2] = {'Model' : 'SGDClassifier LogLoss', 'Vectorizer' : 'TF-IDF 1-1 Grams', 'Accuracy' : accuracy, 'Hamming loss' : hammingloss, 'Precision' : precision, 'Recall' : recall, 'F1-Score' : f1}\n",
        "\n",
        "precision = precision_score(y_test_multilabel, predictions, average='macro')\n",
        "recall = recall_score(y_test_multilabel, predictions, average='macro')\n",
        "f1 = f1_score(y_test_multilabel, predictions, average='macro')\n",
        "print(\"\\nMacro-average quality numbers\")\n",
        "print(\"Precision: {:.4f}, Recall: {:.4f}, F1-measure: {:.4f}\".format(precision, recall, f1))\n",
        "\n",
        "print(\"\\nClassification Report\")\n",
        "print (classification_report(y_test_multilabel, predictions))"
      ]
    },
    {
      "cell_type": "markdown",
      "metadata": {
        "id": "-eMhT5KqM7XU"
      },
      "source": [
        "####Hyperparameter Tuning"
      ]
    },
    {
      "cell_type": "code",
      "execution_count": null,
      "metadata": {
        "id": "RHdJngXMM-tV"
      },
      "outputs": [],
      "source": [
        "# %%time \n",
        "\n",
        "# from sklearn.model_selection import RandomizedSearchCV\n",
        "# from scipy import stats\n",
        "# # st=datetime.now()\n",
        "# alpha = [0.000001,0.00001,0.0001,0.001,0.01,0.1,1,10,100,1000,10000]\n",
        "# penalty=['l1','l2']\n",
        "# params  = {\"estimator__C\":alpha,\n",
        "#            \"estimator__penalty\":penalty}\n",
        "# base_estimator = OneVsRestClassifier(LogisticRegression(class_weight='balanced'), n_jobs=-1)\n",
        "# rsearch_cv = RandomizedSearchCV(estimator=base_estimator, param_distributions=params, n_iter=10, cv=5, scoring='f1_micro', n_jobs=-1, verbose=0)\n",
        "# rsearch_cv.fit(X_train_multilabel, y_train_multilabel)\n",
        "# # print(\"Time taken to perform hyperparameter tuning: \",datetime.now()-st)\n",
        "# print(\"Best estimator: \",rsearch_cv.best_estimator_)\n",
        "# print(\"Best Cross Validation Score: \",rsearch_cv.best_score_)"
      ]
    },
    {
      "cell_type": "code",
      "execution_count": null,
      "metadata": {
        "id": "vWLCF2FmNMmi"
      },
      "outputs": [],
      "source": [
        "# classifier1 = OneVsRestClassifier(LogisticRegression(C = 100, penalty='l2', class_weight='balanced'), n_jobs=-1)\n",
        "# classifier1.fit(X_train_multilabel, y_train_multilabel)\n",
        "# predictions = classifier1.predict(X_test_multilabel)\n",
        "# print(\"Accuracy :\",accuracy_score(y_test_multilabel, predictions))\n",
        "# print(\"Hamming loss \",hamming_loss(y_test_multilabel,predictions))\n",
        "# precision = precision_score(y_test_multilabel, predictions, average='micro')\n",
        "# recall = recall_score(y_test_multilabel, predictions, average='micro')\n",
        "# f1 = f1_score(y_test_multilabel, predictions, average='micro')\n",
        " \n",
        "# print(\"\\nMicro-average quality numbers\")\n",
        "# print(\"Precision: {:.4f}, Recall: {:.4f}, F1-measure: {:.4f}\".format(precision, recall, f1))\n",
        "# precision = precision_score(y_test_multilabel, predictions, average='macro')\n",
        "# recall = recall_score(y_test_multilabel, predictions, average='macro')\n",
        "# f1 = f1_score(y_test_multilabel, predictions, average='macro')\n",
        " \n",
        "# print(\"\\nMacro-average quality numbers\")\n",
        "# print(\"Precision: {:.4f}, Recall: {:.4f}, F1-measure: {:.4f}\".format(precision, recall, f1))\n",
        "# print(\"\\nClassification Report\")\n",
        "# print (classification_report(y_test_multilabel, predictions))"
      ]
    },
    {
      "cell_type": "markdown",
      "metadata": {
        "id": "GgUejPUYV9kh"
      },
      "source": [
        "###ngram_range = (1,2)"
      ]
    },
    {
      "cell_type": "code",
      "execution_count": null,
      "metadata": {
        "colab": {
          "base_uri": "https://localhost:8080/"
        },
        "id": "xt9jlEUop-Uk",
        "outputId": "580e7256-2030-421f-fc0b-85e6cf040a77"
      },
      "outputs": [
        {
          "name": "stdout",
          "output_type": "stream",
          "text": [
            "Dimensions of train data X: (16777, 196911) Y : (16777, 6)\n",
            "Dimensions of test data X: (4195, 196911) Y: (4195, 6)\n"
          ]
        }
      ],
      "source": [
        "vectorizer = TfidfVectorizer(min_df=0.00009, smooth_idf=True, norm=\"l2\", tokenizer = lambda x: x.split(\" \"), sublinear_tf=False, ngram_range=(1,2))\n",
        "X_train_multilabel = vectorizer.fit_transform(X_train)\n",
        "X_test_multilabel = vectorizer.transform(X_test)\n",
        "print(\"Dimensions of train data X:\",X_train_multilabel.shape, \"Y :\",y_train_multilabel.shape)\n",
        "print(\"Dimensions of test data X:\",X_test_multilabel.shape,\"Y:\",y_test_multilabel.shape)"
      ]
    },
    {
      "cell_type": "markdown",
      "metadata": {
        "id": "kf2OIDhtzSOC"
      },
      "source": [
        "####Logistic Regression"
      ]
    },
    {
      "cell_type": "code",
      "execution_count": null,
      "metadata": {
        "colab": {
          "base_uri": "https://localhost:8080/"
        },
        "id": "1uGke1NDWCj1",
        "outputId": "89df4b2d-53ee-4bea-d73a-8fdc4d9c363f"
      },
      "outputs": [
        {
          "name": "stdout",
          "output_type": "stream",
          "text": [
            "Accuracy : 0.6317044100119189\n",
            "Hamming loss  0.08081048867699643\n",
            "\n",
            "Micro-average quality numbers\n",
            "Precision: 0.7777, Recall: 0.8633, F1-measure: 0.8183\n",
            "\n",
            "Macro-average quality numbers\n",
            "Precision: 0.7298, Recall: 0.8122, F1-measure: 0.7663\n",
            "\n",
            "Classification Report\n",
            "              precision    recall  f1-score   support\n",
            "\n",
            "           0       0.79      0.89      0.84      1692\n",
            "           1       0.87      0.87      0.87      1226\n",
            "           2       0.77      0.84      0.81      1150\n",
            "           3       0.71      0.87      0.78      1069\n",
            "           4       0.48      0.67      0.56       122\n",
            "           5       0.75      0.73      0.74        45\n",
            "\n",
            "   micro avg       0.78      0.86      0.82      5304\n",
            "   macro avg       0.73      0.81      0.77      5304\n",
            "weighted avg       0.78      0.86      0.82      5304\n",
            " samples avg       0.82      0.89      0.83      5304\n",
            "\n"
          ]
        }
      ],
      "source": [
        "classifier1 = OneVsRestClassifier(LogisticRegression(penalty='l2', class_weight='balanced'), n_jobs=-1)\n",
        "classifier1.fit(X_train_multilabel, y_train_multilabel)\n",
        "predictions = classifier1.predict(X_test_multilabel)\n",
        "\n",
        "accuracy = accuracy_score(y_test_multilabel, predictions)\n",
        "hammingloss = hamming_loss(y_test_multilabel,predictions)\n",
        "print(\"Accuracy :\",accuracy)\n",
        "print(\"Hamming loss \",hammingloss)\n",
        "\n",
        "precision = precision_score(y_test_multilabel, predictions, average='micro')\n",
        "recall = recall_score(y_test_multilabel, predictions, average='micro')\n",
        "f1 = f1_score(y_test_multilabel, predictions, average='micro')\n",
        "print(\"\\nMicro-average quality numbers\")\n",
        "print(\"Precision: {:.4f}, Recall: {:.4f}, F1-measure: {:.4f}\".format(precision, recall, f1))\n",
        "eval_metrics[3] = {'Model' : 'Logistic Regression', 'Vectorizer' : 'TF-IDF 1-2 Grams', 'Accuracy' : accuracy, 'Hamming loss' : hammingloss, 'Precision' : precision, 'Recall' : recall, 'F1-Score' : f1}\n",
        "\n",
        "precision = precision_score(y_test_multilabel, predictions, average='macro')\n",
        "recall = recall_score(y_test_multilabel, predictions, average='macro')\n",
        "f1 = f1_score(y_test_multilabel, predictions, average='macro')\n",
        "print(\"\\nMacro-average quality numbers\")\n",
        "print(\"Precision: {:.4f}, Recall: {:.4f}, F1-measure: {:.4f}\".format(precision, recall, f1))\n",
        "\n",
        "print(\"\\nClassification Report\")\n",
        "print (classification_report(y_test_multilabel, predictions))"
      ]
    },
    {
      "cell_type": "markdown",
      "metadata": {
        "id": "IkJiPuKZzYYN"
      },
      "source": [
        "####SGDClassifier - Hinge Loss"
      ]
    },
    {
      "cell_type": "code",
      "execution_count": null,
      "metadata": {
        "colab": {
          "base_uri": "https://localhost:8080/"
        },
        "id": "dZRaLPjzy5VN",
        "outputId": "d312edf2-e581-4153-f636-fea66085168b"
      },
      "outputs": [
        {
          "name": "stdout",
          "output_type": "stream",
          "text": [
            "Accuracy : 0.6519666269368296\n",
            "Hamming loss  0.07628128724672228\n",
            "\n",
            "Micro-average quality numbers\n",
            "Precision: 0.7895, Recall: 0.8699, F1-measure: 0.8278\n",
            "\n",
            "Macro-average quality numbers\n",
            "Precision: 0.7553, Recall: 0.8015, F1-measure: 0.7760\n",
            "\n",
            "Classification Report\n",
            "              precision    recall  f1-score   support\n",
            "\n",
            "           0       0.79      0.90      0.84      1692\n",
            "           1       0.89      0.88      0.88      1226\n",
            "           2       0.78      0.85      0.82      1150\n",
            "           3       0.72      0.87      0.79      1069\n",
            "           4       0.57      0.60      0.58       122\n",
            "           5       0.78      0.71      0.74        45\n",
            "\n",
            "   micro avg       0.79      0.87      0.83      5304\n",
            "   macro avg       0.76      0.80      0.78      5304\n",
            "weighted avg       0.79      0.87      0.83      5304\n",
            " samples avg       0.83      0.89      0.84      5304\n",
            "\n"
          ]
        }
      ],
      "source": [
        "classifier1 = OneVsRestClassifier(SGDClassifier(loss='hinge', penalty='l2', class_weight='balanced'), n_jobs=-1)\n",
        "classifier1.fit(X_train_multilabel, y_train_multilabel)\n",
        "predictions = classifier1.predict(X_test_multilabel)\n",
        "\n",
        "accuracy = accuracy_score(y_test_multilabel, predictions)\n",
        "hammingloss = hamming_loss(y_test_multilabel,predictions)\n",
        "print(\"Accuracy :\",accuracy)\n",
        "print(\"Hamming loss \",hammingloss)\n",
        "\n",
        "precision = precision_score(y_test_multilabel, predictions, average='micro')\n",
        "recall = recall_score(y_test_multilabel, predictions, average='micro')\n",
        "f1 = f1_score(y_test_multilabel, predictions, average='micro')\n",
        "print(\"\\nMicro-average quality numbers\")\n",
        "print(\"Precision: {:.4f}, Recall: {:.4f}, F1-measure: {:.4f}\".format(precision, recall, f1))\n",
        "eval_metrics[4] = {'Model' : 'SGDClassifier HingeLoss', 'Vectorizer' : 'TF-IDF 1-2 Grams', 'Accuracy' : accuracy, 'Hamming loss' : hammingloss, 'Precision' : precision, 'Recall' : recall, 'F1-Score' : f1}\n",
        "\n",
        "precision = precision_score(y_test_multilabel, predictions, average='macro')\n",
        "recall = recall_score(y_test_multilabel, predictions, average='macro')\n",
        "f1 = f1_score(y_test_multilabel, predictions, average='macro')\n",
        "print(\"\\nMacro-average quality numbers\")\n",
        "print(\"Precision: {:.4f}, Recall: {:.4f}, F1-measure: {:.4f}\".format(precision, recall, f1))\n",
        "\n",
        "print(\"\\nClassification Report\")\n",
        "print (classification_report(y_test_multilabel, predictions))"
      ]
    },
    {
      "cell_type": "markdown",
      "metadata": {
        "id": "80jAV7hRzdtf"
      },
      "source": [
        "####SGDClassifier - Log loss"
      ]
    },
    {
      "cell_type": "code",
      "execution_count": null,
      "metadata": {
        "colab": {
          "base_uri": "https://localhost:8080/"
        },
        "id": "8XCwgdP90Ybj",
        "outputId": "df7da440-e3e1-4e37-e5e2-f101f033e04e"
      },
      "outputs": [
        {
          "name": "stdout",
          "output_type": "stream",
          "text": [
            "Accuracy : 0.6214541120381406\n",
            "Hamming loss  0.08315454906634882\n",
            "\n",
            "Micro-average quality numbers\n",
            "Precision: 0.7693, Recall: 0.8646, F1-measure: 0.8142\n",
            "\n",
            "Macro-average quality numbers\n",
            "Precision: 0.7146, Recall: 0.8208, F1-measure: 0.7605\n",
            "\n",
            "Classification Report\n",
            "              precision    recall  f1-score   support\n",
            "\n",
            "           0       0.79      0.88      0.83      1692\n",
            "           1       0.87      0.87      0.87      1226\n",
            "           2       0.77      0.85      0.80      1150\n",
            "           3       0.70      0.87      0.77      1069\n",
            "           4       0.44      0.70      0.54       122\n",
            "           5       0.72      0.76      0.74        45\n",
            "\n",
            "   micro avg       0.77      0.86      0.81      5304\n",
            "   macro avg       0.71      0.82      0.76      5304\n",
            "weighted avg       0.78      0.86      0.82      5304\n",
            " samples avg       0.81      0.89      0.83      5304\n",
            "\n"
          ]
        }
      ],
      "source": [
        "classifier1 = OneVsRestClassifier(SGDClassifier(loss='log', penalty='l2', class_weight='balanced'), n_jobs=-1)\n",
        "classifier1.fit(X_train_multilabel, y_train_multilabel)\n",
        "predictions = classifier1.predict(X_test_multilabel)\n",
        "\n",
        "accuracy = accuracy_score(y_test_multilabel, predictions)\n",
        "hammingloss = hamming_loss(y_test_multilabel,predictions)\n",
        "print(\"Accuracy :\",accuracy)\n",
        "print(\"Hamming loss \",hammingloss)\n",
        "\n",
        "precision = precision_score(y_test_multilabel, predictions, average='micro')\n",
        "recall = recall_score(y_test_multilabel, predictions, average='micro')\n",
        "f1 = f1_score(y_test_multilabel, predictions, average='micro')\n",
        "print(\"\\nMicro-average quality numbers\")\n",
        "print(\"Precision: {:.4f}, Recall: {:.4f}, F1-measure: {:.4f}\".format(precision, recall, f1))\n",
        "eval_metrics[5] = {'Model' : 'SGDClassifier LogLoss', 'Vectorizer' : 'TF-IDF 1-2 Grams', 'Accuracy' : accuracy, 'Hamming loss' : hammingloss, 'Precision' : precision, 'Recall' : recall, 'F1-Score' : f1}\n",
        "\n",
        "precision = precision_score(y_test_multilabel, predictions, average='macro')\n",
        "recall = recall_score(y_test_multilabel, predictions, average='macro')\n",
        "f1 = f1_score(y_test_multilabel, predictions, average='macro')\n",
        "print(\"\\nMacro-average quality numbers\")\n",
        "print(\"Precision: {:.4f}, Recall: {:.4f}, F1-measure: {:.4f}\".format(precision, recall, f1))\n",
        "\n",
        "print(\"\\nClassification Report\")\n",
        "print (classification_report(y_test_multilabel, predictions))"
      ]
    },
    {
      "cell_type": "markdown",
      "metadata": {
        "id": "zBxxxJTNWzUO"
      },
      "source": [
        "###ngram_range = (1,3)"
      ]
    },
    {
      "cell_type": "code",
      "execution_count": null,
      "metadata": {
        "colab": {
          "base_uri": "https://localhost:8080/"
        },
        "id": "LfpHO1-PqAPx",
        "outputId": "df28c364-f9a5-4fc5-b5cc-45b811803593"
      },
      "outputs": [
        {
          "name": "stdout",
          "output_type": "stream",
          "text": [
            "Dimensions of train data X: (16777, 252121) Y : (16777, 6)\n",
            "Dimensions of test data X: (4195, 252121) Y: (4195, 6)\n"
          ]
        }
      ],
      "source": [
        "vectorizer = TfidfVectorizer(min_df=0.00009, smooth_idf=True, norm=\"l2\", tokenizer = lambda x: x.split(\" \"), sublinear_tf=False, ngram_range=(1,3))\n",
        "X_train_multilabel = vectorizer.fit_transform(X_train)\n",
        "X_test_multilabel = vectorizer.transform(X_test)\n",
        "print(\"Dimensions of train data X:\",X_train_multilabel.shape, \"Y :\",y_train_multilabel.shape)\n",
        "print(\"Dimensions of test data X:\",X_test_multilabel.shape,\"Y:\",y_test_multilabel.shape)"
      ]
    },
    {
      "cell_type": "markdown",
      "metadata": {
        "id": "eE-THUfp0PzB"
      },
      "source": [
        "####Logistic Regression"
      ]
    },
    {
      "cell_type": "code",
      "execution_count": null,
      "metadata": {
        "colab": {
          "base_uri": "https://localhost:8080/"
        },
        "id": "qa9KQ5NcW-S9",
        "outputId": "4abb02fe-3aa3-4dab-ee64-4e82d6ee83b0"
      },
      "outputs": [
        {
          "name": "stdout",
          "output_type": "stream",
          "text": [
            "Accuracy : 0.6324195470798569\n",
            "Hamming loss  0.08049264998013508\n",
            "\n",
            "Micro-average quality numbers\n",
            "Precision: 0.7776, Recall: 0.8656, F1-measure: 0.8192\n",
            "\n",
            "Macro-average quality numbers\n",
            "Precision: 0.7303, Recall: 0.8065, F1-measure: 0.7633\n",
            "\n",
            "Classification Report\n",
            "              precision    recall  f1-score   support\n",
            "\n",
            "           0       0.79      0.89      0.84      1692\n",
            "           1       0.87      0.87      0.87      1226\n",
            "           2       0.78      0.84      0.81      1150\n",
            "           3       0.71      0.87      0.78      1069\n",
            "           4       0.48      0.67      0.56       122\n",
            "           5       0.76      0.69      0.72        45\n",
            "\n",
            "   micro avg       0.78      0.87      0.82      5304\n",
            "   macro avg       0.73      0.81      0.76      5304\n",
            "weighted avg       0.78      0.87      0.82      5304\n",
            " samples avg       0.82      0.89      0.83      5304\n",
            "\n"
          ]
        }
      ],
      "source": [
        "classifier1 = OneVsRestClassifier(LogisticRegression(penalty='l2', class_weight='balanced'), n_jobs=-1)\n",
        "classifier1.fit(X_train_multilabel, y_train_multilabel)\n",
        "predictions = classifier1.predict(X_test_multilabel)\n",
        "\n",
        "accuracy = accuracy_score(y_test_multilabel, predictions)\n",
        "hammingloss = hamming_loss(y_test_multilabel,predictions)\n",
        "print(\"Accuracy :\",accuracy)\n",
        "print(\"Hamming loss \",hammingloss)\n",
        "\n",
        "precision = precision_score(y_test_multilabel, predictions, average='micro')\n",
        "recall = recall_score(y_test_multilabel, predictions, average='micro')\n",
        "f1 = f1_score(y_test_multilabel, predictions, average='micro')\n",
        "print(\"\\nMicro-average quality numbers\")\n",
        "print(\"Precision: {:.4f}, Recall: {:.4f}, F1-measure: {:.4f}\".format(precision, recall, f1))\n",
        "eval_metrics[6] = {'Model' : 'Logistic Regression', 'Vectorizer' : 'TF-IDF 1-3 Grams', 'Accuracy' : accuracy, 'Hamming loss' : hammingloss, 'Precision' : precision, 'Recall' : recall, 'F1-Score' : f1}\n",
        "\n",
        "precision = precision_score(y_test_multilabel, predictions, average='macro')\n",
        "recall = recall_score(y_test_multilabel, predictions, average='macro')\n",
        "f1 = f1_score(y_test_multilabel, predictions, average='macro')\n",
        "print(\"\\nMacro-average quality numbers\")\n",
        "print(\"Precision: {:.4f}, Recall: {:.4f}, F1-measure: {:.4f}\".format(precision, recall, f1))\n",
        "\n",
        "print(\"\\nClassification Report\")\n",
        "print (classification_report(y_test_multilabel, predictions))"
      ]
    },
    {
      "cell_type": "markdown",
      "metadata": {
        "id": "C4ycNXr40TOW"
      },
      "source": [
        "####SGDClassifier - Hinge Loss"
      ]
    },
    {
      "cell_type": "code",
      "execution_count": null,
      "metadata": {
        "colab": {
          "base_uri": "https://localhost:8080/"
        },
        "id": "kvZmi8bx0TOW",
        "outputId": "585b26e3-f5e0-4d57-faca-d5dcdb1eab60"
      },
      "outputs": [
        {
          "name": "stdout",
          "output_type": "stream",
          "text": [
            "Accuracy : 0.6512514898688916\n",
            "Hamming loss  0.07624155740961462\n",
            "\n",
            "Micro-average quality numbers\n",
            "Precision: 0.7893, Recall: 0.8707, F1-measure: 0.8280\n",
            "\n",
            "Macro-average quality numbers\n",
            "Precision: 0.7600, Recall: 0.7974, F1-measure: 0.7757\n",
            "\n",
            "Classification Report\n",
            "              precision    recall  f1-score   support\n",
            "\n",
            "           0       0.79      0.90      0.84      1692\n",
            "           1       0.88      0.88      0.88      1226\n",
            "           2       0.79      0.84      0.82      1150\n",
            "           3       0.72      0.88      0.79      1069\n",
            "           4       0.56      0.59      0.58       122\n",
            "           5       0.82      0.69      0.75        45\n",
            "\n",
            "   micro avg       0.79      0.87      0.83      5304\n",
            "   macro avg       0.76      0.80      0.78      5304\n",
            "weighted avg       0.79      0.87      0.83      5304\n",
            " samples avg       0.83      0.89      0.84      5304\n",
            "\n"
          ]
        }
      ],
      "source": [
        "classifier1 = OneVsRestClassifier(SGDClassifier(loss='hinge', penalty='l2', class_weight='balanced'), n_jobs=-1)\n",
        "classifier1.fit(X_train_multilabel, y_train_multilabel)\n",
        "predictions = classifier1.predict(X_test_multilabel)\n",
        "\n",
        "accuracy = accuracy_score(y_test_multilabel, predictions)\n",
        "hammingloss = hamming_loss(y_test_multilabel,predictions)\n",
        "print(\"Accuracy :\",accuracy)\n",
        "print(\"Hamming loss \",hammingloss)\n",
        "\n",
        "precision = precision_score(y_test_multilabel, predictions, average='micro')\n",
        "recall = recall_score(y_test_multilabel, predictions, average='micro')\n",
        "f1 = f1_score(y_test_multilabel, predictions, average='micro')\n",
        "print(\"\\nMicro-average quality numbers\")\n",
        "print(\"Precision: {:.4f}, Recall: {:.4f}, F1-measure: {:.4f}\".format(precision, recall, f1))\n",
        "eval_metrics[7] = {'Model' : 'SGDClassifier HingeLoss', 'Vectorizer' : 'TF-IDF 1-3 Grams', 'Accuracy' : accuracy, 'Hamming loss' : hammingloss, 'Precision' : precision, 'Recall' : recall, 'F1-Score' : f1}\n",
        "\n",
        "precision = precision_score(y_test_multilabel, predictions, average='macro')\n",
        "recall = recall_score(y_test_multilabel, predictions, average='macro')\n",
        "f1 = f1_score(y_test_multilabel, predictions, average='macro')\n",
        "print(\"\\nMacro-average quality numbers\")\n",
        "print(\"Precision: {:.4f}, Recall: {:.4f}, F1-measure: {:.4f}\".format(precision, recall, f1))\n",
        "\n",
        "print(\"\\nClassification Report\")\n",
        "print (classification_report(y_test_multilabel, predictions))"
      ]
    },
    {
      "cell_type": "markdown",
      "metadata": {
        "id": "BWLrS-JG0T_D"
      },
      "source": [
        "####SGDClassifier - Log Loss"
      ]
    },
    {
      "cell_type": "code",
      "execution_count": null,
      "metadata": {
        "colab": {
          "base_uri": "https://localhost:8080/"
        },
        "id": "gqN_rVD-0T_E",
        "outputId": "82856019-13d5-4233-eb0a-899169c8273a"
      },
      "outputs": [
        {
          "name": "stdout",
          "output_type": "stream",
          "text": [
            "Accuracy : 0.6188319427890345\n",
            "Hamming loss  0.08351211760031783\n",
            "\n",
            "Micro-average quality numbers\n",
            "Precision: 0.7672, Recall: 0.8667, F1-measure: 0.8139\n",
            "\n",
            "Macro-average quality numbers\n",
            "Precision: 0.7154, Recall: 0.8206, F1-measure: 0.7613\n",
            "\n",
            "Classification Report\n",
            "              precision    recall  f1-score   support\n",
            "\n",
            "           0       0.79      0.89      0.83      1692\n",
            "           1       0.87      0.87      0.87      1226\n",
            "           2       0.77      0.85      0.81      1150\n",
            "           3       0.69      0.88      0.77      1069\n",
            "           4       0.45      0.69      0.55       122\n",
            "           5       0.72      0.76      0.74        45\n",
            "\n",
            "   micro avg       0.77      0.87      0.81      5304\n",
            "   macro avg       0.72      0.82      0.76      5304\n",
            "weighted avg       0.77      0.87      0.82      5304\n",
            " samples avg       0.81      0.89      0.83      5304\n",
            "\n"
          ]
        }
      ],
      "source": [
        "classifier1 = OneVsRestClassifier(SGDClassifier(loss='log', penalty='l2', class_weight='balanced'), n_jobs=-1)\n",
        "classifier1.fit(X_train_multilabel, y_train_multilabel)\n",
        "predictions = classifier1.predict(X_test_multilabel)\n",
        "\n",
        "accuracy = accuracy_score(y_test_multilabel, predictions)\n",
        "hammingloss = hamming_loss(y_test_multilabel,predictions)\n",
        "print(\"Accuracy :\",accuracy)\n",
        "print(\"Hamming loss \",hammingloss)\n",
        "\n",
        "precision = precision_score(y_test_multilabel, predictions, average='micro')\n",
        "recall = recall_score(y_test_multilabel, predictions, average='micro')\n",
        "f1 = f1_score(y_test_multilabel, predictions, average='micro')\n",
        "print(\"\\nMicro-average quality numbers\")\n",
        "print(\"Precision: {:.4f}, Recall: {:.4f}, F1-measure: {:.4f}\".format(precision, recall, f1))\n",
        "eval_metrics[8] = {'Model' : 'SGDClassifier LogLoss', 'Vectorizer' : 'TF-IDF 1-3 Grams', 'Accuracy' : accuracy, 'Hamming loss' : hammingloss, 'Precision' : precision, 'Recall' : recall, 'F1-Score' : f1}\n",
        "\n",
        "precision = precision_score(y_test_multilabel, predictions, average='macro')\n",
        "recall = recall_score(y_test_multilabel, predictions, average='macro')\n",
        "f1 = f1_score(y_test_multilabel, predictions, average='macro')\n",
        "print(\"\\nMacro-average quality numbers\")\n",
        "print(\"Precision: {:.4f}, Recall: {:.4f}, F1-measure: {:.4f}\".format(precision, recall, f1))\n",
        "\n",
        "print(\"\\nClassification Report\")\n",
        "print (classification_report(y_test_multilabel, predictions))"
      ]
    },
    {
      "cell_type": "markdown",
      "metadata": {
        "id": "qATVDA8KVzUR"
      },
      "source": [
        "###ngram_range = (1,4)"
      ]
    },
    {
      "cell_type": "code",
      "execution_count": null,
      "metadata": {
        "colab": {
          "base_uri": "https://localhost:8080/"
        },
        "id": "EvjGyxJxqCgg",
        "outputId": "fc8348d1-96f5-4e29-8301-089f44528cf6"
      },
      "outputs": [
        {
          "name": "stdout",
          "output_type": "stream",
          "text": [
            "Dimensions of train data X: (16777, 267522) Y : (16777, 6)\n",
            "Dimensions of test data X: (4195, 267522) Y: (4195, 6)\n"
          ]
        }
      ],
      "source": [
        "vectorizer = TfidfVectorizer(min_df=0.00009, smooth_idf=True, norm=\"l2\", tokenizer = lambda x: x.split(\" \"), sublinear_tf=False, ngram_range=(1,4))\n",
        "X_train_multilabel = vectorizer.fit_transform(X_train)\n",
        "X_test_multilabel = vectorizer.transform(X_test)\n",
        "print(\"Dimensions of train data X:\",X_train_multilabel.shape, \"Y :\",y_train_multilabel.shape)\n",
        "print(\"Dimensions of test data X:\",X_test_multilabel.shape,\"Y:\",y_test_multilabel.shape)"
      ]
    },
    {
      "cell_type": "markdown",
      "metadata": {
        "id": "T75tSiv90LRt"
      },
      "source": [
        "####Logistic Regression"
      ]
    },
    {
      "cell_type": "code",
      "execution_count": null,
      "metadata": {
        "colab": {
          "base_uri": "https://localhost:8080/"
        },
        "id": "EsH9Ki8rVgBq",
        "outputId": "0cae55cd-3c0a-41ed-aedf-be4b6e4efdd5"
      },
      "outputs": [
        {
          "name": "stdout",
          "output_type": "stream",
          "text": [
            "Accuracy : 0.6302741358760429\n",
            "Hamming loss  0.0808502185141041\n",
            "\n",
            "Micro-average quality numbers\n",
            "Precision: 0.7766, Recall: 0.8652, F1-measure: 0.8185\n",
            "\n",
            "Macro-average quality numbers\n",
            "Precision: 0.7297, Recall: 0.8064, F1-measure: 0.7629\n",
            "\n",
            "Classification Report\n",
            "              precision    recall  f1-score   support\n",
            "\n",
            "           0       0.79      0.89      0.84      1692\n",
            "           1       0.87      0.87      0.87      1226\n",
            "           2       0.78      0.84      0.81      1150\n",
            "           3       0.71      0.88      0.78      1069\n",
            "           4       0.48      0.67      0.56       122\n",
            "           5       0.76      0.69      0.72        45\n",
            "\n",
            "   micro avg       0.78      0.87      0.82      5304\n",
            "   macro avg       0.73      0.81      0.76      5304\n",
            "weighted avg       0.78      0.87      0.82      5304\n",
            " samples avg       0.82      0.89      0.83      5304\n",
            "\n"
          ]
        }
      ],
      "source": [
        "classifier1 = OneVsRestClassifier(LogisticRegression(penalty='l2', class_weight='balanced'), n_jobs=-1)\n",
        "classifier1.fit(X_train_multilabel, y_train_multilabel)\n",
        "predictions = classifier1.predict(X_test_multilabel)\n",
        "\n",
        "accuracy = accuracy_score(y_test_multilabel, predictions)\n",
        "hammingloss = hamming_loss(y_test_multilabel,predictions)\n",
        "print(\"Accuracy :\",accuracy)\n",
        "print(\"Hamming loss \",hammingloss)\n",
        "\n",
        "precision = precision_score(y_test_multilabel, predictions, average='micro')\n",
        "recall = recall_score(y_test_multilabel, predictions, average='micro')\n",
        "f1 = f1_score(y_test_multilabel, predictions, average='micro')\n",
        "print(\"\\nMicro-average quality numbers\")\n",
        "print(\"Precision: {:.4f}, Recall: {:.4f}, F1-measure: {:.4f}\".format(precision, recall, f1))\n",
        "eval_metrics[9] = {'Model' : 'Logistic Regression', 'Vectorizer' : 'TF-IDF 1-4 Grams', 'Accuracy' : accuracy, 'Hamming loss' : hammingloss, 'Precision' : precision, 'Recall' : recall, 'F1-Score' : f1}\n",
        "\n",
        "precision = precision_score(y_test_multilabel, predictions, average='macro')\n",
        "recall = recall_score(y_test_multilabel, predictions, average='macro')\n",
        "f1 = f1_score(y_test_multilabel, predictions, average='macro')\n",
        "print(\"\\nMacro-average quality numbers\")\n",
        "print(\"Precision: {:.4f}, Recall: {:.4f}, F1-measure: {:.4f}\".format(precision, recall, f1))\n",
        "\n",
        "print(\"\\nClassification Report\")\n",
        "print (classification_report(y_test_multilabel, predictions))"
      ]
    },
    {
      "cell_type": "markdown",
      "metadata": {
        "id": "Y60ncJYZ0FvA"
      },
      "source": [
        "####SGDClassifier - Hinge Loss"
      ]
    },
    {
      "cell_type": "code",
      "execution_count": null,
      "metadata": {
        "colab": {
          "base_uri": "https://localhost:8080/"
        },
        "id": "TXXbt9-Y0FvB",
        "outputId": "4d3ac6d2-a74c-4956-8b66-2807dc469b39"
      },
      "outputs": [
        {
          "name": "stdout",
          "output_type": "stream",
          "text": [
            "Accuracy : 0.6531585220500596\n",
            "Hamming loss  0.07572506952721494\n",
            "\n",
            "Micro-average quality numbers\n",
            "Precision: 0.7906, Recall: 0.8714, F1-measure: 0.8291\n",
            "\n",
            "Macro-average quality numbers\n",
            "Precision: 0.7549, Recall: 0.7975, F1-measure: 0.7740\n",
            "\n",
            "Classification Report\n",
            "              precision    recall  f1-score   support\n",
            "\n",
            "           0       0.79      0.90      0.85      1692\n",
            "           1       0.88      0.88      0.88      1226\n",
            "           2       0.79      0.85      0.82      1150\n",
            "           3       0.72      0.87      0.79      1069\n",
            "           4       0.56      0.57      0.56       122\n",
            "           5       0.78      0.71      0.74        45\n",
            "\n",
            "   micro avg       0.79      0.87      0.83      5304\n",
            "   macro avg       0.75      0.80      0.77      5304\n",
            "weighted avg       0.79      0.87      0.83      5304\n",
            " samples avg       0.83      0.89      0.84      5304\n",
            "\n"
          ]
        }
      ],
      "source": [
        "classifier1 = OneVsRestClassifier(SGDClassifier(loss='hinge', penalty='l2', class_weight='balanced'), n_jobs=-1)\n",
        "classifier1.fit(X_train_multilabel, y_train_multilabel)\n",
        "predictions = classifier1.predict(X_test_multilabel)\n",
        "\n",
        "accuracy = accuracy_score(y_test_multilabel, predictions)\n",
        "hammingloss = hamming_loss(y_test_multilabel,predictions)\n",
        "print(\"Accuracy :\",accuracy)\n",
        "print(\"Hamming loss \",hammingloss)\n",
        "\n",
        "precision = precision_score(y_test_multilabel, predictions, average='micro')\n",
        "recall = recall_score(y_test_multilabel, predictions, average='micro')\n",
        "f1 = f1_score(y_test_multilabel, predictions, average='micro')\n",
        "print(\"\\nMicro-average quality numbers\")\n",
        "print(\"Precision: {:.4f}, Recall: {:.4f}, F1-measure: {:.4f}\".format(precision, recall, f1))\n",
        "eval_metrics[10] = {'Model' : 'SGDClassifier HingeLoss', 'Vectorizer' : 'TF-IDF 1-4 Grams', 'Accuracy' : accuracy, 'Hamming loss' : hammingloss, 'Precision' : precision, 'Recall' : recall, 'F1-Score' : f1}\n",
        "\n",
        "precision = precision_score(y_test_multilabel, predictions, average='macro')\n",
        "recall = recall_score(y_test_multilabel, predictions, average='macro')\n",
        "f1 = f1_score(y_test_multilabel, predictions, average='macro')\n",
        "print(\"\\nMacro-average quality numbers\")\n",
        "print(\"Precision: {:.4f}, Recall: {:.4f}, F1-measure: {:.4f}\".format(precision, recall, f1))\n",
        "\n",
        "print(\"\\nClassification Report\")\n",
        "print (classification_report(y_test_multilabel, predictions))"
      ]
    },
    {
      "cell_type": "markdown",
      "metadata": {
        "id": "dBfZ-3sD0Hgk"
      },
      "source": [
        "####SGDClassifier - Log Loss"
      ]
    },
    {
      "cell_type": "code",
      "execution_count": null,
      "metadata": {
        "colab": {
          "base_uri": "https://localhost:8080/"
        },
        "id": "2gf5-wUc0Hgl",
        "outputId": "1e6a2760-80d3-4680-c82b-722f1180bab0"
      },
      "outputs": [
        {
          "name": "stdout",
          "output_type": "stream",
          "text": [
            "Accuracy : 0.6181168057210965\n",
            "Hamming loss  0.08375049662296384\n",
            "\n",
            "Micro-average quality numbers\n",
            "Precision: 0.7660, Recall: 0.8676, F1-measure: 0.8136\n",
            "\n",
            "Macro-average quality numbers\n",
            "Precision: 0.7129, Recall: 0.8249, F1-measure: 0.7608\n",
            "\n",
            "Classification Report\n",
            "              precision    recall  f1-score   support\n",
            "\n",
            "           0       0.79      0.89      0.83      1692\n",
            "           1       0.87      0.87      0.87      1226\n",
            "           2       0.77      0.85      0.81      1150\n",
            "           3       0.69      0.87      0.77      1069\n",
            "           4       0.44      0.71      0.54       122\n",
            "           5       0.72      0.76      0.74        45\n",
            "\n",
            "   micro avg       0.77      0.87      0.81      5304\n",
            "   macro avg       0.71      0.82      0.76      5304\n",
            "weighted avg       0.77      0.87      0.82      5304\n",
            " samples avg       0.81      0.89      0.83      5304\n",
            "\n"
          ]
        }
      ],
      "source": [
        "classifier1 = OneVsRestClassifier(SGDClassifier(loss='log', penalty='l2', class_weight='balanced'), n_jobs=-1)\n",
        "classifier1.fit(X_train_multilabel, y_train_multilabel)\n",
        "predictions = classifier1.predict(X_test_multilabel)\n",
        "\n",
        "accuracy = accuracy_score(y_test_multilabel, predictions)\n",
        "hammingloss = hamming_loss(y_test_multilabel,predictions)\n",
        "print(\"Accuracy :\",accuracy)\n",
        "print(\"Hamming loss \",hammingloss)\n",
        "\n",
        "precision = precision_score(y_test_multilabel, predictions, average='micro')\n",
        "recall = recall_score(y_test_multilabel, predictions, average='micro')\n",
        "f1 = f1_score(y_test_multilabel, predictions, average='micro')\n",
        "print(\"\\nMicro-average quality numbers\")\n",
        "print(\"Precision: {:.4f}, Recall: {:.4f}, F1-measure: {:.4f}\".format(precision, recall, f1))\n",
        "eval_metrics[11] = {'Model' : 'SGDClassifier LogLoss', 'Vectorizer' : 'TF-IDF 1-4 Grams', 'Accuracy' : accuracy, 'Hamming loss' : hammingloss, 'Precision' : precision, 'Recall' : recall, 'F1-Score' : f1}\n",
        "\n",
        "precision = precision_score(y_test_multilabel, predictions, average='macro')\n",
        "recall = recall_score(y_test_multilabel, predictions, average='macro')\n",
        "f1 = f1_score(y_test_multilabel, predictions, average='macro')\n",
        "print(\"\\nMacro-average quality numbers\")\n",
        "print(\"Precision: {:.4f}, Recall: {:.4f}, F1-measure: {:.4f}\".format(precision, recall, f1))\n",
        "\n",
        "print(\"\\nClassification Report\")\n",
        "print (classification_report(y_test_multilabel, predictions))"
      ]
    },
    {
      "cell_type": "markdown",
      "metadata": {
        "id": "doMgbNNWuMqB"
      },
      "source": [
        "###ngram_range = (2,2/Bigrams)"
      ]
    },
    {
      "cell_type": "code",
      "execution_count": null,
      "metadata": {
        "colab": {
          "base_uri": "https://localhost:8080/"
        },
        "id": "uaExaqc_uMqC",
        "outputId": "b32fdffa-50e4-4021-b002-2120e336bc67"
      },
      "outputs": [
        {
          "name": "stdout",
          "output_type": "stream",
          "text": [
            "Dimensions of train data X: (16777, 182635) Y : (16777, 6)\n",
            "Dimensions of test data X: (4195, 182635) Y: (4195, 6)\n"
          ]
        }
      ],
      "source": [
        "vectorizer = TfidfVectorizer(min_df=0.00009, smooth_idf=True, norm=\"l2\", tokenizer = lambda x: x.split(\" \"), sublinear_tf=False, ngram_range=(2,2))\n",
        "X_train_multilabel = vectorizer.fit_transform(X_train)\n",
        "X_test_multilabel = vectorizer.transform(X_test)\n",
        "print(\"Dimensions of train data X:\",X_train_multilabel.shape, \"Y :\",y_train_multilabel.shape)\n",
        "print(\"Dimensions of test data X:\",X_test_multilabel.shape,\"Y:\",y_test_multilabel.shape)"
      ]
    },
    {
      "cell_type": "markdown",
      "metadata": {
        "id": "cypHLqV_uMqC"
      },
      "source": [
        "####Logistic Regression"
      ]
    },
    {
      "cell_type": "code",
      "execution_count": null,
      "metadata": {
        "colab": {
          "base_uri": "https://localhost:8080/"
        },
        "id": "DiK6Xez7uMqD",
        "outputId": "640caf72-1626-40a8-eaa6-2fa4de6fc397"
      },
      "outputs": [
        {
          "name": "stdout",
          "output_type": "stream",
          "text": [
            "Accuracy : 0.6205005959475566\n",
            "Hamming loss  0.08446563369090186\n",
            "\n",
            "Micro-average quality numbers\n",
            "Precision: 0.7972, Recall: 0.8035, F1-measure: 0.8004\n",
            "\n",
            "Macro-average quality numbers\n",
            "Precision: 0.7854, Recall: 0.6072, F1-measure: 0.6371\n",
            "\n",
            "Classification Report\n",
            "              precision    recall  f1-score   support\n",
            "\n",
            "           0       0.78      0.85      0.82      1692\n",
            "           1       0.90      0.84      0.87      1226\n",
            "           2       0.81      0.78      0.79      1150\n",
            "           3       0.72      0.80      0.76      1069\n",
            "           4       0.61      0.16      0.26       122\n",
            "           5       0.90      0.20      0.33        45\n",
            "\n",
            "   micro avg       0.80      0.80      0.80      5304\n",
            "   macro avg       0.79      0.61      0.64      5304\n",
            "weighted avg       0.80      0.80      0.80      5304\n",
            " samples avg       0.79      0.83      0.79      5304\n",
            "\n"
          ]
        }
      ],
      "source": [
        "classifier1 = OneVsRestClassifier(LogisticRegression(penalty='l2', class_weight='balanced'), n_jobs=-1)\n",
        "classifier1.fit(X_train_multilabel, y_train_multilabel)\n",
        "predictions = classifier1.predict(X_test_multilabel)\n",
        "\n",
        "accuracy = accuracy_score(y_test_multilabel, predictions)\n",
        "hammingloss = hamming_loss(y_test_multilabel,predictions)\n",
        "print(\"Accuracy :\",accuracy)\n",
        "print(\"Hamming loss \",hammingloss)\n",
        "\n",
        "precision = precision_score(y_test_multilabel, predictions, average='micro')\n",
        "recall = recall_score(y_test_multilabel, predictions, average='micro')\n",
        "f1 = f1_score(y_test_multilabel, predictions, average='micro')\n",
        "print(\"\\nMicro-average quality numbers\")\n",
        "print(\"Precision: {:.4f}, Recall: {:.4f}, F1-measure: {:.4f}\".format(precision, recall, f1))\n",
        "eval_metrics[12] = {'Model' : 'Logistic Regression', 'Vectorizer' : 'TF-IDF BiGrams', 'Accuracy' : accuracy, 'Hamming loss' : hammingloss, 'Precision' : precision, 'Recall' : recall, 'F1-Score' : f1}\n",
        "\n",
        "precision = precision_score(y_test_multilabel, predictions, average='macro')\n",
        "recall = recall_score(y_test_multilabel, predictions, average='macro')\n",
        "f1 = f1_score(y_test_multilabel, predictions, average='macro')\n",
        "print(\"\\nMacro-average quality numbers\")\n",
        "print(\"Precision: {:.4f}, Recall: {:.4f}, F1-measure: {:.4f}\".format(precision, recall, f1))\n",
        "\n",
        "print(\"\\nClassification Report\")\n",
        "print (classification_report(y_test_multilabel, predictions))"
      ]
    },
    {
      "cell_type": "markdown",
      "metadata": {
        "id": "ZDaYLtY_uMqD"
      },
      "source": [
        "####SGDClassifier - Hinge Loss"
      ]
    },
    {
      "cell_type": "code",
      "execution_count": null,
      "metadata": {
        "colab": {
          "base_uri": "https://localhost:8080/"
        },
        "id": "zJw0rZJMuMqD",
        "outputId": "16f78d52-3464-4391-8a01-5c850e386102"
      },
      "outputs": [
        {
          "name": "stdout",
          "output_type": "stream",
          "text": [
            "Accuracy : 0.6381406436233611\n",
            "Hamming loss  0.0809694080254271\n",
            "\n",
            "Micro-average quality numbers\n",
            "Precision: 0.8034, Recall: 0.8152, F1-measure: 0.8093\n",
            "\n",
            "Macro-average quality numbers\n",
            "Precision: 0.7743, Recall: 0.6216, F1-measure: 0.6508\n",
            "\n",
            "Classification Report\n",
            "              precision    recall  f1-score   support\n",
            "\n",
            "           0       0.79      0.88      0.83      1692\n",
            "           1       0.91      0.84      0.88      1226\n",
            "           2       0.81      0.80      0.80      1150\n",
            "           3       0.73      0.81      0.76      1069\n",
            "           4       0.62      0.16      0.26       122\n",
            "           5       0.79      0.24      0.37        45\n",
            "\n",
            "   micro avg       0.80      0.82      0.81      5304\n",
            "   macro avg       0.77      0.62      0.65      5304\n",
            "weighted avg       0.80      0.82      0.80      5304\n",
            " samples avg       0.81      0.84      0.80      5304\n",
            "\n"
          ]
        }
      ],
      "source": [
        "classifier1 = OneVsRestClassifier(SGDClassifier(loss='hinge', penalty='l2', class_weight='balanced'), n_jobs=-1)\n",
        "classifier1.fit(X_train_multilabel, y_train_multilabel)\n",
        "predictions = classifier1.predict(X_test_multilabel)\n",
        "\n",
        "accuracy = accuracy_score(y_test_multilabel, predictions)\n",
        "hammingloss = hamming_loss(y_test_multilabel,predictions)\n",
        "print(\"Accuracy :\",accuracy)\n",
        "print(\"Hamming loss \",hammingloss)\n",
        "\n",
        "precision = precision_score(y_test_multilabel, predictions, average='micro')\n",
        "recall = recall_score(y_test_multilabel, predictions, average='micro')\n",
        "f1 = f1_score(y_test_multilabel, predictions, average='micro')\n",
        "print(\"\\nMicro-average quality numbers\")\n",
        "print(\"Precision: {:.4f}, Recall: {:.4f}, F1-measure: {:.4f}\".format(precision, recall, f1))\n",
        "eval_metrics[13] = {'Model' : 'SGDClassifier HingeLoss', 'Vectorizer' : 'TF-IDF BiGrams', 'Accuracy' : accuracy, 'Hamming loss' : hammingloss, 'Precision' : precision, 'Recall' : recall, 'F1-Score' : f1}\n",
        "\n",
        "precision = precision_score(y_test_multilabel, predictions, average='macro')\n",
        "recall = recall_score(y_test_multilabel, predictions, average='macro')\n",
        "f1 = f1_score(y_test_multilabel, predictions, average='macro')\n",
        "print(\"\\nMacro-average quality numbers\")\n",
        "print(\"Precision: {:.4f}, Recall: {:.4f}, F1-measure: {:.4f}\".format(precision, recall, f1))\n",
        "\n",
        "print(\"\\nClassification Report\")\n",
        "print (classification_report(y_test_multilabel, predictions))"
      ]
    },
    {
      "cell_type": "markdown",
      "metadata": {
        "id": "gqk9G55luMqE"
      },
      "source": [
        "####SGDClassifier - Log Loss"
      ]
    },
    {
      "cell_type": "code",
      "execution_count": null,
      "metadata": {
        "colab": {
          "base_uri": "https://localhost:8080/"
        },
        "id": "GtGHlyOCuMqE",
        "outputId": "085ffb09-f129-4304-ee58-add02d2803a4"
      },
      "outputs": [
        {
          "name": "stdout",
          "output_type": "stream",
          "text": [
            "Accuracy : 0.6109654350417163\n",
            "Hamming loss  0.08696861342868495\n",
            "\n",
            "Micro-average quality numbers\n",
            "Precision: 0.7879, Recall: 0.8035, F1-measure: 0.7957\n",
            "\n",
            "Macro-average quality numbers\n",
            "Precision: 0.7745, Recall: 0.6258, F1-measure: 0.6566\n",
            "\n",
            "Classification Report\n",
            "              precision    recall  f1-score   support\n",
            "\n",
            "           0       0.78      0.85      0.81      1692\n",
            "           1       0.90      0.84      0.87      1226\n",
            "           2       0.79      0.77      0.78      1150\n",
            "           3       0.71      0.81      0.75      1069\n",
            "           4       0.63      0.24      0.35       122\n",
            "           5       0.85      0.24      0.38        45\n",
            "\n",
            "   micro avg       0.79      0.80      0.80      5304\n",
            "   macro avg       0.77      0.63      0.66      5304\n",
            "weighted avg       0.79      0.80      0.79      5304\n",
            " samples avg       0.79      0.83      0.79      5304\n",
            "\n"
          ]
        }
      ],
      "source": [
        "classifier1 = OneVsRestClassifier(SGDClassifier(loss='log', penalty='l2', class_weight='balanced'), n_jobs=-1)\n",
        "classifier1.fit(X_train_multilabel, y_train_multilabel)\n",
        "predictions = classifier1.predict(X_test_multilabel)\n",
        "\n",
        "accuracy = accuracy_score(y_test_multilabel, predictions)\n",
        "hammingloss = hamming_loss(y_test_multilabel,predictions)\n",
        "print(\"Accuracy :\",accuracy)\n",
        "print(\"Hamming loss \",hammingloss)\n",
        "\n",
        "precision = precision_score(y_test_multilabel, predictions, average='micro')\n",
        "recall = recall_score(y_test_multilabel, predictions, average='micro')\n",
        "f1 = f1_score(y_test_multilabel, predictions, average='micro')\n",
        "print(\"\\nMicro-average quality numbers\")\n",
        "print(\"Precision: {:.4f}, Recall: {:.4f}, F1-measure: {:.4f}\".format(precision, recall, f1))\n",
        "eval_metrics[14] = {'Model' : 'SGDClassifier LogLoss', 'Vectorizer' : 'TF-IDF BiGrams', 'Accuracy' : accuracy, 'Hamming loss' : hammingloss, 'Precision' : precision, 'Recall' : recall, 'F1-Score' : f1}\n",
        "\n",
        "precision = precision_score(y_test_multilabel, predictions, average='macro')\n",
        "recall = recall_score(y_test_multilabel, predictions, average='macro')\n",
        "f1 = f1_score(y_test_multilabel, predictions, average='macro')\n",
        "print(\"\\nMacro-average quality numbers\")\n",
        "print(\"Precision: {:.4f}, Recall: {:.4f}, F1-measure: {:.4f}\".format(precision, recall, f1))\n",
        "\n",
        "print(\"\\nClassification Report\")\n",
        "print (classification_report(y_test_multilabel, predictions))"
      ]
    },
    {
      "cell_type": "markdown",
      "metadata": {
        "id": "U3bJ436muM1g"
      },
      "source": [
        "###ngram_range = (3,3/Tirgrams)"
      ]
    },
    {
      "cell_type": "code",
      "execution_count": null,
      "metadata": {
        "colab": {
          "base_uri": "https://localhost:8080/"
        },
        "id": "jkI7o5eHuM1g",
        "outputId": "7f9c7440-b4b5-4846-f5aa-8090eae15268"
      },
      "outputs": [
        {
          "name": "stdout",
          "output_type": "stream",
          "text": [
            "Dimensions of train data X: (16777, 55210) Y : (16777, 6)\n",
            "Dimensions of test data X: (4195, 55210) Y: (4195, 6)\n"
          ]
        }
      ],
      "source": [
        "vectorizer = TfidfVectorizer(min_df=0.00009, smooth_idf=True, norm=\"l2\", tokenizer = lambda x: x.split(\" \"), sublinear_tf=False, ngram_range=(3,3))\n",
        "X_train_multilabel = vectorizer.fit_transform(X_train)\n",
        "X_test_multilabel = vectorizer.transform(X_test)\n",
        "print(\"Dimensions of train data X:\",X_train_multilabel.shape, \"Y :\",y_train_multilabel.shape)\n",
        "print(\"Dimensions of test data X:\",X_test_multilabel.shape,\"Y:\",y_test_multilabel.shape)"
      ]
    },
    {
      "cell_type": "markdown",
      "metadata": {
        "id": "SxpqMam6uM1h"
      },
      "source": [
        "####Logistic Regression"
      ]
    },
    {
      "cell_type": "code",
      "execution_count": null,
      "metadata": {
        "colab": {
          "base_uri": "https://localhost:8080/"
        },
        "id": "g_itobJBuM1h",
        "outputId": "4cf3a89e-df3f-4946-cecd-63323a375e4e"
      },
      "outputs": [
        {
          "name": "stdout",
          "output_type": "stream",
          "text": [
            "Accuracy : 0.4641239570917759\n",
            "Hamming loss  0.12344060389352404\n",
            "\n",
            "Micro-average quality numbers\n",
            "Precision: 0.7295, Recall: 0.6584, F1-measure: 0.6921\n",
            "\n",
            "Macro-average quality numbers\n",
            "Precision: 0.6204, Recall: 0.5098, F1-measure: 0.5515\n",
            "\n",
            "Classification Report\n",
            "              precision    recall  f1-score   support\n",
            "\n",
            "           0       0.74      0.72      0.73      1692\n",
            "           1       0.81      0.66      0.73      1226\n",
            "           2       0.74      0.62      0.67      1150\n",
            "           3       0.66      0.67      0.66      1069\n",
            "           4       0.39      0.16      0.23       122\n",
            "           5       0.38      0.22      0.28        45\n",
            "\n",
            "   micro avg       0.73      0.66      0.69      5304\n",
            "   macro avg       0.62      0.51      0.55      5304\n",
            "weighted avg       0.73      0.66      0.69      5304\n",
            " samples avg       0.64      0.67      0.63      5304\n",
            "\n"
          ]
        }
      ],
      "source": [
        "classifier1 = OneVsRestClassifier(LogisticRegression(penalty='l2', class_weight='balanced'), n_jobs=-1)\n",
        "classifier1.fit(X_train_multilabel, y_train_multilabel)\n",
        "predictions = classifier1.predict(X_test_multilabel)\n",
        "\n",
        "accuracy = accuracy_score(y_test_multilabel, predictions)\n",
        "hammingloss = hamming_loss(y_test_multilabel,predictions)\n",
        "print(\"Accuracy :\",accuracy)\n",
        "print(\"Hamming loss \",hammingloss)\n",
        "\n",
        "precision = precision_score(y_test_multilabel, predictions, average='micro')\n",
        "recall = recall_score(y_test_multilabel, predictions, average='micro')\n",
        "f1 = f1_score(y_test_multilabel, predictions, average='micro')\n",
        "print(\"\\nMicro-average quality numbers\")\n",
        "print(\"Precision: {:.4f}, Recall: {:.4f}, F1-measure: {:.4f}\".format(precision, recall, f1))\n",
        "eval_metrics[15] = {'Model' : 'Logistic Regression', 'Vectorizer' : 'TF-IDF TriGrams', 'Accuracy' : accuracy, 'Hamming loss' : hammingloss, 'Precision' : precision, 'Recall' : recall, 'F1-Score' : f1}\n",
        "\n",
        "precision = precision_score(y_test_multilabel, predictions, average='macro')\n",
        "recall = recall_score(y_test_multilabel, predictions, average='macro')\n",
        "f1 = f1_score(y_test_multilabel, predictions, average='macro')\n",
        "print(\"\\nMacro-average quality numbers\")\n",
        "print(\"Precision: {:.4f}, Recall: {:.4f}, F1-measure: {:.4f}\".format(precision, recall, f1))\n",
        "\n",
        "print(\"\\nClassification Report\")\n",
        "print (classification_report(y_test_multilabel, predictions))"
      ]
    },
    {
      "cell_type": "markdown",
      "metadata": {
        "id": "xhNGAEu-uM1i"
      },
      "source": [
        "####SGDClassifier - Hinge Loss"
      ]
    },
    {
      "cell_type": "code",
      "execution_count": null,
      "metadata": {
        "colab": {
          "base_uri": "https://localhost:8080/"
        },
        "id": "XfHyPbApuM1i",
        "outputId": "978c47e0-65b3-47b9-d6c0-bebc66008c9d"
      },
      "outputs": [
        {
          "name": "stdout",
          "output_type": "stream",
          "text": [
            "Accuracy : 0.4717520858164482\n",
            "Hamming loss  0.12316249503377036\n",
            "\n",
            "Micro-average quality numbers\n",
            "Precision: 0.7307, Recall: 0.6580, F1-measure: 0.6925\n",
            "\n",
            "Macro-average quality numbers\n",
            "Precision: 0.6027, Recall: 0.5066, F1-measure: 0.5444\n",
            "\n",
            "Classification Report\n",
            "              precision    recall  f1-score   support\n",
            "\n",
            "           0       0.74      0.73      0.74      1692\n",
            "           1       0.82      0.66      0.73      1226\n",
            "           2       0.75      0.60      0.67      1150\n",
            "           3       0.66      0.68      0.67      1069\n",
            "           4       0.33      0.15      0.20       122\n",
            "           5       0.32      0.22      0.26        45\n",
            "\n",
            "   micro avg       0.73      0.66      0.69      5304\n",
            "   macro avg       0.60      0.51      0.54      5304\n",
            "weighted avg       0.73      0.66      0.69      5304\n",
            " samples avg       0.64      0.67      0.64      5304\n",
            "\n"
          ]
        }
      ],
      "source": [
        "classifier1 = OneVsRestClassifier(SGDClassifier(loss='hinge', penalty='l2', class_weight='balanced'), n_jobs=-1)\n",
        "classifier1.fit(X_train_multilabel, y_train_multilabel)\n",
        "predictions = classifier1.predict(X_test_multilabel)\n",
        "\n",
        "accuracy = accuracy_score(y_test_multilabel, predictions)\n",
        "hammingloss = hamming_loss(y_test_multilabel,predictions)\n",
        "print(\"Accuracy :\",accuracy)\n",
        "print(\"Hamming loss \",hammingloss)\n",
        "\n",
        "precision = precision_score(y_test_multilabel, predictions, average='micro')\n",
        "recall = recall_score(y_test_multilabel, predictions, average='micro')\n",
        "f1 = f1_score(y_test_multilabel, predictions, average='micro')\n",
        "print(\"\\nMicro-average quality numbers\")\n",
        "print(\"Precision: {:.4f}, Recall: {:.4f}, F1-measure: {:.4f}\".format(precision, recall, f1))\n",
        "eval_metrics[16] = {'Model' : 'SGDClassifier HingeLoss', 'Vectorizer' : 'TF-IDF TriGrams', 'Accuracy' : accuracy, 'Hamming loss' : hammingloss, 'Precision' : precision, 'Recall' : recall, 'F1-Score' : f1}\n",
        "\n",
        "precision = precision_score(y_test_multilabel, predictions, average='macro')\n",
        "recall = recall_score(y_test_multilabel, predictions, average='macro')\n",
        "f1 = f1_score(y_test_multilabel, predictions, average='macro')\n",
        "print(\"\\nMacro-average quality numbers\")\n",
        "print(\"Precision: {:.4f}, Recall: {:.4f}, F1-measure: {:.4f}\".format(precision, recall, f1))\n",
        "\n",
        "print(\"\\nClassification Report\")\n",
        "print (classification_report(y_test_multilabel, predictions))"
      ]
    },
    {
      "cell_type": "markdown",
      "metadata": {
        "id": "On35MdcDuM1j"
      },
      "source": [
        "####SGDClassifier - Log Loss"
      ]
    },
    {
      "cell_type": "code",
      "execution_count": null,
      "metadata": {
        "colab": {
          "base_uri": "https://localhost:8080/"
        },
        "id": "_98NY9EquM1j",
        "outputId": "9b371aca-49d2-4385-f053-a959704f7280"
      },
      "outputs": [
        {
          "name": "stdout",
          "output_type": "stream",
          "text": [
            "Accuracy : 0.4536352800953516\n",
            "Hamming loss  0.12574493444576879\n",
            "\n",
            "Micro-average quality numbers\n",
            "Precision: 0.7189, Recall: 0.6621, F1-measure: 0.6894\n",
            "\n",
            "Macro-average quality numbers\n",
            "Precision: 0.6000, Recall: 0.5146, F1-measure: 0.5489\n",
            "\n",
            "Classification Report\n",
            "              precision    recall  f1-score   support\n",
            "\n",
            "           0       0.74      0.73      0.73      1692\n",
            "           1       0.80      0.66      0.73      1226\n",
            "           2       0.72      0.60      0.66      1150\n",
            "           3       0.65      0.68      0.67      1069\n",
            "           4       0.31      0.18      0.23       122\n",
            "           5       0.38      0.22      0.28        45\n",
            "\n",
            "   micro avg       0.72      0.66      0.69      5304\n",
            "   macro avg       0.60      0.51      0.55      5304\n",
            "weighted avg       0.72      0.66      0.69      5304\n",
            " samples avg       0.63      0.67      0.63      5304\n",
            "\n"
          ]
        }
      ],
      "source": [
        "classifier1 = OneVsRestClassifier(SGDClassifier(loss='log', penalty='l2', class_weight='balanced'), n_jobs=-1)\n",
        "classifier1.fit(X_train_multilabel, y_train_multilabel)\n",
        "predictions = classifier1.predict(X_test_multilabel)\n",
        "\n",
        "accuracy = accuracy_score(y_test_multilabel, predictions)\n",
        "hammingloss = hamming_loss(y_test_multilabel,predictions)\n",
        "print(\"Accuracy :\",accuracy)\n",
        "print(\"Hamming loss \",hammingloss)\n",
        "\n",
        "precision = precision_score(y_test_multilabel, predictions, average='micro')\n",
        "recall = recall_score(y_test_multilabel, predictions, average='micro')\n",
        "f1 = f1_score(y_test_multilabel, predictions, average='micro')\n",
        "print(\"\\nMicro-average quality numbers\")\n",
        "print(\"Precision: {:.4f}, Recall: {:.4f}, F1-measure: {:.4f}\".format(precision, recall, f1))\n",
        "eval_metrics[17] = {'Model' : 'SGDClassifier LogLoss', 'Vectorizer' : 'TF-IDF TriGrams', 'Accuracy' : accuracy, 'Hamming loss' : hammingloss, 'Precision' : precision, 'Recall' : recall, 'F1-Score' : f1}\n",
        "\n",
        "precision = precision_score(y_test_multilabel, predictions, average='macro')\n",
        "recall = recall_score(y_test_multilabel, predictions, average='macro')\n",
        "f1 = f1_score(y_test_multilabel, predictions, average='macro')\n",
        "print(\"\\nMacro-average quality numbers\")\n",
        "print(\"Precision: {:.4f}, Recall: {:.4f}, F1-measure: {:.4f}\".format(precision, recall, f1))\n",
        "\n",
        "print(\"\\nClassification Report\")\n",
        "print (classification_report(y_test_multilabel, predictions))"
      ]
    },
    {
      "cell_type": "markdown",
      "metadata": {
        "id": "p8jxtlglvKRw"
      },
      "source": [
        "###ngram_range = (4,4)"
      ]
    },
    {
      "cell_type": "code",
      "execution_count": null,
      "metadata": {
        "colab": {
          "base_uri": "https://localhost:8080/"
        },
        "id": "EJGVe6XhvKRx",
        "outputId": "57d3eeca-499f-44ff-8e15-9b383b172c9c"
      },
      "outputs": [
        {
          "name": "stdout",
          "output_type": "stream",
          "text": [
            "Dimensions of train data X: (16777, 15401) Y : (16777, 6)\n",
            "Dimensions of test data X: (4195, 15401) Y: (4195, 6)\n"
          ]
        }
      ],
      "source": [
        "vectorizer = TfidfVectorizer(min_df=0.00009, smooth_idf=True, norm=\"l2\", tokenizer = lambda x: x.split(\" \"), sublinear_tf=False, ngram_range=(4,4))\n",
        "X_train_multilabel = vectorizer.fit_transform(X_train)\n",
        "X_test_multilabel = vectorizer.transform(X_test)\n",
        "print(\"Dimensions of train data X:\",X_train_multilabel.shape, \"Y :\",y_train_multilabel.shape)\n",
        "print(\"Dimensions of test data X:\",X_test_multilabel.shape,\"Y:\",y_test_multilabel.shape)"
      ]
    },
    {
      "cell_type": "markdown",
      "metadata": {
        "id": "WXW49KwjvKRx"
      },
      "source": [
        "####Logistic Regression"
      ]
    },
    {
      "cell_type": "code",
      "execution_count": null,
      "metadata": {
        "colab": {
          "base_uri": "https://localhost:8080/"
        },
        "id": "DdD9Rg6gvKRx",
        "outputId": "d13ee445-90ae-4325-8b3e-4adca3a1cb25"
      },
      "outputs": [
        {
          "name": "stdout",
          "output_type": "stream",
          "text": [
            "Accuracy : 0.19856972586412397\n",
            "Hamming loss  0.17655939610647597\n",
            "\n",
            "Micro-average quality numbers\n",
            "Precision: 0.6534, Recall: 0.3454, F1-measure: 0.4519\n",
            "\n",
            "Macro-average quality numbers\n",
            "Precision: 0.4931, Recall: 0.2713, F1-measure: 0.3472\n",
            "\n",
            "Classification Report\n",
            "              precision    recall  f1-score   support\n",
            "\n",
            "           0       0.73      0.35      0.47      1692\n",
            "           1       0.71      0.33      0.45      1226\n",
            "           2       0.65      0.37      0.47      1150\n",
            "           3       0.62      0.37      0.46      1069\n",
            "           4       0.15      0.10      0.12       122\n",
            "           5       0.11      0.11      0.11        45\n",
            "\n",
            "   micro avg       0.65      0.35      0.45      5304\n",
            "   macro avg       0.49      0.27      0.35      5304\n",
            "weighted avg       0.67      0.35      0.45      5304\n",
            " samples avg       0.31      0.35      0.32      5304\n",
            "\n"
          ]
        }
      ],
      "source": [
        "classifier1 = OneVsRestClassifier(LogisticRegression(penalty='l2', class_weight='balanced'), n_jobs=-1)\n",
        "classifier1.fit(X_train_multilabel, y_train_multilabel)\n",
        "predictions = classifier1.predict(X_test_multilabel)\n",
        "\n",
        "accuracy = accuracy_score(y_test_multilabel, predictions)\n",
        "hammingloss = hamming_loss(y_test_multilabel,predictions)\n",
        "print(\"Accuracy :\",accuracy)\n",
        "print(\"Hamming loss \",hammingloss)\n",
        "\n",
        "precision = precision_score(y_test_multilabel, predictions, average='micro')\n",
        "recall = recall_score(y_test_multilabel, predictions, average='micro')\n",
        "f1 = f1_score(y_test_multilabel, predictions, average='micro')\n",
        "print(\"\\nMicro-average quality numbers\")\n",
        "print(\"Precision: {:.4f}, Recall: {:.4f}, F1-measure: {:.4f}\".format(precision, recall, f1))\n",
        "eval_metrics[18] = {'Model' : 'Logistic Regression', 'Vectorizer' : 'TF-IDF 4 Grams', 'Accuracy' : accuracy, 'Hamming loss' : hammingloss, 'Precision' : precision, 'Recall' : recall, 'F1-Score' : f1}\n",
        "\n",
        "precision = precision_score(y_test_multilabel, predictions, average='macro')\n",
        "recall = recall_score(y_test_multilabel, predictions, average='macro')\n",
        "f1 = f1_score(y_test_multilabel, predictions, average='macro')\n",
        "print(\"\\nMacro-average quality numbers\")\n",
        "print(\"Precision: {:.4f}, Recall: {:.4f}, F1-measure: {:.4f}\".format(precision, recall, f1))\n",
        "\n",
        "print(\"\\nClassification Report\")\n",
        "print (classification_report(y_test_multilabel, predictions))"
      ]
    },
    {
      "cell_type": "markdown",
      "metadata": {
        "id": "NFqYGTpCvKRx"
      },
      "source": [
        "####SGDClassifier - Hinge Loss"
      ]
    },
    {
      "cell_type": "code",
      "execution_count": null,
      "metadata": {
        "colab": {
          "base_uri": "https://localhost:8080/"
        },
        "id": "RvDNJ9IlvKRy",
        "outputId": "7ec78b58-8e07-47d8-c520-250c42f90da8"
      },
      "outputs": [
        {
          "name": "stdout",
          "output_type": "stream",
          "text": [
            "Accuracy : 0.2128724672228844\n",
            "Hamming loss  0.17302344060389352\n",
            "\n",
            "Micro-average quality numbers\n",
            "Precision: 0.6836, Recall: 0.3331, F1-measure: 0.4480\n",
            "\n",
            "Macro-average quality numbers\n",
            "Precision: 0.5219, Recall: 0.2567, F1-measure: 0.3430\n",
            "\n",
            "Classification Report\n",
            "              precision    recall  f1-score   support\n",
            "\n",
            "           0       0.74      0.35      0.48      1692\n",
            "           1       0.75      0.32      0.45      1226\n",
            "           2       0.67      0.35      0.46      1150\n",
            "           3       0.62      0.35      0.44      1069\n",
            "           4       0.21      0.09      0.13       122\n",
            "           5       0.13      0.09      0.11        45\n",
            "\n",
            "   micro avg       0.68      0.33      0.45      5304\n",
            "   macro avg       0.52      0.26      0.34      5304\n",
            "weighted avg       0.69      0.33      0.45      5304\n",
            " samples avg       0.31      0.34      0.31      5304\n",
            "\n"
          ]
        }
      ],
      "source": [
        "classifier1 = OneVsRestClassifier(SGDClassifier(loss='hinge', penalty='l2', class_weight='balanced'), n_jobs=-1)\n",
        "classifier1.fit(X_train_multilabel, y_train_multilabel)\n",
        "predictions = classifier1.predict(X_test_multilabel)\n",
        "\n",
        "accuracy = accuracy_score(y_test_multilabel, predictions)\n",
        "hammingloss = hamming_loss(y_test_multilabel,predictions)\n",
        "print(\"Accuracy :\",accuracy)\n",
        "print(\"Hamming loss \",hammingloss)\n",
        "\n",
        "precision = precision_score(y_test_multilabel, predictions, average='micro')\n",
        "recall = recall_score(y_test_multilabel, predictions, average='micro')\n",
        "f1 = f1_score(y_test_multilabel, predictions, average='micro')\n",
        "print(\"\\nMicro-average quality numbers\")\n",
        "print(\"Precision: {:.4f}, Recall: {:.4f}, F1-measure: {:.4f}\".format(precision, recall, f1))\n",
        "eval_metrics[19] = {'Model' : 'SGDClassifier HingeLoss', 'Vectorizer' : 'TF-IDF 4 Grams', 'Accuracy' : accuracy, 'Hamming loss' : hammingloss, 'Precision' : precision, 'Recall' : recall, 'F1-Score' : f1}\n",
        "\n",
        "precision = precision_score(y_test_multilabel, predictions, average='macro')\n",
        "recall = recall_score(y_test_multilabel, predictions, average='macro')\n",
        "f1 = f1_score(y_test_multilabel, predictions, average='macro')\n",
        "print(\"\\nMacro-average quality numbers\")\n",
        "print(\"Precision: {:.4f}, Recall: {:.4f}, F1-measure: {:.4f}\".format(precision, recall, f1))\n",
        "\n",
        "print(\"\\nClassification Report\")\n",
        "print (classification_report(y_test_multilabel, predictions))"
      ]
    },
    {
      "cell_type": "markdown",
      "metadata": {
        "id": "93GGQRx7vKRy"
      },
      "source": [
        "####SGDClassifier - Log Loss"
      ]
    },
    {
      "cell_type": "code",
      "execution_count": null,
      "metadata": {
        "colab": {
          "base_uri": "https://localhost:8080/"
        },
        "id": "m6PtNO1FvKRy",
        "outputId": "c3c201bd-1695-48a8-8a5f-0dfd615fe89b"
      },
      "outputs": [
        {
          "name": "stdout",
          "output_type": "stream",
          "text": [
            "Accuracy : 0.19165673420738974\n",
            "Hamming loss  0.17854588796185936\n",
            "\n",
            "Micro-average quality numbers\n",
            "Precision: 0.6404, Recall: 0.3482, F1-measure: 0.4511\n",
            "\n",
            "Macro-average quality numbers\n",
            "Precision: 0.4820, Recall: 0.2735, F1-measure: 0.3457\n",
            "\n",
            "Classification Report\n",
            "              precision    recall  f1-score   support\n",
            "\n",
            "           0       0.73      0.35      0.47      1692\n",
            "           1       0.69      0.33      0.45      1226\n",
            "           2       0.63      0.38      0.47      1150\n",
            "           3       0.61      0.37      0.46      1069\n",
            "           4       0.12      0.10      0.11       122\n",
            "           5       0.11      0.11      0.11        45\n",
            "\n",
            "   micro avg       0.64      0.35      0.45      5304\n",
            "   macro avg       0.48      0.27      0.35      5304\n",
            "weighted avg       0.66      0.35      0.45      5304\n",
            " samples avg       0.30      0.35      0.31      5304\n",
            "\n"
          ]
        }
      ],
      "source": [
        "classifier1 = OneVsRestClassifier(SGDClassifier(loss='log', penalty='l2', class_weight='balanced'), n_jobs=-1)\n",
        "classifier1.fit(X_train_multilabel, y_train_multilabel)\n",
        "predictions = classifier1.predict(X_test_multilabel)\n",
        "\n",
        "accuracy = accuracy_score(y_test_multilabel, predictions)\n",
        "hammingloss = hamming_loss(y_test_multilabel,predictions)\n",
        "print(\"Accuracy :\",accuracy)\n",
        "print(\"Hamming loss \",hammingloss)\n",
        "\n",
        "precision = precision_score(y_test_multilabel, predictions, average='micro')\n",
        "recall = recall_score(y_test_multilabel, predictions, average='micro')\n",
        "f1 = f1_score(y_test_multilabel, predictions, average='micro')\n",
        "print(\"\\nMicro-average quality numbers\")\n",
        "print(\"Precision: {:.4f}, Recall: {:.4f}, F1-measure: {:.4f}\".format(precision, recall, f1))\n",
        "eval_metrics[20] = {'Model' : 'SGDClassifier LogLoss', 'Vectorizer' : 'TF-IDF 4 Grams', 'Accuracy' : accuracy, 'Hamming loss' : hammingloss, 'Precision' : precision, 'Recall' : recall, 'F1-Score' : f1}\n",
        "\n",
        "precision = precision_score(y_test_multilabel, predictions, average='macro')\n",
        "recall = recall_score(y_test_multilabel, predictions, average='macro')\n",
        "f1 = f1_score(y_test_multilabel, predictions, average='macro')\n",
        "print(\"\\nMacro-average quality numbers\")\n",
        "print(\"Precision: {:.4f}, Recall: {:.4f}, F1-measure: {:.4f}\".format(precision, recall, f1))\n",
        "\n",
        "print(\"\\nClassification Report\")\n",
        "print (classification_report(y_test_multilabel, predictions))"
      ]
    },
    {
      "cell_type": "markdown",
      "metadata": {
        "id": "g1UDeeP8wbWr"
      },
      "source": [
        "##Modeling Char NGrams"
      ]
    },
    {
      "cell_type": "markdown",
      "metadata": {
        "id": "u8vR7xKAwr7y"
      },
      "source": [
        "###Char Unigram"
      ]
    },
    {
      "cell_type": "code",
      "execution_count": null,
      "metadata": {
        "colab": {
          "base_uri": "https://localhost:8080/"
        },
        "id": "u9JCfuHzwfLP",
        "outputId": "c9a1b040-8874-4939-cc38-b10f5127518b"
      },
      "outputs": [
        {
          "name": "stdout",
          "output_type": "stream",
          "text": [
            "Dimensions of train data X: (16777, 27) Y : (16777, 6)\n",
            "Dimensions of test data X: (4195, 27) Y: (4195, 6)\n"
          ]
        }
      ],
      "source": [
        "vectorizer = TfidfVectorizer(min_df=0.00009, smooth_idf=True, norm=\"l2\", tokenizer = lambda x: x.split(\" \"), sublinear_tf=False, analyzer = 'char', ngram_range=(1,1))\n",
        "X_train_multilabel = vectorizer.fit_transform(X_train)\n",
        "X_test_multilabel = vectorizer.transform(X_test)\n",
        "print(\"Dimensions of train data X:\",X_train_multilabel.shape, \"Y :\",y_train_multilabel.shape)\n",
        "print(\"Dimensions of test data X:\",X_test_multilabel.shape,\"Y:\",y_test_multilabel.shape)"
      ]
    },
    {
      "cell_type": "markdown",
      "metadata": {
        "id": "ovQPBj4swns0"
      },
      "source": [
        "####Logistic Regression"
      ]
    },
    {
      "cell_type": "code",
      "execution_count": null,
      "metadata": {
        "colab": {
          "base_uri": "https://localhost:8080/"
        },
        "id": "wp1aDQFAwns1",
        "outputId": "04f9b638-1116-45dc-f68c-a7cd2b51c110"
      },
      "outputs": [
        {
          "name": "stdout",
          "output_type": "stream",
          "text": [
            "Accuracy : 0.13015494636471991\n",
            "Hamming loss  0.31529598728645214\n",
            "\n",
            "Micro-average quality numbers\n",
            "Precision: 0.3703, Recall: 0.7083, F1-measure: 0.4863\n",
            "\n",
            "Macro-average quality numbers\n",
            "Precision: 0.3449, Recall: 0.7085, F1-measure: 0.4129\n",
            "\n",
            "Classification Report\n",
            "              precision    recall  f1-score   support\n",
            "\n",
            "           0       0.58      0.71      0.64      1692\n",
            "           1       0.45      0.71      0.55      1226\n",
            "           2       0.53      0.67      0.60      1150\n",
            "           3       0.43      0.74      0.54      1069\n",
            "           4       0.06      0.73      0.10       122\n",
            "           5       0.03      0.69      0.05        45\n",
            "\n",
            "   micro avg       0.37      0.71      0.49      5304\n",
            "   macro avg       0.34      0.71      0.41      5304\n",
            "weighted avg       0.49      0.71      0.57      5304\n",
            " samples avg       0.42      0.72      0.50      5304\n",
            "\n"
          ]
        }
      ],
      "source": [
        "# start = datetime.now()\n",
        "classifier1 = OneVsRestClassifier(LogisticRegression(penalty='l2', class_weight='balanced'), n_jobs=-1)\n",
        "classifier1.fit(X_train_multilabel, y_train_multilabel)\n",
        "predictions = classifier1.predict(X_test_multilabel)\n",
        "\n",
        "accuracy = accuracy_score(y_test_multilabel, predictions)\n",
        "hammingloss = hamming_loss(y_test_multilabel,predictions)\n",
        "print(\"Accuracy :\",accuracy)\n",
        "print(\"Hamming loss \",hammingloss)\n",
        "\n",
        "precision = precision_score(y_test_multilabel, predictions, average='micro')\n",
        "recall = recall_score(y_test_multilabel, predictions, average='micro')\n",
        "f1 = f1_score(y_test_multilabel, predictions, average='micro') \n",
        "print(\"\\nMicro-average quality numbers\")\n",
        "print(\"Precision: {:.4f}, Recall: {:.4f}, F1-measure: {:.4f}\".format(precision, recall, f1))\n",
        "eval_metrics[21] = {'Model' : 'Logistic Regression', 'Vectorizer' : 'TF-IDF Char UniGrams', 'Accuracy' : accuracy, 'Hamming loss' : hammingloss, 'Precision' : precision, 'Recall' : recall, 'F1-Score' : f1}\n",
        "\n",
        "precision = precision_score(y_test_multilabel, predictions, average='macro')\n",
        "recall = recall_score(y_test_multilabel, predictions, average='macro')\n",
        "f1 = f1_score(y_test_multilabel, predictions, average='macro') \n",
        "print(\"\\nMacro-average quality numbers\")\n",
        "print(\"Precision: {:.4f}, Recall: {:.4f}, F1-measure: {:.4f}\".format(precision, recall, f1))\n",
        "\n",
        "print(\"\\nClassification Report\")\n",
        "print (classification_report(y_test_multilabel, predictions))\n",
        "# print(\"Time taken to run this cell :\", datetime.now() - start)"
      ]
    },
    {
      "cell_type": "code",
      "execution_count": null,
      "metadata": {
        "id": "zRvUwC0YxPNQ"
      },
      "outputs": [],
      "source": []
    },
    {
      "cell_type": "markdown",
      "metadata": {
        "id": "UXI0StNaxPh4"
      },
      "source": [
        "###Char Bigram"
      ]
    },
    {
      "cell_type": "code",
      "execution_count": null,
      "metadata": {
        "colab": {
          "base_uri": "https://localhost:8080/"
        },
        "id": "738Yae59xPh4",
        "outputId": "b4749f2d-77cb-4e26-d9b8-d621a90aa3ac"
      },
      "outputs": [
        {
          "name": "stdout",
          "output_type": "stream",
          "text": [
            "Dimensions of train data X: (16777, 703) Y : (16777, 6)\n",
            "Dimensions of test data X: (4195, 703) Y: (4195, 6)\n"
          ]
        }
      ],
      "source": [
        "vectorizer = TfidfVectorizer(min_df=0.00009, smooth_idf=True, norm=\"l2\", tokenizer = lambda x: x.split(\" \"), sublinear_tf=False, analyzer = 'char', ngram_range=(2,2))\n",
        "X_train_multilabel = vectorizer.fit_transform(X_train)\n",
        "X_test_multilabel = vectorizer.transform(X_test)\n",
        "print(\"Dimensions of train data X:\",X_train_multilabel.shape, \"Y :\",y_train_multilabel.shape)\n",
        "print(\"Dimensions of test data X:\",X_test_multilabel.shape,\"Y:\",y_test_multilabel.shape)"
      ]
    },
    {
      "cell_type": "markdown",
      "metadata": {
        "id": "rX4GGfeTxPh5"
      },
      "source": [
        "####Logistic Regression"
      ]
    },
    {
      "cell_type": "code",
      "execution_count": null,
      "metadata": {
        "colab": {
          "base_uri": "https://localhost:8080/"
        },
        "id": "9RKQLyu9xPh5",
        "outputId": "b1694e25-f2de-49e8-f6f1-cb515199b1a1"
      },
      "outputs": [
        {
          "name": "stdout",
          "output_type": "stream",
          "text": [
            "Accuracy : 0.4371871275327771\n",
            "Hamming loss  0.14211362733412794\n",
            "\n",
            "Micro-average quality numbers\n",
            "Precision: 0.6223, Recall: 0.8284, F1-measure: 0.7107\n",
            "\n",
            "Macro-average quality numbers\n",
            "Precision: 0.5048, Recall: 0.8046, F1-measure: 0.5761\n",
            "\n",
            "Classification Report\n",
            "              precision    recall  f1-score   support\n",
            "\n",
            "           0       0.74      0.83      0.78      1692\n",
            "           1       0.73      0.84      0.78      1226\n",
            "           2       0.68      0.83      0.75      1150\n",
            "           3       0.62      0.84      0.72      1069\n",
            "           4       0.14      0.70      0.23       122\n",
            "           5       0.12      0.80      0.20        45\n",
            "\n",
            "   micro avg       0.62      0.83      0.71      5304\n",
            "   macro avg       0.50      0.80      0.58      5304\n",
            "weighted avg       0.68      0.83      0.74      5304\n",
            " samples avg       0.69      0.85      0.73      5304\n",
            "\n"
          ]
        }
      ],
      "source": [
        "# start = datetime.now()\n",
        "classifier1 = OneVsRestClassifier(LogisticRegression(penalty='l2', class_weight='balanced'), n_jobs=-1)\n",
        "classifier1.fit(X_train_multilabel, y_train_multilabel)\n",
        "predictions = classifier1.predict(X_test_multilabel)\n",
        "\n",
        "accuracy = accuracy_score(y_test_multilabel, predictions)\n",
        "hammingloss = hamming_loss(y_test_multilabel,predictions)\n",
        "print(\"Accuracy :\",accuracy)\n",
        "print(\"Hamming loss \",hammingloss)\n",
        "\n",
        "precision = precision_score(y_test_multilabel, predictions, average='micro')\n",
        "recall = recall_score(y_test_multilabel, predictions, average='micro')\n",
        "f1 = f1_score(y_test_multilabel, predictions, average='micro') \n",
        "print(\"\\nMicro-average quality numbers\")\n",
        "print(\"Precision: {:.4f}, Recall: {:.4f}, F1-measure: {:.4f}\".format(precision, recall, f1))\n",
        "eval_metrics[22] = {'Model' : 'Logistic Regression', 'Vectorizer' : 'TF-IDF Char BiGrams', 'Accuracy' : accuracy, 'Hamming loss' : hammingloss, 'Precision' : precision, 'Recall' : recall, 'F1-Score' : f1}\n",
        "\n",
        "precision = precision_score(y_test_multilabel, predictions, average='macro')\n",
        "recall = recall_score(y_test_multilabel, predictions, average='macro')\n",
        "f1 = f1_score(y_test_multilabel, predictions, average='macro') \n",
        "print(\"\\nMacro-average quality numbers\")\n",
        "print(\"Precision: {:.4f}, Recall: {:.4f}, F1-measure: {:.4f}\".format(precision, recall, f1))\n",
        "\n",
        "print(\"\\nClassification Report\")\n",
        "print (classification_report(y_test_multilabel, predictions))\n",
        "# print(\"Time taken to run this cell :\", datetime.now() - start)"
      ]
    },
    {
      "cell_type": "markdown",
      "metadata": {
        "id": "dfOSwNhuxQFG"
      },
      "source": [
        "###Char Trigram"
      ]
    },
    {
      "cell_type": "code",
      "execution_count": null,
      "metadata": {
        "colab": {
          "base_uri": "https://localhost:8080/"
        },
        "id": "xkFCTZncxQFG",
        "outputId": "12164a34-d725-4a0c-b066-72fd993a7884"
      },
      "outputs": [
        {
          "name": "stdout",
          "output_type": "stream",
          "text": [
            "Dimensions of train data X: (16777, 8635) Y : (16777, 6)\n",
            "Dimensions of test data X: (4195, 8635) Y: (4195, 6)\n"
          ]
        }
      ],
      "source": [
        "vectorizer = TfidfVectorizer(min_df=0.00009, smooth_idf=True, norm=\"l2\", tokenizer = lambda x: x.split(\" \"), sublinear_tf=False, analyzer = 'char', ngram_range=(3,3))\n",
        "X_train_multilabel = vectorizer.fit_transform(X_train)\n",
        "X_test_multilabel = vectorizer.transform(X_test)\n",
        "print(\"Dimensions of train data X:\",X_train_multilabel.shape, \"Y :\",y_train_multilabel.shape)\n",
        "print(\"Dimensions of test data X:\",X_test_multilabel.shape,\"Y:\",y_test_multilabel.shape)"
      ]
    },
    {
      "cell_type": "markdown",
      "metadata": {
        "id": "ajZGPGcOxQFH"
      },
      "source": [
        "####Logistic Regression"
      ]
    },
    {
      "cell_type": "code",
      "execution_count": null,
      "metadata": {
        "colab": {
          "base_uri": "https://localhost:8080/"
        },
        "id": "mceLI-1mxQFH",
        "outputId": "ca6c9f37-a64f-4298-c1ed-13a0424368b3"
      },
      "outputs": [
        {
          "name": "stdout",
          "output_type": "stream",
          "text": [
            "Accuracy : 0.5914183551847437\n",
            "Hamming loss  0.09276916964640446\n",
            "\n",
            "Micro-average quality numbers\n",
            "Precision: 0.7422, Recall: 0.8577, F1-measure: 0.7958\n",
            "\n",
            "Macro-average quality numbers\n",
            "Precision: 0.6306, Recall: 0.8131, F1-measure: 0.7002\n",
            "\n",
            "Classification Report\n",
            "              precision    recall  f1-score   support\n",
            "\n",
            "           0       0.79      0.86      0.82      1692\n",
            "           1       0.84      0.88      0.86      1226\n",
            "           2       0.73      0.86      0.79      1150\n",
            "           3       0.69      0.86      0.77      1069\n",
            "           4       0.32      0.67      0.44       122\n",
            "           5       0.40      0.76      0.53        45\n",
            "\n",
            "   micro avg       0.74      0.86      0.80      5304\n",
            "   macro avg       0.63      0.81      0.70      5304\n",
            "weighted avg       0.76      0.86      0.80      5304\n",
            " samples avg       0.79      0.88      0.81      5304\n",
            "\n"
          ]
        }
      ],
      "source": [
        "# start = datetime.now()\n",
        "classifier1 = OneVsRestClassifier(LogisticRegression(penalty='l2', class_weight='balanced'), n_jobs=-1)\n",
        "classifier1.fit(X_train_multilabel, y_train_multilabel)\n",
        "predictions = classifier1.predict(X_test_multilabel)\n",
        "\n",
        "accuracy = accuracy_score(y_test_multilabel, predictions)\n",
        "hammingloss = hamming_loss(y_test_multilabel,predictions)\n",
        "print(\"Accuracy :\",accuracy)\n",
        "print(\"Hamming loss \",hammingloss)\n",
        "\n",
        "precision = precision_score(y_test_multilabel, predictions, average='micro')\n",
        "recall = recall_score(y_test_multilabel, predictions, average='micro')\n",
        "f1 = f1_score(y_test_multilabel, predictions, average='micro') \n",
        "print(\"\\nMicro-average quality numbers\")\n",
        "print(\"Precision: {:.4f}, Recall: {:.4f}, F1-measure: {:.4f}\".format(precision, recall, f1))\n",
        "eval_metrics[23] = {'Model' : 'Logistic Regression', 'Vectorizer' : 'TF-IDF Char TriGrams', 'Accuracy' : accuracy, 'Hamming loss' : hammingloss, 'Precision' : precision, 'Recall' : recall, 'F1-Score' : f1}\n",
        "\n",
        "precision = precision_score(y_test_multilabel, predictions, average='macro')\n",
        "recall = recall_score(y_test_multilabel, predictions, average='macro')\n",
        "f1 = f1_score(y_test_multilabel, predictions, average='macro') \n",
        "print(\"\\nMacro-average quality numbers\")\n",
        "print(\"Precision: {:.4f}, Recall: {:.4f}, F1-measure: {:.4f}\".format(precision, recall, f1))\n",
        "\n",
        "print(\"\\nClassification Report\")\n",
        "print (classification_report(y_test_multilabel, predictions))\n",
        "# print(\"Time taken to run this cell :\", datetime.now() - start)"
      ]
    },
    {
      "cell_type": "markdown",
      "metadata": {
        "id": "4iO0fAW9xQT_"
      },
      "source": [
        "###Char 4-gram"
      ]
    },
    {
      "cell_type": "code",
      "execution_count": null,
      "metadata": {
        "colab": {
          "base_uri": "https://localhost:8080/"
        },
        "id": "aCr7uZxlxQUA",
        "outputId": "495aaa16-b366-4a2c-8340-c1ee5034e061"
      },
      "outputs": [
        {
          "name": "stdout",
          "output_type": "stream",
          "text": [
            "Dimensions of train data X: (16777, 41182) Y : (16777, 6)\n",
            "Dimensions of test data X: (4195, 41182) Y: (4195, 6)\n"
          ]
        }
      ],
      "source": [
        "vectorizer = TfidfVectorizer(min_df=0.00009, smooth_idf=True, norm=\"l2\", tokenizer = lambda x: x.split(\" \"), sublinear_tf=False, analyzer = 'char', ngram_range=(4,4))\n",
        "X_train_multilabel = vectorizer.fit_transform(X_train)\n",
        "X_test_multilabel = vectorizer.transform(X_test)\n",
        "print(\"Dimensions of train data X:\",X_train_multilabel.shape, \"Y :\",y_train_multilabel.shape)\n",
        "print(\"Dimensions of test data X:\",X_test_multilabel.shape,\"Y:\",y_test_multilabel.shape)"
      ]
    },
    {
      "cell_type": "markdown",
      "metadata": {
        "id": "4lE2yzSoxQUB"
      },
      "source": [
        "####Logistic Regression"
      ]
    },
    {
      "cell_type": "code",
      "execution_count": null,
      "metadata": {
        "colab": {
          "base_uri": "https://localhost:8080/"
        },
        "id": "BelO44bCxQUB",
        "outputId": "9020e726-5287-4e7c-e328-742b0bab24c2"
      },
      "outputs": [
        {
          "name": "stdout",
          "output_type": "stream",
          "text": [
            "Accuracy : 0.6197854588796186\n",
            "Hamming loss  0.08414779499404053\n",
            "\n",
            "Micro-average quality numbers\n",
            "Precision: 0.7674, Recall: 0.8620, F1-measure: 0.8119\n",
            "\n",
            "Macro-average quality numbers\n",
            "Precision: 0.6866, Recall: 0.8085, F1-measure: 0.7395\n",
            "\n",
            "Classification Report\n",
            "              precision    recall  f1-score   support\n",
            "\n",
            "           0       0.79      0.87      0.83      1692\n",
            "           1       0.86      0.88      0.87      1226\n",
            "           2       0.75      0.85      0.80      1150\n",
            "           3       0.72      0.86      0.78      1069\n",
            "           4       0.42      0.67      0.51       122\n",
            "           5       0.58      0.71      0.64        45\n",
            "\n",
            "   micro avg       0.77      0.86      0.81      5304\n",
            "   macro avg       0.69      0.81      0.74      5304\n",
            "weighted avg       0.77      0.86      0.81      5304\n",
            " samples avg       0.81      0.89      0.82      5304\n",
            "\n"
          ]
        }
      ],
      "source": [
        "# start = datetime.now()\n",
        "classifier1 = OneVsRestClassifier(LogisticRegression(penalty='l2', class_weight='balanced'), n_jobs=-1)\n",
        "classifier1.fit(X_train_multilabel, y_train_multilabel)\n",
        "predictions = classifier1.predict(X_test_multilabel)\n",
        "\n",
        "accuracy = accuracy_score(y_test_multilabel, predictions)\n",
        "hammingloss = hamming_loss(y_test_multilabel,predictions)\n",
        "print(\"Accuracy :\",accuracy)\n",
        "print(\"Hamming loss \",hammingloss)\n",
        "\n",
        "precision = precision_score(y_test_multilabel, predictions, average='micro')\n",
        "recall = recall_score(y_test_multilabel, predictions, average='micro')\n",
        "f1 = f1_score(y_test_multilabel, predictions, average='micro') \n",
        "print(\"\\nMicro-average quality numbers\")\n",
        "print(\"Precision: {:.4f}, Recall: {:.4f}, F1-measure: {:.4f}\".format(precision, recall, f1))\n",
        "eval_metrics[24] = {'Model' : 'Logistic Regression', 'Vectorizer' : 'TF-IDF Char 4-Grams', 'Accuracy' : accuracy, 'Hamming loss' : hammingloss, 'Precision' : precision, 'Recall' : recall, 'F1-Score' : f1}\n",
        "\n",
        "precision = precision_score(y_test_multilabel, predictions, average='macro')\n",
        "recall = recall_score(y_test_multilabel, predictions, average='macro')\n",
        "f1 = f1_score(y_test_multilabel, predictions, average='macro') \n",
        "print(\"\\nMacro-average quality numbers\")\n",
        "print(\"Precision: {:.4f}, Recall: {:.4f}, F1-measure: {:.4f}\".format(precision, recall, f1))\n",
        "\n",
        "print(\"\\nClassification Report\")\n",
        "print (classification_report(y_test_multilabel, predictions))\n",
        "# print(\"Time taken to run this cell :\", datetime.now() - start)"
      ]
    },
    {
      "cell_type": "markdown",
      "metadata": {
        "id": "hyRZARCzxRH7"
      },
      "source": [
        "###Char 5-gram"
      ]
    },
    {
      "cell_type": "code",
      "execution_count": null,
      "metadata": {
        "colab": {
          "base_uri": "https://localhost:8080/"
        },
        "id": "-TZaZliCxRH8",
        "outputId": "ab63a887-b3b6-44a8-9849-61086fb4017f"
      },
      "outputs": [
        {
          "name": "stdout",
          "output_type": "stream",
          "text": [
            "Dimensions of train data X: (16777, 127347) Y : (16777, 6)\n",
            "Dimensions of test data X: (4195, 127347) Y: (4195, 6)\n"
          ]
        }
      ],
      "source": [
        "vectorizer = TfidfVectorizer(min_df=0.00009, smooth_idf=True, norm=\"l2\", tokenizer = lambda x: x.split(\" \"), sublinear_tf=False, analyzer = 'char', ngram_range=(5,5))\n",
        "X_train_multilabel = vectorizer.fit_transform(X_train)\n",
        "X_test_multilabel = vectorizer.transform(X_test)\n",
        "print(\"Dimensions of train data X:\",X_train_multilabel.shape, \"Y :\",y_train_multilabel.shape)\n",
        "print(\"Dimensions of test data X:\",X_test_multilabel.shape,\"Y:\",y_test_multilabel.shape)"
      ]
    },
    {
      "cell_type": "markdown",
      "metadata": {
        "id": "XABqdU-UxRH8"
      },
      "source": [
        "####Logistic Regression"
      ]
    },
    {
      "cell_type": "code",
      "execution_count": null,
      "metadata": {
        "colab": {
          "base_uri": "https://localhost:8080/"
        },
        "id": "eT3SeBpgxRH8",
        "outputId": "cba8a438-76d6-4566-bbd2-dbc9dc2072f1"
      },
      "outputs": [
        {
          "name": "stdout",
          "output_type": "stream",
          "text": [
            "Accuracy : 0.6295589988081048\n",
            "Hamming loss  0.0810885975367501\n",
            "\n",
            "Micro-average quality numbers\n",
            "Precision: 0.7774, Recall: 0.8620, F1-measure: 0.8175\n",
            "\n",
            "Macro-average quality numbers\n",
            "Precision: 0.7250, Recall: 0.8038, F1-measure: 0.7595\n",
            "\n",
            "Classification Report\n",
            "              precision    recall  f1-score   support\n",
            "\n",
            "           0       0.79      0.87      0.83      1692\n",
            "           1       0.87      0.88      0.87      1226\n",
            "           2       0.76      0.86      0.81      1150\n",
            "           3       0.72      0.86      0.78      1069\n",
            "           4       0.46      0.66      0.55       122\n",
            "           5       0.74      0.69      0.71        45\n",
            "\n",
            "   micro avg       0.78      0.86      0.82      5304\n",
            "   macro avg       0.73      0.80      0.76      5304\n",
            "weighted avg       0.78      0.86      0.82      5304\n",
            " samples avg       0.82      0.89      0.83      5304\n",
            "\n"
          ]
        }
      ],
      "source": [
        "# start = datetime.now()\n",
        "classifier1 = OneVsRestClassifier(LogisticRegression(penalty='l2', class_weight='balanced'), n_jobs=-1)\n",
        "classifier1.fit(X_train_multilabel, y_train_multilabel)\n",
        "predictions = classifier1.predict(X_test_multilabel)\n",
        "\n",
        "accuracy = accuracy_score(y_test_multilabel, predictions)\n",
        "hammingloss = hamming_loss(y_test_multilabel,predictions)\n",
        "print(\"Accuracy :\",accuracy)\n",
        "print(\"Hamming loss \",hammingloss)\n",
        "\n",
        "precision = precision_score(y_test_multilabel, predictions, average='micro')\n",
        "recall = recall_score(y_test_multilabel, predictions, average='micro')\n",
        "f1 = f1_score(y_test_multilabel, predictions, average='micro') \n",
        "print(\"\\nMicro-average quality numbers\")\n",
        "print(\"Precision: {:.4f}, Recall: {:.4f}, F1-measure: {:.4f}\".format(precision, recall, f1))\n",
        "eval_metrics[25] = {'Model' : 'Logistic Regression', 'Vectorizer' : 'TF-IDF Char 5-Grams', 'Accuracy' : accuracy, 'Hamming loss' : hammingloss, 'Precision' : precision, 'Recall' : recall, 'F1-Score' : f1}\n",
        "\n",
        "precision = precision_score(y_test_multilabel, predictions, average='macro')\n",
        "recall = recall_score(y_test_multilabel, predictions, average='macro')\n",
        "f1 = f1_score(y_test_multilabel, predictions, average='macro') \n",
        "print(\"\\nMacro-average quality numbers\")\n",
        "print(\"Precision: {:.4f}, Recall: {:.4f}, F1-measure: {:.4f}\".format(precision, recall, f1))\n",
        "\n",
        "print(\"\\nClassification Report\")\n",
        "print (classification_report(y_test_multilabel, predictions))\n",
        "# print(\"Time taken to run this cell :\", datetime.now() - start)"
      ]
    },
    {
      "cell_type": "markdown",
      "metadata": {
        "id": "RwTcnSm8xRV5"
      },
      "source": [
        "###Char 6-gram"
      ]
    },
    {
      "cell_type": "code",
      "execution_count": null,
      "metadata": {
        "colab": {
          "base_uri": "https://localhost:8080/"
        },
        "id": "DPofhmNAxRV6",
        "outputId": "77d5b0a7-2943-4015-ea64-6e10a47e3c68"
      },
      "outputs": [
        {
          "name": "stdout",
          "output_type": "stream",
          "text": [
            "Dimensions of train data X: (16777, 305426) Y : (16777, 6)\n",
            "Dimensions of test data X: (4195, 305426) Y: (4195, 6)\n"
          ]
        }
      ],
      "source": [
        "vectorizer = TfidfVectorizer(min_df=0.00009, smooth_idf=True, norm=\"l2\", tokenizer = lambda x: x.split(\" \"), sublinear_tf=False, analyzer = 'char', ngram_range=(6,6))\n",
        "X_train_multilabel = vectorizer.fit_transform(X_train)\n",
        "X_test_multilabel = vectorizer.transform(X_test)\n",
        "print(\"Dimensions of train data X:\",X_train_multilabel.shape, \"Y :\",y_train_multilabel.shape)\n",
        "print(\"Dimensions of test data X:\",X_test_multilabel.shape,\"Y:\",y_test_multilabel.shape)"
      ]
    },
    {
      "cell_type": "markdown",
      "metadata": {
        "id": "wIIV7NbqxRV8"
      },
      "source": [
        "####Logistic Regression"
      ]
    },
    {
      "cell_type": "code",
      "execution_count": null,
      "metadata": {
        "colab": {
          "base_uri": "https://localhost:8080/"
        },
        "id": "FVeSKvEmxRV9",
        "outputId": "32063c18-5247-4477-9835-2965346f5df2"
      },
      "outputs": [
        {
          "name": "stdout",
          "output_type": "stream",
          "text": [
            "Accuracy : 0.633611442193087\n",
            "Hamming loss  0.0802145411203814\n",
            "\n",
            "Micro-average quality numbers\n",
            "Precision: 0.7831, Recall: 0.8565, F1-measure: 0.8182\n",
            "\n",
            "Macro-average quality numbers\n",
            "Precision: 0.7363, Recall: 0.7899, F1-measure: 0.7589\n",
            "\n",
            "Classification Report\n",
            "              precision    recall  f1-score   support\n",
            "\n",
            "           0       0.80      0.87      0.83      1692\n",
            "           1       0.87      0.87      0.87      1226\n",
            "           2       0.77      0.85      0.81      1150\n",
            "           3       0.73      0.86      0.79      1069\n",
            "           4       0.49      0.65      0.56       122\n",
            "           5       0.76      0.64      0.70        45\n",
            "\n",
            "   micro avg       0.78      0.86      0.82      5304\n",
            "   macro avg       0.74      0.79      0.76      5304\n",
            "weighted avg       0.79      0.86      0.82      5304\n",
            " samples avg       0.82      0.88      0.83      5304\n",
            "\n"
          ]
        }
      ],
      "source": [
        "# start = datetime.now()\n",
        "classifier1 = OneVsRestClassifier(LogisticRegression(penalty='l2', class_weight='balanced'), n_jobs=-1)\n",
        "classifier1.fit(X_train_multilabel, y_train_multilabel)\n",
        "predictions = classifier1.predict(X_test_multilabel)\n",
        "\n",
        "accuracy = accuracy_score(y_test_multilabel, predictions)\n",
        "hammingloss = hamming_loss(y_test_multilabel,predictions)\n",
        "print(\"Accuracy :\",accuracy)\n",
        "print(\"Hamming loss \",hammingloss)\n",
        "\n",
        "precision = precision_score(y_test_multilabel, predictions, average='micro')\n",
        "recall = recall_score(y_test_multilabel, predictions, average='micro')\n",
        "f1 = f1_score(y_test_multilabel, predictions, average='micro') \n",
        "print(\"\\nMicro-average quality numbers\")\n",
        "print(\"Precision: {:.4f}, Recall: {:.4f}, F1-measure: {:.4f}\".format(precision, recall, f1))\n",
        "eval_metrics[26] = {'Model' : 'Logistic Regression', 'Vectorizer' : 'TF-IDF Char 6-Grams', 'Accuracy' : accuracy, 'Hamming loss' : hammingloss, 'Precision' : precision, 'Recall' : recall, 'F1-Score' : f1}\n",
        "\n",
        "precision = precision_score(y_test_multilabel, predictions, average='macro')\n",
        "recall = recall_score(y_test_multilabel, predictions, average='macro')\n",
        "f1 = f1_score(y_test_multilabel, predictions, average='macro') \n",
        "print(\"\\nMacro-average quality numbers\")\n",
        "print(\"Precision: {:.4f}, Recall: {:.4f}, F1-measure: {:.4f}\".format(precision, recall, f1))\n",
        "\n",
        "print(\"\\nClassification Report\")\n",
        "print (classification_report(y_test_multilabel, predictions))\n",
        "# print(\"Time taken to run this cell :\", datetime.now() - start)"
      ]
    },
    {
      "cell_type": "markdown",
      "metadata": {
        "id": "IePXqz79x-Dv"
      },
      "source": [
        "###Char (2,4)grams"
      ]
    },
    {
      "cell_type": "code",
      "execution_count": null,
      "metadata": {
        "colab": {
          "base_uri": "https://localhost:8080/"
        },
        "id": "YBfCrQenx-Dw",
        "outputId": "566a02b1-f168-4baa-a622-c1e7ec018eca"
      },
      "outputs": [
        {
          "name": "stdout",
          "output_type": "stream",
          "text": [
            "Dimensions of train data X: (16777, 50520) Y : (16777, 6)\n",
            "Dimensions of test data X: (4195, 50520) Y: (4195, 6)\n"
          ]
        }
      ],
      "source": [
        "vectorizer = TfidfVectorizer(min_df=0.00009, smooth_idf=True, norm=\"l2\", tokenizer = lambda x: x.split(\" \"), sublinear_tf=False, analyzer = 'char', ngram_range=(2,4))\n",
        "X_train_multilabel = vectorizer.fit_transform(X_train)\n",
        "X_test_multilabel = vectorizer.transform(X_test)\n",
        "print(\"Dimensions of train data X:\",X_train_multilabel.shape, \"Y :\",y_train_multilabel.shape)\n",
        "print(\"Dimensions of test data X:\",X_test_multilabel.shape,\"Y:\",y_test_multilabel.shape)"
      ]
    },
    {
      "cell_type": "markdown",
      "metadata": {
        "id": "DoyXy18jx-Dw"
      },
      "source": [
        "####Logistic Regression"
      ]
    },
    {
      "cell_type": "code",
      "execution_count": null,
      "metadata": {
        "colab": {
          "base_uri": "https://localhost:8080/"
        },
        "id": "3_nMr8bix-Dw",
        "outputId": "7fd90cdb-30a1-4e43-846f-e2087516bf1c"
      },
      "outputs": [
        {
          "name": "stdout",
          "output_type": "stream",
          "text": [
            "Accuracy : 0.6085816448152562\n",
            "Hamming loss  0.08736591179976162\n",
            "\n",
            "Micro-average quality numbers\n",
            "Precision: 0.7572, Recall: 0.8616, F1-measure: 0.8061\n",
            "\n",
            "Macro-average quality numbers\n",
            "Precision: 0.6592, Recall: 0.8141, F1-measure: 0.7227\n",
            "\n",
            "Classification Report\n",
            "              precision    recall  f1-score   support\n",
            "\n",
            "           0       0.79      0.87      0.83      1692\n",
            "           1       0.86      0.88      0.87      1226\n",
            "           2       0.74      0.85      0.79      1150\n",
            "           3       0.71      0.86      0.78      1069\n",
            "           4       0.37      0.66      0.48       122\n",
            "           5       0.49      0.76      0.59        45\n",
            "\n",
            "   micro avg       0.76      0.86      0.81      5304\n",
            "   macro avg       0.66      0.81      0.72      5304\n",
            "weighted avg       0.77      0.86      0.81      5304\n",
            " samples avg       0.80      0.89      0.82      5304\n",
            "\n"
          ]
        }
      ],
      "source": [
        "# start = datetime.now()\n",
        "classifier1 = OneVsRestClassifier(LogisticRegression(penalty='l2', class_weight='balanced'), n_jobs=-1)\n",
        "classifier1.fit(X_train_multilabel, y_train_multilabel)\n",
        "predictions = classifier1.predict(X_test_multilabel)\n",
        "\n",
        "accuracy = accuracy_score(y_test_multilabel, predictions)\n",
        "hammingloss = hamming_loss(y_test_multilabel,predictions)\n",
        "print(\"Accuracy :\",accuracy)\n",
        "print(\"Hamming loss \",hammingloss)\n",
        "\n",
        "precision = precision_score(y_test_multilabel, predictions, average='micro')\n",
        "recall = recall_score(y_test_multilabel, predictions, average='micro')\n",
        "f1 = f1_score(y_test_multilabel, predictions, average='micro') \n",
        "print(\"\\nMicro-average quality numbers\")\n",
        "print(\"Precision: {:.4f}, Recall: {:.4f}, F1-measure: {:.4f}\".format(precision, recall, f1))\n",
        "eval_metrics[27] = {'Model' : 'Logistic Regression', 'Vectorizer' : 'TF-IDF Char (2,4)Grams', 'Accuracy' : accuracy, 'Hamming loss' : hammingloss, 'Precision' : precision, 'Recall' : recall, 'F1-Score' : f1}\n",
        "\n",
        "precision = precision_score(y_test_multilabel, predictions, average='macro')\n",
        "recall = recall_score(y_test_multilabel, predictions, average='macro')\n",
        "f1 = f1_score(y_test_multilabel, predictions, average='macro') \n",
        "print(\"\\nMacro-average quality numbers\")\n",
        "print(\"Precision: {:.4f}, Recall: {:.4f}, F1-measure: {:.4f}\".format(precision, recall, f1))\n",
        "\n",
        "print(\"\\nClassification Report\")\n",
        "print (classification_report(y_test_multilabel, predictions))\n",
        "# print(\"Time taken to run this cell :\", datetime.now() - start)"
      ]
    },
    {
      "cell_type": "markdown",
      "metadata": {
        "id": "WzAYjjlOx-bf"
      },
      "source": [
        "###Char (2,6)grams"
      ]
    },
    {
      "cell_type": "code",
      "execution_count": null,
      "metadata": {
        "colab": {
          "base_uri": "https://localhost:8080/"
        },
        "id": "A0xKeJdqx-bg",
        "outputId": "660db569-6052-48a8-bccc-3cb59fb44157"
      },
      "outputs": [
        {
          "name": "stdout",
          "output_type": "stream",
          "text": [
            "Dimensions of train data X: (16777, 483293) Y : (16777, 6)\n",
            "Dimensions of test data X: (4195, 483293) Y: (4195, 6)\n"
          ]
        }
      ],
      "source": [
        "vectorizer = TfidfVectorizer(min_df=0.00009, smooth_idf=True, norm=\"l2\", tokenizer = lambda x: x.split(\" \"), sublinear_tf=False, analyzer = 'char', ngram_range=(2,6))\n",
        "X_train_multilabel = vectorizer.fit_transform(X_train)\n",
        "X_test_multilabel = vectorizer.transform(X_test)\n",
        "print(\"Dimensions of train data X:\",X_train_multilabel.shape, \"Y :\",y_train_multilabel.shape)\n",
        "print(\"Dimensions of test data X:\",X_test_multilabel.shape,\"Y:\",y_test_multilabel.shape)"
      ]
    },
    {
      "cell_type": "markdown",
      "metadata": {
        "id": "IMeaEhBkx-bg"
      },
      "source": [
        "####Logistic Regression"
      ]
    },
    {
      "cell_type": "code",
      "execution_count": null,
      "metadata": {
        "colab": {
          "base_uri": "https://localhost:8080/"
        },
        "id": "t24ixQKxx-bg",
        "outputId": "0c69092c-18a0-4053-a56b-9e7d429cb079"
      },
      "outputs": [
        {
          "name": "stdout",
          "output_type": "stream",
          "text": [
            "Accuracy : 0.6252681764004767\n",
            "Hamming loss  0.08208184346444179\n",
            "\n",
            "Micro-average quality numbers\n",
            "Precision: 0.7734, Recall: 0.8635, F1-measure: 0.8160\n",
            "\n",
            "Macro-average quality numbers\n",
            "Precision: 0.7107, Recall: 0.8094, F1-measure: 0.7542\n",
            "\n",
            "Classification Report\n",
            "              precision    recall  f1-score   support\n",
            "\n",
            "           0       0.79      0.88      0.83      1692\n",
            "           1       0.87      0.88      0.87      1226\n",
            "           2       0.76      0.86      0.81      1150\n",
            "           3       0.72      0.86      0.78      1069\n",
            "           4       0.45      0.67      0.54       122\n",
            "           5       0.68      0.71      0.70        45\n",
            "\n",
            "   micro avg       0.77      0.86      0.82      5304\n",
            "   macro avg       0.71      0.81      0.75      5304\n",
            "weighted avg       0.78      0.86      0.82      5304\n",
            " samples avg       0.81      0.89      0.83      5304\n",
            "\n"
          ]
        }
      ],
      "source": [
        "# start = datetime.now()\n",
        "classifier1 = OneVsRestClassifier(LogisticRegression(penalty='l2', class_weight='balanced'), n_jobs=-1)\n",
        "classifier1.fit(X_train_multilabel, y_train_multilabel)\n",
        "predictions = classifier1.predict(X_test_multilabel)\n",
        "\n",
        "accuracy = accuracy_score(y_test_multilabel, predictions)\n",
        "hammingloss = hamming_loss(y_test_multilabel,predictions)\n",
        "print(\"Accuracy :\",accuracy)\n",
        "print(\"Hamming loss \",hammingloss)\n",
        "\n",
        "precision = precision_score(y_test_multilabel, predictions, average='micro')\n",
        "recall = recall_score(y_test_multilabel, predictions, average='micro')\n",
        "f1 = f1_score(y_test_multilabel, predictions, average='micro') \n",
        "print(\"\\nMicro-average quality numbers\")\n",
        "print(\"Precision: {:.4f}, Recall: {:.4f}, F1-measure: {:.4f}\".format(precision, recall, f1))\n",
        "eval_metrics[28] = {'Model' : 'Logistic Regression', 'Vectorizer' : 'TF-IDF Char (2,6)Grams', 'Accuracy' : accuracy, 'Hamming loss' : hammingloss, 'Precision' : precision, 'Recall' : recall, 'F1-Score' : f1}\n",
        "\n",
        "precision = precision_score(y_test_multilabel, predictions, average='macro')\n",
        "recall = recall_score(y_test_multilabel, predictions, average='macro')\n",
        "f1 = f1_score(y_test_multilabel, predictions, average='macro') \n",
        "print(\"\\nMacro-average quality numbers\")\n",
        "print(\"Precision: {:.4f}, Recall: {:.4f}, F1-measure: {:.4f}\".format(precision, recall, f1))\n",
        "\n",
        "print(\"\\nClassification Report\")\n",
        "print (classification_report(y_test_multilabel, predictions))\n",
        "# print(\"Time taken to run this cell :\", datetime.now() - start)"
      ]
    },
    {
      "cell_type": "markdown",
      "metadata": {
        "id": "TksHAcImx-uq"
      },
      "source": [
        "###Char (3,4)grams"
      ]
    },
    {
      "cell_type": "code",
      "execution_count": null,
      "metadata": {
        "colab": {
          "base_uri": "https://localhost:8080/"
        },
        "id": "M820eSCcx-ur",
        "outputId": "e3d2078b-a6d2-4a70-95e5-30f480ccb9aa"
      },
      "outputs": [
        {
          "name": "stdout",
          "output_type": "stream",
          "text": [
            "Dimensions of train data X: (16777, 49817) Y : (16777, 6)\n",
            "Dimensions of test data X: (4195, 49817) Y: (4195, 6)\n"
          ]
        }
      ],
      "source": [
        "vectorizer = TfidfVectorizer(min_df=0.00009, smooth_idf=True, norm=\"l2\", tokenizer = lambda x: x.split(\" \"), sublinear_tf=False, analyzer = 'char', ngram_range=(3,4))\n",
        "X_train_multilabel = vectorizer.fit_transform(X_train)\n",
        "X_test_multilabel = vectorizer.transform(X_test)\n",
        "print(\"Dimensions of train data X:\",X_train_multilabel.shape, \"Y :\",y_train_multilabel.shape)\n",
        "print(\"Dimensions of test data X:\",X_test_multilabel.shape,\"Y:\",y_test_multilabel.shape)"
      ]
    },
    {
      "cell_type": "markdown",
      "metadata": {
        "id": "M8C97bD3x-ur"
      },
      "source": [
        "####Logistic Regression"
      ]
    },
    {
      "cell_type": "code",
      "execution_count": null,
      "metadata": {
        "colab": {
          "base_uri": "https://localhost:8080/"
        },
        "id": "VxQN5Mgxx-ur",
        "outputId": "6209d243-d0a4-4e8e-8043-bfb84424f9f7"
      },
      "outputs": [
        {
          "name": "stdout",
          "output_type": "stream",
          "text": [
            "Accuracy : 0.6159713945172824\n",
            "Hamming loss  0.08557806912991657\n",
            "\n",
            "Micro-average quality numbers\n",
            "Precision: 0.7621, Recall: 0.8635, F1-measure: 0.8096\n",
            "\n",
            "Macro-average quality numbers\n",
            "Precision: 0.6690, Recall: 0.8106, F1-measure: 0.7290\n",
            "\n",
            "Classification Report\n",
            "              precision    recall  f1-score   support\n",
            "\n",
            "           0       0.79      0.87      0.83      1692\n",
            "           1       0.86      0.88      0.87      1226\n",
            "           2       0.75      0.86      0.80      1150\n",
            "           3       0.71      0.86      0.78      1069\n",
            "           4       0.40      0.66      0.50       122\n",
            "           5       0.51      0.73      0.60        45\n",
            "\n",
            "   micro avg       0.76      0.86      0.81      5304\n",
            "   macro avg       0.67      0.81      0.73      5304\n",
            "weighted avg       0.77      0.86      0.81      5304\n",
            " samples avg       0.81      0.89      0.82      5304\n",
            "\n"
          ]
        }
      ],
      "source": [
        "# start = datetime.now()\n",
        "classifier1 = OneVsRestClassifier(LogisticRegression(penalty='l2', class_weight='balanced'), n_jobs=-1)\n",
        "classifier1.fit(X_train_multilabel, y_train_multilabel)\n",
        "predictions = classifier1.predict(X_test_multilabel)\n",
        "\n",
        "accuracy = accuracy_score(y_test_multilabel, predictions)\n",
        "hammingloss = hamming_loss(y_test_multilabel,predictions)\n",
        "print(\"Accuracy :\",accuracy)\n",
        "print(\"Hamming loss \",hammingloss)\n",
        "\n",
        "precision = precision_score(y_test_multilabel, predictions, average='micro')\n",
        "recall = recall_score(y_test_multilabel, predictions, average='micro')\n",
        "f1 = f1_score(y_test_multilabel, predictions, average='micro') \n",
        "print(\"\\nMicro-average quality numbers\")\n",
        "print(\"Precision: {:.4f}, Recall: {:.4f}, F1-measure: {:.4f}\".format(precision, recall, f1))\n",
        "eval_metrics[29] = {'Model' : 'Logistic Regression', 'Vectorizer' : 'TF-IDF Char (3,4)Grams', 'Accuracy' : accuracy, 'Hamming loss' : hammingloss, 'Precision' : precision, 'Recall' : recall, 'F1-Score' : f1}\n",
        "\n",
        "precision = precision_score(y_test_multilabel, predictions, average='macro')\n",
        "recall = recall_score(y_test_multilabel, predictions, average='macro')\n",
        "f1 = f1_score(y_test_multilabel, predictions, average='macro') \n",
        "print(\"\\nMacro-average quality numbers\")\n",
        "print(\"Precision: {:.4f}, Recall: {:.4f}, F1-measure: {:.4f}\".format(precision, recall, f1))\n",
        "\n",
        "print(\"\\nClassification Report\")\n",
        "print (classification_report(y_test_multilabel, predictions))\n",
        "# print(\"Time taken to run this cell :\", datetime.now() - start)"
      ]
    },
    {
      "cell_type": "markdown",
      "metadata": {
        "id": "i5IQbbU5x-3i"
      },
      "source": [
        "###Char (3,6)grams"
      ]
    },
    {
      "cell_type": "code",
      "execution_count": null,
      "metadata": {
        "colab": {
          "base_uri": "https://localhost:8080/"
        },
        "id": "Y-F8sgkOx-3j",
        "outputId": "41b81503-4500-475a-a42d-51f011113f53"
      },
      "outputs": [
        {
          "name": "stdout",
          "output_type": "stream",
          "text": [
            "Dimensions of train data X: (16777, 482590) Y : (16777, 6)\n",
            "Dimensions of test data X: (4195, 482590) Y: (4195, 6)\n"
          ]
        }
      ],
      "source": [
        "vectorizer = TfidfVectorizer(min_df=0.00009, smooth_idf=True, norm=\"l2\", tokenizer = lambda x: x.split(\" \"), sublinear_tf=False, analyzer = 'char', ngram_range=(3,6))\n",
        "X_train_multilabel = vectorizer.fit_transform(X_train)\n",
        "X_test_multilabel = vectorizer.transform(X_test)\n",
        "print(\"Dimensions of train data X:\",X_train_multilabel.shape, \"Y :\",y_train_multilabel.shape)\n",
        "print(\"Dimensions of test data X:\",X_test_multilabel.shape,\"Y:\",y_test_multilabel.shape)"
      ]
    },
    {
      "cell_type": "markdown",
      "metadata": {
        "id": "7gMrwDivx-3j"
      },
      "source": [
        "####Logistic Regression"
      ]
    },
    {
      "cell_type": "code",
      "execution_count": null,
      "metadata": {
        "colab": {
          "base_uri": "https://localhost:8080/"
        },
        "id": "HA40GOjcx-3j",
        "outputId": "8873abbe-f056-4010-e945-df7df07d3339"
      },
      "outputs": [
        {
          "name": "stdout",
          "output_type": "stream",
          "text": [
            "Accuracy : 0.6278903456495828\n",
            "Hamming loss  0.08188319427890346\n",
            "\n",
            "Micro-average quality numbers\n",
            "Precision: 0.7747, Recall: 0.8622, F1-measure: 0.8161\n",
            "\n",
            "Macro-average quality numbers\n",
            "Precision: 0.7141, Recall: 0.8061, F1-measure: 0.7549\n",
            "\n",
            "Classification Report\n",
            "              precision    recall  f1-score   support\n",
            "\n",
            "           0       0.79      0.88      0.83      1692\n",
            "           1       0.87      0.88      0.87      1226\n",
            "           2       0.76      0.86      0.81      1150\n",
            "           3       0.72      0.86      0.79      1069\n",
            "           4       0.45      0.66      0.53       122\n",
            "           5       0.70      0.71      0.70        45\n",
            "\n",
            "   micro avg       0.77      0.86      0.82      5304\n",
            "   macro avg       0.71      0.81      0.75      5304\n",
            "weighted avg       0.78      0.86      0.82      5304\n",
            " samples avg       0.81      0.89      0.83      5304\n",
            "\n"
          ]
        }
      ],
      "source": [
        "# start = datetime.now()\n",
        "classifier1 = OneVsRestClassifier(LogisticRegression(penalty='l2', class_weight='balanced'), n_jobs=-1)\n",
        "classifier1.fit(X_train_multilabel, y_train_multilabel)\n",
        "predictions = classifier1.predict(X_test_multilabel)\n",
        "\n",
        "accuracy = accuracy_score(y_test_multilabel, predictions)\n",
        "hammingloss = hamming_loss(y_test_multilabel,predictions)\n",
        "print(\"Accuracy :\",accuracy)\n",
        "print(\"Hamming loss \",hammingloss)\n",
        "\n",
        "precision = precision_score(y_test_multilabel, predictions, average='micro')\n",
        "recall = recall_score(y_test_multilabel, predictions, average='micro')\n",
        "f1 = f1_score(y_test_multilabel, predictions, average='micro') \n",
        "print(\"\\nMicro-average quality numbers\")\n",
        "print(\"Precision: {:.4f}, Recall: {:.4f}, F1-measure: {:.4f}\".format(precision, recall, f1))\n",
        "eval_metrics[30] = {'Model' : 'Logistic Regression', 'Vectorizer' : 'TF-IDF Char (3,6)Grams', 'Accuracy' : accuracy, 'Hamming loss' : hammingloss, 'Precision' : precision, 'Recall' : recall, 'F1-Score' : f1}\n",
        "\n",
        "precision = precision_score(y_test_multilabel, predictions, average='macro')\n",
        "recall = recall_score(y_test_multilabel, predictions, average='macro')\n",
        "f1 = f1_score(y_test_multilabel, predictions, average='macro') \n",
        "print(\"\\nMacro-average quality numbers\")\n",
        "print(\"Precision: {:.4f}, Recall: {:.4f}, F1-measure: {:.4f}\".format(precision, recall, f1))\n",
        "\n",
        "print(\"\\nClassification Report\")\n",
        "print (classification_report(y_test_multilabel, predictions))\n",
        "# print(\"Time taken to run this cell :\", datetime.now() - start)"
      ]
    },
    {
      "cell_type": "markdown",
      "metadata": {
        "id": "TKAmBpz2x_In"
      },
      "source": [
        "###Char (4,6)grams"
      ]
    },
    {
      "cell_type": "code",
      "execution_count": null,
      "metadata": {
        "colab": {
          "base_uri": "https://localhost:8080/"
        },
        "id": "WA23Sy-sx_Io",
        "outputId": "5f227537-611c-49ae-b70d-a45158f322ec"
      },
      "outputs": [
        {
          "name": "stdout",
          "output_type": "stream",
          "text": [
            "Dimensions of train data X: (16777, 473955) Y : (16777, 6)\n",
            "Dimensions of test data X: (4195, 473955) Y: (4195, 6)\n"
          ]
        }
      ],
      "source": [
        "vectorizer = TfidfVectorizer(min_df=0.00009, smooth_idf=True, norm=\"l2\", tokenizer = lambda x: x.split(\" \"), sublinear_tf=False, analyzer = 'char', ngram_range=(4,6))\n",
        "X_train_multilabel = vectorizer.fit_transform(X_train)\n",
        "X_test_multilabel = vectorizer.transform(X_test)\n",
        "print(\"Dimensions of train data X:\",X_train_multilabel.shape, \"Y :\",y_train_multilabel.shape)\n",
        "print(\"Dimensions of test data X:\",X_test_multilabel.shape,\"Y:\",y_test_multilabel.shape)"
      ]
    },
    {
      "cell_type": "markdown",
      "metadata": {
        "id": "81aWfnE3x_Io"
      },
      "source": [
        "####Logistic Regression"
      ]
    },
    {
      "cell_type": "code",
      "execution_count": null,
      "metadata": {
        "colab": {
          "base_uri": "https://localhost:8080/"
        },
        "id": "bMbuErt8x_Ip",
        "outputId": "285bc97c-49a8-423a-d2a8-800d682f2808"
      },
      "outputs": [
        {
          "name": "stdout",
          "output_type": "stream",
          "text": [
            "Accuracy : 0.6300357568533969\n",
            "Hamming loss  0.08124751688518077\n",
            "\n",
            "Micro-average quality numbers\n",
            "Precision: 0.7775, Recall: 0.8609, F1-measure: 0.8170\n",
            "\n",
            "Macro-average quality numbers\n",
            "Precision: 0.7253, Recall: 0.8016, F1-measure: 0.7589\n",
            "\n",
            "Classification Report\n",
            "              precision    recall  f1-score   support\n",
            "\n",
            "           0       0.79      0.87      0.83      1692\n",
            "           1       0.87      0.88      0.87      1226\n",
            "           2       0.76      0.86      0.81      1150\n",
            "           3       0.72      0.86      0.78      1069\n",
            "           4       0.47      0.66      0.54       122\n",
            "           5       0.74      0.69      0.71        45\n",
            "\n",
            "   micro avg       0.78      0.86      0.82      5304\n",
            "   macro avg       0.73      0.80      0.76      5304\n",
            "weighted avg       0.78      0.86      0.82      5304\n",
            " samples avg       0.82      0.89      0.83      5304\n",
            "\n"
          ]
        }
      ],
      "source": [
        "# start = datetime.now()\n",
        "classifier1 = OneVsRestClassifier(LogisticRegression(penalty='l2', class_weight='balanced'), n_jobs=-1)\n",
        "classifier1.fit(X_train_multilabel, y_train_multilabel)\n",
        "predictions = classifier1.predict(X_test_multilabel)\n",
        "\n",
        "accuracy = accuracy_score(y_test_multilabel, predictions)\n",
        "hammingloss = hamming_loss(y_test_multilabel,predictions)\n",
        "print(\"Accuracy :\",accuracy)\n",
        "print(\"Hamming loss \",hammingloss)\n",
        "\n",
        "precision = precision_score(y_test_multilabel, predictions, average='micro')\n",
        "recall = recall_score(y_test_multilabel, predictions, average='micro')\n",
        "f1 = f1_score(y_test_multilabel, predictions, average='micro') \n",
        "print(\"\\nMicro-average quality numbers\")\n",
        "print(\"Precision: {:.4f}, Recall: {:.4f}, F1-measure: {:.4f}\".format(precision, recall, f1))\n",
        "eval_metrics[31] = {'Model' : 'Logistic Regression', 'Vectorizer' : 'TF-IDF Char (4,6)Grams', 'Accuracy' : accuracy, 'Hamming loss' : hammingloss, 'Precision' : precision, 'Recall' : recall, 'F1-Score' : f1}\n",
        "\n",
        "precision = precision_score(y_test_multilabel, predictions, average='macro')\n",
        "recall = recall_score(y_test_multilabel, predictions, average='macro')\n",
        "f1 = f1_score(y_test_multilabel, predictions, average='macro') \n",
        "print(\"\\nMacro-average quality numbers\")\n",
        "print(\"Precision: {:.4f}, Recall: {:.4f}, F1-measure: {:.4f}\".format(precision, recall, f1))\n",
        "\n",
        "print(\"\\nClassification Report\")\n",
        "print (classification_report(y_test_multilabel, predictions))\n",
        "# print(\"Time taken to run this cell :\", datetime.now() - start)"
      ]
    },
    {
      "cell_type": "markdown",
      "metadata": {
        "id": "ya-_w15Ex_jT"
      },
      "source": [
        "###Char (5,6)grams"
      ]
    },
    {
      "cell_type": "code",
      "execution_count": null,
      "metadata": {
        "colab": {
          "base_uri": "https://localhost:8080/"
        },
        "id": "kn8aAnbrx_jU",
        "outputId": "2bca38d9-5261-472a-e36b-eea6a62619f1"
      },
      "outputs": [
        {
          "name": "stdout",
          "output_type": "stream",
          "text": [
            "Dimensions of train data X: (16777, 432773) Y : (16777, 6)\n",
            "Dimensions of test data X: (4195, 432773) Y: (4195, 6)\n"
          ]
        }
      ],
      "source": [
        "vectorizer = TfidfVectorizer(min_df=0.00009, smooth_idf=True, norm=\"l2\", tokenizer = lambda x: x.split(\" \"), sublinear_tf=False, analyzer = 'char', ngram_range=(5,6))\n",
        "X_train_multilabel = vectorizer.fit_transform(X_train)\n",
        "X_test_multilabel = vectorizer.transform(X_test)\n",
        "print(\"Dimensions of train data X:\",X_train_multilabel.shape, \"Y :\",y_train_multilabel.shape)\n",
        "print(\"Dimensions of test data X:\",X_test_multilabel.shape,\"Y:\",y_test_multilabel.shape)"
      ]
    },
    {
      "cell_type": "markdown",
      "metadata": {
        "id": "gFZhVG8ex_jV"
      },
      "source": [
        "####Logistic Regression"
      ]
    },
    {
      "cell_type": "code",
      "execution_count": null,
      "metadata": {
        "colab": {
          "base_uri": "https://localhost:8080/"
        },
        "id": "yaOPIao-x_jV",
        "outputId": "2f1b1827-e582-497c-eaf7-35e48a9f4883"
      },
      "outputs": [
        {
          "name": "stdout",
          "output_type": "stream",
          "text": [
            "Accuracy : 0.6317044100119189\n",
            "Hamming loss  0.08057210965435042\n",
            "\n",
            "Micro-average quality numbers\n",
            "Precision: 0.7801, Recall: 0.8601, F1-measure: 0.8181\n",
            "\n",
            "Macro-average quality numbers\n",
            "Precision: 0.7344, Recall: 0.7975, F1-measure: 0.7615\n",
            "\n",
            "Classification Report\n",
            "              precision    recall  f1-score   support\n",
            "\n",
            "           0       0.79      0.87      0.83      1692\n",
            "           1       0.87      0.87      0.87      1226\n",
            "           2       0.77      0.85      0.81      1150\n",
            "           3       0.72      0.86      0.79      1069\n",
            "           4       0.48      0.66      0.56       122\n",
            "           5       0.77      0.67      0.71        45\n",
            "\n",
            "   micro avg       0.78      0.86      0.82      5304\n",
            "   macro avg       0.73      0.80      0.76      5304\n",
            "weighted avg       0.78      0.86      0.82      5304\n",
            " samples avg       0.82      0.89      0.83      5304\n",
            "\n"
          ]
        }
      ],
      "source": [
        "# start = datetime.now()\n",
        "classifier1 = OneVsRestClassifier(LogisticRegression(penalty='l2', class_weight='balanced'), n_jobs=-1)\n",
        "classifier1.fit(X_train_multilabel, y_train_multilabel)\n",
        "predictions = classifier1.predict(X_test_multilabel)\n",
        "\n",
        "accuracy = accuracy_score(y_test_multilabel, predictions)\n",
        "hammingloss = hamming_loss(y_test_multilabel,predictions)\n",
        "print(\"Accuracy :\",accuracy)\n",
        "print(\"Hamming loss \",hammingloss)\n",
        "\n",
        "precision = precision_score(y_test_multilabel, predictions, average='micro')\n",
        "recall = recall_score(y_test_multilabel, predictions, average='micro')\n",
        "f1 = f1_score(y_test_multilabel, predictions, average='micro') \n",
        "print(\"\\nMicro-average quality numbers\")\n",
        "print(\"Precision: {:.4f}, Recall: {:.4f}, F1-measure: {:.4f}\".format(precision, recall, f1))\n",
        "eval_metrics[32] = {'Model' : 'Logistic Regression', 'Vectorizer' : 'TF-IDF Char (5,6))Grams', 'Accuracy' : accuracy, 'Hamming loss' : hammingloss, 'Precision' : precision, 'Recall' : recall, 'F1-Score' : f1}\n",
        "\n",
        "precision = precision_score(y_test_multilabel, predictions, average='macro')\n",
        "recall = recall_score(y_test_multilabel, predictions, average='macro')\n",
        "f1 = f1_score(y_test_multilabel, predictions, average='macro') \n",
        "print(\"\\nMacro-average quality numbers\")\n",
        "print(\"Precision: {:.4f}, Recall: {:.4f}, F1-measure: {:.4f}\".format(precision, recall, f1))\n",
        "\n",
        "print(\"\\nClassification Report\")\n",
        "print (classification_report(y_test_multilabel, predictions))\n",
        "# print(\"Time taken to run this cell :\", datetime.now() - start)"
      ]
    },
    {
      "cell_type": "markdown",
      "metadata": {
        "id": "NA2_-o5guHQm"
      },
      "source": [
        "##Final Table"
      ]
    },
    {
      "cell_type": "code",
      "execution_count": null,
      "metadata": {
        "id": "xOuG4-h6uJUM"
      },
      "outputs": [],
      "source": [
        "df = pd.DataFrame(eval_metrics)"
      ]
    },
    {
      "cell_type": "code",
      "execution_count": null,
      "metadata": {
        "colab": {
          "base_uri": "https://localhost:8080/",
          "height": 1000
        },
        "id": "XmysKsPhxR64",
        "outputId": "73f84cac-df8c-48a7-aa88-eafa0a340f49"
      },
      "outputs": [
        {
          "data": {
            "text/html": [
              "\n",
              "  <div id=\"df-59a19da5-2303-4e7e-a2d3-1498884447f2\">\n",
              "    <div class=\"colab-df-container\">\n",
              "      <div>\n",
              "<style scoped>\n",
              "    .dataframe tbody tr th:only-of-type {\n",
              "        vertical-align: middle;\n",
              "    }\n",
              "\n",
              "    .dataframe tbody tr th {\n",
              "        vertical-align: top;\n",
              "    }\n",
              "\n",
              "    .dataframe thead th {\n",
              "        text-align: right;\n",
              "    }\n",
              "</style>\n",
              "<table border=\"1\" class=\"dataframe\">\n",
              "  <thead>\n",
              "    <tr style=\"text-align: right;\">\n",
              "      <th></th>\n",
              "      <th>Model</th>\n",
              "      <th>Vectorizer</th>\n",
              "      <th>Accuracy</th>\n",
              "      <th>Hamming loss</th>\n",
              "      <th>Precision</th>\n",
              "      <th>Recall</th>\n",
              "      <th>F1-Score</th>\n",
              "    </tr>\n",
              "  </thead>\n",
              "  <tbody>\n",
              "    <tr>\n",
              "      <th>0</th>\n",
              "      <td>Logistic Regression</td>\n",
              "      <td>TF-IDF 1-1 Grams</td>\n",
              "      <td>0.624791</td>\n",
              "      <td>0.082996</td>\n",
              "      <td>0.770577</td>\n",
              "      <td>0.863122</td>\n",
              "      <td>0.814229</td>\n",
              "    </tr>\n",
              "    <tr>\n",
              "      <th>1</th>\n",
              "      <td>SGDClassifier HingeLoss</td>\n",
              "      <td>TF-IDF 1-1 Grams</td>\n",
              "      <td>0.630513</td>\n",
              "      <td>0.081764</td>\n",
              "      <td>0.771495</td>\n",
              "      <td>0.869532</td>\n",
              "      <td>0.817586</td>\n",
              "    </tr>\n",
              "    <tr>\n",
              "      <th>2</th>\n",
              "      <td>SGDClassifier LogLoss</td>\n",
              "      <td>TF-IDF 1-1 Grams</td>\n",
              "      <td>0.620024</td>\n",
              "      <td>0.083631</td>\n",
              "      <td>0.76752</td>\n",
              "      <td>0.865196</td>\n",
              "      <td>0.813436</td>\n",
              "    </tr>\n",
              "    <tr>\n",
              "      <th>3</th>\n",
              "      <td>Logistic Regression</td>\n",
              "      <td>TF-IDF 1-2 Grams</td>\n",
              "      <td>0.631704</td>\n",
              "      <td>0.08081</td>\n",
              "      <td>0.777683</td>\n",
              "      <td>0.863311</td>\n",
              "      <td>0.818263</td>\n",
              "    </tr>\n",
              "    <tr>\n",
              "      <th>4</th>\n",
              "      <td>SGDClassifier HingeLoss</td>\n",
              "      <td>TF-IDF 1-2 Grams</td>\n",
              "      <td>0.651967</td>\n",
              "      <td>0.076281</td>\n",
              "      <td>0.789528</td>\n",
              "      <td>0.86991</td>\n",
              "      <td>0.827772</td>\n",
              "    </tr>\n",
              "    <tr>\n",
              "      <th>5</th>\n",
              "      <td>SGDClassifier LogLoss</td>\n",
              "      <td>TF-IDF 1-2 Grams</td>\n",
              "      <td>0.621454</td>\n",
              "      <td>0.083155</td>\n",
              "      <td>0.769334</td>\n",
              "      <td>0.86463</td>\n",
              "      <td>0.814203</td>\n",
              "    </tr>\n",
              "    <tr>\n",
              "      <th>6</th>\n",
              "      <td>Logistic Regression</td>\n",
              "      <td>TF-IDF 1-3 Grams</td>\n",
              "      <td>0.63242</td>\n",
              "      <td>0.080493</td>\n",
              "      <td>0.777608</td>\n",
              "      <td>0.865573</td>\n",
              "      <td>0.819236</td>\n",
              "    </tr>\n",
              "    <tr>\n",
              "      <th>7</th>\n",
              "      <td>SGDClassifier HingeLoss</td>\n",
              "      <td>TF-IDF 1-3 Grams</td>\n",
              "      <td>0.651251</td>\n",
              "      <td>0.076242</td>\n",
              "      <td>0.789267</td>\n",
              "      <td>0.870664</td>\n",
              "      <td>0.82797</td>\n",
              "    </tr>\n",
              "    <tr>\n",
              "      <th>8</th>\n",
              "      <td>SGDClassifier LogLoss</td>\n",
              "      <td>TF-IDF 1-3 Grams</td>\n",
              "      <td>0.618832</td>\n",
              "      <td>0.083512</td>\n",
              "      <td>0.76719</td>\n",
              "      <td>0.866704</td>\n",
              "      <td>0.813916</td>\n",
              "    </tr>\n",
              "    <tr>\n",
              "      <th>9</th>\n",
              "      <td>Logistic Regression</td>\n",
              "      <td>TF-IDF 1-4 Grams</td>\n",
              "      <td>0.630274</td>\n",
              "      <td>0.08085</td>\n",
              "      <td>0.776612</td>\n",
              "      <td>0.865196</td>\n",
              "      <td>0.818514</td>\n",
              "    </tr>\n",
              "    <tr>\n",
              "      <th>10</th>\n",
              "      <td>SGDClassifier HingeLoss</td>\n",
              "      <td>TF-IDF 1-4 Grams</td>\n",
              "      <td>0.653159</td>\n",
              "      <td>0.075725</td>\n",
              "      <td>0.790626</td>\n",
              "      <td>0.871418</td>\n",
              "      <td>0.829058</td>\n",
              "    </tr>\n",
              "    <tr>\n",
              "      <th>11</th>\n",
              "      <td>SGDClassifier LogLoss</td>\n",
              "      <td>TF-IDF 1-4 Grams</td>\n",
              "      <td>0.618117</td>\n",
              "      <td>0.08375</td>\n",
              "      <td>0.765979</td>\n",
              "      <td>0.867647</td>\n",
              "      <td>0.813649</td>\n",
              "    </tr>\n",
              "    <tr>\n",
              "      <th>12</th>\n",
              "      <td>Logistic Regression</td>\n",
              "      <td>TF-IDF BiGrams</td>\n",
              "      <td>0.620501</td>\n",
              "      <td>0.084466</td>\n",
              "      <td>0.797232</td>\n",
              "      <td>0.803544</td>\n",
              "      <td>0.800376</td>\n",
              "    </tr>\n",
              "    <tr>\n",
              "      <th>13</th>\n",
              "      <td>SGDClassifier HingeLoss</td>\n",
              "      <td>TF-IDF BiGrams</td>\n",
              "      <td>0.638141</td>\n",
              "      <td>0.080969</td>\n",
              "      <td>0.803419</td>\n",
              "      <td>0.815234</td>\n",
              "      <td>0.809283</td>\n",
              "    </tr>\n",
              "    <tr>\n",
              "      <th>14</th>\n",
              "      <td>SGDClassifier LogLoss</td>\n",
              "      <td>TF-IDF BiGrams</td>\n",
              "      <td>0.610965</td>\n",
              "      <td>0.086969</td>\n",
              "      <td>0.787946</td>\n",
              "      <td>0.803544</td>\n",
              "      <td>0.795669</td>\n",
              "    </tr>\n",
              "    <tr>\n",
              "      <th>15</th>\n",
              "      <td>Logistic Regression</td>\n",
              "      <td>TF-IDF TriGrams</td>\n",
              "      <td>0.464124</td>\n",
              "      <td>0.123441</td>\n",
              "      <td>0.729476</td>\n",
              "      <td>0.658371</td>\n",
              "      <td>0.692102</td>\n",
              "    </tr>\n",
              "    <tr>\n",
              "      <th>16</th>\n",
              "      <td>SGDClassifier HingeLoss</td>\n",
              "      <td>TF-IDF TriGrams</td>\n",
              "      <td>0.471752</td>\n",
              "      <td>0.123162</td>\n",
              "      <td>0.730737</td>\n",
              "      <td>0.657994</td>\n",
              "      <td>0.69246</td>\n",
              "    </tr>\n",
              "    <tr>\n",
              "      <th>17</th>\n",
              "      <td>SGDClassifier LogLoss</td>\n",
              "      <td>TF-IDF TriGrams</td>\n",
              "      <td>0.453635</td>\n",
              "      <td>0.125745</td>\n",
              "      <td>0.718936</td>\n",
              "      <td>0.662142</td>\n",
              "      <td>0.689371</td>\n",
              "    </tr>\n",
              "    <tr>\n",
              "      <th>18</th>\n",
              "      <td>Logistic Regression</td>\n",
              "      <td>TF-IDF 4 Grams</td>\n",
              "      <td>0.19857</td>\n",
              "      <td>0.176559</td>\n",
              "      <td>0.653352</td>\n",
              "      <td>0.3454</td>\n",
              "      <td>0.451899</td>\n",
              "    </tr>\n",
              "    <tr>\n",
              "      <th>19</th>\n",
              "      <td>SGDClassifier HingeLoss</td>\n",
              "      <td>TF-IDF 4 Grams</td>\n",
              "      <td>0.212872</td>\n",
              "      <td>0.173023</td>\n",
              "      <td>0.683559</td>\n",
              "      <td>0.333145</td>\n",
              "      <td>0.447966</td>\n",
              "    </tr>\n",
              "    <tr>\n",
              "      <th>20</th>\n",
              "      <td>SGDClassifier LogLoss</td>\n",
              "      <td>TF-IDF 4 Grams</td>\n",
              "      <td>0.191657</td>\n",
              "      <td>0.178546</td>\n",
              "      <td>0.64043</td>\n",
              "      <td>0.348228</td>\n",
              "      <td>0.451148</td>\n",
              "    </tr>\n",
              "    <tr>\n",
              "      <th>21</th>\n",
              "      <td>Logistic Regression</td>\n",
              "      <td>TF-IDF Char UniGrams</td>\n",
              "      <td>0.130155</td>\n",
              "      <td>0.315296</td>\n",
              "      <td>0.370294</td>\n",
              "      <td>0.708333</td>\n",
              "      <td>0.486343</td>\n",
              "    </tr>\n",
              "    <tr>\n",
              "      <th>22</th>\n",
              "      <td>Logistic Regression</td>\n",
              "      <td>TF-IDF Char BiGrams</td>\n",
              "      <td>0.437187</td>\n",
              "      <td>0.142114</td>\n",
              "      <td>0.622291</td>\n",
              "      <td>0.828431</td>\n",
              "      <td>0.710716</td>\n",
              "    </tr>\n",
              "    <tr>\n",
              "      <th>23</th>\n",
              "      <td>Logistic Regression</td>\n",
              "      <td>TF-IDF Char TriGrams</td>\n",
              "      <td>0.591418</td>\n",
              "      <td>0.092769</td>\n",
              "      <td>0.742209</td>\n",
              "      <td>0.857655</td>\n",
              "      <td>0.795767</td>\n",
              "    </tr>\n",
              "    <tr>\n",
              "      <th>24</th>\n",
              "      <td>Logistic Regression</td>\n",
              "      <td>TF-IDF Char 4-Grams</td>\n",
              "      <td>0.619785</td>\n",
              "      <td>0.084148</td>\n",
              "      <td>0.767372</td>\n",
              "      <td>0.861991</td>\n",
              "      <td>0.811934</td>\n",
              "    </tr>\n",
              "    <tr>\n",
              "      <th>25</th>\n",
              "      <td>Logistic Regression</td>\n",
              "      <td>TF-IDF Char 5-Grams</td>\n",
              "      <td>0.629559</td>\n",
              "      <td>0.081089</td>\n",
              "      <td>0.777419</td>\n",
              "      <td>0.861991</td>\n",
              "      <td>0.817523</td>\n",
              "    </tr>\n",
              "    <tr>\n",
              "      <th>26</th>\n",
              "      <td>Logistic Regression</td>\n",
              "      <td>TF-IDF Char 6-Grams</td>\n",
              "      <td>0.633611</td>\n",
              "      <td>0.080215</td>\n",
              "      <td>0.783141</td>\n",
              "      <td>0.856523</td>\n",
              "      <td>0.81819</td>\n",
              "    </tr>\n",
              "    <tr>\n",
              "      <th>27</th>\n",
              "      <td>Logistic Regression</td>\n",
              "      <td>TF-IDF Char (2,4)Grams</td>\n",
              "      <td>0.608582</td>\n",
              "      <td>0.087366</td>\n",
              "      <td>0.757249</td>\n",
              "      <td>0.861614</td>\n",
              "      <td>0.806068</td>\n",
              "    </tr>\n",
              "    <tr>\n",
              "      <th>28</th>\n",
              "      <td>Logistic Regression</td>\n",
              "      <td>TF-IDF Char (2,6)Grams</td>\n",
              "      <td>0.625268</td>\n",
              "      <td>0.082082</td>\n",
              "      <td>0.773387</td>\n",
              "      <td>0.863499</td>\n",
              "      <td>0.815963</td>\n",
              "    </tr>\n",
              "    <tr>\n",
              "      <th>29</th>\n",
              "      <td>Logistic Regression</td>\n",
              "      <td>TF-IDF Char (3,4)Grams</td>\n",
              "      <td>0.615971</td>\n",
              "      <td>0.085578</td>\n",
              "      <td>0.762063</td>\n",
              "      <td>0.863499</td>\n",
              "      <td>0.809616</td>\n",
              "    </tr>\n",
              "    <tr>\n",
              "      <th>30</th>\n",
              "      <td>Logistic Regression</td>\n",
              "      <td>TF-IDF Char (3,6)Grams</td>\n",
              "      <td>0.62789</td>\n",
              "      <td>0.081883</td>\n",
              "      <td>0.774691</td>\n",
              "      <td>0.862179</td>\n",
              "      <td>0.816097</td>\n",
              "    </tr>\n",
              "    <tr>\n",
              "      <th>31</th>\n",
              "      <td>Logistic Regression</td>\n",
              "      <td>TF-IDF Char (4,6)Grams</td>\n",
              "      <td>0.630036</td>\n",
              "      <td>0.081248</td>\n",
              "      <td>0.777456</td>\n",
              "      <td>0.86086</td>\n",
              "      <td>0.817035</td>\n",
              "    </tr>\n",
              "    <tr>\n",
              "      <th>32</th>\n",
              "      <td>Logistic Regression</td>\n",
              "      <td>TF-IDF Char (5,6))Grams</td>\n",
              "      <td>0.631704</td>\n",
              "      <td>0.080572</td>\n",
              "      <td>0.780096</td>\n",
              "      <td>0.860106</td>\n",
              "      <td>0.818149</td>\n",
              "    </tr>\n",
              "  </tbody>\n",
              "</table>\n",
              "</div>\n",
              "      <button class=\"colab-df-convert\" onclick=\"convertToInteractive('df-59a19da5-2303-4e7e-a2d3-1498884447f2')\"\n",
              "              title=\"Convert this dataframe to an interactive table.\"\n",
              "              style=\"display:none;\">\n",
              "        \n",
              "  <svg xmlns=\"http://www.w3.org/2000/svg\" height=\"24px\"viewBox=\"0 0 24 24\"\n",
              "       width=\"24px\">\n",
              "    <path d=\"M0 0h24v24H0V0z\" fill=\"none\"/>\n",
              "    <path d=\"M18.56 5.44l.94 2.06.94-2.06 2.06-.94-2.06-.94-.94-2.06-.94 2.06-2.06.94zm-11 1L8.5 8.5l.94-2.06 2.06-.94-2.06-.94L8.5 2.5l-.94 2.06-2.06.94zm10 10l.94 2.06.94-2.06 2.06-.94-2.06-.94-.94-2.06-.94 2.06-2.06.94z\"/><path d=\"M17.41 7.96l-1.37-1.37c-.4-.4-.92-.59-1.43-.59-.52 0-1.04.2-1.43.59L10.3 9.45l-7.72 7.72c-.78.78-.78 2.05 0 2.83L4 21.41c.39.39.9.59 1.41.59.51 0 1.02-.2 1.41-.59l7.78-7.78 2.81-2.81c.8-.78.8-2.07 0-2.86zM5.41 20L4 18.59l7.72-7.72 1.47 1.35L5.41 20z\"/>\n",
              "  </svg>\n",
              "      </button>\n",
              "      \n",
              "  <style>\n",
              "    .colab-df-container {\n",
              "      display:flex;\n",
              "      flex-wrap:wrap;\n",
              "      gap: 12px;\n",
              "    }\n",
              "\n",
              "    .colab-df-convert {\n",
              "      background-color: #E8F0FE;\n",
              "      border: none;\n",
              "      border-radius: 50%;\n",
              "      cursor: pointer;\n",
              "      display: none;\n",
              "      fill: #1967D2;\n",
              "      height: 32px;\n",
              "      padding: 0 0 0 0;\n",
              "      width: 32px;\n",
              "    }\n",
              "\n",
              "    .colab-df-convert:hover {\n",
              "      background-color: #E2EBFA;\n",
              "      box-shadow: 0px 1px 2px rgba(60, 64, 67, 0.3), 0px 1px 3px 1px rgba(60, 64, 67, 0.15);\n",
              "      fill: #174EA6;\n",
              "    }\n",
              "\n",
              "    [theme=dark] .colab-df-convert {\n",
              "      background-color: #3B4455;\n",
              "      fill: #D2E3FC;\n",
              "    }\n",
              "\n",
              "    [theme=dark] .colab-df-convert:hover {\n",
              "      background-color: #434B5C;\n",
              "      box-shadow: 0px 1px 3px 1px rgba(0, 0, 0, 0.15);\n",
              "      filter: drop-shadow(0px 1px 2px rgba(0, 0, 0, 0.3));\n",
              "      fill: #FFFFFF;\n",
              "    }\n",
              "  </style>\n",
              "\n",
              "      <script>\n",
              "        const buttonEl =\n",
              "          document.querySelector('#df-59a19da5-2303-4e7e-a2d3-1498884447f2 button.colab-df-convert');\n",
              "        buttonEl.style.display =\n",
              "          google.colab.kernel.accessAllowed ? 'block' : 'none';\n",
              "\n",
              "        async function convertToInteractive(key) {\n",
              "          const element = document.querySelector('#df-59a19da5-2303-4e7e-a2d3-1498884447f2');\n",
              "          const dataTable =\n",
              "            await google.colab.kernel.invokeFunction('convertToInteractive',\n",
              "                                                     [key], {});\n",
              "          if (!dataTable) return;\n",
              "\n",
              "          const docLinkHtml = 'Like what you see? Visit the ' +\n",
              "            '<a target=\"_blank\" href=https://colab.research.google.com/notebooks/data_table.ipynb>data table notebook</a>'\n",
              "            + ' to learn more about interactive tables.';\n",
              "          element.innerHTML = '';\n",
              "          dataTable['output_type'] = 'display_data';\n",
              "          await google.colab.output.renderOutput(dataTable, element);\n",
              "          const docLink = document.createElement('div');\n",
              "          docLink.innerHTML = docLinkHtml;\n",
              "          element.appendChild(docLink);\n",
              "        }\n",
              "      </script>\n",
              "    </div>\n",
              "  </div>\n",
              "  "
            ],
            "text/plain": [
              "                      Model               Vectorizer  Accuracy Hamming loss  \\\n",
              "0       Logistic Regression         TF-IDF 1-1 Grams  0.624791     0.082996   \n",
              "1   SGDClassifier HingeLoss         TF-IDF 1-1 Grams  0.630513     0.081764   \n",
              "2     SGDClassifier LogLoss         TF-IDF 1-1 Grams  0.620024     0.083631   \n",
              "3       Logistic Regression         TF-IDF 1-2 Grams  0.631704      0.08081   \n",
              "4   SGDClassifier HingeLoss         TF-IDF 1-2 Grams  0.651967     0.076281   \n",
              "5     SGDClassifier LogLoss         TF-IDF 1-2 Grams  0.621454     0.083155   \n",
              "6       Logistic Regression         TF-IDF 1-3 Grams   0.63242     0.080493   \n",
              "7   SGDClassifier HingeLoss         TF-IDF 1-3 Grams  0.651251     0.076242   \n",
              "8     SGDClassifier LogLoss         TF-IDF 1-3 Grams  0.618832     0.083512   \n",
              "9       Logistic Regression         TF-IDF 1-4 Grams  0.630274      0.08085   \n",
              "10  SGDClassifier HingeLoss         TF-IDF 1-4 Grams  0.653159     0.075725   \n",
              "11    SGDClassifier LogLoss         TF-IDF 1-4 Grams  0.618117      0.08375   \n",
              "12      Logistic Regression           TF-IDF BiGrams  0.620501     0.084466   \n",
              "13  SGDClassifier HingeLoss           TF-IDF BiGrams  0.638141     0.080969   \n",
              "14    SGDClassifier LogLoss           TF-IDF BiGrams  0.610965     0.086969   \n",
              "15      Logistic Regression          TF-IDF TriGrams  0.464124     0.123441   \n",
              "16  SGDClassifier HingeLoss          TF-IDF TriGrams  0.471752     0.123162   \n",
              "17    SGDClassifier LogLoss          TF-IDF TriGrams  0.453635     0.125745   \n",
              "18      Logistic Regression           TF-IDF 4 Grams   0.19857     0.176559   \n",
              "19  SGDClassifier HingeLoss           TF-IDF 4 Grams  0.212872     0.173023   \n",
              "20    SGDClassifier LogLoss           TF-IDF 4 Grams  0.191657     0.178546   \n",
              "21      Logistic Regression     TF-IDF Char UniGrams  0.130155     0.315296   \n",
              "22      Logistic Regression      TF-IDF Char BiGrams  0.437187     0.142114   \n",
              "23      Logistic Regression     TF-IDF Char TriGrams  0.591418     0.092769   \n",
              "24      Logistic Regression      TF-IDF Char 4-Grams  0.619785     0.084148   \n",
              "25      Logistic Regression      TF-IDF Char 5-Grams  0.629559     0.081089   \n",
              "26      Logistic Regression      TF-IDF Char 6-Grams  0.633611     0.080215   \n",
              "27      Logistic Regression   TF-IDF Char (2,4)Grams  0.608582     0.087366   \n",
              "28      Logistic Regression   TF-IDF Char (2,6)Grams  0.625268     0.082082   \n",
              "29      Logistic Regression   TF-IDF Char (3,4)Grams  0.615971     0.085578   \n",
              "30      Logistic Regression   TF-IDF Char (3,6)Grams   0.62789     0.081883   \n",
              "31      Logistic Regression   TF-IDF Char (4,6)Grams  0.630036     0.081248   \n",
              "32      Logistic Regression  TF-IDF Char (5,6))Grams  0.631704     0.080572   \n",
              "\n",
              "   Precision    Recall  F1-Score  \n",
              "0   0.770577  0.863122  0.814229  \n",
              "1   0.771495  0.869532  0.817586  \n",
              "2    0.76752  0.865196  0.813436  \n",
              "3   0.777683  0.863311  0.818263  \n",
              "4   0.789528   0.86991  0.827772  \n",
              "5   0.769334   0.86463  0.814203  \n",
              "6   0.777608  0.865573  0.819236  \n",
              "7   0.789267  0.870664   0.82797  \n",
              "8    0.76719  0.866704  0.813916  \n",
              "9   0.776612  0.865196  0.818514  \n",
              "10  0.790626  0.871418  0.829058  \n",
              "11  0.765979  0.867647  0.813649  \n",
              "12  0.797232  0.803544  0.800376  \n",
              "13  0.803419  0.815234  0.809283  \n",
              "14  0.787946  0.803544  0.795669  \n",
              "15  0.729476  0.658371  0.692102  \n",
              "16  0.730737  0.657994   0.69246  \n",
              "17  0.718936  0.662142  0.689371  \n",
              "18  0.653352    0.3454  0.451899  \n",
              "19  0.683559  0.333145  0.447966  \n",
              "20   0.64043  0.348228  0.451148  \n",
              "21  0.370294  0.708333  0.486343  \n",
              "22  0.622291  0.828431  0.710716  \n",
              "23  0.742209  0.857655  0.795767  \n",
              "24  0.767372  0.861991  0.811934  \n",
              "25  0.777419  0.861991  0.817523  \n",
              "26  0.783141  0.856523   0.81819  \n",
              "27  0.757249  0.861614  0.806068  \n",
              "28  0.773387  0.863499  0.815963  \n",
              "29  0.762063  0.863499  0.809616  \n",
              "30  0.774691  0.862179  0.816097  \n",
              "31  0.777456   0.86086  0.817035  \n",
              "32  0.780096  0.860106  0.818149  "
            ]
          },
          "execution_count": 87,
          "metadata": {},
          "output_type": "execute_result"
        }
      ],
      "source": [
        "df_T = df.T\n",
        "# print('\\tWord NGrams - Comparing the scores of each models')\n",
        "df_T"
      ]
    },
    {
      "cell_type": "code",
      "execution_count": null,
      "metadata": {
        "colab": {
          "base_uri": "https://localhost:8080/",
          "height": 175
        },
        "id": "R6NS75Eh41uM",
        "outputId": "d18d1160-26c5-4035-cb15-515b5edbd728"
      },
      "outputs": [
        {
          "data": {
            "text/html": [
              "\n",
              "  <div id=\"df-e23cfa4a-b9d1-4e62-bb83-8fa20f296af8\">\n",
              "    <div class=\"colab-df-container\">\n",
              "      <div>\n",
              "<style scoped>\n",
              "    .dataframe tbody tr th:only-of-type {\n",
              "        vertical-align: middle;\n",
              "    }\n",
              "\n",
              "    .dataframe tbody tr th {\n",
              "        vertical-align: top;\n",
              "    }\n",
              "\n",
              "    .dataframe thead th {\n",
              "        text-align: right;\n",
              "    }\n",
              "</style>\n",
              "<table border=\"1\" class=\"dataframe\">\n",
              "  <thead>\n",
              "    <tr style=\"text-align: right;\">\n",
              "      <th></th>\n",
              "      <th>Precision</th>\n",
              "      <th>Recall</th>\n",
              "      <th>F1-Score</th>\n",
              "    </tr>\n",
              "  </thead>\n",
              "  <tbody>\n",
              "    <tr>\n",
              "      <th>count</th>\n",
              "      <td>33.000000</td>\n",
              "      <td>33.000000</td>\n",
              "      <td>33.000000</td>\n",
              "    </tr>\n",
              "    <tr>\n",
              "      <th>unique</th>\n",
              "      <td>33.000000</td>\n",
              "      <td>29.000000</td>\n",
              "      <td>33.000000</td>\n",
              "    </tr>\n",
              "    <tr>\n",
              "      <th>top</th>\n",
              "      <td>0.770577</td>\n",
              "      <td>0.865196</td>\n",
              "      <td>0.814229</td>\n",
              "    </tr>\n",
              "    <tr>\n",
              "      <th>freq</th>\n",
              "      <td>1.000000</td>\n",
              "      <td>2.000000</td>\n",
              "      <td>1.000000</td>\n",
              "    </tr>\n",
              "  </tbody>\n",
              "</table>\n",
              "</div>\n",
              "      <button class=\"colab-df-convert\" onclick=\"convertToInteractive('df-e23cfa4a-b9d1-4e62-bb83-8fa20f296af8')\"\n",
              "              title=\"Convert this dataframe to an interactive table.\"\n",
              "              style=\"display:none;\">\n",
              "        \n",
              "  <svg xmlns=\"http://www.w3.org/2000/svg\" height=\"24px\"viewBox=\"0 0 24 24\"\n",
              "       width=\"24px\">\n",
              "    <path d=\"M0 0h24v24H0V0z\" fill=\"none\"/>\n",
              "    <path d=\"M18.56 5.44l.94 2.06.94-2.06 2.06-.94-2.06-.94-.94-2.06-.94 2.06-2.06.94zm-11 1L8.5 8.5l.94-2.06 2.06-.94-2.06-.94L8.5 2.5l-.94 2.06-2.06.94zm10 10l.94 2.06.94-2.06 2.06-.94-2.06-.94-.94-2.06-.94 2.06-2.06.94z\"/><path d=\"M17.41 7.96l-1.37-1.37c-.4-.4-.92-.59-1.43-.59-.52 0-1.04.2-1.43.59L10.3 9.45l-7.72 7.72c-.78.78-.78 2.05 0 2.83L4 21.41c.39.39.9.59 1.41.59.51 0 1.02-.2 1.41-.59l7.78-7.78 2.81-2.81c.8-.78.8-2.07 0-2.86zM5.41 20L4 18.59l7.72-7.72 1.47 1.35L5.41 20z\"/>\n",
              "  </svg>\n",
              "      </button>\n",
              "      \n",
              "  <style>\n",
              "    .colab-df-container {\n",
              "      display:flex;\n",
              "      flex-wrap:wrap;\n",
              "      gap: 12px;\n",
              "    }\n",
              "\n",
              "    .colab-df-convert {\n",
              "      background-color: #E8F0FE;\n",
              "      border: none;\n",
              "      border-radius: 50%;\n",
              "      cursor: pointer;\n",
              "      display: none;\n",
              "      fill: #1967D2;\n",
              "      height: 32px;\n",
              "      padding: 0 0 0 0;\n",
              "      width: 32px;\n",
              "    }\n",
              "\n",
              "    .colab-df-convert:hover {\n",
              "      background-color: #E2EBFA;\n",
              "      box-shadow: 0px 1px 2px rgba(60, 64, 67, 0.3), 0px 1px 3px 1px rgba(60, 64, 67, 0.15);\n",
              "      fill: #174EA6;\n",
              "    }\n",
              "\n",
              "    [theme=dark] .colab-df-convert {\n",
              "      background-color: #3B4455;\n",
              "      fill: #D2E3FC;\n",
              "    }\n",
              "\n",
              "    [theme=dark] .colab-df-convert:hover {\n",
              "      background-color: #434B5C;\n",
              "      box-shadow: 0px 1px 3px 1px rgba(0, 0, 0, 0.15);\n",
              "      filter: drop-shadow(0px 1px 2px rgba(0, 0, 0, 0.3));\n",
              "      fill: #FFFFFF;\n",
              "    }\n",
              "  </style>\n",
              "\n",
              "      <script>\n",
              "        const buttonEl =\n",
              "          document.querySelector('#df-e23cfa4a-b9d1-4e62-bb83-8fa20f296af8 button.colab-df-convert');\n",
              "        buttonEl.style.display =\n",
              "          google.colab.kernel.accessAllowed ? 'block' : 'none';\n",
              "\n",
              "        async function convertToInteractive(key) {\n",
              "          const element = document.querySelector('#df-e23cfa4a-b9d1-4e62-bb83-8fa20f296af8');\n",
              "          const dataTable =\n",
              "            await google.colab.kernel.invokeFunction('convertToInteractive',\n",
              "                                                     [key], {});\n",
              "          if (!dataTable) return;\n",
              "\n",
              "          const docLinkHtml = 'Like what you see? Visit the ' +\n",
              "            '<a target=\"_blank\" href=https://colab.research.google.com/notebooks/data_table.ipynb>data table notebook</a>'\n",
              "            + ' to learn more about interactive tables.';\n",
              "          element.innerHTML = '';\n",
              "          dataTable['output_type'] = 'display_data';\n",
              "          await google.colab.output.renderOutput(dataTable, element);\n",
              "          const docLink = document.createElement('div');\n",
              "          docLink.innerHTML = docLinkHtml;\n",
              "          element.appendChild(docLink);\n",
              "        }\n",
              "      </script>\n",
              "    </div>\n",
              "  </div>\n",
              "  "
            ],
            "text/plain": [
              "        Precision     Recall   F1-Score\n",
              "count   33.000000  33.000000  33.000000\n",
              "unique  33.000000  29.000000  33.000000\n",
              "top      0.770577   0.865196   0.814229\n",
              "freq     1.000000   2.000000   1.000000"
            ]
          },
          "execution_count": 93,
          "metadata": {},
          "output_type": "execute_result"
        }
      ],
      "source": [
        "df_T[['Precision', 'Recall', 'F1-Score']].describe()"
      ]
    },
    {
      "cell_type": "code",
      "execution_count": null,
      "metadata": {
        "colab": {
          "base_uri": "https://localhost:8080/"
        },
        "id": "ugSF4Sjz6UJF",
        "outputId": "4ac7e209-0d26-497f-fcc4-6f9e331f9201"
      },
      "outputs": [
        {
          "name": "stdout",
          "output_type": "stream",
          "text": [
            "0.8034188034188035 0.8714177978883861 0.8290582959641255\n"
          ]
        }
      ],
      "source": [
        "print(max(df_T['Precision']), max(df_T['Recall']), max(df_T['F1-Score']))"
      ]
    },
    {
      "cell_type": "markdown",
      "metadata": {
        "id": "SZw1gNUgQXbe"
      },
      "source": [
        "#Word2Vec Vectorization"
      ]
    },
    {
      "cell_type": "markdown",
      "metadata": {
        "id": "txVAzDngxtUf"
      },
      "source": [
        "##**We can try using the deep learing models using the Word2Vec vectorization for the Topic Modeling**"
      ]
    }
  ],
  "metadata": {
    "colab": {
      "name": "MultiLabelClassification.ipynb",
      "provenance": []
    },
    "kernelspec": {
      "display_name": "Python 3.9.12 64-bit",
      "language": "python",
      "name": "python3"
    },
    "language_info": {
      "codemirror_mode": {
        "name": "ipython",
        "version": 3
      },
      "file_extension": ".py",
      "mimetype": "text/x-python",
      "name": "python",
      "nbconvert_exporter": "python",
      "pygments_lexer": "ipython3",
      "version": "3.9.12"
    },
    "vscode": {
      "interpreter": {
        "hash": "491087cb93853b3223ceecd3eaf02cbe146eb9b2fde0f129c3f4378ec7d95feb"
      }
    }
  },
  "nbformat": 4,
  "nbformat_minor": 0
}
